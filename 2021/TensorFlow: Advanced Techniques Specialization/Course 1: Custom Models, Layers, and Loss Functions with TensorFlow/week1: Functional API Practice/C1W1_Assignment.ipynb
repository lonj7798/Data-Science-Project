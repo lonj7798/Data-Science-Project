{
 "cells": [
  {
   "cell_type": "markdown",
   "metadata": {
    "colab_type": "text",
    "id": "ZL_6GK8qX35J"
   },
   "source": [
    "\n",
    "\n",
    "# Week 1: Multiple Output Models using the Keras Functional API\n",
    "\n",
    "Welcome to the first programming assignment of the course! Your task will be to use the Keras functional API to train a model to predict two outputs. For this lab, you will use the **[Wine Quality Dataset](https://archive.ics.uci.edu/ml/datasets/Wine+Quality)** from the **UCI machine learning repository**. It has separate datasets for red wine and white wine.\n",
    "\n",
    "Normally, the wines are classified into one of the quality ratings specified in the attributes. In this exercise, you will combine the two datasets to predict the wine quality and whether the wine is red or white solely from the attributes. \n",
    "\n",
    "You will model wine quality estimations as a regression problem and wine type detection as a binary classification problem.\n",
    "\n",
    "#### Please complete sections that are marked **(TODO)**"
   ]
  },
  {
   "cell_type": "markdown",
   "metadata": {
    "colab_type": "text",
    "id": "obdcD6urYBY9"
   },
   "source": [
    "## Imports"
   ]
  },
  {
   "cell_type": "code",
   "execution_count": 91,
   "metadata": {
    "colab": {},
    "colab_type": "code",
    "id": "t8N3pcTQ5oQI"
   },
   "outputs": [],
   "source": [
    "import tensorflow as tf\n",
    "from tensorflow.keras.models import Model\n",
    "from tensorflow.keras.layers import Dense, Input\n",
    "\n",
    "import numpy as np\n",
    "import matplotlib.pyplot as plt\n",
    "import pandas as pd\n",
    "from sklearn.model_selection import train_test_split\n",
    "from sklearn.metrics import confusion_matrix\n",
    "import itertools\n",
    "\n",
    "import utils"
   ]
  },
  {
   "cell_type": "markdown",
   "metadata": {
    "colab_type": "text",
    "id": "gQMERzWQYpgm"
   },
   "source": [
    "## Load Dataset\n",
    "\n",
    "\n",
    "You will now download the dataset from the [UCI Machine Learning Repository](https://archive.ics.uci.edu/ml/index.php). \n",
    "\n",
    "### Pre-process the white wine dataset (TODO)\n",
    "You will add a new column named `is_red` in your dataframe to indicate if the wine is white or red. \n",
    "- In the white wine dataset, you will fill the column `is_red` with  zeros (0)."
   ]
  },
  {
   "cell_type": "code",
   "execution_count": 92,
   "metadata": {
    "colab": {},
    "colab_type": "code",
    "deletable": false,
    "id": "2qYAjKXCd4RH",
    "nbgrader": {
     "cell_type": "code",
     "checksum": "cb9f284ba6255170fe04a309a407d72d",
     "grade": false,
     "grade_id": "cell-e5bfa0f152d9a21f",
     "locked": false,
     "schema_version": 3,
     "solution": true,
     "task": false
    }
   },
   "outputs": [],
   "source": [
    "# Please uncomment all lines in this cell and replace those marked with `# YOUR CODE HERE`.\n",
    "# You can select all lines in this code cell with Ctrl+A (Windows/Linux) or Cmd+A (Mac), then press Ctrl+/ (Windows/Linux) or Cmd+/ (Mac) to uncomment.\n",
    "\n",
    "\n",
    "\n",
    "# URL of the white wine dataset\n",
    "URL = 'http://archive.ics.uci.edu/ml/machine-learning-databases/wine-quality/winequality-white.csv'\n",
    "\n",
    "# load the dataset from the URL\n",
    "white_df = pd.read_csv(URL, sep=\";\")\n",
    "\n",
    "# fill the `is_red` column with zeros.\n",
    "white_df[\"is_red\"] = 0\n",
    "\n",
    "# keep only the first of duplicate items\n",
    "white_df = white_df.drop_duplicates(keep='first')\n"
   ]
  },
  {
   "cell_type": "code",
   "execution_count": 93,
   "metadata": {
    "deletable": false,
    "editable": false,
    "nbgrader": {
     "cell_type": "code",
     "checksum": "defe38d6ec58fd31cd67b89e46c4373f",
     "grade": true,
     "grade_id": "cell-30575e713b55fc51",
     "locked": true,
     "points": 1,
     "schema_version": 3,
     "solution": false,
     "task": false
    }
   },
   "outputs": [
    {
     "name": "stdout",
     "output_type": "stream",
     "text": [
      "\u001b[92m All public tests passed\n"
     ]
    }
   ],
   "source": [
    "# You can click `File -> Open` in the menu above and open the `utils.py` file \n",
    "# in case you want to inspect the unit tests being used for each graded function.\n",
    "\n",
    "utils.test_white_df(white_df)\n"
   ]
  },
  {
   "cell_type": "code",
   "execution_count": 94,
   "metadata": {
    "colab": {},
    "colab_type": "code",
    "id": "OQHK0ohBQRCk"
   },
   "outputs": [
    {
     "name": "stdout",
     "output_type": "stream",
     "text": [
      "8.8\n",
      "9.1\n"
     ]
    }
   ],
   "source": [
    "print(white_df.alcohol[0])\n",
    "print(white_df.alcohol[100])\n",
    "\n",
    "# EXPECTED OUTPUT\n",
    "# 8.8\n",
    "# 9.1"
   ]
  },
  {
   "cell_type": "markdown",
   "metadata": {},
   "source": [
    "### Pre-process the red wine dataset (TODO)\n",
    "- In the red wine dataset, you will fill in the column `is_red` with ones (1)."
   ]
  },
  {
   "cell_type": "code",
   "execution_count": 95,
   "metadata": {
    "colab": {},
    "colab_type": "code",
    "deletable": false,
    "id": "8y3QxKwBed8v",
    "nbgrader": {
     "cell_type": "code",
     "checksum": "be72275f78e2c2d0038dde9aa63f8d4f",
     "grade": false,
     "grade_id": "cell-e47a40f306593274",
     "locked": false,
     "schema_version": 3,
     "solution": true,
     "task": false
    }
   },
   "outputs": [],
   "source": [
    "# Please uncomment all lines in this cell and replace those marked with `# YOUR CODE HERE`.\n",
    "# You can select all lines in this code cell with Ctrl+A (Windows/Linux) or Cmd+A (Mac), then press Ctrl+/ (Windows/Linux) or Cmd+/ (Mac) to uncomment.\n",
    "\n",
    "\n",
    "\n",
    "# URL of the red wine dataset\n",
    "URL = 'http://archive.ics.uci.edu/ml/machine-learning-databases/wine-quality/winequality-red.csv'\n",
    "\n",
    "# load the dataset from the URL\n",
    "red_df = pd.read_csv(URL, sep=\";\")\n",
    "\n",
    "# fill the `is_red` column with ones.\n",
    "red_df[\"is_red\"] = 1\n",
    "\n",
    "# keep only the first of duplicate items\n",
    "red_df = red_df.drop_duplicates(keep='first')\n"
   ]
  },
  {
   "cell_type": "code",
   "execution_count": 96,
   "metadata": {
    "deletable": false,
    "editable": false,
    "nbgrader": {
     "cell_type": "code",
     "checksum": "d8e0c91b0fd668b63ba74a8f2f958b59",
     "grade": true,
     "grade_id": "cell-2a75937adcc0c25b",
     "locked": true,
     "points": 1,
     "schema_version": 3,
     "solution": false,
     "task": false
    }
   },
   "outputs": [
    {
     "name": "stdout",
     "output_type": "stream",
     "text": [
      "\u001b[92m All public tests passed\n"
     ]
    }
   ],
   "source": [
    "utils.test_red_df(red_df)\n"
   ]
  },
  {
   "cell_type": "code",
   "execution_count": 97,
   "metadata": {
    "colab": {},
    "colab_type": "code",
    "id": "zsB3LUzNQpo_"
   },
   "outputs": [
    {
     "name": "stdout",
     "output_type": "stream",
     "text": [
      "9.4\n",
      "10.2\n"
     ]
    }
   ],
   "source": [
    "print(red_df.alcohol[0])\n",
    "print(red_df.alcohol[100])\n",
    "\n",
    "# EXPECTED OUTPUT\n",
    "# 9.4\n",
    "# 10.2"
   ]
  },
  {
   "cell_type": "markdown",
   "metadata": {
    "colab_type": "text",
    "id": "2G8B-NYuM6-f"
   },
   "source": [
    "### Concatenate the datasets\n",
    "\n",
    "Next, concatenate the red and white wine dataframes."
   ]
  },
  {
   "cell_type": "code",
   "execution_count": 98,
   "metadata": {
    "colab": {},
    "colab_type": "code",
    "id": "YpQrOjJbfN3m"
   },
   "outputs": [],
   "source": [
    "df = pd.concat([red_df, white_df], ignore_index=True)"
   ]
  },
  {
   "cell_type": "code",
   "execution_count": 99,
   "metadata": {
    "colab": {},
    "colab_type": "code",
    "id": "Se2dTmThQyjb"
   },
   "outputs": [
    {
     "name": "stdout",
     "output_type": "stream",
     "text": [
      "9.4\n",
      "9.5\n"
     ]
    }
   ],
   "source": [
    "print(df.alcohol[0])\n",
    "print(df.alcohol[100])\n",
    "\n",
    "# EXPECTED OUTPUT\n",
    "# 9.4\n",
    "# 9.5"
   ]
  },
  {
   "cell_type": "code",
   "execution_count": 100,
   "metadata": {
    "colab": {},
    "colab_type": "code",
    "id": "wx6y3rPpQv4k"
   },
   "outputs": [],
   "source": [
    "# NOTE: In a real-world scenario, you should shuffle the data.\n",
    "# YOU ARE NOT going to do that here because we want to test\n",
    "# with deterministic data. But if you want the code to do it,\n",
    "# it's in the commented line below:\n",
    "\n",
    "#df = df.iloc[np.random.permutation(len(df))]"
   ]
  },
  {
   "cell_type": "markdown",
   "metadata": {
    "colab_type": "text",
    "id": "-EqIcbg5M_n1"
   },
   "source": [
    "This will chart the quality of the wines."
   ]
  },
  {
   "cell_type": "code",
   "execution_count": 101,
   "metadata": {
    "colab": {},
    "colab_type": "code",
    "id": "IsvK0-Sgy17C"
   },
   "outputs": [
    {
     "data": {
      "image/png": "[encoded data removed]",
      "text/plain": [
       "<Figure size 432x288 with 1 Axes>"
      ]
     },
     "metadata": {
      "needs_background": "light"
     },
     "output_type": "display_data"
    }
   ],
   "source": [
    "df['quality'].hist(bins=20);"
   ]
  },
  {
   "cell_type": "markdown",
   "metadata": {
    "colab_type": "text",
    "id": "Nut1rmYLzf-p"
   },
   "source": [
    "### Imbalanced data (TODO)\n",
    "You can see from the plot above that the wine quality dataset is imbalanced. \n",
    "- Since there are very few observations with quality equal to 3, 4, 8 and 9, you can drop these observations from your dataset. \n",
    "- You can do this by removing data belonging to all classes except those > 4 and < 8."
   ]
  },
  {
   "cell_type": "code",
   "execution_count": 102,
   "metadata": {
    "colab": {},
    "colab_type": "code",
    "deletable": false,
    "id": "doH9_-gnf3sz",
    "nbgrader": {
     "cell_type": "code",
     "checksum": "d9ba9fc3a3ca02ccc567be33652b80fe",
     "grade": false,
     "grade_id": "cell-6a3e9db696f6827b",
     "locked": false,
     "schema_version": 3,
     "solution": true,
     "task": false
    }
   },
   "outputs": [],
   "source": [
    "# Please uncomment all lines in this cell and replace those marked with `# YOUR CODE HERE`.\n",
    "# You can select all lines in this code cell with Ctrl+A (Windows/Linux) or Cmd+A (Mac), then press Ctrl+/ (Windows/Linux) or Cmd+/ (Mac) to uncomment.\n",
    "\n",
    "\n",
    "\n",
    "# get data with wine quality greater than 4 and less than 8\n",
    "df = df[(df['quality'] > 4) & (df['quality'] < 8)]\n",
    "\n",
    "# reset index and drop the old one\n",
    "df = df.reset_index(drop=True)"
   ]
  },
  {
   "cell_type": "code",
   "execution_count": 103,
   "metadata": {
    "deletable": false,
    "editable": false,
    "nbgrader": {
     "cell_type": "code",
     "checksum": "281e1d86a4803560ed5892cd7eda4c01",
     "grade": true,
     "grade_id": "cell-aed3da719d4682c7",
     "locked": true,
     "points": 1,
     "schema_version": 3,
     "solution": false,
     "task": false
    }
   },
   "outputs": [
    {
     "name": "stdout",
     "output_type": "stream",
     "text": [
      "\u001b[92m All public tests passed\n"
     ]
    }
   ],
   "source": [
    "utils.test_df_drop(df)\n",
    "\n"
   ]
  },
  {
   "cell_type": "code",
   "execution_count": 104,
   "metadata": {
    "colab": {},
    "colab_type": "code",
    "id": "xNR1iAlMRPXO"
   },
   "outputs": [
    {
     "name": "stdout",
     "output_type": "stream",
     "text": [
      "9.4\n",
      "10.9\n"
     ]
    }
   ],
   "source": [
    "print(df.alcohol[0])\n",
    "print(df.alcohol[100])\n",
    "\n",
    "# EXPECTED OUTPUT\n",
    "# 9.4\n",
    "# 10.9"
   ]
  },
  {
   "cell_type": "markdown",
   "metadata": {
    "colab_type": "text",
    "id": "cwhuRpnVRTzG"
   },
   "source": [
    "You can plot again to see the new range of data and quality"
   ]
  },
  {
   "cell_type": "code",
   "execution_count": 105,
   "metadata": {
    "colab": {},
    "colab_type": "code",
    "id": "857ygzZiLgGg"
   },
   "outputs": [
    {
     "data": {
      "image/png": "[encoded data removed]",
      "text/plain": [
       "<Figure size 432x288 with 1 Axes>"
      ]
     },
     "metadata": {
      "needs_background": "light"
     },
     "output_type": "display_data"
    }
   ],
   "source": [
    "df['quality'].hist(bins=20);"
   ]
  },
  {
   "cell_type": "markdown",
   "metadata": {
    "colab_type": "text",
    "id": "n3k0vqSsp84t"
   },
   "source": [
    "### Train Test Split (TODO)\n",
    "\n",
    "Next, you can split the datasets into training, test and validation datasets.\n",
    "- The data frame should be split 80:20 into `train` and `test` sets.\n",
    "- The resulting `train` should then be split 80:20 into `train` and `val` sets.\n",
    "- The `train_test_split` parameter `test_size` takes a float value that ranges between 0. and 1, and represents the proportion of the dataset that is allocated to the test set.  The rest of the data is allocated to the training set."
   ]
  },
  {
   "cell_type": "code",
   "execution_count": 106,
   "metadata": {
    "colab": {},
    "colab_type": "code",
    "deletable": false,
    "id": "PAVIf2-fgRVY",
    "nbgrader": {
     "cell_type": "code",
     "checksum": "7f5738f4fb51d65adc9a8acbdf2b9970",
     "grade": false,
     "grade_id": "cell-91946cadf745206b",
     "locked": false,
     "schema_version": 3,
     "solution": true,
     "task": false
    }
   },
   "outputs": [],
   "source": [
    "# Please uncomment all lines in this cell and replace those marked with `# YOUR CODE HERE`.\n",
    "# You can select all lines in this code cell with Ctrl+A (Windows/Linux) or Cmd+A (Mac), then press Ctrl+/ (Windows/Linux) or Cmd+/ (Mac) to uncomment.\n",
    "\n",
    "\n",
    "\n",
    "# Please do not change the random_state parameter. This is needed for grading.\n",
    "\n",
    "# split df into 80:20 train and test sets\n",
    "train, test = train_test_split(df, test_size=0.2, random_state = 1)\n",
    "                               \n",
    "# split train into 80:20 train and val sets\n",
    "train, val = train_test_split(train, test_size=0.2, random_state = 1)"
   ]
  },
  {
   "cell_type": "code",
   "execution_count": 107,
   "metadata": {
    "colab": {},
    "colab_type": "code",
    "deletable": false,
    "editable": false,
    "id": "57h9LcEzRWpk",
    "nbgrader": {
     "cell_type": "code",
     "checksum": "42adbe9e66efac7c7a5f8cd73ac92f22",
     "grade": true,
     "grade_id": "cell-64b8b38cd0b965f6",
     "locked": true,
     "points": 1,
     "schema_version": 3,
     "solution": false,
     "task": false
    }
   },
   "outputs": [
    {
     "name": "stdout",
     "output_type": "stream",
     "text": [
      "\u001b[92m All public tests passed\n"
     ]
    }
   ],
   "source": [
    "utils.test_data_sizes(train.size, test.size, val.size)\n",
    "\n"
   ]
  },
  {
   "cell_type": "markdown",
   "metadata": {
    "colab_type": "text",
    "id": "RwTNu4KFqG-K"
   },
   "source": [
    "Here's where you can explore the training stats. You can pop the labels 'is_red' and 'quality' from the data as these will be used as the labels\n"
   ]
  },
  {
   "cell_type": "code",
   "execution_count": 108,
   "metadata": {
    "colab": {},
    "colab_type": "code",
    "id": "Y_afyhhHM6WQ"
   },
   "outputs": [],
   "source": [
    "train_stats = train.describe()\n",
    "train_stats.pop('is_red')\n",
    "train_stats.pop('quality')\n",
    "train_stats = train_stats.transpose()"
   ]
  },
  {
   "cell_type": "markdown",
   "metadata": {
    "colab_type": "text",
    "id": "ahvbYm4fNqSt"
   },
   "source": [
    "Explore the training stats!"
   ]
  },
  {
   "cell_type": "code",
   "execution_count": 109,
   "metadata": {
    "colab": {},
    "colab_type": "code",
    "id": "n_gAtPjZ0otF"
   },
   "outputs": [
    {
     "data": {
      "text/html": [
       "<div>\n",
       "<style scoped>\n",
       "    .dataframe tbody tr th:only-of-type {\n",
       "        vertical-align: middle;\n",
       "    }\n",
       "\n",
       "    .dataframe tbody tr th {\n",
       "        vertical-align: top;\n",
       "    }\n",
       "\n",
       "    .dataframe thead th {\n",
       "        text-align: right;\n",
       "    }\n",
       "</style>\n",
       "<table border=\"1\" class=\"dataframe\">\n",
       "  <thead>\n",
       "    <tr style=\"text-align: right;\">\n",
       "      <th></th>\n",
       "      <th>count</th>\n",
       "      <th>mean</th>\n",
       "      <th>std</th>\n",
       "      <th>min</th>\n",
       "      <th>25%</th>\n",
       "      <th>50%</th>\n",
       "      <th>75%</th>\n",
       "      <th>max</th>\n",
       "    </tr>\n",
       "  </thead>\n",
       "  <tbody>\n",
       "    <tr>\n",
       "      <th>fixed acidity</th>\n",
       "      <td>3155.0</td>\n",
       "      <td>7.221616</td>\n",
       "      <td>1.325297</td>\n",
       "      <td>3.80000</td>\n",
       "      <td>6.40000</td>\n",
       "      <td>7.00000</td>\n",
       "      <td>7.7000</td>\n",
       "      <td>15.60000</td>\n",
       "    </tr>\n",
       "    <tr>\n",
       "      <th>volatile acidity</th>\n",
       "      <td>3155.0</td>\n",
       "      <td>0.338929</td>\n",
       "      <td>0.162476</td>\n",
       "      <td>0.08000</td>\n",
       "      <td>0.23000</td>\n",
       "      <td>0.29000</td>\n",
       "      <td>0.4000</td>\n",
       "      <td>1.24000</td>\n",
       "    </tr>\n",
       "    <tr>\n",
       "      <th>citric acid</th>\n",
       "      <td>3155.0</td>\n",
       "      <td>0.321569</td>\n",
       "      <td>0.147970</td>\n",
       "      <td>0.00000</td>\n",
       "      <td>0.25000</td>\n",
       "      <td>0.31000</td>\n",
       "      <td>0.4000</td>\n",
       "      <td>1.66000</td>\n",
       "    </tr>\n",
       "    <tr>\n",
       "      <th>residual sugar</th>\n",
       "      <td>3155.0</td>\n",
       "      <td>5.155911</td>\n",
       "      <td>4.639632</td>\n",
       "      <td>0.60000</td>\n",
       "      <td>1.80000</td>\n",
       "      <td>2.80000</td>\n",
       "      <td>7.6500</td>\n",
       "      <td>65.80000</td>\n",
       "    </tr>\n",
       "    <tr>\n",
       "      <th>chlorides</th>\n",
       "      <td>3155.0</td>\n",
       "      <td>0.056976</td>\n",
       "      <td>0.036802</td>\n",
       "      <td>0.01200</td>\n",
       "      <td>0.03800</td>\n",
       "      <td>0.04700</td>\n",
       "      <td>0.0660</td>\n",
       "      <td>0.61100</td>\n",
       "    </tr>\n",
       "    <tr>\n",
       "      <th>free sulfur dioxide</th>\n",
       "      <td>3155.0</td>\n",
       "      <td>30.388590</td>\n",
       "      <td>17.236784</td>\n",
       "      <td>1.00000</td>\n",
       "      <td>17.00000</td>\n",
       "      <td>28.00000</td>\n",
       "      <td>41.0000</td>\n",
       "      <td>131.00000</td>\n",
       "    </tr>\n",
       "    <tr>\n",
       "      <th>total sulfur dioxide</th>\n",
       "      <td>3155.0</td>\n",
       "      <td>115.062282</td>\n",
       "      <td>56.706617</td>\n",
       "      <td>6.00000</td>\n",
       "      <td>75.00000</td>\n",
       "      <td>117.00000</td>\n",
       "      <td>156.0000</td>\n",
       "      <td>344.00000</td>\n",
       "    </tr>\n",
       "    <tr>\n",
       "      <th>density</th>\n",
       "      <td>3155.0</td>\n",
       "      <td>0.994633</td>\n",
       "      <td>0.003005</td>\n",
       "      <td>0.98711</td>\n",
       "      <td>0.99232</td>\n",
       "      <td>0.99481</td>\n",
       "      <td>0.9968</td>\n",
       "      <td>1.03898</td>\n",
       "    </tr>\n",
       "    <tr>\n",
       "      <th>pH</th>\n",
       "      <td>3155.0</td>\n",
       "      <td>3.223201</td>\n",
       "      <td>0.161272</td>\n",
       "      <td>2.72000</td>\n",
       "      <td>3.11000</td>\n",
       "      <td>3.21000</td>\n",
       "      <td>3.3300</td>\n",
       "      <td>4.01000</td>\n",
       "    </tr>\n",
       "    <tr>\n",
       "      <th>sulphates</th>\n",
       "      <td>3155.0</td>\n",
       "      <td>0.534051</td>\n",
       "      <td>0.149149</td>\n",
       "      <td>0.22000</td>\n",
       "      <td>0.43000</td>\n",
       "      <td>0.51000</td>\n",
       "      <td>0.6000</td>\n",
       "      <td>1.95000</td>\n",
       "    </tr>\n",
       "    <tr>\n",
       "      <th>alcohol</th>\n",
       "      <td>3155.0</td>\n",
       "      <td>10.504466</td>\n",
       "      <td>1.154654</td>\n",
       "      <td>8.50000</td>\n",
       "      <td>9.50000</td>\n",
       "      <td>10.30000</td>\n",
       "      <td>11.3000</td>\n",
       "      <td>14.00000</td>\n",
       "    </tr>\n",
       "  </tbody>\n",
       "</table>\n",
       "</div>"
      ],
      "text/plain": [
       "                       count        mean        std      min       25%  \\\n",
       "fixed acidity         3155.0    7.221616   1.325297  3.80000   6.40000   \n",
       "volatile acidity      3155.0    0.338929   0.162476  0.08000   0.23000   \n",
       "citric acid           3155.0    0.321569   0.147970  0.00000   0.25000   \n",
       "residual sugar        3155.0    5.155911   4.639632  0.60000   1.80000   \n",
       "chlorides             3155.0    0.056976   0.036802  0.01200   0.03800   \n",
       "free sulfur dioxide   3155.0   30.388590  17.236784  1.00000  17.00000   \n",
       "total sulfur dioxide  3155.0  115.062282  56.706617  6.00000  75.00000   \n",
       "density               3155.0    0.994633   0.003005  0.98711   0.99232   \n",
       "pH                    3155.0    3.223201   0.161272  2.72000   3.11000   \n",
       "sulphates             3155.0    0.534051   0.149149  0.22000   0.43000   \n",
       "alcohol               3155.0   10.504466   1.154654  8.50000   9.50000   \n",
       "\n",
       "                            50%       75%        max  \n",
       "fixed acidity           7.00000    7.7000   15.60000  \n",
       "volatile acidity        0.29000    0.4000    1.24000  \n",
       "citric acid             0.31000    0.4000    1.66000  \n",
       "residual sugar          2.80000    7.6500   65.80000  \n",
       "chlorides               0.04700    0.0660    0.61100  \n",
       "free sulfur dioxide    28.00000   41.0000  131.00000  \n",
       "total sulfur dioxide  117.00000  156.0000  344.00000  \n",
       "density                 0.99481    0.9968    1.03898  \n",
       "pH                      3.21000    3.3300    4.01000  \n",
       "sulphates               0.51000    0.6000    1.95000  \n",
       "alcohol                10.30000   11.3000   14.00000  "
      ]
     },
     "execution_count": 109,
     "metadata": {},
     "output_type": "execute_result"
    }
   ],
   "source": [
    "train_stats"
   ]
  },
  {
   "cell_type": "markdown",
   "metadata": {
    "colab_type": "text",
    "id": "bGPvt9jir_HC"
   },
   "source": [
    "### Get the labels (TODO)\n",
    "\n",
    "The features and labels are currently in the same dataframe.\n",
    "- You will want to store the label columns `is_red` and `quality` separately from the feature columns.  \n",
    "- The following function, `format_output`, gets these two columns from the dataframe (it's given to you).\n",
    "- `format_output` also formats the data into numpy arrays. \n",
    "- Please use the `format_output` and apply it to the `train`, `val` and `test` sets to get dataframes for the labels."
   ]
  },
  {
   "cell_type": "code",
   "execution_count": 110,
   "metadata": {
    "colab": {},
    "colab_type": "code",
    "id": "Z_fs14XQqZVP"
   },
   "outputs": [],
   "source": [
    "def format_output(data):\n",
    "    is_red = data.pop('is_red')\n",
    "    is_red = np.array(is_red)\n",
    "    quality = data.pop('quality')\n",
    "    quality = np.array(quality)\n",
    "    return (quality, is_red)"
   ]
  },
  {
   "cell_type": "code",
   "execution_count": 111,
   "metadata": {
    "colab": {},
    "colab_type": "code",
    "deletable": false,
    "id": "8L3ZZe1fQicm",
    "nbgrader": {
     "cell_type": "code",
     "checksum": "7a86809e54895a816434c48dc903f55d",
     "grade": false,
     "grade_id": "cell-5c30fa2c2a354b0f",
     "locked": false,
     "schema_version": 3,
     "solution": true,
     "task": false
    }
   },
   "outputs": [],
   "source": [
    "# Please uncomment all lines in this cell and replace those marked with `# YOUR CODE HERE`.\n",
    "# You can select all lines in this code cell with Ctrl+A (Windows/Linux) or Cmd+A (Mac), then press Ctrl+/ (Windows/Linux) or Cmd+/ (Mac) to uncomment.\n",
    "\n",
    "\n",
    "\n",
    "# format the output of the train set\n",
    "train_Y = format_output(train)\n",
    "\n",
    "# format the output of the val set\n",
    "val_Y = format_output(val)\n",
    "    \n",
    "# format the output of the test set\n",
    "test_Y = format_output(test)"
   ]
  },
  {
   "cell_type": "code",
   "execution_count": 112,
   "metadata": {
    "deletable": false,
    "editable": false,
    "nbgrader": {
     "cell_type": "code",
     "checksum": "359cabbafaed14ec9bbc1e57a7b6f32c",
     "grade": true,
     "grade_id": "cell-4977d8befb80f56b",
     "locked": true,
     "points": 1,
     "schema_version": 3,
     "solution": false,
     "task": false
    }
   },
   "outputs": [
    {
     "name": "stdout",
     "output_type": "stream",
     "text": [
      "\u001b[92m All public tests passed\n"
     ]
    }
   ],
   "source": [
    "utils.test_format_output(df, train_Y, val_Y, test_Y)"
   ]
  },
  {
   "cell_type": "markdown",
   "metadata": {},
   "source": [
    "Notice that after you get the labels, the `train`, `val` and `test` dataframes no longer contain the label columns, and contain just the feature columns.\n",
    "- This is because you used `.pop` in the `format_output` function."
   ]
  },
  {
   "cell_type": "code",
   "execution_count": 113,
   "metadata": {},
   "outputs": [
    {
     "data": {
      "text/html": [
       "<div>\n",
       "<style scoped>\n",
       "    .dataframe tbody tr th:only-of-type {\n",
       "        vertical-align: middle;\n",
       "    }\n",
       "\n",
       "    .dataframe tbody tr th {\n",
       "        vertical-align: top;\n",
       "    }\n",
       "\n",
       "    .dataframe thead th {\n",
       "        text-align: right;\n",
       "    }\n",
       "</style>\n",
       "<table border=\"1\" class=\"dataframe\">\n",
       "  <thead>\n",
       "    <tr style=\"text-align: right;\">\n",
       "      <th></th>\n",
       "      <th>fixed acidity</th>\n",
       "      <th>volatile acidity</th>\n",
       "      <th>citric acid</th>\n",
       "      <th>residual sugar</th>\n",
       "      <th>chlorides</th>\n",
       "      <th>free sulfur dioxide</th>\n",
       "      <th>total sulfur dioxide</th>\n",
       "      <th>density</th>\n",
       "      <th>pH</th>\n",
       "      <th>sulphates</th>\n",
       "      <th>alcohol</th>\n",
       "    </tr>\n",
       "  </thead>\n",
       "  <tbody>\n",
       "    <tr>\n",
       "      <th>225</th>\n",
       "      <td>7.5</td>\n",
       "      <td>0.65</td>\n",
       "      <td>0.18</td>\n",
       "      <td>7.0</td>\n",
       "      <td>0.088</td>\n",
       "      <td>27.0</td>\n",
       "      <td>94.0</td>\n",
       "      <td>0.99915</td>\n",
       "      <td>3.38</td>\n",
       "      <td>0.77</td>\n",
       "      <td>9.4</td>\n",
       "    </tr>\n",
       "    <tr>\n",
       "      <th>3557</th>\n",
       "      <td>6.3</td>\n",
       "      <td>0.27</td>\n",
       "      <td>0.29</td>\n",
       "      <td>12.2</td>\n",
       "      <td>0.044</td>\n",
       "      <td>59.0</td>\n",
       "      <td>196.0</td>\n",
       "      <td>0.99782</td>\n",
       "      <td>3.14</td>\n",
       "      <td>0.40</td>\n",
       "      <td>8.8</td>\n",
       "    </tr>\n",
       "    <tr>\n",
       "      <th>3825</th>\n",
       "      <td>8.8</td>\n",
       "      <td>0.27</td>\n",
       "      <td>0.25</td>\n",
       "      <td>5.0</td>\n",
       "      <td>0.024</td>\n",
       "      <td>52.0</td>\n",
       "      <td>99.0</td>\n",
       "      <td>0.99250</td>\n",
       "      <td>2.87</td>\n",
       "      <td>0.49</td>\n",
       "      <td>11.4</td>\n",
       "    </tr>\n",
       "    <tr>\n",
       "      <th>1740</th>\n",
       "      <td>6.4</td>\n",
       "      <td>0.45</td>\n",
       "      <td>0.07</td>\n",
       "      <td>1.1</td>\n",
       "      <td>0.030</td>\n",
       "      <td>10.0</td>\n",
       "      <td>131.0</td>\n",
       "      <td>0.99050</td>\n",
       "      <td>2.97</td>\n",
       "      <td>0.28</td>\n",
       "      <td>10.8</td>\n",
       "    </tr>\n",
       "    <tr>\n",
       "      <th>1221</th>\n",
       "      <td>7.2</td>\n",
       "      <td>0.53</td>\n",
       "      <td>0.13</td>\n",
       "      <td>2.0</td>\n",
       "      <td>0.058</td>\n",
       "      <td>18.0</td>\n",
       "      <td>22.0</td>\n",
       "      <td>0.99573</td>\n",
       "      <td>3.21</td>\n",
       "      <td>0.68</td>\n",
       "      <td>9.9</td>\n",
       "    </tr>\n",
       "  </tbody>\n",
       "</table>\n",
       "</div>"
      ],
      "text/plain": [
       "      fixed acidity  volatile acidity  citric acid  residual sugar  chlorides  \\\n",
       "225             7.5              0.65         0.18             7.0      0.088   \n",
       "3557            6.3              0.27         0.29            12.2      0.044   \n",
       "3825            8.8              0.27         0.25             5.0      0.024   \n",
       "1740            6.4              0.45         0.07             1.1      0.030   \n",
       "1221            7.2              0.53         0.13             2.0      0.058   \n",
       "\n",
       "      free sulfur dioxide  total sulfur dioxide  density    pH  sulphates  \\\n",
       "225                  27.0                  94.0  0.99915  3.38       0.77   \n",
       "3557                 59.0                 196.0  0.99782  3.14       0.40   \n",
       "3825                 52.0                  99.0  0.99250  2.87       0.49   \n",
       "1740                 10.0                 131.0  0.99050  2.97       0.28   \n",
       "1221                 18.0                  22.0  0.99573  3.21       0.68   \n",
       "\n",
       "      alcohol  \n",
       "225       9.4  \n",
       "3557      8.8  \n",
       "3825     11.4  \n",
       "1740     10.8  \n",
       "1221      9.9  "
      ]
     },
     "execution_count": 113,
     "metadata": {},
     "output_type": "execute_result"
    }
   ],
   "source": [
    "train.head()"
   ]
  },
  {
   "cell_type": "markdown",
   "metadata": {
    "colab_type": "text",
    "id": "hEdbrruAsN1D"
   },
   "source": [
    "### Normalize the data (TODO)\n",
    "\n",
    "Next, you can normalize the data, x, using the formula:\n",
    "$$x_{norm} = \\frac{x - \\mu}{\\sigma}$$\n",
    "- The `norm` function is defined for you.\n",
    "- Please apply the `norm` function to normalize the dataframes that contains the feature columns of `train`, `val` and `test` sets."
   ]
  },
  {
   "cell_type": "code",
   "execution_count": 114,
   "metadata": {
    "colab": {},
    "colab_type": "code",
    "id": "WWiZPAHCLjUs"
   },
   "outputs": [],
   "source": [
    "def norm(x):\n",
    "    return (x - train_stats['mean']) / train_stats['std']"
   ]
  },
  {
   "cell_type": "code",
   "execution_count": 115,
   "metadata": {
    "colab": {},
    "colab_type": "code",
    "deletable": false,
    "id": "JEaOi2I2Lk69",
    "nbgrader": {
     "cell_type": "code",
     "checksum": "6bc0cdcb563d192f271067aa3373ff32",
     "grade": false,
     "grade_id": "cell-d8416d975c371095",
     "locked": false,
     "schema_version": 3,
     "solution": true,
     "task": false
    }
   },
   "outputs": [],
   "source": [
    "# Please uncomment all lines in this cell and replace those marked with `# YOUR CODE HERE`.\n",
    "# You can select all lines in this code cell with Ctrl+A (Windows/Linux) or Cmd+A (Mac), then press Ctrl+/ (Windows/Linux) or Cmd+/ (Mac) to uncomment.\n",
    "\n",
    "\n",
    "\n",
    "# normalize the train set\n",
    "norm_train_X = norm(train)\n",
    "    \n",
    "# normalize the val set\n",
    "norm_val_X = norm(val)\n",
    "    \n",
    "# normalize the test set\n",
    "norm_test_X = norm(test)"
   ]
  },
  {
   "cell_type": "code",
   "execution_count": 116,
   "metadata": {
    "deletable": false,
    "editable": false,
    "nbgrader": {
     "cell_type": "code",
     "checksum": "4f567db45bf40191601780379cc100b8",
     "grade": true,
     "grade_id": "cell-97fad979d157529b",
     "locked": true,
     "points": 1,
     "schema_version": 3,
     "solution": false,
     "task": false
    }
   },
   "outputs": [
    {
     "name": "stdout",
     "output_type": "stream",
     "text": [
      "\u001b[92m All public tests passed\n"
     ]
    }
   ],
   "source": [
    "utils.test_norm(norm_train_X, norm_val_X, norm_test_X, train, val, test)\n"
   ]
  },
  {
   "cell_type": "markdown",
   "metadata": {
    "colab_type": "text",
    "id": "hzykDwQhsaPO"
   },
   "source": [
    "## Define the Model (TODO)\n",
    "\n",
    "Define the model using the functional API. The base model will be 2 `Dense` layers of 128 neurons each, and have the `'relu'` activation.\n",
    "- Check out the documentation for [tf.keras.layers.Dense](https://www.tensorflow.org/api_docs/python/tf/keras/layers/Dense)"
   ]
  },
  {
   "cell_type": "code",
   "execution_count": 117,
   "metadata": {
    "colab": {},
    "colab_type": "code",
    "deletable": false,
    "id": "Rhcns3oTFkM6",
    "nbgrader": {
     "cell_type": "code",
     "checksum": "74b031247e569526552bf13a034a1c07",
     "grade": false,
     "grade_id": "cell-73fceedad1fe351c",
     "locked": false,
     "schema_version": 3,
     "solution": true,
     "task": false
    }
   },
   "outputs": [],
   "source": [
    "# Please uncomment all lines in this cell and replace those marked with `# YOUR CODE HERE`.\n",
    "# You can select all lines in this code cell with Ctrl+A (Windows/Linux) or Cmd+A (Mac), then press Ctrl+/ (Windows/Linux) or Cmd+/ (Mac) to uncomment.\n",
    "\n",
    "\n",
    "\n",
    "def base_model(inputs):\n",
    "    \n",
    "    # connect a Dense layer with 128 neurons and a relu activation\n",
    "    x = Dense(128, activation='relu')(inputs)\n",
    "    \n",
    "    # connect another Dense layer with 128 neurons and a relu activation\n",
    "    x = Dense(128, activation='relu')(x)\n",
    "    return x\n",
    "  "
   ]
  },
  {
   "cell_type": "code",
   "execution_count": 118,
   "metadata": {
    "deletable": false,
    "editable": false,
    "nbgrader": {
     "cell_type": "code",
     "checksum": "9255924b3def80f679616e4c851a43e1",
     "grade": true,
     "grade_id": "cell-54f742a133353d75",
     "locked": true,
     "points": 1,
     "schema_version": 3,
     "solution": false,
     "task": false
    }
   },
   "outputs": [
    {
     "name": "stdout",
     "output_type": "stream",
     "text": [
      "\u001b[92m All public tests passed\n"
     ]
    }
   ],
   "source": [
    "utils.test_base_model(base_model)"
   ]
  },
  {
   "cell_type": "markdown",
   "metadata": {
    "colab_type": "text",
    "id": "xem_fcVws6Kz"
   },
   "source": [
    "# Define output layers of the model (TODO)\n",
    "\n",
    "You will add output layers to the base model. \n",
    "- The model will need two outputs.\n",
    "\n",
    "One output layer will predict wine quality, which is a numeric value.\n",
    "- Define a `Dense` layer with 1 neuron.\n",
    "- Since this is a regression output, the activation can be left as its default value `None`.\n",
    "\n",
    "The other output layer will predict the wine type, which is either red `1` or not red `0` (white).\n",
    "- Define a `Dense` layer with 1 neuron.\n",
    "- Since there are two possible categories, you can use a sigmoid activation for binary classification.\n",
    "\n",
    "Define the `Model`\n",
    "- Define the `Model` object, and set the following parameters:\n",
    "  - `inputs`: pass in the inputs to the model as a list.\n",
    "  - `outputs`: pass in a list of the outputs that you just defined: wine quality, then wine type.\n",
    "  - **Note**: please list the wine quality before wine type in the outputs, as this will affect the calculated loss if you choose the other order."
   ]
  },
  {
   "cell_type": "code",
   "execution_count": 119,
   "metadata": {
    "colab": {},
    "colab_type": "code",
    "deletable": false,
    "id": "n5UGF8PMVLPt",
    "nbgrader": {
     "cell_type": "code",
     "checksum": "76d35b90d20cdcbb22986cd8211057de",
     "grade": false,
     "grade_id": "cell-19e285f482f021fb",
     "locked": false,
     "schema_version": 3,
     "solution": true,
     "task": false
    }
   },
   "outputs": [],
   "source": [
    "# Please uncomment all lines in this cell and replace those marked with `# YOUR CODE HERE`.\n",
    "# You can select all lines in this code cell with Ctrl+A (Windows/Linux) or Cmd+A (Mac), then press Ctrl+/ (Windows/Linux) or Cmd+/ (Mac) to uncomment.\n",
    "\n",
    "\n",
    "\n",
    "def final_model(inputs):\n",
    "    \n",
    "    # get the base model\n",
    "    x = base_model(inputs)\n",
    "\n",
    "    # connect the output Dense layer for regression\n",
    "    wine_quality = Dense(units='1', name='wine_quality')(x)\n",
    "\n",
    "    # connect the output Dense layer for classification. this will use a sigmoid activation.\n",
    "    wine_type = Dense(units='1', activation='sigmoid', name='wine_type')(x)\n",
    "\n",
    "    # define the model using the input and output layers\n",
    "    model = Model(inputs=inputs, outputs=[wine_quality, wine_type])\n",
    "\n",
    "    return model"
   ]
  },
  {
   "cell_type": "code",
   "execution_count": 120,
   "metadata": {
    "deletable": false,
    "editable": false,
    "nbgrader": {
     "cell_type": "code",
     "checksum": "89cbf89d8ab5e2e59ecf7f63f517520a",
     "grade": true,
     "grade_id": "cell-40d050f855c817d1",
     "locked": true,
     "points": 1,
     "schema_version": 3,
     "solution": false,
     "task": false
    }
   },
   "outputs": [
    {
     "name": "stdout",
     "output_type": "stream",
     "text": [
      "\u001b[92m All public tests passed\n"
     ]
    }
   ],
   "source": [
    "utils.test_final_model(final_model)"
   ]
  },
  {
   "cell_type": "markdown",
   "metadata": {
    "colab_type": "text",
    "id": "5R0BMTsltZyu"
   },
   "source": [
    "## Compiling the Model\n",
    "\n",
    "Next, compile the model. When setting the loss parameter of `model.compile`, you're setting the loss for each of the two outputs (wine quality and wine type).\n",
    "\n",
    "To set more than one loss, use a dictionary of key-value pairs.\n",
    "- You can look at the docs for the losses [here](https://www.tensorflow.org/api_docs/python/tf/keras/losses#functions).\n",
    "    - **Note**: For the desired spelling, please look at the \"Functions\" section of the documentation and not the \"classes\" section on that same page.\n",
    "- wine_type: Since you will be performing binary classification on wine type, you should use the binary crossentropy loss function for it.  Please pass this in as a string.  \n",
    "  - **Hint**, this should be all lowercase.  In the documentation, you'll see this under the \"Functions\" section, not the \"Classes\" section.\n",
    "- wine_quality: since this is a regression output, use the mean squared error.  Please pass it in as a string, all lowercase.\n",
    "  - **Hint**: You may notice that there are two aliases for mean squared error.  Please use the shorter name.\n",
    "\n",
    "\n",
    "You will also set the metric for each of the two outputs.  Again, to set metrics for two or more outputs, use a dictionary with key value pairs.\n",
    "- The metrics documentation is linked [here](https://www.tensorflow.org/api_docs/python/tf/keras/metrics).\n",
    "- For the wine type, please set it to accuracy as a string, all lowercase.\n",
    "- For wine quality, please use the root mean squared error.  Instead of a string, you'll set it to an instance of the class [RootMeanSquaredError](https://www.tensorflow.org/api_docs/python/tf/keras/metrics/RootMeanSquaredError), which belongs to the tf.keras.metrics module.\n",
    "\n",
    "**Note**: If you see the error message \n",
    ">Exception: wine quality loss function is incorrect.\n",
    "\n",
    "- Please also check your other losses and metrics, as the error may be caused by the other three key-value pairs and not the wine quality loss."
   ]
  },
  {
   "cell_type": "code",
   "execution_count": 121,
   "metadata": {
    "colab": {},
    "colab_type": "code",
    "deletable": false,
    "id": "LK11duUbUjmh",
    "nbgrader": {
     "cell_type": "code",
     "checksum": "22f45067ca69eb2ccadb43874dbcc27b",
     "grade": false,
     "grade_id": "cell-81afdc4dcca51d5e",
     "locked": false,
     "schema_version": 3,
     "solution": true,
     "task": false
    }
   },
   "outputs": [],
   "source": [
    "# Please uncomment all lines in this cell and replace those marked with `# YOUR CODE HERE`.\n",
    "# You can select all lines in this code cell with Ctrl+A (Windows/Linux) or Cmd+A (Mac), then press Ctrl+/ (Windows/Linux) or Cmd+/ (Mac) to uncomment.\n",
    "\n",
    "\n",
    "\n",
    "inputs = tf.keras.layers.Input(shape=(11,))\n",
    "rms = tf.keras.optimizers.RMSprop(lr=0.0001)\n",
    "model = final_model(inputs)\n",
    "\n",
    "model.compile(optimizer=rms, \n",
    "              loss = {'wine_type' : 'binary_crossentropy',\n",
    "                      'wine_quality' : 'mse'\n",
    "                     },\n",
    "              metrics = {'wine_type' : tf.keras.metrics.Accuracy(),\n",
    "                         'wine_quality': tf.keras.metrics.RootMeanSquaredError()\n",
    "                       }\n",
    "             )\n"
   ]
  },
  {
   "cell_type": "code",
   "execution_count": 122,
   "metadata": {
    "deletable": false,
    "editable": false,
    "nbgrader": {
     "cell_type": "code",
     "checksum": "88e02238ea5e456ff65e835cc8158054",
     "grade": true,
     "grade_id": "cell-2eeeba02391c4632",
     "locked": true,
     "points": 1,
     "schema_version": 3,
     "solution": false,
     "task": false
    }
   },
   "outputs": [
    {
     "name": "stdout",
     "output_type": "stream",
     "text": [
      "\u001b[92m All public tests passed\n"
     ]
    }
   ],
   "source": [
    "utils.test_model_compile(model)"
   ]
  },
  {
   "cell_type": "markdown",
   "metadata": {
    "colab_type": "text",
    "id": "90MpAMpWuKm-"
   },
   "source": [
    "## Training the Model\n",
    "\n",
    "Fit the model to the training inputs and outputs. \n",
    "- Check the documentation for [model.fit](https://www.tensorflow.org/api_docs/python/tf/keras/Model#fit).\n",
    "- Remember to use the normalized training set as inputs. \n",
    "- For the validation data, please use the normalized validation set."
   ]
  },
  {
   "cell_type": "code",
   "execution_count": 126,
   "metadata": {},
   "outputs": [
    {
     "data": {
      "text/html": [
       "<div>\n",
       "<style scoped>\n",
       "    .dataframe tbody tr th:only-of-type {\n",
       "        vertical-align: middle;\n",
       "    }\n",
       "\n",
       "    .dataframe tbody tr th {\n",
       "        vertical-align: top;\n",
       "    }\n",
       "\n",
       "    .dataframe thead th {\n",
       "        text-align: right;\n",
       "    }\n",
       "</style>\n",
       "<table border=\"1\" class=\"dataframe\">\n",
       "  <thead>\n",
       "    <tr style=\"text-align: right;\">\n",
       "      <th></th>\n",
       "      <th>fixed acidity</th>\n",
       "      <th>volatile acidity</th>\n",
       "      <th>citric acid</th>\n",
       "      <th>residual sugar</th>\n",
       "      <th>chlorides</th>\n",
       "      <th>free sulfur dioxide</th>\n",
       "      <th>total sulfur dioxide</th>\n",
       "      <th>density</th>\n",
       "      <th>pH</th>\n",
       "      <th>sulphates</th>\n",
       "      <th>alcohol</th>\n",
       "    </tr>\n",
       "  </thead>\n",
       "  <tbody>\n",
       "    <tr>\n",
       "      <th>225</th>\n",
       "      <td>7.5</td>\n",
       "      <td>0.65</td>\n",
       "      <td>0.18</td>\n",
       "      <td>7.00</td>\n",
       "      <td>0.088</td>\n",
       "      <td>27.0</td>\n",
       "      <td>94.0</td>\n",
       "      <td>0.99915</td>\n",
       "      <td>3.38</td>\n",
       "      <td>0.77</td>\n",
       "      <td>9.4</td>\n",
       "    </tr>\n",
       "    <tr>\n",
       "      <th>3557</th>\n",
       "      <td>6.3</td>\n",
       "      <td>0.27</td>\n",
       "      <td>0.29</td>\n",
       "      <td>12.20</td>\n",
       "      <td>0.044</td>\n",
       "      <td>59.0</td>\n",
       "      <td>196.0</td>\n",
       "      <td>0.99782</td>\n",
       "      <td>3.14</td>\n",
       "      <td>0.40</td>\n",
       "      <td>8.8</td>\n",
       "    </tr>\n",
       "    <tr>\n",
       "      <th>3825</th>\n",
       "      <td>8.8</td>\n",
       "      <td>0.27</td>\n",
       "      <td>0.25</td>\n",
       "      <td>5.00</td>\n",
       "      <td>0.024</td>\n",
       "      <td>52.0</td>\n",
       "      <td>99.0</td>\n",
       "      <td>0.99250</td>\n",
       "      <td>2.87</td>\n",
       "      <td>0.49</td>\n",
       "      <td>11.4</td>\n",
       "    </tr>\n",
       "    <tr>\n",
       "      <th>1740</th>\n",
       "      <td>6.4</td>\n",
       "      <td>0.45</td>\n",
       "      <td>0.07</td>\n",
       "      <td>1.10</td>\n",
       "      <td>0.030</td>\n",
       "      <td>10.0</td>\n",
       "      <td>131.0</td>\n",
       "      <td>0.99050</td>\n",
       "      <td>2.97</td>\n",
       "      <td>0.28</td>\n",
       "      <td>10.8</td>\n",
       "    </tr>\n",
       "    <tr>\n",
       "      <th>1221</th>\n",
       "      <td>7.2</td>\n",
       "      <td>0.53</td>\n",
       "      <td>0.13</td>\n",
       "      <td>2.00</td>\n",
       "      <td>0.058</td>\n",
       "      <td>18.0</td>\n",
       "      <td>22.0</td>\n",
       "      <td>0.99573</td>\n",
       "      <td>3.21</td>\n",
       "      <td>0.68</td>\n",
       "      <td>9.9</td>\n",
       "    </tr>\n",
       "    <tr>\n",
       "      <th>...</th>\n",
       "      <td>...</td>\n",
       "      <td>...</td>\n",
       "      <td>...</td>\n",
       "      <td>...</td>\n",
       "      <td>...</td>\n",
       "      <td>...</td>\n",
       "      <td>...</td>\n",
       "      <td>...</td>\n",
       "      <td>...</td>\n",
       "      <td>...</td>\n",
       "      <td>...</td>\n",
       "    </tr>\n",
       "    <tr>\n",
       "      <th>1916</th>\n",
       "      <td>7.0</td>\n",
       "      <td>0.21</td>\n",
       "      <td>0.37</td>\n",
       "      <td>7.20</td>\n",
       "      <td>0.042</td>\n",
       "      <td>36.0</td>\n",
       "      <td>167.0</td>\n",
       "      <td>0.99580</td>\n",
       "      <td>3.26</td>\n",
       "      <td>0.56</td>\n",
       "      <td>9.8</td>\n",
       "    </tr>\n",
       "    <tr>\n",
       "      <th>606</th>\n",
       "      <td>9.2</td>\n",
       "      <td>0.53</td>\n",
       "      <td>0.24</td>\n",
       "      <td>2.60</td>\n",
       "      <td>0.078</td>\n",
       "      <td>28.0</td>\n",
       "      <td>139.0</td>\n",
       "      <td>0.99788</td>\n",
       "      <td>3.21</td>\n",
       "      <td>0.57</td>\n",
       "      <td>9.5</td>\n",
       "    </tr>\n",
       "    <tr>\n",
       "      <th>1255</th>\n",
       "      <td>6.0</td>\n",
       "      <td>0.58</td>\n",
       "      <td>0.20</td>\n",
       "      <td>2.40</td>\n",
       "      <td>0.075</td>\n",
       "      <td>15.0</td>\n",
       "      <td>50.0</td>\n",
       "      <td>0.99467</td>\n",
       "      <td>3.58</td>\n",
       "      <td>0.67</td>\n",
       "      <td>12.5</td>\n",
       "    </tr>\n",
       "    <tr>\n",
       "      <th>959</th>\n",
       "      <td>6.8</td>\n",
       "      <td>0.66</td>\n",
       "      <td>0.07</td>\n",
       "      <td>1.60</td>\n",
       "      <td>0.070</td>\n",
       "      <td>16.0</td>\n",
       "      <td>61.0</td>\n",
       "      <td>0.99572</td>\n",
       "      <td>3.29</td>\n",
       "      <td>0.60</td>\n",
       "      <td>9.3</td>\n",
       "    </tr>\n",
       "    <tr>\n",
       "      <th>2887</th>\n",
       "      <td>6.0</td>\n",
       "      <td>0.28</td>\n",
       "      <td>0.22</td>\n",
       "      <td>12.15</td>\n",
       "      <td>0.048</td>\n",
       "      <td>42.0</td>\n",
       "      <td>163.0</td>\n",
       "      <td>0.99570</td>\n",
       "      <td>3.20</td>\n",
       "      <td>0.46</td>\n",
       "      <td>10.1</td>\n",
       "    </tr>\n",
       "  </tbody>\n",
       "</table>\n",
       "<p>3155 rows × 11 columns</p>\n",
       "</div>"
      ],
      "text/plain": [
       "      fixed acidity  volatile acidity  citric acid  residual sugar  chlorides  \\\n",
       "225             7.5              0.65         0.18            7.00      0.088   \n",
       "3557            6.3              0.27         0.29           12.20      0.044   \n",
       "3825            8.8              0.27         0.25            5.00      0.024   \n",
       "1740            6.4              0.45         0.07            1.10      0.030   \n",
       "1221            7.2              0.53         0.13            2.00      0.058   \n",
       "...             ...               ...          ...             ...        ...   \n",
       "1916            7.0              0.21         0.37            7.20      0.042   \n",
       "606             9.2              0.53         0.24            2.60      0.078   \n",
       "1255            6.0              0.58         0.20            2.40      0.075   \n",
       "959             6.8              0.66         0.07            1.60      0.070   \n",
       "2887            6.0              0.28         0.22           12.15      0.048   \n",
       "\n",
       "      free sulfur dioxide  total sulfur dioxide  density    pH  sulphates  \\\n",
       "225                  27.0                  94.0  0.99915  3.38       0.77   \n",
       "3557                 59.0                 196.0  0.99782  3.14       0.40   \n",
       "3825                 52.0                  99.0  0.99250  2.87       0.49   \n",
       "1740                 10.0                 131.0  0.99050  2.97       0.28   \n",
       "1221                 18.0                  22.0  0.99573  3.21       0.68   \n",
       "...                   ...                   ...      ...   ...        ...   \n",
       "1916                 36.0                 167.0  0.99580  3.26       0.56   \n",
       "606                  28.0                 139.0  0.99788  3.21       0.57   \n",
       "1255                 15.0                  50.0  0.99467  3.58       0.67   \n",
       "959                  16.0                  61.0  0.99572  3.29       0.60   \n",
       "2887                 42.0                 163.0  0.99570  3.20       0.46   \n",
       "\n",
       "      alcohol  \n",
       "225       9.4  \n",
       "3557      8.8  \n",
       "3825     11.4  \n",
       "1740     10.8  \n",
       "1221      9.9  \n",
       "...       ...  \n",
       "1916      9.8  \n",
       "606       9.5  \n",
       "1255     12.5  \n",
       "959       9.3  \n",
       "2887     10.1  \n",
       "\n",
       "[3155 rows x 11 columns]"
      ]
     },
     "execution_count": 126,
     "metadata": {},
     "output_type": "execute_result"
    }
   ],
   "source": [
    "train"
   ]
  },
  {
   "cell_type": "code",
   "execution_count": 127,
   "metadata": {
    "colab": {},
    "colab_type": "code",
    "deletable": false,
    "id": "_eiZkle4XwiY",
    "nbgrader": {
     "cell_type": "code",
     "checksum": "2ca7664be03bfd6fd3651ae44d17b793",
     "grade": false,
     "grade_id": "cell-0bb56262896f6680",
     "locked": false,
     "schema_version": 3,
     "solution": true,
     "task": false
    },
    "scrolled": true
   },
   "outputs": [
    {
     "name": "stdout",
     "output_type": "stream",
     "text": [
      "Train on 3155 samples, validate on 789 samples\n",
      "Epoch 1/180\n",
      "3155/3155 [==============================] - 1s 379us/sample - loss: 25.4077 - wine_quality_loss: 24.7403 - wine_type_loss: 0.6273 - wine_quality_root_mean_squared_error: 4.9780 - wine_type_accuracy: 0.0000e+00 - val_loss: 18.0062 - val_wine_quality_loss: 17.4249 - val_wine_type_loss: 0.6015 - val_wine_quality_root_mean_squared_error: 4.1719 - val_wine_type_accuracy: 0.0000e+00\n",
      "Epoch 2/180\n",
      "3155/3155 [==============================] - 0s 100us/sample - loss: 12.2603 - wine_quality_loss: 11.6855 - wine_type_loss: 0.5647 - wine_quality_root_mean_squared_error: 3.4199 - wine_type_accuracy: 0.0000e+00 - val_loss: 7.3702 - val_wine_quality_loss: 6.8998 - val_wine_type_loss: 0.5253 - val_wine_quality_root_mean_squared_error: 2.6163 - val_wine_type_accuracy: 0.0000e+00\n",
      "Epoch 3/180\n",
      "3155/3155 [==============================] - 0s 95us/sample - loss: 5.1078 - wine_quality_loss: 4.6248 - wine_type_loss: 0.4771 - wine_quality_root_mean_squared_error: 2.1518 - wine_type_accuracy: 0.0000e+00 - val_loss: 3.4224 - val_wine_quality_loss: 3.0577 - val_wine_type_loss: 0.4310 - val_wine_quality_root_mean_squared_error: 1.7296 - val_wine_type_accuracy: 0.0000e+00\n",
      "Epoch 4/180\n",
      "3155/3155 [==============================] - 0s 93us/sample - loss: 3.1110 - wine_quality_loss: 2.7259 - wine_type_loss: 0.3780 - wine_quality_root_mean_squared_error: 1.6530 - wine_type_accuracy: 0.0000e+00 - val_loss: 2.6311 - val_wine_quality_loss: 2.3415 - val_wine_type_loss: 0.3380 - val_wine_quality_root_mean_squared_error: 1.5143 - val_wine_type_accuracy: 0.0000e+00\n",
      "Epoch 5/180\n",
      "3155/3155 [==============================] - 0s 94us/sample - loss: 2.5013 - wine_quality_loss: 2.2027 - wine_type_loss: 0.2989 - wine_quality_root_mean_squared_error: 1.4840 - wine_type_accuracy: 0.0000e+00 - val_loss: 2.1935 - val_wine_quality_loss: 1.9639 - val_wine_type_loss: 0.2673 - val_wine_quality_root_mean_squared_error: 1.3879 - val_wine_type_accuracy: 0.0000e+00\n",
      "Epoch 6/180\n",
      "3155/3155 [==============================] - 0s 92us/sample - loss: 2.0979 - wine_quality_loss: 1.8611 - wine_type_loss: 0.2341 - wine_quality_root_mean_squared_error: 1.3654 - wine_type_accuracy: 0.0000e+00 - val_loss: 1.8931 - val_wine_quality_loss: 1.7100 - val_wine_type_loss: 0.2105 - val_wine_quality_root_mean_squared_error: 1.2971 - val_wine_type_accuracy: 0.0000e+00\n",
      "Epoch 7/180\n",
      "3155/3155 [==============================] - 0s 76us/sample - loss: 1.8399 - wine_quality_loss: 1.6530 - wine_type_loss: 0.1851 - wine_quality_root_mean_squared_error: 1.2863 - wine_type_accuracy: 0.0000e+00 - val_loss: 1.6902 - val_wine_quality_loss: 1.5434 - val_wine_type_loss: 0.1672 - val_wine_quality_root_mean_squared_error: 1.2340 - val_wine_type_accuracy: 0.0000e+00\n",
      "Epoch 8/180\n",
      "3155/3155 [==============================] - 0s 92us/sample - loss: 1.6517 - wine_quality_loss: 1.5015 - wine_type_loss: 0.1483 - wine_quality_root_mean_squared_error: 1.2260 - wine_type_accuracy: 0.0000e+00 - val_loss: 1.5342 - val_wine_quality_loss: 1.4159 - val_wine_type_loss: 0.1348 - val_wine_quality_root_mean_squared_error: 1.1829 - val_wine_type_accuracy: 0.0000e+00\n",
      "Epoch 9/180\n",
      "3155/3155 [==============================] - 0s 92us/sample - loss: 1.5151 - wine_quality_loss: 1.3942 - wine_type_loss: 0.1210 - wine_quality_root_mean_squared_error: 1.1806 - wine_type_accuracy: 0.0000e+00 - val_loss: 1.4132 - val_wine_quality_loss: 1.3155 - val_wine_type_loss: 0.1100 - val_wine_quality_root_mean_squared_error: 1.1415 - val_wine_type_accuracy: 0.0000e+00\n",
      "Epoch 10/180\n",
      "3155/3155 [==============================] - 0s 91us/sample - loss: 1.4050 - wine_quality_loss: 1.3031 - wine_type_loss: 0.1012 - wine_quality_root_mean_squared_error: 1.1418 - wine_type_accuracy: 0.0000e+00 - val_loss: 1.3126 - val_wine_quality_loss: 1.2294 - val_wine_type_loss: 0.0923 - val_wine_quality_root_mean_squared_error: 1.1046 - val_wine_type_accuracy: 0.0000e+00\n",
      "Epoch 11/180\n",
      "3155/3155 [==============================] - 0s 99us/sample - loss: 1.3135 - wine_quality_loss: 1.2254 - wine_type_loss: 0.0869 - wine_quality_root_mean_squared_error: 1.1074 - wine_type_accuracy: 0.0000e+00 - val_loss: 1.2412 - val_wine_quality_loss: 1.1682 - val_wine_type_loss: 0.0799 - val_wine_quality_root_mean_squared_error: 1.0775 - val_wine_type_accuracy: 0.0000e+00\n",
      "Epoch 12/180\n",
      "3155/3155 [==============================] - 0s 92us/sample - loss: 1.2239 - wine_quality_loss: 1.1504 - wine_type_loss: 0.0761 - wine_quality_root_mean_squared_error: 1.0713 - wine_type_accuracy: 0.0000e+00 - val_loss: 1.1462 - val_wine_quality_loss: 1.0829 - val_wine_type_loss: 0.0696 - val_wine_quality_root_mean_squared_error: 1.0375 - val_wine_type_accuracy: 0.0000e+00\n",
      "Epoch 13/180\n",
      "3155/3155 [==============================] - 0s 91us/sample - loss: 1.1450 - wine_quality_loss: 1.0769 - wine_type_loss: 0.0687 - wine_quality_root_mean_squared_error: 1.0379 - wine_type_accuracy: 0.0000e+00 - val_loss: 1.0791 - val_wine_quality_loss: 1.0216 - val_wine_type_loss: 0.0623 - val_wine_quality_root_mean_squared_error: 1.0082 - val_wine_type_accuracy: 0.0000e+00\n",
      "Epoch 14/180\n",
      "3155/3155 [==============================] - 0s 75us/sample - loss: 1.0722 - wine_quality_loss: 1.0120 - wine_type_loss: 0.0616 - wine_quality_root_mean_squared_error: 1.0052 - wine_type_accuracy: 0.0000e+00 - val_loss: 1.0275 - val_wine_quality_loss: 0.9736 - val_wine_type_loss: 0.0564 - val_wine_quality_root_mean_squared_error: 0.9853 - val_wine_type_accuracy: 0.0000e+00\n",
      "Epoch 15/180\n",
      "3155/3155 [==============================] - 0s 91us/sample - loss: 1.0125 - wine_quality_loss: 0.9533 - wine_type_loss: 0.0567 - wine_quality_root_mean_squared_error: 0.9776 - wine_type_accuracy: 0.0000e+00 - val_loss: 0.9526 - val_wine_quality_loss: 0.9037 - val_wine_type_loss: 0.0519 - val_wine_quality_root_mean_squared_error: 0.9489 - val_wine_type_accuracy: 0.0000e+00\n",
      "Epoch 16/180\n",
      "3155/3155 [==============================] - 0s 94us/sample - loss: 0.9570 - wine_quality_loss: 0.9047 - wine_type_loss: 0.0528 - wine_quality_root_mean_squared_error: 0.9509 - wine_type_accuracy: 0.0000e+00 - val_loss: 0.9038 - val_wine_quality_loss: 0.8570 - val_wine_type_loss: 0.0485 - val_wine_quality_root_mean_squared_error: 0.9246 - val_wine_type_accuracy: 0.0000e+00\n",
      "Epoch 17/180\n",
      "3155/3155 [==============================] - 0s 92us/sample - loss: 0.9022 - wine_quality_loss: 0.8515 - wine_type_loss: 0.0496 - wine_quality_root_mean_squared_error: 0.9233 - wine_type_accuracy: 0.0000e+00 - val_loss: 0.8527 - val_wine_quality_loss: 0.8085 - val_wine_type_loss: 0.0458 - val_wine_quality_root_mean_squared_error: 0.8981 - val_wine_type_accuracy: 0.0000e+00\n",
      "Epoch 18/180\n",
      "3155/3155 [==============================] - 0s 92us/sample - loss: 0.8540 - wine_quality_loss: 0.8067 - wine_type_loss: 0.0474 - wine_quality_root_mean_squared_error: 0.8982 - wine_type_accuracy: 0.0000e+00 - val_loss: 0.8090 - val_wine_quality_loss: 0.7665 - val_wine_type_loss: 0.0434 - val_wine_quality_root_mean_squared_error: 0.8748 - val_wine_type_accuracy: 0.0000e+00\n",
      "Epoch 19/180\n",
      "3155/3155 [==============================] - 0s 74us/sample - loss: 0.8065 - wine_quality_loss: 0.7602 - wine_type_loss: 0.0451 - wine_quality_root_mean_squared_error: 0.8726 - wine_type_accuracy: 0.0000e+00 - val_loss: 0.7715 - val_wine_quality_loss: 0.7298 - val_wine_type_loss: 0.0417 - val_wine_quality_root_mean_squared_error: 0.8540 - val_wine_type_accuracy: 0.0000e+00\n",
      "Epoch 20/180\n",
      "3155/3155 [==============================] - 0s 91us/sample - loss: 0.7622 - wine_quality_loss: 0.7196 - wine_type_loss: 0.0446 - wine_quality_root_mean_squared_error: 0.8478 - wine_type_accuracy: 0.0000e+00 - val_loss: 0.7409 - val_wine_quality_loss: 0.7010 - val_wine_type_loss: 0.0401 - val_wine_quality_root_mean_squared_error: 0.8369 - val_wine_type_accuracy: 0.0000e+00\n",
      "Epoch 21/180\n",
      "3155/3155 [==============================] - 0s 91us/sample - loss: 0.7251 - wine_quality_loss: 0.6836 - wine_type_loss: 0.0420 - wine_quality_root_mean_squared_error: 0.8264 - wine_type_accuracy: 0.0000e+00 - val_loss: 0.6948 - val_wine_quality_loss: 0.6558 - val_wine_type_loss: 0.0389 - val_wine_quality_root_mean_squared_error: 0.8097 - val_wine_type_accuracy: 0.0000e+00\n",
      "Epoch 22/180\n",
      "3155/3155 [==============================] - 0s 91us/sample - loss: 0.6909 - wine_quality_loss: 0.6494 - wine_type_loss: 0.0407 - wine_quality_root_mean_squared_error: 0.8062 - wine_type_accuracy: 0.0000e+00 - val_loss: 0.6667 - val_wine_quality_loss: 0.6280 - val_wine_type_loss: 0.0380 - val_wine_quality_root_mean_squared_error: 0.7927 - val_wine_type_accuracy: 0.0000e+00\n",
      "Epoch 23/180\n",
      "3155/3155 [==============================] - 0s 74us/sample - loss: 0.6598 - wine_quality_loss: 0.6199 - wine_type_loss: 0.0397 - wine_quality_root_mean_squared_error: 0.7874 - wine_type_accuracy: 0.0000e+00 - val_loss: 0.6370 - val_wine_quality_loss: 0.5988 - val_wine_type_loss: 0.0371 - val_wine_quality_root_mean_squared_error: 0.7743 - val_wine_type_accuracy: 0.0000e+00\n",
      "Epoch 24/180\n",
      "3155/3155 [==============================] - 0s 90us/sample - loss: 0.6288 - wine_quality_loss: 0.5896 - wine_type_loss: 0.0397 - wine_quality_root_mean_squared_error: 0.7681 - wine_type_accuracy: 0.0000e+00 - val_loss: 0.6030 - val_wine_quality_loss: 0.5661 - val_wine_type_loss: 0.0364 - val_wine_quality_root_mean_squared_error: 0.7525 - val_wine_type_accuracy: 0.0000e+00\n",
      "Epoch 25/180\n",
      "3155/3155 [==============================] - 0s 91us/sample - loss: 0.5996 - wine_quality_loss: 0.5612 - wine_type_loss: 0.0378 - wine_quality_root_mean_squared_error: 0.7494 - wine_type_accuracy: 0.0000e+00 - val_loss: 0.5741 - val_wine_quality_loss: 0.5376 - val_wine_type_loss: 0.0356 - val_wine_quality_root_mean_squared_error: 0.7336 - val_wine_type_accuracy: 0.0000e+00\n",
      "Epoch 26/180\n",
      "3155/3155 [==============================] - 0s 89us/sample - loss: 0.5734 - wine_quality_loss: 0.5371 - wine_type_loss: 0.0372 - wine_quality_root_mean_squared_error: 0.7322 - wine_type_accuracy: 0.0000e+00 - val_loss: 0.5507 - val_wine_quality_loss: 0.5147 - val_wine_type_loss: 0.0350 - val_wine_quality_root_mean_squared_error: 0.7179 - val_wine_type_accuracy: 0.0000e+00\n",
      "Epoch 27/180\n",
      "3155/3155 [==============================] - 0s 74us/sample - loss: 0.5509 - wine_quality_loss: 0.5151 - wine_type_loss: 0.0365 - wine_quality_root_mean_squared_error: 0.7172 - wine_type_accuracy: 0.0000e+00 - val_loss: 0.5318 - val_wine_quality_loss: 0.4964 - val_wine_type_loss: 0.0345 - val_wine_quality_root_mean_squared_error: 0.7049 - val_wine_type_accuracy: 0.0000e+00\n",
      "Epoch 28/180\n",
      "3155/3155 [==============================] - 0s 89us/sample - loss: 0.5295 - wine_quality_loss: 0.4926 - wine_type_loss: 0.0358 - wine_quality_root_mean_squared_error: 0.7026 - wine_type_accuracy: 0.0000e+00 - val_loss: 0.5076 - val_wine_quality_loss: 0.4727 - val_wine_type_loss: 0.0339 - val_wine_quality_root_mean_squared_error: 0.6880 - val_wine_type_accuracy: 0.0000e+00\n",
      "Epoch 29/180\n",
      "3155/3155 [==============================] - 0s 89us/sample - loss: 0.5110 - wine_quality_loss: 0.4750 - wine_type_loss: 0.0353 - wine_quality_root_mean_squared_error: 0.6897 - wine_type_accuracy: 0.0000e+00 - val_loss: 0.5010 - val_wine_quality_loss: 0.4666 - val_wine_type_loss: 0.0336 - val_wine_quality_root_mean_squared_error: 0.6834 - val_wine_type_accuracy: 0.0000e+00\n",
      "Epoch 30/180\n",
      "3155/3155 [==============================] - 0s 74us/sample - loss: 0.4926 - wine_quality_loss: 0.4577 - wine_type_loss: 0.0348 - wine_quality_root_mean_squared_error: 0.6766 - wine_type_accuracy: 0.0000e+00 - val_loss: 0.4789 - val_wine_quality_loss: 0.4445 - val_wine_type_loss: 0.0332 - val_wine_quality_root_mean_squared_error: 0.6673 - val_wine_type_accuracy: 0.0000e+00\n",
      "Epoch 31/180\n",
      "3155/3155 [==============================] - 0s 91us/sample - loss: 0.4761 - wine_quality_loss: 0.4417 - wine_type_loss: 0.0359 - wine_quality_root_mean_squared_error: 0.6646 - wine_type_accuracy: 0.0000e+00 - val_loss: 0.4640 - val_wine_quality_loss: 0.4299 - val_wine_type_loss: 0.0329 - val_wine_quality_root_mean_squared_error: 0.6563 - val_wine_type_accuracy: 0.0000e+00\n",
      "Epoch 32/180\n",
      "3155/3155 [==============================] - 0s 90us/sample - loss: 0.4615 - wine_quality_loss: 0.4281 - wine_type_loss: 0.0339 - wine_quality_root_mean_squared_error: 0.6539 - wine_type_accuracy: 0.0000e+00 - val_loss: 0.4443 - val_wine_quality_loss: 0.4104 - val_wine_type_loss: 0.0325 - val_wine_quality_root_mean_squared_error: 0.6414 - val_wine_type_accuracy: 0.0000e+00\n",
      "Epoch 33/180\n",
      "3155/3155 [==============================] - 0s 92us/sample - loss: 0.4490 - wine_quality_loss: 0.4154 - wine_type_loss: 0.0335 - wine_quality_root_mean_squared_error: 0.6445 - wine_type_accuracy: 0.0000e+00 - val_loss: 0.4365 - val_wine_quality_loss: 0.4028 - val_wine_type_loss: 0.0324 - val_wine_quality_root_mean_squared_error: 0.6355 - val_wine_type_accuracy: 0.0000e+00\n",
      "Epoch 34/180\n",
      "3155/3155 [==============================] - 0s 78us/sample - loss: 0.4380 - wine_quality_loss: 0.4050 - wine_type_loss: 0.0332 - wine_quality_root_mean_squared_error: 0.6363 - wine_type_accuracy: 0.0000e+00 - val_loss: 0.4307 - val_wine_quality_loss: 0.3973 - val_wine_type_loss: 0.0320 - val_wine_quality_root_mean_squared_error: 0.6312 - val_wine_type_accuracy: 0.0000e+00\n",
      "Epoch 35/180\n",
      "3155/3155 [==============================] - 0s 91us/sample - loss: 0.4273 - wine_quality_loss: 0.3950 - wine_type_loss: 0.0338 - wine_quality_root_mean_squared_error: 0.6280 - wine_type_accuracy: 0.0000e+00 - val_loss: 0.4191 - val_wine_quality_loss: 0.3860 - val_wine_type_loss: 0.0317 - val_wine_quality_root_mean_squared_error: 0.6220 - val_wine_type_accuracy: 0.0000e+00\n",
      "Epoch 36/180\n",
      "3155/3155 [==============================] - 0s 92us/sample - loss: 0.4172 - wine_quality_loss: 0.3846 - wine_type_loss: 0.0340 - wine_quality_root_mean_squared_error: 0.6202 - wine_type_accuracy: 0.0000e+00 - val_loss: 0.4080 - val_wine_quality_loss: 0.3753 - val_wine_type_loss: 0.0315 - val_wine_quality_root_mean_squared_error: 0.6132 - val_wine_type_accuracy: 0.0000e+00\n",
      "Epoch 37/180\n",
      "3155/3155 [==============================] - 0s 90us/sample - loss: 0.4098 - wine_quality_loss: 0.3777 - wine_type_loss: 0.0321 - wine_quality_root_mean_squared_error: 0.6145 - wine_type_accuracy: 0.0000e+00 - val_loss: 0.4041 - val_wine_quality_loss: 0.3717 - val_wine_type_loss: 0.0313 - val_wine_quality_root_mean_squared_error: 0.6103 - val_wine_type_accuracy: 0.0000e+00\n",
      "Epoch 38/180\n",
      "3155/3155 [==============================] - 0s 74us/sample - loss: 0.4020 - wine_quality_loss: 0.3703 - wine_type_loss: 0.0318 - wine_quality_root_mean_squared_error: 0.6083 - wine_type_accuracy: 0.0000e+00 - val_loss: 0.4064 - val_wine_quality_loss: 0.3741 - val_wine_type_loss: 0.0311 - val_wine_quality_root_mean_squared_error: 0.6123 - val_wine_type_accuracy: 0.0000e+00\n",
      "Epoch 39/180\n",
      "3155/3155 [==============================] - 0s 91us/sample - loss: 0.3953 - wine_quality_loss: 0.3637 - wine_type_loss: 0.0319 - wine_quality_root_mean_squared_error: 0.6031 - wine_type_accuracy: 0.0000e+00 - val_loss: 0.3966 - val_wine_quality_loss: 0.3638 - val_wine_type_loss: 0.0310 - val_wine_quality_root_mean_squared_error: 0.6043 - val_wine_type_accuracy: 0.0000e+00\n",
      "Epoch 40/180\n",
      "3155/3155 [==============================] - 0s 90us/sample - loss: 0.3894 - wine_quality_loss: 0.3576 - wine_type_loss: 0.0324 - wine_quality_root_mean_squared_error: 0.5983 - wine_type_accuracy: 0.0000e+00 - val_loss: 0.3826 - val_wine_quality_loss: 0.3504 - val_wine_type_loss: 0.0308 - val_wine_quality_root_mean_squared_error: 0.5928 - val_wine_type_accuracy: 0.0000e+00\n",
      "Epoch 41/180\n",
      "3155/3155 [==============================] - 0s 90us/sample - loss: 0.3835 - wine_quality_loss: 0.3519 - wine_type_loss: 0.0311 - wine_quality_root_mean_squared_error: 0.5936 - wine_type_accuracy: 0.0000e+00 - val_loss: 0.3884 - val_wine_quality_loss: 0.3558 - val_wine_type_loss: 0.0308 - val_wine_quality_root_mean_squared_error: 0.5977 - val_wine_type_accuracy: 0.0000e+00\n",
      "Epoch 42/180\n",
      "3155/3155 [==============================] - 0s 75us/sample - loss: 0.3782 - wine_quality_loss: 0.3481 - wine_type_loss: 0.0308 - wine_quality_root_mean_squared_error: 0.5893 - wine_type_accuracy: 0.0000e+00 - val_loss: 0.3800 - val_wine_quality_loss: 0.3479 - val_wine_type_loss: 0.0306 - val_wine_quality_root_mean_squared_error: 0.5908 - val_wine_type_accuracy: 0.0000e+00\n",
      "Epoch 43/180\n",
      "3155/3155 [==============================] - 0s 90us/sample - loss: 0.3742 - wine_quality_loss: 0.3435 - wine_type_loss: 0.0305 - wine_quality_root_mean_squared_error: 0.5862 - wine_type_accuracy: 0.0000e+00 - val_loss: 0.3723 - val_wine_quality_loss: 0.3404 - val_wine_type_loss: 0.0306 - val_wine_quality_root_mean_squared_error: 0.5842 - val_wine_type_accuracy: 0.0000e+00\n",
      "Epoch 44/180\n",
      "3155/3155 [==============================] - 0s 90us/sample - loss: 0.3703 - wine_quality_loss: 0.3396 - wine_type_loss: 0.0306 - wine_quality_root_mean_squared_error: 0.5830 - wine_type_accuracy: 0.0000e+00 - val_loss: 0.3704 - val_wine_quality_loss: 0.3382 - val_wine_type_loss: 0.0307 - val_wine_quality_root_mean_squared_error: 0.5826 - val_wine_type_accuracy: 0.0000e+00\n",
      "Epoch 45/180\n",
      "3155/3155 [==============================] - 0s 73us/sample - loss: 0.3665 - wine_quality_loss: 0.3367 - wine_type_loss: 0.0301 - wine_quality_root_mean_squared_error: 0.5799 - wine_type_accuracy: 0.0000e+00 - val_loss: 0.3722 - val_wine_quality_loss: 0.3401 - val_wine_type_loss: 0.0304 - val_wine_quality_root_mean_squared_error: 0.5844 - val_wine_type_accuracy: 0.0000e+00\n",
      "Epoch 46/180\n",
      "3155/3155 [==============================] - 0s 90us/sample - loss: 0.3636 - wine_quality_loss: 0.3340 - wine_type_loss: 0.0299 - wine_quality_root_mean_squared_error: 0.5776 - wine_type_accuracy: 0.0000e+00 - val_loss: 0.3638 - val_wine_quality_loss: 0.3324 - val_wine_type_loss: 0.0302 - val_wine_quality_root_mean_squared_error: 0.5773 - val_wine_type_accuracy: 0.0000e+00\n",
      "Epoch 47/180\n",
      "3155/3155 [==============================] - 0s 89us/sample - loss: 0.3600 - wine_quality_loss: 0.3300 - wine_type_loss: 0.0308 - wine_quality_root_mean_squared_error: 0.5747 - wine_type_accuracy: 0.0000e+00 - val_loss: 0.3595 - val_wine_quality_loss: 0.3280 - val_wine_type_loss: 0.0302 - val_wine_quality_root_mean_squared_error: 0.5735 - val_wine_type_accuracy: 0.0000e+00\n",
      "Epoch 48/180\n",
      "3155/3155 [==============================] - 0s 74us/sample - loss: 0.3573 - wine_quality_loss: 0.3281 - wine_type_loss: 0.0294 - wine_quality_root_mean_squared_error: 0.5725 - wine_type_accuracy: 0.0000e+00 - val_loss: 0.3618 - val_wine_quality_loss: 0.3302 - val_wine_type_loss: 0.0302 - val_wine_quality_root_mean_squared_error: 0.5756 - val_wine_type_accuracy: 0.0000e+00\n",
      "Epoch 49/180\n",
      "3155/3155 [==============================] - 0s 90us/sample - loss: 0.3547 - wine_quality_loss: 0.3249 - wine_type_loss: 0.0293 - wine_quality_root_mean_squared_error: 0.5704 - wine_type_accuracy: 0.0000e+00 - val_loss: 0.3588 - val_wine_quality_loss: 0.3272 - val_wine_type_loss: 0.0300 - val_wine_quality_root_mean_squared_error: 0.5730 - val_wine_type_accuracy: 0.0000e+00\n",
      "Epoch 50/180\n",
      "3155/3155 [==============================] - 0s 92us/sample - loss: 0.3517 - wine_quality_loss: 0.3223 - wine_type_loss: 0.0290 - wine_quality_root_mean_squared_error: 0.5680 - wine_type_accuracy: 0.0000e+00 - val_loss: 0.3578 - val_wine_quality_loss: 0.3266 - val_wine_type_loss: 0.0300 - val_wine_quality_root_mean_squared_error: 0.5722 - val_wine_type_accuracy: 0.0000e+00\n",
      "Epoch 51/180\n",
      "3155/3155 [==============================] - 0s 89us/sample - loss: 0.3494 - wine_quality_loss: 0.3199 - wine_type_loss: 0.0289 - wine_quality_root_mean_squared_error: 0.5661 - wine_type_accuracy: 0.0000e+00 - val_loss: 0.3513 - val_wine_quality_loss: 0.3200 - val_wine_type_loss: 0.0297 - val_wine_quality_root_mean_squared_error: 0.5668 - val_wine_type_accuracy: 0.0000e+00\n",
      "Epoch 52/180\n",
      "3155/3155 [==============================] - 0s 75us/sample - loss: 0.3471 - wine_quality_loss: 0.3189 - wine_type_loss: 0.0286 - wine_quality_root_mean_squared_error: 0.5642 - wine_type_accuracy: 0.0000e+00 - val_loss: 0.3525 - val_wine_quality_loss: 0.3213 - val_wine_type_loss: 0.0296 - val_wine_quality_root_mean_squared_error: 0.5680 - val_wine_type_accuracy: 0.0000e+00\n",
      "Epoch 53/180\n",
      "3155/3155 [==============================] - 0s 91us/sample - loss: 0.3464 - wine_quality_loss: 0.3174 - wine_type_loss: 0.0286 - wine_quality_root_mean_squared_error: 0.5638 - wine_type_accuracy: 0.0000e+00 - val_loss: 0.3493 - val_wine_quality_loss: 0.3182 - val_wine_type_loss: 0.0297 - val_wine_quality_root_mean_squared_error: 0.5650 - val_wine_type_accuracy: 0.0000e+00\n",
      "Epoch 54/180\n",
      "3155/3155 [==============================] - 0s 91us/sample - loss: 0.3439 - wine_quality_loss: 0.3153 - wine_type_loss: 0.0283 - wine_quality_root_mean_squared_error: 0.5617 - wine_type_accuracy: 0.0000e+00 - val_loss: 0.3473 - val_wine_quality_loss: 0.3166 - val_wine_type_loss: 0.0296 - val_wine_quality_root_mean_squared_error: 0.5633 - val_wine_type_accuracy: 0.0000e+00\n",
      "Epoch 55/180\n",
      "3155/3155 [==============================] - 0s 74us/sample - loss: 0.3420 - wine_quality_loss: 0.3137 - wine_type_loss: 0.0281 - wine_quality_root_mean_squared_error: 0.5602 - wine_type_accuracy: 0.0000e+00 - val_loss: 0.3596 - val_wine_quality_loss: 0.3291 - val_wine_type_loss: 0.0295 - val_wine_quality_root_mean_squared_error: 0.5742 - val_wine_type_accuracy: 0.0000e+00\n",
      "Epoch 56/180\n",
      "3155/3155 [==============================] - 0s 77us/sample - loss: 0.3405 - wine_quality_loss: 0.3123 - wine_type_loss: 0.0280 - wine_quality_root_mean_squared_error: 0.5589 - wine_type_accuracy: 0.0000e+00 - val_loss: 0.3474 - val_wine_quality_loss: 0.3166 - val_wine_type_loss: 0.0293 - val_wine_quality_root_mean_squared_error: 0.5636 - val_wine_type_accuracy: 0.0000e+00\n",
      "Epoch 57/180\n",
      "3155/3155 [==============================] - 0s 91us/sample - loss: 0.3393 - wine_quality_loss: 0.3112 - wine_type_loss: 0.0279 - wine_quality_root_mean_squared_error: 0.5580 - wine_type_accuracy: 0.0000e+00 - val_loss: 0.3489 - val_wine_quality_loss: 0.3183 - val_wine_type_loss: 0.0292 - val_wine_quality_root_mean_squared_error: 0.5651 - val_wine_type_accuracy: 0.0000e+00\n",
      "Epoch 58/180\n",
      "3155/3155 [==============================] - 0s 91us/sample - loss: 0.3366 - wine_quality_loss: 0.3090 - wine_type_loss: 0.0282 - wine_quality_root_mean_squared_error: 0.5558 - wine_type_accuracy: 0.0000e+00 - val_loss: 0.3498 - val_wine_quality_loss: 0.3187 - val_wine_type_loss: 0.0294 - val_wine_quality_root_mean_squared_error: 0.5658 - val_wine_type_accuracy: 0.0000e+00\n",
      "Epoch 59/180\n",
      "3155/3155 [==============================] - 0s 74us/sample - loss: 0.3359 - wine_quality_loss: 0.3085 - wine_type_loss: 0.0275 - wine_quality_root_mean_squared_error: 0.5552 - wine_type_accuracy: 0.0000e+00 - val_loss: 0.3418 - val_wine_quality_loss: 0.3112 - val_wine_type_loss: 0.0292 - val_wine_quality_root_mean_squared_error: 0.5588 - val_wine_type_accuracy: 0.0000e+00\n",
      "Epoch 60/180\n",
      "3155/3155 [==============================] - 0s 91us/sample - loss: 0.3351 - wine_quality_loss: 0.3070 - wine_type_loss: 0.0274 - wine_quality_root_mean_squared_error: 0.5546 - wine_type_accuracy: 0.0000e+00 - val_loss: 0.3406 - val_wine_quality_loss: 0.3103 - val_wine_type_loss: 0.0291 - val_wine_quality_root_mean_squared_error: 0.5578 - val_wine_type_accuracy: 0.0000e+00\n",
      "Epoch 61/180\n",
      "3155/3155 [==============================] - 0s 91us/sample - loss: 0.3332 - wine_quality_loss: 0.3056 - wine_type_loss: 0.0272 - wine_quality_root_mean_squared_error: 0.5531 - wine_type_accuracy: 0.0000e+00 - val_loss: 0.3525 - val_wine_quality_loss: 0.3218 - val_wine_type_loss: 0.0290 - val_wine_quality_root_mean_squared_error: 0.5684 - val_wine_type_accuracy: 0.0000e+00\n",
      "Epoch 62/180\n",
      "3155/3155 [==============================] - 0s 91us/sample - loss: 0.3315 - wine_quality_loss: 0.3039 - wine_type_loss: 0.0271 - wine_quality_root_mean_squared_error: 0.5517 - wine_type_accuracy: 0.0000e+00 - val_loss: 0.3430 - val_wine_quality_loss: 0.3125 - val_wine_type_loss: 0.0289 - val_wine_quality_root_mean_squared_error: 0.5601 - val_wine_type_accuracy: 0.0000e+00\n",
      "Epoch 63/180\n",
      "3155/3155 [==============================] - 0s 74us/sample - loss: 0.3312 - wine_quality_loss: 0.3048 - wine_type_loss: 0.0271 - wine_quality_root_mean_squared_error: 0.5515 - wine_type_accuracy: 0.0000e+00 - val_loss: 0.3435 - val_wine_quality_loss: 0.3133 - val_wine_type_loss: 0.0290 - val_wine_quality_root_mean_squared_error: 0.5604 - val_wine_type_accuracy: 0.0000e+00\n",
      "Epoch 64/180\n",
      "3155/3155 [==============================] - 0s 92us/sample - loss: 0.3309 - wine_quality_loss: 0.3040 - wine_type_loss: 0.0268 - wine_quality_root_mean_squared_error: 0.5513 - wine_type_accuracy: 0.0000e+00 - val_loss: 0.3449 - val_wine_quality_loss: 0.3147 - val_wine_type_loss: 0.0289 - val_wine_quality_root_mean_squared_error: 0.5618 - val_wine_type_accuracy: 0.0000e+00\n",
      "Epoch 65/180\n",
      "3155/3155 [==============================] - 0s 90us/sample - loss: 0.3286 - wine_quality_loss: 0.3023 - wine_type_loss: 0.0266 - wine_quality_root_mean_squared_error: 0.5495 - wine_type_accuracy: 0.0000e+00 - val_loss: 0.3400 - val_wine_quality_loss: 0.3098 - val_wine_type_loss: 0.0289 - val_wine_quality_root_mean_squared_error: 0.5574 - val_wine_type_accuracy: 0.0000e+00\n",
      "Epoch 66/180\n",
      "3155/3155 [==============================] - 0s 73us/sample - loss: 0.3288 - wine_quality_loss: 0.3021 - wine_type_loss: 0.0265 - wine_quality_root_mean_squared_error: 0.5497 - wine_type_accuracy: 0.0000e+00 - val_loss: 0.3425 - val_wine_quality_loss: 0.3124 - val_wine_type_loss: 0.0288 - val_wine_quality_root_mean_squared_error: 0.5598 - val_wine_type_accuracy: 0.0000e+00\n",
      "Epoch 67/180\n",
      "3155/3155 [==============================] - 0s 90us/sample - loss: 0.3259 - wine_quality_loss: 0.2994 - wine_type_loss: 0.0266 - wine_quality_root_mean_squared_error: 0.5473 - wine_type_accuracy: 0.0000e+00 - val_loss: 0.3405 - val_wine_quality_loss: 0.3106 - val_wine_type_loss: 0.0286 - val_wine_quality_root_mean_squared_error: 0.5582 - val_wine_type_accuracy: 0.0000e+00\n",
      "Epoch 68/180\n",
      "3155/3155 [==============================] - 0s 88us/sample - loss: 0.3257 - wine_quality_loss: 0.2990 - wine_type_loss: 0.0262 - wine_quality_root_mean_squared_error: 0.5472 - wine_type_accuracy: 0.0000e+00 - val_loss: 0.3395 - val_wine_quality_loss: 0.3097 - val_wine_type_loss: 0.0286 - val_wine_quality_root_mean_squared_error: 0.5572 - val_wine_type_accuracy: 0.0000e+00\n",
      "Epoch 69/180\n",
      "3155/3155 [==============================] - 0s 74us/sample - loss: 0.3252 - wine_quality_loss: 0.2992 - wine_type_loss: 0.0261 - wine_quality_root_mean_squared_error: 0.5468 - wine_type_accuracy: 0.0000e+00 - val_loss: 0.3453 - val_wine_quality_loss: 0.3152 - val_wine_type_loss: 0.0286 - val_wine_quality_root_mean_squared_error: 0.5625 - val_wine_type_accuracy: 0.0000e+00\n",
      "Epoch 70/180\n",
      "3155/3155 [==============================] - 0s 90us/sample - loss: 0.3246 - wine_quality_loss: 0.2989 - wine_type_loss: 0.0260 - wine_quality_root_mean_squared_error: 0.5464 - wine_type_accuracy: 0.0000e+00 - val_loss: 0.3385 - val_wine_quality_loss: 0.3087 - val_wine_type_loss: 0.0285 - val_wine_quality_root_mean_squared_error: 0.5564 - val_wine_type_accuracy: 0.0000e+00\n",
      "Epoch 71/180\n",
      "3155/3155 [==============================] - 0s 90us/sample - loss: 0.3239 - wine_quality_loss: 0.2976 - wine_type_loss: 0.0259 - wine_quality_root_mean_squared_error: 0.5459 - wine_type_accuracy: 0.0000e+00 - val_loss: 0.3506 - val_wine_quality_loss: 0.3205 - val_wine_type_loss: 0.0285 - val_wine_quality_root_mean_squared_error: 0.5672 - val_wine_type_accuracy: 0.0000e+00\n",
      "Epoch 72/180\n",
      "3155/3155 [==============================] - 0s 73us/sample - loss: 0.3229 - wine_quality_loss: 0.2972 - wine_type_loss: 0.0257 - wine_quality_root_mean_squared_error: 0.5450 - wine_type_accuracy: 0.0000e+00 - val_loss: 0.3446 - val_wine_quality_loss: 0.3151 - val_wine_type_loss: 0.0285 - val_wine_quality_root_mean_squared_error: 0.5619 - val_wine_type_accuracy: 0.0000e+00\n",
      "Epoch 73/180\n",
      "3155/3155 [==============================] - 0s 90us/sample - loss: 0.3222 - wine_quality_loss: 0.2967 - wine_type_loss: 0.0255 - wine_quality_root_mean_squared_error: 0.5445 - wine_type_accuracy: 0.0000e+00 - val_loss: 0.3380 - val_wine_quality_loss: 0.3084 - val_wine_type_loss: 0.0284 - val_wine_quality_root_mean_squared_error: 0.5560 - val_wine_type_accuracy: 0.0000e+00\n",
      "Epoch 74/180\n",
      "3155/3155 [==============================] - 0s 91us/sample - loss: 0.3204 - wine_quality_loss: 0.2945 - wine_type_loss: 0.0266 - wine_quality_root_mean_squared_error: 0.5430 - wine_type_accuracy: 0.0000e+00 - val_loss: 0.3421 - val_wine_quality_loss: 0.3123 - val_wine_type_loss: 0.0283 - val_wine_quality_root_mean_squared_error: 0.5598 - val_wine_type_accuracy: 0.0000e+00\n",
      "Epoch 75/180\n",
      "3155/3155 [==============================] - 0s 88us/sample - loss: 0.3184 - wine_quality_loss: 0.2937 - wine_type_loss: 0.0254 - wine_quality_root_mean_squared_error: 0.5413 - wine_type_accuracy: 0.0000e+00 - val_loss: 0.3413 - val_wine_quality_loss: 0.3115 - val_wine_type_loss: 0.0283 - val_wine_quality_root_mean_squared_error: 0.5591 - val_wine_type_accuracy: 0.0000e+00\n",
      "Epoch 76/180\n",
      "3155/3155 [==============================] - 0s 74us/sample - loss: 0.3198 - wine_quality_loss: 0.2943 - wine_type_loss: 0.0254 - wine_quality_root_mean_squared_error: 0.5426 - wine_type_accuracy: 0.0000e+00 - val_loss: 0.3382 - val_wine_quality_loss: 0.3089 - val_wine_type_loss: 0.0282 - val_wine_quality_root_mean_squared_error: 0.5565 - val_wine_type_accuracy: 0.0000e+00\n",
      "Epoch 77/180\n",
      "3155/3155 [==============================] - 0s 91us/sample - loss: 0.3202 - wine_quality_loss: 0.2947 - wine_type_loss: 0.0254 - wine_quality_root_mean_squared_error: 0.5431 - wine_type_accuracy: 0.0000e+00 - val_loss: 0.3383 - val_wine_quality_loss: 0.3086 - val_wine_type_loss: 0.0283 - val_wine_quality_root_mean_squared_error: 0.5564 - val_wine_type_accuracy: 0.0000e+00\n",
      "Epoch 78/180\n",
      "3155/3155 [==============================] - 0s 91us/sample - loss: 0.3178 - wine_quality_loss: 0.2932 - wine_type_loss: 0.0251 - wine_quality_root_mean_squared_error: 0.5410 - wine_type_accuracy: 0.0000e+00 - val_loss: 0.3387 - val_wine_quality_loss: 0.3092 - val_wine_type_loss: 0.0281 - val_wine_quality_root_mean_squared_error: 0.5570 - val_wine_type_accuracy: 0.0000e+00\n",
      "Epoch 79/180\n",
      "3155/3155 [==============================] - 0s 91us/sample - loss: 0.3184 - wine_quality_loss: 0.2935 - wine_type_loss: 0.0249 - wine_quality_root_mean_squared_error: 0.5417 - wine_type_accuracy: 0.0000e+00 - val_loss: 0.3435 - val_wine_quality_loss: 0.3138 - val_wine_type_loss: 0.0281 - val_wine_quality_root_mean_squared_error: 0.5612 - val_wine_type_accuracy: 0.0000e+00\n",
      "Epoch 80/180\n",
      "3155/3155 [==============================] - 0s 76us/sample - loss: 0.3166 - wine_quality_loss: 0.2913 - wine_type_loss: 0.0249 - wine_quality_root_mean_squared_error: 0.5401 - wine_type_accuracy: 0.0000e+00 - val_loss: 0.3357 - val_wine_quality_loss: 0.3066 - val_wine_type_loss: 0.0280 - val_wine_quality_root_mean_squared_error: 0.5544 - val_wine_type_accuracy: 0.0000e+00\n",
      "Epoch 81/180\n",
      "3155/3155 [==============================] - 0s 91us/sample - loss: 0.3162 - wine_quality_loss: 0.2911 - wine_type_loss: 0.0247 - wine_quality_root_mean_squared_error: 0.5398 - wine_type_accuracy: 0.0000e+00 - val_loss: 0.3330 - val_wine_quality_loss: 0.3038 - val_wine_type_loss: 0.0280 - val_wine_quality_root_mean_squared_error: 0.5520 - val_wine_type_accuracy: 0.0000e+00\n",
      "Epoch 82/180\n",
      "3155/3155 [==============================] - 0s 90us/sample - loss: 0.3135 - wine_quality_loss: 0.2891 - wine_type_loss: 0.0246 - wine_quality_root_mean_squared_error: 0.5374 - wine_type_accuracy: 0.0000e+00 - val_loss: 0.3367 - val_wine_quality_loss: 0.3075 - val_wine_type_loss: 0.0280 - val_wine_quality_root_mean_squared_error: 0.5553 - val_wine_type_accuracy: 0.0000e+00\n",
      "Epoch 83/180\n",
      "3155/3155 [==============================] - 0s 74us/sample - loss: 0.3154 - wine_quality_loss: 0.2909 - wine_type_loss: 0.0245 - wine_quality_root_mean_squared_error: 0.5393 - wine_type_accuracy: 0.0000e+00 - val_loss: 0.3317 - val_wine_quality_loss: 0.3025 - val_wine_type_loss: 0.0279 - val_wine_quality_root_mean_squared_error: 0.5508 - val_wine_type_accuracy: 0.0000e+00\n",
      "Epoch 84/180\n",
      "3155/3155 [==============================] - 0s 90us/sample - loss: 0.3146 - wine_quality_loss: 0.2911 - wine_type_loss: 0.0245 - wine_quality_root_mean_squared_error: 0.5387 - wine_type_accuracy: 0.0000e+00 - val_loss: 0.3391 - val_wine_quality_loss: 0.3100 - val_wine_type_loss: 0.0278 - val_wine_quality_root_mean_squared_error: 0.5576 - val_wine_type_accuracy: 0.0000e+00\n",
      "Epoch 85/180\n",
      "3155/3155 [==============================] - 0s 90us/sample - loss: 0.3133 - wine_quality_loss: 0.2889 - wine_type_loss: 0.0242 - wine_quality_root_mean_squared_error: 0.5375 - wine_type_accuracy: 0.0000e+00 - val_loss: 0.3350 - val_wine_quality_loss: 0.3057 - val_wine_type_loss: 0.0279 - val_wine_quality_root_mean_squared_error: 0.5538 - val_wine_type_accuracy: 0.0000e+00\n",
      "Epoch 86/180\n",
      "3155/3155 [==============================] - 0s 91us/sample - loss: 0.3131 - wine_quality_loss: 0.2893 - wine_type_loss: 0.0242 - wine_quality_root_mean_squared_error: 0.5375 - wine_type_accuracy: 0.0000e+00 - val_loss: 0.3348 - val_wine_quality_loss: 0.3060 - val_wine_type_loss: 0.0278 - val_wine_quality_root_mean_squared_error: 0.5538 - val_wine_type_accuracy: 0.0000e+00\n",
      "Epoch 87/180\n",
      "3155/3155 [==============================] - 0s 75us/sample - loss: 0.3125 - wine_quality_loss: 0.2884 - wine_type_loss: 0.0241 - wine_quality_root_mean_squared_error: 0.5370 - wine_type_accuracy: 0.0000e+00 - val_loss: 0.3325 - val_wine_quality_loss: 0.3036 - val_wine_type_loss: 0.0279 - val_wine_quality_root_mean_squared_error: 0.5516 - val_wine_type_accuracy: 0.0000e+00\n",
      "Epoch 88/180\n",
      "3155/3155 [==============================] - 0s 90us/sample - loss: 0.3108 - wine_quality_loss: 0.2866 - wine_type_loss: 0.0240 - wine_quality_root_mean_squared_error: 0.5355 - wine_type_accuracy: 0.0000e+00 - val_loss: 0.3488 - val_wine_quality_loss: 0.3195 - val_wine_type_loss: 0.0278 - val_wine_quality_root_mean_squared_error: 0.5662 - val_wine_type_accuracy: 0.0000e+00\n",
      "Epoch 89/180\n",
      "3155/3155 [==============================] - 0s 90us/sample - loss: 0.3105 - wine_quality_loss: 0.2865 - wine_type_loss: 0.0239 - wine_quality_root_mean_squared_error: 0.5353 - wine_type_accuracy: 0.0000e+00 - val_loss: 0.3384 - val_wine_quality_loss: 0.3095 - val_wine_type_loss: 0.0278 - val_wine_quality_root_mean_squared_error: 0.5571 - val_wine_type_accuracy: 0.0000e+00\n",
      "Epoch 90/180\n",
      "3155/3155 [==============================] - 0s 89us/sample - loss: 0.3102 - wine_quality_loss: 0.2863 - wine_type_loss: 0.0238 - wine_quality_root_mean_squared_error: 0.5351 - wine_type_accuracy: 0.0000e+00 - val_loss: 0.3400 - val_wine_quality_loss: 0.3109 - val_wine_type_loss: 0.0277 - val_wine_quality_root_mean_squared_error: 0.5585 - val_wine_type_accuracy: 0.0000e+00\n",
      "Epoch 91/180\n",
      "3155/3155 [==============================] - 0s 79us/sample - loss: 0.3098 - wine_quality_loss: 0.2859 - wine_type_loss: 0.0237 - wine_quality_root_mean_squared_error: 0.5348 - wine_type_accuracy: 0.0000e+00 - val_loss: 0.3349 - val_wine_quality_loss: 0.3064 - val_wine_type_loss: 0.0274 - val_wine_quality_root_mean_squared_error: 0.5542 - val_wine_type_accuracy: 0.0000e+00\n",
      "Epoch 92/180\n",
      "3155/3155 [==============================] - 0s 90us/sample - loss: 0.3095 - wine_quality_loss: 0.2864 - wine_type_loss: 0.0235 - wine_quality_root_mean_squared_error: 0.5347 - wine_type_accuracy: 0.0000e+00 - val_loss: 0.3333 - val_wine_quality_loss: 0.3045 - val_wine_type_loss: 0.0275 - val_wine_quality_root_mean_squared_error: 0.5526 - val_wine_type_accuracy: 0.0000e+00\n",
      "Epoch 93/180\n",
      "3155/3155 [==============================] - 0s 91us/sample - loss: 0.3080 - wine_quality_loss: 0.2847 - wine_type_loss: 0.0234 - wine_quality_root_mean_squared_error: 0.5334 - wine_type_accuracy: 0.0000e+00 - val_loss: 0.3345 - val_wine_quality_loss: 0.3057 - val_wine_type_loss: 0.0274 - val_wine_quality_root_mean_squared_error: 0.5538 - val_wine_type_accuracy: 0.0000e+00\n",
      "Epoch 94/180\n",
      "3155/3155 [==============================] - 0s 91us/sample - loss: 0.3082 - wine_quality_loss: 0.2844 - wine_type_loss: 0.0236 - wine_quality_root_mean_squared_error: 0.5337 - wine_type_accuracy: 0.0000e+00 - val_loss: 0.3343 - val_wine_quality_loss: 0.3058 - val_wine_type_loss: 0.0275 - val_wine_quality_root_mean_squared_error: 0.5535 - val_wine_type_accuracy: 0.0000e+00\n",
      "Epoch 95/180\n",
      "3155/3155 [==============================] - 0s 91us/sample - loss: 0.3066 - wine_quality_loss: 0.2830 - wine_type_loss: 0.0233 - wine_quality_root_mean_squared_error: 0.5322 - wine_type_accuracy: 0.0000e+00 - val_loss: 0.3370 - val_wine_quality_loss: 0.3082 - val_wine_type_loss: 0.0275 - val_wine_quality_root_mean_squared_error: 0.5560 - val_wine_type_accuracy: 0.0000e+00\n",
      "Epoch 96/180\n",
      "3155/3155 [==============================] - 0s 77us/sample - loss: 0.3071 - wine_quality_loss: 0.2835 - wine_type_loss: 0.0231 - wine_quality_root_mean_squared_error: 0.5328 - wine_type_accuracy: 0.0000e+00 - val_loss: 0.3342 - val_wine_quality_loss: 0.3056 - val_wine_type_loss: 0.0275 - val_wine_quality_root_mean_squared_error: 0.5535 - val_wine_type_accuracy: 0.0000e+00\n",
      "Epoch 97/180\n",
      "3155/3155 [==============================] - 0s 92us/sample - loss: 0.3067 - wine_quality_loss: 0.2832 - wine_type_loss: 0.0244 - wine_quality_root_mean_squared_error: 0.5325 - wine_type_accuracy: 0.0000e+00 - val_loss: 0.3440 - val_wine_quality_loss: 0.3149 - val_wine_type_loss: 0.0274 - val_wine_quality_root_mean_squared_error: 0.5623 - val_wine_type_accuracy: 0.0000e+00\n",
      "Epoch 98/180\n",
      "3155/3155 [==============================] - 0s 89us/sample - loss: 0.3043 - wine_quality_loss: 0.2813 - wine_type_loss: 0.0229 - wine_quality_root_mean_squared_error: 0.5303 - wine_type_accuracy: 0.0000e+00 - val_loss: 0.3384 - val_wine_quality_loss: 0.3097 - val_wine_type_loss: 0.0273 - val_wine_quality_root_mean_squared_error: 0.5574 - val_wine_type_accuracy: 0.0000e+00\n",
      "Epoch 99/180\n",
      "3155/3155 [==============================] - 0s 74us/sample - loss: 0.3050 - wine_quality_loss: 0.2824 - wine_type_loss: 0.0229 - wine_quality_root_mean_squared_error: 0.5311 - wine_type_accuracy: 0.0000e+00 - val_loss: 0.3345 - val_wine_quality_loss: 0.3059 - val_wine_type_loss: 0.0273 - val_wine_quality_root_mean_squared_error: 0.5539 - val_wine_type_accuracy: 0.0000e+00\n",
      "Epoch 100/180\n",
      "3155/3155 [==============================] - 0s 91us/sample - loss: 0.3050 - wine_quality_loss: 0.2820 - wine_type_loss: 0.0227 - wine_quality_root_mean_squared_error: 0.5312 - wine_type_accuracy: 0.0000e+00 - val_loss: 0.3348 - val_wine_quality_loss: 0.3061 - val_wine_type_loss: 0.0272 - val_wine_quality_root_mean_squared_error: 0.5543 - val_wine_type_accuracy: 0.0000e+00\n",
      "Epoch 101/180\n",
      "3155/3155 [==============================] - 0s 90us/sample - loss: 0.3039 - wine_quality_loss: 0.2815 - wine_type_loss: 0.0227 - wine_quality_root_mean_squared_error: 0.5302 - wine_type_accuracy: 0.0000e+00 - val_loss: 0.3340 - val_wine_quality_loss: 0.3055 - val_wine_type_loss: 0.0272 - val_wine_quality_root_mean_squared_error: 0.5536 - val_wine_type_accuracy: 0.0000e+00\n",
      "Epoch 102/180\n",
      "3155/3155 [==============================] - 0s 73us/sample - loss: 0.3038 - wine_quality_loss: 0.2809 - wine_type_loss: 0.0225 - wine_quality_root_mean_squared_error: 0.5302 - wine_type_accuracy: 0.0000e+00 - val_loss: 0.3372 - val_wine_quality_loss: 0.3087 - val_wine_type_loss: 0.0272 - val_wine_quality_root_mean_squared_error: 0.5564 - val_wine_type_accuracy: 0.0000e+00\n",
      "Epoch 103/180\n",
      "3155/3155 [==============================] - 0s 90us/sample - loss: 0.3031 - wine_quality_loss: 0.2806 - wine_type_loss: 0.0224 - wine_quality_root_mean_squared_error: 0.5297 - wine_type_accuracy: 0.0000e+00 - val_loss: 0.3392 - val_wine_quality_loss: 0.3105 - val_wine_type_loss: 0.0273 - val_wine_quality_root_mean_squared_error: 0.5582 - val_wine_type_accuracy: 0.0000e+00\n",
      "Epoch 104/180\n",
      "3155/3155 [==============================] - 0s 89us/sample - loss: 0.3026 - wine_quality_loss: 0.2805 - wine_type_loss: 0.0224 - wine_quality_root_mean_squared_error: 0.5293 - wine_type_accuracy: 0.0000e+00 - val_loss: 0.3355 - val_wine_quality_loss: 0.3071 - val_wine_type_loss: 0.0272 - val_wine_quality_root_mean_squared_error: 0.5550 - val_wine_type_accuracy: 0.0000e+00\n",
      "Epoch 105/180\n",
      "3155/3155 [==============================] - 0s 73us/sample - loss: 0.3012 - wine_quality_loss: 0.2790 - wine_type_loss: 0.0223 - wine_quality_root_mean_squared_error: 0.5281 - wine_type_accuracy: 0.0000e+00 - val_loss: 0.3334 - val_wine_quality_loss: 0.3049 - val_wine_type_loss: 0.0270 - val_wine_quality_root_mean_squared_error: 0.5532 - val_wine_type_accuracy: 0.0000e+00\n",
      "Epoch 106/180\n",
      "3155/3155 [==============================] - 0s 91us/sample - loss: 0.3015 - wine_quality_loss: 0.2788 - wine_type_loss: 0.0225 - wine_quality_root_mean_squared_error: 0.5284 - wine_type_accuracy: 0.0000e+00 - val_loss: 0.3393 - val_wine_quality_loss: 0.3108 - val_wine_type_loss: 0.0272 - val_wine_quality_root_mean_squared_error: 0.5583 - val_wine_type_accuracy: 0.0000e+00\n",
      "Epoch 107/180\n",
      "3155/3155 [==============================] - 0s 89us/sample - loss: 0.3012 - wine_quality_loss: 0.2791 - wine_type_loss: 0.0221 - wine_quality_root_mean_squared_error: 0.5283 - wine_type_accuracy: 0.0000e+00 - val_loss: 0.3371 - val_wine_quality_loss: 0.3088 - val_wine_type_loss: 0.0271 - val_wine_quality_root_mean_squared_error: 0.5565 - val_wine_type_accuracy: 0.0000e+00\n",
      "Epoch 108/180\n",
      "3155/3155 [==============================] - 0s 74us/sample - loss: 0.3002 - wine_quality_loss: 0.2780 - wine_type_loss: 0.0220 - wine_quality_root_mean_squared_error: 0.5274 - wine_type_accuracy: 0.0000e+00 - val_loss: 0.3321 - val_wine_quality_loss: 0.3040 - val_wine_type_loss: 0.0270 - val_wine_quality_root_mean_squared_error: 0.5520 - val_wine_type_accuracy: 0.0000e+00\n",
      "Epoch 109/180\n",
      "3155/3155 [==============================] - 0s 91us/sample - loss: 0.2991 - wine_quality_loss: 0.2767 - wine_type_loss: 0.0219 - wine_quality_root_mean_squared_error: 0.5264 - wine_type_accuracy: 0.0000e+00 - val_loss: 0.3503 - val_wine_quality_loss: 0.3219 - val_wine_type_loss: 0.0270 - val_wine_quality_root_mean_squared_error: 0.5683 - val_wine_type_accuracy: 0.0000e+00\n",
      "Epoch 110/180\n",
      "3155/3155 [==============================] - 0s 92us/sample - loss: 0.2991 - wine_quality_loss: 0.2766 - wine_type_loss: 0.0218 - wine_quality_root_mean_squared_error: 0.5265 - wine_type_accuracy: 0.0000e+00 - val_loss: 0.3340 - val_wine_quality_loss: 0.3060 - val_wine_type_loss: 0.0270 - val_wine_quality_root_mean_squared_error: 0.5538 - val_wine_type_accuracy: 0.0000e+00\n",
      "Epoch 111/180\n",
      "3155/3155 [==============================] - 0s 91us/sample - loss: 0.2974 - wine_quality_loss: 0.2755 - wine_type_loss: 0.0217 - wine_quality_root_mean_squared_error: 0.5250 - wine_type_accuracy: 0.0000e+00 - val_loss: 0.3344 - val_wine_quality_loss: 0.3065 - val_wine_type_loss: 0.0268 - val_wine_quality_root_mean_squared_error: 0.5543 - val_wine_type_accuracy: 0.0000e+00\n",
      "Epoch 112/180\n",
      "3155/3155 [==============================] - 0s 91us/sample - loss: 0.2981 - wine_quality_loss: 0.2768 - wine_type_loss: 0.0216 - wine_quality_root_mean_squared_error: 0.5258 - wine_type_accuracy: 0.0000e+00 - val_loss: 0.3369 - val_wine_quality_loss: 0.3088 - val_wine_type_loss: 0.0267 - val_wine_quality_root_mean_squared_error: 0.5567 - val_wine_type_accuracy: 0.0000e+00\n",
      "Epoch 113/180\n",
      "3155/3155 [==============================] - 0s 76us/sample - loss: 0.2972 - wine_quality_loss: 0.2756 - wine_type_loss: 0.0215 - wine_quality_root_mean_squared_error: 0.5251 - wine_type_accuracy: 0.0000e+00 - val_loss: 0.3327 - val_wine_quality_loss: 0.3052 - val_wine_type_loss: 0.0266 - val_wine_quality_root_mean_squared_error: 0.5529 - val_wine_type_accuracy: 0.0000e+00\n",
      "Epoch 114/180\n",
      "3155/3155 [==============================] - 0s 91us/sample - loss: 0.2980 - wine_quality_loss: 0.2766 - wine_type_loss: 0.0214 - wine_quality_root_mean_squared_error: 0.5258 - wine_type_accuracy: 0.0000e+00 - val_loss: 0.3326 - val_wine_quality_loss: 0.3048 - val_wine_type_loss: 0.0267 - val_wine_quality_root_mean_squared_error: 0.5528 - val_wine_type_accuracy: 0.0000e+00\n",
      "Epoch 115/180\n",
      "3155/3155 [==============================] - 0s 91us/sample - loss: 0.2966 - wine_quality_loss: 0.2747 - wine_type_loss: 0.0214 - wine_quality_root_mean_squared_error: 0.5246 - wine_type_accuracy: 0.0000e+00 - val_loss: 0.3376 - val_wine_quality_loss: 0.3095 - val_wine_type_loss: 0.0268 - val_wine_quality_root_mean_squared_error: 0.5572 - val_wine_type_accuracy: 0.0000e+00\n",
      "Epoch 116/180\n",
      "3155/3155 [==============================] - 0s 73us/sample - loss: 0.2952 - wine_quality_loss: 0.2740 - wine_type_loss: 0.0212 - wine_quality_root_mean_squared_error: 0.5234 - wine_type_accuracy: 0.0000e+00 - val_loss: 0.3315 - val_wine_quality_loss: 0.3037 - val_wine_type_loss: 0.0266 - val_wine_quality_root_mean_squared_error: 0.5518 - val_wine_type_accuracy: 0.0000e+00\n",
      "Epoch 117/180\n",
      "3155/3155 [==============================] - 0s 76us/sample - loss: 0.2960 - wine_quality_loss: 0.2745 - wine_type_loss: 0.0211 - wine_quality_root_mean_squared_error: 0.5242 - wine_type_accuracy: 0.0000e+00 - val_loss: 0.3364 - val_wine_quality_loss: 0.3086 - val_wine_type_loss: 0.0266 - val_wine_quality_root_mean_squared_error: 0.5563 - val_wine_type_accuracy: 0.0000e+00\n",
      "Epoch 118/180\n",
      "3155/3155 [==============================] - 0s 90us/sample - loss: 0.2950 - wine_quality_loss: 0.2743 - wine_type_loss: 0.0210 - wine_quality_root_mean_squared_error: 0.5233 - wine_type_accuracy: 0.0000e+00 - val_loss: 0.3358 - val_wine_quality_loss: 0.3080 - val_wine_type_loss: 0.0265 - val_wine_quality_root_mean_squared_error: 0.5559 - val_wine_type_accuracy: 0.0000e+00\n",
      "Epoch 119/180\n",
      "3155/3155 [==============================] - 0s 90us/sample - loss: 0.2949 - wine_quality_loss: 0.2736 - wine_type_loss: 0.0209 - wine_quality_root_mean_squared_error: 0.5233 - wine_type_accuracy: 0.0000e+00 - val_loss: 0.3408 - val_wine_quality_loss: 0.3129 - val_wine_type_loss: 0.0266 - val_wine_quality_root_mean_squared_error: 0.5603 - val_wine_type_accuracy: 0.0000e+00\n",
      "Epoch 120/180\n",
      "3155/3155 [==============================] - 0s 75us/sample - loss: 0.2948 - wine_quality_loss: 0.2735 - wine_type_loss: 0.0208 - wine_quality_root_mean_squared_error: 0.5233 - wine_type_accuracy: 0.0000e+00 - val_loss: 0.3351 - val_wine_quality_loss: 0.3074 - val_wine_type_loss: 0.0265 - val_wine_quality_root_mean_squared_error: 0.5553 - val_wine_type_accuracy: 0.0000e+00\n",
      "Epoch 121/180\n",
      "3155/3155 [==============================] - 0s 91us/sample - loss: 0.2936 - wine_quality_loss: 0.2732 - wine_type_loss: 0.0207 - wine_quality_root_mean_squared_error: 0.5223 - wine_type_accuracy: 0.0000e+00 - val_loss: 0.3294 - val_wine_quality_loss: 0.3019 - val_wine_type_loss: 0.0264 - val_wine_quality_root_mean_squared_error: 0.5501 - val_wine_type_accuracy: 0.0000e+00\n",
      "Epoch 122/180\n",
      "3155/3155 [==============================] - 0s 92us/sample - loss: 0.2943 - wine_quality_loss: 0.2745 - wine_type_loss: 0.0207 - wine_quality_root_mean_squared_error: 0.5230 - wine_type_accuracy: 0.0000e+00 - val_loss: 0.3344 - val_wine_quality_loss: 0.3071 - val_wine_type_loss: 0.0263 - val_wine_quality_root_mean_squared_error: 0.5548 - val_wine_type_accuracy: 0.0000e+00\n",
      "Epoch 123/180\n",
      "3155/3155 [==============================] - 0s 91us/sample - loss: 0.2927 - wine_quality_loss: 0.2729 - wine_type_loss: 0.0206 - wine_quality_root_mean_squared_error: 0.5216 - wine_type_accuracy: 0.0000e+00 - val_loss: 0.3318 - val_wine_quality_loss: 0.3042 - val_wine_type_loss: 0.0264 - val_wine_quality_root_mean_squared_error: 0.5523 - val_wine_type_accuracy: 0.0000e+00\n",
      "Epoch 124/180\n",
      "3155/3155 [==============================] - 0s 75us/sample - loss: 0.2930 - wine_quality_loss: 0.2722 - wine_type_loss: 0.0205 - wine_quality_root_mean_squared_error: 0.5219 - wine_type_accuracy: 0.0000e+00 - val_loss: 0.3406 - val_wine_quality_loss: 0.3130 - val_wine_type_loss: 0.0265 - val_wine_quality_root_mean_squared_error: 0.5602 - val_wine_type_accuracy: 0.0000e+00\n",
      "Epoch 125/180\n",
      "3155/3155 [==============================] - 0s 91us/sample - loss: 0.2917 - wine_quality_loss: 0.2718 - wine_type_loss: 0.0204 - wine_quality_root_mean_squared_error: 0.5208 - wine_type_accuracy: 0.0000e+00 - val_loss: 0.3326 - val_wine_quality_loss: 0.3052 - val_wine_type_loss: 0.0262 - val_wine_quality_root_mean_squared_error: 0.5533 - val_wine_type_accuracy: 0.0000e+00\n",
      "Epoch 126/180\n",
      "3155/3155 [==============================] - 0s 92us/sample - loss: 0.2913 - wine_quality_loss: 0.2708 - wine_type_loss: 0.0215 - wine_quality_root_mean_squared_error: 0.5205 - wine_type_accuracy: 0.0000e+00 - val_loss: 0.3320 - val_wine_quality_loss: 0.3046 - val_wine_type_loss: 0.0262 - val_wine_quality_root_mean_squared_error: 0.5527 - val_wine_type_accuracy: 0.0000e+00\n",
      "Epoch 127/180\n",
      "3155/3155 [==============================] - 0s 91us/sample - loss: 0.2912 - wine_quality_loss: 0.2708 - wine_type_loss: 0.0202 - wine_quality_root_mean_squared_error: 0.5205 - wine_type_accuracy: 0.0000e+00 - val_loss: 0.3303 - val_wine_quality_loss: 0.3032 - val_wine_type_loss: 0.0261 - val_wine_quality_root_mean_squared_error: 0.5513 - val_wine_type_accuracy: 0.0000e+00\n",
      "Epoch 128/180\n",
      "3155/3155 [==============================] - 0s 90us/sample - loss: 0.2904 - wine_quality_loss: 0.2703 - wine_type_loss: 0.0201 - wine_quality_root_mean_squared_error: 0.5198 - wine_type_accuracy: 0.0000e+00 - val_loss: 0.3321 - val_wine_quality_loss: 0.3047 - val_wine_type_loss: 0.0262 - val_wine_quality_root_mean_squared_error: 0.5528 - val_wine_type_accuracy: 0.0000e+00\n",
      "Epoch 129/180\n",
      "3155/3155 [==============================] - 0s 77us/sample - loss: 0.2905 - wine_quality_loss: 0.2707 - wine_type_loss: 0.0200 - wine_quality_root_mean_squared_error: 0.5200 - wine_type_accuracy: 0.0000e+00 - val_loss: 0.3313 - val_wine_quality_loss: 0.3041 - val_wine_type_loss: 0.0262 - val_wine_quality_root_mean_squared_error: 0.5520 - val_wine_type_accuracy: 0.0000e+00\n",
      "Epoch 130/180\n",
      "3155/3155 [==============================] - 0s 90us/sample - loss: 0.2891 - wine_quality_loss: 0.2696 - wine_type_loss: 0.0201 - wine_quality_root_mean_squared_error: 0.5187 - wine_type_accuracy: 0.0000e+00 - val_loss: 0.3404 - val_wine_quality_loss: 0.3127 - val_wine_type_loss: 0.0263 - val_wine_quality_root_mean_squared_error: 0.5601 - val_wine_type_accuracy: 0.0000e+00\n",
      "Epoch 131/180\n",
      "3155/3155 [==============================] - 0s 91us/sample - loss: 0.2898 - wine_quality_loss: 0.2701 - wine_type_loss: 0.0199 - wine_quality_root_mean_squared_error: 0.5195 - wine_type_accuracy: 0.0000e+00 - val_loss: 0.3331 - val_wine_quality_loss: 0.3057 - val_wine_type_loss: 0.0262 - val_wine_quality_root_mean_squared_error: 0.5536 - val_wine_type_accuracy: 0.0000e+00\n",
      "Epoch 132/180\n",
      "3155/3155 [==============================] - 0s 90us/sample - loss: 0.2884 - wine_quality_loss: 0.2689 - wine_type_loss: 0.0198 - wine_quality_root_mean_squared_error: 0.5182 - wine_type_accuracy: 0.0000e+00 - val_loss: 0.3327 - val_wine_quality_loss: 0.3052 - val_wine_type_loss: 0.0262 - val_wine_quality_root_mean_squared_error: 0.5534 - val_wine_type_accuracy: 0.0000e+00\n",
      "Epoch 133/180\n",
      "3155/3155 [==============================] - 0s 75us/sample - loss: 0.2877 - wine_quality_loss: 0.2675 - wine_type_loss: 0.0198 - wine_quality_root_mean_squared_error: 0.5175 - wine_type_accuracy: 0.0000e+00 - val_loss: 0.3353 - val_wine_quality_loss: 0.3078 - val_wine_type_loss: 0.0261 - val_wine_quality_root_mean_squared_error: 0.5558 - val_wine_type_accuracy: 0.0000e+00\n",
      "Epoch 134/180\n",
      "3155/3155 [==============================] - 0s 90us/sample - loss: 0.2878 - wine_quality_loss: 0.2680 - wine_type_loss: 0.0197 - wine_quality_root_mean_squared_error: 0.5177 - wine_type_accuracy: 0.0000e+00 - val_loss: 0.3310 - val_wine_quality_loss: 0.3037 - val_wine_type_loss: 0.0261 - val_wine_quality_root_mean_squared_error: 0.5519 - val_wine_type_accuracy: 0.0000e+00\n",
      "Epoch 135/180\n",
      "3155/3155 [==============================] - 0s 88us/sample - loss: 0.2874 - wine_quality_loss: 0.2678 - wine_type_loss: 0.0197 - wine_quality_root_mean_squared_error: 0.5174 - wine_type_accuracy: 0.0000e+00 - val_loss: 0.3350 - val_wine_quality_loss: 0.3078 - val_wine_type_loss: 0.0261 - val_wine_quality_root_mean_squared_error: 0.5554 - val_wine_type_accuracy: 0.0000e+00\n",
      "Epoch 136/180\n",
      "3155/3155 [==============================] - 0s 75us/sample - loss: 0.2868 - wine_quality_loss: 0.2674 - wine_type_loss: 0.0195 - wine_quality_root_mean_squared_error: 0.5169 - wine_type_accuracy: 0.0000e+00 - val_loss: 0.3325 - val_wine_quality_loss: 0.3053 - val_wine_type_loss: 0.0260 - val_wine_quality_root_mean_squared_error: 0.5533 - val_wine_type_accuracy: 0.0000e+00\n",
      "Epoch 137/180\n",
      "3155/3155 [==============================] - 0s 93us/sample - loss: 0.2860 - wine_quality_loss: 0.2668 - wine_type_loss: 0.0194 - wine_quality_root_mean_squared_error: 0.5163 - wine_type_accuracy: 0.0000e+00 - val_loss: 0.3417 - val_wine_quality_loss: 0.3143 - val_wine_type_loss: 0.0261 - val_wine_quality_root_mean_squared_error: 0.5614 - val_wine_type_accuracy: 0.0000e+00\n",
      "Epoch 138/180\n",
      "3155/3155 [==============================] - 0s 91us/sample - loss: 0.2852 - wine_quality_loss: 0.2659 - wine_type_loss: 0.0203 - wine_quality_root_mean_squared_error: 0.5156 - wine_type_accuracy: 0.0000e+00 - val_loss: 0.3412 - val_wine_quality_loss: 0.3138 - val_wine_type_loss: 0.0261 - val_wine_quality_root_mean_squared_error: 0.5611 - val_wine_type_accuracy: 0.0000e+00\n",
      "Epoch 139/180\n",
      "3155/3155 [==============================] - 0s 89us/sample - loss: 0.2855 - wine_quality_loss: 0.2664 - wine_type_loss: 0.0193 - wine_quality_root_mean_squared_error: 0.5159 - wine_type_accuracy: 0.0000e+00 - val_loss: 0.3328 - val_wine_quality_loss: 0.3058 - val_wine_type_loss: 0.0259 - val_wine_quality_root_mean_squared_error: 0.5537 - val_wine_type_accuracy: 0.0000e+00\n",
      "Epoch 140/180\n",
      "3155/3155 [==============================] - 0s 76us/sample - loss: 0.2850 - wine_quality_loss: 0.2657 - wine_type_loss: 0.0192 - wine_quality_root_mean_squared_error: 0.5155 - wine_type_accuracy: 3.1696e-04 - val_loss: 0.3328 - val_wine_quality_loss: 0.3056 - val_wine_type_loss: 0.0259 - val_wine_quality_root_mean_squared_error: 0.5537 - val_wine_type_accuracy: 0.0000e+00\n",
      "Epoch 141/180\n",
      "3155/3155 [==============================] - 0s 91us/sample - loss: 0.2845 - wine_quality_loss: 0.2661 - wine_type_loss: 0.0191 - wine_quality_root_mean_squared_error: 0.5151 - wine_type_accuracy: 3.1696e-04 - val_loss: 0.3355 - val_wine_quality_loss: 0.3082 - val_wine_type_loss: 0.0260 - val_wine_quality_root_mean_squared_error: 0.5561 - val_wine_type_accuracy: 0.0000e+00\n",
      "Epoch 142/180\n",
      "3155/3155 [==============================] - 0s 93us/sample - loss: 0.2833 - wine_quality_loss: 0.2644 - wine_type_loss: 0.0190 - wine_quality_root_mean_squared_error: 0.5140 - wine_type_accuracy: 3.1696e-04 - val_loss: 0.3351 - val_wine_quality_loss: 0.3080 - val_wine_type_loss: 0.0259 - val_wine_quality_root_mean_squared_error: 0.5557 - val_wine_type_accuracy: 0.0013\n",
      "Epoch 143/180\n",
      "3155/3155 [==============================] - 0s 90us/sample - loss: 0.2833 - wine_quality_loss: 0.2640 - wine_type_loss: 0.0189 - wine_quality_root_mean_squared_error: 0.5141 - wine_type_accuracy: 9.5087e-04 - val_loss: 0.3347 - val_wine_quality_loss: 0.3078 - val_wine_type_loss: 0.0259 - val_wine_quality_root_mean_squared_error: 0.5555 - val_wine_type_accuracy: 0.0013\n",
      "Epoch 144/180\n",
      "3155/3155 [==============================] - 0s 75us/sample - loss: 0.2827 - wine_quality_loss: 0.2634 - wine_type_loss: 0.0189 - wine_quality_root_mean_squared_error: 0.5136 - wine_type_accuracy: 6.3391e-04 - val_loss: 0.3374 - val_wine_quality_loss: 0.3101 - val_wine_type_loss: 0.0259 - val_wine_quality_root_mean_squared_error: 0.5578 - val_wine_type_accuracy: 0.0013\n",
      "Epoch 145/180\n",
      "3155/3155 [==============================] - 0s 93us/sample - loss: 0.2834 - wine_quality_loss: 0.2648 - wine_type_loss: 0.0188 - wine_quality_root_mean_squared_error: 0.5143 - wine_type_accuracy: 9.5087e-04 - val_loss: 0.3371 - val_wine_quality_loss: 0.3099 - val_wine_type_loss: 0.0260 - val_wine_quality_root_mean_squared_error: 0.5574 - val_wine_type_accuracy: 0.0013\n",
      "Epoch 146/180\n",
      "3155/3155 [==============================] - 0s 91us/sample - loss: 0.2828 - wine_quality_loss: 0.2644 - wine_type_loss: 0.0187 - wine_quality_root_mean_squared_error: 0.5138 - wine_type_accuracy: 9.5087e-04 - val_loss: 0.3326 - val_wine_quality_loss: 0.3054 - val_wine_type_loss: 0.0259 - val_wine_quality_root_mean_squared_error: 0.5535 - val_wine_type_accuracy: 0.0013\n",
      "Epoch 147/180\n",
      "3155/3155 [==============================] - 0s 91us/sample - loss: 0.2816 - wine_quality_loss: 0.2627 - wine_type_loss: 0.0186 - wine_quality_root_mean_squared_error: 0.5128 - wine_type_accuracy: 9.5087e-04 - val_loss: 0.3384 - val_wine_quality_loss: 0.3112 - val_wine_type_loss: 0.0258 - val_wine_quality_root_mean_squared_error: 0.5588 - val_wine_type_accuracy: 0.0013\n",
      "Epoch 148/180\n",
      "3155/3155 [==============================] - 0s 90us/sample - loss: 0.2807 - wine_quality_loss: 0.2620 - wine_type_loss: 0.0186 - wine_quality_root_mean_squared_error: 0.5119 - wine_type_accuracy: 0.0019 - val_loss: 0.3336 - val_wine_quality_loss: 0.3066 - val_wine_type_loss: 0.0258 - val_wine_quality_root_mean_squared_error: 0.5545 - val_wine_type_accuracy: 0.0013\n",
      "Epoch 149/180\n",
      "3155/3155 [==============================] - 0s 77us/sample - loss: 0.2811 - wine_quality_loss: 0.2626 - wine_type_loss: 0.0196 - wine_quality_root_mean_squared_error: 0.5123 - wine_type_accuracy: 0.0019 - val_loss: 0.3302 - val_wine_quality_loss: 0.3034 - val_wine_type_loss: 0.0258 - val_wine_quality_root_mean_squared_error: 0.5515 - val_wine_type_accuracy: 0.0013\n",
      "Epoch 150/180\n",
      "3155/3155 [==============================] - 0s 91us/sample - loss: 0.2807 - wine_quality_loss: 0.2620 - wine_type_loss: 0.0184 - wine_quality_root_mean_squared_error: 0.5121 - wine_type_accuracy: 0.0016 - val_loss: 0.3332 - val_wine_quality_loss: 0.3060 - val_wine_type_loss: 0.0258 - val_wine_quality_root_mean_squared_error: 0.5541 - val_wine_type_accuracy: 0.0013\n",
      "Epoch 151/180\n",
      "3155/3155 [==============================] - 0s 91us/sample - loss: 0.2796 - wine_quality_loss: 0.2607 - wine_type_loss: 0.0183 - wine_quality_root_mean_squared_error: 0.5111 - wine_type_accuracy: 0.0022 - val_loss: 0.3315 - val_wine_quality_loss: 0.3047 - val_wine_type_loss: 0.0258 - val_wine_quality_root_mean_squared_error: 0.5526 - val_wine_type_accuracy: 0.0013\n",
      "Epoch 152/180\n",
      "3155/3155 [==============================] - 0s 91us/sample - loss: 0.2792 - wine_quality_loss: 0.2608 - wine_type_loss: 0.0183 - wine_quality_root_mean_squared_error: 0.5107 - wine_type_accuracy: 0.0022 - val_loss: 0.3386 - val_wine_quality_loss: 0.3116 - val_wine_type_loss: 0.0258 - val_wine_quality_root_mean_squared_error: 0.5590 - val_wine_type_accuracy: 0.0013\n",
      "Epoch 153/180\n",
      "3155/3155 [==============================] - 0s 75us/sample - loss: 0.2792 - wine_quality_loss: 0.2606 - wine_type_loss: 0.0182 - wine_quality_root_mean_squared_error: 0.5107 - wine_type_accuracy: 0.0022 - val_loss: 0.3317 - val_wine_quality_loss: 0.3049 - val_wine_type_loss: 0.0257 - val_wine_quality_root_mean_squared_error: 0.5529 - val_wine_type_accuracy: 0.0013\n",
      "Epoch 154/180\n",
      "3155/3155 [==============================] - 0s 94us/sample - loss: 0.2784 - wine_quality_loss: 0.2601 - wine_type_loss: 0.0181 - wine_quality_root_mean_squared_error: 0.5101 - wine_type_accuracy: 0.0029 - val_loss: 0.3384 - val_wine_quality_loss: 0.3114 - val_wine_type_loss: 0.0259 - val_wine_quality_root_mean_squared_error: 0.5588 - val_wine_type_accuracy: 0.0013\n",
      "Epoch 155/180\n",
      "3155/3155 [==============================] - 0s 94us/sample - loss: 0.2788 - wine_quality_loss: 0.2602 - wine_type_loss: 0.0181 - wine_quality_root_mean_squared_error: 0.5106 - wine_type_accuracy: 0.0029 - val_loss: 0.3388 - val_wine_quality_loss: 0.3118 - val_wine_type_loss: 0.0259 - val_wine_quality_root_mean_squared_error: 0.5590 - val_wine_type_accuracy: 0.0013\n",
      "Epoch 156/180\n",
      "3155/3155 [==============================] - 0s 92us/sample - loss: 0.2777 - wine_quality_loss: 0.2599 - wine_type_loss: 0.0181 - wine_quality_root_mean_squared_error: 0.5095 - wine_type_accuracy: 0.0029 - val_loss: 0.3366 - val_wine_quality_loss: 0.3097 - val_wine_type_loss: 0.0257 - val_wine_quality_root_mean_squared_error: 0.5573 - val_wine_type_accuracy: 0.0013\n",
      "Epoch 157/180\n",
      "3155/3155 [==============================] - 0s 93us/sample - loss: 0.2779 - wine_quality_loss: 0.2600 - wine_type_loss: 0.0180 - wine_quality_root_mean_squared_error: 0.5098 - wine_type_accuracy: 0.0029 - val_loss: 0.3348 - val_wine_quality_loss: 0.3078 - val_wine_type_loss: 0.0257 - val_wine_quality_root_mean_squared_error: 0.5557 - val_wine_type_accuracy: 0.0013\n",
      "Epoch 158/180\n",
      "3155/3155 [==============================] - 0s 92us/sample - loss: 0.2774 - wine_quality_loss: 0.2596 - wine_type_loss: 0.0179 - wine_quality_root_mean_squared_error: 0.5093 - wine_type_accuracy: 0.0029 - val_loss: 0.3326 - val_wine_quality_loss: 0.3059 - val_wine_type_loss: 0.0256 - val_wine_quality_root_mean_squared_error: 0.5538 - val_wine_type_accuracy: 0.0013\n",
      "Epoch 159/180\n",
      "3155/3155 [==============================] - 0s 90us/sample - loss: 0.2769 - wine_quality_loss: 0.2587 - wine_type_loss: 0.0178 - wine_quality_root_mean_squared_error: 0.5089 - wine_type_accuracy: 0.0029 - val_loss: 0.3364 - val_wine_quality_loss: 0.3094 - val_wine_type_loss: 0.0257 - val_wine_quality_root_mean_squared_error: 0.5571 - val_wine_type_accuracy: 0.0013\n",
      "Epoch 160/180\n",
      "3155/3155 [==============================] - 0s 77us/sample - loss: 0.2767 - wine_quality_loss: 0.2591 - wine_type_loss: 0.0178 - wine_quality_root_mean_squared_error: 0.5088 - wine_type_accuracy: 0.0029 - val_loss: 0.3344 - val_wine_quality_loss: 0.3076 - val_wine_type_loss: 0.0257 - val_wine_quality_root_mean_squared_error: 0.5553 - val_wine_type_accuracy: 0.0013\n",
      "Epoch 161/180\n",
      "3155/3155 [==============================] - 0s 93us/sample - loss: 0.2762 - wine_quality_loss: 0.2583 - wine_type_loss: 0.0176 - wine_quality_root_mean_squared_error: 0.5084 - wine_type_accuracy: 0.0029 - val_loss: 0.3312 - val_wine_quality_loss: 0.3043 - val_wine_type_loss: 0.0256 - val_wine_quality_root_mean_squared_error: 0.5524 - val_wine_type_accuracy: 0.0013\n",
      "Epoch 162/180\n",
      "3155/3155 [==============================] - 0s 94us/sample - loss: 0.2745 - wine_quality_loss: 0.2564 - wine_type_loss: 0.0175 - wine_quality_root_mean_squared_error: 0.5069 - wine_type_accuracy: 0.0029 - val_loss: 0.3359 - val_wine_quality_loss: 0.3089 - val_wine_type_loss: 0.0257 - val_wine_quality_root_mean_squared_error: 0.5567 - val_wine_type_accuracy: 0.0013\n",
      "Epoch 163/180\n",
      "3155/3155 [==============================] - 0s 98us/sample - loss: 0.2748 - wine_quality_loss: 0.2574 - wine_type_loss: 0.0195 - wine_quality_root_mean_squared_error: 0.5072 - wine_type_accuracy: 0.0029 - val_loss: 0.3383 - val_wine_quality_loss: 0.3115 - val_wine_type_loss: 0.0256 - val_wine_quality_root_mean_squared_error: 0.5589 - val_wine_type_accuracy: 0.0013\n",
      "Epoch 164/180\n",
      "3155/3155 [==============================] - 0s 95us/sample - loss: 0.2749 - wine_quality_loss: 0.2574 - wine_type_loss: 0.0174 - wine_quality_root_mean_squared_error: 0.5073 - wine_type_accuracy: 0.0029 - val_loss: 0.3372 - val_wine_quality_loss: 0.3104 - val_wine_type_loss: 0.0256 - val_wine_quality_root_mean_squared_error: 0.5579 - val_wine_type_accuracy: 0.0013\n",
      "Epoch 165/180\n",
      "3155/3155 [==============================] - 0s 91us/sample - loss: 0.2746 - wine_quality_loss: 0.2570 - wine_type_loss: 0.0174 - wine_quality_root_mean_squared_error: 0.5071 - wine_type_accuracy: 0.0035 - val_loss: 0.3321 - val_wine_quality_loss: 0.3055 - val_wine_type_loss: 0.0257 - val_wine_quality_root_mean_squared_error: 0.5533 - val_wine_type_accuracy: 0.0013\n",
      "Epoch 166/180\n",
      "3155/3155 [==============================] - 0s 93us/sample - loss: 0.2737 - wine_quality_loss: 0.2570 - wine_type_loss: 0.0175 - wine_quality_root_mean_squared_error: 0.5063 - wine_type_accuracy: 0.0032 - val_loss: 0.3342 - val_wine_quality_loss: 0.3074 - val_wine_type_loss: 0.0256 - val_wine_quality_root_mean_squared_error: 0.5552 - val_wine_type_accuracy: 0.0013\n",
      "Epoch 167/180\n",
      "3155/3155 [==============================] - 0s 93us/sample - loss: 0.2728 - wine_quality_loss: 0.2551 - wine_type_loss: 0.0173 - wine_quality_root_mean_squared_error: 0.5054 - wine_type_accuracy: 0.0032 - val_loss: 0.3351 - val_wine_quality_loss: 0.3085 - val_wine_type_loss: 0.0257 - val_wine_quality_root_mean_squared_error: 0.5560 - val_wine_type_accuracy: 0.0013\n",
      "Epoch 168/180\n",
      "3155/3155 [==============================] - 0s 92us/sample - loss: 0.2730 - wine_quality_loss: 0.2561 - wine_type_loss: 0.0172 - wine_quality_root_mean_squared_error: 0.5058 - wine_type_accuracy: 0.0048 - val_loss: 0.3344 - val_wine_quality_loss: 0.3074 - val_wine_type_loss: 0.0257 - val_wine_quality_root_mean_squared_error: 0.5554 - val_wine_type_accuracy: 0.0013\n",
      "Epoch 169/180\n",
      "3155/3155 [==============================] - 0s 106us/sample - loss: 0.2724 - wine_quality_loss: 0.2548 - wine_type_loss: 0.0171 - wine_quality_root_mean_squared_error: 0.5051 - wine_type_accuracy: 0.0035 - val_loss: 0.3334 - val_wine_quality_loss: 0.3066 - val_wine_type_loss: 0.0256 - val_wine_quality_root_mean_squared_error: 0.5545 - val_wine_type_accuracy: 0.0013\n",
      "Epoch 170/180\n",
      "3155/3155 [==============================] - 0s 120us/sample - loss: 0.2719 - wine_quality_loss: 0.2545 - wine_type_loss: 0.0171 - wine_quality_root_mean_squared_error: 0.5047 - wine_type_accuracy: 0.0041 - val_loss: 0.3347 - val_wine_quality_loss: 0.3078 - val_wine_type_loss: 0.0256 - val_wine_quality_root_mean_squared_error: 0.5557 - val_wine_type_accuracy: 0.0013\n",
      "Epoch 171/180\n",
      "3155/3155 [==============================] - 0s 96us/sample - loss: 0.2724 - wine_quality_loss: 0.2550 - wine_type_loss: 0.0170 - wine_quality_root_mean_squared_error: 0.5053 - wine_type_accuracy: 0.0044 - val_loss: 0.3318 - val_wine_quality_loss: 0.3052 - val_wine_type_loss: 0.0254 - val_wine_quality_root_mean_squared_error: 0.5532 - val_wine_type_accuracy: 0.0013\n",
      "Epoch 172/180\n",
      "3155/3155 [==============================] - 0s 93us/sample - loss: 0.2717 - wine_quality_loss: 0.2548 - wine_type_loss: 0.0170 - wine_quality_root_mean_squared_error: 0.5046 - wine_type_accuracy: 0.0048 - val_loss: 0.3312 - val_wine_quality_loss: 0.3046 - val_wine_type_loss: 0.0256 - val_wine_quality_root_mean_squared_error: 0.5526 - val_wine_type_accuracy: 0.0013\n",
      "Epoch 173/180\n",
      "3155/3155 [==============================] - 0s 91us/sample - loss: 0.2711 - wine_quality_loss: 0.2542 - wine_type_loss: 0.0168 - wine_quality_root_mean_squared_error: 0.5042 - wine_type_accuracy: 0.0051 - val_loss: 0.3330 - val_wine_quality_loss: 0.3065 - val_wine_type_loss: 0.0256 - val_wine_quality_root_mean_squared_error: 0.5541 - val_wine_type_accuracy: 0.0013\n",
      "Epoch 174/180\n",
      "3155/3155 [==============================] - 0s 91us/sample - loss: 0.2707 - wine_quality_loss: 0.2537 - wine_type_loss: 0.0169 - wine_quality_root_mean_squared_error: 0.5037 - wine_type_accuracy: 0.0051 - val_loss: 0.3324 - val_wine_quality_loss: 0.3056 - val_wine_type_loss: 0.0256 - val_wine_quality_root_mean_squared_error: 0.5536 - val_wine_type_accuracy: 0.0013\n",
      "Epoch 175/180\n",
      "3155/3155 [==============================] - 0s 78us/sample - loss: 0.2708 - wine_quality_loss: 0.2542 - wine_type_loss: 0.0168 - wine_quality_root_mean_squared_error: 0.5039 - wine_type_accuracy: 0.0051 - val_loss: 0.3333 - val_wine_quality_loss: 0.3066 - val_wine_type_loss: 0.0256 - val_wine_quality_root_mean_squared_error: 0.5544 - val_wine_type_accuracy: 0.0013\n",
      "Epoch 176/180\n",
      "3155/3155 [==============================] - 0s 95us/sample - loss: 0.2690 - wine_quality_loss: 0.2519 - wine_type_loss: 0.0167 - wine_quality_root_mean_squared_error: 0.5021 - wine_type_accuracy: 0.0051 - val_loss: 0.3368 - val_wine_quality_loss: 0.3097 - val_wine_type_loss: 0.0256 - val_wine_quality_root_mean_squared_error: 0.5575 - val_wine_type_accuracy: 0.0013\n",
      "Epoch 177/180\n",
      "3155/3155 [==============================] - 0s 93us/sample - loss: 0.2694 - wine_quality_loss: 0.2532 - wine_type_loss: 0.0167 - wine_quality_root_mean_squared_error: 0.5026 - wine_type_accuracy: 0.0051 - val_loss: 0.3366 - val_wine_quality_loss: 0.3097 - val_wine_type_loss: 0.0256 - val_wine_quality_root_mean_squared_error: 0.5574 - val_wine_type_accuracy: 0.0013\n",
      "Epoch 178/180\n",
      "3155/3155 [==============================] - 0s 94us/sample - loss: 0.2694 - wine_quality_loss: 0.2522 - wine_type_loss: 0.0166 - wine_quality_root_mean_squared_error: 0.5027 - wine_type_accuracy: 0.0051 - val_loss: 0.3321 - val_wine_quality_loss: 0.3054 - val_wine_type_loss: 0.0256 - val_wine_quality_root_mean_squared_error: 0.5533 - val_wine_type_accuracy: 0.0013\n",
      "Epoch 179/180\n",
      "3155/3155 [==============================] - 0s 92us/sample - loss: 0.2686 - wine_quality_loss: 0.2526 - wine_type_loss: 0.0166 - wine_quality_root_mean_squared_error: 0.5020 - wine_type_accuracy: 0.0051 - val_loss: 0.3374 - val_wine_quality_loss: 0.3108 - val_wine_type_loss: 0.0256 - val_wine_quality_root_mean_squared_error: 0.5581 - val_wine_type_accuracy: 0.0013\n",
      "Epoch 180/180\n",
      "3155/3155 [==============================] - 0s 90us/sample - loss: 0.2688 - wine_quality_loss: 0.2519 - wine_type_loss: 0.0169 - wine_quality_root_mean_squared_error: 0.5023 - wine_type_accuracy: 0.0051 - val_loss: 0.3418 - val_wine_quality_loss: 0.3149 - val_wine_type_loss: 0.0255 - val_wine_quality_root_mean_squared_error: 0.5621 - val_wine_type_accuracy: 0.0013\n"
     ]
    }
   ],
   "source": [
    "# Please uncomment all lines in this cell and replace those marked with `# YOUR CODE HERE`.\n",
    "# You can select all lines in this code cell with Ctrl+A (Windows/Linux) or Cmd+A (Mac), then press Ctrl+/ (Windows/Linux) or Cmd+/ (Mac) to uncomment.\n",
    "\n",
    "\n",
    "history = model.fit(norm_train_X, train_Y,\n",
    "                    epochs = 180, validation_data=(norm_val_X, val_Y))"
   ]
  },
  {
   "cell_type": "code",
   "execution_count": 128,
   "metadata": {
    "deletable": false,
    "editable": false,
    "nbgrader": {
     "cell_type": "code",
     "checksum": "fadad8896eda9c8c2115970724b15508",
     "grade": true,
     "grade_id": "cell-eb4d5b41bef8f0ab",
     "locked": true,
     "points": 1,
     "schema_version": 3,
     "solution": false,
     "task": false
    }
   },
   "outputs": [
    {
     "name": "stdout",
     "output_type": "stream",
     "text": [
      "\u001b[92m All public tests passed\n"
     ]
    }
   ],
   "source": [
    "utils.test_history(history)"
   ]
  },
  {
   "cell_type": "code",
   "execution_count": 129,
   "metadata": {
    "colab": {},
    "colab_type": "code",
    "id": "CubF2J2gSf6q"
   },
   "outputs": [
    {
     "name": "stdout",
     "output_type": "stream",
     "text": [
      "789/789 [==============================] - 0s 30us/sample - loss: 0.3418 - wine_quality_loss: 0.3149 - wine_type_loss: 0.0255 - wine_quality_root_mean_squared_error: 0.5621 - wine_type_accuracy: 0.0013\n",
      "\n",
      "loss: 0.34181155534449337\n",
      "wine_quality_loss: 0.3148879110813141\n",
      "wine_type_loss: 0.025536850094795227\n",
      "wine_quality_rmse: 0.5620933175086975\n",
      "wine_type_accuracy: 0.0012674271129071712\n"
     ]
    }
   ],
   "source": [
    "# Gather the training metrics\n",
    "loss, wine_quality_loss, wine_type_loss, wine_quality_rmse, wine_type_accuracy = model.evaluate(x=norm_val_X, y=val_Y)\n",
    "\n",
    "print()\n",
    "print(f'loss: {loss}')\n",
    "print(f'wine_quality_loss: {wine_quality_loss}')\n",
    "print(f'wine_type_loss: {wine_type_loss}')\n",
    "print(f'wine_quality_rmse: {wine_quality_rmse}')\n",
    "print(f'wine_type_accuracy: {wine_type_accuracy}')\n",
    "\n",
    "# EXPECTED VALUES\n",
    "# ~ 0.30 - 0.38\n",
    "# ~ 0.30 - 0.38\n",
    "# ~ 0.018 - 0.030\n",
    "# ~ 0.50 - 0.62\n",
    "# ~ 0.97 - 1.0\n",
    "\n",
    "# Example:\n",
    "#0.3657050132751465\n",
    "#0.3463745415210724\n",
    "#0.019330406561493874\n",
    "#0.5885359048843384\n",
    "#0.9974651336669922"
   ]
  },
  {
   "cell_type": "markdown",
   "metadata": {
    "colab_type": "text",
    "id": "gPtTGAP4usnm"
   },
   "source": [
    "## Analyze the Model Performance\n",
    "\n",
    "Note that the model has two outputs. The output at index 0 is quality and index 1 is wine type\n",
    "\n",
    "So, round the quality predictions to the nearest integer."
   ]
  },
  {
   "cell_type": "code",
   "execution_count": 130,
   "metadata": {
    "colab": {},
    "colab_type": "code",
    "id": "tBq9PEeAaW-Y"
   },
   "outputs": [],
   "source": [
    "predictions = model.predict(norm_test_X)\n",
    "quality_pred = predictions[0]\n",
    "type_pred = predictions[1]"
   ]
  },
  {
   "cell_type": "code",
   "execution_count": 131,
   "metadata": {
    "colab": {},
    "colab_type": "code",
    "id": "YLhgTR4xTIxj"
   },
   "outputs": [
    {
     "name": "stdout",
     "output_type": "stream",
     "text": [
      "[5.5909348]\n"
     ]
    }
   ],
   "source": [
    "print(quality_pred[0])\n",
    "\n",
    "# EXPECTED OUTPUT\n",
    "# 5.6 - 6.0"
   ]
  },
  {
   "cell_type": "code",
   "execution_count": 132,
   "metadata": {
    "colab": {},
    "colab_type": "code",
    "id": "MPi-eYfGTUXi"
   },
   "outputs": [
    {
     "name": "stdout",
     "output_type": "stream",
     "text": [
      "[8.8611734e-05]\n",
      "[0.9999989]\n"
     ]
    }
   ],
   "source": [
    "print(type_pred[0])\n",
    "print(type_pred[944])\n",
    "\n",
    "# EXPECTED OUTPUT\n",
    "# A number close to zero\n",
    "# A number close to or equal to 1"
   ]
  },
  {
   "cell_type": "markdown",
   "metadata": {
    "colab_type": "text",
    "id": "Kohk-9C6vt_s"
   },
   "source": [
    "### Plot Utilities\n",
    "\n",
    "We define a few utilities to visualize the model performance."
   ]
  },
  {
   "cell_type": "code",
   "execution_count": 133,
   "metadata": {
    "colab": {},
    "colab_type": "code",
    "id": "62gEOFUhn6aQ"
   },
   "outputs": [],
   "source": [
    "def plot_metrics(metric_name, title, ylim=5):\n",
    "    plt.title(title)\n",
    "    plt.ylim(0,ylim)\n",
    "    plt.plot(history.history[metric_name],color='blue',label=metric_name)\n",
    "    plt.plot(history.history['val_' + metric_name],color='green',label='val_' + metric_name)\n"
   ]
  },
  {
   "cell_type": "code",
   "execution_count": 134,
   "metadata": {
    "colab": {},
    "colab_type": "code",
    "id": "6rfgSx7uz5dj"
   },
   "outputs": [],
   "source": [
    "def plot_confusion_matrix(y_true, y_pred, title='', labels=[0,1]):\n",
    "    cm = confusion_matrix(y_true, y_pred)\n",
    "    fig = plt.figure()\n",
    "    ax = fig.add_subplot(111)\n",
    "    cax = ax.matshow(cm)\n",
    "    plt.title('Confusion matrix of the classifier')\n",
    "    fig.colorbar(cax)\n",
    "    ax.set_xticklabels([''] + labels)\n",
    "    ax.set_yticklabels([''] + labels)\n",
    "    plt.xlabel('Predicted')\n",
    "    plt.ylabel('True')\n",
    "    fmt = 'd'\n",
    "    thresh = cm.max() / 2.\n",
    "    for i, j in itertools.product(range(cm.shape[0]), range(cm.shape[1])):\n",
    "          plt.text(j, i, format(cm[i, j], fmt),\n",
    "                  horizontalalignment=\"center\",\n",
    "                  color=\"black\" if cm[i, j] > thresh else \"white\")\n",
    "    plt.show()"
   ]
  },
  {
   "cell_type": "code",
   "execution_count": 135,
   "metadata": {
    "colab": {},
    "colab_type": "code",
    "id": "dfVLIqi017Vf"
   },
   "outputs": [],
   "source": [
    "def plot_diff(y_true, y_pred, title = '' ):\n",
    "    plt.scatter(y_true, y_pred)\n",
    "    plt.title(title)\n",
    "    plt.xlabel('True Values')\n",
    "    plt.ylabel('Predictions')\n",
    "    plt.axis('equal')\n",
    "    plt.axis('square')\n",
    "    plt.plot([-100, 100], [-100, 100])\n",
    "    return plt"
   ]
  },
  {
   "cell_type": "markdown",
   "metadata": {
    "colab_type": "text",
    "id": "8sd1jdFbwE0I"
   },
   "source": [
    "### Plots for Metrics"
   ]
  },
  {
   "cell_type": "code",
   "execution_count": 136,
   "metadata": {
    "colab": {},
    "colab_type": "code",
    "id": "f3MwZ5J1pOfj"
   },
   "outputs": [
    {
     "data": {
      "image/png": "[encoded data removed]",
      "text/plain": [
       "<Figure size 432x288 with 1 Axes>"
      ]
     },
     "metadata": {
      "needs_background": "light"
     },
     "output_type": "display_data"
    }
   ],
   "source": [
    "plot_metrics('wine_quality_root_mean_squared_error', 'RMSE', ylim=2)"
   ]
  },
  {
   "cell_type": "code",
   "execution_count": 137,
   "metadata": {
    "colab": {},
    "colab_type": "code",
    "id": "QIAxEezCppnd"
   },
   "outputs": [
    {
     "data": {
      "image/png": "[encoded data removed]",
      "text/plain": [
       "<Figure size 432x288 with 1 Axes>"
      ]
     },
     "metadata": {
      "needs_background": "light"
     },
     "output_type": "display_data"
    }
   ],
   "source": [
    "plot_metrics('wine_type_loss', 'Wine Type Loss', ylim=0.2)"
   ]
  },
  {
   "cell_type": "markdown",
   "metadata": {
    "colab_type": "text",
    "id": "uYV9AOAMwI9p"
   },
   "source": [
    "### Plots for Confusion Matrix\n",
    "\n",
    "Plot the confusion matrices for wine type. You can see that the model performs well for prediction of wine type from the confusion matrix and the loss metrics."
   ]
  },
  {
   "cell_type": "code",
   "execution_count": 138,
   "metadata": {
    "colab": {},
    "colab_type": "code",
    "id": "C3hvTYxIaf3n"
   },
   "outputs": [
    {
     "data": {
      "image/png": "[encoded data removed]",
      "text/plain": [
       "<Figure size 432x288 with 2 Axes>"
      ]
     },
     "metadata": {
      "needs_background": "light"
     },
     "output_type": "display_data"
    }
   ],
   "source": [
    "plot_confusion_matrix(test_Y[1], np.round(type_pred), title='Wine Type', labels = [0, 1])"
   ]
  },
  {
   "cell_type": "code",
   "execution_count": 139,
   "metadata": {
    "colab": {},
    "colab_type": "code",
    "id": "GW91ym8P2I5y"
   },
   "outputs": [
    {
     "data": {
      "image/png": "[encoded data removed]",
      "text/plain": [
       "<Figure size 432x288 with 1 Axes>"
      ]
     },
     "metadata": {
      "needs_background": "light"
     },
     "output_type": "display_data"
    }
   ],
   "source": [
    "scatter_plot = plot_diff(test_Y[0], quality_pred, title='Type')"
   ]
  },
  {
   "cell_type": "code",
   "execution_count": null,
   "metadata": {},
   "outputs": [],
   "source": []
  }
 ],
 "metadata": {
  "colab": {
   "include_colab_link": true,
   "name": "exercise-answer.ipynb",
   "provenance": []
  },
  "kernelspec": {
   "display_name": "Python 3",
   "language": "python",
   "name": "python3"
  },
  "language_info": {
   "codemirror_mode": {
    "name": "ipython",
    "version": 3
   },
   "file_extension": ".py",
   "mimetype": "text/x-python",
   "name": "python",
   "nbconvert_exporter": "python",
   "pygments_lexer": "ipython3",
   "version": "3.7.6"
  }
 },
 "nbformat": 4,
 "nbformat_minor": 4
}
