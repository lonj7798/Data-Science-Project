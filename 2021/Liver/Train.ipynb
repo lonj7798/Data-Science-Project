{
 "cells": [
  {
   "cell_type": "code",
   "execution_count": 1,
   "metadata": {},
   "outputs": [],
   "source": [
    "import os\n",
    "from os import getcwd\n",
    "\n",
    "import tensorflow as tf"
   ]
  },
  {
   "cell_type": "code",
   "execution_count": 2,
   "metadata": {},
   "outputs": [],
   "source": [
    "try:\n",
    "    os.mkdir('/tmp/Liver')\n",
    "    os.mkdir('/tmp/Liver/training')\n",
    "    os.mkdir('/tmp/Liver/training/f0')\n",
    "    os.mkdir('/tmp/Liver/training/f1')\n",
    "    os.mkdir('/tmp/Liver/training/f2')\n",
    "    os.mkdir('/tmp/Liver/training/f3')\n",
    "    os.mkdir('/tmp/Liver/training/f4')\n",
    "    os.mkdir('/tmp/Liver/testing')\n",
    "    os.mkdir('/tmp/Liver/testing/f0')\n",
    "    os.mkdir('/tmp/Liver/testing/f1')\n",
    "    os.mkdir('/tmp/Liver/testing/f2')\n",
    "    os.mkdir('/tmp/Liver/testing/f3')\n",
    "    os.mkdir('/tmp/Liver/testing/f4')\n",
    "    \n",
    "    #YOUR CODE GOES HERE\n",
    "except OSError:\n",
    "    pass"
   ]
  },
  {
   "cell_type": "code",
   "execution_count": 3,
   "metadata": {},
   "outputs": [],
   "source": [
    "import random\n",
    "from shutil import copyfile\n",
    "\n",
    "def split_data(SOURCE, TRAINING, TESTING, SPLIT_SIZE):\n",
    "    dataset = []\n",
    "    \n",
    "    for unitData in os.listdir(SOURCE):\n",
    "        data = SOURCE + unitData\n",
    "        if(os.path.getsize(data) > 0):\n",
    "            dataset.append(unitData)\n",
    "        else:\n",
    "            print('Skipped ' + unitData)\n",
    "            print('Invalid file i.e zero size')\n",
    "    \n",
    "    train_set_length = int(len(dataset) * SPLIT_SIZE)\n",
    "    test_set_length = int(len(dataset) - train_set_length)\n",
    "    shuffled_set = random.sample(dataset, len(dataset))\n",
    "    train_set = dataset[0:train_set_length]\n",
    "    test_set = dataset[-test_set_length:]\n",
    "       \n",
    "    for unitData in train_set:\n",
    "        temp_train_set = SOURCE + unitData\n",
    "        final_train_set = TRAINING + unitData\n",
    "        copyfile(temp_train_set, final_train_set)\n",
    "    \n",
    "    for unitData in test_set:\n",
    "        temp_test_set = SOURCE + unitData\n",
    "        final_test_set = TESTING + unitData\n",
    "        copyfile(temp_test_set, final_test_set)"
   ]
  },
  {
   "cell_type": "code",
   "execution_count": 4,
   "metadata": {},
   "outputs": [],
   "source": [
    "F0_SOURCE_DIR = \"../../../Data/Liver/0/\"\n",
    "TRAINING_F0_DIR = \"/tmp/Liver/training/f0/\"\n",
    "TESTING_F0_DIR = \"/tmp/Liver/testing/f0/\"\n",
    "\n",
    "F1_SOURCE_DIR = \"../../../Data/Liver/1/\"\n",
    "TRAINING_F1_DIR = \"/tmp/Liver/training/f1/\"\n",
    "TESTING_F1_DIR = \"/tmp/Liver/testing/f1/\"\n",
    "\n",
    "F2_SOURCE_DIR = \"../../../Data/Liver/2/\"\n",
    "TRAINING_F2_DIR = \"/tmp/Liver/training/f2/\"\n",
    "TESTING_F2_DIR = \"/tmp/Liver/testing/f2/\"\n",
    "\n",
    "F3_SOURCE_DIR = \"../../../Data/Liver/3/\"\n",
    "TRAINING_F3_DIR = \"/tmp/Liver/training/f3/\"\n",
    "TESTING_F3_DIR = \"/tmp/Liver/testing/f3/\"\n",
    "\n",
    "F4_SOURCE_DIR = \"../../../Data/Liver/4/\"\n",
    "TRAINING_F4_DIR = \"/tmp/Liver/training/f4/\"\n",
    "TESTING_F4_DIR = \"/tmp/Liver/testing/f4/\"\n",
    "\n",
    "split_size = .8\n",
    "\n",
    "split_data(F0_SOURCE_DIR, TRAINING_F0_DIR, TESTING_F0_DIR, split_size)\n",
    "split_data(F1_SOURCE_DIR, TRAINING_F1_DIR, TESTING_F1_DIR, split_size)\n",
    "split_data(F2_SOURCE_DIR, TRAINING_F2_DIR, TESTING_F2_DIR, split_size)\n",
    "split_data(F3_SOURCE_DIR, TRAINING_F3_DIR, TESTING_F3_DIR, split_size)\n",
    "split_data(F4_SOURCE_DIR, TRAINING_F4_DIR, TESTING_F4_DIR, split_size)"
   ]
  },
  {
   "cell_type": "code",
   "execution_count": 5,
   "metadata": {
    "scrolled": true
   },
   "outputs": [
    {
     "name": "stdout",
     "output_type": "stream",
     "text": [
      "Training Fibrosis 0: 889\n",
      "Testing Fibrosis 0: 223\n",
      "--------------------\n",
      "Training Fibrosis 1: 111\n",
      "Testing Fibrosis 1: 28\n",
      "--------------------\n",
      "Training Fibrosis 2: 108\n",
      "Testing Fibrosis 2: 27\n",
      "--------------------\n",
      "Training Fibrosis 3: 361\n",
      "Testing Fibrosis 3: 91\n",
      "--------------------\n",
      "Training Fibrosis 4: 728\n",
      "Testing Fibrosis 4: 183\n",
      "--------------------\n"
     ]
    }
   ],
   "source": [
    "print(\"Training Fibrosis 0:\", len(os.listdir(TRAINING_F0_DIR)))\n",
    "print(\"Testing Fibrosis 0:\", len(os.listdir(TESTING_F0_DIR)))\n",
    "print(\"-\"*20)\n",
    "print(\"Training Fibrosis 1:\", len(os.listdir(TRAINING_F1_DIR)))\n",
    "print(\"Testing Fibrosis 1:\", len(os.listdir(TESTING_F1_DIR)))\n",
    "print(\"-\"*20)\n",
    "print(\"Training Fibrosis 2:\", len(os.listdir(TRAINING_F2_DIR)))\n",
    "print(\"Testing Fibrosis 2:\", len(os.listdir(TESTING_F2_DIR)))\n",
    "print(\"-\"*20)\n",
    "print(\"Training Fibrosis 3:\", len(os.listdir(TRAINING_F3_DIR)))\n",
    "print(\"Testing Fibrosis 3:\", len(os.listdir(TESTING_F3_DIR)))\n",
    "print(\"-\"*20)\n",
    "print(\"Training Fibrosis 4:\", len(os.listdir(TRAINING_F4_DIR)))\n",
    "print(\"Testing Fibrosis 4:\", len(os.listdir(TESTING_F4_DIR)))\n",
    "print(\"-\"*20)"
   ]
  },
  {
   "cell_type": "code",
   "execution_count": 7,
   "metadata": {},
   "outputs": [],
   "source": [
    "class myCallback(tf.keras.callbacks.Callback):\n",
    "    def on_epoch_end(self, epoch, logs={}):\n",
    "        if(logs.get('acc')>0.99):\n",
    "            print(\"\\nReached 99.0% accuracy so cancelling training!\")\n",
    "            self.model.stop_training = True"
   ]
  },
  {
   "cell_type": "code",
   "execution_count": 8,
   "metadata": {},
   "outputs": [],
   "source": [
    "from tensorflow.keras.optimizers import RMSprop"
   ]
  },
  {
   "cell_type": "code",
   "execution_count": 9,
   "metadata": {},
   "outputs": [],
   "source": [
    "model = tf.keras.models.Sequential([\n",
    "    tf.keras.layers.Conv2D(16, (3,3), activation='relu', input_shape=(600,800,1)),\n",
    "    tf.keras.layers.MaxPooling2D(2,2),\n",
    "    tf.keras.layers.Conv2D(32, (3,3), activation='relu'),\n",
    "    tf.keras.layers.MaxPooling2D(2,2),\n",
    "    tf.keras.layers.Conv2D(64, (3,3), activation='relu'),\n",
    "    tf.keras.layers.MaxPooling2D(2,2),\n",
    "    tf.keras.layers.Conv2D(64, (3,3), activation='relu'),\n",
    "    tf.keras.layers.MaxPooling2D(2,2),\n",
    "    tf.keras.layers.Conv2D(128, (3,3), activation='relu'),\n",
    "    tf.keras.layers.MaxPooling2D(2,2),\n",
    "    tf.keras.layers.Flatten(),\n",
    "    tf.keras.layers.Dense(512, activation='relu'),\n",
    "    tf.keras.layers.Dense(128, activation='relu'),\n",
    "    tf.keras.layers.Dense(64, activation='relu'),\n",
    "    tf.keras.layers.Dense(5, activation='softmax')\n",
    "    \n",
    "])"
   ]
  },
  {
   "cell_type": "code",
   "execution_count": 10,
   "metadata": {},
   "outputs": [
    {
     "data": {
      "text/plain": [
       "\"\\nmodel.compile(optimizer=RMSprop(lr=0.001),\\n              loss='categorical_crossentropy',\\n              metrics=['acc'])\\n\""
      ]
     },
     "execution_count": 10,
     "metadata": {},
     "output_type": "execute_result"
    }
   ],
   "source": [
    "\"\"\"\n",
    "model.compile(optimizer=RMSprop(lr=0.001),\n",
    "              loss='categorical_crossentropy',\n",
    "              metrics=['acc'])\n",
    "\"\"\""
   ]
  },
  {
   "cell_type": "code",
   "execution_count": 11,
   "metadata": {},
   "outputs": [],
   "source": [
    "\n",
    "optimizer = RMSprop(lr=1e-8, momentum=0.9)\n",
    "model.compile(loss='categorical_crossentropy',\n",
    "              optimizer=optimizer,\n",
    "              metrics=[\"acc\"])         \n"
   ]
  },
  {
   "cell_type": "code",
   "execution_count": 12,
   "metadata": {
    "scrolled": false
   },
   "outputs": [
    {
     "name": "stdout",
     "output_type": "stream",
     "text": [
      "Model: \"sequential\"\n",
      "_________________________________________________________________\n",
      "Layer (type)                 Output Shape              Param #   \n",
      "=================================================================\n",
      "conv2d (Conv2D)              (None, 598, 798, 16)      160       \n",
      "_________________________________________________________________\n",
      "max_pooling2d (MaxPooling2D) (None, 299, 399, 16)      0         \n",
      "_________________________________________________________________\n",
      "conv2d_1 (Conv2D)            (None, 297, 397, 32)      4640      \n",
      "_________________________________________________________________\n",
      "max_pooling2d_1 (MaxPooling2 (None, 148, 198, 32)      0         \n",
      "_________________________________________________________________\n",
      "conv2d_2 (Conv2D)            (None, 146, 196, 64)      18496     \n",
      "_________________________________________________________________\n",
      "max_pooling2d_2 (MaxPooling2 (None, 73, 98, 64)        0         \n",
      "_________________________________________________________________\n",
      "conv2d_3 (Conv2D)            (None, 71, 96, 64)        36928     \n",
      "_________________________________________________________________\n",
      "max_pooling2d_3 (MaxPooling2 (None, 35, 48, 64)        0         \n",
      "_________________________________________________________________\n",
      "conv2d_4 (Conv2D)            (None, 33, 46, 128)       73856     \n",
      "_________________________________________________________________\n",
      "max_pooling2d_4 (MaxPooling2 (None, 16, 23, 128)       0         \n",
      "_________________________________________________________________\n",
      "flatten (Flatten)            (None, 47104)             0         \n",
      "_________________________________________________________________\n",
      "dense (Dense)                (None, 512)               24117760  \n",
      "_________________________________________________________________\n",
      "dense_1 (Dense)              (None, 128)               65664     \n",
      "_________________________________________________________________\n",
      "dense_2 (Dense)              (None, 64)                8256      \n",
      "_________________________________________________________________\n",
      "dense_3 (Dense)              (None, 5)                 325       \n",
      "=================================================================\n",
      "Total params: 24,326,085\n",
      "Trainable params: 24,326,085\n",
      "Non-trainable params: 0\n",
      "_________________________________________________________________\n"
     ]
    }
   ],
   "source": [
    "model.summary()"
   ]
  },
  {
   "cell_type": "code",
   "execution_count": 13,
   "metadata": {},
   "outputs": [
    {
     "name": "stdout",
     "output_type": "stream",
     "text": [
      "Found 2197 images belonging to 5 classes.\n",
      "Found 552 images belonging to 5 classes.\n"
     ]
    }
   ],
   "source": [
    "from tensorflow.keras.preprocessing.image import ImageDataGenerator \n",
    "\n",
    "TRAINING_DIR = '/tmp/Liver/training'\n",
    "train_datagen = ImageDataGenerator(rescale = 1.0/255.)\n",
    "\n",
    "train_generator = train_datagen.flow_from_directory(TRAINING_DIR,\n",
    "                                                   batch_size=64,\n",
    "                                                   class_mode='categorical',\n",
    "                                                   target_size=(600,800),\n",
    "                                                   color_mode='grayscale') # target_size = (height, width)\n",
    "\n",
    "TESTING_DIR = '/tmp/Liver/testing'\n",
    "test_datagen = ImageDataGenerator(rescale = 1.0/255.)\n",
    "\n",
    "test_generator = train_datagen.flow_from_directory(TESTING_DIR,\n",
    "                                                   batch_size=16,\n",
    "                                                   class_mode='categorical',\n",
    "                                                   target_size=(600,800), \n",
    "                                                   color_mode='grayscale')"
   ]
  },
  {
   "cell_type": "code",
   "execution_count": null,
   "metadata": {
    "scrolled": false
   },
   "outputs": [
    {
     "name": "stdout",
     "output_type": "stream",
     "text": [
      "Epoch 1/50\n",
      " 2/35 [>.............................] - ETA: 4s - loss: 1.6080 - acc: 0.3438WARNING:tensorflow:Callbacks method `on_train_batch_end` is slow compared to the batch time (batch time: 0.0865s vs `on_train_batch_end` time: 0.1784s). Check your callbacks.\n",
      "35/35 [==============================] - 11s 318ms/step - loss: 1.6066 - acc: 0.3773 - val_loss: 1.6055 - val_acc: 0.3822\n",
      "Epoch 2/50\n",
      "35/35 [==============================] - 10s 295ms/step - loss: 1.6049 - acc: 0.3987 - val_loss: 1.6039 - val_acc: 0.3967\n",
      "Epoch 3/50\n",
      "35/35 [==============================] - 10s 297ms/step - loss: 1.6032 - acc: 0.4033 - val_loss: 1.6023 - val_acc: 0.3986\n",
      "Epoch 4/50\n",
      "35/35 [==============================] - 10s 297ms/step - loss: 1.6015 - acc: 0.4046 - val_loss: 1.6007 - val_acc: 0.4022\n",
      "Epoch 5/50\n",
      "35/35 [==============================] - 10s 298ms/step - loss: 1.6000 - acc: 0.4046 - val_loss: 1.5992 - val_acc: 0.4022\n",
      "Epoch 6/50\n",
      "35/35 [==============================] - 10s 297ms/step - loss: 1.5985 - acc: 0.4046 - val_loss: 1.5977 - val_acc: 0.4022\n",
      "Epoch 7/50\n",
      "35/35 [==============================] - 10s 299ms/step - loss: 1.5969 - acc: 0.4046 - val_loss: 1.5962 - val_acc: 0.4040\n",
      "Epoch 8/50\n",
      "35/35 [==============================] - 10s 297ms/step - loss: 1.5954 - acc: 0.4046 - val_loss: 1.5947 - val_acc: 0.4040\n",
      "Epoch 9/50\n",
      "35/35 [==============================] - 10s 295ms/step - loss: 1.5939 - acc: 0.4046 - val_loss: 1.5931 - val_acc: 0.4040\n",
      "Epoch 10/50\n",
      "35/35 [==============================] - 10s 295ms/step - loss: 1.5924 - acc: 0.4046 - val_loss: 1.5916 - val_acc: 0.4040\n",
      "Epoch 11/50\n",
      "12/35 [=========>....................] - ETA: 5s - loss: 1.5899 - acc: 0.4331"
     ]
    }
   ],
   "source": [
    "callbacks = myCallback()\n",
    "\n",
    "history = model.fit_generator(train_generator,\n",
    "                              epochs=50,\n",
    "                              validation_data=test_generator,\n",
    "                              callbacks=[callbacks])"
   ]
  },
  {
   "cell_type": "code",
   "execution_count": null,
   "metadata": {},
   "outputs": [],
   "source": [
    "# check the proper learning rate(lr)\n",
    "\n",
    "import matplotlib.pyplot as plt\n",
    "\n",
    "plt.semilogx(history.history[\"lr\"], history.history[\"loss\"])\n",
    "plt.axis([1e-8, 1e-4, 0, 60])"
   ]
  },
  {
   "cell_type": "code",
   "execution_count": 19,
   "metadata": {},
   "outputs": [
    {
     "ename": "NameError",
     "evalue": "name 'history' is not defined",
     "output_type": "error",
     "traceback": [
      "\u001b[0;31m---------------------------------------------------------------------------\u001b[0m",
      "\u001b[0;31mNameError\u001b[0m                                 Traceback (most recent call last)",
      "\u001b[0;32m<ipython-input-19-4428c04c1470>\u001b[0m in \u001b[0;36m<module>\u001b[0;34m\u001b[0m\n\u001b[1;32m     10\u001b[0m     \u001b[0mplt\u001b[0m\u001b[0;34m.\u001b[0m\u001b[0mshow\u001b[0m\u001b[0;34m(\u001b[0m\u001b[0;34m)\u001b[0m\u001b[0;34m\u001b[0m\u001b[0;34m\u001b[0m\u001b[0m\n\u001b[1;32m     11\u001b[0m \u001b[0;34m\u001b[0m\u001b[0m\n\u001b[0;32m---> 12\u001b[0;31m \u001b[0mplot_graphs\u001b[0m\u001b[0;34m(\u001b[0m\u001b[0mhistory\u001b[0m\u001b[0;34m,\u001b[0m \u001b[0;34m\"accuracy\"\u001b[0m\u001b[0;34m)\u001b[0m\u001b[0;34m\u001b[0m\u001b[0;34m\u001b[0m\u001b[0m\n\u001b[0m\u001b[1;32m     13\u001b[0m \u001b[0mplot_graphs\u001b[0m\u001b[0;34m(\u001b[0m\u001b[0mhistory\u001b[0m\u001b[0;34m,\u001b[0m \u001b[0;34m\"loss\"\u001b[0m\u001b[0;34m)\u001b[0m\u001b[0;34m\u001b[0m\u001b[0;34m\u001b[0m\u001b[0m\n",
      "\u001b[0;31mNameError\u001b[0m: name 'history' is not defined"
     ]
    }
   ],
   "source": [
    "def plot_graphs(history, string):\n",
    "    plt.plot(history.history[string])\n",
    "    plt.plot(history.history['val_'+string])\n",
    "    plt.xlabel(\"Epochs\")\n",
    "    plt.ylabel(string)\n",
    "    plt.legend([string, 'val_'+string])\n",
    "    plt.show()\n",
    "    \n",
    "plot_graphs(history, \"accuracy\")\n",
    "plot_graphs(history, \"loss\")"
   ]
  },
  {
   "cell_type": "code",
   "execution_count": null,
   "metadata": {},
   "outputs": [],
   "source": [
    "import os, signal\n",
    "\n",
    "os.kill(os.getpid(),signal.SIGKILL)"
   ]
  }
 ],
 "metadata": {
  "kernelspec": {
   "display_name": "Python 3",
   "language": "python",
   "name": "python3"
  },
  "language_info": {
   "codemirror_mode": {
    "name": "ipython",
    "version": 3
   },
   "file_extension": ".py",
   "mimetype": "text/x-python",
   "name": "python",
   "nbconvert_exporter": "python",
   "pygments_lexer": "ipython3",
   "version": "3.8.3"
  }
 },
 "nbformat": 4,
 "nbformat_minor": 4
}
