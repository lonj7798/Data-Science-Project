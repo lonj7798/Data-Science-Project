{
  "nbformat": 4,
  "nbformat_minor": 0,
  "metadata": {
    "accelerator": "GPU",
    "colab": {
      "name": "Course 2 - Part 4 - Lesson 4 - Notebook.ipynb",
      "provenance": [],
      "collapsed_sections": []
    },
    "kernelspec": {
      "display_name": "Python 3",
      "name": "python3"
    }
  },
  "cells": [
    {
      "cell_type": "markdown",
      "metadata": {
        "id": "rX8mhOLljYeM"
      },
      "source": [
        "##### Copyright 2019 The TensorFlow Authors."
      ]
    },
    {
      "cell_type": "code",
      "metadata": {
        "cellView": "form",
        "id": "BZSlp3DAjdYf"
      },
      "source": [
        "#@title Licensed under the Apache License, Version 2.0 (the \"License\");\n",
        "# you may not use this file except in compliance with the License.\n",
        "# You may obtain a copy of the License at\n",
        "#\n",
        "# https://www.apache.org/licenses/LICENSE-2.0\n",
        "#\n",
        "# Unless required by applicable law or agreed to in writing, software\n",
        "# distributed under the License is distributed on an \"AS IS\" BASIS,\n",
        "# WITHOUT WARRANTIES OR CONDITIONS OF ANY KIND, either express or implied.\n",
        "# See the License for the specific language governing permissions and\n",
        "# limitations under the License."
      ],
      "execution_count": null,
      "outputs": []
    },
    {
      "cell_type": "code",
      "metadata": {
        "colab": {
          "base_uri": "https://localhost:8080/"
        },
        "id": "RXZT2UsyIVe_",
        "outputId": "cae187ff-3a5a-45df-b7e3-1c4a9ba965b3"
      },
      "source": [
        "!wget --no-check-certificate \\\n",
        "    https://storage.googleapis.com/laurencemoroney-blog.appspot.com/horse-or-human.zip \\\n",
        "    -O /tmp/horse-or-human.zip\n",
        "\n",
        "!wget --no-check-certificate \\\n",
        "    https://storage.googleapis.com/laurencemoroney-blog.appspot.com/validation-horse-or-human.zip \\\n",
        "    -O /tmp/validation-horse-or-human.zip\n",
        "  \n",
        "import os\n",
        "import zipfile\n",
        "\n",
        "local_zip = '/tmp/horse-or-human.zip'\n",
        "zip_ref = zipfile.ZipFile(local_zip, 'r')\n",
        "zip_ref.extractall('/tmp/horse-or-human')\n",
        "local_zip = '/tmp/validation-horse-or-human.zip'\n",
        "zip_ref = zipfile.ZipFile(local_zip, 'r')\n",
        "zip_ref.extractall('/tmp/validation-horse-or-human')\n",
        "zip_ref.close()\n",
        "# Directory with our training horse pictures\n",
        "train_horse_dir = os.path.join('/tmp/horse-or-human/horses')\n",
        "\n",
        "# Directory with our training human pictures\n",
        "train_human_dir = os.path.join('/tmp/horse-or-human/humans')\n",
        "\n",
        "# Directory with our training horse pictures\n",
        "validation_horse_dir = os.path.join('/tmp/validation-horse-or-human/horses')\n",
        "\n",
        "# Directory with our training human pictures\n",
        "validation_human_dir = os.path.join('/tmp/validation-horse-or-human/humans')"
      ],
      "execution_count": 9,
      "outputs": [
        {
          "output_type": "stream",
          "text": [
            "--2020-12-31 10:37:33--  https://storage.googleapis.com/laurencemoroney-blog.appspot.com/horse-or-human.zip\n",
            "Resolving storage.googleapis.com (storage.googleapis.com)... 172.253.63.128, 142.250.31.128, 172.217.13.80, ...\n",
            "Connecting to storage.googleapis.com (storage.googleapis.com)|172.253.63.128|:443... connected.\n",
            "HTTP request sent, awaiting response... 200 OK\n",
            "Length: 149574867 (143M) [application/zip]\n",
            "Saving to: ‘/tmp/horse-or-human.zip’\n",
            "\n",
            "/tmp/horse-or-human 100%[===================>] 142.65M   197MB/s    in 0.7s    \n",
            "\n",
            "2020-12-31 10:37:34 (197 MB/s) - ‘/tmp/horse-or-human.zip’ saved [149574867/149574867]\n",
            "\n",
            "--2020-12-31 10:37:34--  https://storage.googleapis.com/laurencemoroney-blog.appspot.com/validation-horse-or-human.zip\n",
            "Resolving storage.googleapis.com (storage.googleapis.com)... 142.250.31.128, 172.217.7.144, 172.217.15.80, ...\n",
            "Connecting to storage.googleapis.com (storage.googleapis.com)|142.250.31.128|:443... connected.\n",
            "HTTP request sent, awaiting response... 200 OK\n",
            "Length: 11480187 (11M) [application/zip]\n",
            "Saving to: ‘/tmp/validation-horse-or-human.zip’\n",
            "\n",
            "/tmp/validation-hor 100%[===================>]  10.95M  --.-KB/s    in 0.06s   \n",
            "\n",
            "2020-12-31 10:37:34 (192 MB/s) - ‘/tmp/validation-horse-or-human.zip’ saved [11480187/11480187]\n",
            "\n"
          ],
          "name": "stdout"
        }
      ]
    },
    {
      "cell_type": "markdown",
      "metadata": {
        "id": "5oqBkNBJmtUv"
      },
      "source": [
        "## Building a Small Model from Scratch\n",
        "\n",
        "But before we continue, let's start defining the model:\n",
        "\n",
        "Step 1 will be to import tensorflow."
      ]
    },
    {
      "cell_type": "code",
      "metadata": {
        "id": "qvfZg3LQbD-5"
      },
      "source": [
        "import tensorflow as tf"
      ],
      "execution_count": 10,
      "outputs": []
    },
    {
      "cell_type": "markdown",
      "metadata": {
        "id": "BnhYCP4tdqjC"
      },
      "source": [
        "We then add convolutional layers as in the previous example, and flatten the final result to feed into the densely connected layers."
      ]
    },
    {
      "cell_type": "markdown",
      "metadata": {
        "id": "gokG5HKpdtzm"
      },
      "source": [
        "Finally we add the densely connected layers. \n",
        "\n",
        "Note that because we are facing a two-class classification problem, i.e. a *binary classification problem*, we will end our network with a [*sigmoid* activation](https://wikipedia.org/wiki/Sigmoid_function), so that the output of our network will be a single scalar between 0 and 1, encoding the probability that the current image is class 1 (as opposed to class 0)."
      ]
    },
    {
      "cell_type": "code",
      "metadata": {
        "id": "PixZ2s5QbYQ3"
      },
      "source": [
        "model = tf.keras.models.Sequential([\n",
        "    # Note the input shape is the desired size of the image 300x300 with 3 bytes color\n",
        "    # This is the first convolution\n",
        "    tf.keras.layers.Conv2D(16, (3,3), activation='relu', input_shape=(300, 300, 3)),\n",
        "    tf.keras.layers.MaxPooling2D(2, 2),\n",
        "    # The second convolution\n",
        "    tf.keras.layers.Conv2D(32, (3,3), activation='relu'),\n",
        "    tf.keras.layers.MaxPooling2D(2,2),\n",
        "    # The third convolution\n",
        "    tf.keras.layers.Conv2D(64, (3,3), activation='relu'),\n",
        "    tf.keras.layers.MaxPooling2D(2,2),\n",
        "    # The fourth convolution\n",
        "    tf.keras.layers.Conv2D(64, (3,3), activation='relu'),\n",
        "    tf.keras.layers.MaxPooling2D(2,2),\n",
        "    # The fifth convolution\n",
        "    tf.keras.layers.Conv2D(64, (3,3), activation='relu'),\n",
        "    tf.keras.layers.MaxPooling2D(2,2),\n",
        "    # Flatten the results to feed into a DNN\n",
        "    tf.keras.layers.Flatten(),\n",
        "    # 512 neuron hidden layer\n",
        "    tf.keras.layers.Dense(512, activation='relu'),\n",
        "    # Only 1 output neuron. It will contain a value from 0-1 where 0 for 1 class ('horses') and 1 for the other ('humans')\n",
        "    tf.keras.layers.Dense(1, activation='sigmoid')\n",
        "])"
      ],
      "execution_count": 11,
      "outputs": []
    },
    {
      "cell_type": "code",
      "metadata": {
        "id": "8DHWhFP_uhq3"
      },
      "source": [
        "from tensorflow.keras.optimizers import RMSprop\n",
        "\n",
        "model.compile(loss='binary_crossentropy',\n",
        "              optimizer=RMSprop(lr=1e-4),\n",
        "              metrics=['accuracy'])"
      ],
      "execution_count": 12,
      "outputs": []
    },
    {
      "cell_type": "code",
      "metadata": {
        "colab": {
          "base_uri": "https://localhost:8080/"
        },
        "id": "ClebU9NJg99G",
        "outputId": "dc7ebfc0-5f77-4895-dfc3-2de9601dc840"
      },
      "source": [
        "from tensorflow.keras.preprocessing.image import ImageDataGenerator\n",
        "\n",
        "# All images will be rescaled by 1./255\n",
        "train_datagen = ImageDataGenerator(\n",
        "      rescale=1./255,\n",
        "      rotation_range=40,\n",
        "      width_shift_range=0.2,\n",
        "      height_shift_range=0.2,\n",
        "      shear_range=0.2,\n",
        "      zoom_range=0.2,\n",
        "      horizontal_flip=True,\n",
        "      fill_mode='nearest')\n",
        "\n",
        "validation_datagen = ImageDataGenerator(rescale=1/255)\n",
        "\n",
        "# Flow training images in batches of 128 using train_datagen generator\n",
        "train_generator = train_datagen.flow_from_directory(\n",
        "        '/tmp/horse-or-human/',  # This is the source directory for training images\n",
        "        target_size=(300, 300),  # All images will be resized to 150x150\n",
        "        batch_size=128,\n",
        "        # Since we use binary_crossentropy loss, we need binary labels\n",
        "        class_mode='binary')\n",
        "\n",
        "# Flow training images in batches of 128 using train_datagen generator\n",
        "validation_generator = validation_datagen.flow_from_directory(\n",
        "        '/tmp/validation-horse-or-human/',  # This is the source directory for training images\n",
        "        target_size=(300, 300),  # All images will be resized to 150x150\n",
        "        batch_size=32,\n",
        "        # Since we use binary_crossentropy loss, we need binary labels\n",
        "        class_mode='binary')"
      ],
      "execution_count": 13,
      "outputs": [
        {
          "output_type": "stream",
          "text": [
            "Found 1027 images belonging to 2 classes.\n",
            "Found 256 images belonging to 2 classes.\n"
          ],
          "name": "stdout"
        }
      ]
    },
    {
      "cell_type": "code",
      "metadata": {
        "colab": {
          "base_uri": "https://localhost:8080/"
        },
        "id": "Fb1_lgobv81m",
        "outputId": "2ff90bf2-b7e3-4600-85e9-86b79daa304e"
      },
      "source": [
        "history = model.fit(\n",
        "      train_generator,\n",
        "      steps_per_epoch=8,  \n",
        "      epochs=100,\n",
        "      verbose=1,\n",
        "      validation_data = validation_generator,\n",
        "      validation_steps=8)"
      ],
      "execution_count": 14,
      "outputs": [
        {
          "output_type": "stream",
          "text": [
            "Epoch 1/100\n",
            "8/8 [==============================] - 24s 3s/step - loss: 0.6924 - accuracy: 0.5354 - val_loss: 0.6909 - val_accuracy: 0.5000\n",
            "Epoch 2/100\n",
            "8/8 [==============================] - 22s 3s/step - loss: 0.6779 - accuracy: 0.5844 - val_loss: 0.6603 - val_accuracy: 0.6133\n",
            "Epoch 3/100\n",
            "8/8 [==============================] - 22s 3s/step - loss: 0.6451 - accuracy: 0.7412 - val_loss: 0.7874 - val_accuracy: 0.5000\n",
            "Epoch 4/100\n",
            "8/8 [==============================] - 22s 3s/step - loss: 0.6071 - accuracy: 0.6653 - val_loss: 0.6294 - val_accuracy: 0.4961\n",
            "Epoch 5/100\n",
            "8/8 [==============================] - 22s 3s/step - loss: 0.6732 - accuracy: 0.6273 - val_loss: 0.6523 - val_accuracy: 0.6250\n",
            "Epoch 6/100\n",
            "8/8 [==============================] - 22s 3s/step - loss: 0.5526 - accuracy: 0.7365 - val_loss: 0.8105 - val_accuracy: 0.5820\n",
            "Epoch 7/100\n",
            "8/8 [==============================] - 22s 3s/step - loss: 0.5424 - accuracy: 0.7363 - val_loss: 0.9808 - val_accuracy: 0.5664\n",
            "Epoch 8/100\n",
            "8/8 [==============================] - 21s 3s/step - loss: 0.4976 - accuracy: 0.7618 - val_loss: 0.9585 - val_accuracy: 0.5938\n",
            "Epoch 9/100\n",
            "8/8 [==============================] - 21s 3s/step - loss: 0.4788 - accuracy: 0.7821 - val_loss: 1.3403 - val_accuracy: 0.5703\n",
            "Epoch 10/100\n",
            "8/8 [==============================] - 21s 3s/step - loss: 0.4816 - accuracy: 0.7732 - val_loss: 1.0896 - val_accuracy: 0.6211\n",
            "Epoch 11/100\n",
            "8/8 [==============================] - 21s 3s/step - loss: 0.4313 - accuracy: 0.8117 - val_loss: 1.4387 - val_accuracy: 0.5938\n",
            "Epoch 12/100\n",
            "8/8 [==============================] - 21s 3s/step - loss: 0.4726 - accuracy: 0.7657 - val_loss: 1.4995 - val_accuracy: 0.5898\n",
            "Epoch 13/100\n",
            "8/8 [==============================] - 22s 3s/step - loss: 0.4418 - accuracy: 0.7917 - val_loss: 1.4246 - val_accuracy: 0.6016\n",
            "Epoch 14/100\n",
            "8/8 [==============================] - 21s 3s/step - loss: 0.4028 - accuracy: 0.8293 - val_loss: 1.3662 - val_accuracy: 0.6211\n",
            "Epoch 15/100\n",
            "8/8 [==============================] - 21s 3s/step - loss: 0.3834 - accuracy: 0.8387 - val_loss: 0.6386 - val_accuracy: 0.7852\n",
            "Epoch 16/100\n",
            "8/8 [==============================] - 21s 3s/step - loss: 0.4746 - accuracy: 0.7488 - val_loss: 1.3188 - val_accuracy: 0.6328\n",
            "Epoch 17/100\n",
            "8/8 [==============================] - 21s 3s/step - loss: 0.4050 - accuracy: 0.8280 - val_loss: 1.2934 - val_accuracy: 0.6562\n",
            "Epoch 18/100\n",
            "8/8 [==============================] - 24s 3s/step - loss: 0.3997 - accuracy: 0.8109 - val_loss: 1.5267 - val_accuracy: 0.6172\n",
            "Epoch 19/100\n",
            "8/8 [==============================] - 21s 3s/step - loss: 0.3963 - accuracy: 0.8188 - val_loss: 1.5048 - val_accuracy: 0.6250\n",
            "Epoch 20/100\n",
            "8/8 [==============================] - 24s 3s/step - loss: 0.3648 - accuracy: 0.8468 - val_loss: 1.8957 - val_accuracy: 0.5938\n",
            "Epoch 21/100\n",
            "8/8 [==============================] - 21s 3s/step - loss: 0.4033 - accuracy: 0.7935 - val_loss: 1.1260 - val_accuracy: 0.7070\n",
            "Epoch 22/100\n",
            "8/8 [==============================] - 24s 3s/step - loss: 0.4171 - accuracy: 0.8211 - val_loss: 1.2474 - val_accuracy: 0.6719\n",
            "Epoch 23/100\n",
            "8/8 [==============================] - 21s 3s/step - loss: 0.4006 - accuracy: 0.8182 - val_loss: 1.4986 - val_accuracy: 0.6250\n",
            "Epoch 24/100\n",
            "8/8 [==============================] - 24s 3s/step - loss: 0.3341 - accuracy: 0.8529 - val_loss: 3.1822 - val_accuracy: 0.5039\n",
            "Epoch 25/100\n",
            "8/8 [==============================] - 21s 3s/step - loss: 0.4832 - accuracy: 0.7755 - val_loss: 2.3036 - val_accuracy: 0.5547\n",
            "Epoch 26/100\n",
            "8/8 [==============================] - 21s 3s/step - loss: 0.3426 - accuracy: 0.8577 - val_loss: 2.7631 - val_accuracy: 0.5352\n",
            "Epoch 27/100\n",
            "8/8 [==============================] - 21s 3s/step - loss: 0.3537 - accuracy: 0.8526 - val_loss: 1.6815 - val_accuracy: 0.6367\n",
            "Epoch 28/100\n",
            "8/8 [==============================] - 24s 3s/step - loss: 0.3512 - accuracy: 0.8469 - val_loss: 2.5445 - val_accuracy: 0.5508\n",
            "Epoch 29/100\n",
            "8/8 [==============================] - 21s 3s/step - loss: 0.3379 - accuracy: 0.8439 - val_loss: 2.1754 - val_accuracy: 0.5938\n",
            "Epoch 30/100\n",
            "8/8 [==============================] - 21s 3s/step - loss: 0.3425 - accuracy: 0.8575 - val_loss: 2.6488 - val_accuracy: 0.5469\n",
            "Epoch 31/100\n",
            "8/8 [==============================] - 21s 3s/step - loss: 0.2836 - accuracy: 0.8774 - val_loss: 3.9324 - val_accuracy: 0.5000\n",
            "Epoch 32/100\n",
            "8/8 [==============================] - 21s 3s/step - loss: 0.3515 - accuracy: 0.8361 - val_loss: 2.7101 - val_accuracy: 0.5625\n",
            "Epoch 33/100\n",
            "8/8 [==============================] - 21s 3s/step - loss: 0.2938 - accuracy: 0.8693 - val_loss: 2.3061 - val_accuracy: 0.5898\n",
            "Epoch 34/100\n",
            "8/8 [==============================] - 21s 3s/step - loss: 0.3038 - accuracy: 0.8683 - val_loss: 2.7814 - val_accuracy: 0.5586\n",
            "Epoch 35/100\n",
            "8/8 [==============================] - 21s 3s/step - loss: 0.2935 - accuracy: 0.8673 - val_loss: 1.9233 - val_accuracy: 0.6250\n",
            "Epoch 36/100\n",
            "8/8 [==============================] - 21s 3s/step - loss: 0.3235 - accuracy: 0.8546 - val_loss: 2.2315 - val_accuracy: 0.5898\n",
            "Epoch 37/100\n",
            "8/8 [==============================] - 21s 3s/step - loss: 0.2567 - accuracy: 0.9002 - val_loss: 3.1788 - val_accuracy: 0.5469\n",
            "Epoch 38/100\n",
            "8/8 [==============================] - 21s 3s/step - loss: 0.2601 - accuracy: 0.8893 - val_loss: 2.4509 - val_accuracy: 0.5859\n",
            "Epoch 39/100\n",
            "8/8 [==============================] - 21s 3s/step - loss: 0.3042 - accuracy: 0.8621 - val_loss: 1.8328 - val_accuracy: 0.6719\n",
            "Epoch 40/100\n",
            "8/8 [==============================] - 21s 3s/step - loss: 0.3865 - accuracy: 0.8168 - val_loss: 2.7327 - val_accuracy: 0.5664\n",
            "Epoch 41/100\n",
            "8/8 [==============================] - 21s 3s/step - loss: 0.2471 - accuracy: 0.9140 - val_loss: 2.7286 - val_accuracy: 0.5820\n",
            "Epoch 42/100\n",
            "8/8 [==============================] - 21s 3s/step - loss: 0.2668 - accuracy: 0.8889 - val_loss: 3.7384 - val_accuracy: 0.5195\n",
            "Epoch 43/100\n",
            "8/8 [==============================] - 21s 3s/step - loss: 0.2811 - accuracy: 0.8951 - val_loss: 3.0867 - val_accuracy: 0.5586\n",
            "Epoch 44/100\n",
            "8/8 [==============================] - 23s 3s/step - loss: 0.2238 - accuracy: 0.8951 - val_loss: 2.6658 - val_accuracy: 0.6094\n",
            "Epoch 45/100\n",
            "8/8 [==============================] - 21s 3s/step - loss: 0.2632 - accuracy: 0.8713 - val_loss: 2.9081 - val_accuracy: 0.5820\n",
            "Epoch 46/100\n",
            "8/8 [==============================] - 21s 3s/step - loss: 0.2240 - accuracy: 0.8934 - val_loss: 2.4019 - val_accuracy: 0.6367\n",
            "Epoch 47/100\n",
            "8/8 [==============================] - 21s 3s/step - loss: 0.2391 - accuracy: 0.9055 - val_loss: 2.0301 - val_accuracy: 0.6484\n",
            "Epoch 48/100\n",
            "8/8 [==============================] - 21s 3s/step - loss: 0.2416 - accuracy: 0.9088 - val_loss: 3.4756 - val_accuracy: 0.5469\n",
            "Epoch 49/100\n",
            "8/8 [==============================] - 21s 3s/step - loss: 0.2043 - accuracy: 0.9145 - val_loss: 3.9260 - val_accuracy: 0.5234\n",
            "Epoch 50/100\n",
            "8/8 [==============================] - 21s 3s/step - loss: 0.2507 - accuracy: 0.8881 - val_loss: 6.0492 - val_accuracy: 0.5000\n",
            "Epoch 51/100\n",
            "8/8 [==============================] - 21s 3s/step - loss: 0.4552 - accuracy: 0.8090 - val_loss: 3.1798 - val_accuracy: 0.5781\n",
            "Epoch 52/100\n",
            "8/8 [==============================] - 21s 3s/step - loss: 0.1862 - accuracy: 0.9317 - val_loss: 3.7768 - val_accuracy: 0.5352\n",
            "Epoch 53/100\n",
            "8/8 [==============================] - 21s 3s/step - loss: 0.2368 - accuracy: 0.9004 - val_loss: 2.9450 - val_accuracy: 0.6055\n",
            "Epoch 54/100\n",
            "8/8 [==============================] - 21s 3s/step - loss: 0.2382 - accuracy: 0.8913 - val_loss: 5.3881 - val_accuracy: 0.5000\n",
            "Epoch 55/100\n",
            "8/8 [==============================] - 21s 3s/step - loss: 0.4128 - accuracy: 0.8364 - val_loss: 2.9583 - val_accuracy: 0.5781\n",
            "Epoch 56/100\n",
            "8/8 [==============================] - 21s 3s/step - loss: 0.1853 - accuracy: 0.9310 - val_loss: 3.0789 - val_accuracy: 0.5898\n",
            "Epoch 57/100\n",
            "8/8 [==============================] - 21s 3s/step - loss: 0.2493 - accuracy: 0.8987 - val_loss: 3.1185 - val_accuracy: 0.5586\n",
            "Epoch 58/100\n",
            "8/8 [==============================] - 21s 3s/step - loss: 0.2550 - accuracy: 0.9015 - val_loss: 3.1981 - val_accuracy: 0.5508\n",
            "Epoch 59/100\n",
            "8/8 [==============================] - 21s 3s/step - loss: 0.1911 - accuracy: 0.9286 - val_loss: 3.1883 - val_accuracy: 0.5820\n",
            "Epoch 60/100\n",
            "8/8 [==============================] - 21s 3s/step - loss: 0.2071 - accuracy: 0.9158 - val_loss: 4.0899 - val_accuracy: 0.5234\n",
            "Epoch 61/100\n",
            "8/8 [==============================] - 21s 3s/step - loss: 0.1731 - accuracy: 0.9352 - val_loss: 2.8097 - val_accuracy: 0.6367\n",
            "Epoch 62/100\n",
            "8/8 [==============================] - 23s 3s/step - loss: 0.2604 - accuracy: 0.8924 - val_loss: 3.6175 - val_accuracy: 0.5586\n",
            "Epoch 63/100\n",
            "8/8 [==============================] - 21s 3s/step - loss: 0.1745 - accuracy: 0.9328 - val_loss: 3.3562 - val_accuracy: 0.5820\n",
            "Epoch 64/100\n",
            "8/8 [==============================] - 21s 3s/step - loss: 0.1669 - accuracy: 0.9303 - val_loss: 3.3235 - val_accuracy: 0.5977\n",
            "Epoch 65/100\n",
            "8/8 [==============================] - 21s 3s/step - loss: 0.2644 - accuracy: 0.8890 - val_loss: 3.0597 - val_accuracy: 0.6016\n",
            "Epoch 66/100\n",
            "8/8 [==============================] - 21s 3s/step - loss: 0.1571 - accuracy: 0.9531 - val_loss: 3.2031 - val_accuracy: 0.6133\n",
            "Epoch 67/100\n",
            "8/8 [==============================] - 21s 3s/step - loss: 0.1453 - accuracy: 0.9518 - val_loss: 3.9719 - val_accuracy: 0.5781\n",
            "Epoch 68/100\n",
            "8/8 [==============================] - 23s 3s/step - loss: 0.1404 - accuracy: 0.9522 - val_loss: 3.6605 - val_accuracy: 0.5859\n",
            "Epoch 69/100\n",
            "8/8 [==============================] - 21s 3s/step - loss: 0.2551 - accuracy: 0.8892 - val_loss: 3.3204 - val_accuracy: 0.6055\n",
            "Epoch 70/100\n",
            "8/8 [==============================] - 23s 3s/step - loss: 0.1777 - accuracy: 0.9390 - val_loss: 3.9504 - val_accuracy: 0.5625\n",
            "Epoch 71/100\n",
            "8/8 [==============================] - 21s 3s/step - loss: 0.1589 - accuracy: 0.9398 - val_loss: 4.8186 - val_accuracy: 0.5234\n",
            "Epoch 72/100\n",
            "8/8 [==============================] - 21s 3s/step - loss: 0.2967 - accuracy: 0.8746 - val_loss: 4.3463 - val_accuracy: 0.5391\n",
            "Epoch 73/100\n",
            "8/8 [==============================] - 21s 3s/step - loss: 0.1908 - accuracy: 0.9215 - val_loss: 3.8364 - val_accuracy: 0.5781\n",
            "Epoch 74/100\n",
            "8/8 [==============================] - 21s 3s/step - loss: 0.1835 - accuracy: 0.9298 - val_loss: 4.1108 - val_accuracy: 0.5391\n",
            "Epoch 75/100\n",
            "8/8 [==============================] - 21s 3s/step - loss: 0.1424 - accuracy: 0.9418 - val_loss: 2.2308 - val_accuracy: 0.6719\n",
            "Epoch 76/100\n",
            "8/8 [==============================] - 21s 3s/step - loss: 0.2452 - accuracy: 0.8968 - val_loss: 3.2281 - val_accuracy: 0.5742\n",
            "Epoch 77/100\n",
            "8/8 [==============================] - 21s 3s/step - loss: 0.1745 - accuracy: 0.9372 - val_loss: 4.2762 - val_accuracy: 0.5352\n",
            "Epoch 78/100\n",
            "8/8 [==============================] - 21s 3s/step - loss: 0.1752 - accuracy: 0.9353 - val_loss: 4.0229 - val_accuracy: 0.5469\n",
            "Epoch 79/100\n",
            "8/8 [==============================] - 21s 3s/step - loss: 0.1320 - accuracy: 0.9577 - val_loss: 2.0785 - val_accuracy: 0.7070\n",
            "Epoch 80/100\n",
            "8/8 [==============================] - 21s 3s/step - loss: 0.3654 - accuracy: 0.8564 - val_loss: 3.7625 - val_accuracy: 0.5898\n",
            "Epoch 81/100\n",
            "8/8 [==============================] - 21s 3s/step - loss: 0.1699 - accuracy: 0.9357 - val_loss: 3.8277 - val_accuracy: 0.5938\n",
            "Epoch 82/100\n",
            "8/8 [==============================] - 21s 3s/step - loss: 0.2348 - accuracy: 0.9098 - val_loss: 3.7958 - val_accuracy: 0.5781\n",
            "Epoch 83/100\n",
            "8/8 [==============================] - 21s 3s/step - loss: 0.1480 - accuracy: 0.9414 - val_loss: 4.4032 - val_accuracy: 0.5508\n",
            "Epoch 84/100\n",
            "8/8 [==============================] - 21s 3s/step - loss: 0.1493 - accuracy: 0.9431 - val_loss: 4.1215 - val_accuracy: 0.5586\n",
            "Epoch 85/100\n",
            "8/8 [==============================] - 21s 3s/step - loss: 0.1470 - accuracy: 0.9476 - val_loss: 2.6881 - val_accuracy: 0.6484\n",
            "Epoch 86/100\n",
            "8/8 [==============================] - 21s 3s/step - loss: 0.1488 - accuracy: 0.9406 - val_loss: 4.3517 - val_accuracy: 0.5547\n",
            "Epoch 87/100\n",
            "8/8 [==============================] - 23s 3s/step - loss: 0.1512 - accuracy: 0.9360 - val_loss: 4.2248 - val_accuracy: 0.5820\n",
            "Epoch 88/100\n",
            "8/8 [==============================] - 21s 3s/step - loss: 0.1420 - accuracy: 0.9439 - val_loss: 3.0713 - val_accuracy: 0.6445\n",
            "Epoch 89/100\n",
            "8/8 [==============================] - 21s 3s/step - loss: 0.1629 - accuracy: 0.9222 - val_loss: 4.1452 - val_accuracy: 0.5898\n",
            "Epoch 90/100\n",
            "8/8 [==============================] - 23s 3s/step - loss: 0.1566 - accuracy: 0.9339 - val_loss: 4.1648 - val_accuracy: 0.5742\n",
            "Epoch 91/100\n",
            "8/8 [==============================] - 21s 3s/step - loss: 0.2594 - accuracy: 0.8753 - val_loss: 4.9329 - val_accuracy: 0.5352\n",
            "Epoch 92/100\n",
            "8/8 [==============================] - 21s 3s/step - loss: 0.1263 - accuracy: 0.9627 - val_loss: 4.3212 - val_accuracy: 0.5859\n",
            "Epoch 93/100\n",
            "8/8 [==============================] - 23s 3s/step - loss: 0.1577 - accuracy: 0.9358 - val_loss: 3.7596 - val_accuracy: 0.6133\n",
            "Epoch 94/100\n",
            "8/8 [==============================] - 21s 3s/step - loss: 0.1985 - accuracy: 0.9175 - val_loss: 4.4382 - val_accuracy: 0.5820\n",
            "Epoch 95/100\n",
            "8/8 [==============================] - 21s 3s/step - loss: 0.1237 - accuracy: 0.9535 - val_loss: 5.0132 - val_accuracy: 0.5391\n",
            "Epoch 96/100\n",
            "8/8 [==============================] - 21s 3s/step - loss: 0.1319 - accuracy: 0.9491 - val_loss: 2.9843 - val_accuracy: 0.6484\n",
            "Epoch 97/100\n",
            "8/8 [==============================] - 21s 3s/step - loss: 0.1942 - accuracy: 0.9123 - val_loss: 4.5941 - val_accuracy: 0.5508\n",
            "Epoch 98/100\n",
            "8/8 [==============================] - 21s 3s/step - loss: 0.1480 - accuracy: 0.9362 - val_loss: 4.3808 - val_accuracy: 0.5625\n",
            "Epoch 99/100\n",
            "8/8 [==============================] - 21s 3s/step - loss: 0.1567 - accuracy: 0.9334 - val_loss: 3.5544 - val_accuracy: 0.5977\n",
            "Epoch 100/100\n",
            "8/8 [==============================] - 21s 3s/step - loss: 0.1883 - accuracy: 0.9284 - val_loss: 4.0219 - val_accuracy: 0.5859\n"
          ],
          "name": "stdout"
        }
      ]
    },
    {
      "cell_type": "code",
      "metadata": {
        "colab": {
          "base_uri": "https://localhost:8080/",
          "height": 545
        },
        "id": "7zNPRWOVJdOH",
        "outputId": "c52581ab-87a6-4e67-c188-9e94a5c70a67"
      },
      "source": [
        "import matplotlib.pyplot as plt\n",
        "acc = history.history['accuracy']\n",
        "val_acc = history.history['val_accuracy']\n",
        "loss = history.history['loss']\n",
        "val_loss = history.history['val_loss']\n",
        "\n",
        "epochs = range(len(acc))\n",
        "\n",
        "plt.plot(epochs, acc, 'r', label='Training accuracy')\n",
        "plt.plot(epochs, val_acc, 'b', label='Validation accuracy')\n",
        "plt.title('Training and validation accuracy')\n",
        "\n",
        "plt.figure()\n",
        "\n",
        "plt.plot(epochs, loss, 'r', label='Training Loss')\n",
        "plt.plot(epochs, val_loss, 'b', label='Validation Loss')\n",
        "plt.title('Training and validation loss')\n",
        "plt.legend()\n",
        "\n",
        "plt.show()"
      ],
      "execution_count": 15,
      "outputs": [
        {
          "output_type": "display_data",
          "data": {
            "image/png": "[encoded data removed]",
            "text/plain": [
              "<Figure size 432x288 with 1 Axes>"
            ]
          },
          "metadata": {
            "tags": [],
            "needs_background": "light"
          }
        },
        {
          "output_type": "display_data",
          "data": {
            "image/png": "[encoded data removed]",
            "text/plain": [
              "<Figure size 432x288 with 1 Axes>"
            ]
          },
          "metadata": {
            "tags": [],
            "needs_background": "light"
          }
        }
      ]
    }
  ]
}