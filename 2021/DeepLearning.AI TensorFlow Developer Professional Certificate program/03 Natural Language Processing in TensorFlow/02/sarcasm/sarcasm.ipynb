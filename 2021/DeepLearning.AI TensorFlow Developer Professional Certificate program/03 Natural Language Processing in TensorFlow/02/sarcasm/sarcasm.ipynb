{
 "cells": [
  {
   "cell_type": "code",
   "execution_count": 6,
   "metadata": {},
   "outputs": [],
   "source": [
    "import json\n",
    "import tensorflow as tf\n",
    "\n",
    "from tensorflow.keras.preprocessing.text import Tokenizer\n",
    "from tensorflow.keras.preprocessing.sequence import pad_sequences"
   ]
  },
  {
   "cell_type": "code",
   "execution_count": 7,
   "metadata": {},
   "outputs": [],
   "source": [
    "# try to change the parameters\n",
    "\n",
    "vocab_size = 10000\n",
    "embedding_dim = 16\n",
    "max_length = 100\n",
    "trunc_type = 'post'\n",
    "padding_type = 'post'\n",
    "oov_tok = \"<OOV>\"\n",
    "training_size = 20000"
   ]
  },
  {
   "cell_type": "code",
   "execution_count": 8,
   "metadata": {},
   "outputs": [
    {
     "name": "stdout",
     "output_type": "stream",
     "text": [
      "--2021-01-05 18:13:11--  https://storage.googleapis.com/laurencemoroney-blog.appspot.com/sarcasm.json\n",
      "Resolving storage.googleapis.com (storage.googleapis.com)... 34.64.4.80, 34.64.4.16, 2404:f340:10:1800::2010, ...\n",
      "Connecting to storage.googleapis.com (storage.googleapis.com)|34.64.4.80|:443... connected.\n",
      "HTTP request sent, awaiting response... 200 OK\n",
      "Length: 5643545 (5.4M) [application/json]\n",
      "Saving to: ‘/tmp/sarcasm.json’\n",
      "\n",
      "/tmp/sarcasm.json   100%[===================>]   5.38M  --.-KB/s    in 0.1s    \n",
      "\n",
      "2021-01-05 18:13:12 (40.2 MB/s) - ‘/tmp/sarcasm.json’ saved [5643545/5643545]\n",
      "\n"
     ]
    }
   ],
   "source": [
    "!wget --no-check-certificate \\\n",
    "    https://storage.googleapis.com/laurencemoroney-blog.appspot.com/sarcasm.json \\\n",
    "    -O /tmp/sarcasm.json"
   ]
  },
  {
   "cell_type": "code",
   "execution_count": 10,
   "metadata": {},
   "outputs": [],
   "source": [
    "with open(\"/tmp/sarcasm.json\", 'r') as f:\n",
    "    datastore = json.load(f)\n",
    "\n",
    "sentences = []\n",
    "labels = []\n",
    "\n",
    "for item in datastore:\n",
    "    sentences.append(item['headline'])\n",
    "    labels.append(item['is_sarcastic'])"
   ]
  },
  {
   "cell_type": "code",
   "execution_count": 11,
   "metadata": {},
   "outputs": [],
   "source": [
    "training_sentences = sentences[0:training_size]\n",
    "testing_sentences = sentences[training_size:]\n",
    "training_labels = labels[0:training_size]\n",
    "testing_labels = labels[training_size:]"
   ]
  },
  {
   "cell_type": "code",
   "execution_count": 13,
   "metadata": {},
   "outputs": [],
   "source": [
    "tokenizer = Tokenizer(num_words=vocab_size, oov_token=oov_tok)\n",
    "tokenizer.fit_on_texts(training_sentences)\n",
    "\n",
    "word_index = tokenizer.word_index\n",
    "\n",
    "training_sequences = tokenizer.texts_to_sequences(training_sentences)\n",
    "training_padded = pad_sequences(training_sequences, maxlen=max_length, padding=padding_type, truncating=trunc_type)\n",
    "\n",
    "testing_sequences = tokenizer.texts_to_sequences(testing_sentences)\n",
    "testing_padded = pad_sequences(testing_sequences, maxlen=max_length, padding=padding_type, truncating=trunc_type)"
   ]
  },
  {
   "cell_type": "code",
   "execution_count": 14,
   "metadata": {},
   "outputs": [],
   "source": [
    "import numpy as np\n",
    "\n",
    "training_padded = np.array(training_padded)\n",
    "training_labels = np.array(training_labels)\n",
    "testing_padded = np.array(testing_padded)\n",
    "testing_labels = np.array(testing_labels)"
   ]
  },
  {
   "cell_type": "code",
   "execution_count": 15,
   "metadata": {},
   "outputs": [
    {
     "name": "stdout",
     "output_type": "stream",
     "text": [
      "Model: \"sequential\"\n",
      "_________________________________________________________________\n",
      "Layer (type)                 Output Shape              Param #   \n",
      "=================================================================\n",
      "embedding (Embedding)        (None, 100, 16)           160000    \n",
      "_________________________________________________________________\n",
      "global_average_pooling1d (Gl (None, 16)                0         \n",
      "_________________________________________________________________\n",
      "dense (Dense)                (None, 24)                408       \n",
      "_________________________________________________________________\n",
      "dense_1 (Dense)              (None, 1)                 25        \n",
      "=================================================================\n",
      "Total params: 160,433\n",
      "Trainable params: 160,433\n",
      "Non-trainable params: 0\n",
      "_________________________________________________________________\n"
     ]
    }
   ],
   "source": [
    "model = tf.keras.Sequential([\n",
    "    tf.keras.layers.Embedding(vocab_size, embedding_dim, input_length=max_length),\n",
    "    tf.keras.layers.GlobalAveragePooling1D(),\n",
    "    tf.keras.layers.Dense(24, activation='relu'),\n",
    "    tf.keras.layers.Dense(1, activation='sigmoid')\n",
    "])\n",
    "model.compile(loss='binary_crossentropy',\n",
    "              optimizer='adam',\n",
    "              metrics=['accuracy'])\n",
    "\n",
    "model.summary()"
   ]
  },
  {
   "cell_type": "code",
   "execution_count": 16,
   "metadata": {},
   "outputs": [
    {
     "name": "stdout",
     "output_type": "stream",
     "text": [
      "Epoch 1/30\n",
      "625/625 - 1s - loss: 0.6754 - accuracy: 0.5639 - val_loss: 0.6282 - val_accuracy: 0.6609\n",
      "Epoch 2/30\n",
      "625/625 - 1s - loss: 0.4846 - accuracy: 0.8044 - val_loss: 0.4094 - val_accuracy: 0.8335\n",
      "Epoch 3/30\n",
      "625/625 - 1s - loss: 0.3374 - accuracy: 0.8684 - val_loss: 0.3662 - val_accuracy: 0.8450\n",
      "Epoch 4/30\n",
      "625/625 - 1s - loss: 0.2796 - accuracy: 0.8911 - val_loss: 0.3593 - val_accuracy: 0.8395\n",
      "Epoch 5/30\n",
      "625/625 - 1s - loss: 0.2430 - accuracy: 0.9079 - val_loss: 0.3439 - val_accuracy: 0.8535\n",
      "Epoch 6/30\n",
      "625/625 - 1s - loss: 0.2139 - accuracy: 0.9190 - val_loss: 0.3539 - val_accuracy: 0.8466\n",
      "Epoch 7/30\n",
      "625/625 - 1s - loss: 0.1918 - accuracy: 0.9275 - val_loss: 0.3514 - val_accuracy: 0.8524\n",
      "Epoch 8/30\n",
      "625/625 - 1s - loss: 0.1715 - accuracy: 0.9367 - val_loss: 0.3618 - val_accuracy: 0.8539\n",
      "Epoch 9/30\n",
      "625/625 - 1s - loss: 0.1545 - accuracy: 0.9431 - val_loss: 0.3746 - val_accuracy: 0.8526\n",
      "Epoch 10/30\n",
      "625/625 - 1s - loss: 0.1419 - accuracy: 0.9490 - val_loss: 0.3958 - val_accuracy: 0.8504\n",
      "Epoch 11/30\n",
      "625/625 - 1s - loss: 0.1291 - accuracy: 0.9542 - val_loss: 0.4154 - val_accuracy: 0.8472\n",
      "Epoch 12/30\n",
      "625/625 - 1s - loss: 0.1189 - accuracy: 0.9585 - val_loss: 0.4240 - val_accuracy: 0.8495\n",
      "Epoch 13/30\n",
      "625/625 - 1s - loss: 0.1099 - accuracy: 0.9623 - val_loss: 0.4430 - val_accuracy: 0.8492\n",
      "Epoch 14/30\n",
      "625/625 - 1s - loss: 0.1015 - accuracy: 0.9657 - val_loss: 0.5059 - val_accuracy: 0.8308\n",
      "Epoch 15/30\n",
      "625/625 - 1s - loss: 0.0930 - accuracy: 0.9691 - val_loss: 0.4875 - val_accuracy: 0.8456\n",
      "Epoch 16/30\n",
      "625/625 - 1s - loss: 0.0881 - accuracy: 0.9703 - val_loss: 0.5124 - val_accuracy: 0.8402\n",
      "Epoch 17/30\n",
      "625/625 - 1s - loss: 0.0786 - accuracy: 0.9754 - val_loss: 0.5438 - val_accuracy: 0.8371\n",
      "Epoch 18/30\n",
      "625/625 - 1s - loss: 0.0745 - accuracy: 0.9751 - val_loss: 0.5866 - val_accuracy: 0.8322\n",
      "Epoch 19/30\n",
      "625/625 - 1s - loss: 0.0686 - accuracy: 0.9783 - val_loss: 0.6087 - val_accuracy: 0.8326\n",
      "Epoch 20/30\n",
      "625/625 - 1s - loss: 0.0657 - accuracy: 0.9790 - val_loss: 0.6354 - val_accuracy: 0.8301\n",
      "Epoch 21/30\n",
      "625/625 - 1s - loss: 0.0586 - accuracy: 0.9822 - val_loss: 0.6684 - val_accuracy: 0.8290\n",
      "Epoch 22/30\n",
      "625/625 - 1s - loss: 0.0541 - accuracy: 0.9837 - val_loss: 0.6785 - val_accuracy: 0.8264\n",
      "Epoch 23/30\n",
      "625/625 - 1s - loss: 0.0504 - accuracy: 0.9849 - val_loss: 0.7113 - val_accuracy: 0.8271\n",
      "Epoch 24/30\n",
      "625/625 - 1s - loss: 0.0470 - accuracy: 0.9863 - val_loss: 0.7523 - val_accuracy: 0.8243\n",
      "Epoch 25/30\n",
      "625/625 - 1s - loss: 0.0445 - accuracy: 0.9874 - val_loss: 0.7749 - val_accuracy: 0.8222\n",
      "Epoch 26/30\n",
      "625/625 - 1s - loss: 0.0420 - accuracy: 0.9874 - val_loss: 0.8114 - val_accuracy: 0.8183\n",
      "Epoch 27/30\n",
      "625/625 - 1s - loss: 0.0387 - accuracy: 0.9882 - val_loss: 0.8423 - val_accuracy: 0.8198\n",
      "Epoch 28/30\n",
      "625/625 - 1s - loss: 0.0351 - accuracy: 0.9900 - val_loss: 0.9084 - val_accuracy: 0.8183\n",
      "Epoch 29/30\n",
      "625/625 - 1s - loss: 0.0321 - accuracy: 0.9917 - val_loss: 0.9039 - val_accuracy: 0.8174\n",
      "Epoch 30/30\n",
      "625/625 - 1s - loss: 0.0315 - accuracy: 0.9911 - val_loss: 0.9745 - val_accuracy: 0.8174\n"
     ]
    }
   ],
   "source": [
    "num_epochs = 30\n",
    "history = model.fit(training_padded, training_labels, epochs=num_epochs, validation_data=(testing_padded, testing_labels), verbose=2)"
   ]
  },
  {
   "cell_type": "code",
   "execution_count": 17,
   "metadata": {},
   "outputs": [
    {
     "data": {
      "image/png": "[encoded data removed]",
      "text/plain": [
       "<Figure size 432x288 with 1 Axes>"
      ]
     },
     "metadata": {
      "needs_background": "light"
     },
     "output_type": "display_data"
    },
    {
     "data": {
      "image/png": "[encoded data removed]",
      "text/plain": [
       "<Figure size 432x288 with 1 Axes>"
      ]
     },
     "metadata": {
      "needs_background": "light"
     },
     "output_type": "display_data"
    }
   ],
   "source": [
    "import matplotlib.pyplot as plt\n",
    "\n",
    "\n",
    "def plot_graphs(history, string):\n",
    "  plt.plot(history.history[string])\n",
    "  plt.plot(history.history['val_'+string])\n",
    "  plt.xlabel(\"Epochs\")\n",
    "  plt.ylabel(string)\n",
    "  plt.legend([string, 'val_'+string])\n",
    "  plt.show()\n",
    "  \n",
    "plot_graphs(history, \"accuracy\")\n",
    "plot_graphs(history, \"loss\")\n",
    "\n",
    "# vocab_size = 10000\n",
    "# embedding_dim = 16\n",
    "# max_length = 100\n",
    "# trunc_type = 'post'\n",
    "# padding_type = 'post'\n",
    "# oov_tok = \"<OOV>\"\n",
    "# training_size = 20000"
   ]
  },
  {
   "cell_type": "code",
   "execution_count": 18,
   "metadata": {},
   "outputs": [],
   "source": [
    "# try to change the parameters\n",
    "\n",
    "vocab_size = 1000\n",
    "embedding_dim = 32\n",
    "max_length = 100\n",
    "trunc_type = 'post'\n",
    "padding_type = 'post'\n",
    "oov_tok = \"<OOV>\"\n",
    "training_size = 20000"
   ]
  },
  {
   "cell_type": "code",
   "execution_count": 20,
   "metadata": {
    "scrolled": false
   },
   "outputs": [
    {
     "name": "stdout",
     "output_type": "stream",
     "text": [
      "Epoch 1/30\n",
      "625/625 - 1s - loss: 0.6564 - accuracy: 0.5996 - val_loss: 0.5490 - val_accuracy: 0.7348\n",
      "Epoch 2/30\n",
      "625/625 - 1s - loss: 0.4517 - accuracy: 0.7929 - val_loss: 0.4198 - val_accuracy: 0.8062\n",
      "Epoch 3/30\n",
      "625/625 - 1s - loss: 0.3901 - accuracy: 0.8213 - val_loss: 0.4047 - val_accuracy: 0.8159\n",
      "Epoch 4/30\n",
      "625/625 - 1s - loss: 0.3726 - accuracy: 0.8298 - val_loss: 0.4011 - val_accuracy: 0.8138\n",
      "Epoch 5/30\n",
      "625/625 - 1s - loss: 0.3668 - accuracy: 0.8314 - val_loss: 0.3991 - val_accuracy: 0.8147\n",
      "Epoch 6/30\n",
      "625/625 - 1s - loss: 0.3601 - accuracy: 0.8368 - val_loss: 0.4027 - val_accuracy: 0.8156\n",
      "Epoch 7/30\n",
      "625/625 - 1s - loss: 0.3573 - accuracy: 0.8393 - val_loss: 0.4017 - val_accuracy: 0.8114\n",
      "Epoch 8/30\n",
      "625/625 - 1s - loss: 0.3554 - accuracy: 0.8388 - val_loss: 0.4104 - val_accuracy: 0.8065\n",
      "Epoch 9/30\n",
      "625/625 - 1s - loss: 0.3542 - accuracy: 0.8379 - val_loss: 0.4053 - val_accuracy: 0.8097\n",
      "Epoch 10/30\n",
      "625/625 - 1s - loss: 0.3518 - accuracy: 0.8386 - val_loss: 0.4034 - val_accuracy: 0.8135\n",
      "Epoch 11/30\n",
      "625/625 - 1s - loss: 0.3504 - accuracy: 0.8399 - val_loss: 0.4064 - val_accuracy: 0.8110\n",
      "Epoch 12/30\n",
      "625/625 - 1s - loss: 0.3510 - accuracy: 0.8404 - val_loss: 0.4046 - val_accuracy: 0.8144\n",
      "Epoch 13/30\n",
      "625/625 - 1s - loss: 0.3493 - accuracy: 0.8393 - val_loss: 0.4237 - val_accuracy: 0.8027\n",
      "Epoch 14/30\n",
      "625/625 - 1s - loss: 0.3495 - accuracy: 0.8408 - val_loss: 0.4180 - val_accuracy: 0.8044\n",
      "Epoch 15/30\n",
      "625/625 - 1s - loss: 0.3493 - accuracy: 0.8415 - val_loss: 0.4160 - val_accuracy: 0.8047\n",
      "Epoch 16/30\n",
      "625/625 - 1s - loss: 0.3484 - accuracy: 0.8424 - val_loss: 0.4077 - val_accuracy: 0.8111\n",
      "Epoch 17/30\n",
      "625/625 - 1s - loss: 0.3489 - accuracy: 0.8432 - val_loss: 0.4108 - val_accuracy: 0.8120\n",
      "Epoch 18/30\n",
      "625/625 - 1s - loss: 0.3503 - accuracy: 0.8400 - val_loss: 0.4086 - val_accuracy: 0.8101\n",
      "Epoch 19/30\n",
      "625/625 - 1s - loss: 0.3518 - accuracy: 0.8385 - val_loss: 0.4082 - val_accuracy: 0.8131\n",
      "Epoch 20/30\n",
      "625/625 - 1s - loss: 0.3475 - accuracy: 0.8414 - val_loss: 0.4088 - val_accuracy: 0.8117\n",
      "Epoch 21/30\n",
      "625/625 - 1s - loss: 0.3473 - accuracy: 0.8421 - val_loss: 0.4087 - val_accuracy: 0.8138\n",
      "Epoch 22/30\n",
      "625/625 - 1s - loss: 0.3472 - accuracy: 0.8425 - val_loss: 0.4184 - val_accuracy: 0.8046\n",
      "Epoch 23/30\n",
      "625/625 - 1s - loss: 0.3475 - accuracy: 0.8417 - val_loss: 0.4114 - val_accuracy: 0.8126\n",
      "Epoch 24/30\n",
      "625/625 - 1s - loss: 0.3466 - accuracy: 0.8411 - val_loss: 0.4091 - val_accuracy: 0.8140\n",
      "Epoch 25/30\n",
      "625/625 - 1s - loss: 0.3474 - accuracy: 0.8421 - val_loss: 0.4106 - val_accuracy: 0.8135\n",
      "Epoch 26/30\n",
      "625/625 - 1s - loss: 0.3477 - accuracy: 0.8432 - val_loss: 0.4085 - val_accuracy: 0.8131\n",
      "Epoch 27/30\n",
      "625/625 - 1s - loss: 0.3461 - accuracy: 0.8433 - val_loss: 0.4097 - val_accuracy: 0.8123\n",
      "Epoch 28/30\n",
      "625/625 - 1s - loss: 0.3460 - accuracy: 0.8442 - val_loss: 0.4157 - val_accuracy: 0.8122\n",
      "Epoch 29/30\n",
      "625/625 - 1s - loss: 0.3460 - accuracy: 0.8433 - val_loss: 0.4143 - val_accuracy: 0.8074\n",
      "Epoch 30/30\n",
      "625/625 - 1s - loss: 0.3470 - accuracy: 0.8431 - val_loss: 0.4208 - val_accuracy: 0.8024\n"
     ]
    },
    {
     "data": {
      "image/png": "[encoded data removed]",
      "text/plain": [
       "<Figure size 432x288 with 1 Axes>"
      ]
     },
     "metadata": {
      "needs_background": "light"
     },
     "output_type": "display_data"
    },
    {
     "data": {
      "image/png": "[encoded data removed]",
      "text/plain": [
       "<Figure size 432x288 with 1 Axes>"
      ]
     },
     "metadata": {
      "needs_background": "light"
     },
     "output_type": "display_data"
    }
   ],
   "source": [
    "tokenizer = Tokenizer(num_words=vocab_size, oov_token=oov_tok)\n",
    "tokenizer.fit_on_texts(training_sentences)\n",
    "\n",
    "word_index = tokenizer.word_index\n",
    "\n",
    "training_sequences = tokenizer.texts_to_sequences(training_sentences)\n",
    "training_padded = pad_sequences(training_sequences, maxlen=max_length, padding=padding_type, truncating=trunc_type)\n",
    "\n",
    "testing_sequences = tokenizer.texts_to_sequences(testing_sentences)\n",
    "testing_padded = pad_sequences(testing_sequences, maxlen=max_length, padding=padding_type, truncating=trunc_type)\n",
    "\n",
    "training_padded = np.array(training_padded)\n",
    "training_labels = np.array(training_labels)\n",
    "testing_padded = np.array(testing_padded)\n",
    "testing_labels = np.array(testing_labels)\n",
    "\n",
    "model = tf.keras.Sequential([\n",
    "    tf.keras.layers.Embedding(vocab_size, embedding_dim, input_length=max_length),\n",
    "    tf.keras.layers.GlobalAveragePooling1D(),\n",
    "    tf.keras.layers.Dense(24, activation='relu'),\n",
    "    tf.keras.layers.Dense(1, activation='sigmoid')\n",
    "])\n",
    "\n",
    "model.compile(loss='binary_crossentropy',\n",
    "              optimizer='adam',\n",
    "              metrics=['accuracy'])\n",
    "\n",
    "num_epochs = 30\n",
    "history = model.fit(training_padded, training_labels, epochs=num_epochs, validation_data=(testing_padded, testing_labels), verbose=2)\n",
    "\n",
    "plot_graphs(history, \"accuracy\")\n",
    "plot_graphs(history, \"loss\")\n",
    "\n",
    "# shows more stable accuracy and loss graph."
   ]
  },
  {
   "cell_type": "code",
   "execution_count": 21,
   "metadata": {},
   "outputs": [
    {
     "name": "stdout",
     "output_type": "stream",
     "text": [
      "former <OOV> store <OOV> <OOV> over secret <OOV> <OOV> for <OOV> <OOV> ? ? ? ? ? ? ? ? ? ? ? ? ? ? ? ? ? ? ? ? ? ? ? ? ? ? ? ? ? ? ? ? ? ? ? ? ? ? ? ? ? ? ? ? ? ? ? ? ? ? ? ? ? ? ? ? ? ? ? ? ? ? ? ? ? ? ? ? ? ? ? ? ? ? ? ? ? ? ? ? ? ? ? ? ? ? ? ?\n",
      "mom starting to fear son's web series closest thing she will have to grandchild\n",
      "1\n"
     ]
    }
   ],
   "source": [
    "reverse_word_index = dict([(value, key) for (key, value) in word_index.items()])\n",
    "\n",
    "def decode_sentence(text):\n",
    "    return ' '.join([reverse_word_index.get(i, '?') for i in text])\n",
    "\n",
    "print(decode_sentence(training_padded[0]))\n",
    "print(training_sentences[2])\n",
    "print(labels[2])"
   ]
  },
  {
   "cell_type": "code",
   "execution_count": 22,
   "metadata": {},
   "outputs": [
    {
     "name": "stdout",
     "output_type": "stream",
     "text": [
      "(1000, 32)\n"
     ]
    }
   ],
   "source": [
    "e = model.layers[0]\n",
    "weights = e.get_weights()[0]\n",
    "print(weights.shape) # shape: (vocab_size, embedding_dim)\n"
   ]
  },
  {
   "cell_type": "code",
   "execution_count": 23,
   "metadata": {},
   "outputs": [],
   "source": [
    "import io\n",
    "\n",
    "out_v = io.open('vecs.tsv', 'w', encoding='utf-8')\n",
    "out_m = io.open('meta.tsv', 'w', encoding='utf-8')\n",
    "for word_num in range(1, vocab_size):\n",
    "    word = reverse_word_index[word_num]\n",
    "    embeddings = weights[word_num]\n",
    "    out_m.write(word + \"\\n\")\n",
    "    out_v.write('\\t'.join([str(x) for x in embeddings]) + \"\\n\")\n",
    "out_v.close()\n",
    "out_m.close()"
   ]
  },
  {
   "cell_type": "code",
   "execution_count": 24,
   "metadata": {},
   "outputs": [
    {
     "name": "stdout",
     "output_type": "stream",
     "text": [
      "[[0.24477601]\n",
      " [0.5115021 ]]\n"
     ]
    }
   ],
   "source": [
    "sentence = [\"granny starting to fear spiders in the garden might be real\", \"game of thrones season finale showing this sunday night\"]\n",
    "sequences = tokenizer.texts_to_sequences(sentence)\n",
    "padded = pad_sequences(sequences, maxlen=max_length, padding=padding_type, truncating=trunc_type)\n",
    "print(model.predict(padded))"
   ]
  },
  {
   "cell_type": "code",
   "execution_count": null,
   "metadata": {},
   "outputs": [],
   "source": []
  }
 ],
 "metadata": {
  "kernelspec": {
   "display_name": "Python 3",
   "language": "python",
   "name": "python3"
  },
  "language_info": {
   "codemirror_mode": {
    "name": "ipython",
    "version": 3
   },
   "file_extension": ".py",
   "mimetype": "text/x-python",
   "name": "python",
   "nbconvert_exporter": "python",
   "pygments_lexer": "ipython3",
   "version": "3.8.3"
  }
 },
 "nbformat": 4,
 "nbformat_minor": 4
}
