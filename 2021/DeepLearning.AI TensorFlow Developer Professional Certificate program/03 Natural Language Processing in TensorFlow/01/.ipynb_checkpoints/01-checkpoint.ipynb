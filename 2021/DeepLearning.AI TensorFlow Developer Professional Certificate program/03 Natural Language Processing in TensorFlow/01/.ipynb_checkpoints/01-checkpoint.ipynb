{
 "cells": [
  {
   "cell_type": "code",
   "execution_count": 8,
   "metadata": {},
   "outputs": [
    {
     "name": "stdout",
     "output_type": "stream",
     "text": [
      "{'love': 1, 'my': 2, 'i': 3, 'dog': 4, 'cat': 5, 'you': 6}\n"
     ]
    }
   ],
   "source": [
    "import tensorflow as tf\n",
    "from tensorflow import keras\n",
    "from tensorflow.keras.preprocessing.text import Tokenizer\n",
    "\n",
    "sentences = [\n",
    "    'I love my dog',\n",
    "    'i love my cat',\n",
    "    'you love my dog!'\n",
    "]\n",
    "\n",
    "tokenizer = Tokenizer(num_words = 100) # num_words = number of words to train\n",
    "tokenizer.fit_on_texts(sentences)\n",
    "word_index = tokenizer.word_index\n",
    "print(word_index)"
   ]
  },
  {
   "cell_type": "code",
   "execution_count": 9,
   "metadata": {},
   "outputs": [
    {
     "name": "stdout",
     "output_type": "stream",
     "text": [
      "{'여보세요': 1, '나야': 2, '거기': 3, '잘': 4, '지내니': 5, '오란다': 6, '전통과자': 7, '너무': 8, '맛있어나는': 9, '개를': 10, '좋아한다': 11}\n"
     ]
    }
   ],
   "source": [
    "sentences = [\n",
    "    '여보세요 나야 거기 잘 지내니',\n",
    "    '오란다 전통과자 너무 맛있어'\n",
    "    '나는 개를 좋아한다.'\n",
    "]\n",
    "\n",
    "tokenizer = Tokenizer(num_words = 100)\n",
    "tokenizer.fit_on_texts(sentences)\n",
    "word_index = tokenizer.word_index\n",
    "print(word_index)\n",
    "\n",
    "# Work with Korean"
   ]
  }
 ],
 "metadata": {
  "kernelspec": {
   "display_name": "Python 3",
   "language": "python",
   "name": "python3"
  },
  "language_info": {
   "codemirror_mode": {
    "name": "ipython",
    "version": 3
   },
   "file_extension": ".py",
   "mimetype": "text/x-python",
   "name": "python",
   "nbconvert_exporter": "python",
   "pygments_lexer": "ipython3",
   "version": "3.8.3"
  }
 },
 "nbformat": 4,
 "nbformat_minor": 4
}
