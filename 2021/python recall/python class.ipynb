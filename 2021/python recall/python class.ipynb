{
 "cells": [
  {
   "cell_type": "markdown",
   "id": "99076683",
   "metadata": {},
   "source": [
    "## Why Class??\n",
    "\n",
    "easy to repeat the same(?) works"
   ]
  },
  {
   "cell_type": "code",
   "execution_count": 4,
   "id": "de962139",
   "metadata": {},
   "outputs": [
    {
     "name": "stdout",
     "output_type": "stream",
     "text": [
      "3\n",
      "7\n",
      "3\n",
      "10\n"
     ]
    }
   ],
   "source": [
    "# example code: Calculator\n",
    "\n",
    "class Calulator:\n",
    "    def __init__(self):\n",
    "        self.result = 0\n",
    "        \n",
    "    def add (self, num):\n",
    "        self.result += num\n",
    "        return self.result\n",
    "    \n",
    "cal1 = Calulator()\n",
    "cal2 = Calulator()\n",
    "\n",
    "print(cal1.add(3))\n",
    "print(cal1.add(4))\n",
    "print(cal2.add(3))\n",
    "print(cal2.add(7))\n"
   ]
  },
  {
   "cell_type": "markdown",
   "id": "0b7bd2f8",
   "metadata": {},
   "source": [
    "From here, **cal1** and **cal2** are called as **Object**. \\\n",
    "Each object run itself and the value is independent."
   ]
  },
  {
   "cell_type": "markdown",
   "id": "c1dd1633",
   "metadata": {},
   "source": [
    "### Arithmetic operatio"
   ]
  },
  {
   "cell_type": "code",
   "execution_count": 5,
   "id": "9b5c35d8",
   "metadata": {},
   "outputs": [],
   "source": [
    "class FourCal:\n",
    "    def setdata(self, first, second):\n",
    "        self.first = first\n",
    "        self.second = second"
   ]
  },
  {
   "cell_type": "code",
   "execution_count": 6,
   "id": "2904dd9d",
   "metadata": {},
   "outputs": [],
   "source": [
    "a = FourCal()\n",
    "FourCal.setdata(a, 4, 2) # a = FourCal.setdata(4, 2)\n",
    "\n",
    "# self is object of 'a'"
   ]
  },
  {
   "cell_type": "code",
   "execution_count": 7,
   "id": "0b019936",
   "metadata": {},
   "outputs": [
    {
     "name": "stdout",
     "output_type": "stream",
     "text": [
      "4 2\n"
     ]
    }
   ],
   "source": [
    "print(a.first, a.second)"
   ]
  },
  {
   "cell_type": "code",
   "execution_count": 8,
   "id": "3572734d",
   "metadata": {},
   "outputs": [],
   "source": [
    "a = FourCal()\n",
    "b = FourCal()"
   ]
  },
  {
   "cell_type": "code",
   "execution_count": 9,
   "id": "f2cad9a6",
   "metadata": {},
   "outputs": [
    {
     "name": "stdout",
     "output_type": "stream",
     "text": [
      "first a: 4\n",
      "first b: 3\n"
     ]
    }
   ],
   "source": [
    "a.setdata(4,2)\n",
    "print(\"first a:\", a.first)\n",
    "\n",
    "b.setdata(3, 7)\n",
    "print(\"first b:\", b.first)\n",
    "\n",
    "# each object have different(independent) vale"
   ]
  },
  {
   "cell_type": "code",
   "execution_count": 11,
   "id": "bc67e58f",
   "metadata": {},
   "outputs": [
    {
     "name": "stdout",
     "output_type": "stream",
     "text": [
      "address of a.first: 94026460761664\n",
      "address of b.first: 94026460761632\n"
     ]
    }
   ],
   "source": [
    "print(\"address of a.first:\", id(a.first))\n",
    "print(\"address of b.first:\", id(b.first))\n",
    "# a, b have different address"
   ]
  },
  {
   "cell_type": "code",
   "execution_count": 15,
   "id": "c01e0e37",
   "metadata": {},
   "outputs": [],
   "source": [
    "# add\n",
    "class FourCal:\n",
    "    def setdata(self, first, second):\n",
    "        self.first = first\n",
    "        self.second = second\n",
    "        \n",
    "    def add(self):\n",
    "        return self.first + self.second\n",
    "    # parameter of add is self, and the return value is sum of first and second"
   ]
  },
  {
   "cell_type": "code",
   "execution_count": 16,
   "id": "b38c1903",
   "metadata": {},
   "outputs": [
    {
     "name": "stdout",
     "output_type": "stream",
     "text": [
      "6\n"
     ]
    }
   ],
   "source": [
    "a = FourCal()\n",
    "FourCal.setdata(a, 4, 2)\n",
    "print(a.add())"
   ]
  },
  {
   "cell_type": "code",
   "execution_count": 17,
   "id": "20237eb3",
   "metadata": {},
   "outputs": [],
   "source": [
    "# mul, sub, div\n",
    "class FourCal:\n",
    "    def setdata(self, first, second):\n",
    "        self.first = first\n",
    "        self.second = second\n",
    "        \n",
    "    def add(self):\n",
    "        return self.first + self.second\n",
    "    \n",
    "    def sub(self):\n",
    "        return self.first - self.second\n",
    "    \n",
    "    def mul(self):\n",
    "        return self.first * self.second\n",
    "\n",
    "    def div(self):\n",
    "        return self.first / self.second"
   ]
  },
  {
   "cell_type": "code",
   "execution_count": 18,
   "id": "0c824b9f",
   "metadata": {},
   "outputs": [
    {
     "name": "stdout",
     "output_type": "stream",
     "text": [
      "add: 6\n",
      "mul: 8\n",
      "sub: 2\n",
      "div: 2.0\n"
     ]
    }
   ],
   "source": [
    "a = FourCal()\n",
    "a.setdata(4,2)\n",
    "print(\"add:\", a.add())\n",
    "print(\"mul:\", a.mul())\n",
    "print(\"sub:\", a.sub())\n",
    "print(\"div:\", a.div())"
   ]
  },
  {
   "cell_type": "markdown",
   "id": "c8738c4e",
   "metadata": {},
   "source": [
    "## Constructor\n",
    "Running the class FourCal without setdata method will cause the error as it doesn't have self.first and self.\\\n",
    "if we use **__init__**, which is called constructor, we can initialize the value when we call the class."
   ]
  },
  {
   "cell_type": "code",
   "execution_count": 19,
   "id": "b2c41e26",
   "metadata": {},
   "outputs": [],
   "source": [
    "class FourCal:\n",
    "    def __init__(self, first, second):\n",
    "        self.first = first\n",
    "        self.second = second\n",
    "    def setdata(self, first, second):\n",
    "        self.first = first\n",
    "        self.second = second\n",
    "    def add(self):\n",
    "        return self.first + self.second\n",
    "    def sub(self):\n",
    "        return self.first - self.second\n",
    "    def mul(self):\n",
    "        return self.first * self.second\n",
    "    def div(self):\n",
    "        return self.first / self.second"
   ]
  },
  {
   "cell_type": "code",
   "execution_count": 21,
   "id": "ae4ff66f",
   "metadata": {},
   "outputs": [
    {
     "name": "stdout",
     "output_type": "stream",
     "text": [
      "add: 6\n",
      "mul: 8\n",
      "sub: 2\n",
      "div: 2.0\n"
     ]
    }
   ],
   "source": [
    "a = FourCal(4,2)\n",
    "print(\"add:\", a.add())\n",
    "print(\"mul:\", a.mul())\n",
    "print(\"sub:\", a.sub())\n",
    "print(\"div:\", a.div())"
   ]
  },
  {
   "cell_type": "markdown",
   "id": "c60a66a0",
   "metadata": {},
   "source": [
    "## Inheritance"
   ]
  },
  {
   "cell_type": "code",
   "execution_count": 22,
   "id": "d268ce4a",
   "metadata": {},
   "outputs": [
    {
     "name": "stdout",
     "output_type": "stream",
     "text": [
      "add: 6\n",
      "mul: 8\n",
      "sub: 2\n",
      "div: 2.0\n"
     ]
    }
   ],
   "source": [
    "class MoreFourCal(FourCal):\n",
    "    pass\n",
    "\n",
    "a = MoreFourCal(4, 2)\n",
    "print(\"add:\", a.add())\n",
    "print(\"mul:\", a.mul())\n",
    "print(\"sub:\", a.sub())\n",
    "print(\"div:\", a.div())"
   ]
  },
  {
   "cell_type": "code",
   "execution_count": 24,
   "id": "d86a1435",
   "metadata": {},
   "outputs": [
    {
     "name": "stdout",
     "output_type": "stream",
     "text": [
      "pow: 16\n"
     ]
    }
   ],
   "source": [
    "class MoreFourCal(FourCal):\n",
    "    def pow(self):\n",
    "        return self.first ** self.second\n",
    "\n",
    "a = MoreFourCal(4,2)\n",
    "print(\"pow:\", a.pow())"
   ]
  },
  {
   "cell_type": "markdown",
   "id": "db18b877",
   "metadata": {},
   "source": [
    "## Method over writing"
   ]
  },
  {
   "cell_type": "code",
   "execution_count": 25,
   "id": "f1fedafa",
   "metadata": {
    "scrolled": false
   },
   "outputs": [
    {
     "ename": "ZeroDivisionError",
     "evalue": "division by zero",
     "output_type": "error",
     "traceback": [
      "\u001b[0;31m---------------------------------------------------------------------------\u001b[0m",
      "\u001b[0;31mZeroDivisionError\u001b[0m                         Traceback (most recent call last)",
      "\u001b[0;32m<ipython-input-25-74cffb3e4ecc>\u001b[0m in \u001b[0;36m<module>\u001b[0;34m\u001b[0m\n\u001b[1;32m      1\u001b[0m \u001b[0;31m# this will return error\u001b[0m\u001b[0;34m\u001b[0m\u001b[0;34m\u001b[0m\u001b[0;34m\u001b[0m\u001b[0m\n\u001b[1;32m      2\u001b[0m \u001b[0ma\u001b[0m \u001b[0;34m=\u001b[0m \u001b[0mFourCal\u001b[0m\u001b[0;34m(\u001b[0m\u001b[0;36m4\u001b[0m\u001b[0;34m,\u001b[0m \u001b[0;36m0\u001b[0m\u001b[0;34m)\u001b[0m\u001b[0;34m\u001b[0m\u001b[0;34m\u001b[0m\u001b[0m\n\u001b[0;32m----> 3\u001b[0;31m \u001b[0ma\u001b[0m\u001b[0;34m.\u001b[0m\u001b[0mdiv\u001b[0m\u001b[0;34m(\u001b[0m\u001b[0;34m)\u001b[0m\u001b[0;34m\u001b[0m\u001b[0;34m\u001b[0m\u001b[0m\n\u001b[0m",
      "\u001b[0;32m<ipython-input-19-3ad8b01ff934>\u001b[0m in \u001b[0;36mdiv\u001b[0;34m(self)\u001b[0m\n\u001b[1;32m     13\u001b[0m         \u001b[0;32mreturn\u001b[0m \u001b[0mself\u001b[0m\u001b[0;34m.\u001b[0m\u001b[0mfirst\u001b[0m \u001b[0;34m*\u001b[0m \u001b[0mself\u001b[0m\u001b[0;34m.\u001b[0m\u001b[0msecond\u001b[0m\u001b[0;34m\u001b[0m\u001b[0;34m\u001b[0m\u001b[0m\n\u001b[1;32m     14\u001b[0m     \u001b[0;32mdef\u001b[0m \u001b[0mdiv\u001b[0m\u001b[0;34m(\u001b[0m\u001b[0mself\u001b[0m\u001b[0;34m)\u001b[0m\u001b[0;34m:\u001b[0m\u001b[0;34m\u001b[0m\u001b[0;34m\u001b[0m\u001b[0m\n\u001b[0;32m---> 15\u001b[0;31m         \u001b[0;32mreturn\u001b[0m \u001b[0mself\u001b[0m\u001b[0;34m.\u001b[0m\u001b[0mfirst\u001b[0m \u001b[0;34m/\u001b[0m \u001b[0mself\u001b[0m\u001b[0;34m.\u001b[0m\u001b[0msecond\u001b[0m\u001b[0;34m\u001b[0m\u001b[0;34m\u001b[0m\u001b[0m\n\u001b[0m",
      "\u001b[0;31mZeroDivisionError\u001b[0m: division by zero"
     ]
    }
   ],
   "source": [
    "# this will return error\n",
    "a = FourCal(4, 0)\n",
    "a.div()"
   ]
  },
  {
   "cell_type": "code",
   "execution_count": 26,
   "id": "c927d3bb",
   "metadata": {},
   "outputs": [
    {
     "data": {
      "text/plain": [
       "0"
      ]
     },
     "execution_count": 26,
     "metadata": {},
     "output_type": "execute_result"
    }
   ],
   "source": [
    "class SafeFourCal(FourCal):\n",
    "    def div(self):\n",
    "        if self.second == 0:\n",
    "            return 0\n",
    "        else:\n",
    "            return self.first / self.second\n",
    "        \n",
    "a = SafeFourCal(4, 0)\n",
    "a.div()"
   ]
  },
  {
   "cell_type": "markdown",
   "id": "8a9a30b1",
   "metadata": {},
   "source": [
    "## Class Variable"
   ]
  },
  {
   "cell_type": "code",
   "execution_count": 27,
   "id": "b9fe727f",
   "metadata": {},
   "outputs": [],
   "source": [
    "class Family:\n",
    "    lastname = 'kim'"
   ]
  },
  {
   "cell_type": "code",
   "execution_count": 28,
   "id": "70f81f8c",
   "metadata": {},
   "outputs": [
    {
     "name": "stdout",
     "output_type": "stream",
     "text": [
      "kim\n"
     ]
    }
   ],
   "source": [
    "print(Family.lastname)"
   ]
  },
  {
   "cell_type": "code",
   "execution_count": 30,
   "id": "fbf17332",
   "metadata": {},
   "outputs": [
    {
     "name": "stdout",
     "output_type": "stream",
     "text": [
      "kim\n",
      "kim\n"
     ]
    }
   ],
   "source": [
    "a = Family()\n",
    "b = Family()\n",
    "print(a.lastname)\n",
    "print(b.lastname)"
   ]
  },
  {
   "cell_type": "code",
   "execution_count": 31,
   "id": "c17bb8ac",
   "metadata": {},
   "outputs": [
    {
     "name": "stdout",
     "output_type": "stream",
     "text": [
      "park\n",
      "park\n"
     ]
    }
   ],
   "source": [
    "Family.lastname = \"park\"\n",
    "\n",
    "print(a.lastname)\n",
    "print(b.lastname)\n",
    "# both a and b are changed\n",
    "# the variable inside of class is shared from all objects"
   ]
  },
  {
   "cell_type": "code",
   "execution_count": 32,
   "id": "d19a8f92",
   "metadata": {},
   "outputs": [
    {
     "name": "stdout",
     "output_type": "stream",
     "text": [
      "139746899847728\n",
      "139746899847728\n",
      "139746899847728\n"
     ]
    }
   ],
   "source": [
    "print(id(Family.lastname))\n",
    "print(id(a.lastname))\n",
    "print(id(b.lastname))\n",
    "# have same address"
   ]
  },
  {
   "cell_type": "code",
   "execution_count": null,
   "id": "f36526f1",
   "metadata": {},
   "outputs": [],
   "source": []
  }
 ],
 "metadata": {
  "kernelspec": {
   "display_name": "Python 3",
   "language": "python",
   "name": "python3"
  },
  "language_info": {
   "codemirror_mode": {
    "name": "ipython",
    "version": 3
   },
   "file_extension": ".py",
   "mimetype": "text/x-python",
   "name": "python",
   "nbconvert_exporter": "python",
   "pygments_lexer": "ipython3",
   "version": "3.8.11"
  }
 },
 "nbformat": 4,
 "nbformat_minor": 5
}
