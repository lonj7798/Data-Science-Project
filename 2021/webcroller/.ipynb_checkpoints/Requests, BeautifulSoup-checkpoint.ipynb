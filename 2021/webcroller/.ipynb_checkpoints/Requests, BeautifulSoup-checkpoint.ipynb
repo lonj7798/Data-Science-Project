{
 "cells": [
  {
   "cell_type": "code",
   "execution_count": 1,
   "id": "f4ad452c",
   "metadata": {},
   "outputs": [],
   "source": [
    "import requests"
   ]
  },
  {
   "cell_type": "code",
   "execution_count": 2,
   "id": "9cf1ef4a",
   "metadata": {},
   "outputs": [],
   "source": [
    "## HTTP GET Request\n",
    "req = requests.get('https://beomi.github.io/beomi.github.io_old/')\n",
    "\n",
    "## get HTML source\n",
    "html = req.text\n",
    "## get HTTP Header \n",
    "header = req.headers\n",
    "## get HTTP Status (200: normal)\n",
    "status = req.status_code\n",
    "## check HTTP (True/False)\n",
    "is_ok = req.ok"
   ]
  },
  {
   "cell_type": "code",
   "execution_count": 6,
   "id": "7fe05b8c",
   "metadata": {
    "scrolled": true
   },
   "outputs": [
    {
     "name": "stdout",
     "output_type": "stream",
     "text": [
      "<!DOCTYPE html><html><head><meta charset=\"utf-8\"><meta name=\"viewport\" content=\"width=device-width, initial-scale=1\"><title>Beomi's Tech Blog - Beomi's Tech Blog</title><link href=\"https://fonts.googleapis.com/css?family=Lato:900|Work+Sans\" rel=\"stylesheet\"><link rel=\"stylesheet\" href=\"/beomi.github.io_old/css/main.css\"><link rel=\"stylesheet\" href=\"/beomi.github.io_old/css/syntax.css\"><link rel=\"stylesheet\" href=\"/beomi.github.io_old/css/image-align.css\"><title>Beomi’s Tech Blog - Beomi’s Tech Blog</title><meta property=\"og:title\" content=\"Beomi’s Tech Blog\" /><link rel=\"canonical\" href=\"https://beomi.github.io/beomi.github.io_old/\" /><meta property=\"og:url\" content=\"https://beomi.github.io/beomi.github.io_old/\" /><meta property=\"og:site_name\" content=\"Beomi’s Tech Blog\" /><script type=\"application/ld+json\"> {\"@context\": \"http://schema.org\", \"@type\": \"WebSite\", \"name\": \"Beomi’s Tech Blog\", \"headline\": \"Beomi’s Tech Blog\", \"url\": \"https://beomi.github.io/beomi.github.io_old/\"}</script></head><body style=\"background-color: rgb(255, 255, 255)\"><header> <a href=\"/beomi.github.io_old/\"><div class=\"home\"></div></a></header><h1 class=\"headline\">Beomi's Tech Blog</h1><div class=\"meta\"><span></span></div><h3><a href=\"/beomi.github.io_old/python/2017/02/28/HowToMakeWebCrawler-Save-with-Django.html\">나만의 웹 크롤러 만들기(4): Django로 크롤링한 데이터 저장하기</a></h3><span style=\"color:#777;\">February 28, 2017</span><hr noshade size=\"1\" color=\"#ccc\"><h3><a href=\"/beomi.github.io_old/python/2017/02/27/HowToMakeWebCrawler-With-Selenium.html\">나만의 웹 크롤러 만들기(3): Selenium으로 무적 크롤러 만들기</a></h3><span style=\"color:#777;\">February 27, 2017</span><hr noshade size=\"1\" color=\"#ccc\"><h3><a href=\"/beomi.github.io_old/python/2017/02/08/Setup-SocialAuth-for-Django.html\">Django에 Social Login 붙이기: Django세팅부터 Facebook/Google 개발 설정까지</a></h3><span style=\"color:#777;\">February 08, 2017</span><hr noshade size=\"1\" color=\"#ccc\"><h3><a href=\"/beomi.github.io_old/python/2017/02/01/Django-CustomAuth.html\">Django에 Custom인증 붙이기</a></h3><span style=\"color:#777;\">February 01, 2017</span><hr noshade size=\"1\" color=\"#ccc\"><h3><a href=\"/beomi.github.io_old/python/2017/01/20/HowToMakeWebCrawler-With-Login.html\">나만의 웹 크롤러 만들기(2): Login with Session</a></h3><span style=\"color:#777;\">January 20, 2017</span><hr noshade size=\"1\" color=\"#ccc\"><h3><a href=\"/beomi.github.io_old/python/2017/01/19/HowToMakeWebCrawler.html\">나만의 웹 크롤러 만들기 with Requests/BeautifulSoup</a></h3><span style=\"color:#777;\">January 19, 2017</span><hr noshade size=\"1\" color=\"#ccc\"><h3><a href=\"/beomi.github.io_old/2016/12/27/TelegramBot-with-Celery.html\">Celery로 TelegramBot 알림 보내기</a></h3><span style=\"color:#777;\">December 27, 2016</span><hr noshade size=\"1\" color=\"#ccc\"><h3><a href=\"/beomi.github.io_old/2016/12/27/HowToSetup-Virtualenv-VirtualenvWrapper.html\">Virtualenv/VirtualenvWrapper OS별 설치&이용법</a></h3><span style=\"color:#777;\">December 27, 2016</span><hr noshade size=\"1\" color=\"#ccc\"><h3><a href=\"/beomi.github.io_old/djangotddstudy/2016/12/26/Django-TDD-Study-02-Using-UnitTest.html\">[DjangoTDDStudy] #02: UnitTest 이용해 기능 테스트 하기</a></h3><span style=\"color:#777;\">December 26, 2016</span><hr noshade size=\"1\" color=\"#ccc\"><h3><a href=\"/beomi.github.io_old/djangotddstudy/2016/12/26/Django-TDD-Study-01-Setting-DevEnviron.html\">[DjangoTDDStudy] #01: 개발환경 세팅하기(Selenium / ChromeDriver)</a></h3><span style=\"color:#777;\">December 26, 2016</span><hr noshade size=\"1\" color=\"#ccc\"><h3><a href=\"/beomi.github.io_old/djangotddstudy/2016/12/26/Django-TDD-Study-00-Starting-Study.html\">[DjangoTDDStudy] #00: 스터디를 시작하며</a></h3><span style=\"color:#777;\">December 26, 2016</span><hr noshade size=\"1\" color=\"#ccc\"><h3><a href=\"/beomi.github.io_old/2016/12/21/Fabric-Put-Command-No-Such-File-Exception.html\">Fabric Put 커맨드가 No Such File Exception을 반환할 때 해결법</a></h3><span style=\"color:#777;\">December 21, 2016</span><hr noshade size=\"1\" color=\"#ccc\"><h3><a href=\"/beomi.github.io_old/2016/12/21/CKEditor-Lisence-and-Pricing.html\">CKEditor의 라이센스와 오픈소스 라이센스</a></h3><span style=\"color:#777;\">December 21, 2016</span><hr noshade size=\"1\" color=\"#ccc\"><h3><a href=\"/beomi.github.io_old/translation/2016/12/20/ReactNative-Translation-Intro-Finish.html\">ReactNative The Basis 번역을 끝냈습니다.</a></h3><span style=\"color:#777;\">December 20, 2016</span><hr noshade size=\"1\" color=\"#ccc\"><h3><a href=\"/beomi.github.io_old/translation/2016/11/15/ReactNative-Translation-01-getting-started.html\">[React Native 번역]#01: 시작하기</a></h3><span style=\"color:#777;\">November 15, 2016</span><hr noshade size=\"1\" color=\"#ccc\"><h3><a href=\"/beomi.github.io_old/django-celery/programming/python/translation/2016/11/04/eb-b2-88-ec-97-ad-ec-9e-a5-ea-b3-a0django-ec-99-80-ed-95-a8-ea-bb-98-ed-95-98-eb-8a-94-celery-ec-b2-ab-ea-b1-b8-ec-9d-8c.html\">[번역] 장고(Django)와 함께하는 Celery 첫걸음</a></h3><span style=\"color:#777;\">November 04, 2016</span><hr noshade size=\"1\" color=\"#ccc\"><h3><a href=\"/beomi.github.io_old/tech/2016/09/14/chrome-native-adblockr-eb-8c-80-ec-b2-b4-ed-95-98-ea-b8-b0.html\">Chrome Native Adblockr 대체하기</a></h3><span style=\"color:#777;\">September 14, 2016</span><hr noshade size=\"1\" color=\"#ccc\"><h3><a href=\"/beomi.github.io_old/dev%20env%20setup/mac%20/%20os%20x/tech/2016/08/09/customac-ec-84-a4-ec-b9-98-eb-b6-84-ed-88-ac-ea-b8-b0.html\">CustoMac 설치 분투기</a></h3><span style=\"color:#777;\">August 09, 2016</span><hr noshade size=\"1\" color=\"#ccc\"><h3><a href=\"/beomi.github.io_old/dev%20env%20setup/tech/ubuntu%20/%20debian/2016/07/22/ubuntu14-04-ec-97-90-ohmyzsh-ec-84-a4-ec-b9-98.html\">Ubuntu14.04에 OhMyZsh 설치</a></h3><span style=\"color:#777;\">July 22, 2016</span><hr noshade size=\"1\" color=\"#ccc\"><h3><a href=\"/beomi.github.io_old/programming/python/tech/2016/07/22/ubuntu14-04-ec-97-90-ec-84-9c-pip-eb-a1-9c-mysqlclient-ec-84-a4-ec-b9-98-ec-8b-a4-ed-8c-a8-ec-8b-9c.html\">Ubuntu14.04에서 pip로 mysqlclient 설치 실패시</a></h3><span style=\"color:#777;\">July 22, 2016</span><hr noshade size=\"1\" color=\"#ccc\"><h3><a href=\"/beomi.github.io_old/mac%20/%20os%20x/programming/python/tech/2016/07/22/ubuntu14-04-ec-97-90-ec-84-9c-python3-ea-b8-b0-eb-b0-98-virtualenvwrapper-ec-84-a4-ec-b9-98.html\">Ubuntu14.04에서 Python3기반 virtualenvwrapper 설치</a></h3><span style=\"color:#777;\">July 22, 2016</span><hr noshade size=\"1\" color=\"#ccc\"><h3><a href=\"/beomi.github.io_old/mac%20/%20os%20x/programming/python/tech/2016/07/21/mac-os-x-ec-97-90-ec-84-9c-pip-virtualenvwrapper-ec-84-a4-ec-b9-98-ec-8b-9c-uninstalling-six-ec-97-90-ec-84-9c-exception-eb-b0-9c-ec-83-9d-ec-8b-9c.html\">mac OS X에서 pip virtualenvwrapper 설치 시 uninstalling six 에서 Exception 발생 시</a></h3><span style=\"color:#777;\">July 21, 2016</span><hr noshade size=\"1\" color=\"#ccc\"><h3><a href=\"/beomi.github.io_old/programming/python/2016/07/17/fabric-for-python3-fabric3.html\">Fabric for Python3 (Fabric3)</a></h3><span style=\"color:#777;\">July 17, 2016</span><hr noshade size=\"1\" color=\"#ccc\"><h3><a href=\"/beomi.github.io_old/programming/python/2016/06/04/windows-ec-97-90-ec-84-9c-pip-eb-a1-9c-mysqlclient-ec-84-a4-ec-b9-98-ec-8b-a4-ed-8c-a8-ec-8b-9cpython3-43-5.html\">Windows에서 pip로 mysqlclient 설치 실패시(python3.4/3.5)</a></h3><span style=\"color:#777;\">June 04, 2016</span><hr noshade size=\"1\" color=\"#ccc\"><h3><a href=\"/beomi.github.io_old/mac%20/%20os%20x/tech/2016/05/27/eb-a7-a5-ec-97-90-ec-84-9c-ec-9c-88-eb-8f-84rdp-eb-a1-9c-ec-a0-91-ec-86-8d-ec-8b-9c-ed-95-9c-ec-98-81-ec-a0-84-ed-99-98-ed-95-98-ea-b8-b0.html\">맥에서 윈도RDP로 접속시 한영전환하기.</a></h3><span style=\"color:#777;\">May 27, 2016</span><hr noshade size=\"1\" color=\"#ccc\"><h3><a href=\"/beomi.github.io_old/programming/python/2016/05/27/pip-eb-a1-9c-mysqlclient-ec-84-a4-ec-b9-98-ec-a4-91-mac-os-x-ec-97-90-ec-84-9c-egg_info-oserror-eb-b0-9c-ec-83-9d-ec-8b-9c-eb-8c-80-ec-b2-98-eb-b0-a9-eb-b2-95.html\">pip로 mysqlclient설치 중 mac os x에서 egg_info / OSError 발생시 대처방법</a></h3><span style=\"color:#777;\">May 27, 2016</span><hr noshade size=\"1\" color=\"#ccc\"><div class=\"theme\" onclick=\"theme()\" style=\"background-image: url(/beomi.github.io_old/images/theme.svg);\"></div><script> (function(i,s,o,g,r,a,m){i['GoogleAnalyticsObject']=r;i[r]=i[r]||function(){ (i[r].q=i[r].q||[]).push(arguments)},i[r].l=1*new Date();a=s.createElement(o), m=s.getElementsByTagName(o)[0];a.async=1;a.src=g;m.parentNode.insertBefore(a,m) })(window,document,'script','//www.google-analytics.com/analytics.js','ga'); ga('create', 'UA-89162642-1', 'auto'); ga('send', 'pageview');</script><script src=\"/beomi.github.io_old/js/theme.min.js\"></script></body></html>\n",
      "\n"
     ]
    }
   ],
   "source": [
    "print(html)"
   ]
  },
  {
   "cell_type": "code",
   "execution_count": 7,
   "id": "be7986d3",
   "metadata": {},
   "outputs": [
    {
     "name": "stdout",
     "output_type": "stream",
     "text": [
      "{'Connection': 'keep-alive', 'Content-Length': '2647', 'Server': 'GitHub.com', 'Content-Type': 'text/html; charset=utf-8', 'permissions-policy': 'interest-cohort=()', 'Last-Modified': 'Fri, 17 Mar 2017 16:08:01 GMT', 'Access-Control-Allow-Origin': '*', 'ETag': 'W/\"58cc09e1-22f3\"', 'expires': 'Mon, 16 Aug 2021 07:25:48 GMT', 'Cache-Control': 'max-age=600', 'Content-Encoding': 'gzip', 'x-proxy-cache': 'MISS', 'X-GitHub-Request-Id': '6678:2E93:56944:6E877:611A10A4', 'Accept-Ranges': 'bytes', 'Date': 'Mon, 16 Aug 2021 07:15:48 GMT', 'Via': '1.1 varnish', 'Age': '0', 'X-Served-By': 'cache-sjc10047-SJC', 'X-Cache': 'MISS', 'X-Cache-Hits': '0', 'X-Timer': 'S1629098149.860981,VS0,VE97', 'Vary': 'Accept-Encoding', 'X-Fastly-Request-ID': '86a6f655976a8ad4165cdab645e755cdef446cec'}\n"
     ]
    }
   ],
   "source": [
    "print(header)"
   ]
  },
  {
   "cell_type": "code",
   "execution_count": 3,
   "id": "b51090f9",
   "metadata": {},
   "outputs": [
    {
     "name": "stdout",
     "output_type": "stream",
     "text": [
      "True\n"
     ]
    }
   ],
   "source": [
    "print(is_ok) # succesfully get HTTP"
   ]
  },
  {
   "cell_type": "code",
   "execution_count": null,
   "id": "168f8da1",
   "metadata": {},
   "outputs": [],
   "source": []
  },
  {
   "cell_type": "code",
   "execution_count": null,
   "id": "4be89751",
   "metadata": {},
   "outputs": [],
   "source": []
  },
  {
   "cell_type": "code",
   "execution_count": 8,
   "id": "f442ac8f",
   "metadata": {},
   "outputs": [],
   "source": [
    "from bs4 import BeautifulSoup\n",
    "# BeautifulSoup can change the HTML code to readable python object (translate)"
   ]
  },
  {
   "cell_type": "code",
   "execution_count": 9,
   "id": "c875f89c",
   "metadata": {},
   "outputs": [],
   "source": [
    "req = requests.get('https://beomi.github.io/beomi.github.io_old/')\n",
    "html = req.text\n",
    "soup = BeautifulSoup(html, 'html.parser')"
   ]
  },
  {
   "cell_type": "code",
   "execution_count": 10,
   "id": "dd474f05",
   "metadata": {},
   "outputs": [],
   "source": [
    "# 'select' return the searched object with list-shape using CSS Selector\n",
    "my_titles = soup.select('h3 > a')"
   ]
  },
  {
   "cell_type": "code",
   "execution_count": 11,
   "id": "d10d4478",
   "metadata": {
    "scrolled": true
   },
   "outputs": [
    {
     "data": {
      "text/plain": [
       "[<a href=\"/beomi.github.io_old/python/2017/02/28/HowToMakeWebCrawler-Save-with-Django.html\">나만의 웹 크롤러 만들기(4): Django로 크롤링한 데이터 저장하기</a>,\n",
       " <a href=\"/beomi.github.io_old/python/2017/02/27/HowToMakeWebCrawler-With-Selenium.html\">나만의 웹 크롤러 만들기(3): Selenium으로 무적 크롤러 만들기</a>,\n",
       " <a href=\"/beomi.github.io_old/python/2017/02/08/Setup-SocialAuth-for-Django.html\">Django에 Social Login 붙이기: Django세팅부터 Facebook/Google 개발 설정까지</a>,\n",
       " <a href=\"/beomi.github.io_old/python/2017/02/01/Django-CustomAuth.html\">Django에 Custom인증 붙이기</a>,\n",
       " <a href=\"/beomi.github.io_old/python/2017/01/20/HowToMakeWebCrawler-With-Login.html\">나만의 웹 크롤러 만들기(2): Login with Session</a>,\n",
       " <a href=\"/beomi.github.io_old/python/2017/01/19/HowToMakeWebCrawler.html\">나만의 웹 크롤러 만들기 with Requests/BeautifulSoup</a>,\n",
       " <a href=\"/beomi.github.io_old/2016/12/27/TelegramBot-with-Celery.html\">Celery로 TelegramBot 알림 보내기</a>,\n",
       " <a href=\"/beomi.github.io_old/2016/12/27/HowToSetup-Virtualenv-VirtualenvWrapper.html\">Virtualenv/VirtualenvWrapper OS별 설치&amp;이용법</a>,\n",
       " <a href=\"/beomi.github.io_old/djangotddstudy/2016/12/26/Django-TDD-Study-02-Using-UnitTest.html\">[DjangoTDDStudy] #02: UnitTest 이용해 기능 테스트 하기</a>,\n",
       " <a href=\"/beomi.github.io_old/djangotddstudy/2016/12/26/Django-TDD-Study-01-Setting-DevEnviron.html\">[DjangoTDDStudy] #01: 개발환경 세팅하기(Selenium / ChromeDriver)</a>,\n",
       " <a href=\"/beomi.github.io_old/djangotddstudy/2016/12/26/Django-TDD-Study-00-Starting-Study.html\">[DjangoTDDStudy] #00: 스터디를 시작하며</a>,\n",
       " <a href=\"/beomi.github.io_old/2016/12/21/Fabric-Put-Command-No-Such-File-Exception.html\">Fabric Put 커맨드가 No Such File Exception을 반환할 때 해결법</a>,\n",
       " <a href=\"/beomi.github.io_old/2016/12/21/CKEditor-Lisence-and-Pricing.html\">CKEditor의 라이센스와 오픈소스 라이센스</a>,\n",
       " <a href=\"/beomi.github.io_old/translation/2016/12/20/ReactNative-Translation-Intro-Finish.html\">ReactNative The Basis 번역을 끝냈습니다.</a>,\n",
       " <a href=\"/beomi.github.io_old/translation/2016/11/15/ReactNative-Translation-01-getting-started.html\">[React Native 번역]#01: 시작하기</a>,\n",
       " <a href=\"/beomi.github.io_old/django-celery/programming/python/translation/2016/11/04/eb-b2-88-ec-97-ad-ec-9e-a5-ea-b3-a0django-ec-99-80-ed-95-a8-ea-bb-98-ed-95-98-eb-8a-94-celery-ec-b2-ab-ea-b1-b8-ec-9d-8c.html\">[번역] 장고(Django)와 함께하는 Celery 첫걸음</a>,\n",
       " <a href=\"/beomi.github.io_old/tech/2016/09/14/chrome-native-adblockr-eb-8c-80-ec-b2-b4-ed-95-98-ea-b8-b0.html\">Chrome Native Adblockr 대체하기</a>,\n",
       " <a href=\"/beomi.github.io_old/dev%20env%20setup/mac%20/%20os%20x/tech/2016/08/09/customac-ec-84-a4-ec-b9-98-eb-b6-84-ed-88-ac-ea-b8-b0.html\">CustoMac 설치 분투기</a>,\n",
       " <a href=\"/beomi.github.io_old/dev%20env%20setup/tech/ubuntu%20/%20debian/2016/07/22/ubuntu14-04-ec-97-90-ohmyzsh-ec-84-a4-ec-b9-98.html\">Ubuntu14.04에 OhMyZsh 설치</a>,\n",
       " <a href=\"/beomi.github.io_old/programming/python/tech/2016/07/22/ubuntu14-04-ec-97-90-ec-84-9c-pip-eb-a1-9c-mysqlclient-ec-84-a4-ec-b9-98-ec-8b-a4-ed-8c-a8-ec-8b-9c.html\">Ubuntu14.04에서 pip로 mysqlclient 설치 실패시</a>,\n",
       " <a href=\"/beomi.github.io_old/mac%20/%20os%20x/programming/python/tech/2016/07/22/ubuntu14-04-ec-97-90-ec-84-9c-python3-ea-b8-b0-eb-b0-98-virtualenvwrapper-ec-84-a4-ec-b9-98.html\">Ubuntu14.04에서 Python3기반 virtualenvwrapper 설치</a>,\n",
       " <a href=\"/beomi.github.io_old/mac%20/%20os%20x/programming/python/tech/2016/07/21/mac-os-x-ec-97-90-ec-84-9c-pip-virtualenvwrapper-ec-84-a4-ec-b9-98-ec-8b-9c-uninstalling-six-ec-97-90-ec-84-9c-exception-eb-b0-9c-ec-83-9d-ec-8b-9c.html\">mac OS X에서 pip virtualenvwrapper 설치 시 uninstalling six 에서 Exception 발생 시</a>,\n",
       " <a href=\"/beomi.github.io_old/programming/python/2016/07/17/fabric-for-python3-fabric3.html\">Fabric for Python3 (Fabric3)</a>,\n",
       " <a href=\"/beomi.github.io_old/programming/python/2016/06/04/windows-ec-97-90-ec-84-9c-pip-eb-a1-9c-mysqlclient-ec-84-a4-ec-b9-98-ec-8b-a4-ed-8c-a8-ec-8b-9cpython3-43-5.html\">Windows에서 pip로 mysqlclient 설치 실패시(python3.4/3.5)</a>,\n",
       " <a href=\"/beomi.github.io_old/mac%20/%20os%20x/tech/2016/05/27/eb-a7-a5-ec-97-90-ec-84-9c-ec-9c-88-eb-8f-84rdp-eb-a1-9c-ec-a0-91-ec-86-8d-ec-8b-9c-ed-95-9c-ec-98-81-ec-a0-84-ed-99-98-ed-95-98-ea-b8-b0.html\">맥에서 윈도RDP로 접속시 한영전환하기.</a>,\n",
       " <a href=\"/beomi.github.io_old/programming/python/2016/05/27/pip-eb-a1-9c-mysqlclient-ec-84-a4-ec-b9-98-ec-a4-91-mac-os-x-ec-97-90-ec-84-9c-egg_info-oserror-eb-b0-9c-ec-83-9d-ec-8b-9c-eb-8c-80-ec-b2-98-eb-b0-a9-eb-b2-95.html\">pip로 mysqlclient설치 중 mac os x에서 egg_info / OSError 발생시 대처방법</a>]"
      ]
     },
     "execution_count": 11,
     "metadata": {},
     "output_type": "execute_result"
    }
   ],
   "source": [
    "my_titles"
   ]
  },
  {
   "cell_type": "code",
   "execution_count": 12,
   "id": "b376cc1e",
   "metadata": {
    "scrolled": true
   },
   "outputs": [
    {
     "name": "stdout",
     "output_type": "stream",
     "text": [
      "나만의 웹 크롤러 만들기(4): Django로 크롤링한 데이터 저장하기\n",
      "/beomi.github.io_old/python/2017/02/28/HowToMakeWebCrawler-Save-with-Django.html\n",
      "나만의 웹 크롤러 만들기(3): Selenium으로 무적 크롤러 만들기\n",
      "/beomi.github.io_old/python/2017/02/27/HowToMakeWebCrawler-With-Selenium.html\n",
      "Django에 Social Login 붙이기: Django세팅부터 Facebook/Google 개발 설정까지\n",
      "/beomi.github.io_old/python/2017/02/08/Setup-SocialAuth-for-Django.html\n",
      "Django에 Custom인증 붙이기\n",
      "/beomi.github.io_old/python/2017/02/01/Django-CustomAuth.html\n",
      "나만의 웹 크롤러 만들기(2): Login with Session\n",
      "/beomi.github.io_old/python/2017/01/20/HowToMakeWebCrawler-With-Login.html\n",
      "나만의 웹 크롤러 만들기 with Requests/BeautifulSoup\n",
      "/beomi.github.io_old/python/2017/01/19/HowToMakeWebCrawler.html\n",
      "Celery로 TelegramBot 알림 보내기\n",
      "/beomi.github.io_old/2016/12/27/TelegramBot-with-Celery.html\n",
      "Virtualenv/VirtualenvWrapper OS별 설치&이용법\n",
      "/beomi.github.io_old/2016/12/27/HowToSetup-Virtualenv-VirtualenvWrapper.html\n",
      "[DjangoTDDStudy] #02: UnitTest 이용해 기능 테스트 하기\n",
      "/beomi.github.io_old/djangotddstudy/2016/12/26/Django-TDD-Study-02-Using-UnitTest.html\n",
      "[DjangoTDDStudy] #01: 개발환경 세팅하기(Selenium / ChromeDriver)\n",
      "/beomi.github.io_old/djangotddstudy/2016/12/26/Django-TDD-Study-01-Setting-DevEnviron.html\n",
      "[DjangoTDDStudy] #00: 스터디를 시작하며\n",
      "/beomi.github.io_old/djangotddstudy/2016/12/26/Django-TDD-Study-00-Starting-Study.html\n",
      "Fabric Put 커맨드가 No Such File Exception을 반환할 때 해결법\n",
      "/beomi.github.io_old/2016/12/21/Fabric-Put-Command-No-Such-File-Exception.html\n",
      "CKEditor의 라이센스와 오픈소스 라이센스\n",
      "/beomi.github.io_old/2016/12/21/CKEditor-Lisence-and-Pricing.html\n",
      "ReactNative The Basis 번역을 끝냈습니다.\n",
      "/beomi.github.io_old/translation/2016/12/20/ReactNative-Translation-Intro-Finish.html\n",
      "[React Native 번역]#01: 시작하기\n",
      "/beomi.github.io_old/translation/2016/11/15/ReactNative-Translation-01-getting-started.html\n",
      "[번역] 장고(Django)와 함께하는 Celery 첫걸음\n",
      "/beomi.github.io_old/django-celery/programming/python/translation/2016/11/04/eb-b2-88-ec-97-ad-ec-9e-a5-ea-b3-a0django-ec-99-80-ed-95-a8-ea-bb-98-ed-95-98-eb-8a-94-celery-ec-b2-ab-ea-b1-b8-ec-9d-8c.html\n",
      "Chrome Native Adblockr 대체하기\n",
      "/beomi.github.io_old/tech/2016/09/14/chrome-native-adblockr-eb-8c-80-ec-b2-b4-ed-95-98-ea-b8-b0.html\n",
      "CustoMac 설치 분투기\n",
      "/beomi.github.io_old/dev%20env%20setup/mac%20/%20os%20x/tech/2016/08/09/customac-ec-84-a4-ec-b9-98-eb-b6-84-ed-88-ac-ea-b8-b0.html\n",
      "Ubuntu14.04에 OhMyZsh 설치\n",
      "/beomi.github.io_old/dev%20env%20setup/tech/ubuntu%20/%20debian/2016/07/22/ubuntu14-04-ec-97-90-ohmyzsh-ec-84-a4-ec-b9-98.html\n",
      "Ubuntu14.04에서 pip로 mysqlclient 설치 실패시\n",
      "/beomi.github.io_old/programming/python/tech/2016/07/22/ubuntu14-04-ec-97-90-ec-84-9c-pip-eb-a1-9c-mysqlclient-ec-84-a4-ec-b9-98-ec-8b-a4-ed-8c-a8-ec-8b-9c.html\n",
      "Ubuntu14.04에서 Python3기반 virtualenvwrapper 설치\n",
      "/beomi.github.io_old/mac%20/%20os%20x/programming/python/tech/2016/07/22/ubuntu14-04-ec-97-90-ec-84-9c-python3-ea-b8-b0-eb-b0-98-virtualenvwrapper-ec-84-a4-ec-b9-98.html\n",
      "mac OS X에서 pip virtualenvwrapper 설치 시 uninstalling six 에서 Exception 발생 시\n",
      "/beomi.github.io_old/mac%20/%20os%20x/programming/python/tech/2016/07/21/mac-os-x-ec-97-90-ec-84-9c-pip-virtualenvwrapper-ec-84-a4-ec-b9-98-ec-8b-9c-uninstalling-six-ec-97-90-ec-84-9c-exception-eb-b0-9c-ec-83-9d-ec-8b-9c.html\n",
      "Fabric for Python3 (Fabric3)\n",
      "/beomi.github.io_old/programming/python/2016/07/17/fabric-for-python3-fabric3.html\n",
      "Windows에서 pip로 mysqlclient 설치 실패시(python3.4/3.5)\n",
      "/beomi.github.io_old/programming/python/2016/06/04/windows-ec-97-90-ec-84-9c-pip-eb-a1-9c-mysqlclient-ec-84-a4-ec-b9-98-ec-8b-a4-ed-8c-a8-ec-8b-9cpython3-43-5.html\n",
      "맥에서 윈도RDP로 접속시 한영전환하기.\n",
      "/beomi.github.io_old/mac%20/%20os%20x/tech/2016/05/27/eb-a7-a5-ec-97-90-ec-84-9c-ec-9c-88-eb-8f-84rdp-eb-a1-9c-ec-a0-91-ec-86-8d-ec-8b-9c-ed-95-9c-ec-98-81-ec-a0-84-ed-99-98-ed-95-98-ea-b8-b0.html\n",
      "pip로 mysqlclient설치 중 mac os x에서 egg_info / OSError 발생시 대처방법\n",
      "/beomi.github.io_old/programming/python/2016/05/27/pip-eb-a1-9c-mysqlclient-ec-84-a4-ec-b9-98-ec-a4-91-mac-os-x-ec-97-90-ec-84-9c-egg_info-oserror-eb-b0-9c-ec-83-9d-ec-8b-9c-eb-8c-80-ec-b2-98-eb-b0-a9-eb-b2-95.html\n"
     ]
    }
   ],
   "source": [
    "for title in my_titles:\n",
    "    ## Tag안의 텍스트\n",
    "    print(title.text)\n",
    "    ## Tag의 속성을 가져오기(ex: href속성)\n",
    "    print(title.get('href'))"
   ]
  },
  {
   "cell_type": "code",
   "execution_count": 14,
   "id": "111c4115",
   "metadata": {},
   "outputs": [],
   "source": [
    "# save data with json\n",
    "\n",
    "import requests\n",
    "from bs4 import BeautifulSoup\n",
    "import json\n",
    "import os\n",
    "\n",
    "## python파일의 위치\n",
    "BASE_DIR = os.path.dirname(os.path.abspath(''))\n",
    "\n",
    "req = requests.get('https://beomi.github.io/beomi.github.io_old/')\n",
    "html = req.text\n",
    "soup = BeautifulSoup(html, 'html.parser')\n",
    "my_titles = soup.select(\n",
    "    'h3 > a'\n",
    "    )\n",
    "\n",
    "data = {}\n",
    "\n",
    "for title in my_titles:\n",
    "    data[title.text] = title.get('href')\n",
    "\n",
    "with open(os.path.join(BASE_DIR, 'result.json'), 'w+') as json_file:\n",
    "    json.dump(data, json_file)"
   ]
  },
  {
   "cell_type": "code",
   "execution_count": null,
   "id": "30515047",
   "metadata": {},
   "outputs": [],
   "source": []
  }
 ],
 "metadata": {
  "kernelspec": {
   "display_name": "Python 3",
   "language": "python",
   "name": "python3"
  },
  "language_info": {
   "codemirror_mode": {
    "name": "ipython",
    "version": 3
   },
   "file_extension": ".py",
   "mimetype": "text/x-python",
   "name": "python",
   "nbconvert_exporter": "python",
   "pygments_lexer": "ipython3",
   "version": "3.8.11"
  }
 },
 "nbformat": 4,
 "nbformat_minor": 5
}
