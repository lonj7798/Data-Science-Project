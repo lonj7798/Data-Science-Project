{
 "cells": [
  {
   "cell_type": "code",
   "execution_count": 1,
   "metadata": {},
   "outputs": [
    {
     "name": "stdout",
     "output_type": "stream",
     "text": [
      "2.3.0\n"
     ]
    }
   ],
   "source": [
    "import tensorflow as tf\n",
    "print(tf.__version__)"
   ]
  },
  {
   "cell_type": "code",
   "execution_count": 2,
   "metadata": {},
   "outputs": [],
   "source": [
    "# Load data\n",
    "from sklearn.datasets import load_breast_cancer"
   ]
  },
  {
   "cell_type": "code",
   "execution_count": 3,
   "metadata": {},
   "outputs": [],
   "source": [
    "data = load_breast_cancer()"
   ]
  },
  {
   "cell_type": "code",
   "execution_count": 4,
   "metadata": {},
   "outputs": [
    {
     "data": {
      "text/plain": [
       "sklearn.utils.Bunch"
      ]
     },
     "execution_count": 4,
     "metadata": {},
     "output_type": "execute_result"
    }
   ],
   "source": [
    "type(data)"
   ]
  },
  {
   "cell_type": "code",
   "execution_count": 5,
   "metadata": {},
   "outputs": [
    {
     "data": {
      "text/plain": [
       "dict_keys(['data', 'target', 'frame', 'target_names', 'DESCR', 'feature_names', 'filename'])"
      ]
     },
     "execution_count": 5,
     "metadata": {},
     "output_type": "execute_result"
    }
   ],
   "source": [
    "# note: it is a Bunch object\n",
    "# this basically acts like a ditionary where you can treat the keys like attributes\n",
    "data.keys()"
   ]
  },
  {
   "cell_type": "code",
   "execution_count": 6,
   "metadata": {},
   "outputs": [
    {
     "data": {
      "text/plain": [
       "(569, 30)"
      ]
     },
     "execution_count": 6,
     "metadata": {},
     "output_type": "execute_result"
    }
   ],
   "source": [
    "# 'data' means the input data of data\n",
    "data.data.shape\n",
    "\n",
    "# 569 samples with 30 features"
   ]
  },
  {
   "cell_type": "code",
   "execution_count": 7,
   "metadata": {
    "scrolled": true
   },
   "outputs": [
    {
     "data": {
      "text/plain": [
       "array([0, 0, 0, 0, 0, 0, 0, 0, 0, 0, 0, 0, 0, 0, 0, 0, 0, 0, 0, 1, 1, 1,\n",
       "       0, 0, 0, 0, 0, 0, 0, 0, 0, 0, 0, 0, 0, 0, 0, 1, 0, 0, 0, 0, 0, 0,\n",
       "       0, 0, 1, 0, 1, 1, 1, 1, 1, 0, 0, 1, 0, 0, 1, 1, 1, 1, 0, 1, 0, 0,\n",
       "       1, 1, 1, 1, 0, 1, 0, 0, 1, 0, 1, 0, 0, 1, 1, 1, 0, 0, 1, 0, 0, 0,\n",
       "       1, 1, 1, 0, 1, 1, 0, 0, 1, 1, 1, 0, 0, 1, 1, 1, 1, 0, 1, 1, 0, 1,\n",
       "       1, 1, 1, 1, 1, 1, 1, 0, 0, 0, 1, 0, 0, 1, 1, 1, 0, 0, 1, 0, 1, 0,\n",
       "       0, 1, 0, 0, 1, 1, 0, 1, 1, 0, 1, 1, 1, 1, 0, 1, 1, 1, 1, 1, 1, 1,\n",
       "       1, 1, 0, 1, 1, 1, 1, 0, 0, 1, 0, 1, 1, 0, 0, 1, 1, 0, 0, 1, 1, 1,\n",
       "       1, 0, 1, 1, 0, 0, 0, 1, 0, 1, 0, 1, 1, 1, 0, 1, 1, 0, 0, 1, 0, 0,\n",
       "       0, 0, 1, 0, 0, 0, 1, 0, 1, 0, 1, 1, 0, 1, 0, 0, 0, 0, 1, 1, 0, 0,\n",
       "       1, 1, 1, 0, 1, 1, 1, 1, 1, 0, 0, 1, 1, 0, 1, 1, 0, 0, 1, 0, 1, 1,\n",
       "       1, 1, 0, 1, 1, 1, 1, 1, 0, 1, 0, 0, 0, 0, 0, 0, 0, 0, 0, 0, 0, 0,\n",
       "       0, 0, 1, 1, 1, 1, 1, 1, 0, 1, 0, 1, 1, 0, 1, 1, 0, 1, 0, 0, 1, 1,\n",
       "       1, 1, 1, 1, 1, 1, 1, 1, 1, 1, 1, 0, 1, 1, 0, 1, 0, 1, 1, 1, 1, 1,\n",
       "       1, 1, 1, 1, 1, 1, 1, 1, 1, 0, 1, 1, 1, 0, 1, 0, 1, 1, 1, 1, 0, 0,\n",
       "       0, 1, 1, 1, 1, 0, 1, 0, 1, 0, 1, 1, 1, 0, 1, 1, 1, 1, 1, 1, 1, 0,\n",
       "       0, 0, 1, 1, 1, 1, 1, 1, 1, 1, 1, 1, 1, 0, 0, 1, 0, 0, 0, 1, 0, 0,\n",
       "       1, 1, 1, 1, 1, 0, 1, 1, 1, 1, 1, 0, 1, 1, 1, 0, 1, 1, 0, 0, 1, 1,\n",
       "       1, 1, 1, 1, 0, 1, 1, 1, 1, 1, 1, 1, 0, 1, 1, 1, 1, 1, 0, 1, 1, 0,\n",
       "       1, 1, 1, 1, 1, 1, 1, 1, 1, 1, 1, 1, 0, 1, 0, 0, 1, 0, 1, 1, 1, 1,\n",
       "       1, 0, 1, 1, 0, 1, 0, 1, 1, 0, 1, 0, 1, 1, 1, 1, 1, 1, 1, 1, 0, 0,\n",
       "       1, 1, 1, 1, 1, 1, 0, 1, 1, 1, 1, 1, 1, 1, 1, 1, 1, 0, 1, 1, 1, 1,\n",
       "       1, 1, 1, 0, 1, 0, 1, 1, 0, 1, 1, 1, 1, 1, 0, 0, 1, 0, 1, 0, 1, 1,\n",
       "       1, 1, 1, 0, 1, 1, 0, 1, 0, 1, 0, 0, 1, 1, 1, 0, 1, 1, 1, 1, 1, 1,\n",
       "       1, 1, 1, 1, 1, 0, 1, 0, 0, 1, 1, 1, 1, 1, 1, 1, 1, 1, 1, 1, 1, 1,\n",
       "       1, 1, 1, 1, 1, 1, 1, 1, 1, 1, 1, 1, 0, 0, 0, 0, 0, 0, 1])"
      ]
     },
     "execution_count": 7,
     "metadata": {},
     "output_type": "execute_result"
    }
   ],
   "source": [
    "# targets\n",
    "data.target"
   ]
  },
  {
   "cell_type": "code",
   "execution_count": 8,
   "metadata": {},
   "outputs": [
    {
     "data": {
      "text/plain": [
       "array(['malignant', 'benign'], dtype='<U9')"
      ]
     },
     "execution_count": 8,
     "metadata": {},
     "output_type": "execute_result"
    }
   ],
   "source": [
    "data.target_names"
   ]
  },
  {
   "cell_type": "code",
   "execution_count": 9,
   "metadata": {},
   "outputs": [
    {
     "data": {
      "text/plain": [
       "(569,)"
      ]
     },
     "execution_count": 9,
     "metadata": {},
     "output_type": "execute_result"
    }
   ],
   "source": [
    "data.target.shape\n",
    "# also have 569 targets"
   ]
  },
  {
   "cell_type": "code",
   "execution_count": 10,
   "metadata": {},
   "outputs": [
    {
     "data": {
      "text/plain": [
       "array(['mean radius', 'mean texture', 'mean perimeter', 'mean area',\n",
       "       'mean smoothness', 'mean compactness', 'mean concavity',\n",
       "       'mean concave points', 'mean symmetry', 'mean fractal dimension',\n",
       "       'radius error', 'texture error', 'perimeter error', 'area error',\n",
       "       'smoothness error', 'compactness error', 'concavity error',\n",
       "       'concave points error', 'symmetry error',\n",
       "       'fractal dimension error', 'worst radius', 'worst texture',\n",
       "       'worst perimeter', 'worst area', 'worst smoothness',\n",
       "       'worst compactness', 'worst concavity', 'worst concave points',\n",
       "       'worst symmetry', 'worst fractal dimension'], dtype='<U23')"
      ]
     },
     "execution_count": 10,
     "metadata": {},
     "output_type": "execute_result"
    }
   ],
   "source": [
    "# name of features\n",
    "data.feature_names"
   ]
  },
  {
   "cell_type": "code",
   "execution_count": null,
   "metadata": {},
   "outputs": [],
   "source": []
  },
  {
   "cell_type": "markdown",
   "metadata": {},
   "source": [
    "### train test split"
   ]
  },
  {
   "cell_type": "code",
   "execution_count": 11,
   "metadata": {},
   "outputs": [],
   "source": [
    "from sklearn.model_selection import train_test_split"
   ]
  },
  {
   "cell_type": "code",
   "execution_count": 12,
   "metadata": {},
   "outputs": [],
   "source": [
    "# split the data\n",
    "X_train, X_test, y_train, y_test = train_test_split(data.data, data.target,\n",
    "                                                   test_size=0.33)\n",
    "\n",
    "N, D = X_train.shape"
   ]
  },
  {
   "cell_type": "code",
   "execution_count": 13,
   "metadata": {},
   "outputs": [],
   "source": [
    "# tensorflow\n",
    "# using sigmoid for activation function (good performance with boolean type data)\n",
    "model = tf.keras.models.Sequential([\n",
    "    tf.keras.layers.Input(shape=(D,)),\n",
    "    tf.keras.layers.Dense(1, activation='sigmoid')\n",
    "])"
   ]
  },
  {
   "cell_type": "code",
   "execution_count": 14,
   "metadata": {},
   "outputs": [
    {
     "data": {
      "text/plain": [
       "\"\\nAlso can do like this\\n\\nmodel = tf.keras.models.Sequential()\\nmodel.add(tf.keras.layers.Dense(1, input_shape=(D,), activation='sigmoid'))\\n\""
      ]
     },
     "execution_count": 14,
     "metadata": {},
     "output_type": "execute_result"
    }
   ],
   "source": [
    "\"\"\"\n",
    "Also can do like this\n",
    "\n",
    "model = tf.keras.models.Sequential()\n",
    "model.add(tf.keras.layers.Dense(1, input_shape=(D,), activation='sigmoid'))\n",
    "\"\"\""
   ]
  },
  {
   "cell_type": "code",
   "execution_count": 15,
   "metadata": {},
   "outputs": [],
   "source": [
    "model.compile(optimizer='adam',\n",
    "             loss='binary_crossentropy',\n",
    "             metrics=['accuracy'])"
   ]
  },
  {
   "cell_type": "code",
   "execution_count": 16,
   "metadata": {
    "scrolled": true
   },
   "outputs": [
    {
     "name": "stdout",
     "output_type": "stream",
     "text": [
      "Epoch 1/100\n",
      "12/12 [==============================] - 0s 9ms/step - loss: 178.3133 - accuracy: 0.6299 - val_loss: 191.1025 - val_accuracy: 0.6223\n",
      "Epoch 2/100\n",
      "12/12 [==============================] - 0s 3ms/step - loss: 166.5056 - accuracy: 0.6299 - val_loss: 177.6079 - val_accuracy: 0.6223\n",
      "Epoch 3/100\n",
      "12/12 [==============================] - 0s 3ms/step - loss: 154.7338 - accuracy: 0.6299 - val_loss: 164.2228 - val_accuracy: 0.6223\n",
      "Epoch 4/100\n",
      "12/12 [==============================] - 0s 3ms/step - loss: 142.6343 - accuracy: 0.6299 - val_loss: 151.1791 - val_accuracy: 0.6223\n",
      "Epoch 5/100\n",
      "12/12 [==============================] - 0s 3ms/step - loss: 130.8275 - accuracy: 0.6299 - val_loss: 138.2111 - val_accuracy: 0.6223\n",
      "Epoch 6/100\n",
      "12/12 [==============================] - 0s 3ms/step - loss: 118.8929 - accuracy: 0.6299 - val_loss: 125.2756 - val_accuracy: 0.6223\n",
      "Epoch 7/100\n",
      "12/12 [==============================] - 0s 3ms/step - loss: 106.9994 - accuracy: 0.6299 - val_loss: 112.2669 - val_accuracy: 0.6223\n",
      "Epoch 8/100\n",
      "12/12 [==============================] - 0s 3ms/step - loss: 94.8545 - accuracy: 0.6299 - val_loss: 99.4832 - val_accuracy: 0.6223\n",
      "Epoch 9/100\n",
      "12/12 [==============================] - 0s 3ms/step - loss: 83.2607 - accuracy: 0.6299 - val_loss: 86.2692 - val_accuracy: 0.6223\n",
      "Epoch 10/100\n",
      "12/12 [==============================] - 0s 3ms/step - loss: 71.2242 - accuracy: 0.6299 - val_loss: 73.1662 - val_accuracy: 0.6223\n",
      "Epoch 11/100\n",
      "12/12 [==============================] - 0s 3ms/step - loss: 59.2999 - accuracy: 0.6299 - val_loss: 60.0352 - val_accuracy: 0.6223\n",
      "Epoch 12/100\n",
      "12/12 [==============================] - 0s 3ms/step - loss: 47.5772 - accuracy: 0.6299 - val_loss: 46.6948 - val_accuracy: 0.6223\n",
      "Epoch 13/100\n",
      "12/12 [==============================] - 0s 3ms/step - loss: 35.8752 - accuracy: 0.6247 - val_loss: 33.2527 - val_accuracy: 0.6170\n",
      "Epoch 14/100\n",
      "12/12 [==============================] - 0s 3ms/step - loss: 23.9784 - accuracy: 0.5696 - val_loss: 21.6244 - val_accuracy: 0.4149\n",
      "Epoch 15/100\n",
      "12/12 [==============================] - 0s 3ms/step - loss: 14.6296 - accuracy: 0.3228 - val_loss: 15.2061 - val_accuracy: 0.1223\n",
      "Epoch 16/100\n",
      "12/12 [==============================] - 0s 3ms/step - loss: 12.2686 - accuracy: 0.1155 - val_loss: 13.6769 - val_accuracy: 0.1223\n",
      "Epoch 17/100\n",
      "12/12 [==============================] - 0s 3ms/step - loss: 11.9644 - accuracy: 0.1417 - val_loss: 13.2542 - val_accuracy: 0.1543\n",
      "Epoch 18/100\n",
      "12/12 [==============================] - 0s 3ms/step - loss: 11.5846 - accuracy: 0.1339 - val_loss: 12.8662 - val_accuracy: 0.1330\n",
      "Epoch 19/100\n",
      "12/12 [==============================] - 0s 3ms/step - loss: 11.1216 - accuracy: 0.1312 - val_loss: 12.4499 - val_accuracy: 0.1277\n",
      "Epoch 20/100\n",
      "12/12 [==============================] - 0s 3ms/step - loss: 10.7332 - accuracy: 0.1155 - val_loss: 12.1040 - val_accuracy: 0.1223\n",
      "Epoch 21/100\n",
      "12/12 [==============================] - 0s 3ms/step - loss: 10.3449 - accuracy: 0.1181 - val_loss: 11.6338 - val_accuracy: 0.1277\n",
      "Epoch 22/100\n",
      "12/12 [==============================] - 0s 3ms/step - loss: 9.9503 - accuracy: 0.1207 - val_loss: 11.1441 - val_accuracy: 0.1277\n",
      "Epoch 23/100\n",
      "12/12 [==============================] - 0s 3ms/step - loss: 9.5525 - accuracy: 0.1260 - val_loss: 10.7349 - val_accuracy: 0.1223\n",
      "Epoch 24/100\n",
      "12/12 [==============================] - 0s 3ms/step - loss: 9.1755 - accuracy: 0.1312 - val_loss: 10.2249 - val_accuracy: 0.1330\n",
      "Epoch 25/100\n",
      "12/12 [==============================] - 0s 3ms/step - loss: 8.7365 - accuracy: 0.1365 - val_loss: 9.7908 - val_accuracy: 0.1277\n",
      "Epoch 26/100\n",
      "12/12 [==============================] - 0s 3ms/step - loss: 8.3412 - accuracy: 0.1417 - val_loss: 9.3757 - val_accuracy: 0.1436\n",
      "Epoch 27/100\n",
      "12/12 [==============================] - 0s 3ms/step - loss: 7.9996 - accuracy: 0.1496 - val_loss: 8.8646 - val_accuracy: 0.1383\n",
      "Epoch 28/100\n",
      "12/12 [==============================] - 0s 3ms/step - loss: 7.5668 - accuracy: 0.1627 - val_loss: 8.4551 - val_accuracy: 0.1436\n",
      "Epoch 29/100\n",
      "12/12 [==============================] - 0s 3ms/step - loss: 7.2190 - accuracy: 0.1627 - val_loss: 7.9660 - val_accuracy: 0.1596\n",
      "Epoch 30/100\n",
      "12/12 [==============================] - 0s 3ms/step - loss: 6.7652 - accuracy: 0.1732 - val_loss: 7.5380 - val_accuracy: 0.1543\n",
      "Epoch 31/100\n",
      "12/12 [==============================] - 0s 3ms/step - loss: 6.3944 - accuracy: 0.1680 - val_loss: 7.1183 - val_accuracy: 0.1543\n",
      "Epoch 32/100\n",
      "12/12 [==============================] - 0s 4ms/step - loss: 6.0194 - accuracy: 0.1890 - val_loss: 6.6378 - val_accuracy: 0.1755\n",
      "Epoch 33/100\n",
      "12/12 [==============================] - 0s 3ms/step - loss: 5.6756 - accuracy: 0.1969 - val_loss: 6.2350 - val_accuracy: 0.1809\n",
      "Epoch 34/100\n",
      "12/12 [==============================] - 0s 3ms/step - loss: 5.3210 - accuracy: 0.2152 - val_loss: 5.8378 - val_accuracy: 0.1915\n",
      "Epoch 35/100\n",
      "12/12 [==============================] - 0s 3ms/step - loss: 5.0060 - accuracy: 0.2257 - val_loss: 5.4294 - val_accuracy: 0.2021\n",
      "Epoch 36/100\n",
      "12/12 [==============================] - 0s 3ms/step - loss: 4.6791 - accuracy: 0.2493 - val_loss: 5.0890 - val_accuracy: 0.2553\n",
      "Epoch 37/100\n",
      "12/12 [==============================] - 0s 3ms/step - loss: 4.3868 - accuracy: 0.2730 - val_loss: 4.6989 - val_accuracy: 0.2447\n",
      "Epoch 38/100\n",
      "12/12 [==============================] - 0s 3ms/step - loss: 4.1081 - accuracy: 0.2572 - val_loss: 4.3668 - val_accuracy: 0.2713\n",
      "Epoch 39/100\n",
      "12/12 [==============================] - 0s 3ms/step - loss: 3.8336 - accuracy: 0.2913 - val_loss: 4.0879 - val_accuracy: 0.3245\n",
      "Epoch 40/100\n",
      "12/12 [==============================] - 0s 3ms/step - loss: 3.6097 - accuracy: 0.3228 - val_loss: 3.7994 - val_accuracy: 0.3351\n",
      "Epoch 41/100\n",
      "12/12 [==============================] - 0s 3ms/step - loss: 3.3964 - accuracy: 0.3570 - val_loss: 3.5580 - val_accuracy: 0.3511\n",
      "Epoch 42/100\n",
      "12/12 [==============================] - 0s 3ms/step - loss: 3.1825 - accuracy: 0.3386 - val_loss: 3.3269 - val_accuracy: 0.3777\n",
      "Epoch 43/100\n",
      "12/12 [==============================] - 0s 3ms/step - loss: 2.9966 - accuracy: 0.3412 - val_loss: 3.1136 - val_accuracy: 0.3777\n",
      "Epoch 44/100\n",
      "12/12 [==============================] - 0s 3ms/step - loss: 2.7633 - accuracy: 0.3990 - val_loss: 2.9078 - val_accuracy: 0.4309\n",
      "Epoch 45/100\n",
      "12/12 [==============================] - 0s 3ms/step - loss: 2.6339 - accuracy: 0.4409 - val_loss: 2.7250 - val_accuracy: 0.4362\n",
      "Epoch 46/100\n",
      "12/12 [==============================] - 0s 3ms/step - loss: 2.4772 - accuracy: 0.4409 - val_loss: 2.5711 - val_accuracy: 0.4468\n",
      "Epoch 47/100\n",
      "12/12 [==============================] - 0s 3ms/step - loss: 2.3404 - accuracy: 0.4672 - val_loss: 2.4231 - val_accuracy: 0.4787\n",
      "Epoch 48/100\n",
      "12/12 [==============================] - 0s 3ms/step - loss: 2.2326 - accuracy: 0.5092 - val_loss: 2.2949 - val_accuracy: 0.4947\n",
      "Epoch 49/100\n",
      "12/12 [==============================] - 0s 3ms/step - loss: 2.1275 - accuracy: 0.5092 - val_loss: 2.1785 - val_accuracy: 0.5160\n",
      "Epoch 50/100\n",
      "12/12 [==============================] - 0s 3ms/step - loss: 2.0454 - accuracy: 0.5381 - val_loss: 2.0681 - val_accuracy: 0.5372\n",
      "Epoch 51/100\n",
      "12/12 [==============================] - 0s 3ms/step - loss: 1.9472 - accuracy: 0.5276 - val_loss: 1.9958 - val_accuracy: 0.5106\n",
      "Epoch 52/100\n",
      "12/12 [==============================] - 0s 3ms/step - loss: 1.8695 - accuracy: 0.5696 - val_loss: 1.8783 - val_accuracy: 0.5691\n",
      "Epoch 53/100\n",
      "12/12 [==============================] - 0s 3ms/step - loss: 1.7830 - accuracy: 0.5853 - val_loss: 1.7913 - val_accuracy: 0.5851\n",
      "Epoch 54/100\n",
      "12/12 [==============================] - 0s 3ms/step - loss: 1.7200 - accuracy: 0.5827 - val_loss: 1.7106 - val_accuracy: 0.5798\n",
      "Epoch 55/100\n",
      "12/12 [==============================] - 0s 3ms/step - loss: 1.6454 - accuracy: 0.6142 - val_loss: 1.6309 - val_accuracy: 0.6064\n",
      "Epoch 56/100\n",
      "12/12 [==============================] - 0s 3ms/step - loss: 1.5859 - accuracy: 0.6194 - val_loss: 1.5719 - val_accuracy: 0.6170\n",
      "Epoch 57/100\n",
      "12/12 [==============================] - 0s 3ms/step - loss: 1.5362 - accuracy: 0.6378 - val_loss: 1.5301 - val_accuracy: 0.6223\n",
      "Epoch 58/100\n"
     ]
    },
    {
     "name": "stdout",
     "output_type": "stream",
     "text": [
      "12/12 [==============================] - 0s 3ms/step - loss: 1.4872 - accuracy: 0.6509 - val_loss: 1.4580 - val_accuracy: 0.6543\n",
      "Epoch 59/100\n",
      "12/12 [==============================] - 0s 3ms/step - loss: 1.4389 - accuracy: 0.6509 - val_loss: 1.4320 - val_accuracy: 0.6489\n",
      "Epoch 60/100\n",
      "12/12 [==============================] - 0s 3ms/step - loss: 1.3896 - accuracy: 0.6745 - val_loss: 1.3684 - val_accuracy: 0.6755\n",
      "Epoch 61/100\n",
      "12/12 [==============================] - 0s 3ms/step - loss: 1.3532 - accuracy: 0.6824 - val_loss: 1.3401 - val_accuracy: 0.6809\n",
      "Epoch 62/100\n",
      "12/12 [==============================] - 0s 3ms/step - loss: 1.3124 - accuracy: 0.6877 - val_loss: 1.3051 - val_accuracy: 0.6862\n",
      "Epoch 63/100\n",
      "12/12 [==============================] - 0s 3ms/step - loss: 1.2753 - accuracy: 0.6903 - val_loss: 1.2832 - val_accuracy: 0.6862\n",
      "Epoch 64/100\n",
      "12/12 [==============================] - 0s 3ms/step - loss: 1.2485 - accuracy: 0.6903 - val_loss: 1.2273 - val_accuracy: 0.7234\n",
      "Epoch 65/100\n",
      "12/12 [==============================] - 0s 3ms/step - loss: 1.2141 - accuracy: 0.6982 - val_loss: 1.2112 - val_accuracy: 0.7074\n",
      "Epoch 66/100\n",
      "12/12 [==============================] - 0s 3ms/step - loss: 1.1935 - accuracy: 0.7087 - val_loss: 1.1767 - val_accuracy: 0.7234\n",
      "Epoch 67/100\n",
      "12/12 [==============================] - 0s 3ms/step - loss: 1.1614 - accuracy: 0.7139 - val_loss: 1.1502 - val_accuracy: 0.7340\n",
      "Epoch 68/100\n",
      "12/12 [==============================] - 0s 3ms/step - loss: 1.1333 - accuracy: 0.7113 - val_loss: 1.1256 - val_accuracy: 0.7340\n",
      "Epoch 69/100\n",
      "12/12 [==============================] - 0s 3ms/step - loss: 1.1151 - accuracy: 0.7192 - val_loss: 1.1030 - val_accuracy: 0.7606\n",
      "Epoch 70/100\n",
      "12/12 [==============================] - 0s 3ms/step - loss: 1.0924 - accuracy: 0.7428 - val_loss: 1.0711 - val_accuracy: 0.7606\n",
      "Epoch 71/100\n",
      "12/12 [==============================] - 0s 3ms/step - loss: 1.0803 - accuracy: 0.7218 - val_loss: 1.0654 - val_accuracy: 0.7713\n",
      "Epoch 72/100\n",
      "12/12 [==============================] - 0s 3ms/step - loss: 1.0708 - accuracy: 0.7480 - val_loss: 1.0296 - val_accuracy: 0.7606\n",
      "Epoch 73/100\n",
      "12/12 [==============================] - 0s 3ms/step - loss: 1.0419 - accuracy: 0.7270 - val_loss: 1.0552 - val_accuracy: 0.7660\n",
      "Epoch 74/100\n",
      "12/12 [==============================] - 0s 3ms/step - loss: 1.0205 - accuracy: 0.7480 - val_loss: 0.9953 - val_accuracy: 0.7766\n",
      "Epoch 75/100\n",
      "12/12 [==============================] - 0s 3ms/step - loss: 1.0358 - accuracy: 0.7218 - val_loss: 1.0188 - val_accuracy: 0.7713\n",
      "Epoch 76/100\n",
      "12/12 [==============================] - 0s 3ms/step - loss: 0.9938 - accuracy: 0.7559 - val_loss: 0.9617 - val_accuracy: 0.7819\n",
      "Epoch 77/100\n",
      "12/12 [==============================] - 0s 3ms/step - loss: 0.9772 - accuracy: 0.7638 - val_loss: 0.9735 - val_accuracy: 0.7872\n",
      "Epoch 78/100\n",
      "12/12 [==============================] - 0s 3ms/step - loss: 1.0037 - accuracy: 0.7270 - val_loss: 0.9798 - val_accuracy: 0.7819\n",
      "Epoch 79/100\n",
      "12/12 [==============================] - 0s 3ms/step - loss: 0.9638 - accuracy: 0.7690 - val_loss: 0.9219 - val_accuracy: 0.7979\n",
      "Epoch 80/100\n",
      "12/12 [==============================] - 0s 3ms/step - loss: 0.9352 - accuracy: 0.7664 - val_loss: 0.9603 - val_accuracy: 0.7819\n",
      "Epoch 81/100\n",
      "12/12 [==============================] - 0s 3ms/step - loss: 0.9221 - accuracy: 0.7664 - val_loss: 0.9205 - val_accuracy: 0.7926\n",
      "Epoch 82/100\n",
      "12/12 [==============================] - 0s 3ms/step - loss: 0.9031 - accuracy: 0.7664 - val_loss: 0.8969 - val_accuracy: 0.8032\n",
      "Epoch 83/100\n",
      "12/12 [==============================] - 0s 3ms/step - loss: 0.9115 - accuracy: 0.7822 - val_loss: 0.8953 - val_accuracy: 0.7926\n",
      "Epoch 84/100\n",
      "12/12 [==============================] - 0s 8ms/step - loss: 0.8895 - accuracy: 0.7690 - val_loss: 0.8872 - val_accuracy: 0.7926\n",
      "Epoch 85/100\n",
      "12/12 [==============================] - 0s 3ms/step - loss: 0.8694 - accuracy: 0.7795 - val_loss: 0.8711 - val_accuracy: 0.7926\n",
      "Epoch 86/100\n",
      "12/12 [==============================] - 0s 3ms/step - loss: 0.8615 - accuracy: 0.7795 - val_loss: 0.8658 - val_accuracy: 0.7979\n",
      "Epoch 87/100\n",
      "12/12 [==============================] - 0s 3ms/step - loss: 0.8533 - accuracy: 0.7822 - val_loss: 0.8415 - val_accuracy: 0.8191\n",
      "Epoch 88/100\n",
      "12/12 [==============================] - 0s 3ms/step - loss: 0.8358 - accuracy: 0.7848 - val_loss: 0.8559 - val_accuracy: 0.7979\n",
      "Epoch 89/100\n",
      "12/12 [==============================] - 0s 3ms/step - loss: 0.8219 - accuracy: 0.7874 - val_loss: 0.8191 - val_accuracy: 0.8191\n",
      "Epoch 90/100\n",
      "12/12 [==============================] - 0s 3ms/step - loss: 0.8154 - accuracy: 0.7874 - val_loss: 0.8212 - val_accuracy: 0.8191\n",
      "Epoch 91/100\n",
      "12/12 [==============================] - 0s 3ms/step - loss: 0.8069 - accuracy: 0.7927 - val_loss: 0.8019 - val_accuracy: 0.8191\n",
      "Epoch 92/100\n",
      "12/12 [==============================] - 0s 3ms/step - loss: 0.7922 - accuracy: 0.7900 - val_loss: 0.8091 - val_accuracy: 0.8245\n",
      "Epoch 93/100\n",
      "12/12 [==============================] - 0s 3ms/step - loss: 0.7828 - accuracy: 0.7900 - val_loss: 0.7741 - val_accuracy: 0.8351\n",
      "Epoch 94/100\n",
      "12/12 [==============================] - 0s 3ms/step - loss: 0.7891 - accuracy: 0.7874 - val_loss: 0.7886 - val_accuracy: 0.8245\n",
      "Epoch 95/100\n",
      "12/12 [==============================] - 0s 3ms/step - loss: 0.7985 - accuracy: 0.7900 - val_loss: 0.7598 - val_accuracy: 0.8245\n",
      "Epoch 96/100\n",
      "12/12 [==============================] - 0s 3ms/step - loss: 0.7582 - accuracy: 0.8005 - val_loss: 0.7770 - val_accuracy: 0.8245\n",
      "Epoch 97/100\n",
      "12/12 [==============================] - 0s 3ms/step - loss: 0.7424 - accuracy: 0.8058 - val_loss: 0.7433 - val_accuracy: 0.8245\n",
      "Epoch 98/100\n",
      "12/12 [==============================] - 0s 3ms/step - loss: 0.7372 - accuracy: 0.8031 - val_loss: 0.7467 - val_accuracy: 0.8245\n",
      "Epoch 99/100\n",
      "12/12 [==============================] - 0s 3ms/step - loss: 0.7350 - accuracy: 0.8005 - val_loss: 0.7366 - val_accuracy: 0.8245\n",
      "Epoch 100/100\n",
      "12/12 [==============================] - 0s 3ms/step - loss: 0.7218 - accuracy: 0.8031 - val_loss: 0.7236 - val_accuracy: 0.8245\n"
     ]
    }
   ],
   "source": [
    "r = model.fit(X_train, y_train, validation_data=(X_test, y_test), epochs=100)"
   ]
  },
  {
   "cell_type": "code",
   "execution_count": 17,
   "metadata": {},
   "outputs": [
    {
     "name": "stdout",
     "output_type": "stream",
     "text": [
      "12/12 [==============================] - 0s 922us/step - loss: 0.7088 - accuracy: 0.8084\n",
      "Train score: [0.708827555179596, 0.808398962020874]\n",
      "6/6 [==============================] - 0s 1ms/step - loss: 0.7236 - accuracy: 0.8245\n",
      "Test score: [0.7236453890800476, 0.8244680762290955]\n"
     ]
    }
   ],
   "source": [
    "print(\"Train score:\", model.evaluate(X_train, y_train))\n",
    "print(\"Test score:\", model.evaluate(X_test, y_test))"
   ]
  },
  {
   "cell_type": "code",
   "execution_count": null,
   "metadata": {},
   "outputs": [],
   "source": []
  },
  {
   "cell_type": "markdown",
   "metadata": {},
   "source": [
    "### ploting"
   ]
  },
  {
   "cell_type": "code",
   "execution_count": 18,
   "metadata": {},
   "outputs": [
    {
     "data": {
      "text/plain": [
       "<matplotlib.legend.Legend at 0x7f3c800846a0>"
      ]
     },
     "execution_count": 18,
     "metadata": {},
     "output_type": "execute_result"
    },
    {
     "data": {
      "image/png": "[encoded data removed]",
      "text/plain": [
       "<Figure size 432x288 with 1 Axes>"
      ]
     },
     "metadata": {
      "needs_background": "light"
     },
     "output_type": "display_data"
    }
   ],
   "source": [
    "import matplotlib.pyplot as plt\n",
    "plt.plot(r.history['loss'], label='loss')\n",
    "plt.plot(r.history['val_loss'], label='val_loss')\n",
    "plt.legend()"
   ]
  },
  {
   "cell_type": "code",
   "execution_count": 19,
   "metadata": {},
   "outputs": [
    {
     "data": {
      "text/plain": [
       "<matplotlib.legend.Legend at 0x7f3c6037d910>"
      ]
     },
     "execution_count": 19,
     "metadata": {},
     "output_type": "execute_result"
    },
    {
     "data": {
      "image/png": "[encoded data removed]",
      "text/plain": [
       "<Figure size 432x288 with 1 Axes>"
      ]
     },
     "metadata": {
      "needs_background": "light"
     },
     "output_type": "display_data"
    }
   ],
   "source": [
    "plt.plot(r.history['accuracy'], label='loss')\n",
    "plt.plot(r.history['val_accuracy'], label='val_loss')\n",
    "plt.legend()"
   ]
  },
  {
   "cell_type": "markdown",
   "metadata": {},
   "source": [
    "### Makin gPredictions"
   ]
  },
  {
   "cell_type": "code",
   "execution_count": 26,
   "metadata": {},
   "outputs": [
    {
     "name": "stdout",
     "output_type": "stream",
     "text": [
      "[[9.3036324e-06]\n",
      " [9.2165238e-01]\n",
      " [9.6742815e-01]\n",
      " [9.6900183e-01]\n",
      " [6.5723723e-01]\n",
      " [4.4076252e-04]\n",
      " [9.9045122e-01]\n",
      " [3.6822208e-08]\n",
      " [9.0293944e-01]\n",
      " [2.1680541e-12]\n",
      " [2.6386617e-08]\n",
      " [9.9187273e-01]\n",
      " [9.8860300e-01]\n",
      " [9.3353921e-01]\n",
      " [7.1280390e-09]\n",
      " [3.2270086e-01]\n",
      " [9.5073247e-01]\n",
      " [9.9530560e-01]\n",
      " [5.6022790e-04]\n",
      " [6.8534881e-01]\n",
      " [9.8798126e-01]\n",
      " [8.2659638e-03]\n",
      " [9.9943930e-01]\n",
      " [4.0022692e-01]\n",
      " [9.6332842e-01]\n",
      " [1.6863136e-04]\n",
      " [9.6446711e-01]\n",
      " [9.8898065e-01]\n",
      " [1.9496119e-02]\n",
      " [9.8964804e-01]\n",
      " [9.6180409e-01]\n",
      " [9.9605823e-01]\n",
      " [9.8515701e-01]\n",
      " [9.1816046e-21]\n",
      " [9.8778534e-01]\n",
      " [3.2509509e-11]\n",
      " [3.7893739e-01]\n",
      " [9.9074793e-01]\n",
      " [4.2280767e-02]\n",
      " [9.9996734e-01]\n",
      " [9.4963795e-01]\n",
      " [3.7727619e-03]\n",
      " [9.1656608e-18]\n",
      " [7.7658516e-01]\n",
      " [9.2394853e-01]\n",
      " [2.8354338e-05]\n",
      " [7.5197679e-01]\n",
      " [9.7583276e-01]\n",
      " [9.9179560e-01]\n",
      " [9.9960202e-01]\n",
      " [7.9735568e-05]\n",
      " [4.6995467e-07]\n",
      " [9.9265689e-01]\n",
      " [8.4329349e-01]\n",
      " [8.8901466e-01]\n",
      " [1.6877034e-01]\n",
      " [9.4442058e-01]\n",
      " [7.5234964e-02]\n",
      " [9.7588028e-11]\n",
      " [2.6908893e-08]\n",
      " [9.9794179e-01]\n",
      " [9.7976345e-01]\n",
      " [9.9880564e-01]\n",
      " [9.1322458e-01]\n",
      " [3.3109648e-10]\n",
      " [9.1956180e-01]\n",
      " [9.0331978e-01]\n",
      " [8.8391387e-01]\n",
      " [9.9112540e-01]\n",
      " [9.7864246e-01]\n",
      " [1.2296915e-13]\n",
      " [1.5658370e-17]\n",
      " [0.0000000e+00]\n",
      " [9.8170769e-01]\n",
      " [1.6465759e-10]\n",
      " [3.6092579e-01]\n",
      " [8.3416373e-01]\n",
      " [7.1992315e-02]\n",
      " [7.9285830e-01]\n",
      " [1.3049408e-02]\n",
      " [9.7075319e-03]\n",
      " [4.9164604e-02]\n",
      " [9.7316247e-01]\n",
      " [9.7378820e-01]\n",
      " [2.1112543e-01]\n",
      " [3.8743799e-22]\n",
      " [9.9690717e-01]\n",
      " [2.9668938e-06]\n",
      " [1.1528617e-13]\n",
      " [2.0586400e-08]\n",
      " [1.4874652e-05]\n",
      " [9.9795413e-01]\n",
      " [9.9986315e-01]\n",
      " [9.9521291e-01]\n",
      " [9.9878961e-01]\n",
      " [1.6044632e-01]\n",
      " [2.6244825e-07]\n",
      " [8.6132920e-01]\n",
      " [9.8185712e-01]\n",
      " [3.2471414e-10]\n",
      " [9.4318872e-05]\n",
      " [1.0374723e-11]\n",
      " [4.8350647e-01]\n",
      " [9.2636693e-01]\n",
      " [9.9850178e-01]\n",
      " [9.7257859e-01]\n",
      " [6.7698361e-20]\n",
      " [5.5325545e-02]\n",
      " [9.7187668e-01]\n",
      " [2.6156058e-20]\n",
      " [9.3138069e-01]\n",
      " [4.7943231e-01]\n",
      " [9.4884139e-01]\n",
      " [9.4886127e-06]\n",
      " [9.8127580e-01]\n",
      " [1.4694197e-01]\n",
      " [2.4709887e-09]\n",
      " [5.8462429e-10]\n",
      " [8.5875989e-13]\n",
      " [9.8328280e-01]\n",
      " [9.8813349e-01]\n",
      " [9.9644738e-01]\n",
      " [4.9729401e-01]\n",
      " [1.0938550e-08]\n",
      " [7.9104584e-01]\n",
      " [1.5699398e-17]\n",
      " [2.3829927e-01]\n",
      " [4.7634381e-01]\n",
      " [9.9952161e-01]\n",
      " [9.9321777e-01]\n",
      " [3.9542910e-02]\n",
      " [1.1677724e-01]\n",
      " [2.4577524e-13]\n",
      " [8.5267437e-01]\n",
      " [9.9770206e-01]\n",
      " [9.8489654e-01]\n",
      " [7.0345908e-07]\n",
      " [4.7142255e-01]\n",
      " [3.8968250e-03]\n",
      " [8.9674350e-03]\n",
      " [9.9318343e-01]\n",
      " [9.9604768e-01]\n",
      " [4.5971959e-04]\n",
      " [9.6828443e-01]\n",
      " [9.9244225e-01]\n",
      " [9.8913306e-01]\n",
      " [9.9734432e-01]\n",
      " [8.1454146e-01]\n",
      " [6.7965657e-01]\n",
      " [4.4553623e-01]\n",
      " [9.7295231e-01]\n",
      " [7.7894014e-01]\n",
      " [7.9706550e-01]\n",
      " [1.1023380e-01]\n",
      " [6.8617249e-01]\n",
      " [9.3522507e-01]\n",
      " [1.5156665e-04]\n",
      " [2.3714292e-03]\n",
      " [2.4668574e-01]\n",
      " [9.0603614e-01]\n",
      " [9.9389327e-01]\n",
      " [2.4057512e-09]\n",
      " [8.0346864e-01]\n",
      " [9.9762779e-01]\n",
      " [9.8560506e-01]\n",
      " [9.4530839e-01]\n",
      " [5.9734899e-01]\n",
      " [9.9987328e-01]\n",
      " [3.2320345e-04]\n",
      " [1.7582089e-02]\n",
      " [9.6686625e-01]\n",
      " [9.9991751e-01]\n",
      " [9.0518534e-01]\n",
      " [6.9497907e-01]\n",
      " [1.6620037e-12]\n",
      " [1.6199360e-13]\n",
      " [9.8952615e-01]\n",
      " [9.9929905e-01]\n",
      " [9.7515070e-01]\n",
      " [9.9204445e-01]\n",
      " [4.8069954e-01]\n",
      " [9.8904246e-01]\n",
      " [2.5282842e-01]\n",
      " [7.8197098e-01]\n",
      " [5.4646557e-04]\n",
      " [9.9009436e-01]\n",
      " [9.8219740e-01]\n",
      " [9.8758233e-01]]\n"
     ]
    }
   ],
   "source": [
    "# Make predictions\n",
    "p = model.predict(X_test)\n",
    "print(p) \n",
    "# they are outputs of the sigmoid, interrpreted as probabilities p(y = 1 | x)"
   ]
  },
  {
   "cell_type": "code",
   "execution_count": 27,
   "metadata": {},
   "outputs": [
    {
     "name": "stdout",
     "output_type": "stream",
     "text": [
      "[0. 1. 1. 1. 1. 0. 1. 0. 1. 0. 0. 1. 1. 1. 0. 0. 1. 1. 0. 1. 1. 0. 1. 0.\n",
      " 1. 0. 1. 1. 0. 1. 1. 1. 1. 0. 1. 0. 0. 1. 0. 1. 1. 0. 0. 1. 1. 0. 1. 1.\n",
      " 1. 1. 0. 0. 1. 1. 1. 0. 1. 0. 0. 0. 1. 1. 1. 1. 0. 1. 1. 1. 1. 1. 0. 0.\n",
      " 0. 1. 0. 0. 1. 0. 1. 0. 0. 0. 1. 1. 0. 0. 1. 0. 0. 0. 0. 1. 1. 1. 1. 0.\n",
      " 0. 1. 1. 0. 0. 0. 0. 1. 1. 1. 0. 0. 1. 0. 1. 0. 1. 0. 1. 0. 0. 0. 0. 1.\n",
      " 1. 1. 0. 0. 1. 0. 0. 0. 1. 1. 0. 0. 0. 1. 1. 1. 0. 0. 0. 0. 1. 1. 0. 1.\n",
      " 1. 1. 1. 1. 1. 0. 1. 1. 1. 0. 1. 1. 0. 0. 0. 1. 1. 0. 1. 1. 1. 1. 1. 1.\n",
      " 0. 0. 1. 1. 1. 1. 0. 0. 1. 1. 1. 1. 0. 1. 0. 1. 0. 1. 1. 1.]\n"
     ]
    }
   ],
   "source": [
    "# Round to get the acutal predictions\n",
    "# Note: has to be flattened since the targets are size (N,) while the predictions are size(N,1)\n",
    "\n",
    "import numpy as np\n",
    "p = np.round(p).flatten()\n",
    "print(p)"
   ]
  },
  {
   "cell_type": "code",
   "execution_count": 31,
   "metadata": {},
   "outputs": [
    {
     "name": "stdout",
     "output_type": "stream",
     "text": [
      "Manually calculated accuracy: 0.824468085106383\n",
      "----------------------------------------\n",
      "6/6 [==============================] - 0s 702us/step - loss: 0.7236 - accuracy: 0.8245\n",
      "Evaluate output: [0.7236453890800476, 0.8244680762290955]\n"
     ]
    }
   ],
   "source": [
    "print(\"Manually calculated accuracy:\", np.mean(p == y_test))\n",
    "print(\"-\"*40)\n",
    "print(\"Evaluate output:\", model.evaluate(X_test, y_test))"
   ]
  },
  {
   "cell_type": "code",
   "execution_count": null,
   "metadata": {},
   "outputs": [],
   "source": []
  },
  {
   "cell_type": "code",
   "execution_count": null,
   "metadata": {},
   "outputs": [],
   "source": []
  },
  {
   "cell_type": "code",
   "execution_count": null,
   "metadata": {},
   "outputs": [],
   "source": []
  }
 ],
 "metadata": {
  "kernelspec": {
   "display_name": "Python 3",
   "language": "python",
   "name": "python3"
  },
  "language_info": {
   "codemirror_mode": {
    "name": "ipython",
    "version": 3
   },
   "file_extension": ".py",
   "mimetype": "text/x-python",
   "name": "python",
   "nbconvert_exporter": "python",
   "pygments_lexer": "ipython3",
   "version": "3.8.3"
  }
 },
 "nbformat": 4,
 "nbformat_minor": 4
}
