{
 "cells": [
  {
   "cell_type": "code",
   "execution_count": 2,
   "metadata": {},
   "outputs": [
    {
     "name": "stdout",
     "output_type": "stream",
     "text": [
      "2.3.0\n"
     ]
    }
   ],
   "source": [
    "import tensorflow as tf\n",
    "print(tf.__version__)"
   ]
  },
  {
   "cell_type": "code",
   "execution_count": 3,
   "metadata": {},
   "outputs": [],
   "source": [
    "# Load data\n",
    "from sklearn.datasets import load_breast_cancer"
   ]
  },
  {
   "cell_type": "code",
   "execution_count": 4,
   "metadata": {},
   "outputs": [],
   "source": [
    "data = load_breast_cancer()"
   ]
  },
  {
   "cell_type": "code",
   "execution_count": 7,
   "metadata": {},
   "outputs": [
    {
     "data": {
      "text/plain": [
       "sklearn.utils.Bunch"
      ]
     },
     "execution_count": 7,
     "metadata": {},
     "output_type": "execute_result"
    }
   ],
   "source": [
    "type(data)"
   ]
  },
  {
   "cell_type": "code",
   "execution_count": 8,
   "metadata": {},
   "outputs": [
    {
     "data": {
      "text/plain": [
       "dict_keys(['data', 'target', 'frame', 'target_names', 'DESCR', 'feature_names', 'filename'])"
      ]
     },
     "execution_count": 8,
     "metadata": {},
     "output_type": "execute_result"
    }
   ],
   "source": [
    "# note: it is a Bunch object\n",
    "# this basically acts like a ditionary where you can treat the keys like attributes\n",
    "data.keys()"
   ]
  },
  {
   "cell_type": "code",
   "execution_count": 9,
   "metadata": {},
   "outputs": [
    {
     "data": {
      "text/plain": [
       "(569, 30)"
      ]
     },
     "execution_count": 9,
     "metadata": {},
     "output_type": "execute_result"
    }
   ],
   "source": [
    "# 'data' means the input data of data\n",
    "data.data.shape\n",
    "\n",
    "# 569 samples with 30 features"
   ]
  },
  {
   "cell_type": "code",
   "execution_count": 11,
   "metadata": {
    "scrolled": true
   },
   "outputs": [
    {
     "data": {
      "text/plain": [
       "array([0, 0, 0, 0, 0, 0, 0, 0, 0, 0, 0, 0, 0, 0, 0, 0, 0, 0, 0, 1, 1, 1,\n",
       "       0, 0, 0, 0, 0, 0, 0, 0, 0, 0, 0, 0, 0, 0, 0, 1, 0, 0, 0, 0, 0, 0,\n",
       "       0, 0, 1, 0, 1, 1, 1, 1, 1, 0, 0, 1, 0, 0, 1, 1, 1, 1, 0, 1, 0, 0,\n",
       "       1, 1, 1, 1, 0, 1, 0, 0, 1, 0, 1, 0, 0, 1, 1, 1, 0, 0, 1, 0, 0, 0,\n",
       "       1, 1, 1, 0, 1, 1, 0, 0, 1, 1, 1, 0, 0, 1, 1, 1, 1, 0, 1, 1, 0, 1,\n",
       "       1, 1, 1, 1, 1, 1, 1, 0, 0, 0, 1, 0, 0, 1, 1, 1, 0, 0, 1, 0, 1, 0,\n",
       "       0, 1, 0, 0, 1, 1, 0, 1, 1, 0, 1, 1, 1, 1, 0, 1, 1, 1, 1, 1, 1, 1,\n",
       "       1, 1, 0, 1, 1, 1, 1, 0, 0, 1, 0, 1, 1, 0, 0, 1, 1, 0, 0, 1, 1, 1,\n",
       "       1, 0, 1, 1, 0, 0, 0, 1, 0, 1, 0, 1, 1, 1, 0, 1, 1, 0, 0, 1, 0, 0,\n",
       "       0, 0, 1, 0, 0, 0, 1, 0, 1, 0, 1, 1, 0, 1, 0, 0, 0, 0, 1, 1, 0, 0,\n",
       "       1, 1, 1, 0, 1, 1, 1, 1, 1, 0, 0, 1, 1, 0, 1, 1, 0, 0, 1, 0, 1, 1,\n",
       "       1, 1, 0, 1, 1, 1, 1, 1, 0, 1, 0, 0, 0, 0, 0, 0, 0, 0, 0, 0, 0, 0,\n",
       "       0, 0, 1, 1, 1, 1, 1, 1, 0, 1, 0, 1, 1, 0, 1, 1, 0, 1, 0, 0, 1, 1,\n",
       "       1, 1, 1, 1, 1, 1, 1, 1, 1, 1, 1, 0, 1, 1, 0, 1, 0, 1, 1, 1, 1, 1,\n",
       "       1, 1, 1, 1, 1, 1, 1, 1, 1, 0, 1, 1, 1, 0, 1, 0, 1, 1, 1, 1, 0, 0,\n",
       "       0, 1, 1, 1, 1, 0, 1, 0, 1, 0, 1, 1, 1, 0, 1, 1, 1, 1, 1, 1, 1, 0,\n",
       "       0, 0, 1, 1, 1, 1, 1, 1, 1, 1, 1, 1, 1, 0, 0, 1, 0, 0, 0, 1, 0, 0,\n",
       "       1, 1, 1, 1, 1, 0, 1, 1, 1, 1, 1, 0, 1, 1, 1, 0, 1, 1, 0, 0, 1, 1,\n",
       "       1, 1, 1, 1, 0, 1, 1, 1, 1, 1, 1, 1, 0, 1, 1, 1, 1, 1, 0, 1, 1, 0,\n",
       "       1, 1, 1, 1, 1, 1, 1, 1, 1, 1, 1, 1, 0, 1, 0, 0, 1, 0, 1, 1, 1, 1,\n",
       "       1, 0, 1, 1, 0, 1, 0, 1, 1, 0, 1, 0, 1, 1, 1, 1, 1, 1, 1, 1, 0, 0,\n",
       "       1, 1, 1, 1, 1, 1, 0, 1, 1, 1, 1, 1, 1, 1, 1, 1, 1, 0, 1, 1, 1, 1,\n",
       "       1, 1, 1, 0, 1, 0, 1, 1, 0, 1, 1, 1, 1, 1, 0, 0, 1, 0, 1, 0, 1, 1,\n",
       "       1, 1, 1, 0, 1, 1, 0, 1, 0, 1, 0, 0, 1, 1, 1, 0, 1, 1, 1, 1, 1, 1,\n",
       "       1, 1, 1, 1, 1, 0, 1, 0, 0, 1, 1, 1, 1, 1, 1, 1, 1, 1, 1, 1, 1, 1,\n",
       "       1, 1, 1, 1, 1, 1, 1, 1, 1, 1, 1, 1, 0, 0, 0, 0, 0, 0, 1])"
      ]
     },
     "execution_count": 11,
     "metadata": {},
     "output_type": "execute_result"
    }
   ],
   "source": [
    "# targets\n",
    "data.target"
   ]
  },
  {
   "cell_type": "code",
   "execution_count": 12,
   "metadata": {},
   "outputs": [
    {
     "data": {
      "text/plain": [
       "array(['malignant', 'benign'], dtype='<U9')"
      ]
     },
     "execution_count": 12,
     "metadata": {},
     "output_type": "execute_result"
    }
   ],
   "source": [
    "data.target_names"
   ]
  },
  {
   "cell_type": "code",
   "execution_count": 13,
   "metadata": {},
   "outputs": [
    {
     "data": {
      "text/plain": [
       "(569,)"
      ]
     },
     "execution_count": 13,
     "metadata": {},
     "output_type": "execute_result"
    }
   ],
   "source": [
    "data.target.shape\n",
    "# also have 569 targets"
   ]
  },
  {
   "cell_type": "code",
   "execution_count": 14,
   "metadata": {},
   "outputs": [
    {
     "data": {
      "text/plain": [
       "array(['mean radius', 'mean texture', 'mean perimeter', 'mean area',\n",
       "       'mean smoothness', 'mean compactness', 'mean concavity',\n",
       "       'mean concave points', 'mean symmetry', 'mean fractal dimension',\n",
       "       'radius error', 'texture error', 'perimeter error', 'area error',\n",
       "       'smoothness error', 'compactness error', 'concavity error',\n",
       "       'concave points error', 'symmetry error',\n",
       "       'fractal dimension error', 'worst radius', 'worst texture',\n",
       "       'worst perimeter', 'worst area', 'worst smoothness',\n",
       "       'worst compactness', 'worst concavity', 'worst concave points',\n",
       "       'worst symmetry', 'worst fractal dimension'], dtype='<U23')"
      ]
     },
     "execution_count": 14,
     "metadata": {},
     "output_type": "execute_result"
    }
   ],
   "source": [
    "# name of features\n",
    "data.feature_names"
   ]
  },
  {
   "cell_type": "code",
   "execution_count": null,
   "metadata": {},
   "outputs": [],
   "source": []
  },
  {
   "cell_type": "markdown",
   "metadata": {},
   "source": [
    "### train test split"
   ]
  },
  {
   "cell_type": "code",
   "execution_count": 17,
   "metadata": {},
   "outputs": [],
   "source": [
    "from sklearn.model_selection import train_test_split"
   ]
  },
  {
   "cell_type": "code",
   "execution_count": 31,
   "metadata": {},
   "outputs": [],
   "source": [
    "# split the data\n",
    "X_train, X_test, y_train, y_test = train_test_split(data.data, data.target,\n",
    "                                                   test_size=0.33)\n",
    "\n",
    "N, D = X_train.shape"
   ]
  },
  {
   "cell_type": "code",
   "execution_count": 27,
   "metadata": {},
   "outputs": [],
   "source": [
    "# tensorflow\n",
    "# using sigmoid for activation function (good performance with boolean type data)\n",
    "model = tf.keras.models.Sequential([\n",
    "    tf.keras.layers.Input(shape=(D,)),\n",
    "    tf.keras.layers.Dense(1, activation='sigmoid')\n",
    "])"
   ]
  },
  {
   "cell_type": "code",
   "execution_count": null,
   "metadata": {},
   "outputs": [],
   "source": [
    "\"\"\"\n",
    "Also can do like this\n",
    "\n",
    "model = tf.keras.models.Sequential()\n",
    "model.add(tf.keras.layers.Dense(1, input_shape=(D,), activation='sigmoid'))\n",
    "\"\"\""
   ]
  },
  {
   "cell_type": "code",
   "execution_count": 29,
   "metadata": {},
   "outputs": [],
   "source": [
    "model.compile(optimizer='adam',\n",
    "             loss='binary_crossentropy',\n",
    "             metrics=['accuracy'])"
   ]
  },
  {
   "cell_type": "code",
   "execution_count": 32,
   "metadata": {},
   "outputs": [
    {
     "name": "stdout",
     "output_type": "stream",
     "text": [
      "Epoch 1/100\n",
      "12/12 [==============================] - 0s 9ms/step - loss: 87.7780 - accuracy: 0.6273 - val_loss: 76.8211 - val_accuracy: 0.6277\n",
      "Epoch 2/100\n",
      "12/12 [==============================] - 0s 3ms/step - loss: 75.2923 - accuracy: 0.6273 - val_loss: 64.9182 - val_accuracy: 0.6277\n",
      "Epoch 3/100\n",
      "12/12 [==============================] - 0s 3ms/step - loss: 62.5429 - accuracy: 0.6273 - val_loss: 53.0994 - val_accuracy: 0.6277\n",
      "Epoch 4/100\n",
      "12/12 [==============================] - 0s 3ms/step - loss: 50.3172 - accuracy: 0.6273 - val_loss: 41.0477 - val_accuracy: 0.6277\n",
      "Epoch 5/100\n",
      "12/12 [==============================] - 0s 3ms/step - loss: 37.4562 - accuracy: 0.6273 - val_loss: 29.2480 - val_accuracy: 0.6277\n",
      "Epoch 6/100\n",
      "12/12 [==============================] - 0s 3ms/step - loss: 24.9708 - accuracy: 0.6168 - val_loss: 17.4552 - val_accuracy: 0.6170\n",
      "Epoch 7/100\n",
      "12/12 [==============================] - 0s 3ms/step - loss: 13.1121 - accuracy: 0.5459 - val_loss: 6.8101 - val_accuracy: 0.5213\n",
      "Epoch 8/100\n",
      "12/12 [==============================] - 0s 3ms/step - loss: 5.2803 - accuracy: 0.3885 - val_loss: 4.4298 - val_accuracy: 0.3936\n",
      "Epoch 9/100\n",
      "12/12 [==============================] - 0s 3ms/step - loss: 5.0929 - accuracy: 0.3333 - val_loss: 4.3072 - val_accuracy: 0.3989\n",
      "Epoch 10/100\n",
      "12/12 [==============================] - 0s 3ms/step - loss: 4.5116 - accuracy: 0.3622 - val_loss: 3.6922 - val_accuracy: 0.3989\n",
      "Epoch 11/100\n",
      "12/12 [==============================] - 0s 3ms/step - loss: 4.1143 - accuracy: 0.4042 - val_loss: 3.5105 - val_accuracy: 0.4149\n",
      "Epoch 12/100\n",
      "12/12 [==============================] - 0s 3ms/step - loss: 3.9164 - accuracy: 0.4121 - val_loss: 3.2858 - val_accuracy: 0.4574\n",
      "Epoch 13/100\n",
      "12/12 [==============================] - 0s 3ms/step - loss: 3.6981 - accuracy: 0.4068 - val_loss: 3.0991 - val_accuracy: 0.4574\n",
      "Epoch 14/100\n",
      "12/12 [==============================] - 0s 3ms/step - loss: 3.4919 - accuracy: 0.4199 - val_loss: 2.9152 - val_accuracy: 0.4628\n",
      "Epoch 15/100\n",
      "12/12 [==============================] - 0s 3ms/step - loss: 3.2833 - accuracy: 0.4409 - val_loss: 2.7365 - val_accuracy: 0.4894\n",
      "Epoch 16/100\n",
      "12/12 [==============================] - 0s 3ms/step - loss: 3.0909 - accuracy: 0.4488 - val_loss: 2.5649 - val_accuracy: 0.5000\n",
      "Epoch 17/100\n",
      "12/12 [==============================] - 0s 3ms/step - loss: 2.9097 - accuracy: 0.4619 - val_loss: 2.4017 - val_accuracy: 0.5213\n",
      "Epoch 18/100\n",
      "12/12 [==============================] - 0s 3ms/step - loss: 2.7462 - accuracy: 0.4751 - val_loss: 2.2544 - val_accuracy: 0.5372\n",
      "Epoch 19/100\n",
      "12/12 [==============================] - 0s 3ms/step - loss: 2.5822 - accuracy: 0.4698 - val_loss: 2.1027 - val_accuracy: 0.5372\n",
      "Epoch 20/100\n",
      "12/12 [==============================] - 0s 3ms/step - loss: 2.4021 - accuracy: 0.5039 - val_loss: 1.9593 - val_accuracy: 0.5851\n",
      "Epoch 21/100\n",
      "12/12 [==============================] - 0s 3ms/step - loss: 2.2630 - accuracy: 0.5276 - val_loss: 1.8254 - val_accuracy: 0.5957\n",
      "Epoch 22/100\n",
      "12/12 [==============================] - 0s 3ms/step - loss: 2.0948 - accuracy: 0.5354 - val_loss: 1.7132 - val_accuracy: 0.6064\n",
      "Epoch 23/100\n",
      "12/12 [==============================] - 0s 3ms/step - loss: 1.9619 - accuracy: 0.5407 - val_loss: 1.5982 - val_accuracy: 0.6223\n",
      "Epoch 24/100\n",
      "12/12 [==============================] - 0s 3ms/step - loss: 1.8263 - accuracy: 0.5512 - val_loss: 1.4880 - val_accuracy: 0.6383\n",
      "Epoch 25/100\n",
      "12/12 [==============================] - 0s 3ms/step - loss: 1.7059 - accuracy: 0.5696 - val_loss: 1.3875 - val_accuracy: 0.6489\n",
      "Epoch 26/100\n",
      "12/12 [==============================] - 0s 3ms/step - loss: 1.5892 - accuracy: 0.5801 - val_loss: 1.3148 - val_accuracy: 0.6543\n",
      "Epoch 27/100\n",
      "12/12 [==============================] - 0s 3ms/step - loss: 1.4932 - accuracy: 0.6089 - val_loss: 1.2142 - val_accuracy: 0.6649\n",
      "Epoch 28/100\n",
      "12/12 [==============================] - 0s 3ms/step - loss: 1.4081 - accuracy: 0.6457 - val_loss: 1.1438 - val_accuracy: 0.6702\n",
      "Epoch 29/100\n",
      "12/12 [==============================] - 0s 3ms/step - loss: 1.3179 - accuracy: 0.6378 - val_loss: 1.0721 - val_accuracy: 0.6809\n",
      "Epoch 30/100\n",
      "12/12 [==============================] - 0s 3ms/step - loss: 1.2477 - accuracy: 0.6745 - val_loss: 1.0088 - val_accuracy: 0.7128\n",
      "Epoch 31/100\n",
      "12/12 [==============================] - 0s 3ms/step - loss: 1.1853 - accuracy: 0.6719 - val_loss: 0.9702 - val_accuracy: 0.7021\n",
      "Epoch 32/100\n",
      "12/12 [==============================] - 0s 3ms/step - loss: 1.1171 - accuracy: 0.6850 - val_loss: 0.9078 - val_accuracy: 0.7394\n",
      "Epoch 33/100\n",
      "12/12 [==============================] - 0s 3ms/step - loss: 1.0710 - accuracy: 0.7218 - val_loss: 0.8810 - val_accuracy: 0.7340\n",
      "Epoch 34/100\n",
      "12/12 [==============================] - 0s 3ms/step - loss: 1.0104 - accuracy: 0.7218 - val_loss: 0.8417 - val_accuracy: 0.7500\n",
      "Epoch 35/100\n",
      "12/12 [==============================] - 0s 3ms/step - loss: 0.9782 - accuracy: 0.7428 - val_loss: 0.7937 - val_accuracy: 0.7713\n",
      "Epoch 36/100\n",
      "12/12 [==============================] - 0s 3ms/step - loss: 0.9275 - accuracy: 0.7454 - val_loss: 0.7796 - val_accuracy: 0.7713\n",
      "Epoch 37/100\n",
      "12/12 [==============================] - 0s 3ms/step - loss: 0.9019 - accuracy: 0.7638 - val_loss: 0.7347 - val_accuracy: 0.7819\n",
      "Epoch 38/100\n",
      "12/12 [==============================] - 0s 3ms/step - loss: 0.8582 - accuracy: 0.7585 - val_loss: 0.7414 - val_accuracy: 0.7766\n",
      "Epoch 39/100\n",
      "12/12 [==============================] - 0s 3ms/step - loss: 0.8195 - accuracy: 0.7612 - val_loss: 0.6798 - val_accuracy: 0.7979\n",
      "Epoch 40/100\n",
      "12/12 [==============================] - 0s 3ms/step - loss: 0.7845 - accuracy: 0.7848 - val_loss: 0.6582 - val_accuracy: 0.7979\n",
      "Epoch 41/100\n",
      "12/12 [==============================] - 0s 3ms/step - loss: 0.7557 - accuracy: 0.7874 - val_loss: 0.6388 - val_accuracy: 0.8032\n",
      "Epoch 42/100\n",
      "12/12 [==============================] - 0s 3ms/step - loss: 0.7314 - accuracy: 0.7900 - val_loss: 0.6220 - val_accuracy: 0.7979\n",
      "Epoch 43/100\n",
      "12/12 [==============================] - 0s 3ms/step - loss: 0.7031 - accuracy: 0.7953 - val_loss: 0.5953 - val_accuracy: 0.8245\n",
      "Epoch 44/100\n",
      "12/12 [==============================] - 0s 2ms/step - loss: 0.6921 - accuracy: 0.7953 - val_loss: 0.5889 - val_accuracy: 0.8138\n",
      "Epoch 45/100\n",
      "12/12 [==============================] - 0s 3ms/step - loss: 0.6585 - accuracy: 0.8005 - val_loss: 0.5587 - val_accuracy: 0.8245\n",
      "Epoch 46/100\n",
      "12/12 [==============================] - 0s 3ms/step - loss: 0.6322 - accuracy: 0.8110 - val_loss: 0.5477 - val_accuracy: 0.8245\n",
      "Epoch 47/100\n",
      "12/12 [==============================] - 0s 3ms/step - loss: 0.6167 - accuracy: 0.8189 - val_loss: 0.5274 - val_accuracy: 0.8245\n",
      "Epoch 48/100\n",
      "12/12 [==============================] - 0s 3ms/step - loss: 0.5971 - accuracy: 0.8163 - val_loss: 0.5208 - val_accuracy: 0.8245\n",
      "Epoch 49/100\n",
      "12/12 [==============================] - 0s 3ms/step - loss: 0.5765 - accuracy: 0.8163 - val_loss: 0.4989 - val_accuracy: 0.8298\n",
      "Epoch 50/100\n",
      "12/12 [==============================] - 0s 3ms/step - loss: 0.5699 - accuracy: 0.8320 - val_loss: 0.4837 - val_accuracy: 0.8351\n",
      "Epoch 51/100\n",
      "12/12 [==============================] - 0s 3ms/step - loss: 0.5420 - accuracy: 0.8215 - val_loss: 0.4790 - val_accuracy: 0.8404\n",
      "Epoch 52/100\n",
      "12/12 [==============================] - 0s 2ms/step - loss: 0.5318 - accuracy: 0.8294 - val_loss: 0.4595 - val_accuracy: 0.8351\n",
      "Epoch 53/100\n",
      "12/12 [==============================] - 0s 3ms/step - loss: 0.5156 - accuracy: 0.8294 - val_loss: 0.4577 - val_accuracy: 0.8457\n",
      "Epoch 54/100\n",
      "12/12 [==============================] - 0s 3ms/step - loss: 0.5083 - accuracy: 0.8373 - val_loss: 0.4356 - val_accuracy: 0.8404\n",
      "Epoch 55/100\n",
      "12/12 [==============================] - 0s 3ms/step - loss: 0.4911 - accuracy: 0.8346 - val_loss: 0.4291 - val_accuracy: 0.8404\n",
      "Epoch 56/100\n",
      "12/12 [==============================] - 0s 3ms/step - loss: 0.4872 - accuracy: 0.8425 - val_loss: 0.4154 - val_accuracy: 0.8457\n",
      "Epoch 57/100\n",
      "12/12 [==============================] - 0s 3ms/step - loss: 0.4718 - accuracy: 0.8583 - val_loss: 0.4087 - val_accuracy: 0.8564\n",
      "Epoch 58/100\n"
     ]
    },
    {
     "name": "stdout",
     "output_type": "stream",
     "text": [
      "12/12 [==============================] - 0s 3ms/step - loss: 0.4599 - accuracy: 0.8556 - val_loss: 0.4026 - val_accuracy: 0.8617\n",
      "Epoch 59/100\n",
      "12/12 [==============================] - 0s 3ms/step - loss: 0.4502 - accuracy: 0.8583 - val_loss: 0.3926 - val_accuracy: 0.8617\n",
      "Epoch 60/100\n",
      "12/12 [==============================] - 0s 3ms/step - loss: 0.4493 - accuracy: 0.8740 - val_loss: 0.3842 - val_accuracy: 0.8617\n",
      "Epoch 61/100\n",
      "12/12 [==============================] - 0s 3ms/step - loss: 0.4376 - accuracy: 0.8688 - val_loss: 0.3821 - val_accuracy: 0.8617\n",
      "Epoch 62/100\n",
      "12/12 [==============================] - 0s 3ms/step - loss: 0.4269 - accuracy: 0.8688 - val_loss: 0.3673 - val_accuracy: 0.8670\n",
      "Epoch 63/100\n",
      "12/12 [==============================] - 0s 3ms/step - loss: 0.4310 - accuracy: 0.8688 - val_loss: 0.3621 - val_accuracy: 0.8670\n",
      "Epoch 64/100\n",
      "12/12 [==============================] - 0s 2ms/step - loss: 0.4165 - accuracy: 0.8793 - val_loss: 0.3555 - val_accuracy: 0.8777\n",
      "Epoch 65/100\n",
      "12/12 [==============================] - 0s 3ms/step - loss: 0.4104 - accuracy: 0.8766 - val_loss: 0.3570 - val_accuracy: 0.8723\n",
      "Epoch 66/100\n",
      "12/12 [==============================] - 0s 3ms/step - loss: 0.4063 - accuracy: 0.8819 - val_loss: 0.3432 - val_accuracy: 0.8777\n",
      "Epoch 67/100\n",
      "12/12 [==============================] - 0s 8ms/step - loss: 0.3974 - accuracy: 0.8766 - val_loss: 0.3417 - val_accuracy: 0.8777\n",
      "Epoch 68/100\n",
      "12/12 [==============================] - 0s 3ms/step - loss: 0.3961 - accuracy: 0.8845 - val_loss: 0.3381 - val_accuracy: 0.8777\n",
      "Epoch 69/100\n",
      "12/12 [==============================] - 0s 3ms/step - loss: 0.3878 - accuracy: 0.8793 - val_loss: 0.3284 - val_accuracy: 0.8777\n",
      "Epoch 70/100\n",
      "12/12 [==============================] - 0s 2ms/step - loss: 0.3875 - accuracy: 0.8819 - val_loss: 0.3267 - val_accuracy: 0.8883\n",
      "Epoch 71/100\n",
      "12/12 [==============================] - 0s 3ms/step - loss: 0.3804 - accuracy: 0.8766 - val_loss: 0.3197 - val_accuracy: 0.8883\n",
      "Epoch 72/100\n",
      "12/12 [==============================] - 0s 3ms/step - loss: 0.3720 - accuracy: 0.8766 - val_loss: 0.3177 - val_accuracy: 0.8936\n",
      "Epoch 73/100\n",
      "12/12 [==============================] - 0s 3ms/step - loss: 0.3692 - accuracy: 0.8819 - val_loss: 0.3146 - val_accuracy: 0.8936\n",
      "Epoch 74/100\n",
      "12/12 [==============================] - 0s 3ms/step - loss: 0.3670 - accuracy: 0.8898 - val_loss: 0.3083 - val_accuracy: 0.8989\n",
      "Epoch 75/100\n",
      "12/12 [==============================] - 0s 3ms/step - loss: 0.3616 - accuracy: 0.8845 - val_loss: 0.3026 - val_accuracy: 0.8883\n",
      "Epoch 76/100\n",
      "12/12 [==============================] - 0s 3ms/step - loss: 0.3585 - accuracy: 0.8819 - val_loss: 0.3015 - val_accuracy: 0.8989\n",
      "Epoch 77/100\n",
      "12/12 [==============================] - 0s 3ms/step - loss: 0.3541 - accuracy: 0.8845 - val_loss: 0.2974 - val_accuracy: 0.9043\n",
      "Epoch 78/100\n",
      "12/12 [==============================] - 0s 3ms/step - loss: 0.3502 - accuracy: 0.8871 - val_loss: 0.2917 - val_accuracy: 0.8936\n",
      "Epoch 79/100\n",
      "12/12 [==============================] - 0s 3ms/step - loss: 0.3471 - accuracy: 0.8871 - val_loss: 0.2906 - val_accuracy: 0.9043\n",
      "Epoch 80/100\n",
      "12/12 [==============================] - 0s 3ms/step - loss: 0.3435 - accuracy: 0.8898 - val_loss: 0.2880 - val_accuracy: 0.9043\n",
      "Epoch 81/100\n",
      "12/12 [==============================] - 0s 3ms/step - loss: 0.3403 - accuracy: 0.8898 - val_loss: 0.2882 - val_accuracy: 0.9043\n",
      "Epoch 82/100\n",
      "12/12 [==============================] - 0s 3ms/step - loss: 0.3396 - accuracy: 0.8871 - val_loss: 0.2863 - val_accuracy: 0.9043\n",
      "Epoch 83/100\n",
      "12/12 [==============================] - 0s 3ms/step - loss: 0.3322 - accuracy: 0.8871 - val_loss: 0.2792 - val_accuracy: 0.8989\n",
      "Epoch 84/100\n",
      "12/12 [==============================] - 0s 3ms/step - loss: 0.3381 - accuracy: 0.8871 - val_loss: 0.2793 - val_accuracy: 0.9096\n",
      "Epoch 85/100\n",
      "12/12 [==============================] - 0s 3ms/step - loss: 0.3301 - accuracy: 0.8898 - val_loss: 0.2705 - val_accuracy: 0.9043\n",
      "Epoch 86/100\n",
      "12/12 [==============================] - 0s 3ms/step - loss: 0.3311 - accuracy: 0.8976 - val_loss: 0.2674 - val_accuracy: 0.8936\n",
      "Epoch 87/100\n",
      "12/12 [==============================] - 0s 3ms/step - loss: 0.3242 - accuracy: 0.8950 - val_loss: 0.2874 - val_accuracy: 0.8989\n",
      "Epoch 88/100\n",
      "12/12 [==============================] - 0s 3ms/step - loss: 0.3226 - accuracy: 0.8898 - val_loss: 0.2618 - val_accuracy: 0.9043\n",
      "Epoch 89/100\n",
      "12/12 [==============================] - 0s 2ms/step - loss: 0.3239 - accuracy: 0.8976 - val_loss: 0.2631 - val_accuracy: 0.9096\n",
      "Epoch 90/100\n",
      "12/12 [==============================] - 0s 3ms/step - loss: 0.3151 - accuracy: 0.8924 - val_loss: 0.2684 - val_accuracy: 0.9096\n",
      "Epoch 91/100\n",
      "12/12 [==============================] - 0s 3ms/step - loss: 0.3280 - accuracy: 0.8976 - val_loss: 0.2545 - val_accuracy: 0.9096\n",
      "Epoch 92/100\n",
      "12/12 [==============================] - 0s 3ms/step - loss: 0.3147 - accuracy: 0.8845 - val_loss: 0.2671 - val_accuracy: 0.9096\n",
      "Epoch 93/100\n",
      "12/12 [==============================] - 0s 3ms/step - loss: 0.3238 - accuracy: 0.9003 - val_loss: 0.2497 - val_accuracy: 0.9096\n",
      "Epoch 94/100\n",
      "12/12 [==============================] - 0s 3ms/step - loss: 0.3087 - accuracy: 0.9003 - val_loss: 0.2487 - val_accuracy: 0.9096\n",
      "Epoch 95/100\n",
      "12/12 [==============================] - 0s 3ms/step - loss: 0.3181 - accuracy: 0.8845 - val_loss: 0.2541 - val_accuracy: 0.9149\n",
      "Epoch 96/100\n",
      "12/12 [==============================] - 0s 3ms/step - loss: 0.2975 - accuracy: 0.8976 - val_loss: 0.2439 - val_accuracy: 0.9043\n",
      "Epoch 97/100\n",
      "12/12 [==============================] - 0s 3ms/step - loss: 0.3011 - accuracy: 0.9003 - val_loss: 0.2490 - val_accuracy: 0.9149\n",
      "Epoch 98/100\n",
      "12/12 [==============================] - 0s 3ms/step - loss: 0.2989 - accuracy: 0.8950 - val_loss: 0.2393 - val_accuracy: 0.9096\n",
      "Epoch 99/100\n",
      "12/12 [==============================] - 0s 3ms/step - loss: 0.2968 - accuracy: 0.8950 - val_loss: 0.2455 - val_accuracy: 0.9149\n",
      "Epoch 100/100\n",
      "12/12 [==============================] - 0s 3ms/step - loss: 0.2916 - accuracy: 0.8950 - val_loss: 0.2364 - val_accuracy: 0.9149\n"
     ]
    }
   ],
   "source": [
    "r = model.fit(X_train, y_train, validation_data=(X_test, y_test), epochs=100)"
   ]
  },
  {
   "cell_type": "code",
   "execution_count": 33,
   "metadata": {},
   "outputs": [
    {
     "name": "stdout",
     "output_type": "stream",
     "text": [
      "12/12 [==============================] - 0s 1ms/step - loss: 0.2878 - accuracy: 0.8976\n",
      "Train score: [0.2878226041793823, 0.8976377844810486]\n",
      "6/6 [==============================] - 0s 878us/step - loss: 0.2364 - accuracy: 0.9149\n",
      "Test score: [0.2363961637020111, 0.914893627166748]\n"
     ]
    }
   ],
   "source": [
    "print(\"Train score:\", model.evaluate(X_train, y_train))\n",
    "print(\"Test score:\", model.evaluate(X_test, y_test))"
   ]
  },
  {
   "cell_type": "code",
   "execution_count": null,
   "metadata": {},
   "outputs": [],
   "source": []
  },
  {
   "cell_type": "markdown",
   "metadata": {},
   "source": [
    "### ploting"
   ]
  },
  {
   "cell_type": "code",
   "execution_count": 35,
   "metadata": {},
   "outputs": [
    {
     "data": {
      "text/plain": [
       "<matplotlib.legend.Legend at 0x7fac7c0aebb0>"
      ]
     },
     "execution_count": 35,
     "metadata": {},
     "output_type": "execute_result"
    },
    {
     "data": {
      "image/png": "[encoded data removed]",
      "text/plain": [
       "<Figure size 432x288 with 1 Axes>"
      ]
     },
     "metadata": {
      "needs_background": "light"
     },
     "output_type": "display_data"
    }
   ],
   "source": [
    "import matplotlib.pyplot as plt\n",
    "plt.plot(r.history['loss'], label='loss')\n",
    "plt.plot(r.history['val_loss'], label='val_loss')\n",
    "plt.legend()"
   ]
  },
  {
   "cell_type": "code",
   "execution_count": 36,
   "metadata": {},
   "outputs": [
    {
     "data": {
      "text/plain": [
       "<matplotlib.legend.Legend at 0x7fac7c042be0>"
      ]
     },
     "execution_count": 36,
     "metadata": {},
     "output_type": "execute_result"
    },
    {
     "data": {
      "image/png": "[encoded data removed]",
      "text/plain": [
       "<Figure size 432x288 with 1 Axes>"
      ]
     },
     "metadata": {
      "needs_background": "light"
     },
     "output_type": "display_data"
    }
   ],
   "source": [
    "plt.plot(r.history['accuracy'], label='loss')\n",
    "plt.plot(r.history['val_accuracy'], label='val_loss')\n",
    "plt.legend()"
   ]
  },
  {
   "cell_type": "code",
   "execution_count": null,
   "metadata": {},
   "outputs": [],
   "source": []
  }
 ],
 "metadata": {
  "kernelspec": {
   "display_name": "Python 3",
   "language": "python",
   "name": "python3"
  },
  "language_info": {
   "codemirror_mode": {
    "name": "ipython",
    "version": 3
   },
   "file_extension": ".py",
   "mimetype": "text/x-python",
   "name": "python",
   "nbconvert_exporter": "python",
   "pygments_lexer": "ipython3",
   "version": "3.8.3"
  }
 },
 "nbformat": 4,
 "nbformat_minor": 4
}
