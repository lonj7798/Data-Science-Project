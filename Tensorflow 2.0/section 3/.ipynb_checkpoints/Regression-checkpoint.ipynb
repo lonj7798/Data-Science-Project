{
 "cells": [
  {
   "cell_type": "code",
   "execution_count": 2,
   "metadata": {},
   "outputs": [],
   "source": [
    "import pandas as pd\n",
    "import numpy as np\n",
    "import matplotlib.pyplot as plt\n",
    "\n",
    "import tensorflow as tf"
   ]
  },
  {
   "cell_type": "code",
   "execution_count": 11,
   "metadata": {},
   "outputs": [],
   "source": [
    "data = pd.read_csv(\"moore.csv\", header=None).values\n",
    "X = data[:, 0].reshape(-1,1) # make it 2-D array of size N x D where D=1\n",
    "Y = data[:,1]"
   ]
  },
  {
   "cell_type": "code",
   "execution_count": 12,
   "metadata": {},
   "outputs": [
    {
     "data": {
      "text/plain": [
       "<matplotlib.collections.PathCollection at 0x7f8359240d30>"
      ]
     },
     "execution_count": 12,
     "metadata": {},
     "output_type": "execute_result"
    },
    {
     "data": {
      "image/png": "[encoded data removed]",
      "text/plain": [
       "<Figure size 432x288 with 1 Axes>"
      ]
     },
     "metadata": {
      "needs_background": "light"
     },
     "output_type": "display_data"
    }
   ],
   "source": [
    "# Plot the data - it is exponential\n",
    "plt.scatter(X,Y)"
   ]
  },
  {
   "cell_type": "code",
   "execution_count": 14,
   "metadata": {},
   "outputs": [
    {
     "data": {
      "text/plain": [
       "<matplotlib.collections.PathCollection at 0x7f83591c1ee0>"
      ]
     },
     "execution_count": 14,
     "metadata": {},
     "output_type": "execute_result"
    },
    {
     "data": {
      "image/png": "[encoded data removed]",
      "text/plain": [
       "<Figure size 432x288 with 1 Axes>"
      ]
     },
     "metadata": {
      "needs_background": "light"
     },
     "output_type": "display_data"
    }
   ],
   "source": [
    "# Since we want a linear model. let's take the log\n",
    "Y = np.log(Y)\n",
    "plt.scatter(X, Y)\n",
    "\n",
    "# seems linear"
   ]
  },
  {
   "cell_type": "code",
   "execution_count": 15,
   "metadata": {},
   "outputs": [],
   "source": [
    "# Let's also center the X data so the values are not too large\n",
    "# We could scale it too but then we'd have a reverse the trahnsformation later\n",
    "X = X - X.mean()"
   ]
  },
  {
   "cell_type": "markdown",
   "metadata": {},
   "source": [
    "### model"
   ]
  },
  {
   "cell_type": "code",
   "execution_count": 17,
   "metadata": {},
   "outputs": [],
   "source": [
    "model = tf.keras.models.Sequential([\n",
    "    tf.keras.Input(shape=(1,)),\n",
    "    tf.keras.layers.Dense(1)\n",
    "])"
   ]
  },
  {
   "cell_type": "code",
   "execution_count": 20,
   "metadata": {},
   "outputs": [],
   "source": [
    "# SGD = Stocastic Gradient Descent\n",
    "# SGD(lerning rate, momentum)\n",
    "model.compile(optimizer=tf.keras.optimizers.SGD(0.001, 0.9),\n",
    "             loss=['mse'])"
   ]
  },
  {
   "cell_type": "code",
   "execution_count": 21,
   "metadata": {},
   "outputs": [],
   "source": [
    "# learning rate scheduler\n",
    "\n",
    "def schedule(epoch, lr):\n",
    "    if epoch >= 50:\n",
    "        return 0.0001\n",
    "    return 0.001"
   ]
  },
  {
   "cell_type": "code",
   "execution_count": 24,
   "metadata": {},
   "outputs": [],
   "source": [
    "scheduler = tf.keras.callbacks.LearningRateScheduler(schedule)"
   ]
  },
  {
   "cell_type": "code",
   "execution_count": 27,
   "metadata": {
    "scrolled": true
   },
   "outputs": [
    {
     "name": "stdout",
     "output_type": "stream",
     "text": [
      "Epoch 1/200\n",
      "6/6 [==============================] - 0s 1ms/step - loss: 663.1460\n",
      "Epoch 2/200\n",
      "6/6 [==============================] - 0s 986us/step - loss: 759.6365\n",
      "Epoch 3/200\n",
      "6/6 [==============================] - 0s 767us/step - loss: 553.2651\n",
      "Epoch 4/200\n",
      "6/6 [==============================] - 0s 998us/step - loss: 299.1683\n",
      "Epoch 5/200\n",
      "6/6 [==============================] - 0s 788us/step - loss: 461.2458\n",
      "Epoch 6/200\n",
      "6/6 [==============================] - 0s 1ms/step - loss: 227.0095\n",
      "Epoch 7/200\n",
      "6/6 [==============================] - 0s 1ms/step - loss: 172.7823\n",
      "Epoch 8/200\n",
      "6/6 [==============================] - 0s 1ms/step - loss: 85.5744\n",
      "Epoch 9/200\n",
      "6/6 [==============================] - 0s 896us/step - loss: 51.7994\n",
      "Epoch 10/200\n",
      "6/6 [==============================] - 0s 840us/step - loss: 32.3480\n",
      "Epoch 11/200\n",
      "6/6 [==============================] - 0s 764us/step - loss: 30.6207\n",
      "Epoch 12/200\n",
      "6/6 [==============================] - 0s 1ms/step - loss: 27.0599\n",
      "Epoch 13/200\n",
      "6/6 [==============================] - 0s 824us/step - loss: 14.4209\n",
      "Epoch 14/200\n",
      "6/6 [==============================] - 0s 1ms/step - loss: 9.9137\n",
      "Epoch 15/200\n",
      "6/6 [==============================] - 0s 863us/step - loss: 6.5696\n",
      "Epoch 16/200\n",
      "6/6 [==============================] - 0s 1ms/step - loss: 5.2808\n",
      "Epoch 17/200\n",
      "6/6 [==============================] - 0s 1ms/step - loss: 3.9127\n",
      "Epoch 18/200\n",
      "6/6 [==============================] - 0s 1ms/step - loss: 3.0480\n",
      "Epoch 19/200\n",
      "6/6 [==============================] - 0s 861us/step - loss: 3.4535\n",
      "Epoch 20/200\n",
      "6/6 [==============================] - 0s 931us/step - loss: 2.7233\n",
      "Epoch 21/200\n",
      "6/6 [==============================] - 0s 992us/step - loss: 2.6047\n",
      "Epoch 22/200\n",
      "6/6 [==============================] - 0s 931us/step - loss: 1.6790\n",
      "Epoch 23/200\n",
      "6/6 [==============================] - 0s 992us/step - loss: 1.2131\n",
      "Epoch 24/200\n",
      "6/6 [==============================] - 0s 945us/step - loss: 1.1770\n",
      "Epoch 25/200\n",
      "6/6 [==============================] - 0s 1ms/step - loss: 1.0819\n",
      "Epoch 26/200\n",
      "6/6 [==============================] - 0s 825us/step - loss: 1.0126\n",
      "Epoch 27/200\n",
      "6/6 [==============================] - 0s 1ms/step - loss: 1.0068\n",
      "Epoch 28/200\n",
      "6/6 [==============================] - 0s 745us/step - loss: 0.9917\n",
      "Epoch 29/200\n",
      "6/6 [==============================] - 0s 1ms/step - loss: 1.0281\n",
      "Epoch 30/200\n",
      "6/6 [==============================] - 0s 876us/step - loss: 1.1504\n",
      "Epoch 31/200\n",
      "6/6 [==============================] - 0s 1ms/step - loss: 1.0004\n",
      "Epoch 32/200\n",
      "6/6 [==============================] - 0s 809us/step - loss: 0.9146\n",
      "Epoch 33/200\n",
      "6/6 [==============================] - 0s 1ms/step - loss: 1.1457\n",
      "Epoch 34/200\n",
      "6/6 [==============================] - 0s 797us/step - loss: 1.3140\n",
      "Epoch 35/200\n",
      "6/6 [==============================] - 0s 1ms/step - loss: 1.1064\n",
      "Epoch 36/200\n",
      "6/6 [==============================] - 0s 779us/step - loss: 0.9139\n",
      "Epoch 37/200\n",
      "6/6 [==============================] - 0s 1ms/step - loss: 0.9812\n",
      "Epoch 38/200\n",
      "6/6 [==============================] - 0s 742us/step - loss: 0.9179\n",
      "Epoch 39/200\n",
      "6/6 [==============================] - 0s 1ms/step - loss: 1.0821\n",
      "Epoch 40/200\n",
      "6/6 [==============================] - 0s 748us/step - loss: 1.0288\n",
      "Epoch 41/200\n",
      "6/6 [==============================] - 0s 993us/step - loss: 0.8777\n",
      "Epoch 42/200\n",
      "6/6 [==============================] - 0s 830us/step - loss: 1.2109\n",
      "Epoch 43/200\n",
      "6/6 [==============================] - 0s 978us/step - loss: 1.1064\n",
      "Epoch 44/200\n",
      "6/6 [==============================] - 0s 828us/step - loss: 1.1077\n",
      "Epoch 45/200\n",
      "6/6 [==============================] - 0s 992us/step - loss: 0.9578\n",
      "Epoch 46/200\n",
      "6/6 [==============================] - 0s 784us/step - loss: 0.9647\n",
      "Epoch 47/200\n",
      "6/6 [==============================] - 0s 1ms/step - loss: 0.9332\n",
      "Epoch 48/200\n",
      "6/6 [==============================] - 0s 862us/step - loss: 0.8888\n",
      "Epoch 49/200\n",
      "6/6 [==============================] - 0s 1ms/step - loss: 0.9392\n",
      "Epoch 50/200\n",
      "6/6 [==============================] - 0s 988us/step - loss: 0.9891\n",
      "Epoch 51/200\n",
      "6/6 [==============================] - 0s 1ms/step - loss: 0.9543\n",
      "Epoch 52/200\n",
      "6/6 [==============================] - 0s 977us/step - loss: 0.8764\n",
      "Epoch 53/200\n",
      "6/6 [==============================] - 0s 1ms/step - loss: 0.8960\n",
      "Epoch 54/200\n",
      "6/6 [==============================] - 0s 1ms/step - loss: 0.8894\n",
      "Epoch 55/200\n",
      "6/6 [==============================] - 0s 888us/step - loss: 0.8740\n",
      "Epoch 56/200\n",
      "6/6 [==============================] - 0s 951us/step - loss: 0.8707\n",
      "Epoch 57/200\n",
      "6/6 [==============================] - 0s 867us/step - loss: 0.8806\n",
      "Epoch 58/200\n",
      "6/6 [==============================] - 0s 1ms/step - loss: 0.8787\n",
      "Epoch 59/200\n",
      "6/6 [==============================] - 0s 798us/step - loss: 0.8725\n",
      "Epoch 60/200\n",
      "6/6 [==============================] - 0s 1ms/step - loss: 0.8789\n",
      "Epoch 61/200\n",
      "6/6 [==============================] - 0s 807us/step - loss: 0.8739\n",
      "Epoch 62/200\n",
      "6/6 [==============================] - 0s 926us/step - loss: 0.8794\n",
      "Epoch 63/200\n",
      "6/6 [==============================] - 0s 918us/step - loss: 0.8770\n",
      "Epoch 64/200\n",
      "6/6 [==============================] - 0s 822us/step - loss: 0.8743\n",
      "Epoch 65/200\n",
      "6/6 [==============================] - 0s 1ms/step - loss: 0.8717\n",
      "Epoch 66/200\n",
      "6/6 [==============================] - 0s 853us/step - loss: 0.8730\n",
      "Epoch 67/200\n",
      "6/6 [==============================] - 0s 915us/step - loss: 0.8846\n",
      "Epoch 68/200\n",
      "6/6 [==============================] - 0s 983us/step - loss: 0.9092\n",
      "Epoch 69/200\n",
      "6/6 [==============================] - 0s 847us/step - loss: 0.8836\n",
      "Epoch 70/200\n",
      "6/6 [==============================] - 0s 1ms/step - loss: 0.8757\n",
      "Epoch 71/200\n",
      "6/6 [==============================] - 0s 790us/step - loss: 0.8839\n",
      "Epoch 72/200\n",
      "6/6 [==============================] - 0s 1ms/step - loss: 0.8762\n",
      "Epoch 73/200\n",
      "6/6 [==============================] - 0s 801us/step - loss: 0.8701\n",
      "Epoch 74/200\n",
      "6/6 [==============================] - 0s 1ms/step - loss: 0.8744\n",
      "Epoch 75/200\n",
      "6/6 [==============================] - 0s 810us/step - loss: 0.8756\n",
      "Epoch 76/200\n",
      "6/6 [==============================] - 0s 1ms/step - loss: 0.8711\n",
      "Epoch 77/200\n",
      "6/6 [==============================] - 0s 810us/step - loss: 0.8763\n",
      "Epoch 78/200\n",
      "6/6 [==============================] - 0s 1ms/step - loss: 0.8780\n",
      "Epoch 79/200\n",
      "6/6 [==============================] - 0s 947us/step - loss: 0.8740\n",
      "Epoch 80/200\n",
      "6/6 [==============================] - 0s 903us/step - loss: 0.8709\n",
      "Epoch 81/200\n",
      "6/6 [==============================] - 0s 856us/step - loss: 0.8727\n",
      "Epoch 82/200\n",
      "6/6 [==============================] - 0s 1ms/step - loss: 0.8736\n",
      "Epoch 83/200\n",
      "6/6 [==============================] - 0s 953us/step - loss: 0.8806\n",
      "Epoch 84/200\n",
      "6/6 [==============================] - 0s 1ms/step - loss: 0.8598\n",
      "Epoch 85/200\n",
      "6/6 [==============================] - 0s 801us/step - loss: 0.9705\n",
      "Epoch 86/200\n",
      "6/6 [==============================] - 0s 1ms/step - loss: 0.9985\n",
      "Epoch 87/200\n",
      "6/6 [==============================] - 0s 771us/step - loss: 0.8799\n",
      "Epoch 88/200\n",
      "6/6 [==============================] - 0s 1ms/step - loss: 0.8895\n",
      "Epoch 89/200\n",
      "6/6 [==============================] - 0s 779us/step - loss: 0.8641\n",
      "Epoch 90/200\n",
      "6/6 [==============================] - 0s 1ms/step - loss: 0.9116\n",
      "Epoch 91/200\n",
      "6/6 [==============================] - 0s 778us/step - loss: 0.8822\n",
      "Epoch 92/200\n",
      "6/6 [==============================] - 0s 976us/step - loss: 0.8717\n",
      "Epoch 93/200\n",
      "6/6 [==============================] - 0s 781us/step - loss: 0.8750\n",
      "Epoch 94/200\n",
      "6/6 [==============================] - 0s 893us/step - loss: 0.8689\n",
      "Epoch 95/200\n",
      "6/6 [==============================] - 0s 867us/step - loss: 0.8807\n",
      "Epoch 96/200\n",
      "6/6 [==============================] - 0s 898us/step - loss: 0.8846\n",
      "Epoch 97/200\n",
      "6/6 [==============================] - 0s 750us/step - loss: 0.8713\n",
      "Epoch 98/200\n",
      "6/6 [==============================] - 0s 868us/step - loss: 0.8731\n",
      "Epoch 99/200\n",
      "6/6 [==============================] - 0s 765us/step - loss: 0.9168\n",
      "Epoch 100/200\n",
      "6/6 [==============================] - 0s 1ms/step - loss: 0.8967\n",
      "Epoch 101/200\n",
      "6/6 [==============================] - 0s 751us/step - loss: 0.8697\n",
      "Epoch 102/200\n"
     ]
    },
    {
     "name": "stdout",
     "output_type": "stream",
     "text": [
      "6/6 [==============================] - 0s 965us/step - loss: 0.8676\n",
      "Epoch 103/200\n",
      "6/6 [==============================] - 0s 749us/step - loss: 0.8774\n",
      "Epoch 104/200\n",
      "6/6 [==============================] - 0s 830us/step - loss: 0.8762\n",
      "Epoch 105/200\n",
      "6/6 [==============================] - 0s 931us/step - loss: 0.8729\n",
      "Epoch 106/200\n",
      "6/6 [==============================] - 0s 959us/step - loss: 0.8933\n",
      "Epoch 107/200\n",
      "6/6 [==============================] - 0s 892us/step - loss: 0.8736\n",
      "Epoch 108/200\n",
      "6/6 [==============================] - 0s 1ms/step - loss: 0.8719\n",
      "Epoch 109/200\n",
      "6/6 [==============================] - 0s 775us/step - loss: 0.8782\n",
      "Epoch 110/200\n",
      "6/6 [==============================] - 0s 877us/step - loss: 0.8994\n",
      "Epoch 111/200\n",
      "6/6 [==============================] - 0s 912us/step - loss: 0.8916\n",
      "Epoch 112/200\n",
      "6/6 [==============================] - 0s 906us/step - loss: 0.8761\n",
      "Epoch 113/200\n",
      "6/6 [==============================] - 0s 816us/step - loss: 0.8889\n",
      "Epoch 114/200\n",
      "6/6 [==============================] - 0s 857us/step - loss: 0.8899\n",
      "Epoch 115/200\n",
      "6/6 [==============================] - 0s 1ms/step - loss: 0.8689\n",
      "Epoch 116/200\n",
      "6/6 [==============================] - 0s 771us/step - loss: 0.8976\n",
      "Epoch 117/200\n",
      "6/6 [==============================] - 0s 855us/step - loss: 0.8933\n",
      "Epoch 118/200\n",
      "6/6 [==============================] - 0s 745us/step - loss: 0.8757\n",
      "Epoch 119/200\n",
      "6/6 [==============================] - 0s 832us/step - loss: 0.8705\n",
      "Epoch 120/200\n",
      "6/6 [==============================] - 0s 778us/step - loss: 0.8717\n",
      "Epoch 121/200\n",
      "6/6 [==============================] - 0s 1ms/step - loss: 0.8708\n",
      "Epoch 122/200\n",
      "6/6 [==============================] - 0s 814us/step - loss: 0.8790\n",
      "Epoch 123/200\n",
      "6/6 [==============================] - 0s 782us/step - loss: 0.8835\n",
      "Epoch 124/200\n",
      "6/6 [==============================] - 0s 1ms/step - loss: 0.8679\n",
      "Epoch 125/200\n",
      "6/6 [==============================] - 0s 875us/step - loss: 0.8782\n",
      "Epoch 126/200\n",
      "6/6 [==============================] - 0s 1ms/step - loss: 0.8784\n",
      "Epoch 127/200\n",
      "6/6 [==============================] - 0s 773us/step - loss: 0.8726\n",
      "Epoch 128/200\n",
      "6/6 [==============================] - 0s 2ms/step - loss: 0.8711\n",
      "Epoch 129/200\n",
      "6/6 [==============================] - 0s 811us/step - loss: 0.8703\n",
      "Epoch 130/200\n",
      "6/6 [==============================] - 0s 1ms/step - loss: 0.8734\n",
      "Epoch 131/200\n",
      "6/6 [==============================] - 0s 790us/step - loss: 0.8745\n",
      "Epoch 132/200\n",
      "6/6 [==============================] - 0s 1ms/step - loss: 0.8697\n",
      "Epoch 133/200\n",
      "6/6 [==============================] - 0s 792us/step - loss: 0.8709\n",
      "Epoch 134/200\n",
      "6/6 [==============================] - 0s 1ms/step - loss: 0.8773\n",
      "Epoch 135/200\n",
      "6/6 [==============================] - 0s 777us/step - loss: 0.8881\n",
      "Epoch 136/200\n",
      "6/6 [==============================] - 0s 1ms/step - loss: 0.8751\n",
      "Epoch 137/200\n",
      "6/6 [==============================] - 0s 867us/step - loss: 0.8724\n",
      "Epoch 138/200\n",
      "6/6 [==============================] - 0s 1ms/step - loss: 0.8905\n",
      "Epoch 139/200\n",
      "6/6 [==============================] - 0s 1ms/step - loss: 0.8772\n",
      "Epoch 140/200\n",
      "6/6 [==============================] - 0s 909us/step - loss: 0.8709\n",
      "Epoch 141/200\n",
      "6/6 [==============================] - 0s 1ms/step - loss: 0.8765\n",
      "Epoch 142/200\n",
      "6/6 [==============================] - 0s 923us/step - loss: 0.8727\n",
      "Epoch 143/200\n",
      "6/6 [==============================] - 0s 1ms/step - loss: 0.8716\n",
      "Epoch 144/200\n",
      "6/6 [==============================] - 0s 816us/step - loss: 0.8726\n",
      "Epoch 145/200\n",
      "6/6 [==============================] - 0s 2ms/step - loss: 0.8751\n",
      "Epoch 146/200\n",
      "6/6 [==============================] - 0s 867us/step - loss: 0.8752\n",
      "Epoch 147/200\n",
      "6/6 [==============================] - 0s 918us/step - loss: 0.8759\n",
      "Epoch 148/200\n",
      "6/6 [==============================] - 0s 860us/step - loss: 0.8748\n",
      "Epoch 149/200\n",
      "6/6 [==============================] - 0s 885us/step - loss: 0.8694\n",
      "Epoch 150/200\n",
      "6/6 [==============================] - 0s 657us/step - loss: 0.8740\n",
      "Epoch 151/200\n",
      "6/6 [==============================] - 0s 1ms/step - loss: 0.8710\n",
      "Epoch 152/200\n",
      "6/6 [==============================] - 0s 782us/step - loss: 0.8745\n",
      "Epoch 153/200\n",
      "6/6 [==============================] - 0s 1ms/step - loss: 0.8720\n",
      "Epoch 154/200\n",
      "6/6 [==============================] - 0s 786us/step - loss: 0.8745\n",
      "Epoch 155/200\n",
      "6/6 [==============================] - 0s 1ms/step - loss: 0.8794\n",
      "Epoch 156/200\n",
      "6/6 [==============================] - 0s 775us/step - loss: 0.8816\n",
      "Epoch 157/200\n",
      "6/6 [==============================] - 0s 1ms/step - loss: 0.8695\n",
      "Epoch 158/200\n",
      "6/6 [==============================] - 0s 821us/step - loss: 0.8734\n",
      "Epoch 159/200\n",
      "6/6 [==============================] - 0s 1ms/step - loss: 0.8872\n",
      "Epoch 160/200\n",
      "6/6 [==============================] - 0s 742us/step - loss: 0.9300\n",
      "Epoch 161/200\n",
      "6/6 [==============================] - 0s 1ms/step - loss: 0.8747\n",
      "Epoch 162/200\n",
      "6/6 [==============================] - 0s 847us/step - loss: 0.9285\n",
      "Epoch 163/200\n",
      "6/6 [==============================] - 0s 1ms/step - loss: 0.9114\n",
      "Epoch 164/200\n",
      "6/6 [==============================] - 0s 798us/step - loss: 0.8687\n",
      "Epoch 165/200\n",
      "6/6 [==============================] - 0s 854us/step - loss: 0.8971\n",
      "Epoch 166/200\n",
      "6/6 [==============================] - 0s 800us/step - loss: 0.8986\n",
      "Epoch 167/200\n",
      "6/6 [==============================] - 0s 1ms/step - loss: 0.8777\n",
      "Epoch 168/200\n",
      "6/6 [==============================] - 0s 880us/step - loss: 0.8765\n",
      "Epoch 169/200\n",
      "6/6 [==============================] - 0s 1ms/step - loss: 0.8937\n",
      "Epoch 170/200\n",
      "6/6 [==============================] - 0s 779us/step - loss: 0.8879\n",
      "Epoch 171/200\n",
      "6/6 [==============================] - 0s 1ms/step - loss: 0.8888\n",
      "Epoch 172/200\n",
      "6/6 [==============================] - 0s 814us/step - loss: 0.9343\n",
      "Epoch 173/200\n",
      "6/6 [==============================] - 0s 897us/step - loss: 0.9093\n",
      "Epoch 174/200\n",
      "6/6 [==============================] - 0s 790us/step - loss: 0.8691\n",
      "Epoch 175/200\n",
      "6/6 [==============================] - 0s 895us/step - loss: 0.8752\n",
      "Epoch 176/200\n",
      "6/6 [==============================] - 0s 806us/step - loss: 0.8822\n",
      "Epoch 177/200\n",
      "6/6 [==============================] - 0s 918us/step - loss: 0.8743\n",
      "Epoch 178/200\n",
      "6/6 [==============================] - 0s 748us/step - loss: 0.8705\n",
      "Epoch 179/200\n",
      "6/6 [==============================] - 0s 1ms/step - loss: 0.8755\n",
      "Epoch 180/200\n",
      "6/6 [==============================] - 0s 881us/step - loss: 0.8714\n",
      "Epoch 181/200\n",
      "6/6 [==============================] - 0s 929us/step - loss: 0.8717\n",
      "Epoch 182/200\n",
      "6/6 [==============================] - 0s 794us/step - loss: 0.8799\n",
      "Epoch 183/200\n",
      "6/6 [==============================] - 0s 976us/step - loss: 0.8812\n",
      "Epoch 184/200\n",
      "6/6 [==============================] - 0s 807us/step - loss: 0.8726\n",
      "Epoch 185/200\n",
      "6/6 [==============================] - 0s 1ms/step - loss: 0.8751\n",
      "Epoch 186/200\n",
      "6/6 [==============================] - 0s 977us/step - loss: 0.8685\n",
      "Epoch 187/200\n",
      "6/6 [==============================] - 0s 1ms/step - loss: 0.8920\n",
      "Epoch 188/200\n",
      "6/6 [==============================] - 0s 1ms/step - loss: 0.8870\n",
      "Epoch 189/200\n",
      "6/6 [==============================] - 0s 865us/step - loss: 0.8744\n",
      "Epoch 190/200\n",
      "6/6 [==============================] - 0s 1ms/step - loss: 0.8743\n",
      "Epoch 191/200\n",
      "6/6 [==============================] - 0s 904us/step - loss: 0.8938\n",
      "Epoch 192/200\n",
      "6/6 [==============================] - 0s 1ms/step - loss: 0.9001\n",
      "Epoch 193/200\n",
      "6/6 [==============================] - 0s 748us/step - loss: 0.8920\n",
      "Epoch 194/200\n",
      "6/6 [==============================] - 0s 1ms/step - loss: 0.8727\n",
      "Epoch 195/200\n",
      "6/6 [==============================] - 0s 696us/step - loss: 0.9023\n",
      "Epoch 196/200\n",
      "6/6 [==============================] - 0s 1ms/step - loss: 0.9099\n",
      "Epoch 197/200\n",
      "6/6 [==============================] - 0s 860us/step - loss: 0.8856\n",
      "Epoch 198/200\n",
      "6/6 [==============================] - 0s 1ms/step - loss: 0.8726\n",
      "Epoch 199/200\n",
      "6/6 [==============================] - 0s 802us/step - loss: 0.8709\n",
      "Epoch 200/200\n",
      "6/6 [==============================] - 0s 933us/step - loss: 0.8705\n"
     ]
    }
   ],
   "source": [
    "# train the model\n",
    "r = model.fit(X, Y, epochs=200, callbacks=[scheduler])"
   ]
  },
  {
   "cell_type": "code",
   "execution_count": 29,
   "metadata": {},
   "outputs": [
    {
     "data": {
      "text/plain": [
       "[<matplotlib.lines.Line2D at 0x7f834c201e50>]"
      ]
     },
     "execution_count": 29,
     "metadata": {},
     "output_type": "execute_result"
    },
    {
     "data": {
      "image/png": "[encoded data removed]",
      "text/plain": [
       "<Figure size 432x288 with 1 Axes>"
      ]
     },
     "metadata": {
      "needs_background": "light"
     },
     "output_type": "display_data"
    }
   ],
   "source": [
    "plt.plot(r.history['loss'], label='loss')"
   ]
  },
  {
   "cell_type": "code",
   "execution_count": 31,
   "metadata": {},
   "outputs": [
    {
     "name": "stdout",
     "output_type": "stream",
     "text": [
      "[<tensorflow.python.keras.layers.core.Dense object at 0x7f835915b400>]\n",
      "[array([[0.34020847]], dtype=float32), array([17.767122], dtype=float32)]\n"
     ]
    }
   ],
   "source": [
    "print(model.layers)\n",
    "print(model.layers[0].get_weights())"
   ]
  },
  {
   "cell_type": "markdown",
   "metadata": {},
   "source": [
    "shape of weight: W.shape = (D,W)\\\n",
    "shape of b:      b.shape = (M,)\\\n",
    "\n",
    "D = inputsize\\\n",
    "M = output size"
   ]
  },
  {
   "cell_type": "code",
   "execution_count": null,
   "metadata": {},
   "outputs": [],
   "source": []
  },
  {
   "cell_type": "code",
   "execution_count": 32,
   "metadata": {},
   "outputs": [],
   "source": [
    "a = model.layers[0].get_weights()[0][0]"
   ]
  },
  {
   "cell_type": "markdown",
   "metadata": {},
   "source": [
    "original model for exponential grouth is:\n",
    "$$ C = A_0r^t $$\n",
    "$$ logC = logr * t + logA_0$$\n",
    "this is our linear equation:\n",
    "$$ \\hat{y} = ax + b $$\n",
    "\n",
    "where:\n",
    "$$ \\hat{y} = logC$$\n",
    "$$ a = log r$$\n",
    "$$ x = t $$\n",
    "$$ b = log A_0 $$\n",
    "\n",
    "We are interested in r, becuase that's the rate of growth. Given our regression weights, we know that:\n",
    "$$ a = 0.34188038 $$\n",
    "\n",
    "so that:\n",
    "$$ r = e^0.34188038 = 1.4076 $$"
   ]
  },
  {
   "cell_type": "code",
   "execution_count": 33,
   "metadata": {},
   "outputs": [
    {
     "name": "stdout",
     "output_type": "stream",
     "text": [
      "Time to double: [2.0374188]\n"
     ]
    }
   ],
   "source": [
    "print(\"Time to double:\", np.log(2) / a)"
   ]
  }
 ],
 "metadata": {
  "kernelspec": {
   "display_name": "Python 3",
   "language": "python",
   "name": "python3"
  },
  "language_info": {
   "codemirror_mode": {
    "name": "ipython",
    "version": 3
   },
   "file_extension": ".py",
   "mimetype": "text/x-python",
   "name": "python",
   "nbconvert_exporter": "python",
   "pygments_lexer": "ipython3",
   "version": "3.8.3"
  }
 },
 "nbformat": 4,
 "nbformat_minor": 4
}
