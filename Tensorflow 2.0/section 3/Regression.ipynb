{
 "cells": [
  {
   "cell_type": "code",
   "execution_count": 1,
   "metadata": {},
   "outputs": [],
   "source": [
    "import pandas as pd\n",
    "import numpy as np\n",
    "import matplotlib.pyplot as plt\n",
    "\n",
    "import tensorflow as tf"
   ]
  },
  {
   "cell_type": "code",
   "execution_count": 2,
   "metadata": {},
   "outputs": [],
   "source": [
    "data = pd.read_csv(\"moore.csv\", header=None).values\n",
    "X = data[:, 0].reshape(-1,1) # make it 2-D array of size N x D where D=1\n",
    "Y = data[:,1]"
   ]
  },
  {
   "cell_type": "code",
   "execution_count": 3,
   "metadata": {},
   "outputs": [
    {
     "data": {
      "text/plain": [
       "<matplotlib.collections.PathCollection at 0x7f9e2bbe8cd0>"
      ]
     },
     "execution_count": 3,
     "metadata": {},
     "output_type": "execute_result"
    },
    {
     "data": {
      "image/png": "[encoded data removed]",
      "text/plain": [
       "<Figure size 432x288 with 1 Axes>"
      ]
     },
     "metadata": {
      "needs_background": "light"
     },
     "output_type": "display_data"
    }
   ],
   "source": [
    "# Plot the data - it is exponential\n",
    "plt.scatter(X,Y)"
   ]
  },
  {
   "cell_type": "code",
   "execution_count": 4,
   "metadata": {},
   "outputs": [
    {
     "data": {
      "text/plain": [
       "<matplotlib.collections.PathCollection at 0x7f9e2bb852b0>"
      ]
     },
     "execution_count": 4,
     "metadata": {},
     "output_type": "execute_result"
    },
    {
     "data": {
      "image/png": "[encoded data removed]",
      "text/plain": [
       "<Figure size 432x288 with 1 Axes>"
      ]
     },
     "metadata": {
      "needs_background": "light"
     },
     "output_type": "display_data"
    }
   ],
   "source": [
    "# Since we want a linear model. let's take the log\n",
    "Y = np.log(Y)\n",
    "plt.scatter(X, Y)\n",
    "\n",
    "# seems linear"
   ]
  },
  {
   "cell_type": "code",
   "execution_count": 5,
   "metadata": {},
   "outputs": [],
   "source": [
    "# Let's also center the X data so the values are not too large\n",
    "# We could scale it too but then we'd have a reverse the trahnsformation later\n",
    "X = X - X.mean()"
   ]
  },
  {
   "cell_type": "markdown",
   "metadata": {},
   "source": [
    "### model"
   ]
  },
  {
   "cell_type": "code",
   "execution_count": 6,
   "metadata": {},
   "outputs": [],
   "source": [
    "model = tf.keras.models.Sequential([\n",
    "    tf.keras.Input(shape=(1,)),\n",
    "    tf.keras.layers.Dense(1)\n",
    "])"
   ]
  },
  {
   "cell_type": "code",
   "execution_count": 7,
   "metadata": {},
   "outputs": [],
   "source": [
    "# SGD = Stocastic Gradient Descent\n",
    "# SGD(lerning rate, momentum)\n",
    "model.compile(optimizer=tf.keras.optimizers.SGD(0.001, 0.9),\n",
    "             loss=['mse'])"
   ]
  },
  {
   "cell_type": "code",
   "execution_count": 8,
   "metadata": {},
   "outputs": [],
   "source": [
    "# learning rate scheduler\n",
    "\n",
    "def schedule(epoch, lr):\n",
    "    if epoch >= 50:\n",
    "        return 0.0001\n",
    "    return 0.001"
   ]
  },
  {
   "cell_type": "code",
   "execution_count": 9,
   "metadata": {},
   "outputs": [],
   "source": [
    "scheduler = tf.keras.callbacks.LearningRateScheduler(schedule)"
   ]
  },
  {
   "cell_type": "code",
   "execution_count": 10,
   "metadata": {
    "scrolled": true
   },
   "outputs": [
    {
     "name": "stdout",
     "output_type": "stream",
     "text": [
      "Epoch 1/200\n",
      "6/6 [==============================] - 0s 1ms/step - loss: 326.9295\n",
      "Epoch 2/200\n",
      "6/6 [==============================] - 0s 825us/step - loss: 282.3395\n",
      "Epoch 3/200\n",
      "6/6 [==============================] - 0s 932us/step - loss: 284.4012\n",
      "Epoch 4/200\n",
      "6/6 [==============================] - 0s 970us/step - loss: 236.7912\n",
      "Epoch 5/200\n",
      "6/6 [==============================] - 0s 721us/step - loss: 231.4675\n",
      "Epoch 6/200\n",
      "6/6 [==============================] - 0s 1ms/step - loss: 132.6086\n",
      "Epoch 7/200\n",
      "6/6 [==============================] - 0s 836us/step - loss: 94.5982\n",
      "Epoch 8/200\n",
      "6/6 [==============================] - 0s 1ms/step - loss: 78.0315\n",
      "Epoch 9/200\n",
      "6/6 [==============================] - 0s 880us/step - loss: 46.7747\n",
      "Epoch 10/200\n",
      "6/6 [==============================] - 0s 1ms/step - loss: 34.4345\n",
      "Epoch 11/200\n",
      "6/6 [==============================] - 0s 902us/step - loss: 25.9943\n",
      "Epoch 12/200\n",
      "6/6 [==============================] - 0s 1ms/step - loss: 25.1077\n",
      "Epoch 13/200\n",
      "6/6 [==============================] - 0s 888us/step - loss: 18.2070\n",
      "Epoch 14/200\n",
      "6/6 [==============================] - 0s 1ms/step - loss: 13.0109\n",
      "Epoch 15/200\n",
      "6/6 [==============================] - 0s 790us/step - loss: 10.9208\n",
      "Epoch 16/200\n",
      "6/6 [==============================] - 0s 856us/step - loss: 6.5822\n",
      "Epoch 17/200\n",
      "6/6 [==============================] - 0s 828us/step - loss: 5.2938\n",
      "Epoch 18/200\n",
      "6/6 [==============================] - 0s 882us/step - loss: 3.4077\n",
      "Epoch 19/200\n",
      "6/6 [==============================] - 0s 887us/step - loss: 2.7941\n",
      "Epoch 20/200\n",
      "6/6 [==============================] - 0s 959us/step - loss: 2.8407\n",
      "Epoch 21/200\n",
      "6/6 [==============================] - 0s 788us/step - loss: 2.1667\n",
      "Epoch 22/200\n",
      "6/6 [==============================] - 0s 917us/step - loss: 2.3696\n",
      "Epoch 23/200\n",
      "6/6 [==============================] - 0s 815us/step - loss: 1.9724\n",
      "Epoch 24/200\n",
      "6/6 [==============================] - 0s 972us/step - loss: 1.3031\n",
      "Epoch 25/200\n",
      "6/6 [==============================] - 0s 735us/step - loss: 1.3595\n",
      "Epoch 26/200\n",
      "6/6 [==============================] - 0s 801us/step - loss: 1.2635\n",
      "Epoch 27/200\n",
      "6/6 [==============================] - 0s 817us/step - loss: 1.1236\n",
      "Epoch 28/200\n",
      "6/6 [==============================] - 0s 857us/step - loss: 1.1342\n",
      "Epoch 29/200\n",
      "6/6 [==============================] - 0s 830us/step - loss: 1.2456\n",
      "Epoch 30/200\n",
      "6/6 [==============================] - 0s 867us/step - loss: 1.1403\n",
      "Epoch 31/200\n",
      "6/6 [==============================] - 0s 777us/step - loss: 0.9652\n",
      "Epoch 32/200\n",
      "6/6 [==============================] - 0s 1ms/step - loss: 0.8985\n",
      "Epoch 33/200\n",
      "6/6 [==============================] - 0s 796us/step - loss: 0.9082\n",
      "Epoch 34/200\n",
      "6/6 [==============================] - 0s 1ms/step - loss: 0.9305\n",
      "Epoch 35/200\n",
      "6/6 [==============================] - 0s 843us/step - loss: 0.9047\n",
      "Epoch 36/200\n",
      "6/6 [==============================] - 0s 1ms/step - loss: 1.3227\n",
      "Epoch 37/200\n",
      "6/6 [==============================] - 0s 837us/step - loss: 1.1039\n",
      "Epoch 38/200\n",
      "6/6 [==============================] - 0s 1ms/step - loss: 1.0919\n",
      "Epoch 39/200\n",
      "6/6 [==============================] - 0s 873us/step - loss: 1.1236\n",
      "Epoch 40/200\n",
      "6/6 [==============================] - 0s 1ms/step - loss: 1.5258\n",
      "Epoch 41/200\n",
      "6/6 [==============================] - 0s 824us/step - loss: 1.1128\n",
      "Epoch 42/200\n",
      "6/6 [==============================] - 0s 1ms/step - loss: 1.0504\n",
      "Epoch 43/200\n",
      "6/6 [==============================] - 0s 847us/step - loss: 0.9374\n",
      "Epoch 44/200\n",
      "6/6 [==============================] - 0s 1ms/step - loss: 0.9129\n",
      "Epoch 45/200\n",
      "6/6 [==============================] - 0s 749us/step - loss: 0.8988\n",
      "Epoch 46/200\n",
      "6/6 [==============================] - 0s 1ms/step - loss: 0.9036\n",
      "Epoch 47/200\n",
      "6/6 [==============================] - 0s 835us/step - loss: 0.9364\n",
      "Epoch 48/200\n",
      "6/6 [==============================] - 0s 992us/step - loss: 0.9271\n",
      "Epoch 49/200\n",
      "6/6 [==============================] - 0s 869us/step - loss: 0.9013\n",
      "Epoch 50/200\n",
      "6/6 [==============================] - 0s 922us/step - loss: 0.9143\n",
      "Epoch 51/200\n",
      "6/6 [==============================] - 0s 797us/step - loss: 1.2323\n",
      "Epoch 52/200\n",
      "6/6 [==============================] - 0s 961us/step - loss: 1.7771\n",
      "Epoch 53/200\n",
      "6/6 [==============================] - 0s 804us/step - loss: 1.0104\n",
      "Epoch 54/200\n",
      "6/6 [==============================] - 0s 1ms/step - loss: 1.0267\n",
      "Epoch 55/200\n",
      "6/6 [==============================] - 0s 827us/step - loss: 1.0371\n",
      "Epoch 56/200\n",
      "6/6 [==============================] - 0s 806us/step - loss: 0.8693\n",
      "Epoch 57/200\n",
      "6/6 [==============================] - 0s 771us/step - loss: 0.9571\n",
      "Epoch 58/200\n",
      "6/6 [==============================] - 0s 819us/step - loss: 0.9274\n",
      "Epoch 59/200\n",
      "6/6 [==============================] - 0s 1ms/step - loss: 0.9039\n",
      "Epoch 60/200\n",
      "6/6 [==============================] - 0s 806us/step - loss: 0.9606\n",
      "Epoch 61/200\n",
      "6/6 [==============================] - 0s 1ms/step - loss: 0.8802\n",
      "Epoch 62/200\n",
      "6/6 [==============================] - 0s 932us/step - loss: 0.9155\n",
      "Epoch 63/200\n",
      "6/6 [==============================] - 0s 949us/step - loss: 0.9209\n",
      "Epoch 64/200\n",
      "6/6 [==============================] - 0s 918us/step - loss: 0.8906\n",
      "Epoch 65/200\n",
      "6/6 [==============================] - 0s 865us/step - loss: 0.8713\n",
      "Epoch 66/200\n",
      "6/6 [==============================] - 0s 744us/step - loss: 0.8715\n",
      "Epoch 67/200\n",
      "6/6 [==============================] - 0s 1ms/step - loss: 0.8711\n",
      "Epoch 68/200\n",
      "6/6 [==============================] - 0s 878us/step - loss: 0.8720\n",
      "Epoch 69/200\n",
      "6/6 [==============================] - 0s 880us/step - loss: 0.8973\n",
      "Epoch 70/200\n",
      "6/6 [==============================] - 0s 773us/step - loss: 0.8696\n",
      "Epoch 71/200\n",
      "6/6 [==============================] - 0s 848us/step - loss: 0.8856\n",
      "Epoch 72/200\n",
      "6/6 [==============================] - 0s 789us/step - loss: 0.8823\n",
      "Epoch 73/200\n",
      "6/6 [==============================] - 0s 856us/step - loss: 0.8731\n",
      "Epoch 74/200\n",
      "6/6 [==============================] - 0s 777us/step - loss: 0.8759\n",
      "Epoch 75/200\n",
      "6/6 [==============================] - 0s 882us/step - loss: 0.8755\n",
      "Epoch 76/200\n",
      "6/6 [==============================] - 0s 839us/step - loss: 0.8687\n",
      "Epoch 77/200\n",
      "6/6 [==============================] - 0s 875us/step - loss: 0.8720\n",
      "Epoch 78/200\n",
      "6/6 [==============================] - 0s 1ms/step - loss: 0.8849\n",
      "Epoch 79/200\n",
      "6/6 [==============================] - 0s 839us/step - loss: 0.8950\n",
      "Epoch 80/200\n",
      "6/6 [==============================] - 0s 946us/step - loss: 0.8790\n",
      "Epoch 81/200\n",
      "6/6 [==============================] - 0s 847us/step - loss: 0.8721\n",
      "Epoch 82/200\n",
      "6/6 [==============================] - 0s 1ms/step - loss: 0.8775\n",
      "Epoch 83/200\n",
      "6/6 [==============================] - 0s 952us/step - loss: 0.8875\n",
      "Epoch 84/200\n",
      "6/6 [==============================] - 0s 1ms/step - loss: 0.8758\n",
      "Epoch 85/200\n",
      "6/6 [==============================] - 0s 919us/step - loss: 0.8737\n",
      "Epoch 86/200\n",
      "6/6 [==============================] - 0s 1ms/step - loss: 0.8719\n",
      "Epoch 87/200\n",
      "6/6 [==============================] - 0s 879us/step - loss: 0.8835\n",
      "Epoch 88/200\n",
      "6/6 [==============================] - 0s 2ms/step - loss: 0.9270\n",
      "Epoch 89/200\n",
      "6/6 [==============================] - 0s 867us/step - loss: 0.8736\n",
      "Epoch 90/200\n",
      "6/6 [==============================] - 0s 1ms/step - loss: 0.8745\n",
      "Epoch 91/200\n",
      "6/6 [==============================] - 0s 822us/step - loss: 0.8714\n",
      "Epoch 92/200\n",
      "6/6 [==============================] - 0s 1ms/step - loss: 0.8700\n",
      "Epoch 93/200\n",
      "6/6 [==============================] - 0s 874us/step - loss: 0.8840\n",
      "Epoch 94/200\n",
      "6/6 [==============================] - 0s 885us/step - loss: 0.8779\n",
      "Epoch 95/200\n",
      "6/6 [==============================] - 0s 801us/step - loss: 0.8719\n",
      "Epoch 96/200\n",
      "6/6 [==============================] - 0s 1ms/step - loss: 0.8764\n",
      "Epoch 97/200\n",
      "6/6 [==============================] - 0s 791us/step - loss: 0.8794\n",
      "Epoch 98/200\n",
      "6/6 [==============================] - 0s 1ms/step - loss: 0.8710\n",
      "Epoch 99/200\n",
      "6/6 [==============================] - 0s 864us/step - loss: 0.8724\n",
      "Epoch 100/200\n",
      "6/6 [==============================] - 0s 1ms/step - loss: 0.8748\n",
      "Epoch 101/200\n",
      "6/6 [==============================] - 0s 815us/step - loss: 0.8769\n",
      "Epoch 102/200\n"
     ]
    },
    {
     "name": "stdout",
     "output_type": "stream",
     "text": [
      "6/6 [==============================] - 0s 989us/step - loss: 0.8732\n",
      "Epoch 103/200\n",
      "6/6 [==============================] - 0s 868us/step - loss: 0.8701\n",
      "Epoch 104/200\n",
      "6/6 [==============================] - 0s 1ms/step - loss: 0.8719\n",
      "Epoch 105/200\n",
      "6/6 [==============================] - 0s 766us/step - loss: 0.8710\n",
      "Epoch 106/200\n",
      "6/6 [==============================] - 0s 966us/step - loss: 0.8725\n",
      "Epoch 107/200\n",
      "6/6 [==============================] - 0s 760us/step - loss: 0.8714\n",
      "Epoch 108/200\n",
      "6/6 [==============================] - 0s 1ms/step - loss: 0.8720\n",
      "Epoch 109/200\n",
      "6/6 [==============================] - 0s 808us/step - loss: 0.8881\n",
      "Epoch 110/200\n",
      "6/6 [==============================] - 0s 791us/step - loss: 0.8837\n",
      "Epoch 111/200\n",
      "6/6 [==============================] - 0s 800us/step - loss: 0.8716\n",
      "Epoch 112/200\n",
      "6/6 [==============================] - 0s 814us/step - loss: 0.8939\n",
      "Epoch 113/200\n",
      "6/6 [==============================] - 0s 922us/step - loss: 0.9030\n",
      "Epoch 114/200\n",
      "6/6 [==============================] - 0s 894us/step - loss: 0.8823\n",
      "Epoch 115/200\n",
      "6/6 [==============================] - 0s 1ms/step - loss: 0.8715\n",
      "Epoch 116/200\n",
      "6/6 [==============================] - 0s 881us/step - loss: 0.8711\n",
      "Epoch 117/200\n",
      "6/6 [==============================] - 0s 1ms/step - loss: 0.8710\n",
      "Epoch 118/200\n",
      "6/6 [==============================] - 0s 846us/step - loss: 0.8827\n",
      "Epoch 119/200\n",
      "6/6 [==============================] - 0s 942us/step - loss: 0.8807\n",
      "Epoch 120/200\n",
      "6/6 [==============================] - 0s 925us/step - loss: 0.8851\n",
      "Epoch 121/200\n",
      "6/6 [==============================] - 0s 935us/step - loss: 0.9013\n",
      "Epoch 122/200\n",
      "6/6 [==============================] - 0s 899us/step - loss: 0.8747\n",
      "Epoch 123/200\n",
      "6/6 [==============================] - 0s 1ms/step - loss: 0.8726\n",
      "Epoch 124/200\n",
      "6/6 [==============================] - 0s 901us/step - loss: 0.8859\n",
      "Epoch 125/200\n",
      "6/6 [==============================] - 0s 948us/step - loss: 0.8896\n",
      "Epoch 126/200\n",
      "6/6 [==============================] - 0s 802us/step - loss: 0.8798\n",
      "Epoch 127/200\n",
      "6/6 [==============================] - 0s 806us/step - loss: 0.8958\n",
      "Epoch 128/200\n",
      "6/6 [==============================] - 0s 893us/step - loss: 0.8982\n",
      "Epoch 129/200\n",
      "6/6 [==============================] - 0s 906us/step - loss: 0.8763\n",
      "Epoch 130/200\n",
      "6/6 [==============================] - 0s 867us/step - loss: 0.8802\n",
      "Epoch 131/200\n",
      "6/6 [==============================] - 0s 939us/step - loss: 0.9041\n",
      "Epoch 132/200\n",
      "6/6 [==============================] - 0s 915us/step - loss: 0.8851\n",
      "Epoch 133/200\n",
      "6/6 [==============================] - 0s 866us/step - loss: 0.8690\n",
      "Epoch 134/200\n",
      "6/6 [==============================] - 0s 835us/step - loss: 0.8714\n",
      "Epoch 135/200\n",
      "6/6 [==============================] - 0s 796us/step - loss: 0.8736\n",
      "Epoch 136/200\n",
      "6/6 [==============================] - 0s 825us/step - loss: 0.8701\n",
      "Epoch 137/200\n",
      "6/6 [==============================] - 0s 859us/step - loss: 0.8745\n",
      "Epoch 138/200\n",
      "6/6 [==============================] - 0s 1ms/step - loss: 0.8737\n",
      "Epoch 139/200\n",
      "6/6 [==============================] - 0s 886us/step - loss: 0.8702\n",
      "Epoch 140/200\n",
      "6/6 [==============================] - 0s 878us/step - loss: 0.8919\n",
      "Epoch 141/200\n",
      "6/6 [==============================] - 0s 970us/step - loss: 0.9108\n",
      "Epoch 142/200\n",
      "6/6 [==============================] - 0s 864us/step - loss: 0.8723\n",
      "Epoch 143/200\n",
      "6/6 [==============================] - 0s 852us/step - loss: 0.8875\n",
      "Epoch 144/200\n",
      "6/6 [==============================] - 0s 890us/step - loss: 0.8829\n",
      "Epoch 145/200\n",
      "6/6 [==============================] - 0s 896us/step - loss: 0.8839\n",
      "Epoch 146/200\n",
      "6/6 [==============================] - 0s 809us/step - loss: 0.8835\n",
      "Epoch 147/200\n",
      "6/6 [==============================] - 0s 904us/step - loss: 0.8753\n",
      "Epoch 148/200\n",
      "6/6 [==============================] - 0s 932us/step - loss: 0.8878\n",
      "Epoch 149/200\n",
      "6/6 [==============================] - 0s 950us/step - loss: 0.8873\n",
      "Epoch 150/200\n",
      "6/6 [==============================] - 0s 1ms/step - loss: 0.8751\n",
      "Epoch 151/200\n",
      "6/6 [==============================] - 0s 835us/step - loss: 0.8715\n",
      "Epoch 152/200\n",
      "6/6 [==============================] - 0s 1ms/step - loss: 0.8709\n",
      "Epoch 153/200\n",
      "6/6 [==============================] - 0s 856us/step - loss: 0.9019\n",
      "Epoch 154/200\n",
      "6/6 [==============================] - 0s 1ms/step - loss: 0.9139\n",
      "Epoch 155/200\n",
      "6/6 [==============================] - 0s 1ms/step - loss: 0.8740\n",
      "Epoch 156/200\n",
      "6/6 [==============================] - 0s 924us/step - loss: 0.9424\n",
      "Epoch 157/200\n",
      "6/6 [==============================] - 0s 989us/step - loss: 0.8796\n",
      "Epoch 158/200\n",
      "6/6 [==============================] - 0s 1ms/step - loss: 0.9090\n",
      "Epoch 159/200\n",
      "6/6 [==============================] - 0s 1ms/step - loss: 0.8920\n",
      "Epoch 160/200\n",
      "6/6 [==============================] - 0s 880us/step - loss: 0.8664\n",
      "Epoch 161/200\n",
      "6/6 [==============================] - 0s 1ms/step - loss: 0.8825\n",
      "Epoch 162/200\n",
      "6/6 [==============================] - 0s 831us/step - loss: 0.8760\n",
      "Epoch 163/200\n",
      "6/6 [==============================] - 0s 1ms/step - loss: 0.8719\n",
      "Epoch 164/200\n",
      "6/6 [==============================] - 0s 831us/step - loss: 0.8868\n",
      "Epoch 165/200\n",
      "6/6 [==============================] - 0s 1ms/step - loss: 0.9155\n",
      "Epoch 166/200\n",
      "6/6 [==============================] - 0s 766us/step - loss: 0.8740\n",
      "Epoch 167/200\n",
      "6/6 [==============================] - 0s 912us/step - loss: 0.8917\n",
      "Epoch 168/200\n",
      "6/6 [==============================] - 0s 671us/step - loss: 0.8911\n",
      "Epoch 169/200\n",
      "6/6 [==============================] - 0s 878us/step - loss: 0.8764\n",
      "Epoch 170/200\n",
      "6/6 [==============================] - 0s 804us/step - loss: 0.8959\n",
      "Epoch 171/200\n",
      "6/6 [==============================] - 0s 1ms/step - loss: 0.8740\n",
      "Epoch 172/200\n",
      "6/6 [==============================] - 0s 803us/step - loss: 0.8774\n",
      "Epoch 173/200\n",
      "6/6 [==============================] - 0s 989us/step - loss: 0.8849\n",
      "Epoch 174/200\n",
      "6/6 [==============================] - 0s 909us/step - loss: 0.8720\n",
      "Epoch 175/200\n",
      "6/6 [==============================] - 0s 975us/step - loss: 0.8711\n",
      "Epoch 176/200\n",
      "6/6 [==============================] - 0s 1ms/step - loss: 0.8706\n",
      "Epoch 177/200\n",
      "6/6 [==============================] - 0s 835us/step - loss: 0.8709\n",
      "Epoch 178/200\n",
      "6/6 [==============================] - 0s 1ms/step - loss: 0.8742\n",
      "Epoch 179/200\n",
      "6/6 [==============================] - 0s 941us/step - loss: 0.8709\n",
      "Epoch 180/200\n",
      "6/6 [==============================] - 0s 1ms/step - loss: 0.8786\n",
      "Epoch 181/200\n",
      "6/6 [==============================] - 0s 917us/step - loss: 0.8791\n",
      "Epoch 182/200\n",
      "6/6 [==============================] - 0s 1ms/step - loss: 0.8722\n",
      "Epoch 183/200\n",
      "6/6 [==============================] - 0s 846us/step - loss: 0.8987\n",
      "Epoch 184/200\n",
      "6/6 [==============================] - 0s 830us/step - loss: 0.8944\n",
      "Epoch 185/200\n",
      "6/6 [==============================] - 0s 819us/step - loss: 0.8808\n",
      "Epoch 186/200\n",
      "6/6 [==============================] - 0s 922us/step - loss: 0.8918\n",
      "Epoch 187/200\n",
      "6/6 [==============================] - 0s 816us/step - loss: 0.8844\n",
      "Epoch 188/200\n",
      "6/6 [==============================] - 0s 932us/step - loss: 0.8787\n",
      "Epoch 189/200\n",
      "6/6 [==============================] - 0s 798us/step - loss: 0.8750\n",
      "Epoch 190/200\n",
      "6/6 [==============================] - 0s 822us/step - loss: 0.8720\n",
      "Epoch 191/200\n",
      "6/6 [==============================] - 0s 815us/step - loss: 0.8785\n",
      "Epoch 192/200\n",
      "6/6 [==============================] - 0s 908us/step - loss: 0.8763\n",
      "Epoch 193/200\n",
      "6/6 [==============================] - 0s 743us/step - loss: 0.8922\n",
      "Epoch 194/200\n",
      "6/6 [==============================] - 0s 776us/step - loss: 0.8784\n",
      "Epoch 195/200\n",
      "6/6 [==============================] - 0s 834us/step - loss: 0.8762\n",
      "Epoch 196/200\n",
      "6/6 [==============================] - 0s 865us/step - loss: 0.8753\n",
      "Epoch 197/200\n",
      "6/6 [==============================] - 0s 784us/step - loss: 0.8713\n",
      "Epoch 198/200\n",
      "6/6 [==============================] - 0s 883us/step - loss: 0.8719\n",
      "Epoch 199/200\n",
      "6/6 [==============================] - 0s 753us/step - loss: 0.8705\n",
      "Epoch 200/200\n",
      "6/6 [==============================] - 0s 889us/step - loss: 0.9020\n"
     ]
    }
   ],
   "source": [
    "# train the model\n",
    "r = model.fit(X, Y, epochs=200, callbacks=[scheduler])"
   ]
  },
  {
   "cell_type": "code",
   "execution_count": 11,
   "metadata": {},
   "outputs": [
    {
     "data": {
      "text/plain": [
       "[<matplotlib.lines.Line2D at 0x7f9dc47988e0>]"
      ]
     },
     "execution_count": 11,
     "metadata": {},
     "output_type": "execute_result"
    },
    {
     "data": {
      "image/png": "[encoded data removed]",
      "text/plain": [
       "<Figure size 432x288 with 1 Axes>"
      ]
     },
     "metadata": {
      "needs_background": "light"
     },
     "output_type": "display_data"
    }
   ],
   "source": [
    "plt.plot(r.history['loss'], label='loss')"
   ]
  },
  {
   "cell_type": "code",
   "execution_count": 12,
   "metadata": {},
   "outputs": [
    {
     "name": "stdout",
     "output_type": "stream",
     "text": [
      "[<tensorflow.python.keras.layers.core.Dense object at 0x7f9e2bb2c130>]\n",
      "[array([[0.3229882]], dtype=float32), array([17.764952], dtype=float32)]\n"
     ]
    }
   ],
   "source": [
    "print(model.layers)\n",
    "print(model.layers[0].get_weights())"
   ]
  },
  {
   "cell_type": "markdown",
   "metadata": {},
   "source": [
    "shape of weight: W.shape = (D,W)\\\n",
    "shape of b:      b.shape = (M,)\\\n",
    "\n",
    "D = inputsize\\\n",
    "M = output size"
   ]
  },
  {
   "cell_type": "code",
   "execution_count": null,
   "metadata": {},
   "outputs": [],
   "source": []
  },
  {
   "cell_type": "code",
   "execution_count": 13,
   "metadata": {},
   "outputs": [],
   "source": [
    "a = model.layers[0].get_weights()[0][0]"
   ]
  },
  {
   "cell_type": "markdown",
   "metadata": {},
   "source": [
    "original model for exponential grouth is:\n",
    "$$ C = A_0r^t $$\n",
    "$$ logC = logr * t + logA_0$$\n",
    "this is our linear equation:\n",
    "$$ \\hat{y} = ax + b $$\n",
    "\n",
    "where:\n",
    "$$ \\hat{y} = logC$$\n",
    "$$ a = log r$$\n",
    "$$ x = t $$\n",
    "$$ b = log A_0 $$\n",
    "\n",
    "We are interested in r, becuase that's the rate of growth. Given our regression weights, we know that:\n",
    "$$ a = 0.34188038 $$\n",
    "\n",
    "so that:\n",
    "$$ r = e^0.34188038 = 1.4076 $$"
   ]
  },
  {
   "cell_type": "code",
   "execution_count": 14,
   "metadata": {},
   "outputs": [
    {
     "name": "stdout",
     "output_type": "stream",
     "text": [
      "Time to double: [2.1460447]\n"
     ]
    }
   ],
   "source": [
    "print(\"Time to double:\", np.log(2) / a)"
   ]
  },
  {
   "cell_type": "markdown",
   "metadata": {},
   "source": [
    "### Making Predictions"
   ]
  },
  {
   "cell_type": "code",
   "execution_count": 15,
   "metadata": {},
   "outputs": [
    {
     "data": {
      "text/plain": [
       "[<matplotlib.lines.Line2D at 0x7f9dc470e6d0>]"
      ]
     },
     "execution_count": 15,
     "metadata": {},
     "output_type": "execute_result"
    },
    {
     "data": {
      "image/png": "[encoded data removed]",
      "text/plain": [
       "<Figure size 432x288 with 1 Axes>"
      ]
     },
     "metadata": {
      "needs_background": "light"
     },
     "output_type": "display_data"
    }
   ],
   "source": [
    "Yhat = model.predict(X).flatten()\n",
    "plt.scatter(X,Y)\n",
    "plt.plot(X, Yhat)"
   ]
  },
  {
   "cell_type": "code",
   "execution_count": 17,
   "metadata": {},
   "outputs": [
    {
     "data": {
      "text/plain": [
       "True"
      ]
     },
     "execution_count": 17,
     "metadata": {},
     "output_type": "execute_result"
    }
   ],
   "source": [
    "# Manual calculations\n",
    "\n",
    "# Get the weights\n",
    "w, b = model.layers[0].get_weights()\n",
    "\n",
    "# Reshape X becuase we flattened it again earlier\n",
    "X = X.reshape(-1,1)\n",
    "\n",
    "# (N x 1) x (1 x 1)+{1} --> (N ㅌ 1)\n",
    "Yhat2 = (X.dot(w) + b).flatten()\n",
    "\n",
    "# Don't use == for floating points\n",
    "np.allclose(Yhat, Yhat2)"
   ]
  },
  {
   "cell_type": "code",
   "execution_count": null,
   "metadata": {},
   "outputs": [],
   "source": []
  }
 ],
 "metadata": {
  "kernelspec": {
   "display_name": "Python 3",
   "language": "python",
   "name": "python3"
  },
  "language_info": {
   "codemirror_mode": {
    "name": "ipython",
    "version": 3
   },
   "file_extension": ".py",
   "mimetype": "text/x-python",
   "name": "python",
   "nbconvert_exporter": "python",
   "pygments_lexer": "ipython3",
   "version": "3.8.3"
  }
 },
 "nbformat": 4,
 "nbformat_minor": 4
}
