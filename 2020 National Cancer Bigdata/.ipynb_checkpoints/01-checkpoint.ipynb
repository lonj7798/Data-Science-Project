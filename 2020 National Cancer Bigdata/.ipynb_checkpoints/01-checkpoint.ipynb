{
 "cells": [
  {
   "cell_type": "code",
   "execution_count": 1,
   "metadata": {},
   "outputs": [],
   "source": [
    "import numpy as np\n",
    "import pandas as pd\n",
    "\n",
    "import matplotlib as mpl\n",
    "import matplotlib.pyplot as plt\n",
    "import seaborn as sns\n",
    "%matplotlib inline"
   ]
  },
  {
   "cell_type": "code",
   "execution_count": 2,
   "metadata": {},
   "outputs": [
    {
     "data": {
      "text/html": [
       "<div>\n",
       "<style scoped>\n",
       "    .dataframe tbody tr th:only-of-type {\n",
       "        vertical-align: middle;\n",
       "    }\n",
       "\n",
       "    .dataframe tbody tr th {\n",
       "        vertical-align: top;\n",
       "    }\n",
       "\n",
       "    .dataframe thead th {\n",
       "        text-align: right;\n",
       "    }\n",
       "</style>\n",
       "<table border=\"1\" class=\"dataframe\">\n",
       "  <thead>\n",
       "    <tr style=\"text-align: right;\">\n",
       "      <th></th>\n",
       "      <th>CENTER_CD</th>\n",
       "      <th>IRB_APRV_NO</th>\n",
       "      <th>PT_SBST_NO</th>\n",
       "      <th>BRCA1_EXAM_YMD</th>\n",
       "      <th>BRCA1_PAVR_DTCT_CLSF_CD</th>\n",
       "      <th>BRCA1_UNCL_VARN_DTCT_CLSF_CD</th>\n",
       "      <th>CRTN_DT</th>\n",
       "    </tr>\n",
       "  </thead>\n",
       "  <tbody>\n",
       "    <tr>\n",
       "      <th>0</th>\n",
       "      <td>30</td>\n",
       "      <td>IRB</td>\n",
       "      <td>P00001</td>\n",
       "      <td>20120926</td>\n",
       "      <td>2</td>\n",
       "      <td>1</td>\n",
       "      <td>2020-08-10 11:30</td>\n",
       "    </tr>\n",
       "    <tr>\n",
       "      <th>1</th>\n",
       "      <td>30</td>\n",
       "      <td>IRB</td>\n",
       "      <td>P00002</td>\n",
       "      <td>20081017</td>\n",
       "      <td>1</td>\n",
       "      <td>2</td>\n",
       "      <td>2020-08-10 11:30</td>\n",
       "    </tr>\n",
       "    <tr>\n",
       "      <th>2</th>\n",
       "      <td>30</td>\n",
       "      <td>IRB</td>\n",
       "      <td>P00003</td>\n",
       "      <td>20151006</td>\n",
       "      <td>2</td>\n",
       "      <td>1</td>\n",
       "      <td>2020-08-10 11:30</td>\n",
       "    </tr>\n",
       "    <tr>\n",
       "      <th>3</th>\n",
       "      <td>30</td>\n",
       "      <td>IRB</td>\n",
       "      <td>P00004</td>\n",
       "      <td>20130525</td>\n",
       "      <td>2</td>\n",
       "      <td>2</td>\n",
       "      <td>2020-08-10 11:30</td>\n",
       "    </tr>\n",
       "    <tr>\n",
       "      <th>4</th>\n",
       "      <td>30</td>\n",
       "      <td>IRB</td>\n",
       "      <td>P00005</td>\n",
       "      <td>20160128</td>\n",
       "      <td>2</td>\n",
       "      <td>2</td>\n",
       "      <td>2020-08-10 11:30</td>\n",
       "    </tr>\n",
       "  </tbody>\n",
       "</table>\n",
       "</div>"
      ],
      "text/plain": [
       "   CENTER_CD IRB_APRV_NO PT_SBST_NO  BRCA1_EXAM_YMD  BRCA1_PAVR_DTCT_CLSF_CD  \\\n",
       "0         30         IRB     P00001        20120926                        2   \n",
       "1         30         IRB     P00002        20081017                        1   \n",
       "2         30         IRB     P00003        20151006                        2   \n",
       "3         30         IRB     P00004        20130525                        2   \n",
       "4         30         IRB     P00005        20160128                        2   \n",
       "\n",
       "   BRCA1_UNCL_VARN_DTCT_CLSF_CD           CRTN_DT  \n",
       "0                             1  2020-08-10 11:30  \n",
       "1                             2  2020-08-10 11:30  \n",
       "2                             1  2020-08-10 11:30  \n",
       "3                             2  2020-08-10 11:30  \n",
       "4                             2  2020-08-10 11:30  "
      ]
     },
     "execution_count": 2,
     "metadata": {},
     "output_type": "execute_result"
    }
   ],
   "source": [
    "path = \"../../Data/Cancer Data/\"\n",
    "path1 = '1. 유방암 Fake Data/'\n",
    "path2 = '2. 폐암 Fake Data/'\n",
    "path3 = '3. 대장암 Fake Data/'\n",
    "\n",
    "temp1 = pd.read_csv(path+path1+\"BRST_EX_BRCA1.csv\")\n",
    "temp1.head()"
   ]
  },
  {
   "cell_type": "code",
   "execution_count": 3,
   "metadata": {},
   "outputs": [
    {
     "name": "stdout",
     "output_type": "stream",
     "text": [
      "[2 1]\n",
      "[1 2]\n"
     ]
    }
   ],
   "source": [
    "# BRCA1_PAVR_DTCT_CLSF_CD, BRCA1_UNCL_VARN_DTCT_CLSF_CD 각각 2가지(1,2) 로 구성됨\n",
    "# BRCA1 병원변형체코드        BRCA1 미확인변이코드\n",
    "\n",
    "print(temp1.BRCA1_PAVR_DTCT_CLSF_CD.unique())\n",
    "print(temp1.BRCA1_UNCL_VARN_DTCT_CLSF_CD.unique())"
   ]
  },
  {
   "cell_type": "code",
   "execution_count": 4,
   "metadata": {},
   "outputs": [
    {
     "data": {
      "text/plain": [
       "<seaborn.axisgrid.FacetGrid at 0x7f367dfea340>"
      ]
     },
     "execution_count": 4,
     "metadata": {},
     "output_type": "execute_result"
    },
    {
     "data": {
      "image/png": "[encoded data removed]",
      "text/plain": [
       "<Figure size 546.125x360 with 1 Axes>"
      ]
     },
     "metadata": {
      "needs_background": "light"
     },
     "output_type": "display_data"
    }
   ],
   "source": [
    "sns.catplot(\"BRCA1_PAVR_DTCT_CLSF_CD\", hue=\"BRCA1_UNCL_VARN_DTCT_CLSF_CD\", data=temp1, kind='count')"
   ]
  },
  {
   "cell_type": "code",
   "execution_count": 5,
   "metadata": {},
   "outputs": [
    {
     "data": {
      "text/plain": [
       "\"\\n# BRCA1_PAVR_DTCT_CLSF_CD == 1\\n# BRCA1_UNCL_VARN_DTCT_CLSF_CD == 1\\ntemp1['11'] = 0\\ntemp1.loc[(temp1['BRCA1_PAVR_DTCT_CLSF_CD']==1) & (temp1['BRCA1_UNCL_VARN_DTCT_CLSF_CD']==1), '11'] = 1\\n\\n# BRCA1_PAVR_DTCT_CLSF_CD == 1\\n# BRCA1_UNCL_VARN_DTCT_CLSF_CD == 2\\ntemp1['12'] = 0\\ntemp1.loc[(temp1['BRCA1_PAVR_DTCT_CLSF_CD']==1) & (temp1['BRCA1_UNCL_VARN_DTCT_CLSF_CD']==2), '11'] = 1\\n\\n# BRCA1_PAVR_DTCT_CLSF_CD == 2\\n# BRCA1_UNCL_VARN_DTCT_CLSF_CD == 1\\ntemp1['21'] = 0\\ntemp1.loc[(temp1['BRCA1_PAVR_DTCT_CLSF_CD']==2) & (temp1['BRCA1_UNCL_VARN_DTCT_CLSF_CD']==1), '11'] = 1\\n\\n# BRCA1_PAVR_DTCT_CLSF_CD == 2\\n# BRCA1_UNCL_VARN_DTCT_CLSF_CD == 2\\ntemp1['22'] = 0\\ntemp1.loc[(temp1['BRCA1_PAVR_DTCT_CLSF_CD']==2) & (temp1['BRCA1_UNCL_VARN_DTCT_CLSF_CD']==2), '11'] = 1\\n\""
      ]
     },
     "execution_count": 5,
     "metadata": {},
     "output_type": "execute_result"
    }
   ],
   "source": [
    "\"\"\"\n",
    "# BRCA1_PAVR_DTCT_CLSF_CD == 1\n",
    "# BRCA1_UNCL_VARN_DTCT_CLSF_CD == 1\n",
    "temp1['11'] = 0\n",
    "temp1.loc[(temp1['BRCA1_PAVR_DTCT_CLSF_CD']==1) & (temp1['BRCA1_UNCL_VARN_DTCT_CLSF_CD']==1), '11'] = 1\n",
    "\n",
    "# BRCA1_PAVR_DTCT_CLSF_CD == 1\n",
    "# BRCA1_UNCL_VARN_DTCT_CLSF_CD == 2\n",
    "temp1['12'] = 0\n",
    "temp1.loc[(temp1['BRCA1_PAVR_DTCT_CLSF_CD']==1) & (temp1['BRCA1_UNCL_VARN_DTCT_CLSF_CD']==2), '11'] = 1\n",
    "\n",
    "# BRCA1_PAVR_DTCT_CLSF_CD == 2\n",
    "# BRCA1_UNCL_VARN_DTCT_CLSF_CD == 1\n",
    "temp1['21'] = 0\n",
    "temp1.loc[(temp1['BRCA1_PAVR_DTCT_CLSF_CD']==2) & (temp1['BRCA1_UNCL_VARN_DTCT_CLSF_CD']==1), '11'] = 1\n",
    "\n",
    "# BRCA1_PAVR_DTCT_CLSF_CD == 2\n",
    "# BRCA1_UNCL_VARN_DTCT_CLSF_CD == 2\n",
    "temp1['22'] = 0\n",
    "temp1.loc[(temp1['BRCA1_PAVR_DTCT_CLSF_CD']==2) & (temp1['BRCA1_UNCL_VARN_DTCT_CLSF_CD']==2), '11'] = 1\n",
    "\"\"\""
   ]
  },
  {
   "cell_type": "code",
   "execution_count": 6,
   "metadata": {},
   "outputs": [
    {
     "data": {
      "text/html": [
       "<div>\n",
       "<style scoped>\n",
       "    .dataframe tbody tr th:only-of-type {\n",
       "        vertical-align: middle;\n",
       "    }\n",
       "\n",
       "    .dataframe tbody tr th {\n",
       "        vertical-align: top;\n",
       "    }\n",
       "\n",
       "    .dataframe thead th {\n",
       "        text-align: right;\n",
       "    }\n",
       "</style>\n",
       "<table border=\"1\" class=\"dataframe\">\n",
       "  <thead>\n",
       "    <tr style=\"text-align: right;\">\n",
       "      <th></th>\n",
       "      <th>CENTER_CD</th>\n",
       "      <th>IRB_APRV_NO</th>\n",
       "      <th>PT_SBST_NO</th>\n",
       "      <th>BRCA2_EXAM_YMD</th>\n",
       "      <th>BRCA2_PAVR_DTCT_CLSF_CD</th>\n",
       "      <th>BRCA2_UNCL_VARN_DTCT_CLSF_CD</th>\n",
       "      <th>CRTN_DT</th>\n",
       "    </tr>\n",
       "  </thead>\n",
       "  <tbody>\n",
       "    <tr>\n",
       "      <th>0</th>\n",
       "      <td>30</td>\n",
       "      <td>IRB</td>\n",
       "      <td>P00001</td>\n",
       "      <td>20120903</td>\n",
       "      <td>1</td>\n",
       "      <td>2</td>\n",
       "      <td>2020-08-10 11:35</td>\n",
       "    </tr>\n",
       "    <tr>\n",
       "      <th>1</th>\n",
       "      <td>30</td>\n",
       "      <td>IRB</td>\n",
       "      <td>P00002</td>\n",
       "      <td>20150314</td>\n",
       "      <td>2</td>\n",
       "      <td>2</td>\n",
       "      <td>2020-08-10 11:35</td>\n",
       "    </tr>\n",
       "    <tr>\n",
       "      <th>2</th>\n",
       "      <td>30</td>\n",
       "      <td>IRB</td>\n",
       "      <td>P00003</td>\n",
       "      <td>20131209</td>\n",
       "      <td>1</td>\n",
       "      <td>2</td>\n",
       "      <td>2020-08-10 11:35</td>\n",
       "    </tr>\n",
       "    <tr>\n",
       "      <th>3</th>\n",
       "      <td>30</td>\n",
       "      <td>IRB</td>\n",
       "      <td>P00004</td>\n",
       "      <td>20110915</td>\n",
       "      <td>1</td>\n",
       "      <td>2</td>\n",
       "      <td>2020-08-10 11:35</td>\n",
       "    </tr>\n",
       "    <tr>\n",
       "      <th>4</th>\n",
       "      <td>30</td>\n",
       "      <td>IRB</td>\n",
       "      <td>P00005</td>\n",
       "      <td>20150812</td>\n",
       "      <td>2</td>\n",
       "      <td>1</td>\n",
       "      <td>2020-08-10 11:35</td>\n",
       "    </tr>\n",
       "  </tbody>\n",
       "</table>\n",
       "</div>"
      ],
      "text/plain": [
       "   CENTER_CD IRB_APRV_NO PT_SBST_NO  BRCA2_EXAM_YMD  BRCA2_PAVR_DTCT_CLSF_CD  \\\n",
       "0         30         IRB     P00001        20120903                        1   \n",
       "1         30         IRB     P00002        20150314                        2   \n",
       "2         30         IRB     P00003        20131209                        1   \n",
       "3         30         IRB     P00004        20110915                        1   \n",
       "4         30         IRB     P00005        20150812                        2   \n",
       "\n",
       "   BRCA2_UNCL_VARN_DTCT_CLSF_CD           CRTN_DT  \n",
       "0                             2  2020-08-10 11:35  \n",
       "1                             2  2020-08-10 11:35  \n",
       "2                             2  2020-08-10 11:35  \n",
       "3                             2  2020-08-10 11:35  \n",
       "4                             1  2020-08-10 11:35  "
      ]
     },
     "execution_count": 6,
     "metadata": {},
     "output_type": "execute_result"
    }
   ],
   "source": [
    "temp2 = pd.read_csv(path+path1+\"BRST_EX_BRCA2.csv\")\n",
    "temp2.head()"
   ]
  },
  {
   "cell_type": "code",
   "execution_count": 7,
   "metadata": {},
   "outputs": [
    {
     "name": "stdout",
     "output_type": "stream",
     "text": [
      "[1 2]\n",
      "[2 1]\n"
     ]
    }
   ],
   "source": [
    "# BRCA2_PAVR_DTCT_CLSF_CD, BRCA2_UNCL_VARN_DTCT_CLSF_CD 각각 2가지(1,2) 로 구성됨\n",
    "# BRCA2 병원변형체코드        BRCA2 미확인변이코드\n",
    "\n",
    "print(temp2.BRCA2_PAVR_DTCT_CLSF_CD.unique())\n",
    "print(temp2.BRCA2_UNCL_VARN_DTCT_CLSF_CD.unique())"
   ]
  },
  {
   "cell_type": "code",
   "execution_count": 8,
   "metadata": {},
   "outputs": [
    {
     "data": {
      "text/plain": [
       "<seaborn.axisgrid.FacetGrid at 0x7f3653b5b070>"
      ]
     },
     "execution_count": 8,
     "metadata": {},
     "output_type": "execute_result"
    },
    {
     "data": {
      "image/png": "[encoded data removed]",
      "text/plain": [
       "<Figure size 546.125x360 with 1 Axes>"
      ]
     },
     "metadata": {
      "needs_background": "light"
     },
     "output_type": "display_data"
    }
   ],
   "source": [
    "sns.catplot(\"BRCA2_PAVR_DTCT_CLSF_CD\", hue=\"BRCA2_UNCL_VARN_DTCT_CLSF_CD\", data=temp2, kind='count')"
   ]
  },
  {
   "cell_type": "code",
   "execution_count": 9,
   "metadata": {},
   "outputs": [
    {
     "data": {
      "text/plain": [
       "array([30])"
      ]
     },
     "execution_count": 9,
     "metadata": {},
     "output_type": "execute_result"
    }
   ],
   "source": [
    "temp2.CENTER_CD.unique()"
   ]
  },
  {
   "cell_type": "code",
   "execution_count": 10,
   "metadata": {},
   "outputs": [],
   "source": [
    "temp = temp1[['BRCA1_PAVR_DTCT_CLSF_CD', 'BRCA1_UNCL_VARN_DTCT_CLSF_CD']].copy()\n",
    "temp['BRCA2_PAVR_DTCT_CLSF_CD'] = temp2['BRCA2_PAVR_DTCT_CLSF_CD']\n",
    "temp['BRCA2_UNCL_VARN_DTCT_CLSF_CD'] = temp2['BRCA2_UNCL_VARN_DTCT_CLSF_CD']"
   ]
  },
  {
   "cell_type": "code",
   "execution_count": 11,
   "metadata": {},
   "outputs": [
    {
     "data": {
      "text/plain": [
       "<seaborn.axisgrid.FacetGrid at 0x7f3653bad100>"
      ]
     },
     "execution_count": 11,
     "metadata": {},
     "output_type": "execute_result"
    },
    {
     "data": {
      "image/png": "[encoded data removed]",
      "text/plain": [
       "<Figure size 511.75x360 with 1 Axes>"
      ]
     },
     "metadata": {
      "needs_background": "light"
     },
     "output_type": "display_data"
    }
   ],
   "source": [
    "sns.catplot('BRCA1_PAVR_DTCT_CLSF_CD', hue='BRCA2_PAVR_DTCT_CLSF_CD', data=temp, kind='count')"
   ]
  },
  {
   "cell_type": "code",
   "execution_count": 12,
   "metadata": {},
   "outputs": [
    {
     "data": {
      "text/html": [
       "<div>\n",
       "<style scoped>\n",
       "    .dataframe tbody tr th:only-of-type {\n",
       "        vertical-align: middle;\n",
       "    }\n",
       "\n",
       "    .dataframe tbody tr th {\n",
       "        vertical-align: top;\n",
       "    }\n",
       "\n",
       "    .dataframe thead th {\n",
       "        text-align: right;\n",
       "    }\n",
       "</style>\n",
       "<table border=\"1\" class=\"dataframe\">\n",
       "  <thead>\n",
       "    <tr style=\"text-align: right;\">\n",
       "      <th></th>\n",
       "      <th>CENTER_CD</th>\n",
       "      <th>IRB_APRV_NO</th>\n",
       "      <th>PT_SBST_NO</th>\n",
       "      <th>RLPS_DIAG_YMD</th>\n",
       "      <th>RCNF_SEQ</th>\n",
       "      <th>RLPS_CNFR_DTRN_DCNT</th>\n",
       "      <th>RLPS_SITE_CONT</th>\n",
       "      <th>ETC_RLPS_CONT</th>\n",
       "      <th>RLPS_TRTM_CD</th>\n",
       "      <th>RLPS_TRTM_CD_ETC_CONT</th>\n",
       "      <th>RLPS_TRTM_NM</th>\n",
       "      <th>RLPS_ADD_TRTM_CONT</th>\n",
       "      <th>CRTN_DT</th>\n",
       "    </tr>\n",
       "  </thead>\n",
       "  <tbody>\n",
       "    <tr>\n",
       "      <th>0</th>\n",
       "      <td>30</td>\n",
       "      <td>IRB</td>\n",
       "      <td>P00001</td>\n",
       "      <td>20130300</td>\n",
       "      <td>45</td>\n",
       "      <td>311</td>\n",
       "      <td>NaN</td>\n",
       "      <td>NaN</td>\n",
       "      <td>0</td>\n",
       "      <td>NaN</td>\n",
       "      <td>No</td>\n",
       "      <td>NaN</td>\n",
       "      <td>2020-08-10 18:31</td>\n",
       "    </tr>\n",
       "    <tr>\n",
       "      <th>1</th>\n",
       "      <td>30</td>\n",
       "      <td>IRB</td>\n",
       "      <td>P00002</td>\n",
       "      <td>20140400</td>\n",
       "      <td>72</td>\n",
       "      <td>290</td>\n",
       "      <td>NaN</td>\n",
       "      <td>NaN</td>\n",
       "      <td>99</td>\n",
       "      <td>NaN</td>\n",
       "      <td>Other</td>\n",
       "      <td>NaN</td>\n",
       "      <td>2020-08-10 18:31</td>\n",
       "    </tr>\n",
       "    <tr>\n",
       "      <th>2</th>\n",
       "      <td>30</td>\n",
       "      <td>IRB</td>\n",
       "      <td>P00003</td>\n",
       "      <td>20100200</td>\n",
       "      <td>77</td>\n",
       "      <td>83</td>\n",
       "      <td>NaN</td>\n",
       "      <td>NaN</td>\n",
       "      <td>2</td>\n",
       "      <td>NaN</td>\n",
       "      <td>Chemotherapy</td>\n",
       "      <td>NaN</td>\n",
       "      <td>2020-08-10 18:31</td>\n",
       "    </tr>\n",
       "    <tr>\n",
       "      <th>3</th>\n",
       "      <td>30</td>\n",
       "      <td>IRB</td>\n",
       "      <td>P00004</td>\n",
       "      <td>20110600</td>\n",
       "      <td>49</td>\n",
       "      <td>212</td>\n",
       "      <td>NaN</td>\n",
       "      <td>NaN</td>\n",
       "      <td>3</td>\n",
       "      <td>NaN</td>\n",
       "      <td>Operation</td>\n",
       "      <td>NaN</td>\n",
       "      <td>2020-08-10 18:31</td>\n",
       "    </tr>\n",
       "    <tr>\n",
       "      <th>4</th>\n",
       "      <td>30</td>\n",
       "      <td>IRB</td>\n",
       "      <td>P00005</td>\n",
       "      <td>20110100</td>\n",
       "      <td>44</td>\n",
       "      <td>92</td>\n",
       "      <td>NaN</td>\n",
       "      <td>NaN</td>\n",
       "      <td>1</td>\n",
       "      <td>NaN</td>\n",
       "      <td>Radiotherapy</td>\n",
       "      <td>NaN</td>\n",
       "      <td>2020-08-10 18:31</td>\n",
       "    </tr>\n",
       "  </tbody>\n",
       "</table>\n",
       "</div>"
      ],
      "text/plain": [
       "   CENTER_CD IRB_APRV_NO PT_SBST_NO  RLPS_DIAG_YMD  RCNF_SEQ  \\\n",
       "0         30         IRB     P00001       20130300        45   \n",
       "1         30         IRB     P00002       20140400        72   \n",
       "2         30         IRB     P00003       20100200        77   \n",
       "3         30         IRB     P00004       20110600        49   \n",
       "4         30         IRB     P00005       20110100        44   \n",
       "\n",
       "   RLPS_CNFR_DTRN_DCNT  RLPS_SITE_CONT  ETC_RLPS_CONT  RLPS_TRTM_CD  \\\n",
       "0                  311             NaN            NaN             0   \n",
       "1                  290             NaN            NaN            99   \n",
       "2                   83             NaN            NaN             2   \n",
       "3                  212             NaN            NaN             3   \n",
       "4                   92             NaN            NaN             1   \n",
       "\n",
       "   RLPS_TRTM_CD_ETC_CONT  RLPS_TRTM_NM  RLPS_ADD_TRTM_CONT           CRTN_DT  \n",
       "0                    NaN            No                 NaN  2020-08-10 18:31  \n",
       "1                    NaN         Other                 NaN  2020-08-10 18:31  \n",
       "2                    NaN  Chemotherapy                 NaN  2020-08-10 18:31  \n",
       "3                    NaN     Operation                 NaN  2020-08-10 18:31  \n",
       "4                    NaN  Radiotherapy                 NaN  2020-08-10 18:31  "
      ]
     },
     "execution_count": 12,
     "metadata": {},
     "output_type": "execute_result"
    }
   ],
   "source": [
    "temp3 = pd.read_csv(path+path1+\"BRST_DG_RCNF.csv\")\n",
    "temp3.head()"
   ]
  },
  {
   "cell_type": "code",
   "execution_count": 25,
   "metadata": {
    "scrolled": true
   },
   "outputs": [
    {
     "data": {
      "text/plain": [
       "array(['No', 'Other', 'Chemotherapy', 'Operation', 'Radiotherapy'],\n",
       "      dtype=object)"
      ]
     },
     "execution_count": 25,
     "metadata": {},
     "output_type": "execute_result"
    }
   ],
   "source": [
    "temp3.RLPS_TRTM_NM.unique()"
   ]
  },
  {
   "cell_type": "code",
   "execution_count": null,
   "metadata": {},
   "outputs": [],
   "source": [
    "temp3['count']"
   ]
  },
  {
   "cell_type": "code",
   "execution_count": 58,
   "metadata": {},
   "outputs": [
    {
     "data": {
      "text/plain": [
       "187    114\n",
       "294    104\n",
       "274    103\n",
       "247    102\n",
       "83      91\n",
       "      ... \n",
       "128     12\n",
       "275     12\n",
       "221     12\n",
       "20      12\n",
       "248     12\n",
       "Name: RLPS_CNFR_DTRN_DCNT, Length: 339, dtype: int64"
      ]
     },
     "execution_count": 58,
     "metadata": {},
     "output_type": "execute_result"
    }
   ],
   "source": [
    "temp3['RLPS_CNFR_DTRN_DCNT'].value_counts(ascending=False)"
   ]
  },
  {
   "cell_type": "code",
   "execution_count": 129,
   "metadata": {},
   "outputs": [
    {
     "data": {
      "text/plain": [
       "<seaborn.axisgrid.FacetGrid at 0x7f362b6f59a0>"
      ]
     },
     "execution_count": 129,
     "metadata": {},
     "output_type": "execute_result"
    },
    {
     "data": {
      "image/png": "[encoded data removed]",
      "text/plain": [
       "<Figure size 684x360 with 1 Axes>"
      ]
     },
     "metadata": {
      "needs_background": "light"
     },
     "output_type": "display_data"
    }
   ],
   "source": [
    "sns.catplot('RLPS_CNFR_DTRN_DCNT', data=temp3, kind='violin', aspect=1.9)"
   ]
  },
  {
   "cell_type": "code",
   "execution_count": 61,
   "metadata": {},
   "outputs": [
    {
     "data": {
      "text/plain": [
       "12800"
      ]
     },
     "execution_count": 61,
     "metadata": {},
     "output_type": "execute_result"
    }
   ],
   "source": [
    "len(temp3)"
   ]
  },
  {
   "cell_type": "code",
   "execution_count": 63,
   "metadata": {},
   "outputs": [
    {
     "data": {
      "text/plain": [
       "12800"
      ]
     },
     "execution_count": 63,
     "metadata": {},
     "output_type": "execute_result"
    }
   ],
   "source": [
    "len(temp2)"
   ]
  },
  {
   "cell_type": "code",
   "execution_count": 62,
   "metadata": {},
   "outputs": [
    {
     "data": {
      "text/plain": [
       "12672"
      ]
     },
     "execution_count": 62,
     "metadata": {},
     "output_type": "execute_result"
    }
   ],
   "source": [
    "len(temp4)"
   ]
  },
  {
   "cell_type": "code",
   "execution_count": 59,
   "metadata": {},
   "outputs": [
    {
     "data": {
      "text/html": [
       "<div>\n",
       "<style scoped>\n",
       "    .dataframe tbody tr th:only-of-type {\n",
       "        vertical-align: middle;\n",
       "    }\n",
       "\n",
       "    .dataframe tbody tr th {\n",
       "        vertical-align: top;\n",
       "    }\n",
       "\n",
       "    .dataframe thead th {\n",
       "        text-align: right;\n",
       "    }\n",
       "</style>\n",
       "<table border=\"1\" class=\"dataframe\">\n",
       "  <thead>\n",
       "    <tr style=\"text-align: right;\">\n",
       "      <th></th>\n",
       "      <th>CENTER_CD</th>\n",
       "      <th>IRB_APRV_NO</th>\n",
       "      <th>PT_SBST_NO</th>\n",
       "      <th>DEATH_YMD</th>\n",
       "      <th>MAIN_DCUS_CONT</th>\n",
       "      <th>CRTN_DT</th>\n",
       "    </tr>\n",
       "  </thead>\n",
       "  <tbody>\n",
       "    <tr>\n",
       "      <th>0</th>\n",
       "      <td>30</td>\n",
       "      <td>IRB</td>\n",
       "      <td>P00001</td>\n",
       "      <td>20160515</td>\n",
       "      <td>NaN</td>\n",
       "      <td>2020-08-10 18:08</td>\n",
       "    </tr>\n",
       "    <tr>\n",
       "      <th>1</th>\n",
       "      <td>30</td>\n",
       "      <td>IRB</td>\n",
       "      <td>P00002</td>\n",
       "      <td>20091001</td>\n",
       "      <td>NaN</td>\n",
       "      <td>2020-08-10 18:08</td>\n",
       "    </tr>\n",
       "    <tr>\n",
       "      <th>2</th>\n",
       "      <td>30</td>\n",
       "      <td>IRB</td>\n",
       "      <td>P00003</td>\n",
       "      <td>20081031</td>\n",
       "      <td>NaN</td>\n",
       "      <td>2020-08-10 18:08</td>\n",
       "    </tr>\n",
       "    <tr>\n",
       "      <th>3</th>\n",
       "      <td>30</td>\n",
       "      <td>IRB</td>\n",
       "      <td>P00004</td>\n",
       "      <td>20141105</td>\n",
       "      <td>NaN</td>\n",
       "      <td>2020-08-10 18:08</td>\n",
       "    </tr>\n",
       "    <tr>\n",
       "      <th>4</th>\n",
       "      <td>30</td>\n",
       "      <td>IRB</td>\n",
       "      <td>P00005</td>\n",
       "      <td>20110324</td>\n",
       "      <td>NaN</td>\n",
       "      <td>2020-08-10 18:08</td>\n",
       "    </tr>\n",
       "  </tbody>\n",
       "</table>\n",
       "</div>"
      ],
      "text/plain": [
       "   CENTER_CD IRB_APRV_NO PT_SBST_NO  DEATH_YMD  MAIN_DCUS_CONT  \\\n",
       "0         30         IRB     P00001   20160515             NaN   \n",
       "1         30         IRB     P00002   20091001             NaN   \n",
       "2         30         IRB     P00003   20081031             NaN   \n",
       "3         30         IRB     P00004   20141105             NaN   \n",
       "4         30         IRB     P00005   20110324             NaN   \n",
       "\n",
       "            CRTN_DT  \n",
       "0  2020-08-10 18:08  \n",
       "1  2020-08-10 18:08  \n",
       "2  2020-08-10 18:08  \n",
       "3  2020-08-10 18:08  \n",
       "4  2020-08-10 18:08  "
      ]
     },
     "execution_count": 59,
     "metadata": {},
     "output_type": "execute_result"
    }
   ],
   "source": [
    "temp4 = pd.read_csv(path+path1+\"BRST_DEAD_NFRM.csv\")\n",
    "temp4.head()"
   ]
  },
  {
   "cell_type": "code",
   "execution_count": 60,
   "metadata": {},
   "outputs": [
    {
     "data": {
      "text/plain": [
       "array([nan])"
      ]
     },
     "execution_count": 60,
     "metadata": {},
     "output_type": "execute_result"
    }
   ],
   "source": [
    "temp4.MAIN_DCUS_CONT.unique()"
   ]
  },
  {
   "cell_type": "code",
   "execution_count": 70,
   "metadata": {},
   "outputs": [
    {
     "data": {
      "text/html": [
       "<div>\n",
       "<style scoped>\n",
       "    .dataframe tbody tr th:only-of-type {\n",
       "        vertical-align: middle;\n",
       "    }\n",
       "\n",
       "    .dataframe tbody tr th {\n",
       "        vertical-align: top;\n",
       "    }\n",
       "\n",
       "    .dataframe thead th {\n",
       "        text-align: right;\n",
       "    }\n",
       "</style>\n",
       "<table border=\"1\" class=\"dataframe\">\n",
       "  <thead>\n",
       "    <tr style=\"text-align: right;\">\n",
       "      <th></th>\n",
       "      <th>CENTER_CD</th>\n",
       "      <th>IRB_APRV_NO</th>\n",
       "      <th>PT_SBST_NO</th>\n",
       "      <th>DIAG_YMD</th>\n",
       "      <th>DIAG_CD</th>\n",
       "      <th>BRCN_DIAG_NM_KIND_CD</th>\n",
       "      <th>DIAG_ENM</th>\n",
       "      <th>DIAG_KNM</th>\n",
       "      <th>BRCN_DIAG_CLSF_CD</th>\n",
       "      <th>BRCN_DIAG_CLSF_CD_ETC_CONT</th>\n",
       "      <th>DIAG_CLSF_NM</th>\n",
       "      <th>CRTN_DT</th>\n",
       "    </tr>\n",
       "  </thead>\n",
       "  <tbody>\n",
       "    <tr>\n",
       "      <th>0</th>\n",
       "      <td>30</td>\n",
       "      <td>IRB</td>\n",
       "      <td>P00001</td>\n",
       "      <td>20161021</td>\n",
       "      <td>EDI</td>\n",
       "      <td>D11</td>\n",
       "      <td>NaN</td>\n",
       "      <td>D11 (주타액선의 양성 신생물)</td>\n",
       "      <td>99</td>\n",
       "      <td>NaN</td>\n",
       "      <td>기타</td>\n",
       "      <td>2020-08-07 15:48</td>\n",
       "    </tr>\n",
       "    <tr>\n",
       "      <th>1</th>\n",
       "      <td>30</td>\n",
       "      <td>IRB</td>\n",
       "      <td>P00002</td>\n",
       "      <td>20151217</td>\n",
       "      <td>EDI</td>\n",
       "      <td>C63</td>\n",
       "      <td>NaN</td>\n",
       "      <td>C63 (기타 및 상세불명의 남성 생식기관의 악성 신생물)</td>\n",
       "      <td>99</td>\n",
       "      <td>NaN</td>\n",
       "      <td>기타</td>\n",
       "      <td>2020-08-07 15:48</td>\n",
       "    </tr>\n",
       "    <tr>\n",
       "      <th>2</th>\n",
       "      <td>30</td>\n",
       "      <td>IRB</td>\n",
       "      <td>P00003</td>\n",
       "      <td>20120831</td>\n",
       "      <td>EDI</td>\n",
       "      <td>D05</td>\n",
       "      <td>NaN</td>\n",
       "      <td>D05 (유방의 상피내 암종)</td>\n",
       "      <td>99</td>\n",
       "      <td>NaN</td>\n",
       "      <td>기타</td>\n",
       "      <td>2020-08-07 15:48</td>\n",
       "    </tr>\n",
       "    <tr>\n",
       "      <th>3</th>\n",
       "      <td>30</td>\n",
       "      <td>IRB</td>\n",
       "      <td>P00004</td>\n",
       "      <td>20161226</td>\n",
       "      <td>EDI</td>\n",
       "      <td>D14</td>\n",
       "      <td>NaN</td>\n",
       "      <td>D14 (중이 및 호흡기계의 양성신생물)</td>\n",
       "      <td>99</td>\n",
       "      <td>NaN</td>\n",
       "      <td>기타</td>\n",
       "      <td>2020-08-07 15:48</td>\n",
       "    </tr>\n",
       "    <tr>\n",
       "      <th>4</th>\n",
       "      <td>30</td>\n",
       "      <td>IRB</td>\n",
       "      <td>P00005</td>\n",
       "      <td>20081129</td>\n",
       "      <td>EDI</td>\n",
       "      <td>C82</td>\n",
       "      <td>NaN</td>\n",
       "      <td>C82 (여포성(결절성) 비호지킨 림프종)</td>\n",
       "      <td>1</td>\n",
       "      <td>NaN</td>\n",
       "      <td>유방암</td>\n",
       "      <td>2020-08-07 15:48</td>\n",
       "    </tr>\n",
       "  </tbody>\n",
       "</table>\n",
       "</div>"
      ],
      "text/plain": [
       "   CENTER_CD IRB_APRV_NO PT_SBST_NO  DIAG_YMD DIAG_CD BRCN_DIAG_NM_KIND_CD  \\\n",
       "0         30         IRB     P00001  20161021     EDI                  D11   \n",
       "1         30         IRB     P00002  20151217     EDI                  C63   \n",
       "2         30         IRB     P00003  20120831     EDI                  D05   \n",
       "3         30         IRB     P00004  20161226     EDI                  D14   \n",
       "4         30         IRB     P00005  20081129     EDI                  C82   \n",
       "\n",
       "   DIAG_ENM                          DIAG_KNM  BRCN_DIAG_CLSF_CD  \\\n",
       "0       NaN                D11 (주타액선의 양성 신생물)                 99   \n",
       "1       NaN  C63 (기타 및 상세불명의 남성 생식기관의 악성 신생물)                 99   \n",
       "2       NaN                  D05 (유방의 상피내 암종)                 99   \n",
       "3       NaN            D14 (중이 및 호흡기계의 양성신생물)                 99   \n",
       "4       NaN           C82 (여포성(결절성) 비호지킨 림프종)                  1   \n",
       "\n",
       "   BRCN_DIAG_CLSF_CD_ETC_CONT DIAG_CLSF_NM           CRTN_DT  \n",
       "0                         NaN           기타  2020-08-07 15:48  \n",
       "1                         NaN           기타  2020-08-07 15:48  \n",
       "2                         NaN           기타  2020-08-07 15:48  \n",
       "3                         NaN           기타  2020-08-07 15:48  \n",
       "4                         NaN          유방암  2020-08-07 15:48  "
      ]
     },
     "execution_count": 70,
     "metadata": {},
     "output_type": "execute_result"
    }
   ],
   "source": [
    "temp5 = pd.read_csv(path+path1+\"BRST_DG_NFRM.csv\", encoding='CP949')\n",
    "temp5.head()"
   ]
  },
  {
   "cell_type": "code",
   "execution_count": 73,
   "metadata": {
    "scrolled": true
   },
   "outputs": [
    {
     "data": {
      "text/plain": [
       "array(['D11', 'C63', 'D05', 'D14', 'C82', 'C60', 'C61', 'D10', 'D02',\n",
       "       'C26', 'D15', 'C78', 'C37', 'C53', 'C34', 'C45', 'C41', 'C95',\n",
       "       'C20', 'C74', 'C44', 'C30', 'C77', 'C39', 'D09', 'C09', 'C17',\n",
       "       'C24', 'C57', 'C15', 'C32', 'D06', 'C91', 'C64', 'C69', 'C33',\n",
       "       'C49', 'C68', 'C46', 'C16', 'D00', 'C84', 'C08', 'C88', 'C48',\n",
       "       'D17', 'C79', 'C47', 'C97', 'C25', 'C94', 'C21', 'D03', 'C83',\n",
       "       'C70', 'C72', 'C90', 'C56', 'C93', 'C54', 'C10', 'C22', 'C73',\n",
       "       'C18', 'C14', 'C11', 'C81', 'C71', 'C38', 'D18', 'C58', 'D07',\n",
       "       'C13', 'C67', 'C52', 'D01', 'C43', 'C66', 'D13', 'D12', 'D04',\n",
       "       'C31', 'C65', 'C96', 'C85', 'C62', 'D16', 'C40', 'C80', 'C12',\n",
       "       'C92', 'C86', 'C76', 'C51', 'C50', 'C19', 'C55', 'C75', 'C23'],\n",
       "      dtype=object)"
      ]
     },
     "execution_count": 73,
     "metadata": {},
     "output_type": "execute_result"
    }
   ],
   "source": [
    "temp5.BRCN_DIAG_NM_KIND_CD.unique()"
   ]
  },
  {
   "cell_type": "code",
   "execution_count": null,
   "metadata": {},
   "outputs": [],
   "source": []
  },
  {
   "cell_type": "code",
   "execution_count": 93,
   "metadata": {},
   "outputs": [
    {
     "data": {
      "text/plain": [
       "D00    246\n",
       "C63    220\n",
       "C21    218\n",
       "C84    216\n",
       "C38    207\n",
       "      ... \n",
       "C82     39\n",
       "C92     38\n",
       "C22     26\n",
       "C19     25\n",
       "C23     13\n",
       "Name: BRCN_DIAG_NM_KIND_CD, Length: 99, dtype: int64"
      ]
     },
     "execution_count": 93,
     "metadata": {},
     "output_type": "execute_result"
    }
   ],
   "source": [
    "temp5['BRCN_DIAG_NM_KIND_CD'].value_counts(ascending=False)"
   ]
  },
  {
   "cell_type": "code",
   "execution_count": 94,
   "metadata": {},
   "outputs": [
    {
     "data": {
      "text/html": [
       "<div>\n",
       "<style scoped>\n",
       "    .dataframe tbody tr th:only-of-type {\n",
       "        vertical-align: middle;\n",
       "    }\n",
       "\n",
       "    .dataframe tbody tr th {\n",
       "        vertical-align: top;\n",
       "    }\n",
       "\n",
       "    .dataframe thead th {\n",
       "        text-align: right;\n",
       "    }\n",
       "</style>\n",
       "<table border=\"1\" class=\"dataframe\">\n",
       "  <thead>\n",
       "    <tr style=\"text-align: right;\">\n",
       "      <th></th>\n",
       "      <th>CENTER_CD</th>\n",
       "      <th>IRB_APRV_NO</th>\n",
       "      <th>PT_SBST_NO</th>\n",
       "      <th>DIAG_YMD</th>\n",
       "      <th>DIAG_CD</th>\n",
       "      <th>BRCN_DIAG_NM_KIND_CD</th>\n",
       "      <th>DIAG_ENM</th>\n",
       "      <th>DIAG_KNM</th>\n",
       "      <th>BRCN_DIAG_CLSF_CD</th>\n",
       "      <th>BRCN_DIAG_CLSF_CD_ETC_CONT</th>\n",
       "      <th>DIAG_CLSF_NM</th>\n",
       "      <th>CRTN_DT</th>\n",
       "    </tr>\n",
       "  </thead>\n",
       "  <tbody>\n",
       "    <tr>\n",
       "      <th>56</th>\n",
       "      <td>30</td>\n",
       "      <td>IRB</td>\n",
       "      <td>P00057</td>\n",
       "      <td>20080809</td>\n",
       "      <td>EDI</td>\n",
       "      <td>D00</td>\n",
       "      <td>NaN</td>\n",
       "      <td>D00 (구강, 식도 및 위의 상피내 암종)</td>\n",
       "      <td>1</td>\n",
       "      <td>NaN</td>\n",
       "      <td>유방암</td>\n",
       "      <td>2020-08-07 15:48</td>\n",
       "    </tr>\n",
       "    <tr>\n",
       "      <th>92</th>\n",
       "      <td>30</td>\n",
       "      <td>IRB</td>\n",
       "      <td>P00093</td>\n",
       "      <td>20141006</td>\n",
       "      <td>EDI</td>\n",
       "      <td>D00</td>\n",
       "      <td>NaN</td>\n",
       "      <td>D00 (구강, 식도 및 위의 상피내 암종)</td>\n",
       "      <td>99</td>\n",
       "      <td>NaN</td>\n",
       "      <td>기타</td>\n",
       "      <td>2020-08-07 15:48</td>\n",
       "    </tr>\n",
       "    <tr>\n",
       "      <th>151</th>\n",
       "      <td>30</td>\n",
       "      <td>IRB</td>\n",
       "      <td>P00152</td>\n",
       "      <td>20131215</td>\n",
       "      <td>EDI</td>\n",
       "      <td>D00</td>\n",
       "      <td>NaN</td>\n",
       "      <td>D00 (구강, 식도 및 위의 상피내 암종)</td>\n",
       "      <td>99</td>\n",
       "      <td>NaN</td>\n",
       "      <td>기타</td>\n",
       "      <td>2020-08-07 15:48</td>\n",
       "    </tr>\n",
       "    <tr>\n",
       "      <th>207</th>\n",
       "      <td>30</td>\n",
       "      <td>IRB</td>\n",
       "      <td>P00208</td>\n",
       "      <td>20140810</td>\n",
       "      <td>EDI</td>\n",
       "      <td>D00</td>\n",
       "      <td>NaN</td>\n",
       "      <td>D00 (구강, 식도 및 위의 상피내 암종)</td>\n",
       "      <td>1</td>\n",
       "      <td>NaN</td>\n",
       "      <td>유방암</td>\n",
       "      <td>2020-08-07 15:48</td>\n",
       "    </tr>\n",
       "    <tr>\n",
       "      <th>217</th>\n",
       "      <td>30</td>\n",
       "      <td>IRB</td>\n",
       "      <td>P00218</td>\n",
       "      <td>20090313</td>\n",
       "      <td>EDI</td>\n",
       "      <td>D00</td>\n",
       "      <td>NaN</td>\n",
       "      <td>D00 (구강, 식도 및 위의 상피내 암종)</td>\n",
       "      <td>99</td>\n",
       "      <td>NaN</td>\n",
       "      <td>기타</td>\n",
       "      <td>2020-08-07 15:48</td>\n",
       "    </tr>\n",
       "    <tr>\n",
       "      <th>...</th>\n",
       "      <td>...</td>\n",
       "      <td>...</td>\n",
       "      <td>...</td>\n",
       "      <td>...</td>\n",
       "      <td>...</td>\n",
       "      <td>...</td>\n",
       "      <td>...</td>\n",
       "      <td>...</td>\n",
       "      <td>...</td>\n",
       "      <td>...</td>\n",
       "      <td>...</td>\n",
       "      <td>...</td>\n",
       "    </tr>\n",
       "    <tr>\n",
       "      <th>12577</th>\n",
       "      <td>30</td>\n",
       "      <td>IRB</td>\n",
       "      <td>P12578</td>\n",
       "      <td>20120512</td>\n",
       "      <td>EDI</td>\n",
       "      <td>D00</td>\n",
       "      <td>NaN</td>\n",
       "      <td>D00 (구강, 식도 및 위의 상피내 암종)</td>\n",
       "      <td>99</td>\n",
       "      <td>NaN</td>\n",
       "      <td>기타</td>\n",
       "      <td>2020-08-07 15:48</td>\n",
       "    </tr>\n",
       "    <tr>\n",
       "      <th>12672</th>\n",
       "      <td>30</td>\n",
       "      <td>IRB</td>\n",
       "      <td>P12673</td>\n",
       "      <td>20130712</td>\n",
       "      <td>EDI</td>\n",
       "      <td>D00</td>\n",
       "      <td>NaN</td>\n",
       "      <td>D00 (구강, 식도 및 위의 상피내 암종)</td>\n",
       "      <td>99</td>\n",
       "      <td>NaN</td>\n",
       "      <td>기타</td>\n",
       "      <td>2020-08-07 15:48</td>\n",
       "    </tr>\n",
       "    <tr>\n",
       "      <th>12684</th>\n",
       "      <td>30</td>\n",
       "      <td>IRB</td>\n",
       "      <td>P12685</td>\n",
       "      <td>20120512</td>\n",
       "      <td>EDI</td>\n",
       "      <td>D00</td>\n",
       "      <td>NaN</td>\n",
       "      <td>D00 (구강, 식도 및 위의 상피내 암종)</td>\n",
       "      <td>99</td>\n",
       "      <td>NaN</td>\n",
       "      <td>기타</td>\n",
       "      <td>2020-08-07 15:48</td>\n",
       "    </tr>\n",
       "    <tr>\n",
       "      <th>12707</th>\n",
       "      <td>30</td>\n",
       "      <td>IRB</td>\n",
       "      <td>P12708</td>\n",
       "      <td>20130812</td>\n",
       "      <td>EDI</td>\n",
       "      <td>D00</td>\n",
       "      <td>NaN</td>\n",
       "      <td>D00 (구강, 식도 및 위의 상피내 암종)</td>\n",
       "      <td>99</td>\n",
       "      <td>NaN</td>\n",
       "      <td>기타</td>\n",
       "      <td>2020-08-07 15:48</td>\n",
       "    </tr>\n",
       "    <tr>\n",
       "      <th>12782</th>\n",
       "      <td>30</td>\n",
       "      <td>IRB</td>\n",
       "      <td>P12783</td>\n",
       "      <td>20150612</td>\n",
       "      <td>EDI</td>\n",
       "      <td>D00</td>\n",
       "      <td>NaN</td>\n",
       "      <td>D00 (구강, 식도 및 위의 상피내 암종)</td>\n",
       "      <td>1</td>\n",
       "      <td>NaN</td>\n",
       "      <td>유방암</td>\n",
       "      <td>2020-08-07 15:48</td>\n",
       "    </tr>\n",
       "  </tbody>\n",
       "</table>\n",
       "<p>246 rows × 12 columns</p>\n",
       "</div>"
      ],
      "text/plain": [
       "       CENTER_CD IRB_APRV_NO PT_SBST_NO  DIAG_YMD DIAG_CD  \\\n",
       "56            30         IRB     P00057  20080809     EDI   \n",
       "92            30         IRB     P00093  20141006     EDI   \n",
       "151           30         IRB     P00152  20131215     EDI   \n",
       "207           30         IRB     P00208  20140810     EDI   \n",
       "217           30         IRB     P00218  20090313     EDI   \n",
       "...          ...         ...        ...       ...     ...   \n",
       "12577         30         IRB     P12578  20120512     EDI   \n",
       "12672         30         IRB     P12673  20130712     EDI   \n",
       "12684         30         IRB     P12685  20120512     EDI   \n",
       "12707         30         IRB     P12708  20130812     EDI   \n",
       "12782         30         IRB     P12783  20150612     EDI   \n",
       "\n",
       "      BRCN_DIAG_NM_KIND_CD  DIAG_ENM                  DIAG_KNM  \\\n",
       "56                     D00       NaN  D00 (구강, 식도 및 위의 상피내 암종)   \n",
       "92                     D00       NaN  D00 (구강, 식도 및 위의 상피내 암종)   \n",
       "151                    D00       NaN  D00 (구강, 식도 및 위의 상피내 암종)   \n",
       "207                    D00       NaN  D00 (구강, 식도 및 위의 상피내 암종)   \n",
       "217                    D00       NaN  D00 (구강, 식도 및 위의 상피내 암종)   \n",
       "...                    ...       ...                       ...   \n",
       "12577                  D00       NaN  D00 (구강, 식도 및 위의 상피내 암종)   \n",
       "12672                  D00       NaN  D00 (구강, 식도 및 위의 상피내 암종)   \n",
       "12684                  D00       NaN  D00 (구강, 식도 및 위의 상피내 암종)   \n",
       "12707                  D00       NaN  D00 (구강, 식도 및 위의 상피내 암종)   \n",
       "12782                  D00       NaN  D00 (구강, 식도 및 위의 상피내 암종)   \n",
       "\n",
       "       BRCN_DIAG_CLSF_CD  BRCN_DIAG_CLSF_CD_ETC_CONT DIAG_CLSF_NM  \\\n",
       "56                     1                         NaN          유방암   \n",
       "92                    99                         NaN           기타   \n",
       "151                   99                         NaN           기타   \n",
       "207                    1                         NaN          유방암   \n",
       "217                   99                         NaN           기타   \n",
       "...                  ...                         ...          ...   \n",
       "12577                 99                         NaN           기타   \n",
       "12672                 99                         NaN           기타   \n",
       "12684                 99                         NaN           기타   \n",
       "12707                 99                         NaN           기타   \n",
       "12782                  1                         NaN          유방암   \n",
       "\n",
       "                CRTN_DT  \n",
       "56     2020-08-07 15:48  \n",
       "92     2020-08-07 15:48  \n",
       "151    2020-08-07 15:48  \n",
       "207    2020-08-07 15:48  \n",
       "217    2020-08-07 15:48  \n",
       "...                 ...  \n",
       "12577  2020-08-07 15:48  \n",
       "12672  2020-08-07 15:48  \n",
       "12684  2020-08-07 15:48  \n",
       "12707  2020-08-07 15:48  \n",
       "12782  2020-08-07 15:48  \n",
       "\n",
       "[246 rows x 12 columns]"
      ]
     },
     "execution_count": 94,
     "metadata": {},
     "output_type": "execute_result"
    }
   ],
   "source": [
    "temp5[temp5['BRCN_DIAG_NM_KIND_CD']=='D00']"
   ]
  },
  {
   "cell_type": "code",
   "execution_count": 91,
   "metadata": {},
   "outputs": [
    {
     "data": {
      "image/png": "[encoded data removed]",
      "text/plain": [
       "<Figure size 1080x288 with 1 Axes>"
      ]
     },
     "metadata": {
      "needs_background": "light"
     },
     "output_type": "display_data"
    }
   ],
   "source": [
    "plt.figure(figsize=(15,4)) \n",
    "ax = sns.countplot('BRCN_DIAG_NM_KIND_CD', data=temp5)\n",
    "ax.set_xticklabels(ax.get_xticklabels(), rotation=90, ha=\"right\")\n",
    "plt.tight_layout()\n",
    "plt.show()"
   ]
  },
  {
   "cell_type": "code",
   "execution_count": null,
   "metadata": {},
   "outputs": [],
   "source": []
  },
  {
   "cell_type": "code",
   "execution_count": 96,
   "metadata": {},
   "outputs": [
    {
     "data": {
      "text/plain": [
       "12800"
      ]
     },
     "execution_count": 96,
     "metadata": {},
     "output_type": "execute_result"
    }
   ],
   "source": [
    "# 항암치료\n",
    "\n",
    "temp6 = pd.read_csv(path+path1+\"BRST_TRTM_CASB.csv\", encoding='CP949')\n",
    "temp6.shape[0]"
   ]
  },
  {
   "cell_type": "code",
   "execution_count": 117,
   "metadata": {},
   "outputs": [
    {
     "data": {
      "text/plain": [
       "Padexol 300mg Inj    1169\n",
       "Name: CASB_NM, dtype: int64"
      ]
     },
     "execution_count": 117,
     "metadata": {},
     "output_type": "execute_result"
    }
   ],
   "source": [
    "# 1169\n",
    "\n",
    "temp6['CASB_NM'].value_counts()"
   ]
  },
  {
   "cell_type": "code",
   "execution_count": 113,
   "metadata": {},
   "outputs": [
    {
     "data": {
      "text/plain": [
       "22    254\n",
       "4     219\n",
       "88    207\n",
       "93    207\n",
       "57    206\n",
       "     ... \n",
       "60     52\n",
       "42     51\n",
       "50     51\n",
       "21     51\n",
       "74     38\n",
       "Name: ANCN_TRTM_CAPA, Length: 100, dtype: int64"
      ]
     },
     "execution_count": 113,
     "metadata": {},
     "output_type": "execute_result"
    }
   ],
   "source": [
    "temp6['ANCN_TRTM_CAPA'].value_counts()"
   ]
  },
  {
   "cell_type": "code",
   "execution_count": 107,
   "metadata": {},
   "outputs": [
    {
     "data": {
      "text/plain": [
       "array([ 82,  10,  68,  16,  75,  80,  35,   7,  51,  36,  52,  61,  48,\n",
       "         8,  37,  57,  93,  44,  83,  84,  96,  94,  70,  55,   6,  43,\n",
       "        38,  76,   3,   2,  77,  39,  86,  69,  18,  49,  59,  33,  95,\n",
       "        78,  71,  34,  15,  88,  25,  56,  79,  31,  97,  67,   5,  41,\n",
       "        58,   9,  73,  64,   4,  28,  89,  45,  54,  62,  24,  66,  91,\n",
       "        81,  53,  12,  26,  20,  87,   1,  13,  27,  11,  40,  22,  19,\n",
       "        99,  90,  46,  29,  92,  42,  65,  74,  17,  85,  23,  63,  98,\n",
       "        60,  30, 100,  21,  72,  47,  32,  14,  50])"
      ]
     },
     "execution_count": 107,
     "metadata": {},
     "output_type": "execute_result"
    }
   ],
   "source": [
    "temp6.ANCN_TRTM_CAPA.unique()"
   ]
  },
  {
   "cell_type": "code",
   "execution_count": 130,
   "metadata": {},
   "outputs": [
    {
     "data": {
      "text/plain": [
       "<seaborn.axisgrid.FacetGrid at 0x7f362b9b1fd0>"
      ]
     },
     "execution_count": 130,
     "metadata": {},
     "output_type": "execute_result"
    },
    {
     "data": {
      "image/png": "[encoded data removed]",
      "text/plain": [
       "<Figure size 612x360 with 1 Axes>"
      ]
     },
     "metadata": {
      "needs_background": "light"
     },
     "output_type": "display_data"
    }
   ],
   "source": [
    "sns.catplot('CASB_CAPA', data=temp6, kind='violin', aspect=1.7)\n"
   ]
  },
  {
   "cell_type": "code",
   "execution_count": 97,
   "metadata": {},
   "outputs": [
    {
     "data": {
      "text/plain": [
       "12800"
      ]
     },
     "execution_count": 97,
     "metadata": {},
     "output_type": "execute_result"
    }
   ],
   "source": [
    "# 호르몬\n",
    "\n",
    "temp7 = pd.read_csv(path+path1+\"BRST_TRTM_HRDG.csv\", encoding='CP949')\n",
    "temp7.shape[0]"
   ]
  },
  {
   "cell_type": "code",
   "execution_count": 99,
   "metadata": {},
   "outputs": [
    {
     "data": {
      "text/plain": [
       "12800"
      ]
     },
     "execution_count": 99,
     "metadata": {},
     "output_type": "execute_result"
    }
   ],
   "source": [
    "# 방사선\n",
    "\n",
    "temp8 = pd.read_csv(path+path1+\"BRST_TRTM_RD.csv\", encoding='CP949')\n",
    "temp8.shape[0]"
   ]
  },
  {
   "cell_type": "code",
   "execution_count": 128,
   "metadata": {},
   "outputs": [
    {
     "data": {
      "text/plain": [
       "<seaborn.axisgrid.FacetGrid at 0x7f362b9f3d90>"
      ]
     },
     "execution_count": 128,
     "metadata": {},
     "output_type": "execute_result"
    },
    {
     "data": {
      "image/png": "[encoded data removed]",
      "text/plain": [
       "<Figure size 612x360 with 1 Axes>"
      ]
     },
     "metadata": {
      "needs_background": "light"
     },
     "output_type": "display_data"
    }
   ],
   "source": [
    "sns.catplot('RDT_TOTL_TRTM_NT', data=temp8, kind='violin', aspect=1.7)"
   ]
  },
  {
   "cell_type": "code",
   "execution_count": 100,
   "metadata": {},
   "outputs": [
    {
     "data": {
      "text/plain": [
       "12800"
      ]
     },
     "execution_count": 100,
     "metadata": {},
     "output_type": "execute_result"
    }
   ],
   "source": [
    "# 기타약제\n",
    "\n",
    "temp9 = pd.read_csv(path+path1+\"BRST_TRTM_THDR.csv\", encoding='CP949')\n",
    "temp9.shape[0]"
   ]
  },
  {
   "cell_type": "code",
   "execution_count": 125,
   "metadata": {},
   "outputs": [
    {
     "data": {
      "text/plain": [
       "Spironolac/hydrochlorthia.    484\n",
       "Tenofovir                     448\n",
       "Losartan                      448\n",
       "Nateglinide                   448\n",
       "Filgrastim                    423\n",
       "Ibandronic acid               422\n",
       "Enoxaparin                    421\n",
       "Metformin                     410\n",
       "Entecavir                     396\n",
       "Leuprorelin                   395\n",
       "Atorvastatin                  388\n",
       "Metoprolol                    381\n",
       "Epoetin-alpha                 362\n",
       "Zoledronic acid               360\n",
       "Entecarvir                    359\n",
       "Pneumococcal vaccine          358\n",
       "Carvedilol                    357\n",
       "Amlodipine                    347\n",
       "Dexrazoxane                   347\n",
       "Pamidronate                   345\n",
       "Other                         333\n",
       "Lamivudine                    329\n",
       "Hydrochlorothiazide           321\n",
       "Pravastatin                   320\n",
       "Pneumococcal conj. Vaccine    310\n",
       "Dalteparin                    309\n",
       "varicella virus vaccine       309\n",
       "Darbepoetin                   304\n",
       "Enalapril                     298\n",
       "Lovastatin                    298\n",
       "Adenosine                     279\n",
       "Tripegfilgrastim              269\n",
       "Glimepiride/Metformin         268\n",
       "Bisoprolol                    256\n",
       "Nifedipine                    253\n",
       "Goserelin                     240\n",
       "Pegfilgrastim                 205\n",
       "Name: MD_NM, dtype: int64"
      ]
     },
     "execution_count": 125,
     "metadata": {},
     "output_type": "execute_result"
    }
   ],
   "source": [
    "temp9.MD_NM.value_counts()"
   ]
  },
  {
   "cell_type": "code",
   "execution_count": 120,
   "metadata": {},
   "outputs": [
    {
     "ename": "AttributeError",
     "evalue": "'DataFrame' object has no attribute 'CASB_NM'",
     "output_type": "error",
     "traceback": [
      "\u001b[0;31m---------------------------------------------------------------------------\u001b[0m",
      "\u001b[0;31mAttributeError\u001b[0m                            Traceback (most recent call last)",
      "\u001b[0;32m<ipython-input-120-25e1c2bd0968>\u001b[0m in \u001b[0;36m<module>\u001b[0;34m\u001b[0m\n\u001b[0;32m----> 1\u001b[0;31m \u001b[0mtemp9\u001b[0m\u001b[0;34m.\u001b[0m\u001b[0mCASB_NM\u001b[0m\u001b[0;34m\u001b[0m\u001b[0;34m\u001b[0m\u001b[0m\n\u001b[0m",
      "\u001b[0;32m~/anaconda3/lib/python3.8/site-packages/pandas/core/generic.py\u001b[0m in \u001b[0;36m__getattr__\u001b[0;34m(self, name)\u001b[0m\n\u001b[1;32m   5272\u001b[0m             \u001b[0;32mif\u001b[0m \u001b[0mself\u001b[0m\u001b[0;34m.\u001b[0m\u001b[0m_info_axis\u001b[0m\u001b[0;34m.\u001b[0m\u001b[0m_can_hold_identifiers_and_holds_name\u001b[0m\u001b[0;34m(\u001b[0m\u001b[0mname\u001b[0m\u001b[0;34m)\u001b[0m\u001b[0;34m:\u001b[0m\u001b[0;34m\u001b[0m\u001b[0;34m\u001b[0m\u001b[0m\n\u001b[1;32m   5273\u001b[0m                 \u001b[0;32mreturn\u001b[0m \u001b[0mself\u001b[0m\u001b[0;34m[\u001b[0m\u001b[0mname\u001b[0m\u001b[0;34m]\u001b[0m\u001b[0;34m\u001b[0m\u001b[0;34m\u001b[0m\u001b[0m\n\u001b[0;32m-> 5274\u001b[0;31m             \u001b[0;32mreturn\u001b[0m \u001b[0mobject\u001b[0m\u001b[0;34m.\u001b[0m\u001b[0m__getattribute__\u001b[0m\u001b[0;34m(\u001b[0m\u001b[0mself\u001b[0m\u001b[0;34m,\u001b[0m \u001b[0mname\u001b[0m\u001b[0;34m)\u001b[0m\u001b[0;34m\u001b[0m\u001b[0;34m\u001b[0m\u001b[0m\n\u001b[0m\u001b[1;32m   5275\u001b[0m \u001b[0;34m\u001b[0m\u001b[0m\n\u001b[1;32m   5276\u001b[0m     \u001b[0;32mdef\u001b[0m \u001b[0m__setattr__\u001b[0m\u001b[0;34m(\u001b[0m\u001b[0mself\u001b[0m\u001b[0;34m,\u001b[0m \u001b[0mname\u001b[0m\u001b[0;34m:\u001b[0m \u001b[0mstr\u001b[0m\u001b[0;34m,\u001b[0m \u001b[0mvalue\u001b[0m\u001b[0;34m)\u001b[0m \u001b[0;34m->\u001b[0m \u001b[0;32mNone\u001b[0m\u001b[0;34m:\u001b[0m\u001b[0;34m\u001b[0m\u001b[0;34m\u001b[0m\u001b[0m\n",
      "\u001b[0;31mAttributeError\u001b[0m: 'DataFrame' object has no attribute 'CASB_NM'"
     ]
    }
   ],
   "source": [
    "temp9.CASB_NM"
   ]
  },
  {
   "cell_type": "code",
   "execution_count": 119,
   "metadata": {},
   "outputs": [
    {
     "ename": "KeyError",
     "evalue": "'CASB_NM'",
     "output_type": "error",
     "traceback": [
      "\u001b[0;31m---------------------------------------------------------------------------\u001b[0m",
      "\u001b[0;31mKeyError\u001b[0m                                  Traceback (most recent call last)",
      "\u001b[0;32m~/anaconda3/lib/python3.8/site-packages/pandas/core/indexes/base.py\u001b[0m in \u001b[0;36mget_loc\u001b[0;34m(self, key, method, tolerance)\u001b[0m\n\u001b[1;32m   2645\u001b[0m             \u001b[0;32mtry\u001b[0m\u001b[0;34m:\u001b[0m\u001b[0;34m\u001b[0m\u001b[0;34m\u001b[0m\u001b[0m\n\u001b[0;32m-> 2646\u001b[0;31m                 \u001b[0;32mreturn\u001b[0m \u001b[0mself\u001b[0m\u001b[0;34m.\u001b[0m\u001b[0m_engine\u001b[0m\u001b[0;34m.\u001b[0m\u001b[0mget_loc\u001b[0m\u001b[0;34m(\u001b[0m\u001b[0mkey\u001b[0m\u001b[0;34m)\u001b[0m\u001b[0;34m\u001b[0m\u001b[0;34m\u001b[0m\u001b[0m\n\u001b[0m\u001b[1;32m   2647\u001b[0m             \u001b[0;32mexcept\u001b[0m \u001b[0mKeyError\u001b[0m\u001b[0;34m:\u001b[0m\u001b[0;34m\u001b[0m\u001b[0;34m\u001b[0m\u001b[0m\n",
      "\u001b[0;32mpandas/_libs/index.pyx\u001b[0m in \u001b[0;36mpandas._libs.index.IndexEngine.get_loc\u001b[0;34m()\u001b[0m\n",
      "\u001b[0;32mpandas/_libs/index.pyx\u001b[0m in \u001b[0;36mpandas._libs.index.IndexEngine.get_loc\u001b[0;34m()\u001b[0m\n",
      "\u001b[0;32mpandas/_libs/hashtable_class_helper.pxi\u001b[0m in \u001b[0;36mpandas._libs.hashtable.PyObjectHashTable.get_item\u001b[0;34m()\u001b[0m\n",
      "\u001b[0;32mpandas/_libs/hashtable_class_helper.pxi\u001b[0m in \u001b[0;36mpandas._libs.hashtable.PyObjectHashTable.get_item\u001b[0;34m()\u001b[0m\n",
      "\u001b[0;31mKeyError\u001b[0m: 'CASB_NM'",
      "\nDuring handling of the above exception, another exception occurred:\n",
      "\u001b[0;31mKeyError\u001b[0m                                  Traceback (most recent call last)",
      "\u001b[0;32m<ipython-input-119-11afb234a5a8>\u001b[0m in \u001b[0;36m<module>\u001b[0;34m\u001b[0m\n\u001b[0;32m----> 1\u001b[0;31m \u001b[0mtemp9\u001b[0m\u001b[0;34m[\u001b[0m\u001b[0;34m'CASB_NM'\u001b[0m\u001b[0;34m]\u001b[0m\u001b[0;34m.\u001b[0m\u001b[0munique\u001b[0m\u001b[0;34m(\u001b[0m\u001b[0;34m)\u001b[0m\u001b[0;34m\u001b[0m\u001b[0;34m\u001b[0m\u001b[0m\n\u001b[0m",
      "\u001b[0;32m~/anaconda3/lib/python3.8/site-packages/pandas/core/frame.py\u001b[0m in \u001b[0;36m__getitem__\u001b[0;34m(self, key)\u001b[0m\n\u001b[1;32m   2798\u001b[0m             \u001b[0;32mif\u001b[0m \u001b[0mself\u001b[0m\u001b[0;34m.\u001b[0m\u001b[0mcolumns\u001b[0m\u001b[0;34m.\u001b[0m\u001b[0mnlevels\u001b[0m \u001b[0;34m>\u001b[0m \u001b[0;36m1\u001b[0m\u001b[0;34m:\u001b[0m\u001b[0;34m\u001b[0m\u001b[0;34m\u001b[0m\u001b[0m\n\u001b[1;32m   2799\u001b[0m                 \u001b[0;32mreturn\u001b[0m \u001b[0mself\u001b[0m\u001b[0;34m.\u001b[0m\u001b[0m_getitem_multilevel\u001b[0m\u001b[0;34m(\u001b[0m\u001b[0mkey\u001b[0m\u001b[0;34m)\u001b[0m\u001b[0;34m\u001b[0m\u001b[0;34m\u001b[0m\u001b[0m\n\u001b[0;32m-> 2800\u001b[0;31m             \u001b[0mindexer\u001b[0m \u001b[0;34m=\u001b[0m \u001b[0mself\u001b[0m\u001b[0;34m.\u001b[0m\u001b[0mcolumns\u001b[0m\u001b[0;34m.\u001b[0m\u001b[0mget_loc\u001b[0m\u001b[0;34m(\u001b[0m\u001b[0mkey\u001b[0m\u001b[0;34m)\u001b[0m\u001b[0;34m\u001b[0m\u001b[0;34m\u001b[0m\u001b[0m\n\u001b[0m\u001b[1;32m   2801\u001b[0m             \u001b[0;32mif\u001b[0m \u001b[0mis_integer\u001b[0m\u001b[0;34m(\u001b[0m\u001b[0mindexer\u001b[0m\u001b[0;34m)\u001b[0m\u001b[0;34m:\u001b[0m\u001b[0;34m\u001b[0m\u001b[0;34m\u001b[0m\u001b[0m\n\u001b[1;32m   2802\u001b[0m                 \u001b[0mindexer\u001b[0m \u001b[0;34m=\u001b[0m \u001b[0;34m[\u001b[0m\u001b[0mindexer\u001b[0m\u001b[0;34m]\u001b[0m\u001b[0;34m\u001b[0m\u001b[0;34m\u001b[0m\u001b[0m\n",
      "\u001b[0;32m~/anaconda3/lib/python3.8/site-packages/pandas/core/indexes/base.py\u001b[0m in \u001b[0;36mget_loc\u001b[0;34m(self, key, method, tolerance)\u001b[0m\n\u001b[1;32m   2646\u001b[0m                 \u001b[0;32mreturn\u001b[0m \u001b[0mself\u001b[0m\u001b[0;34m.\u001b[0m\u001b[0m_engine\u001b[0m\u001b[0;34m.\u001b[0m\u001b[0mget_loc\u001b[0m\u001b[0;34m(\u001b[0m\u001b[0mkey\u001b[0m\u001b[0;34m)\u001b[0m\u001b[0;34m\u001b[0m\u001b[0;34m\u001b[0m\u001b[0m\n\u001b[1;32m   2647\u001b[0m             \u001b[0;32mexcept\u001b[0m \u001b[0mKeyError\u001b[0m\u001b[0;34m:\u001b[0m\u001b[0;34m\u001b[0m\u001b[0;34m\u001b[0m\u001b[0m\n\u001b[0;32m-> 2648\u001b[0;31m                 \u001b[0;32mreturn\u001b[0m \u001b[0mself\u001b[0m\u001b[0;34m.\u001b[0m\u001b[0m_engine\u001b[0m\u001b[0;34m.\u001b[0m\u001b[0mget_loc\u001b[0m\u001b[0;34m(\u001b[0m\u001b[0mself\u001b[0m\u001b[0;34m.\u001b[0m\u001b[0m_maybe_cast_indexer\u001b[0m\u001b[0;34m(\u001b[0m\u001b[0mkey\u001b[0m\u001b[0;34m)\u001b[0m\u001b[0;34m)\u001b[0m\u001b[0;34m\u001b[0m\u001b[0;34m\u001b[0m\u001b[0m\n\u001b[0m\u001b[1;32m   2649\u001b[0m         \u001b[0mindexer\u001b[0m \u001b[0;34m=\u001b[0m \u001b[0mself\u001b[0m\u001b[0;34m.\u001b[0m\u001b[0mget_indexer\u001b[0m\u001b[0;34m(\u001b[0m\u001b[0;34m[\u001b[0m\u001b[0mkey\u001b[0m\u001b[0;34m]\u001b[0m\u001b[0;34m,\u001b[0m \u001b[0mmethod\u001b[0m\u001b[0;34m=\u001b[0m\u001b[0mmethod\u001b[0m\u001b[0;34m,\u001b[0m \u001b[0mtolerance\u001b[0m\u001b[0;34m=\u001b[0m\u001b[0mtolerance\u001b[0m\u001b[0;34m)\u001b[0m\u001b[0;34m\u001b[0m\u001b[0;34m\u001b[0m\u001b[0m\n\u001b[1;32m   2650\u001b[0m         \u001b[0;32mif\u001b[0m \u001b[0mindexer\u001b[0m\u001b[0;34m.\u001b[0m\u001b[0mndim\u001b[0m \u001b[0;34m>\u001b[0m \u001b[0;36m1\u001b[0m \u001b[0;32mor\u001b[0m \u001b[0mindexer\u001b[0m\u001b[0;34m.\u001b[0m\u001b[0msize\u001b[0m \u001b[0;34m>\u001b[0m \u001b[0;36m1\u001b[0m\u001b[0;34m:\u001b[0m\u001b[0;34m\u001b[0m\u001b[0;34m\u001b[0m\u001b[0m\n",
      "\u001b[0;32mpandas/_libs/index.pyx\u001b[0m in \u001b[0;36mpandas._libs.index.IndexEngine.get_loc\u001b[0;34m()\u001b[0m\n",
      "\u001b[0;32mpandas/_libs/index.pyx\u001b[0m in \u001b[0;36mpandas._libs.index.IndexEngine.get_loc\u001b[0;34m()\u001b[0m\n",
      "\u001b[0;32mpandas/_libs/hashtable_class_helper.pxi\u001b[0m in \u001b[0;36mpandas._libs.hashtable.PyObjectHashTable.get_item\u001b[0;34m()\u001b[0m\n",
      "\u001b[0;32mpandas/_libs/hashtable_class_helper.pxi\u001b[0m in \u001b[0;36mpandas._libs.hashtable.PyObjectHashTable.get_item\u001b[0;34m()\u001b[0m\n",
      "\u001b[0;31mKeyError\u001b[0m: 'CASB_NM'"
     ]
    }
   ],
   "source": [
    "temp9['CASB_NM'].unique()"
   ]
  },
  {
   "cell_type": "code",
   "execution_count": null,
   "metadata": {},
   "outputs": [],
   "source": []
  },
  {
   "cell_type": "code",
   "execution_count": 155,
   "metadata": {},
   "outputs": [],
   "source": [
    "df = pd.concat([temp6['ANCN_TRTM_PRSC_YMD'], temp4['DEATH_YMD']], axis=1)"
   ]
  },
  {
   "cell_type": "code",
   "execution_count": 156,
   "metadata": {},
   "outputs": [],
   "source": [
    "df['ANCN_TRTM_PRSC_YMD'] = pd.to_datetime(df['ANCN_TRTM_PRSC_YMD'], format=\"%Y%m%d\")\n",
    "df['DEATH_YMD'] = pd.to_datetime(df['DEATH_YMD'], format=\"%Y%m%d\")"
   ]
  },
  {
   "cell_type": "code",
   "execution_count": 160,
   "metadata": {},
   "outputs": [],
   "source": [
    "df = df.dropna()"
   ]
  },
  {
   "cell_type": "code",
   "execution_count": 164,
   "metadata": {},
   "outputs": [],
   "source": [
    "import datetime as dt"
   ]
  },
  {
   "cell_type": "code",
   "execution_count": 172,
   "metadata": {},
   "outputs": [],
   "source": [
    "df['사후치료'] = 0\n",
    "df.loc[(df['DEATH_YMD'] - df['ANCN_TRTM_PRSC_YMD']) < dt.timedelta(hours=1), '사후치료'] = 1"
   ]
  },
  {
   "cell_type": "code",
   "execution_count": 175,
   "metadata": {},
   "outputs": [
    {
     "data": {
      "text/html": [
       "<div>\n",
       "<style scoped>\n",
       "    .dataframe tbody tr th:only-of-type {\n",
       "        vertical-align: middle;\n",
       "    }\n",
       "\n",
       "    .dataframe tbody tr th {\n",
       "        vertical-align: top;\n",
       "    }\n",
       "\n",
       "    .dataframe thead th {\n",
       "        text-align: right;\n",
       "    }\n",
       "</style>\n",
       "<table border=\"1\" class=\"dataframe\">\n",
       "  <thead>\n",
       "    <tr style=\"text-align: right;\">\n",
       "      <th></th>\n",
       "      <th>ANCN_TRTM_PRSC_YMD</th>\n",
       "      <th>DEATH_YMD</th>\n",
       "      <th>사후치료</th>\n",
       "    </tr>\n",
       "  </thead>\n",
       "  <tbody>\n",
       "    <tr>\n",
       "      <th>0</th>\n",
       "      <td>2014-07-17</td>\n",
       "      <td>2016-05-15</td>\n",
       "      <td>0</td>\n",
       "    </tr>\n",
       "    <tr>\n",
       "      <th>1</th>\n",
       "      <td>2012-09-28</td>\n",
       "      <td>2009-10-01</td>\n",
       "      <td>1</td>\n",
       "    </tr>\n",
       "    <tr>\n",
       "      <th>2</th>\n",
       "      <td>2016-05-08</td>\n",
       "      <td>2008-10-31</td>\n",
       "      <td>1</td>\n",
       "    </tr>\n",
       "    <tr>\n",
       "      <th>3</th>\n",
       "      <td>2014-10-31</td>\n",
       "      <td>2014-11-05</td>\n",
       "      <td>0</td>\n",
       "    </tr>\n",
       "    <tr>\n",
       "      <th>4</th>\n",
       "      <td>2015-08-31</td>\n",
       "      <td>2011-03-24</td>\n",
       "      <td>1</td>\n",
       "    </tr>\n",
       "    <tr>\n",
       "      <th>...</th>\n",
       "      <td>...</td>\n",
       "      <td>...</td>\n",
       "      <td>...</td>\n",
       "    </tr>\n",
       "    <tr>\n",
       "      <th>12667</th>\n",
       "      <td>2013-01-12</td>\n",
       "      <td>2012-12-12</td>\n",
       "      <td>1</td>\n",
       "    </tr>\n",
       "    <tr>\n",
       "      <th>12668</th>\n",
       "      <td>2013-01-12</td>\n",
       "      <td>2016-09-12</td>\n",
       "      <td>0</td>\n",
       "    </tr>\n",
       "    <tr>\n",
       "      <th>12669</th>\n",
       "      <td>2014-11-12</td>\n",
       "      <td>2008-03-12</td>\n",
       "      <td>1</td>\n",
       "    </tr>\n",
       "    <tr>\n",
       "      <th>12670</th>\n",
       "      <td>2014-12-12</td>\n",
       "      <td>2009-11-12</td>\n",
       "      <td>1</td>\n",
       "    </tr>\n",
       "    <tr>\n",
       "      <th>12671</th>\n",
       "      <td>2010-10-12</td>\n",
       "      <td>2008-03-12</td>\n",
       "      <td>1</td>\n",
       "    </tr>\n",
       "  </tbody>\n",
       "</table>\n",
       "<p>12672 rows × 3 columns</p>\n",
       "</div>"
      ],
      "text/plain": [
       "      ANCN_TRTM_PRSC_YMD  DEATH_YMD  사후치료\n",
       "0             2014-07-17 2016-05-15     0\n",
       "1             2012-09-28 2009-10-01     1\n",
       "2             2016-05-08 2008-10-31     1\n",
       "3             2014-10-31 2014-11-05     0\n",
       "4             2015-08-31 2011-03-24     1\n",
       "...                  ...        ...   ...\n",
       "12667         2013-01-12 2012-12-12     1\n",
       "12668         2013-01-12 2016-09-12     0\n",
       "12669         2014-11-12 2008-03-12     1\n",
       "12670         2014-12-12 2009-11-12     1\n",
       "12671         2010-10-12 2008-03-12     1\n",
       "\n",
       "[12672 rows x 3 columns]"
      ]
     },
     "execution_count": 175,
     "metadata": {},
     "output_type": "execute_result"
    }
   ],
   "source": [
    "df\n",
    "# ANCN_TRTM_PRSC_YMD = 항임치료 일\n",
    "# DEATH_YMD = 죽은날짜"
   ]
  },
  {
   "cell_type": "code",
   "execution_count": 174,
   "metadata": {},
   "outputs": [
    {
     "data": {
      "text/plain": [
       "6982"
      ]
     },
     "execution_count": 174,
     "metadata": {},
     "output_type": "execute_result"
    }
   ],
   "source": [
    "df['사후치료'].sum()"
   ]
  },
  {
   "cell_type": "code",
   "execution_count": null,
   "metadata": {},
   "outputs": [],
   "source": []
  },
  {
   "cell_type": "code",
   "execution_count": 139,
   "metadata": {},
   "outputs": [
    {
     "data": {
      "text/plain": [
       "12800"
      ]
     },
     "execution_count": 139,
     "metadata": {},
     "output_type": "execute_result"
    }
   ],
   "source": [
    "len(temp6)"
   ]
  },
  {
   "cell_type": "code",
   "execution_count": 141,
   "metadata": {},
   "outputs": [
    {
     "data": {
      "text/plain": [
       "12672"
      ]
     },
     "execution_count": 141,
     "metadata": {},
     "output_type": "execute_result"
    }
   ],
   "source": [
    "len(temp4)"
   ]
  },
  {
   "cell_type": "code",
   "execution_count": 138,
   "metadata": {},
   "outputs": [
    {
     "data": {
      "text/html": [
       "<div>\n",
       "<style scoped>\n",
       "    .dataframe tbody tr th:only-of-type {\n",
       "        vertical-align: middle;\n",
       "    }\n",
       "\n",
       "    .dataframe tbody tr th {\n",
       "        vertical-align: top;\n",
       "    }\n",
       "\n",
       "    .dataframe thead th {\n",
       "        text-align: right;\n",
       "    }\n",
       "</style>\n",
       "<table border=\"1\" class=\"dataframe\">\n",
       "  <thead>\n",
       "    <tr style=\"text-align: right;\">\n",
       "      <th></th>\n",
       "      <th>ANCN_TRTM_PRSC_YMD</th>\n",
       "      <th>DEATH_YMD</th>\n",
       "    </tr>\n",
       "  </thead>\n",
       "  <tbody>\n",
       "    <tr>\n",
       "      <th>0</th>\n",
       "      <td>20140717</td>\n",
       "      <td>20160515.0</td>\n",
       "    </tr>\n",
       "    <tr>\n",
       "      <th>1</th>\n",
       "      <td>20120928</td>\n",
       "      <td>20091001.0</td>\n",
       "    </tr>\n",
       "    <tr>\n",
       "      <th>2</th>\n",
       "      <td>20160508</td>\n",
       "      <td>20081031.0</td>\n",
       "    </tr>\n",
       "    <tr>\n",
       "      <th>3</th>\n",
       "      <td>20141031</td>\n",
       "      <td>20141105.0</td>\n",
       "    </tr>\n",
       "    <tr>\n",
       "      <th>4</th>\n",
       "      <td>20150831</td>\n",
       "      <td>20110324.0</td>\n",
       "    </tr>\n",
       "    <tr>\n",
       "      <th>...</th>\n",
       "      <td>...</td>\n",
       "      <td>...</td>\n",
       "    </tr>\n",
       "    <tr>\n",
       "      <th>12795</th>\n",
       "      <td>20120712</td>\n",
       "      <td>NaN</td>\n",
       "    </tr>\n",
       "    <tr>\n",
       "      <th>12796</th>\n",
       "      <td>20080712</td>\n",
       "      <td>NaN</td>\n",
       "    </tr>\n",
       "    <tr>\n",
       "      <th>12797</th>\n",
       "      <td>20101012</td>\n",
       "      <td>NaN</td>\n",
       "    </tr>\n",
       "    <tr>\n",
       "      <th>12798</th>\n",
       "      <td>20080212</td>\n",
       "      <td>NaN</td>\n",
       "    </tr>\n",
       "    <tr>\n",
       "      <th>12799</th>\n",
       "      <td>20160712</td>\n",
       "      <td>NaN</td>\n",
       "    </tr>\n",
       "  </tbody>\n",
       "</table>\n",
       "<p>12800 rows × 2 columns</p>\n",
       "</div>"
      ],
      "text/plain": [
       "       ANCN_TRTM_PRSC_YMD   DEATH_YMD\n",
       "0                20140717  20160515.0\n",
       "1                20120928  20091001.0\n",
       "2                20160508  20081031.0\n",
       "3                20141031  20141105.0\n",
       "4                20150831  20110324.0\n",
       "...                   ...         ...\n",
       "12795            20120712         NaN\n",
       "12796            20080712         NaN\n",
       "12797            20101012         NaN\n",
       "12798            20080212         NaN\n",
       "12799            20160712         NaN\n",
       "\n",
       "[12800 rows x 2 columns]"
      ]
     },
     "execution_count": 138,
     "metadata": {},
     "output_type": "execute_result"
    }
   ],
   "source": [
    "df"
   ]
  }
 ],
 "metadata": {
  "kernelspec": {
   "display_name": "Python 3",
   "language": "python",
   "name": "python3"
  },
  "language_info": {
   "codemirror_mode": {
    "name": "ipython",
    "version": 3
   },
   "file_extension": ".py",
   "mimetype": "text/x-python",
   "name": "python",
   "nbconvert_exporter": "python",
   "pygments_lexer": "ipython3",
   "version": "3.8.3"
  }
 },
 "nbformat": 4,
 "nbformat_minor": 4
}
