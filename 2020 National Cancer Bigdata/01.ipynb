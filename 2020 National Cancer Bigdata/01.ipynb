{
 "cells": [
  {
   "cell_type": "code",
   "execution_count": 2,
   "metadata": {},
   "outputs": [],
   "source": [
    "import numpy as np\n",
    "import pandas as pd\n",
    "\n",
    "import matplotlib as mpl\n",
    "import matplotlib.pyplot as plt\n",
    "import seaborn as sns\n",
    "%matplotlib inline"
   ]
  },
  {
   "cell_type": "code",
   "execution_count": 15,
   "metadata": {},
   "outputs": [
    {
     "data": {
      "text/html": [
       "<div>\n",
       "<style scoped>\n",
       "    .dataframe tbody tr th:only-of-type {\n",
       "        vertical-align: middle;\n",
       "    }\n",
       "\n",
       "    .dataframe tbody tr th {\n",
       "        vertical-align: top;\n",
       "    }\n",
       "\n",
       "    .dataframe thead th {\n",
       "        text-align: right;\n",
       "    }\n",
       "</style>\n",
       "<table border=\"1\" class=\"dataframe\">\n",
       "  <thead>\n",
       "    <tr style=\"text-align: right;\">\n",
       "      <th></th>\n",
       "      <th>CENTER_CD</th>\n",
       "      <th>IRB_APRV_NO</th>\n",
       "      <th>PT_SBST_NO</th>\n",
       "      <th>BRCA1_EXAM_YMD</th>\n",
       "      <th>BRCA1_PAVR_DTCT_CLSF_CD</th>\n",
       "      <th>BRCA1_UNCL_VARN_DTCT_CLSF_CD</th>\n",
       "      <th>CRTN_DT</th>\n",
       "    </tr>\n",
       "  </thead>\n",
       "  <tbody>\n",
       "    <tr>\n",
       "      <th>0</th>\n",
       "      <td>30</td>\n",
       "      <td>IRB</td>\n",
       "      <td>P00001</td>\n",
       "      <td>20120926</td>\n",
       "      <td>2</td>\n",
       "      <td>1</td>\n",
       "      <td>2020-08-10 11:30</td>\n",
       "    </tr>\n",
       "    <tr>\n",
       "      <th>1</th>\n",
       "      <td>30</td>\n",
       "      <td>IRB</td>\n",
       "      <td>P00002</td>\n",
       "      <td>20081017</td>\n",
       "      <td>1</td>\n",
       "      <td>2</td>\n",
       "      <td>2020-08-10 11:30</td>\n",
       "    </tr>\n",
       "    <tr>\n",
       "      <th>2</th>\n",
       "      <td>30</td>\n",
       "      <td>IRB</td>\n",
       "      <td>P00003</td>\n",
       "      <td>20151006</td>\n",
       "      <td>2</td>\n",
       "      <td>1</td>\n",
       "      <td>2020-08-10 11:30</td>\n",
       "    </tr>\n",
       "    <tr>\n",
       "      <th>3</th>\n",
       "      <td>30</td>\n",
       "      <td>IRB</td>\n",
       "      <td>P00004</td>\n",
       "      <td>20130525</td>\n",
       "      <td>2</td>\n",
       "      <td>2</td>\n",
       "      <td>2020-08-10 11:30</td>\n",
       "    </tr>\n",
       "    <tr>\n",
       "      <th>4</th>\n",
       "      <td>30</td>\n",
       "      <td>IRB</td>\n",
       "      <td>P00005</td>\n",
       "      <td>20160128</td>\n",
       "      <td>2</td>\n",
       "      <td>2</td>\n",
       "      <td>2020-08-10 11:30</td>\n",
       "    </tr>\n",
       "  </tbody>\n",
       "</table>\n",
       "</div>"
      ],
      "text/plain": [
       "   CENTER_CD IRB_APRV_NO PT_SBST_NO  BRCA1_EXAM_YMD  BRCA1_PAVR_DTCT_CLSF_CD  \\\n",
       "0         30         IRB     P00001        20120926                        2   \n",
       "1         30         IRB     P00002        20081017                        1   \n",
       "2         30         IRB     P00003        20151006                        2   \n",
       "3         30         IRB     P00004        20130525                        2   \n",
       "4         30         IRB     P00005        20160128                        2   \n",
       "\n",
       "   BRCA1_UNCL_VARN_DTCT_CLSF_CD           CRTN_DT  \n",
       "0                             1  2020-08-10 11:30  \n",
       "1                             2  2020-08-10 11:30  \n",
       "2                             1  2020-08-10 11:30  \n",
       "3                             2  2020-08-10 11:30  \n",
       "4                             2  2020-08-10 11:30  "
      ]
     },
     "execution_count": 15,
     "metadata": {},
     "output_type": "execute_result"
    }
   ],
   "source": [
    "path = \"../../Data/Cancer Data/\"\n",
    "path1 = '1. 유방암 Fake Data/'\n",
    "path2 = '2. 폐암 Fake Data/'\n",
    "path3 = '3. 대장암 Fake Data/'\n",
    "\n",
    "temp1 = pd.read_csv(path+path1+\"BRST_EX_BRCA1.csv\")\n",
    "temp1.head()"
   ]
  },
  {
   "cell_type": "code",
   "execution_count": 22,
   "metadata": {},
   "outputs": [
    {
     "name": "stdout",
     "output_type": "stream",
     "text": [
      "[2 1]\n",
      "[1 2]\n"
     ]
    }
   ],
   "source": [
    "# BRCA1_PAVR_DTCT_CLSF_CD, BRCA1_UNCL_VARN_DTCT_CLSF_CD 각각 2가지(1,2) 로 구성됨\n",
    "# BRCA1 병원변형체코드        BRCA1 미확인변이코드\n",
    "\n",
    "print(temp1.BRCA1_PAVR_DTCT_CLSF_CD.unique())\n",
    "print(temp1.BRCA1_UNCL_VARN_DTCT_CLSF_CD.unique())"
   ]
  },
  {
   "cell_type": "code",
   "execution_count": 48,
   "metadata": {},
   "outputs": [
    {
     "data": {
      "text/plain": [
       "<seaborn.axisgrid.FacetGrid at 0x7fb6c94bc1f0>"
      ]
     },
     "execution_count": 48,
     "metadata": {},
     "output_type": "execute_result"
    },
    {
     "data": {
      "image/png": "[encoded data removed]",
      "text/plain": [
       "<Figure size 546.125x360 with 1 Axes>"
      ]
     },
     "metadata": {
      "needs_background": "light"
     },
     "output_type": "display_data"
    }
   ],
   "source": [
    "sns.catplot(\"BRCA1_PAVR_DTCT_CLSF_CD\", hue=\"BRCA1_UNCL_VARN_DTCT_CLSF_CD\", data=temp1, kind='count')"
   ]
  },
  {
   "cell_type": "code",
   "execution_count": 33,
   "metadata": {},
   "outputs": [],
   "source": [
    "\"\"\"\n",
    "# BRCA1_PAVR_DTCT_CLSF_CD == 1\n",
    "# BRCA1_UNCL_VARN_DTCT_CLSF_CD == 1\n",
    "temp1['11'] = 0\n",
    "temp1.loc[(temp1['BRCA1_PAVR_DTCT_CLSF_CD']==1) & (temp1['BRCA1_UNCL_VARN_DTCT_CLSF_CD']==1), '11'] = 1\n",
    "\n",
    "# BRCA1_PAVR_DTCT_CLSF_CD == 1\n",
    "# BRCA1_UNCL_VARN_DTCT_CLSF_CD == 2\n",
    "temp1['12'] = 0\n",
    "temp1.loc[(temp1['BRCA1_PAVR_DTCT_CLSF_CD']==1) & (temp1['BRCA1_UNCL_VARN_DTCT_CLSF_CD']==2), '11'] = 1\n",
    "\n",
    "# BRCA1_PAVR_DTCT_CLSF_CD == 2\n",
    "# BRCA1_UNCL_VARN_DTCT_CLSF_CD == 1\n",
    "temp1['21'] = 0\n",
    "temp1.loc[(temp1['BRCA1_PAVR_DTCT_CLSF_CD']==2) & (temp1['BRCA1_UNCL_VARN_DTCT_CLSF_CD']==1), '11'] = 1\n",
    "\n",
    "# BRCA1_PAVR_DTCT_CLSF_CD == 2\n",
    "# BRCA1_UNCL_VARN_DTCT_CLSF_CD == 2\n",
    "temp1['22'] = 0\n",
    "temp1.loc[(temp1['BRCA1_PAVR_DTCT_CLSF_CD']==2) & (temp1['BRCA1_UNCL_VARN_DTCT_CLSF_CD']==2), '11'] = 1\n",
    "\"\"\""
   ]
  },
  {
   "cell_type": "code",
   "execution_count": 16,
   "metadata": {},
   "outputs": [
    {
     "data": {
      "text/html": [
       "<div>\n",
       "<style scoped>\n",
       "    .dataframe tbody tr th:only-of-type {\n",
       "        vertical-align: middle;\n",
       "    }\n",
       "\n",
       "    .dataframe tbody tr th {\n",
       "        vertical-align: top;\n",
       "    }\n",
       "\n",
       "    .dataframe thead th {\n",
       "        text-align: right;\n",
       "    }\n",
       "</style>\n",
       "<table border=\"1\" class=\"dataframe\">\n",
       "  <thead>\n",
       "    <tr style=\"text-align: right;\">\n",
       "      <th></th>\n",
       "      <th>CENTER_CD</th>\n",
       "      <th>IRB_APRV_NO</th>\n",
       "      <th>PT_SBST_NO</th>\n",
       "      <th>BRCA2_EXAM_YMD</th>\n",
       "      <th>BRCA2_PAVR_DTCT_CLSF_CD</th>\n",
       "      <th>BRCA2_UNCL_VARN_DTCT_CLSF_CD</th>\n",
       "      <th>CRTN_DT</th>\n",
       "    </tr>\n",
       "  </thead>\n",
       "  <tbody>\n",
       "    <tr>\n",
       "      <th>0</th>\n",
       "      <td>30</td>\n",
       "      <td>IRB</td>\n",
       "      <td>P00001</td>\n",
       "      <td>20120903</td>\n",
       "      <td>1</td>\n",
       "      <td>2</td>\n",
       "      <td>2020-08-10 11:35</td>\n",
       "    </tr>\n",
       "    <tr>\n",
       "      <th>1</th>\n",
       "      <td>30</td>\n",
       "      <td>IRB</td>\n",
       "      <td>P00002</td>\n",
       "      <td>20150314</td>\n",
       "      <td>2</td>\n",
       "      <td>2</td>\n",
       "      <td>2020-08-10 11:35</td>\n",
       "    </tr>\n",
       "    <tr>\n",
       "      <th>2</th>\n",
       "      <td>30</td>\n",
       "      <td>IRB</td>\n",
       "      <td>P00003</td>\n",
       "      <td>20131209</td>\n",
       "      <td>1</td>\n",
       "      <td>2</td>\n",
       "      <td>2020-08-10 11:35</td>\n",
       "    </tr>\n",
       "    <tr>\n",
       "      <th>3</th>\n",
       "      <td>30</td>\n",
       "      <td>IRB</td>\n",
       "      <td>P00004</td>\n",
       "      <td>20110915</td>\n",
       "      <td>1</td>\n",
       "      <td>2</td>\n",
       "      <td>2020-08-10 11:35</td>\n",
       "    </tr>\n",
       "    <tr>\n",
       "      <th>4</th>\n",
       "      <td>30</td>\n",
       "      <td>IRB</td>\n",
       "      <td>P00005</td>\n",
       "      <td>20150812</td>\n",
       "      <td>2</td>\n",
       "      <td>1</td>\n",
       "      <td>2020-08-10 11:35</td>\n",
       "    </tr>\n",
       "  </tbody>\n",
       "</table>\n",
       "</div>"
      ],
      "text/plain": [
       "   CENTER_CD IRB_APRV_NO PT_SBST_NO  BRCA2_EXAM_YMD  BRCA2_PAVR_DTCT_CLSF_CD  \\\n",
       "0         30         IRB     P00001        20120903                        1   \n",
       "1         30         IRB     P00002        20150314                        2   \n",
       "2         30         IRB     P00003        20131209                        1   \n",
       "3         30         IRB     P00004        20110915                        1   \n",
       "4         30         IRB     P00005        20150812                        2   \n",
       "\n",
       "   BRCA2_UNCL_VARN_DTCT_CLSF_CD           CRTN_DT  \n",
       "0                             2  2020-08-10 11:35  \n",
       "1                             2  2020-08-10 11:35  \n",
       "2                             2  2020-08-10 11:35  \n",
       "3                             2  2020-08-10 11:35  \n",
       "4                             1  2020-08-10 11:35  "
      ]
     },
     "execution_count": 16,
     "metadata": {},
     "output_type": "execute_result"
    }
   ],
   "source": [
    "temp2 = pd.read_csv(path+path1+\"BRST_EX_BRCA2.csv\")\n",
    "temp2.head()"
   ]
  },
  {
   "cell_type": "code",
   "execution_count": 49,
   "metadata": {},
   "outputs": [
    {
     "name": "stdout",
     "output_type": "stream",
     "text": [
      "[1 2]\n",
      "[2 1]\n"
     ]
    }
   ],
   "source": [
    "# BRCA2_PAVR_DTCT_CLSF_CD, BRCA2_UNCL_VARN_DTCT_CLSF_CD 각각 2가지(1,2) 로 구성됨\n",
    "# BRCA2 병원변형체코드        BRCA2 미확인변이코드\n",
    "\n",
    "print(temp2.BRCA2_PAVR_DTCT_CLSF_CD.unique())\n",
    "print(temp2.BRCA2_UNCL_VARN_DTCT_CLSF_CD.unique())"
   ]
  },
  {
   "cell_type": "code",
   "execution_count": 50,
   "metadata": {},
   "outputs": [
    {
     "data": {
      "text/plain": [
       "<seaborn.axisgrid.FacetGrid at 0x7fb6c8b7a9d0>"
      ]
     },
     "execution_count": 50,
     "metadata": {},
     "output_type": "execute_result"
    },
    {
     "data": {
      "image/png": "[encoded data removed]",
      "text/plain": [
       "<Figure size 546.125x360 with 1 Axes>"
      ]
     },
     "metadata": {
      "needs_background": "light"
     },
     "output_type": "display_data"
    }
   ],
   "source": [
    "sns.catplot(\"BRCA2_PAVR_DTCT_CLSF_CD\", hue=\"BRCA2_UNCL_VARN_DTCT_CLSF_CD\", data=temp2, kind='count')"
   ]
  },
  {
   "cell_type": "code",
   "execution_count": 53,
   "metadata": {},
   "outputs": [
    {
     "data": {
      "text/plain": [
       "array([30])"
      ]
     },
     "execution_count": 53,
     "metadata": {},
     "output_type": "execute_result"
    }
   ],
   "source": [
    "temp2.CENTER_CD.unique()"
   ]
  },
  {
   "cell_type": "code",
   "execution_count": 55,
   "metadata": {},
   "outputs": [],
   "source": [
    "temp = temp1[['BRCA1_PAVR_DTCT_CLSF_CD', 'BRCA1_UNCL_VARN_DTCT_CLSF_CD']].copy()\n",
    "temp['BRCA2_PAVR_DTCT_CLSF_CD'] = temp2['BRCA2_PAVR_DTCT_CLSF_CD']\n",
    "temp['BRCA2_UNCL_VARN_DTCT_CLSF_CD'] = temp2['BRCA2_UNCL_VARN_DTCT_CLSF_CD']"
   ]
  },
  {
   "cell_type": "code",
   "execution_count": 62,
   "metadata": {},
   "outputs": [
    {
     "data": {
      "text/plain": [
       "<seaborn.axisgrid.FacetGrid at 0x7fb6bc78f550>"
      ]
     },
     "execution_count": 62,
     "metadata": {},
     "output_type": "execute_result"
    },
    {
     "data": {
      "image/png": "[encoded data removed]",
      "text/plain": [
       "<Figure size 511.75x360 with 1 Axes>"
      ]
     },
     "metadata": {
      "needs_background": "light"
     },
     "output_type": "display_data"
    }
   ],
   "source": [
    "sns.catplot('BRCA1_PAVR_DTCT_CLSF_CD', hue='BRCA2_PAVR_DTCT_CLSF_CD', data=temp, kind='count')"
   ]
  },
  {
   "cell_type": "code",
   "execution_count": null,
   "metadata": {},
   "outputs": [],
   "source": []
  }
 ],
 "metadata": {
  "kernelspec": {
   "display_name": "Python 3",
   "language": "python",
   "name": "python3"
  },
  "language_info": {
   "codemirror_mode": {
    "name": "ipython",
    "version": 3
   },
   "file_extension": ".py",
   "mimetype": "text/x-python",
   "name": "python",
   "nbconvert_exporter": "python",
   "pygments_lexer": "ipython3",
   "version": "3.8.3"
  }
 },
 "nbformat": 4,
 "nbformat_minor": 4
}
