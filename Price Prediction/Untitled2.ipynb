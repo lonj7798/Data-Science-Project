{
 "cells": [
  {
   "cell_type": "code",
   "execution_count": 2,
   "metadata": {},
   "outputs": [
    {
     "name": "stdout",
     "output_type": "stream",
     "text": [
      "Numpy: 1.18.1\n",
      "Pandas: 1.0.3\n",
      "pmdarima: 1.2.0\n",
      "seaborn: 0.10.0\n",
      "statsmodel: 0.11.0\n",
      "matplotlib: 3.1.3\n",
      "rpy2: 2.9.4\n"
     ]
    }
   ],
   "source": [
    "import pandas as pd\n",
    "import numpy as np\n",
    "import seaborn as sns\n",
    "import matplotlib\n",
    "import matplotlib.pyplot as plt\n",
    "import pmdarima as pm\n",
    "import pmdarima\n",
    "import statsmodels\n",
    "import rpy2\n",
    "import rpy2.robjects as robjects  ##R 함수를 쓰기위함\n",
    "from tqdm import tqdm\n",
    "from rpy2.robjects import pandas2ri ##pandas를 R 데이터로 형식으로 변환하기 위함\n",
    "from rpy2.robjects.packages import importr #R 패키지를 import\n",
    "from pmdarima.arima.stationarity import ADFTest #단위근검정 ADF_TEST\n",
    "from statsmodels.graphics.tsaplots import plot_acf, plot_pacf #AR값을 정하기위한 acf,pcaf\n",
    "import warnings\n",
    "\n",
    "warnings.filterwarnings(\"ignore\")\n",
    "\n",
    "print('Numpy: %s'%(np.__version__))\n",
    "print('Pandas: %s'%(pd.__version__))\n",
    "print('pmdarima: %s'%(pmdarima.__version__))\n",
    "print('seaborn: %s'%(sns.__version__))\n",
    "print('statsmodel: %s'%(statsmodels.__version__))\n",
    "print('matplotlib: %s'%(matplotlib.__version__))\n",
    "print('rpy2: %s'%(rpy2.__version__))"
   ]
  },
  {
   "cell_type": "code",
   "execution_count": 4,
   "metadata": {
    "scrolled": true
   },
   "outputs": [
    {
     "data": {
      "text/plain": [
       "rpy2.rinterface.NULL"
      ]
     },
     "execution_count": 4,
     "metadata": {},
     "output_type": "execute_result"
    }
   ],
   "source": [
    "utils = importr('utils') ##utils 패키지를 import\n",
    "utils.install_packages('forecast') ##R의 forecast패키지를 설치한다.\n",
    "utils.install_packages('forecastHybrid') #R의 forecastHybrid패키지 설치"
   ]
  },
  {
   "cell_type": "code",
   "execution_count": null,
   "metadata": {},
   "outputs": [],
   "source": []
  },
  {
   "cell_type": "code",
   "execution_count": 31,
   "metadata": {},
   "outputs": [],
   "source": [
    "pandas2ri.activate() ##모델링시 판다스를 R 데이터로 변환하기위해 activate 시켜야함\n",
    "train = pd.read_csv('../../Data/Price prediction/train.csv')\n",
    "test = pd.read_csv('../../Data/Price prediction/test.csv')\n",
    "submission = pd.read_csv('../../Data/Price prediction/submission.csv')"
   ]
  },
  {
   "cell_type": "code",
   "execution_count": 32,
   "metadata": {},
   "outputs": [],
   "source": [
    "train = pd.concat([train, test])"
   ]
  },
  {
   "cell_type": "raw",
   "metadata": {},
   "source": []
  },
  {
   "cell_type": "markdown",
   "metadata": {},
   "source": [
    "## 2. 데이터 전처리\n",
    "## Data Cleansing & Pre-Processing\n",
    "- 매출액에 음수 값이 보이고, 환불은 금액으로 예상됨\n",
    "- 환불은 log 정규화를 했을때 무한대가 나오기 때문에 제거 하기로 결정\n",
    "- 환불발생 이전 데이터 중 카드아이디가 같고 환불액의 절대값이 같은 후보 리스트를 찾음\n",
    "- 환불 후보리스트 중 가장 최근시간(max)을 제거\n",
    "- 시계열 모델링을 위해 month 단위로 resampling 진행\n",
    "- 상점 매출이 발생하지 월은 log 정규화시 0이 아닌 최솟값으로 대치하기 위해 2로 대치(log1=0 ,log2=0.693)\n",
    "- resampling시 영업 시작전 데이터는 제거하고 시작일 부터 데이터를 유지시킴\n",
    "\n",
    "상점 매출에 **음수** 값이 존재하는 것이 확인 되었습니다. 환불금액으로 예상됩니다."
   ]
  },
  {
   "cell_type": "code",
   "execution_count": 34,
   "metadata": {
    "scrolled": true
   },
   "outputs": [
    {
     "data": {
      "text/plain": [
       "<matplotlib.axes._subplots.AxesSubplot at 0x187753c7a48>"
      ]
     },
     "execution_count": 34,
     "metadata": {},
     "output_type": "execute_result"
    },
    {
     "data": {
      "image/png": "[encoded data removed]",
      "text/plain": [
       "<Figure size 576x288 with 1 Axes>"
      ]
     },
     "metadata": {
      "needs_background": "light"
     },
     "output_type": "display_data"
    }
   ],
   "source": [
    "plt.figure(figsize=(8, 4))\n",
    "sns.boxplot(train['amount'])"
   ]
  },
  {
   "cell_type": "code",
   "execution_count": 36,
   "metadata": {},
   "outputs": [],
   "source": [
    "train['datetime'] = pd.to_datetime(train.date.astype(str) + \" \" + \n",
    "                                train.time, format='%Y-%m-%d %H:%M:%S')"
   ]
  },
  {
   "cell_type": "code",
   "execution_count": 84,
   "metadata": {},
   "outputs": [],
   "source": [
    "##환볼 노이즈를 제거 하는 함수\n",
    "def refund_remove(df):\n",
    "    refund=df[df['amount']<0]\n",
    "    non_refund=df[df['amount']>0]\n",
    "    remove_data=pd.DataFrame()\n",
    "    \n",
    "    for i in tqdm(df.store_id.unique()):\n",
    "        divided_data=non_refund[non_refund['store_id']==i] ##non_refund 스토어 데이터를 스토어별로 나눔\n",
    "        divided_data2=refund[refund['store_id']==i] ##refund 스토어 데이터를 나눔 스토어별로 나눔\n",
    "        \n",
    "        for neg in divided_data2.to_records()[:]: ##환불데이터를 차례대로 검사\n",
    "            refund_store=neg['store_id']\n",
    "            refund_id=neg['card_id'] ## 환불 카드 아이디\n",
    "            refund_datetime=neg['datetime'] ## 환불 시간\n",
    "            refund_amount=abs(neg['amount']) ## 환불액 절대값을 씌움\n",
    "                \n",
    "            ##환불시간 이전의 데이터중 카드이이디와 환불액이 같은 후보 리스트를 뽑는다.\n",
    "            refund_pay_list=divided_data[divided_data['datetime']<=refund_datetime]\n",
    "            refund_pay_list=refund_pay_list[refund_pay_list['card_id']==refund_id]\n",
    "            refund_pay_list=refund_pay_list[refund_pay_list['amount']==refund_amount]\n",
    "                \n",
    "                \n",
    "            #후보리스트가 있으면,카드아이디, 환불액이 같으면서 가장 최근시간을 제거\n",
    "            if(len(refund_pay_list)!=0):\n",
    "                refund_datetime=max(refund_pay_list['datetime']) ##가장 최근 시간을 구한다\n",
    "                remove=divided_data[divided_data['datetime']==refund_datetime] ##가장 최근시간\n",
    "                remove=remove[remove['card_id']==refund_id] ##환불 카드 아이디\n",
    "                remove=remove[remove['amount']==refund_amount] ##환불액\n",
    "                divided_data=divided_data.drop(index=remove.index) #인덱스를 통해 제거\n",
    "                    \n",
    "        ##제거한데이터를 데이터프레임에 추가한다.\n",
    "        remove_data=pd.concat([remove_data,divided_data],axis=0)\n",
    "    \n",
    "    return remove_data\n",
    "\n",
    "##월별로 다운 샘플링해주는 함수\n",
    "def month_resampling(df):\n",
    "    new_data=pd.DataFrame() \n",
    "    df['year_month']=df['date'].str.slice(stop=7)\n",
    "    year_month=df['year_month'].drop_duplicates()\n",
    "    \n",
    "    downsampling_data=df.groupby(['store_id', 'year_month']).amount.sum()\n",
    "    downsampling_data=pd.DataFrame(downsampling_data)\n",
    "    downsampling_data=downsampling_data.reset_index(drop=False,inplace=False)\n",
    "    \n",
    "    for i in tqdm(df.store_id.unique()):\n",
    "        store=downsampling_data[downsampling_data['store_id']==i]\n",
    "        strat_time=min(store['year_month'])\n",
    "        store=store.merge(year_month,how='outer')\n",
    "        store=store.sort_values(by=['year_month'], axis=0, ascending=True) ##데이터를 시간순으로 정렬\n",
    "        \n",
    "        store['amount']=store['amount'].fillna(2)   #매출이 발생하지 않는 월은 2로 채움\n",
    "        store['store_id']=store['store_id'].fillna(i) #store_id 결측치 채운다.\n",
    "        store=store[store['year_month']>=strat_time]  #매출 시작일 이후만 뽑는다.\n",
    "        \n",
    "        new_data=pd.concat([new_data,store],axis=0)\n",
    "        \n",
    "    return new_data\n",
    "\n",
    "##상점 매출 시계열 그래프\n",
    "def store_plot(data,start_id,end_id):\n",
    "    plt.figure(figsize=(15, 6))\n",
    "    for i in data['store_id'].unique()[start_id:end_id]:\n",
    "        plt.plot(data[data['store_id']== i].index, data[data['store_id'] == i].amount, label='store_{}'.format(i))\n",
    "    plt.legend()   \n",
    "\n",
    "##상점 매출 분포\n",
    "def store_displot(data,start_id,end_id):\n",
    "    plt.figure(figsize=(15, 6))\n",
    "    for i in data.store_id.unique()[start_id:end_id]:\n",
    "        sns.distplot(data[data.store_id == i].amount)\n",
    "    plt.grid()\n",
    "    plt.show()\n",
    "    \n",
    "##ARIMA 모형의 차분 여부를 결정하기 위한 단위근 검정\n",
    "def adf_test(y):\n",
    "    adf_test = ADFTest(alpha=0.05)\n",
    "    p_val, should_diff = adf_test.should_diff(y)\n",
    "    return p_val\n",
    "\n",
    "##Series 데이터로 변환 함수\n",
    "def time_series(df,i):\n",
    "    store=df[df['store_id']==i]\n",
    "    index=pd.date_range('2016-09','2018-07',freq='BM') ##영업 시작일부터 2019년 2월까지 데이터가 존제\n",
    "                                                                      ##### 실제 데이터가 2018년 7월\n",
    "    ts=pd.Series(store['amount'].values,index=index)\n",
    "    return ts\n",
    "\n",
    "##acf. pacf 그래프\n",
    "def acf_pacf_plot(data=None,store_id=None):\n",
    "    ts=time_series(data,store_id)\n",
    "    fig = plt.figure(figsize=(12,8))\n",
    "    ax1 = fig.add_subplot(211)\n",
    "    plot_acf(ts,lags=20,ax=ax1)\n",
    "    ax2 = fig.add_subplot(212)\n",
    "    plot_pacf(ts, lags=20, ax=ax2)\n",
    "\n",
    "##매출 변동계수를 구하는 함수\n",
    "def coefficient_variation(df,i):\n",
    "    cv_data=df.groupby(['store_id']).amount.std()/df.groupby(['store_id']).amount.mean()\n",
    "    cv=cv_data[i]\n",
    "    return cv"
   ]
  },
  {
   "cell_type": "code",
   "execution_count": 38,
   "metadata": {},
   "outputs": [
    {
     "name": "stderr",
     "output_type": "stream",
     "text": [
      "100%|██████████████████████████████████████████████████████████████████████████████| 1778/1778 [11:41<00:00,  2.53it/s]\n"
     ]
    }
   ],
   "source": [
    "train_remove = refund_remove(train)"
   ]
  },
  {
   "cell_type": "markdown",
   "metadata": {},
   "source": [
    "환불금액인 **음수값**이 제거 되었었습니다."
   ]
  },
  {
   "cell_type": "code",
   "execution_count": 39,
   "metadata": {},
   "outputs": [
    {
     "data": {
      "text/plain": [
       "<matplotlib.axes._subplots.AxesSubplot at 0x1868c82ff48>"
      ]
     },
     "execution_count": 39,
     "metadata": {},
     "output_type": "execute_result"
    },
    {
     "data": {
      "image/png": "[encoded data removed]",
      "text/plain": [
       "<Figure size 576x288 with 1 Axes>"
      ]
     },
     "metadata": {
      "needs_background": "light"
     },
     "output_type": "display_data"
    }
   ],
   "source": [
    "plt.figure(figsize=(8, 4))\n",
    "sns.boxplot(train_remove['amount'])"
   ]
  },
  {
   "cell_type": "code",
   "execution_count": 40,
   "metadata": {},
   "outputs": [
    {
     "name": "stderr",
     "output_type": "stream",
     "text": [
      "100%|█████████████████████████████████████████████████████████████████████████████| 1775/1775 [00:12<00:00, 138.53it/s]\n"
     ]
    }
   ],
   "source": [
    "##월별로 데이터 다운샘플링 시행 \n",
    "resampling_data=month_resampling(train_remove)\n",
    "resampling_data['store_id']=resampling_data['store_id'].astype(int)\n",
    "resampling_data.to_csv('resampling_data.csv', index=False)"
   ]
  },
  {
   "cell_type": "markdown",
   "metadata": {},
   "source": [
    "## 3. 탐색적 자료분석\n",
    "## Exploratory Data Analysis\n",
    "- 상점마다 매출 특성과 분포가 다름\n",
    "- 각 상점 매출액 ADF-Test를 boxplot 한 결과 0.05이상으로 차분이 필요해 보임\n",
    "- acf, pcaf 그래프를 보면 대부분의 상점의 적정 ar값이 2이하로 보임\n",
    "- auto_arima 파라미터 튜닝시 max.p 값을 2로 고정, d값은 ndiffs함수로 구함\n",
    "\n",
    "각 상점별 매출 특성과 분포가 다르므로 개별적인 시계열 모델링이 필요해 보입나다."
   ]
  },
  {
   "cell_type": "code",
   "execution_count": 41,
   "metadata": {},
   "outputs": [
    {
     "data": {
      "image/png": "[encoded data removed]",
      "text/plain": [
       "<Figure size 1080x432 with 1 Axes>"
      ]
     },
     "metadata": {
      "needs_background": "light"
     },
     "output_type": "display_data"
    },
    {
     "data": {
      "image/png": "[encoded data removed]",
      "text/plain": [
       "<Figure size 1080x432 with 1 Axes>"
      ]
     },
     "metadata": {
      "needs_background": "light"
     },
     "output_type": "display_data"
    }
   ],
   "source": [
    "##store의 시계열 plot과 distplot\n",
    "store_plot(resampling_data,0,10)\n",
    "store_displot(resampling_data,0,5)"
   ]
  },
  {
   "cell_type": "markdown",
   "metadata": {},
   "source": [
    "귀무가설(H0): 자료에 단위근이 존재한다. \\\n",
    "대립가설(H1): 시계열 자료가 정상성을 만족한다(또는 추세 정상성을 만족한다) \\\n",
    "대부분 상점들의 p-value값이 0.05보다 높으므로 귀무가설이 채택되고 시계열 자료의 정상성을 만족하기 시키기 위해 차분이 필요해 보입니다."
   ]
  },
  {
   "cell_type": "code",
   "execution_count": 50,
   "metadata": {
    "scrolled": false
   },
   "outputs": [
    {
     "data": {
      "text/html": [
       "<div>\n",
       "<style scoped>\n",
       "    .dataframe tbody tr th:only-of-type {\n",
       "        vertical-align: middle;\n",
       "    }\n",
       "\n",
       "    .dataframe tbody tr th {\n",
       "        vertical-align: top;\n",
       "    }\n",
       "\n",
       "    .dataframe thead th {\n",
       "        text-align: right;\n",
       "    }\n",
       "</style>\n",
       "<table border=\"1\" class=\"dataframe\">\n",
       "  <thead>\n",
       "    <tr style=\"text-align: right;\">\n",
       "      <th></th>\n",
       "      <th>store_id</th>\n",
       "      <th>year_month</th>\n",
       "      <th>amount</th>\n",
       "    </tr>\n",
       "  </thead>\n",
       "  <tbody>\n",
       "    <tr>\n",
       "      <th>0</th>\n",
       "      <td>0</td>\n",
       "      <td>2016-08</td>\n",
       "      <td>37134.0</td>\n",
       "    </tr>\n",
       "    <tr>\n",
       "      <th>1</th>\n",
       "      <td>0</td>\n",
       "      <td>2016-09</td>\n",
       "      <td>27623.0</td>\n",
       "    </tr>\n",
       "    <tr>\n",
       "      <th>2</th>\n",
       "      <td>0</td>\n",
       "      <td>2016-10</td>\n",
       "      <td>26881.0</td>\n",
       "    </tr>\n",
       "    <tr>\n",
       "      <th>3</th>\n",
       "      <td>0</td>\n",
       "      <td>2016-11</td>\n",
       "      <td>29078.0</td>\n",
       "    </tr>\n",
       "    <tr>\n",
       "      <th>4</th>\n",
       "      <td>0</td>\n",
       "      <td>2016-12</td>\n",
       "      <td>169367.0</td>\n",
       "    </tr>\n",
       "    <tr>\n",
       "      <th>...</th>\n",
       "      <td>...</td>\n",
       "      <td>...</td>\n",
       "      <td>...</td>\n",
       "    </tr>\n",
       "    <tr>\n",
       "      <th>5</th>\n",
       "      <td>47</td>\n",
       "      <td>2018-03</td>\n",
       "      <td>1335.0</td>\n",
       "    </tr>\n",
       "    <tr>\n",
       "      <th>16</th>\n",
       "      <td>47</td>\n",
       "      <td>2018-04</td>\n",
       "      <td>2.0</td>\n",
       "    </tr>\n",
       "    <tr>\n",
       "      <th>17</th>\n",
       "      <td>47</td>\n",
       "      <td>2018-05</td>\n",
       "      <td>2.0</td>\n",
       "    </tr>\n",
       "    <tr>\n",
       "      <th>18</th>\n",
       "      <td>47</td>\n",
       "      <td>2018-06</td>\n",
       "      <td>2.0</td>\n",
       "    </tr>\n",
       "    <tr>\n",
       "      <th>19</th>\n",
       "      <td>47</td>\n",
       "      <td>2018-07</td>\n",
       "      <td>2.0</td>\n",
       "    </tr>\n",
       "  </tbody>\n",
       "</table>\n",
       "<p>30378 rows × 3 columns</p>\n",
       "</div>"
      ],
      "text/plain": [
       "    store_id year_month    amount\n",
       "0          0    2016-08   37134.0\n",
       "1          0    2016-09   27623.0\n",
       "2          0    2016-10   26881.0\n",
       "3          0    2016-11   29078.0\n",
       "4          0    2016-12  169367.0\n",
       "..       ...        ...       ...\n",
       "5         47    2018-03    1335.0\n",
       "16        47    2018-04       2.0\n",
       "17        47    2018-05       2.0\n",
       "18        47    2018-06       2.0\n",
       "19        47    2018-07       2.0\n",
       "\n",
       "[30378 rows x 3 columns]"
      ]
     },
     "execution_count": 50,
     "metadata": {},
     "output_type": "execute_result"
    }
   ],
   "source": [
    "resampling_data"
   ]
  },
  {
   "cell_type": "code",
   "execution_count": 83,
   "metadata": {},
   "outputs": [
    {
     "data": {
      "text/plain": [
       "<bound method Series.unique of 0     2016-08\n",
       "1     2016-09\n",
       "2     2016-10\n",
       "3     2016-11\n",
       "4     2016-12\n",
       "       ...   \n",
       "5     2018-03\n",
       "16    2018-04\n",
       "17    2018-05\n",
       "18    2018-06\n",
       "19    2018-07\n",
       "Name: year_month, Length: 30378, dtype: object>"
      ]
     },
     "execution_count": 83,
     "metadata": {},
     "output_type": "execute_result"
    }
   ],
   "source": [
    "resampling_data.year_month.unique"
   ]
  },
  {
   "cell_type": "code",
   "execution_count": 104,
   "metadata": {},
   "outputs": [],
   "source": [
    "##Series 데이터로 변환 함수\n",
    "def time_series(df,i):\n",
    "    store=df[df['store_id']==i]\n",
    "    print(i)\n",
    "    index=pd.date_range(resampling_data['year_month'].min(),'2018-08',freq='BM') ##영업 시작일부터 2019년 2월까지 데이터가 존제\n",
    "                                                                      ##### 실제 데이터가 2018년 7월\n",
    "    ts=pd.Series(store['amount'].values,index=index)\n",
    "    return ts"
   ]
  },
  {
   "cell_type": "code",
   "execution_count": 101,
   "metadata": {},
   "outputs": [
    {
     "data": {
      "text/plain": [
       "DatetimeIndex(['2016-08-31', '2016-09-30', '2016-10-31', '2016-11-30',\n",
       "               '2016-12-30', '2017-01-31', '2017-02-28', '2017-03-31',\n",
       "               '2017-04-28', '2017-05-31', '2017-06-30', '2017-07-31',\n",
       "               '2017-08-31', '2017-09-29', '2017-10-31', '2017-11-30',\n",
       "               '2017-12-29', '2018-01-31', '2018-02-28', '2018-03-30',\n",
       "               '2018-04-30', '2018-05-31', '2018-06-29', '2018-07-31'],\n",
       "              dtype='datetime64[ns]', freq='BM')"
      ]
     },
     "execution_count": 101,
     "metadata": {},
     "output_type": "execute_result"
    }
   ],
   "source": [
    "pd.date_range(resampling_data['year_month'].min(),'2018-08',freq='BM')"
   ]
  },
  {
   "cell_type": "code",
   "execution_count": 108,
   "metadata": {},
   "outputs": [
    {
     "data": {
      "text/html": [
       "<div>\n",
       "<style scoped>\n",
       "    .dataframe tbody tr th:only-of-type {\n",
       "        vertical-align: middle;\n",
       "    }\n",
       "\n",
       "    .dataframe tbody tr th {\n",
       "        vertical-align: top;\n",
       "    }\n",
       "\n",
       "    .dataframe thead th {\n",
       "        text-align: right;\n",
       "    }\n",
       "</style>\n",
       "<table border=\"1\" class=\"dataframe\">\n",
       "  <thead>\n",
       "    <tr style=\"text-align: right;\">\n",
       "      <th></th>\n",
       "      <th>store_id</th>\n",
       "      <th>year_month</th>\n",
       "      <th>amount</th>\n",
       "    </tr>\n",
       "  </thead>\n",
       "  <tbody>\n",
       "    <tr>\n",
       "      <th>0</th>\n",
       "      <td>9</td>\n",
       "      <td>2017-08</td>\n",
       "      <td>1460.0</td>\n",
       "    </tr>\n",
       "    <tr>\n",
       "      <th>1</th>\n",
       "      <td>9</td>\n",
       "      <td>2017-09</td>\n",
       "      <td>2075.0</td>\n",
       "    </tr>\n",
       "    <tr>\n",
       "      <th>2</th>\n",
       "      <td>9</td>\n",
       "      <td>2017-10</td>\n",
       "      <td>5377.0</td>\n",
       "    </tr>\n",
       "    <tr>\n",
       "      <th>3</th>\n",
       "      <td>9</td>\n",
       "      <td>2017-11</td>\n",
       "      <td>12720.0</td>\n",
       "    </tr>\n",
       "    <tr>\n",
       "      <th>4</th>\n",
       "      <td>9</td>\n",
       "      <td>2017-12</td>\n",
       "      <td>11688.0</td>\n",
       "    </tr>\n",
       "    <tr>\n",
       "      <th>5</th>\n",
       "      <td>9</td>\n",
       "      <td>2018-01</td>\n",
       "      <td>9639.0</td>\n",
       "    </tr>\n",
       "    <tr>\n",
       "      <th>6</th>\n",
       "      <td>9</td>\n",
       "      <td>2018-02</td>\n",
       "      <td>13818.0</td>\n",
       "    </tr>\n",
       "    <tr>\n",
       "      <th>7</th>\n",
       "      <td>9</td>\n",
       "      <td>2018-03</td>\n",
       "      <td>12083.0</td>\n",
       "    </tr>\n",
       "    <tr>\n",
       "      <th>8</th>\n",
       "      <td>9</td>\n",
       "      <td>2018-04</td>\n",
       "      <td>8000.0</td>\n",
       "    </tr>\n",
       "    <tr>\n",
       "      <th>17</th>\n",
       "      <td>9</td>\n",
       "      <td>2018-05</td>\n",
       "      <td>2.0</td>\n",
       "    </tr>\n",
       "    <tr>\n",
       "      <th>18</th>\n",
       "      <td>9</td>\n",
       "      <td>2018-06</td>\n",
       "      <td>2.0</td>\n",
       "    </tr>\n",
       "    <tr>\n",
       "      <th>19</th>\n",
       "      <td>9</td>\n",
       "      <td>2018-07</td>\n",
       "      <td>2.0</td>\n",
       "    </tr>\n",
       "  </tbody>\n",
       "</table>\n",
       "</div>"
      ],
      "text/plain": [
       "    store_id year_month   amount\n",
       "0          9    2017-08   1460.0\n",
       "1          9    2017-09   2075.0\n",
       "2          9    2017-10   5377.0\n",
       "3          9    2017-11  12720.0\n",
       "4          9    2017-12  11688.0\n",
       "5          9    2018-01   9639.0\n",
       "6          9    2018-02  13818.0\n",
       "7          9    2018-03  12083.0\n",
       "8          9    2018-04   8000.0\n",
       "17         9    2018-05      2.0\n",
       "18         9    2018-06      2.0\n",
       "19         9    2018-07      2.0"
      ]
     },
     "execution_count": 108,
     "metadata": {},
     "output_type": "execute_result"
    }
   ],
   "source": [
    "resampling_data[resampling_data['store_id']==9]\n",
    "\n",
    "# 몇몇 스토어들은 2016년 부터 시작하지 않음\n",
    "# 몇몇 스토어들의 year_month 데이터가 누락 됬거나 다른 해 부터 장사를 시작한 가게들이 몇몇개 있음\n",
    "# 어떻게 처리??"
   ]
  },
  {
   "cell_type": "code",
   "execution_count": 105,
   "metadata": {},
   "outputs": [
    {
     "name": "stderr",
     "output_type": "stream",
     "text": [
      "  1%|▍                                                                               | 9/1775 [00:00<00:09, 181.85it/s]"
     ]
    },
    {
     "name": "stdout",
     "output_type": "stream",
     "text": [
      "0\n",
      "1\n",
      "2\n",
      "3\n",
      "4\n",
      "5\n",
      "6\n",
      "7\n",
      "8\n",
      "9\n"
     ]
    },
    {
     "name": "stderr",
     "output_type": "stream",
     "text": [
      "\n"
     ]
    },
    {
     "ename": "ValueError",
     "evalue": "Length of passed values is 12, index implies 24.",
     "output_type": "error",
     "traceback": [
      "\u001b[1;31m---------------------------------------------------------------------------\u001b[0m",
      "\u001b[1;31mValueError\u001b[0m                                Traceback (most recent call last)",
      "\u001b[1;32m<ipython-input-105-91a572f3ea63>\u001b[0m in \u001b[0;36m<module>\u001b[1;34m\u001b[0m\n\u001b[0;32m      2\u001b[0m \u001b[0madf_p\u001b[0m\u001b[1;33m=\u001b[0m\u001b[1;33m[\u001b[0m\u001b[1;33m]\u001b[0m\u001b[1;33m\u001b[0m\u001b[1;33m\u001b[0m\u001b[0m\n\u001b[0;32m      3\u001b[0m \u001b[1;32mfor\u001b[0m \u001b[0mi\u001b[0m \u001b[1;32min\u001b[0m \u001b[0mtqdm\u001b[0m\u001b[1;33m(\u001b[0m\u001b[0mresampling_data\u001b[0m\u001b[1;33m[\u001b[0m\u001b[1;34m'store_id'\u001b[0m\u001b[1;33m]\u001b[0m\u001b[1;33m.\u001b[0m\u001b[0munique\u001b[0m\u001b[1;33m(\u001b[0m\u001b[1;33m)\u001b[0m\u001b[1;33m)\u001b[0m\u001b[1;33m:\u001b[0m\u001b[1;33m\u001b[0m\u001b[1;33m\u001b[0m\u001b[0m\n\u001b[1;32m----> 4\u001b[1;33m     \u001b[0mts\u001b[0m\u001b[1;33m=\u001b[0m\u001b[0mtime_series\u001b[0m\u001b[1;33m(\u001b[0m\u001b[0mresampling_data\u001b[0m\u001b[1;33m,\u001b[0m\u001b[0mi\u001b[0m\u001b[1;33m)\u001b[0m\u001b[1;33m\u001b[0m\u001b[1;33m\u001b[0m\u001b[0m\n\u001b[0m\u001b[0;32m      5\u001b[0m     \u001b[0madf_p\u001b[0m\u001b[1;33m.\u001b[0m\u001b[0mappend\u001b[0m\u001b[1;33m(\u001b[0m\u001b[0madf_test\u001b[0m\u001b[1;33m(\u001b[0m\u001b[0mts\u001b[0m\u001b[1;33m)\u001b[0m\u001b[1;33m)\u001b[0m\u001b[1;33m\u001b[0m\u001b[1;33m\u001b[0m\u001b[0m\n\u001b[0;32m      6\u001b[0m \u001b[1;33m\u001b[0m\u001b[0m\n",
      "\u001b[1;32m<ipython-input-104-1b55c394e0c0>\u001b[0m in \u001b[0;36mtime_series\u001b[1;34m(df, i)\u001b[0m\n\u001b[0;32m      5\u001b[0m     \u001b[0mindex\u001b[0m\u001b[1;33m=\u001b[0m\u001b[0mpd\u001b[0m\u001b[1;33m.\u001b[0m\u001b[0mdate_range\u001b[0m\u001b[1;33m(\u001b[0m\u001b[0mresampling_data\u001b[0m\u001b[1;33m[\u001b[0m\u001b[1;34m'year_month'\u001b[0m\u001b[1;33m]\u001b[0m\u001b[1;33m.\u001b[0m\u001b[0mmin\u001b[0m\u001b[1;33m(\u001b[0m\u001b[1;33m)\u001b[0m\u001b[1;33m,\u001b[0m\u001b[1;34m'2018-08'\u001b[0m\u001b[1;33m,\u001b[0m\u001b[0mfreq\u001b[0m\u001b[1;33m=\u001b[0m\u001b[1;34m'BM'\u001b[0m\u001b[1;33m)\u001b[0m \u001b[1;31m##영업 시작일부터 2019년 2월까지 데이터가 존제\u001b[0m\u001b[1;33m\u001b[0m\u001b[1;33m\u001b[0m\u001b[0m\n\u001b[0;32m      6\u001b[0m                                                                       \u001b[1;31m##### 실제 데이터가 2018년 7월\u001b[0m\u001b[1;33m\u001b[0m\u001b[1;33m\u001b[0m\u001b[1;33m\u001b[0m\u001b[0m\n\u001b[1;32m----> 7\u001b[1;33m     \u001b[0mts\u001b[0m\u001b[1;33m=\u001b[0m\u001b[0mpd\u001b[0m\u001b[1;33m.\u001b[0m\u001b[0mSeries\u001b[0m\u001b[1;33m(\u001b[0m\u001b[0mstore\u001b[0m\u001b[1;33m[\u001b[0m\u001b[1;34m'amount'\u001b[0m\u001b[1;33m]\u001b[0m\u001b[1;33m.\u001b[0m\u001b[0mvalues\u001b[0m\u001b[1;33m,\u001b[0m\u001b[0mindex\u001b[0m\u001b[1;33m=\u001b[0m\u001b[0mindex\u001b[0m\u001b[1;33m)\u001b[0m\u001b[1;33m\u001b[0m\u001b[1;33m\u001b[0m\u001b[0m\n\u001b[0m\u001b[0;32m      8\u001b[0m     \u001b[1;32mreturn\u001b[0m \u001b[0mts\u001b[0m\u001b[1;33m\u001b[0m\u001b[1;33m\u001b[0m\u001b[0m\n",
      "\u001b[1;32m~\\Anaconda3\\lib\\site-packages\\pandas\\core\\series.py\u001b[0m in \u001b[0;36m__init__\u001b[1;34m(self, data, index, dtype, name, copy, fastpath)\u001b[0m\n\u001b[0;32m    290\u001b[0m                     \u001b[1;32mif\u001b[0m \u001b[0mlen\u001b[0m\u001b[1;33m(\u001b[0m\u001b[0mindex\u001b[0m\u001b[1;33m)\u001b[0m \u001b[1;33m!=\u001b[0m \u001b[0mlen\u001b[0m\u001b[1;33m(\u001b[0m\u001b[0mdata\u001b[0m\u001b[1;33m)\u001b[0m\u001b[1;33m:\u001b[0m\u001b[1;33m\u001b[0m\u001b[1;33m\u001b[0m\u001b[0m\n\u001b[0;32m    291\u001b[0m                         raise ValueError(\n\u001b[1;32m--> 292\u001b[1;33m                             \u001b[1;34mf\"Length of passed values is {len(data)}, \"\u001b[0m\u001b[1;33m\u001b[0m\u001b[1;33m\u001b[0m\u001b[0m\n\u001b[0m\u001b[0;32m    293\u001b[0m                             \u001b[1;34mf\"index implies {len(index)}.\"\u001b[0m\u001b[1;33m\u001b[0m\u001b[1;33m\u001b[0m\u001b[0m\n\u001b[0;32m    294\u001b[0m                         )\n",
      "\u001b[1;31mValueError\u001b[0m: Length of passed values is 12, index implies 24."
     ]
    }
   ],
   "source": [
    "##전체 상점 adf_test p-value값을 계산하여 boxplot\n",
    "adf_p=[]\n",
    "for i in tqdm(resampling_data['store_id'].unique()):\n",
    "    ts=time_series(resampling_data,i)\n",
    "    adf_p.append(adf_test(ts))\n",
    "    \n",
    "plt.figure(figsize=(8, 4))    \n",
    "sns.boxplot(adf_p)"
   ]
  },
  {
   "cell_type": "code",
   "execution_count": 58,
   "metadata": {},
   "outputs": [
    {
     "ename": "ValueError",
     "evalue": "Length of passed values is 24, index implies 31.",
     "output_type": "error",
     "traceback": [
      "\u001b[1;31m---------------------------------------------------------------------------\u001b[0m",
      "\u001b[1;31mValueError\u001b[0m                                Traceback (most recent call last)",
      "\u001b[1;32m<ipython-input-58-11774bba2445>\u001b[0m in \u001b[0;36m<module>\u001b[1;34m\u001b[0m\n\u001b[0;32m      1\u001b[0m \u001b[1;31m##상점별로 acf, pacf 그래프 확인\u001b[0m\u001b[1;33m\u001b[0m\u001b[1;33m\u001b[0m\u001b[1;33m\u001b[0m\u001b[0m\n\u001b[1;32m----> 2\u001b[1;33m \u001b[0macf_pacf_plot\u001b[0m\u001b[1;33m(\u001b[0m\u001b[0mdata\u001b[0m\u001b[1;33m=\u001b[0m\u001b[0mresampling_data\u001b[0m\u001b[1;33m,\u001b[0m\u001b[0mstore_id\u001b[0m\u001b[1;33m=\u001b[0m\u001b[1;36m1\u001b[0m\u001b[1;33m)\u001b[0m\u001b[1;33m\u001b[0m\u001b[1;33m\u001b[0m\u001b[0m\n\u001b[0m",
      "\u001b[1;32m<ipython-input-37-8cf3f983f5c8>\u001b[0m in \u001b[0;36macf_pacf_plot\u001b[1;34m(data, store_id)\u001b[0m\n\u001b[0;32m     88\u001b[0m \u001b[1;31m##acf. pacf 그래프\u001b[0m\u001b[1;33m\u001b[0m\u001b[1;33m\u001b[0m\u001b[1;33m\u001b[0m\u001b[0m\n\u001b[0;32m     89\u001b[0m \u001b[1;32mdef\u001b[0m \u001b[0macf_pacf_plot\u001b[0m\u001b[1;33m(\u001b[0m\u001b[0mdata\u001b[0m\u001b[1;33m=\u001b[0m\u001b[1;32mNone\u001b[0m\u001b[1;33m,\u001b[0m\u001b[0mstore_id\u001b[0m\u001b[1;33m=\u001b[0m\u001b[1;32mNone\u001b[0m\u001b[1;33m)\u001b[0m\u001b[1;33m:\u001b[0m\u001b[1;33m\u001b[0m\u001b[1;33m\u001b[0m\u001b[0m\n\u001b[1;32m---> 90\u001b[1;33m     \u001b[0mts\u001b[0m\u001b[1;33m=\u001b[0m\u001b[0mtime_series\u001b[0m\u001b[1;33m(\u001b[0m\u001b[0mdata\u001b[0m\u001b[1;33m,\u001b[0m\u001b[0mstore_id\u001b[0m\u001b[1;33m)\u001b[0m\u001b[1;33m\u001b[0m\u001b[1;33m\u001b[0m\u001b[0m\n\u001b[0m\u001b[0;32m     91\u001b[0m     \u001b[0mfig\u001b[0m \u001b[1;33m=\u001b[0m \u001b[0mplt\u001b[0m\u001b[1;33m.\u001b[0m\u001b[0mfigure\u001b[0m\u001b[1;33m(\u001b[0m\u001b[0mfigsize\u001b[0m\u001b[1;33m=\u001b[0m\u001b[1;33m(\u001b[0m\u001b[1;36m12\u001b[0m\u001b[1;33m,\u001b[0m\u001b[1;36m8\u001b[0m\u001b[1;33m)\u001b[0m\u001b[1;33m)\u001b[0m\u001b[1;33m\u001b[0m\u001b[1;33m\u001b[0m\u001b[0m\n\u001b[0;32m     92\u001b[0m     \u001b[0max1\u001b[0m \u001b[1;33m=\u001b[0m \u001b[0mfig\u001b[0m\u001b[1;33m.\u001b[0m\u001b[0madd_subplot\u001b[0m\u001b[1;33m(\u001b[0m\u001b[1;36m211\u001b[0m\u001b[1;33m)\u001b[0m\u001b[1;33m\u001b[0m\u001b[1;33m\u001b[0m\u001b[0m\n",
      "\u001b[1;32m<ipython-input-37-8cf3f983f5c8>\u001b[0m in \u001b[0;36mtime_series\u001b[1;34m(df, i)\u001b[0m\n\u001b[0;32m     83\u001b[0m     \u001b[0mstore\u001b[0m\u001b[1;33m=\u001b[0m\u001b[0mdf\u001b[0m\u001b[1;33m[\u001b[0m\u001b[0mdf\u001b[0m\u001b[1;33m[\u001b[0m\u001b[1;34m'store_id'\u001b[0m\u001b[1;33m]\u001b[0m\u001b[1;33m==\u001b[0m\u001b[0mi\u001b[0m\u001b[1;33m]\u001b[0m\u001b[1;33m\u001b[0m\u001b[1;33m\u001b[0m\u001b[0m\n\u001b[0;32m     84\u001b[0m     \u001b[0mindex\u001b[0m\u001b[1;33m=\u001b[0m\u001b[0mpd\u001b[0m\u001b[1;33m.\u001b[0m\u001b[0mdate_range\u001b[0m\u001b[1;33m(\u001b[0m\u001b[0mmin\u001b[0m\u001b[1;33m(\u001b[0m\u001b[0mstore\u001b[0m\u001b[1;33m[\u001b[0m\u001b[1;34m'year_month'\u001b[0m\u001b[1;33m]\u001b[0m\u001b[1;33m)\u001b[0m\u001b[1;33m,\u001b[0m\u001b[1;34m'2019-03'\u001b[0m\u001b[1;33m,\u001b[0m\u001b[0mfreq\u001b[0m\u001b[1;33m=\u001b[0m\u001b[1;34m'BM'\u001b[0m\u001b[1;33m)\u001b[0m \u001b[1;31m##영업 시작일부터 2019년 2월까지 데이터가 존제\u001b[0m\u001b[1;33m\u001b[0m\u001b[1;33m\u001b[0m\u001b[0m\n\u001b[1;32m---> 85\u001b[1;33m     \u001b[0mts\u001b[0m\u001b[1;33m=\u001b[0m\u001b[0mpd\u001b[0m\u001b[1;33m.\u001b[0m\u001b[0mSeries\u001b[0m\u001b[1;33m(\u001b[0m\u001b[0mstore\u001b[0m\u001b[1;33m[\u001b[0m\u001b[1;34m'amount'\u001b[0m\u001b[1;33m]\u001b[0m\u001b[1;33m.\u001b[0m\u001b[0mvalues\u001b[0m\u001b[1;33m,\u001b[0m\u001b[0mindex\u001b[0m\u001b[1;33m=\u001b[0m\u001b[0mindex\u001b[0m\u001b[1;33m)\u001b[0m\u001b[1;33m\u001b[0m\u001b[1;33m\u001b[0m\u001b[0m\n\u001b[0m\u001b[0;32m     86\u001b[0m     \u001b[1;32mreturn\u001b[0m \u001b[0mts\u001b[0m\u001b[1;33m\u001b[0m\u001b[1;33m\u001b[0m\u001b[0m\n\u001b[0;32m     87\u001b[0m \u001b[1;33m\u001b[0m\u001b[0m\n",
      "\u001b[1;32m~\\Anaconda3\\lib\\site-packages\\pandas\\core\\series.py\u001b[0m in \u001b[0;36m__init__\u001b[1;34m(self, data, index, dtype, name, copy, fastpath)\u001b[0m\n\u001b[0;32m    290\u001b[0m                     \u001b[1;32mif\u001b[0m \u001b[0mlen\u001b[0m\u001b[1;33m(\u001b[0m\u001b[0mindex\u001b[0m\u001b[1;33m)\u001b[0m \u001b[1;33m!=\u001b[0m \u001b[0mlen\u001b[0m\u001b[1;33m(\u001b[0m\u001b[0mdata\u001b[0m\u001b[1;33m)\u001b[0m\u001b[1;33m:\u001b[0m\u001b[1;33m\u001b[0m\u001b[1;33m\u001b[0m\u001b[0m\n\u001b[0;32m    291\u001b[0m                         raise ValueError(\n\u001b[1;32m--> 292\u001b[1;33m                             \u001b[1;34mf\"Length of passed values is {len(data)}, \"\u001b[0m\u001b[1;33m\u001b[0m\u001b[1;33m\u001b[0m\u001b[0m\n\u001b[0m\u001b[0;32m    293\u001b[0m                             \u001b[1;34mf\"index implies {len(index)}.\"\u001b[0m\u001b[1;33m\u001b[0m\u001b[1;33m\u001b[0m\u001b[0m\n\u001b[0;32m    294\u001b[0m                         )\n",
      "\u001b[1;31mValueError\u001b[0m: Length of passed values is 24, index implies 31."
     ]
    }
   ],
   "source": [
    "##상점별로 acf, pacf 그래프 확인\n",
    "acf_pacf_plot(data=resampling_data,store_id=1)"
   ]
  },
  {
   "cell_type": "markdown",
   "metadata": {},
   "source": [
    "## 4. 변수 선택 및 모델 구축\n",
    "## Feature Engineering & Initial Modeling\n",
    "- 시계열 모델로 모델링을 진행 하기 때문에 연도-월 변수와 매출액 변수만 유지\n",
    "- 모델링을 할때 coefficient_variation(매출 변동계수)를 고려해서 log 정규화를 진행"
   ]
  },
  {
   "cell_type": "markdown",
   "metadata": {},
   "source": [
    "## 5. 모델 학습 및 검증\n",
    "## Model Tuning & Evaluation\n",
    "- 매출액 오차를 줄이기 위해 auto_arima, stl_descompostion+ets model, simple ets model을 average ensemble 진행\n",
    "- auto.arima는 AIC를 최소로하는 p, d, q값을 자동적으로 탐색\n",
    "- auto.arima 파라미터는 ndiffs(d값 계산)함수와 acf pcaf그래프로 max.p=2로 고정\n",
    "- 최종예측은 이후 3개월을 예측하여 합산\n",
    "- 매출액 변동계수가 큰 상점들에 log 정규화를 했을때 오차가 커지는 경향을 확인 (변동성이 커서 잡음제거 목적을 달성하지 못하고 매출액을 과대 예측)\n",
    "- 모델링을 진행할때 CV(변동계수)값이 0.3(실험결과 오차가 가장적음)이하인 경우 log 정규화를 하기로 결정\n",
    "- 충분한 시즌이 없는경우 stl descomposition+ets model을 적합하지 못하고 auto.arima와 ets를 앙상블(stl descompostion은 최소 2시즌이상 데이터 필요)\n",
    "\n",
    "**forecastHybrid**는 앙상블 시계열 모델을 쉽게 구축 할 수 있게 해주는 패지지입니다. \\\n",
    "**robjects.r** 함수는 파이썬에서 **R의 기본 함수**와 **패키지**를 쓸수 있게 도와주고 **str**형식으로 정의된 **R function**도 사용이 가능하게 해줍니다"
   ]
  },
  {
   "cell_type": "code",
   "execution_count": null,
   "metadata": {},
   "outputs": [],
   "source": [
    "##auto_arima,stl_descompostion+ets,simple ets model ensemble\n",
    "hybridModel=\"\"\"\n",
    "    function(testdata){\n",
    "        library(forecast)\n",
    "        library(forecastHybrid)\n",
    "        d_params=ndiffs(testdata)\n",
    "        hb_mdl<-hybridModel(testdata,models=\"aes\",\n",
    "                        a.arg=list(max.p=2,d=d_params),weight=\"equal\")\n",
    "        forecasted_data<-forecast(hb_mdl,h=3) ##이후 3개월(h=3)을 예측\n",
    "        outdf<-data.frame(forecasted_data$mean)\n",
    "        colnames(outdf)<-c('amount')\n",
    "        outdf\n",
    "    }\n",
    "\"\"\"\n",
    "\n",
    "#사용할 R 함수\n",
    "hybridModel=robjects.r(hybridModel)\n",
    "ts=robjects.r('ts')\n",
    "c=robjects.r('c')\n",
    "log=robjects.r('log')\n",
    "exp=robjects.r('exp')\n",
    "\n",
    "final_pred=[]\n",
    "for i in tqdm(resampling_data.store_id.unique()):\n",
    "    pred=[]\n",
    "    \n",
    "    store=resampling_data[resampling_data['store_id']==i]\n",
    "    start_year=int(min(store['year_month'])[:4]) ##영업 시작 년도\n",
    "    start_month=int(min(store['year_month'])[5:]) ##영업 시작 월\n",
    "    \n",
    "    cv=coefficient_variation(resampling_data,i)\n",
    "    ##매출액 변동계수가 0.3이하인 경우만 log를 씌움\n",
    "    if cv<0.3:\n",
    "        data=ts(log(store['amount']),start=c(start_year,start_month),frequency=12) #R의 ts함수로 time series데이터로 변환\n",
    "        ##ensemble model\n",
    "        forecast=hybridModel(data)\n",
    "        final_pred.append(np.sum(pandas2ri.ri2py(exp(forecast)).values)) #3개월 매출을 합산,final_pred에 추가\n",
    "    ##매출액 변동계수가 0.3이상인 경우\n",
    "    else:\n",
    "        data=ts(store['amount'],start=c(start_year,start_month),frequency=12)\n",
    "        ##ensemble model\n",
    "        forecast=hybridModel(data)\n",
    "        final_pred.append(np.sum(pandas2ri.ri2py(forecast).values)) #3개월 매출을 합산, final_pred에 추가  "
   ]
  },
  {
   "cell_type": "code",
   "execution_count": null,
   "metadata": {},
   "outputs": [],
   "source": [
    "submission['amount']=final_pred\n",
    "submission.to_csv('submission.csv', index=False)\n",
    "submission"
   ]
  }
 ],
 "metadata": {
  "kernelspec": {
   "display_name": "Python 3",
   "language": "python",
   "name": "python3"
  },
  "language_info": {
   "codemirror_mode": {
    "name": "ipython",
    "version": 3
   },
   "file_extension": ".py",
   "mimetype": "text/x-python",
   "name": "python",
   "nbconvert_exporter": "python",
   "pygments_lexer": "ipython3",
   "version": "3.7.7"
  }
 },
 "nbformat": 4,
 "nbformat_minor": 4
}
