{
 "cells": [
  {
   "cell_type": "code",
   "execution_count": 2,
   "metadata": {},
   "outputs": [],
   "source": [
    "import numpy as np\n",
    "import pandas as pd"
   ]
  },
  {
   "cell_type": "code",
   "execution_count": 3,
   "metadata": {},
   "outputs": [],
   "source": [
    "train = pd.read_csv(\"../../Data/Price prediction/train.csv\")\n",
    "test = pd.read_csv(\"../../Data/Price prediction/test.csv\")"
   ]
  },
  {
   "cell_type": "code",
   "execution_count": 6,
   "metadata": {},
   "outputs": [],
   "source": [
    "train = train.drop(columns=['time', 'installments', 'days_of_week', 'card_id', 'holyday'])\n",
    "test = test.drop(columns=['time', 'installments', 'days_of_week', 'card_id', 'holyday'])\n",
    "\n",
    "train = train.groupby(['date', 'store_id']).agg({'amount':'sum'}).reset_index()\n",
    "test = test.groupby(['date', 'store_id']).agg({'amount':'sum'}).reset_index()"
   ]
  },
  {
   "cell_type": "code",
   "execution_count": 7,
   "metadata": {},
   "outputs": [],
   "source": [
    "# 'date' column was converted into datetime format for further uses\n",
    "train['date'] = pd.to_datetime(train['date'],infer_datetime_format=True)\n",
    "test['date'] = pd.to_datetime(test['date'],infer_datetime_format=True)\n",
    "\n",
    "\n",
    "# a duplicate column of 'date' was created for further uses\n",
    "train['temp_date'] = train['date']\n",
    "test['temp_date'] = test['date']\n",
    "\n",
    "\n",
    "# the 'date' column was set to index\n",
    "train.set_index(\"date\",inplace=True)\n",
    "test.set_index(\"date\",inplace=True)"
   ]
  },
  {
   "cell_type": "code",
   "execution_count": null,
   "metadata": {},
   "outputs": [],
   "source": []
  },
  {
   "cell_type": "code",
   "execution_count": 8,
   "metadata": {},
   "outputs": [
    {
     "name": "stdout",
     "output_type": "stream",
     "text": [
      "# of train store open/out of business:  1303 472\n"
     ]
    }
   ],
   "source": [
    "from datetime import datetime\n",
    "\n",
    "def keep_alive_store(df):\n",
    "    \n",
    "    store_id_list = df.store_id.unique() # list of train store_id\n",
    "    yes, no = 0, 0 # yes: store has data within 5 days from 2018-07-31 / no: it doesn't\n",
    "\n",
    "    t2 = datetime.strptime('2018-07-31 00:00:00', \"%Y-%m-%d %H:%M:%S\")\n",
    "\n",
    "    for s in store_id_list:\n",
    "        if str(df[df.store_id == s].iloc[-1]['temp_date']) == '2018-07-31 00:00:00':\n",
    "            yes += 1\n",
    "        else:\n",
    "            # t1 is the last date of data the corresponding store_id has\n",
    "            t1 = datetime.strptime(str(df[df.store_id == s].iloc[-1]['temp_date']), \"%Y-%m-%d %H:%M:%S\")\n",
    "            difference = t2 - t1\n",
    "            if difference.days <= 5:            \n",
    "                yes +=1\n",
    "            else:\n",
    "                no +=1\n",
    "                df = df[df.store_id != s] # remove stores that are 'assumed' closed\n",
    "    print(\"# of train store open/out of business: \", yes, no)\n",
    "    return df\n",
    "    \n",
    "train = keep_alive_store(train)\n"
   ]
  },
  {
   "cell_type": "code",
   "execution_count": 10,
   "metadata": {},
   "outputs": [
    {
     "name": "stdout",
     "output_type": "stream",
     "text": [
      "2018-03-21 00:00:00\n",
      "2018-01-17 00:00:00\n",
      "2018-03-23 00:00:00\n",
      "2018-03-23 00:00:00\n",
      "# of test store open/out of business:  196 4\n"
     ]
    }
   ],
   "source": [
    "# The same goes for the test data, but in a slightly different way.\n",
    "# If the store had no data within 7 days from 2018-03-31, it was 'assumed' to be closed.\n",
    "# (2018-03-31 was the last date stores in test data was supposed to have)\n",
    "store_id_list = test.store_id.unique() # list of test store_id\n",
    "yes, no = 0, 0 # yes: store has data within 7 days from 2018-03-31 / no: it doesn't\n",
    "closed_test_store = []\n",
    "\n",
    "for s in store_id_list:\n",
    "    t2 = datetime.strptime('2018-03-31 00:00:00', \"%Y-%m-%d %H:%M:%S\")\n",
    "    t1 = datetime.strptime(str(test[test.store_id == s].iloc[-1]['temp_date']), \"%Y-%m-%d %H:%M:%S\")\n",
    "    difference = t2 - t1\n",
    "    \n",
    "    if difference.days <= 7:\n",
    "        yes+=1\n",
    "    else:\n",
    "        no+=1\n",
    "        print(test[test.store_id == s].iloc[-1]['temp_date'])\n",
    "        closed_test_store.append(s)\n",
    "print(\"# of test store open/out of business: \", yes, no)\n",
    "# Note that this time, closed stores were not dropped (obviously) and saved into 'closed_test_store' array."
   ]
  },
  {
   "cell_type": "code",
   "execution_count": 13,
   "metadata": {},
   "outputs": [
    {
     "data": {
      "text/plain": [
       "1303"
      ]
     },
     "execution_count": 13,
     "metadata": {},
     "output_type": "execute_result"
    }
   ],
   "source": [
    "len(train.store_id.unique())"
   ]
  }
 ],
 "metadata": {
  "kernelspec": {
   "display_name": "Python 3",
   "language": "python",
   "name": "python3"
  },
  "language_info": {
   "codemirror_mode": {
    "name": "ipython",
    "version": 3
   },
   "file_extension": ".py",
   "mimetype": "text/x-python",
   "name": "python",
   "nbconvert_exporter": "python",
   "pygments_lexer": "ipython3",
   "version": "3.7.7"
  }
 },
 "nbformat": 4,
 "nbformat_minor": 4
}
