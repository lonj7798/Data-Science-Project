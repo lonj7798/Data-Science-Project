{
 "cells": [
  {
   "cell_type": "markdown",
   "metadata": {},
   "source": [
    "# 상점 신용카드 매출 예측 경진대회\n",
    "\n",
    "### 2년 전 부터 2019년 2월 28일까지의 카드 거래 데이터를 이용해 2019-03-01부터 2019-05-31까지의 각 상점별 3개월 총 매출을 예측하는 것입니다."
   ]
  },
  {
   "cell_type": "code",
   "execution_count": null,
   "metadata": {},
   "outputs": [],
   "source": []
  },
  {
   "cell_type": "code",
   "execution_count": 1,
   "metadata": {},
   "outputs": [],
   "source": [
    "import pandas as pd\n",
    "import numpy as np\n",
    "\n",
    "import matplotlib as mlp\n",
    "import matplotlib.pyplot as plt\n",
    "import seaborn as sns\n",
    "%matplotlib inline\n",
    "\n",
    "import datetime as dt"
   ]
  },
  {
   "cell_type": "code",
   "execution_count": 2,
   "metadata": {},
   "outputs": [],
   "source": [
    "train = pd.read_csv(\"../../Data/Price prediction/train.csv\")\n",
    "test = pd.read_csv(\"../../Data/Price prediction/test.csv\")"
   ]
  },
  {
   "cell_type": "code",
   "execution_count": 8,
   "metadata": {},
   "outputs": [
    {
     "data": {
      "text/html": [
       "<div>\n",
       "<style scoped>\n",
       "    .dataframe tbody tr th:only-of-type {\n",
       "        vertical-align: middle;\n",
       "    }\n",
       "\n",
       "    .dataframe tbody tr th {\n",
       "        vertical-align: top;\n",
       "    }\n",
       "\n",
       "    .dataframe thead th {\n",
       "        text-align: right;\n",
       "    }\n",
       "</style>\n",
       "<table border=\"1\" class=\"dataframe\">\n",
       "  <thead>\n",
       "    <tr style=\"text-align: right;\">\n",
       "      <th></th>\n",
       "      <th>store_id</th>\n",
       "      <th>date</th>\n",
       "      <th>time</th>\n",
       "      <th>card_id</th>\n",
       "      <th>amount</th>\n",
       "      <th>installments</th>\n",
       "      <th>days_of_week</th>\n",
       "      <th>holyday</th>\n",
       "    </tr>\n",
       "  </thead>\n",
       "  <tbody>\n",
       "  </tbody>\n",
       "</table>\n",
       "</div>"
      ],
      "text/plain": [
       "Empty DataFrame\n",
       "Columns: [store_id, date, time, card_id, amount, installments, days_of_week, holyday]\n",
       "Index: []"
      ]
     },
     "execution_count": 8,
     "metadata": {},
     "output_type": "execute_result"
    }
   ],
   "source": [
    "train[train['card_id']=='bf33518373']"
   ]
  },
  {
   "cell_type": "code",
   "execution_count": 9,
   "metadata": {
    "scrolled": true
   },
   "outputs": [
    {
     "data": {
      "text/html": [
       "<div>\n",
       "<style scoped>\n",
       "    .dataframe tbody tr th:only-of-type {\n",
       "        vertical-align: middle;\n",
       "    }\n",
       "\n",
       "    .dataframe tbody tr th {\n",
       "        vertical-align: top;\n",
       "    }\n",
       "\n",
       "    .dataframe thead th {\n",
       "        text-align: right;\n",
       "    }\n",
       "</style>\n",
       "<table border=\"1\" class=\"dataframe\">\n",
       "  <thead>\n",
       "    <tr style=\"text-align: right;\">\n",
       "      <th></th>\n",
       "      <th>store_id</th>\n",
       "      <th>date</th>\n",
       "      <th>time</th>\n",
       "      <th>card_id</th>\n",
       "      <th>amount</th>\n",
       "      <th>installments</th>\n",
       "      <th>days_of_week</th>\n",
       "      <th>holyday</th>\n",
       "    </tr>\n",
       "  </thead>\n",
       "  <tbody>\n",
       "    <tr>\n",
       "      <th>0</th>\n",
       "      <td>0</td>\n",
       "      <td>2016-12-14</td>\n",
       "      <td>18:05:31</td>\n",
       "      <td>d297bba73f</td>\n",
       "      <td>5</td>\n",
       "      <td>NaN</td>\n",
       "      <td>2</td>\n",
       "      <td>0</td>\n",
       "    </tr>\n",
       "    <tr>\n",
       "      <th>1</th>\n",
       "      <td>0</td>\n",
       "      <td>2016-12-14</td>\n",
       "      <td>18:05:54</td>\n",
       "      <td>d297bba73f</td>\n",
       "      <td>-5</td>\n",
       "      <td>NaN</td>\n",
       "      <td>2</td>\n",
       "      <td>0</td>\n",
       "    </tr>\n",
       "    <tr>\n",
       "      <th>2</th>\n",
       "      <td>0</td>\n",
       "      <td>2016-12-19</td>\n",
       "      <td>12:42:31</td>\n",
       "      <td>0880849c05</td>\n",
       "      <td>144</td>\n",
       "      <td>NaN</td>\n",
       "      <td>0</td>\n",
       "      <td>0</td>\n",
       "    </tr>\n",
       "    <tr>\n",
       "      <th>3</th>\n",
       "      <td>0</td>\n",
       "      <td>2016-12-19</td>\n",
       "      <td>12:48:08</td>\n",
       "      <td>8b4f9e0e95</td>\n",
       "      <td>66</td>\n",
       "      <td>NaN</td>\n",
       "      <td>0</td>\n",
       "      <td>0</td>\n",
       "    </tr>\n",
       "    <tr>\n",
       "      <th>4</th>\n",
       "      <td>0</td>\n",
       "      <td>2016-12-19</td>\n",
       "      <td>13:31:08</td>\n",
       "      <td>7ad237eed0</td>\n",
       "      <td>24</td>\n",
       "      <td>NaN</td>\n",
       "      <td>0</td>\n",
       "      <td>0</td>\n",
       "    </tr>\n",
       "    <tr>\n",
       "      <th>...</th>\n",
       "      <td>...</td>\n",
       "      <td>...</td>\n",
       "      <td>...</td>\n",
       "      <td>...</td>\n",
       "      <td>...</td>\n",
       "      <td>...</td>\n",
       "      <td>...</td>\n",
       "      <td>...</td>\n",
       "    </tr>\n",
       "    <tr>\n",
       "      <th>3362791</th>\n",
       "      <td>1799</td>\n",
       "      <td>2018-07-19</td>\n",
       "      <td>17:58:31</td>\n",
       "      <td>e254bf70d9</td>\n",
       "      <td>600</td>\n",
       "      <td>NaN</td>\n",
       "      <td>3</td>\n",
       "      <td>0</td>\n",
       "    </tr>\n",
       "    <tr>\n",
       "      <th>3362792</th>\n",
       "      <td>1799</td>\n",
       "      <td>2018-07-19</td>\n",
       "      <td>18:54:34</td>\n",
       "      <td>8f41c89891</td>\n",
       "      <td>275</td>\n",
       "      <td>NaN</td>\n",
       "      <td>3</td>\n",
       "      <td>0</td>\n",
       "    </tr>\n",
       "    <tr>\n",
       "      <th>3362793</th>\n",
       "      <td>1799</td>\n",
       "      <td>2018-07-22</td>\n",
       "      <td>14:46:57</td>\n",
       "      <td>aeb64fe1fb</td>\n",
       "      <td>350</td>\n",
       "      <td>NaN</td>\n",
       "      <td>6</td>\n",
       "      <td>0</td>\n",
       "    </tr>\n",
       "    <tr>\n",
       "      <th>3362794</th>\n",
       "      <td>1799</td>\n",
       "      <td>2018-07-25</td>\n",
       "      <td>18:09:13</td>\n",
       "      <td>57932602d6</td>\n",
       "      <td>300</td>\n",
       "      <td>NaN</td>\n",
       "      <td>2</td>\n",
       "      <td>0</td>\n",
       "    </tr>\n",
       "    <tr>\n",
       "      <th>3362795</th>\n",
       "      <td>1799</td>\n",
       "      <td>2018-07-30</td>\n",
       "      <td>10:58:53</td>\n",
       "      <td>42d354807a</td>\n",
       "      <td>325</td>\n",
       "      <td>NaN</td>\n",
       "      <td>0</td>\n",
       "      <td>0</td>\n",
       "    </tr>\n",
       "  </tbody>\n",
       "</table>\n",
       "<p>3362796 rows × 8 columns</p>\n",
       "</div>"
      ],
      "text/plain": [
       "         store_id        date      time     card_id  amount  installments  \\\n",
       "0               0  2016-12-14  18:05:31  d297bba73f       5           NaN   \n",
       "1               0  2016-12-14  18:05:54  d297bba73f      -5           NaN   \n",
       "2               0  2016-12-19  12:42:31  0880849c05     144           NaN   \n",
       "3               0  2016-12-19  12:48:08  8b4f9e0e95      66           NaN   \n",
       "4               0  2016-12-19  13:31:08  7ad237eed0      24           NaN   \n",
       "...           ...         ...       ...         ...     ...           ...   \n",
       "3362791      1799  2018-07-19  17:58:31  e254bf70d9     600           NaN   \n",
       "3362792      1799  2018-07-19  18:54:34  8f41c89891     275           NaN   \n",
       "3362793      1799  2018-07-22  14:46:57  aeb64fe1fb     350           NaN   \n",
       "3362794      1799  2018-07-25  18:09:13  57932602d6     300           NaN   \n",
       "3362795      1799  2018-07-30  10:58:53  42d354807a     325           NaN   \n",
       "\n",
       "         days_of_week  holyday  \n",
       "0                   2        0  \n",
       "1                   2        0  \n",
       "2                   0        0  \n",
       "3                   0        0  \n",
       "4                   0        0  \n",
       "...               ...      ...  \n",
       "3362791             3        0  \n",
       "3362792             3        0  \n",
       "3362793             6        0  \n",
       "3362794             2        0  \n",
       "3362795             0        0  \n",
       "\n",
       "[3362796 rows x 8 columns]"
      ]
     },
     "execution_count": 9,
     "metadata": {},
     "output_type": "execute_result"
    }
   ],
   "source": [
    "train"
   ]
  },
  {
   "cell_type": "code",
   "execution_count": 12,
   "metadata": {},
   "outputs": [
    {
     "data": {
      "text/html": [
       "<div>\n",
       "<style scoped>\n",
       "    .dataframe tbody tr th:only-of-type {\n",
       "        vertical-align: middle;\n",
       "    }\n",
       "\n",
       "    .dataframe tbody tr th {\n",
       "        vertical-align: top;\n",
       "    }\n",
       "\n",
       "    .dataframe thead th {\n",
       "        text-align: right;\n",
       "    }\n",
       "</style>\n",
       "<table border=\"1\" class=\"dataframe\">\n",
       "  <thead>\n",
       "    <tr style=\"text-align: right;\">\n",
       "      <th></th>\n",
       "      <th>store_id</th>\n",
       "      <th>date</th>\n",
       "      <th>time</th>\n",
       "      <th>card_id</th>\n",
       "      <th>amount</th>\n",
       "      <th>installments</th>\n",
       "      <th>days_of_week</th>\n",
       "      <th>holyday</th>\n",
       "    </tr>\n",
       "  </thead>\n",
       "  <tbody>\n",
       "    <tr>\n",
       "      <th>0</th>\n",
       "      <td>0</td>\n",
       "      <td>2016-08-01</td>\n",
       "      <td>00:28:15</td>\n",
       "      <td>bf33518373</td>\n",
       "      <td>125</td>\n",
       "      <td>NaN</td>\n",
       "      <td>0</td>\n",
       "      <td>0</td>\n",
       "    </tr>\n",
       "    <tr>\n",
       "      <th>1</th>\n",
       "      <td>0</td>\n",
       "      <td>2016-08-01</td>\n",
       "      <td>01:09:58</td>\n",
       "      <td>7a19a3a92f</td>\n",
       "      <td>90</td>\n",
       "      <td>NaN</td>\n",
       "      <td>0</td>\n",
       "      <td>0</td>\n",
       "    </tr>\n",
       "    <tr>\n",
       "      <th>2</th>\n",
       "      <td>0</td>\n",
       "      <td>2016-08-01</td>\n",
       "      <td>01:47:24</td>\n",
       "      <td>6f9fd7e241</td>\n",
       "      <td>150</td>\n",
       "      <td>NaN</td>\n",
       "      <td>0</td>\n",
       "      <td>0</td>\n",
       "    </tr>\n",
       "    <tr>\n",
       "      <th>3</th>\n",
       "      <td>0</td>\n",
       "      <td>2016-08-01</td>\n",
       "      <td>17:54:43</td>\n",
       "      <td>8bcf1d61b2</td>\n",
       "      <td>362</td>\n",
       "      <td>NaN</td>\n",
       "      <td>0</td>\n",
       "      <td>0</td>\n",
       "    </tr>\n",
       "    <tr>\n",
       "      <th>4</th>\n",
       "      <td>0</td>\n",
       "      <td>2016-08-01</td>\n",
       "      <td>18:48:53</td>\n",
       "      <td>6a722ce674</td>\n",
       "      <td>125</td>\n",
       "      <td>NaN</td>\n",
       "      <td>0</td>\n",
       "      <td>0</td>\n",
       "    </tr>\n",
       "    <tr>\n",
       "      <th>...</th>\n",
       "      <td>...</td>\n",
       "      <td>...</td>\n",
       "      <td>...</td>\n",
       "      <td>...</td>\n",
       "      <td>...</td>\n",
       "      <td>...</td>\n",
       "      <td>...</td>\n",
       "      <td>...</td>\n",
       "    </tr>\n",
       "    <tr>\n",
       "      <th>473387</th>\n",
       "      <td>199</td>\n",
       "      <td>2018-03-30</td>\n",
       "      <td>14:17:59</td>\n",
       "      <td>300d7bc922</td>\n",
       "      <td>65</td>\n",
       "      <td>NaN</td>\n",
       "      <td>4</td>\n",
       "      <td>0</td>\n",
       "    </tr>\n",
       "    <tr>\n",
       "      <th>473388</th>\n",
       "      <td>199</td>\n",
       "      <td>2018-03-30</td>\n",
       "      <td>19:01:54</td>\n",
       "      <td>3ab757718b</td>\n",
       "      <td>65</td>\n",
       "      <td>NaN</td>\n",
       "      <td>4</td>\n",
       "      <td>0</td>\n",
       "    </tr>\n",
       "    <tr>\n",
       "      <th>473389</th>\n",
       "      <td>199</td>\n",
       "      <td>2018-03-30</td>\n",
       "      <td>20:08:03</td>\n",
       "      <td>2d8e9e421c</td>\n",
       "      <td>65</td>\n",
       "      <td>NaN</td>\n",
       "      <td>4</td>\n",
       "      <td>0</td>\n",
       "    </tr>\n",
       "    <tr>\n",
       "      <th>473390</th>\n",
       "      <td>199</td>\n",
       "      <td>2018-03-30</td>\n",
       "      <td>20:11:58</td>\n",
       "      <td>22daeb334e</td>\n",
       "      <td>200</td>\n",
       "      <td>NaN</td>\n",
       "      <td>4</td>\n",
       "      <td>0</td>\n",
       "    </tr>\n",
       "    <tr>\n",
       "      <th>473391</th>\n",
       "      <td>199</td>\n",
       "      <td>2018-03-31</td>\n",
       "      <td>11:41:18</td>\n",
       "      <td>2e698f3302</td>\n",
       "      <td>500</td>\n",
       "      <td>NaN</td>\n",
       "      <td>5</td>\n",
       "      <td>0</td>\n",
       "    </tr>\n",
       "  </tbody>\n",
       "</table>\n",
       "<p>473392 rows × 8 columns</p>\n",
       "</div>"
      ],
      "text/plain": [
       "        store_id        date      time     card_id  amount  installments  \\\n",
       "0              0  2016-08-01  00:28:15  bf33518373     125           NaN   \n",
       "1              0  2016-08-01  01:09:58  7a19a3a92f      90           NaN   \n",
       "2              0  2016-08-01  01:47:24  6f9fd7e241     150           NaN   \n",
       "3              0  2016-08-01  17:54:43  8bcf1d61b2     362           NaN   \n",
       "4              0  2016-08-01  18:48:53  6a722ce674     125           NaN   \n",
       "...          ...         ...       ...         ...     ...           ...   \n",
       "473387       199  2018-03-30  14:17:59  300d7bc922      65           NaN   \n",
       "473388       199  2018-03-30  19:01:54  3ab757718b      65           NaN   \n",
       "473389       199  2018-03-30  20:08:03  2d8e9e421c      65           NaN   \n",
       "473390       199  2018-03-30  20:11:58  22daeb334e     200           NaN   \n",
       "473391       199  2018-03-31  11:41:18  2e698f3302     500           NaN   \n",
       "\n",
       "        days_of_week  holyday  \n",
       "0                  0        0  \n",
       "1                  0        0  \n",
       "2                  0        0  \n",
       "3                  0        0  \n",
       "4                  0        0  \n",
       "...              ...      ...  \n",
       "473387             4        0  \n",
       "473388             4        0  \n",
       "473389             4        0  \n",
       "473390             4        0  \n",
       "473391             5        0  \n",
       "\n",
       "[473392 rows x 8 columns]"
      ]
     },
     "execution_count": 12,
     "metadata": {},
     "output_type": "execute_result"
    }
   ],
   "source": [
    "test"
   ]
  },
  {
   "cell_type": "code",
   "execution_count": 11,
   "metadata": {},
   "outputs": [
    {
     "data": {
      "text/plain": [
       "store_id\n",
       "0      638257\n",
       "1      427806\n",
       "2      288211\n",
       "3      229284\n",
       "4      158572\n",
       "        ...  \n",
       "195    418511\n",
       "196    396244\n",
       "197     13963\n",
       "198     92500\n",
       "199    230381\n",
       "Name: amount, Length: 200, dtype: int64"
      ]
     },
     "execution_count": 11,
     "metadata": {},
     "output_type": "execute_result"
    }
   ],
   "source": [
    "test.groupby('store_id').amount.sum()"
   ]
  },
  {
   "cell_type": "code",
   "execution_count": null,
   "metadata": {},
   "outputs": [],
   "source": []
  },
  {
   "cell_type": "code",
   "execution_count": 35,
   "metadata": {
    "scrolled": true
   },
   "outputs": [
    {
     "name": "stdout",
     "output_type": "stream",
     "text": [
      "shape of the train: (3362796, 8)\n",
      "shape of the test: (473392, 8)\n"
     ]
    }
   ],
   "source": [
    "print(\"shape of the train:\", train.shape)\n",
    "print(\"shape of the test:\", test.shape)\n",
    "# 8개의 feature"
   ]
  },
  {
   "cell_type": "code",
   "execution_count": 4,
   "metadata": {},
   "outputs": [
    {
     "data": {
      "text/html": [
       "<div>\n",
       "<style scoped>\n",
       "    .dataframe tbody tr th:only-of-type {\n",
       "        vertical-align: middle;\n",
       "    }\n",
       "\n",
       "    .dataframe tbody tr th {\n",
       "        vertical-align: top;\n",
       "    }\n",
       "\n",
       "    .dataframe thead th {\n",
       "        text-align: right;\n",
       "    }\n",
       "</style>\n",
       "<table border=\"1\" class=\"dataframe\">\n",
       "  <thead>\n",
       "    <tr style=\"text-align: right;\">\n",
       "      <th></th>\n",
       "      <th>store_id</th>\n",
       "      <th>date</th>\n",
       "      <th>time</th>\n",
       "      <th>card_id</th>\n",
       "      <th>amount</th>\n",
       "      <th>installments</th>\n",
       "      <th>days_of_week</th>\n",
       "      <th>holyday</th>\n",
       "    </tr>\n",
       "  </thead>\n",
       "  <tbody>\n",
       "    <tr>\n",
       "      <th>0</th>\n",
       "      <td>0</td>\n",
       "      <td>2016-12-14</td>\n",
       "      <td>18:05:31</td>\n",
       "      <td>d297bba73f</td>\n",
       "      <td>5</td>\n",
       "      <td>NaN</td>\n",
       "      <td>2</td>\n",
       "      <td>0</td>\n",
       "    </tr>\n",
       "    <tr>\n",
       "      <th>1</th>\n",
       "      <td>0</td>\n",
       "      <td>2016-12-14</td>\n",
       "      <td>18:05:54</td>\n",
       "      <td>d297bba73f</td>\n",
       "      <td>-5</td>\n",
       "      <td>NaN</td>\n",
       "      <td>2</td>\n",
       "      <td>0</td>\n",
       "    </tr>\n",
       "    <tr>\n",
       "      <th>2</th>\n",
       "      <td>0</td>\n",
       "      <td>2016-12-19</td>\n",
       "      <td>12:42:31</td>\n",
       "      <td>0880849c05</td>\n",
       "      <td>144</td>\n",
       "      <td>NaN</td>\n",
       "      <td>0</td>\n",
       "      <td>0</td>\n",
       "    </tr>\n",
       "    <tr>\n",
       "      <th>3</th>\n",
       "      <td>0</td>\n",
       "      <td>2016-12-19</td>\n",
       "      <td>12:48:08</td>\n",
       "      <td>8b4f9e0e95</td>\n",
       "      <td>66</td>\n",
       "      <td>NaN</td>\n",
       "      <td>0</td>\n",
       "      <td>0</td>\n",
       "    </tr>\n",
       "    <tr>\n",
       "      <th>4</th>\n",
       "      <td>0</td>\n",
       "      <td>2016-12-19</td>\n",
       "      <td>13:31:08</td>\n",
       "      <td>7ad237eed0</td>\n",
       "      <td>24</td>\n",
       "      <td>NaN</td>\n",
       "      <td>0</td>\n",
       "      <td>0</td>\n",
       "    </tr>\n",
       "  </tbody>\n",
       "</table>\n",
       "</div>"
      ],
      "text/plain": [
       "   store_id        date      time     card_id  amount  installments  \\\n",
       "0         0  2016-12-14  18:05:31  d297bba73f       5           NaN   \n",
       "1         0  2016-12-14  18:05:54  d297bba73f      -5           NaN   \n",
       "2         0  2016-12-19  12:42:31  0880849c05     144           NaN   \n",
       "3         0  2016-12-19  12:48:08  8b4f9e0e95      66           NaN   \n",
       "4         0  2016-12-19  13:31:08  7ad237eed0      24           NaN   \n",
       "\n",
       "   days_of_week  holyday  \n",
       "0             2        0  \n",
       "1             2        0  \n",
       "2             0        0  \n",
       "3             0        0  \n",
       "4             0        0  "
      ]
     },
     "execution_count": 4,
     "metadata": {},
     "output_type": "execute_result"
    }
   ],
   "source": [
    "train.head()\n",
    "\n",
    "# amount에서 음수 값은 취소된 거래임"
   ]
  },
  {
   "cell_type": "code",
   "execution_count": 36,
   "metadata": {},
   "outputs": [
    {
     "name": "stdout",
     "output_type": "stream",
     "text": [
      "<class 'pandas.core.frame.DataFrame'>\n",
      "RangeIndex: 3362796 entries, 0 to 3362795\n",
      "Data columns (total 8 columns):\n",
      " #   Column        Dtype  \n",
      "---  ------        -----  \n",
      " 0   store_id      int64  \n",
      " 1   date          object \n",
      " 2   time          object \n",
      " 3   card_id       object \n",
      " 4   amount        int64  \n",
      " 5   installments  float64\n",
      " 6   days_of_week  int64  \n",
      " 7   holyday       int64  \n",
      "dtypes: float64(1), int64(4), object(3)\n",
      "memory usage: 205.2+ MB\n"
     ]
    }
   ],
   "source": [
    "train.info()"
   ]
  },
  {
   "cell_type": "code",
   "execution_count": 42,
   "metadata": {},
   "outputs": [],
   "source": [
    "# datetime 타입으로 변경\n",
    "# is_calceled feature 추가\n",
    "\n",
    "combine = [train, test]\n",
    "\n",
    "for data in combine:\n",
    "    data['date'] = pd.to_datetime(data['date'])\n",
    "    data['is_canceled'] = data['amount'].map(lambda x: 1 if x < 0 else 0)"
   ]
  },
  {
   "cell_type": "code",
   "execution_count": 64,
   "metadata": {},
   "outputs": [],
   "source": [
    "# year, month, day\n",
    "\n",
    "combine = [train, test]\n",
    "\n",
    "for data in combine:\n",
    "    data['year'] = data['date'].dt.year      # year\n",
    "    data['quarter'] = data['date'].dt.quarter  # quarter\n",
    "    data['month'] = data['date'].dt.month    # month\n",
    "    data['day'] = data['date'].dt.day        # day"
   ]
  },
  {
   "cell_type": "markdown",
   "metadata": {},
   "source": [
    "### amount < 0"
   ]
  },
  {
   "cell_type": "code",
   "execution_count": 66,
   "metadata": {
    "scrolled": true
   },
   "outputs": [
    {
     "data": {
      "text/plain": [
       "<seaborn.axisgrid.FacetGrid at 0x1fd81ee0e88>"
      ]
     },
     "execution_count": 66,
     "metadata": {},
     "output_type": "execute_result"
    },
    {
     "data": {
      "image/png": "[encoded data removed]",
      "text/plain": [
       "<Figure size 432x108 with 1 Axes>"
      ]
     },
     "metadata": {
      "needs_background": "light"
     },
     "output_type": "display_data"
    },
    {
     "data": {
      "image/png": "[encoded data removed]",
      "text/plain": [
       "<Figure size 432x108 with 1 Axes>"
      ]
     },
     "metadata": {
      "needs_background": "light"
     },
     "output_type": "display_data"
    }
   ],
   "source": [
    "sns.catplot('amount', data=train, kind='boxen',\n",
    "            height=1.5, aspect=4)\n",
    "sns.catplot('amount', data=test, kind='boxen',\n",
    "            height=1.5, aspect=4)\n",
    "\n",
    "# train, test have negative 'amount' data.\n",
    "# only a few of trades over 100000"
   ]
  },
  {
   "cell_type": "code",
   "execution_count": null,
   "metadata": {},
   "outputs": [],
   "source": []
  },
  {
   "cell_type": "code",
   "execution_count": null,
   "metadata": {},
   "outputs": [],
   "source": []
  },
  {
   "cell_type": "code",
   "execution_count": null,
   "metadata": {},
   "outputs": [],
   "source": []
  },
  {
   "cell_type": "code",
   "execution_count": null,
   "metadata": {},
   "outputs": [],
   "source": []
  },
  {
   "cell_type": "markdown",
   "metadata": {},
   "source": [
    "### 총 매출액"
   ]
  },
  {
   "cell_type": "code",
   "execution_count": 151,
   "metadata": {},
   "outputs": [],
   "source": [
    "grouped_store = pd.DataFrame()\n",
    "\n",
    "# 가게의 거래 취소 횟수\n",
    "grouped_store['number_of_canceled'] = train.groupby(['store_id'])['is_canceled'].sum()\n",
    "# 가게의 거래 횟수(거래취소 포함)\n",
    "grouped_store['number_of_trades']= train.groupby(['store_id']).size()\n",
    "# 가게의 총 매출액\n",
    "grouped_store['total_sales'] = train.groupby(['store_id']).amount.sum()\n",
    "# 가게의 매출액 / 거래 횟수\n",
    "grouped_store['store_sales_per_trades'] = train.groupby(['store_id']).amount.sum() / train.groupby(['store_id']).size()\n"
   ]
  },
  {
   "cell_type": "code",
   "execution_count": 152,
   "metadata": {},
   "outputs": [],
   "source": [
    "grouped_store['store_id'] = grouped_store.index\n",
    "grouped_store.index = np.arange(0, len(grouped_store))"
   ]
  },
  {
   "cell_type": "code",
   "execution_count": 153,
   "metadata": {},
   "outputs": [
    {
     "data": {
      "text/html": [
       "<div>\n",
       "<style scoped>\n",
       "    .dataframe tbody tr th:only-of-type {\n",
       "        vertical-align: middle;\n",
       "    }\n",
       "\n",
       "    .dataframe tbody tr th {\n",
       "        vertical-align: top;\n",
       "    }\n",
       "\n",
       "    .dataframe thead th {\n",
       "        text-align: right;\n",
       "    }\n",
       "</style>\n",
       "<table border=\"1\" class=\"dataframe\">\n",
       "  <thead>\n",
       "    <tr style=\"text-align: right;\">\n",
       "      <th></th>\n",
       "      <th>number_of_canceled</th>\n",
       "      <th>number_of_trades</th>\n",
       "      <th>total_sales</th>\n",
       "      <th>store_sales_per_trades</th>\n",
       "      <th>store_id</th>\n",
       "    </tr>\n",
       "  </thead>\n",
       "  <tbody>\n",
       "    <tr>\n",
       "      <th>0</th>\n",
       "      <td>613</td>\n",
       "      <td>68773</td>\n",
       "      <td>5234611</td>\n",
       "      <td>76.114333</td>\n",
       "      <td>0</td>\n",
       "    </tr>\n",
       "    <tr>\n",
       "      <th>1</th>\n",
       "      <td>0</td>\n",
       "      <td>40</td>\n",
       "      <td>147950</td>\n",
       "      <td>3698.750000</td>\n",
       "      <td>1</td>\n",
       "    </tr>\n",
       "    <tr>\n",
       "      <th>2</th>\n",
       "      <td>53</td>\n",
       "      <td>16829</td>\n",
       "      <td>1615060</td>\n",
       "      <td>95.968863</td>\n",
       "      <td>2</td>\n",
       "    </tr>\n",
       "    <tr>\n",
       "      <th>3</th>\n",
       "      <td>3</td>\n",
       "      <td>383</td>\n",
       "      <td>62781</td>\n",
       "      <td>163.919060</td>\n",
       "      <td>3</td>\n",
       "    </tr>\n",
       "    <tr>\n",
       "      <th>4</th>\n",
       "      <td>5</td>\n",
       "      <td>2082</td>\n",
       "      <td>270312</td>\n",
       "      <td>129.832853</td>\n",
       "      <td>4</td>\n",
       "    </tr>\n",
       "    <tr>\n",
       "      <th>...</th>\n",
       "      <td>...</td>\n",
       "      <td>...</td>\n",
       "      <td>...</td>\n",
       "      <td>...</td>\n",
       "      <td>...</td>\n",
       "    </tr>\n",
       "    <tr>\n",
       "      <th>1770</th>\n",
       "      <td>131</td>\n",
       "      <td>10544</td>\n",
       "      <td>1319911</td>\n",
       "      <td>125.181241</td>\n",
       "      <td>1795</td>\n",
       "    </tr>\n",
       "    <tr>\n",
       "      <th>1771</th>\n",
       "      <td>2</td>\n",
       "      <td>111</td>\n",
       "      <td>15372</td>\n",
       "      <td>138.486486</td>\n",
       "      <td>1796</td>\n",
       "    </tr>\n",
       "    <tr>\n",
       "      <th>1772</th>\n",
       "      <td>2</td>\n",
       "      <td>82</td>\n",
       "      <td>49645</td>\n",
       "      <td>605.426829</td>\n",
       "      <td>1797</td>\n",
       "    </tr>\n",
       "    <tr>\n",
       "      <th>1773</th>\n",
       "      <td>10</td>\n",
       "      <td>2898</td>\n",
       "      <td>110011</td>\n",
       "      <td>37.961008</td>\n",
       "      <td>1798</td>\n",
       "    </tr>\n",
       "    <tr>\n",
       "      <th>1774</th>\n",
       "      <td>2</td>\n",
       "      <td>437</td>\n",
       "      <td>192951</td>\n",
       "      <td>441.535469</td>\n",
       "      <td>1799</td>\n",
       "    </tr>\n",
       "  </tbody>\n",
       "</table>\n",
       "<p>1775 rows × 5 columns</p>\n",
       "</div>"
      ],
      "text/plain": [
       "      number_of_canceled  number_of_trades  total_sales  \\\n",
       "0                    613             68773      5234611   \n",
       "1                      0                40       147950   \n",
       "2                     53             16829      1615060   \n",
       "3                      3               383        62781   \n",
       "4                      5              2082       270312   \n",
       "...                  ...               ...          ...   \n",
       "1770                 131             10544      1319911   \n",
       "1771                   2               111        15372   \n",
       "1772                   2                82        49645   \n",
       "1773                  10              2898       110011   \n",
       "1774                   2               437       192951   \n",
       "\n",
       "      store_sales_per_trades  store_id  \n",
       "0                  76.114333         0  \n",
       "1                3698.750000         1  \n",
       "2                  95.968863         2  \n",
       "3                 163.919060         3  \n",
       "4                 129.832853         4  \n",
       "...                      ...       ...  \n",
       "1770              125.181241      1795  \n",
       "1771              138.486486      1796  \n",
       "1772              605.426829      1797  \n",
       "1773               37.961008      1798  \n",
       "1774              441.535469      1799  \n",
       "\n",
       "[1775 rows x 5 columns]"
      ]
     },
     "execution_count": 153,
     "metadata": {},
     "output_type": "execute_result"
    }
   ],
   "source": [
    "grouped_store"
   ]
  },
  {
   "cell_type": "code",
   "execution_count": 150,
   "metadata": {},
   "outputs": [
    {
     "data": {
      "text/plain": [
       "158     4875\n",
       "1013    1948\n",
       "0        613\n",
       "218      417\n",
       "932      345\n",
       "        ... \n",
       "1582       0\n",
       "326        0\n",
       "1580       0\n",
       "1578       0\n",
       "1277       0\n",
       "Name: number_of_canceled, Length: 1775, dtype: int64"
      ]
     },
     "execution_count": 150,
     "metadata": {},
     "output_type": "execute_result"
    }
   ],
   "source": [
    "grouped_store['number_of_canceled'].sort_values(ascending=False)"
   ]
  },
  {
   "cell_type": "code",
   "execution_count": null,
   "metadata": {},
   "outputs": [],
   "source": []
  },
  {
   "cell_type": "code",
   "execution_count": 143,
   "metadata": {},
   "outputs": [
    {
     "data": {
      "text/plain": [
       "<matplotlib.axes._subplots.AxesSubplot at 0x1fd9d3d4708>"
      ]
     },
     "execution_count": 143,
     "metadata": {},
     "output_type": "execute_result"
    },
    {
     "data": {
      "image/png": "[encoded data removed]",
      "text/plain": [
       "<Figure size 720x720 with 2 Axes>"
      ]
     },
     "metadata": {
      "needs_background": "light"
     },
     "output_type": "display_data"
    }
   ],
   "source": [
    "fig, axes = plt.subplots(2,1, sharex=True, sharey=True, figsize=(10,10))\n",
    "\n",
    "axes[0].set_title('nubmer of refund', fontsize=15)\n",
    "axes[0].set_ylim([0, 5])\n",
    "grouped_store.iloc[0:100, :].number_of_canceled.plot(kind='bar', ax=axes[0])\n",
    "axes[1].set_title('number_of_trade', fontsize=15)\n",
    "axes[1].set_ylim([0, 3140])\n",
    "grouped_store.iloc[0:100, :].number_of_trades.plot(kind='bar', ax=axes[1])"
   ]
  },
  {
   "cell_type": "code",
   "execution_count": 116,
   "metadata": {},
   "outputs": [
    {
     "data": {
      "text/plain": [
       "<matplotlib.axes._subplots.AxesSubplot at 0x1fd935c0c88>"
      ]
     },
     "execution_count": 116,
     "metadata": {},
     "output_type": "execute_result"
    },
    {
     "data": {
      "image/png": "[encoded data removed]",
      "text/plain": [
       "<Figure size 432x288 with 1 Axes>"
      ]
     },
     "metadata": {
      "needs_background": "light"
     },
     "output_type": "display_data"
    }
   ],
   "source": [
    "sns.barplot(x=grouped_store.iloc[0:100, :].index, y='number_of_trades', data=grouped_store.iloc[0:100, :])"
   ]
  },
  {
   "cell_type": "code",
   "execution_count": 110,
   "metadata": {},
   "outputs": [
    {
     "data": {
      "text/plain": [
       "<matplotlib.axes._subplots.AxesSubplot at 0x1fd939a8548>"
      ]
     },
     "execution_count": 110,
     "metadata": {},
     "output_type": "execute_result"
    },
    {
     "data": {
      "image/png": "[encoded data removed]",
      "text/plain": [
       "<Figure size 432x288 with 1 Axes>"
      ]
     },
     "metadata": {
      "needs_background": "light"
     },
     "output_type": "display_data"
    }
   ],
   "source": [
    "sns.barplot(x=grouped_store.iloc[0:10, :].index, y='number_of_trades', data=grouped_store.iloc[0:10, :])"
   ]
  },
  {
   "cell_type": "markdown",
   "metadata": {},
   "source": [
    "## 년도별"
   ]
  },
  {
   "cell_type": "code",
   "execution_count": 247,
   "metadata": {},
   "outputs": [],
   "source": [
    "grouped_store_year = pd.DataFrame()\n",
    "\n",
    "# 가게의 거래 취소 횟수\n",
    "grouped_store_year['number_of_canceled'] = train.groupby(['store_id', 'year'])['is_canceled'].sum()\n",
    "# 가게의 거래 횟수(거래취소 포함)\n",
    "grouped_store_year['number_of_trades']= train.groupby(['store_id', 'year']).size()\n",
    "# 가게의 총 매출액\n",
    "grouped_store_year['total_sales'] = train.groupby(['store_id', 'year']).amount.sum()\n",
    "# 가게의 매출액 / 거래 횟수\n",
    "grouped_store_year['store_sales_per_trades'] = train.groupby(['store_id', 'year']).amount.sum() / train.groupby(['store_id', 'year']).size()\n"
   ]
  },
  {
   "cell_type": "code",
   "execution_count": 249,
   "metadata": {},
   "outputs": [],
   "source": [
    "grouped_store_year['store_id'] = grouped_store_year.index.get_level_values('store_id')\n",
    "grouped_store_year['year'] = grouped_store_year.index.get_level_values('year')\n",
    "grouped_store_year.reset_index(drop=True, inplace=True)"
   ]
  },
  {
   "cell_type": "code",
   "execution_count": 251,
   "metadata": {},
   "outputs": [],
   "source": [
    "# 전체 거래 횟 수 top 100\n",
    "trade_top = grouped_store_year.groupby('store_id').sum().sort_values(by='number_of_trades', ascending=False).index[:10]"
   ]
  },
  {
   "cell_type": "code",
   "execution_count": 252,
   "metadata": {
    "scrolled": false
   },
   "outputs": [
    {
     "data": {
      "text/plain": [
       "number_of_canceled            23.000000\n",
       "number_of_trades            1635.000000\n",
       "total_sales               137336.000000\n",
       "store_sales_per_trades        83.997554\n",
       "store_id                       0.000000\n",
       "year                        2016.000000\n",
       "Name: 0, dtype: float64"
      ]
     },
     "execution_count": 252,
     "metadata": {},
     "output_type": "execute_result"
    }
   ],
   "source": [
    "grouped_store_year.iloc[0]"
   ]
  },
  {
   "cell_type": "code",
   "execution_count": 253,
   "metadata": {},
   "outputs": [
    {
     "data": {
      "text/plain": [
       "<matplotlib.axes._subplots.AxesSubplot at 0x1fd9eda47c8>"
      ]
     },
     "execution_count": 253,
     "metadata": {},
     "output_type": "execute_result"
    },
    {
     "data": {
      "image/png": "[encoded data removed]",
      "text/plain": [
       "<Figure size 432x288 with 1 Axes>"
      ]
     },
     "metadata": {
      "needs_background": "light"
     },
     "output_type": "display_data"
    }
   ],
   "source": [
    "grouped_store_year.iloc[:10].plot()"
   ]
  },
  {
   "cell_type": "code",
   "execution_count": 235,
   "metadata": {},
   "outputs": [
    {
     "data": {
      "text/plain": [
       "<matplotlib.axes._subplots.AxesSubplot at 0x1fd9ec717c8>"
      ]
     },
     "execution_count": 235,
     "metadata": {},
     "output_type": "execute_result"
    },
    {
     "data": {
      "image/png": "[encoded data removed]",
      "text/plain": [
       "<Figure size 432x288 with 1 Axes>"
      ]
     },
     "metadata": {
      "needs_background": "light"
     },
     "output_type": "display_data"
    }
   ],
   "source": [
    "# 거래 횟수 상위 10\n",
    "sns.barplot(x='store_id', y='number_of_trades', hue='year',\n",
    "            data=grouped_store_year.)"
   ]
  }
 ],
 "metadata": {
  "kernelspec": {
   "display_name": "Python 3",
   "language": "python",
   "name": "python3"
  },
  "language_info": {
   "codemirror_mode": {
    "name": "ipython",
    "version": 3
   },
   "file_extension": ".py",
   "mimetype": "text/x-python",
   "name": "python",
   "nbconvert_exporter": "python",
   "pygments_lexer": "ipython3",
   "version": "3.7.7"
  }
 },
 "nbformat": 4,
 "nbformat_minor": 4
}
