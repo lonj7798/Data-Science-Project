{
 "cells": [
  {
   "cell_type": "markdown",
   "id": "415be1ae",
   "metadata": {},
   "source": [
    "## Import Package"
   ]
  },
  {
   "cell_type": "code",
   "execution_count": 1,
   "id": "b1cdee6b",
   "metadata": {},
   "outputs": [],
   "source": [
    "import numpy as np\n",
    "\n",
    "\n",
    "import tensorflow as tf\n",
    "from tensorflow.keras.preprocessing.image import ImageDataGenerator \n",
    "\n",
    "import os"
   ]
  },
  {
   "cell_type": "markdown",
   "id": "25c5866d",
   "metadata": {},
   "source": [
    "## Data Import"
   ]
  },
  {
   "cell_type": "code",
   "execution_count": 2,
   "id": "a6d899c4",
   "metadata": {},
   "outputs": [],
   "source": [
    "path = '../../../data/intel_image_classification/'\n",
    "\n",
    "path_training = path + 'seg_train/seg_train/' # traininng set\n",
    "path_valid = path + 'seg_test/seg_test/' # vaildation set\n",
    "path_pred = path + 'seg_pred/seg_pred/' # prediction set\n",
    "\n",
    "# labels\n",
    "labels = os.listdir(path_training) # os.listdir(path_valid)"
   ]
  },
  {
   "cell_type": "markdown",
   "id": "10761098",
   "metadata": {},
   "source": [
    "### Import Training/Valid Data + Image Generator"
   ]
  },
  {
   "cell_type": "code",
   "execution_count": 3,
   "id": "6e7c2ad6",
   "metadata": {},
   "outputs": [
    {
     "name": "stdout",
     "output_type": "stream",
     "text": [
      "Training\n",
      "  forest: 2271\n",
      "  mountain: 2512\n",
      "  street: 2382\n",
      "  sea: 2274\n",
      "  glacier: 2404\n",
      "  buildings: 2191\n",
      "\n",
      "Validation\n",
      "  forest: 474\n",
      "  mountain: 525\n",
      "  street: 501\n",
      "  sea: 510\n",
      "  glacier: 553\n",
      "  buildings: 437\n"
     ]
    }
   ],
   "source": [
    "print(\"Training\")\n",
    "for label in labels:\n",
    "    print(f'  {label}: {len(os.listdir(path_training+label))}')\n",
    "    \n",
    "print()\n",
    "\n",
    "print(\"Validation\")\n",
    "for label in labels:\n",
    "    print(f'  {label}: {len(os.listdir(path_valid+label))}')"
   ]
  },
  {
   "cell_type": "code",
   "execution_count": 4,
   "id": "94e91600",
   "metadata": {
    "scrolled": true
   },
   "outputs": [
    {
     "name": "stdout",
     "output_type": "stream",
     "text": [
      "Found 14034 images belonging to 6 classes.\n",
      "Found 3000 images belonging to 6 classes.\n"
     ]
    }
   ],
   "source": [
    "\n",
    "train_datagen = ImageDataGenerator(rescale = 1./255)\n",
    "train_generator = train_datagen.flow_from_directory(path_training,\n",
    "                                                  target_size=(150,150),\n",
    "                                                  batch_size=20,\n",
    "                                                  color_mode='rgb')\n",
    "\"\"\"\n",
    "\n",
    "                                                  width_shift_range=0.2,\n",
    "                                                  height_shift_range=0.2,\n",
    "                                                  shear_range=0.2,\n",
    "                                                  zoom_range=0.2,\n",
    "                                                  fill_mode='nearest',\n",
    "                                                  class_mode='cagegorical'\n",
    "\"\"\"\n",
    "\n",
    "\n",
    "valid_datagen = ImageDataGenerator(rescale = 1./255)\n",
    "test_generator = valid_datagen.flow_from_directory(path_valid,\n",
    "                                                  target_size=(150,150))\n"
   ]
  },
  {
   "cell_type": "code",
   "execution_count": null,
   "id": "41278641",
   "metadata": {},
   "outputs": [],
   "source": []
  },
  {
   "cell_type": "code",
   "execution_count": 5,
   "id": "3a8f25db",
   "metadata": {},
   "outputs": [],
   "source": [
    "from tensorflow.keras.layers import Layer"
   ]
  },
  {
   "cell_type": "code",
   "execution_count": 7,
   "id": "4a76c40b",
   "metadata": {},
   "outputs": [],
   "source": [
    "class IdentityBlock(tf.keras.Model):\n",
    "    def __init__(self, filters, kernel_size):\n",
    "        super(IdentityBlock, self).__init__(name='')\n",
    "        \n",
    "        self.conv1 = tf.keras.layers.Conv2D(filters, kernel_size, padding='same')\n",
    "        self.bn1 = tf.keras.layers.BatchNormalization()\n",
    "        \n",
    "        self.conv2 = tf.keras.layers.Conv2D(filters, kernel_size, padding='same')\n",
    "        self.bn2 = tf.keras.layers.BatchNormalization()\n",
    "        \n",
    "        self.act = tf.keras.layers.Activation('relu')\n",
    "        self.add = tf.keras.layers.Add()\n",
    "        \n",
    "    def call(self, input_tensor):\n",
    "        X = self.conv1(input_tensor)\n",
    "        X = self.bn1(X)\n",
    "        X = self.act(X)\n",
    "        \n",
    "        X = self.conv2(X)\n",
    "        X = self.bn2(X)\n",
    "        \n",
    "        X = self.add([X, input_tensor])\n",
    "        X = self.act(X)\n",
    "        return X\n",
    "    \n",
    "class ResNet(tf.keras.Model):\n",
    "    def __init__(self, num_classes):\n",
    "        super(ResNet, self).__init__()\n",
    "        self.conv = tf.keras.layers.Conv2D(64, 7, padding='same')\n",
    "        self.bn = tf.keras.layers.BatchNormalization()\n",
    "        self.act = tf.keras.layers.Activation('relu')\n",
    "        self.max_pool = tf.keras.layers.MaxPool2D((3, 3))\n",
    "\n",
    "        # Use the Identity blocks that you just defined\n",
    "        self.id1a = IdentityBlock(64, 3)\n",
    "        self.id1b = IdentityBlock(64, 3)\n",
    "\n",
    "        self.global_pool = tf.keras.layers.GlobalAveragePooling2D()\n",
    "        \n",
    "        self.flatten = tf.keras.layers.Flatten()\n",
    "        self.drop = tf.keras.layers.Dropout(0.4)\n",
    "        self.dense_1 = tf.keras.layers.Dense(1024, activation='relu')\n",
    "        self.dense_2 = tf.keras.layers.Dense(512, activation='relu')\n",
    "        self.classifier = tf.keras.layers.Dense(num_classes, activation='relu')\n",
    "\n",
    "    def call(self, inputs):\n",
    "        x = self.conv(inputs)\n",
    "        x = self.bn(x)\n",
    "        x = self.act(x)\n",
    "        x = self.max_pool(x)\n",
    "\n",
    "        # insert the identity blocks in the middle of the network\n",
    "        x = self.id1a(x)\n",
    "        x = self.id1b(x)\n",
    "        x = self.global_pool(x)\n",
    "        \n",
    "        x = self.flatten(x)\n",
    "        x = self.drop(x)\n",
    "        x = self.dense_1(x)\n",
    "        x = self.dense_2(x)\n",
    "        \n",
    "        return self.classifier(x)"
   ]
  },
  {
   "cell_type": "code",
   "execution_count": 8,
   "id": "2465af79",
   "metadata": {},
   "outputs": [],
   "source": [
    "resnet = ResNet(len(labels))"
   ]
  },
  {
   "cell_type": "code",
   "execution_count": 9,
   "id": "78b61754",
   "metadata": {},
   "outputs": [
    {
     "name": "stderr",
     "output_type": "stream",
     "text": [
      "/home/jaewon/anaconda3/lib/python3.8/site-packages/tensorflow/python/keras/optimizer_v2/optimizer_v2.py:374: UserWarning: The `lr` argument is deprecated, use `learning_rate` instead.\n",
      "  warnings.warn(\n"
     ]
    }
   ],
   "source": [
    "resnet.compile(optimizer=tf.keras.optimizers.Adam(lr=0.0001),\n",
    "               loss=tf.keras.losses.CategoricalCrossentropy(),\n",
    "               metrics=['accuracy'])"
   ]
  },
  {
   "cell_type": "code",
   "execution_count": 10,
   "id": "38711a40",
   "metadata": {
    "scrolled": true
   },
   "outputs": [
    {
     "name": "stdout",
     "output_type": "stream",
     "text": [
      "Epoch 1/100\n",
      "702/702 [==============================] - 21s 29ms/step - loss: 1.6813 - accuracy: 0.3945 - val_loss: 1.3976 - val_accuracy: 0.4170\n",
      "Epoch 2/100\n",
      "702/702 [==============================] - 20s 29ms/step - loss: 1.4731 - accuracy: 0.4039 - val_loss: 1.3509 - val_accuracy: 0.5103\n",
      "Epoch 3/100\n",
      "702/702 [==============================] - 20s 29ms/step - loss: 1.3792 - accuracy: 0.4731 - val_loss: 1.1893 - val_accuracy: 0.5727\n",
      "Epoch 4/100\n",
      "702/702 [==============================] - 20s 29ms/step - loss: 1.3387 - accuracy: 0.4969 - val_loss: 1.4338 - val_accuracy: 0.3553\n",
      "Epoch 5/100\n",
      "702/702 [==============================] - 20s 28ms/step - loss: 1.3504 - accuracy: 0.4520 - val_loss: 1.2099 - val_accuracy: 0.5447\n",
      "Epoch 6/100\n",
      "702/702 [==============================] - 20s 29ms/step - loss: 1.2761 - accuracy: 0.5257 - val_loss: 1.2893 - val_accuracy: 0.5357\n",
      "Epoch 7/100\n",
      "702/702 [==============================] - 20s 28ms/step - loss: 1.2405 - accuracy: 0.5418 - val_loss: 2.5395 - val_accuracy: 0.1773\n",
      "Epoch 8/100\n",
      "702/702 [==============================] - 20s 28ms/step - loss: 1.2906 - accuracy: 0.5024 - val_loss: 6.8931 - val_accuracy: 0.2703\n",
      "Epoch 9/100\n",
      "702/702 [==============================] - 20s 28ms/step - loss: 1.2655 - accuracy: 0.5350 - val_loss: 1.1480 - val_accuracy: 0.5823\n",
      "Epoch 10/100\n",
      "702/702 [==============================] - 20s 28ms/step - loss: 1.1663 - accuracy: 0.5723 - val_loss: 1.0236 - val_accuracy: 0.6317\n",
      "Epoch 11/100\n",
      "702/702 [==============================] - 20s 28ms/step - loss: 1.1701 - accuracy: 0.5674 - val_loss: 4.4248 - val_accuracy: 0.2443\n",
      "Epoch 12/100\n",
      "702/702 [==============================] - 20s 29ms/step - loss: 1.2916 - accuracy: 0.5282 - val_loss: 1.2563 - val_accuracy: 0.4703\n",
      "Epoch 13/100\n",
      "702/702 [==============================] - 20s 28ms/step - loss: 1.2484 - accuracy: 0.5285 - val_loss: 1.1514 - val_accuracy: 0.5923\n",
      "Epoch 14/100\n",
      "702/702 [==============================] - 20s 29ms/step - loss: 1.1991 - accuracy: 0.5763 - val_loss: 1.0559 - val_accuracy: 0.6183\n",
      "Epoch 15/100\n",
      "702/702 [==============================] - 20s 29ms/step - loss: 1.1142 - accuracy: 0.6002 - val_loss: 3.0321 - val_accuracy: 0.3290\n",
      "Epoch 16/100\n",
      "702/702 [==============================] - 20s 29ms/step - loss: 1.2450 - accuracy: 0.5443 - val_loss: 1.6064 - val_accuracy: 0.4433\n",
      "Epoch 17/100\n",
      "702/702 [==============================] - 20s 29ms/step - loss: 1.3151 - accuracy: 0.5048 - val_loss: 1.2461 - val_accuracy: 0.5277\n",
      "Epoch 18/100\n",
      "702/702 [==============================] - 20s 29ms/step - loss: 1.1833 - accuracy: 0.5698 - val_loss: 1.0645 - val_accuracy: 0.6017\n",
      "Epoch 19/100\n",
      "702/702 [==============================] - 20s 29ms/step - loss: 1.1208 - accuracy: 0.6158 - val_loss: 1.0404 - val_accuracy: 0.6700\n",
      "Epoch 20/100\n",
      "702/702 [==============================] - 20s 28ms/step - loss: 1.0586 - accuracy: 0.6511 - val_loss: 0.9274 - val_accuracy: 0.6733\n",
      "Epoch 21/100\n",
      "702/702 [==============================] - 20s 28ms/step - loss: 1.0895 - accuracy: 0.6113 - val_loss: 1.7651 - val_accuracy: 0.5167\n",
      "Epoch 22/100\n",
      "702/702 [==============================] - 20s 29ms/step - loss: 1.4603 - accuracy: 0.3990 - val_loss: 1.6440 - val_accuracy: 0.2630\n",
      "Epoch 23/100\n",
      "702/702 [==============================] - 21s 29ms/step - loss: 1.5555 - accuracy: 0.3149 - val_loss: 1.4395 - val_accuracy: 0.3727\n",
      "Epoch 24/100\n",
      "702/702 [==============================] - 20s 28ms/step - loss: 1.4429 - accuracy: 0.3859 - val_loss: 1.3240 - val_accuracy: 0.4847\n",
      "Epoch 25/100\n",
      "702/702 [==============================] - 20s 29ms/step - loss: 1.2926 - accuracy: 0.4877 - val_loss: 1.1240 - val_accuracy: 0.5557\n",
      "Epoch 26/100\n",
      "702/702 [==============================] - 20s 29ms/step - loss: 1.2745 - accuracy: 0.5259 - val_loss: 1.1460 - val_accuracy: 0.5633\n",
      "Epoch 27/100\n",
      "702/702 [==============================] - 21s 29ms/step - loss: 1.2305 - accuracy: 0.5393 - val_loss: 1.1837 - val_accuracy: 0.4647\n",
      "Epoch 28/100\n",
      "702/702 [==============================] - 20s 29ms/step - loss: 1.1657 - accuracy: 0.5730 - val_loss: 1.0902 - val_accuracy: 0.5777\n",
      "Epoch 29/100\n",
      "702/702 [==============================] - 20s 28ms/step - loss: 1.0624 - accuracy: 0.6196 - val_loss: 1.2800 - val_accuracy: 0.5587\n",
      "Epoch 30/100\n",
      "702/702 [==============================] - 20s 28ms/step - loss: 1.0531 - accuracy: 0.6303 - val_loss: 0.9660 - val_accuracy: 0.6330\n",
      "Epoch 31/100\n",
      "702/702 [==============================] - 20s 29ms/step - loss: 1.0668 - accuracy: 0.6376 - val_loss: 1.1203 - val_accuracy: 0.5697\n",
      "Epoch 32/100\n",
      "702/702 [==============================] - 21s 29ms/step - loss: 1.0180 - accuracy: 0.6479 - val_loss: 0.8928 - val_accuracy: 0.6883\n",
      "Epoch 33/100\n",
      "702/702 [==============================] - 20s 29ms/step - loss: 1.2279 - accuracy: 0.5257 - val_loss: 1.0806 - val_accuracy: 0.5777\n",
      "Epoch 34/100\n",
      "702/702 [==============================] - 20s 28ms/step - loss: 1.1122 - accuracy: 0.5923 - val_loss: 1.0873 - val_accuracy: 0.5950\n",
      "Epoch 35/100\n",
      "702/702 [==============================] - 20s 28ms/step - loss: 1.1465 - accuracy: 0.6036 - val_loss: 0.9801 - val_accuracy: 0.6630\n",
      "Epoch 36/100\n",
      "702/702 [==============================] - 20s 28ms/step - loss: 0.9986 - accuracy: 0.6453 - val_loss: 0.8966 - val_accuracy: 0.6660\n",
      "Epoch 37/100\n",
      "702/702 [==============================] - 20s 29ms/step - loss: 0.9602 - accuracy: 0.6648 - val_loss: 0.8308 - val_accuracy: 0.6993\n",
      "Epoch 38/100\n",
      "702/702 [==============================] - 20s 29ms/step - loss: 0.9886 - accuracy: 0.6459 - val_loss: 0.9297 - val_accuracy: 0.6740\n",
      "Epoch 39/100\n",
      "702/702 [==============================] - 20s 29ms/step - loss: 0.9519 - accuracy: 0.6668 - val_loss: 0.8319 - val_accuracy: 0.7193\n",
      "Epoch 40/100\n",
      "702/702 [==============================] - 20s 29ms/step - loss: 0.9714 - accuracy: 0.6544 - val_loss: 0.9881 - val_accuracy: 0.6707\n",
      "Epoch 41/100\n",
      "702/702 [==============================] - 20s 28ms/step - loss: 1.0215 - accuracy: 0.6398 - val_loss: 0.8060 - val_accuracy: 0.7240\n",
      "Epoch 42/100\n",
      "702/702 [==============================] - 20s 29ms/step - loss: 0.9218 - accuracy: 0.6782 - val_loss: 0.8135 - val_accuracy: 0.6963\n",
      "Epoch 43/100\n",
      "702/702 [==============================] - 20s 29ms/step - loss: 0.9067 - accuracy: 0.6849 - val_loss: 0.9598 - val_accuracy: 0.6287\n",
      "Epoch 44/100\n",
      "702/702 [==============================] - 20s 29ms/step - loss: 1.0295 - accuracy: 0.6125 - val_loss: 0.8633 - val_accuracy: 0.6733\n",
      "Epoch 45/100\n",
      "702/702 [==============================] - 20s 29ms/step - loss: 0.9394 - accuracy: 0.6775 - val_loss: 0.9281 - val_accuracy: 0.6653\n",
      "Epoch 46/100\n",
      "702/702 [==============================] - 20s 28ms/step - loss: 0.9166 - accuracy: 0.6881 - val_loss: 1.3020 - val_accuracy: 0.5140\n",
      "Epoch 47/100\n",
      "702/702 [==============================] - 20s 29ms/step - loss: 1.0260 - accuracy: 0.6464 - val_loss: 0.8043 - val_accuracy: 0.7370\n",
      "Epoch 48/100\n",
      "702/702 [==============================] - 20s 29ms/step - loss: 0.9020 - accuracy: 0.6927 - val_loss: 1.7001 - val_accuracy: 0.4577\n",
      "Epoch 49/100\n",
      "702/702 [==============================] - 20s 29ms/step - loss: 0.9568 - accuracy: 0.6667 - val_loss: 0.8512 - val_accuracy: 0.7157\n",
      "Epoch 50/100\n",
      "658/702 [===========================>..] - ETA: 1s - loss: 1.1168 - accuracy: 0.5937"
     ]
    },
    {
     "ename": "KeyboardInterrupt",
     "evalue": "",
     "output_type": "error",
     "traceback": [
      "\u001b[0;31m---------------------------------------------------------------------------\u001b[0m",
      "\u001b[0;31mKeyboardInterrupt\u001b[0m                         Traceback (most recent call last)",
      "\u001b[0;32m<ipython-input-10-09f3b35c5974>\u001b[0m in \u001b[0;36m<module>\u001b[0;34m\u001b[0m\n\u001b[0;32m----> 1\u001b[0;31m history = resnet.fit(train_generator,\n\u001b[0m\u001b[1;32m      2\u001b[0m            \u001b[0mepochs\u001b[0m\u001b[0;34m=\u001b[0m\u001b[0;36m100\u001b[0m\u001b[0;34m,\u001b[0m\u001b[0;34m\u001b[0m\u001b[0;34m\u001b[0m\u001b[0m\n\u001b[1;32m      3\u001b[0m            validation_data=test_generator)\n",
      "\u001b[0;32m~/anaconda3/lib/python3.8/site-packages/tensorflow/python/keras/engine/training.py\u001b[0m in \u001b[0;36mfit\u001b[0;34m(self, x, y, batch_size, epochs, verbose, callbacks, validation_split, validation_data, shuffle, class_weight, sample_weight, initial_epoch, steps_per_epoch, validation_steps, validation_batch_size, validation_freq, max_queue_size, workers, use_multiprocessing)\u001b[0m\n\u001b[1;32m   1176\u001b[0m                 _r=1):\n\u001b[1;32m   1177\u001b[0m               \u001b[0mcallbacks\u001b[0m\u001b[0;34m.\u001b[0m\u001b[0mon_train_batch_begin\u001b[0m\u001b[0;34m(\u001b[0m\u001b[0mstep\u001b[0m\u001b[0;34m)\u001b[0m\u001b[0;34m\u001b[0m\u001b[0;34m\u001b[0m\u001b[0m\n\u001b[0;32m-> 1178\u001b[0;31m               \u001b[0mtmp_logs\u001b[0m \u001b[0;34m=\u001b[0m \u001b[0mself\u001b[0m\u001b[0;34m.\u001b[0m\u001b[0mtrain_function\u001b[0m\u001b[0;34m(\u001b[0m\u001b[0miterator\u001b[0m\u001b[0;34m)\u001b[0m\u001b[0;34m\u001b[0m\u001b[0;34m\u001b[0m\u001b[0m\n\u001b[0m\u001b[1;32m   1179\u001b[0m               \u001b[0;32mif\u001b[0m \u001b[0mdata_handler\u001b[0m\u001b[0;34m.\u001b[0m\u001b[0mshould_sync\u001b[0m\u001b[0;34m:\u001b[0m\u001b[0;34m\u001b[0m\u001b[0;34m\u001b[0m\u001b[0m\n\u001b[1;32m   1180\u001b[0m                 \u001b[0mcontext\u001b[0m\u001b[0;34m.\u001b[0m\u001b[0masync_wait\u001b[0m\u001b[0;34m(\u001b[0m\u001b[0;34m)\u001b[0m\u001b[0;34m\u001b[0m\u001b[0;34m\u001b[0m\u001b[0m\n",
      "\u001b[0;32m~/anaconda3/lib/python3.8/site-packages/tensorflow/python/eager/def_function.py\u001b[0m in \u001b[0;36m__call__\u001b[0;34m(self, *args, **kwds)\u001b[0m\n\u001b[1;32m    887\u001b[0m \u001b[0;34m\u001b[0m\u001b[0m\n\u001b[1;32m    888\u001b[0m       \u001b[0;32mwith\u001b[0m \u001b[0mOptionalXlaContext\u001b[0m\u001b[0;34m(\u001b[0m\u001b[0mself\u001b[0m\u001b[0;34m.\u001b[0m\u001b[0m_jit_compile\u001b[0m\u001b[0;34m)\u001b[0m\u001b[0;34m:\u001b[0m\u001b[0;34m\u001b[0m\u001b[0;34m\u001b[0m\u001b[0m\n\u001b[0;32m--> 889\u001b[0;31m         \u001b[0mresult\u001b[0m \u001b[0;34m=\u001b[0m \u001b[0mself\u001b[0m\u001b[0;34m.\u001b[0m\u001b[0m_call\u001b[0m\u001b[0;34m(\u001b[0m\u001b[0;34m*\u001b[0m\u001b[0margs\u001b[0m\u001b[0;34m,\u001b[0m \u001b[0;34m**\u001b[0m\u001b[0mkwds\u001b[0m\u001b[0;34m)\u001b[0m\u001b[0;34m\u001b[0m\u001b[0;34m\u001b[0m\u001b[0m\n\u001b[0m\u001b[1;32m    890\u001b[0m \u001b[0;34m\u001b[0m\u001b[0m\n\u001b[1;32m    891\u001b[0m       \u001b[0mnew_tracing_count\u001b[0m \u001b[0;34m=\u001b[0m \u001b[0mself\u001b[0m\u001b[0;34m.\u001b[0m\u001b[0mexperimental_get_tracing_count\u001b[0m\u001b[0;34m(\u001b[0m\u001b[0;34m)\u001b[0m\u001b[0;34m\u001b[0m\u001b[0;34m\u001b[0m\u001b[0m\n",
      "\u001b[0;32m~/anaconda3/lib/python3.8/site-packages/tensorflow/python/eager/def_function.py\u001b[0m in \u001b[0;36m_call\u001b[0;34m(self, *args, **kwds)\u001b[0m\n\u001b[1;32m    915\u001b[0m       \u001b[0;31m# In this case we have created variables on the first call, so we run the\u001b[0m\u001b[0;34m\u001b[0m\u001b[0;34m\u001b[0m\u001b[0;34m\u001b[0m\u001b[0m\n\u001b[1;32m    916\u001b[0m       \u001b[0;31m# defunned version which is guaranteed to never create variables.\u001b[0m\u001b[0;34m\u001b[0m\u001b[0;34m\u001b[0m\u001b[0;34m\u001b[0m\u001b[0m\n\u001b[0;32m--> 917\u001b[0;31m       \u001b[0;32mreturn\u001b[0m \u001b[0mself\u001b[0m\u001b[0;34m.\u001b[0m\u001b[0m_stateless_fn\u001b[0m\u001b[0;34m(\u001b[0m\u001b[0;34m*\u001b[0m\u001b[0margs\u001b[0m\u001b[0;34m,\u001b[0m \u001b[0;34m**\u001b[0m\u001b[0mkwds\u001b[0m\u001b[0;34m)\u001b[0m  \u001b[0;31m# pylint: disable=not-callable\u001b[0m\u001b[0;34m\u001b[0m\u001b[0;34m\u001b[0m\u001b[0m\n\u001b[0m\u001b[1;32m    918\u001b[0m     \u001b[0;32melif\u001b[0m \u001b[0mself\u001b[0m\u001b[0;34m.\u001b[0m\u001b[0m_stateful_fn\u001b[0m \u001b[0;32mis\u001b[0m \u001b[0;32mnot\u001b[0m \u001b[0;32mNone\u001b[0m\u001b[0;34m:\u001b[0m\u001b[0;34m\u001b[0m\u001b[0;34m\u001b[0m\u001b[0m\n\u001b[1;32m    919\u001b[0m       \u001b[0;31m# Release the lock early so that multiple threads can perform the call\u001b[0m\u001b[0;34m\u001b[0m\u001b[0;34m\u001b[0m\u001b[0;34m\u001b[0m\u001b[0m\n",
      "\u001b[0;32m~/anaconda3/lib/python3.8/site-packages/tensorflow/python/eager/function.py\u001b[0m in \u001b[0;36m__call__\u001b[0;34m(self, *args, **kwargs)\u001b[0m\n\u001b[1;32m   3021\u001b[0m       (graph_function,\n\u001b[1;32m   3022\u001b[0m        filtered_flat_args) = self._maybe_define_function(args, kwargs)\n\u001b[0;32m-> 3023\u001b[0;31m     return graph_function._call_flat(\n\u001b[0m\u001b[1;32m   3024\u001b[0m         filtered_flat_args, captured_inputs=graph_function.captured_inputs)  # pylint: disable=protected-access\n\u001b[1;32m   3025\u001b[0m \u001b[0;34m\u001b[0m\u001b[0m\n",
      "\u001b[0;32m~/anaconda3/lib/python3.8/site-packages/tensorflow/python/eager/function.py\u001b[0m in \u001b[0;36m_call_flat\u001b[0;34m(self, args, captured_inputs, cancellation_manager)\u001b[0m\n\u001b[1;32m   1958\u001b[0m         and executing_eagerly):\n\u001b[1;32m   1959\u001b[0m       \u001b[0;31m# No tape is watching; skip to running the function.\u001b[0m\u001b[0;34m\u001b[0m\u001b[0;34m\u001b[0m\u001b[0;34m\u001b[0m\u001b[0m\n\u001b[0;32m-> 1960\u001b[0;31m       return self._build_call_outputs(self._inference_function.call(\n\u001b[0m\u001b[1;32m   1961\u001b[0m           ctx, args, cancellation_manager=cancellation_manager))\n\u001b[1;32m   1962\u001b[0m     forward_backward = self._select_forward_and_backward_functions(\n",
      "\u001b[0;32m~/anaconda3/lib/python3.8/site-packages/tensorflow/python/eager/function.py\u001b[0m in \u001b[0;36mcall\u001b[0;34m(self, ctx, args, cancellation_manager)\u001b[0m\n\u001b[1;32m    589\u001b[0m       \u001b[0;32mwith\u001b[0m \u001b[0m_InterpolateFunctionError\u001b[0m\u001b[0;34m(\u001b[0m\u001b[0mself\u001b[0m\u001b[0;34m)\u001b[0m\u001b[0;34m:\u001b[0m\u001b[0;34m\u001b[0m\u001b[0;34m\u001b[0m\u001b[0m\n\u001b[1;32m    590\u001b[0m         \u001b[0;32mif\u001b[0m \u001b[0mcancellation_manager\u001b[0m \u001b[0;32mis\u001b[0m \u001b[0;32mNone\u001b[0m\u001b[0;34m:\u001b[0m\u001b[0;34m\u001b[0m\u001b[0;34m\u001b[0m\u001b[0m\n\u001b[0;32m--> 591\u001b[0;31m           outputs = execute.execute(\n\u001b[0m\u001b[1;32m    592\u001b[0m               \u001b[0mstr\u001b[0m\u001b[0;34m(\u001b[0m\u001b[0mself\u001b[0m\u001b[0;34m.\u001b[0m\u001b[0msignature\u001b[0m\u001b[0;34m.\u001b[0m\u001b[0mname\u001b[0m\u001b[0;34m)\u001b[0m\u001b[0;34m,\u001b[0m\u001b[0;34m\u001b[0m\u001b[0;34m\u001b[0m\u001b[0m\n\u001b[1;32m    593\u001b[0m               \u001b[0mnum_outputs\u001b[0m\u001b[0;34m=\u001b[0m\u001b[0mself\u001b[0m\u001b[0;34m.\u001b[0m\u001b[0m_num_outputs\u001b[0m\u001b[0;34m,\u001b[0m\u001b[0;34m\u001b[0m\u001b[0;34m\u001b[0m\u001b[0m\n",
      "\u001b[0;32m~/anaconda3/lib/python3.8/site-packages/tensorflow/python/eager/execute.py\u001b[0m in \u001b[0;36mquick_execute\u001b[0;34m(op_name, num_outputs, inputs, attrs, ctx, name)\u001b[0m\n\u001b[1;32m     57\u001b[0m   \u001b[0;32mtry\u001b[0m\u001b[0;34m:\u001b[0m\u001b[0;34m\u001b[0m\u001b[0;34m\u001b[0m\u001b[0m\n\u001b[1;32m     58\u001b[0m     \u001b[0mctx\u001b[0m\u001b[0;34m.\u001b[0m\u001b[0mensure_initialized\u001b[0m\u001b[0;34m(\u001b[0m\u001b[0;34m)\u001b[0m\u001b[0;34m\u001b[0m\u001b[0;34m\u001b[0m\u001b[0m\n\u001b[0;32m---> 59\u001b[0;31m     tensors = pywrap_tfe.TFE_Py_Execute(ctx._handle, device_name, op_name,\n\u001b[0m\u001b[1;32m     60\u001b[0m                                         inputs, attrs, num_outputs)\n\u001b[1;32m     61\u001b[0m   \u001b[0;32mexcept\u001b[0m \u001b[0mcore\u001b[0m\u001b[0;34m.\u001b[0m\u001b[0m_NotOkStatusException\u001b[0m \u001b[0;32mas\u001b[0m \u001b[0me\u001b[0m\u001b[0;34m:\u001b[0m\u001b[0;34m\u001b[0m\u001b[0;34m\u001b[0m\u001b[0m\n",
      "\u001b[0;31mKeyboardInterrupt\u001b[0m: "
     ]
    }
   ],
   "source": [
    "history = resnet.fit(train_generator,\n",
    "           epochs=100,\n",
    "           validation_data=test_generator)"
   ]
  },
  {
   "cell_type": "code",
   "execution_count": 11,
   "id": "12f91978",
   "metadata": {},
   "outputs": [
    {
     "ename": "NameError",
     "evalue": "name 'history' is not defined",
     "output_type": "error",
     "traceback": [
      "\u001b[0;31m---------------------------------------------------------------------------\u001b[0m",
      "\u001b[0;31mNameError\u001b[0m                                 Traceback (most recent call last)",
      "\u001b[0;32m<ipython-input-11-65e00606fb74>\u001b[0m in \u001b[0;36m<module>\u001b[0;34m\u001b[0m\n\u001b[1;32m      9\u001b[0m     \u001b[0mplt\u001b[0m\u001b[0;34m.\u001b[0m\u001b[0mshow\u001b[0m\u001b[0;34m(\u001b[0m\u001b[0;34m)\u001b[0m\u001b[0;34m\u001b[0m\u001b[0;34m\u001b[0m\u001b[0m\n\u001b[1;32m     10\u001b[0m \u001b[0;34m\u001b[0m\u001b[0m\n\u001b[0;32m---> 11\u001b[0;31m \u001b[0mplot_graphs\u001b[0m\u001b[0;34m(\u001b[0m\u001b[0mhistory\u001b[0m\u001b[0;34m,\u001b[0m \u001b[0;34m\"accuracy\"\u001b[0m\u001b[0;34m)\u001b[0m\u001b[0;34m\u001b[0m\u001b[0;34m\u001b[0m\u001b[0m\n\u001b[0m\u001b[1;32m     12\u001b[0m \u001b[0mplot_graphs\u001b[0m\u001b[0;34m(\u001b[0m\u001b[0mhistory\u001b[0m\u001b[0;34m,\u001b[0m \u001b[0;34m\"loss\"\u001b[0m\u001b[0;34m)\u001b[0m\u001b[0;34m\u001b[0m\u001b[0;34m\u001b[0m\u001b[0m\n",
      "\u001b[0;31mNameError\u001b[0m: name 'history' is not defined"
     ]
    }
   ],
   "source": [
    "import matplotlib.pyplot as plt\n",
    "\n",
    "def plot_graphs(history, string):\n",
    "    plt.plot(history.history[string])\n",
    "    plt.plot(history.history['val_'+string])\n",
    "    plt.xlabel(\"Epochs\")\n",
    "    plt.ylabel(string)\n",
    "    plt.legend([string, 'val_'+string])\n",
    "    plt.show()\n",
    "    \n",
    "plot_graphs(history, \"accuracy\")\n",
    "plot_graphs(history, \"loss\")"
   ]
  },
  {
   "cell_type": "code",
   "execution_count": 12,
   "id": "53fbc98f",
   "metadata": {
    "scrolled": false
   },
   "outputs": [
    {
     "ename": "NameError",
     "evalue": "name 'history' is not defined",
     "output_type": "error",
     "traceback": [
      "\u001b[0;31m---------------------------------------------------------------------------\u001b[0m",
      "\u001b[0;31mNameError\u001b[0m                                 Traceback (most recent call last)",
      "\u001b[0;32m<ipython-input-12-724d81c262b4>\u001b[0m in \u001b[0;36m<module>\u001b[0;34m\u001b[0m\n\u001b[1;32m      2\u001b[0m \u001b[0mget_ipython\u001b[0m\u001b[0;34m(\u001b[0m\u001b[0;34m)\u001b[0m\u001b[0;34m.\u001b[0m\u001b[0mrun_line_magic\u001b[0m\u001b[0;34m(\u001b[0m\u001b[0;34m'matplotlib'\u001b[0m\u001b[0;34m,\u001b[0m \u001b[0;34m'inline'\u001b[0m\u001b[0;34m)\u001b[0m\u001b[0;34m\u001b[0m\u001b[0;34m\u001b[0m\u001b[0m\n\u001b[1;32m      3\u001b[0m \u001b[0;32mimport\u001b[0m \u001b[0mmatplotlib\u001b[0m\u001b[0;34m.\u001b[0m\u001b[0mpyplot\u001b[0m \u001b[0;32mas\u001b[0m \u001b[0mplt\u001b[0m\u001b[0;34m\u001b[0m\u001b[0;34m\u001b[0m\u001b[0m\n\u001b[0;32m----> 4\u001b[0;31m \u001b[0macc\u001b[0m \u001b[0;34m=\u001b[0m \u001b[0mhistory\u001b[0m\u001b[0;34m.\u001b[0m\u001b[0mhistory\u001b[0m\u001b[0;34m[\u001b[0m\u001b[0;34m'accuracy'\u001b[0m\u001b[0;34m]\u001b[0m\u001b[0;34m\u001b[0m\u001b[0;34m\u001b[0m\u001b[0m\n\u001b[0m\u001b[1;32m      5\u001b[0m \u001b[0mval_acc\u001b[0m \u001b[0;34m=\u001b[0m \u001b[0mhistory\u001b[0m\u001b[0;34m.\u001b[0m\u001b[0mhistory\u001b[0m\u001b[0;34m[\u001b[0m\u001b[0;34m'val_accuracy'\u001b[0m\u001b[0;34m]\u001b[0m\u001b[0;34m\u001b[0m\u001b[0;34m\u001b[0m\u001b[0m\n\u001b[1;32m      6\u001b[0m \u001b[0mloss\u001b[0m \u001b[0;34m=\u001b[0m \u001b[0mhistory\u001b[0m\u001b[0;34m.\u001b[0m\u001b[0mhistory\u001b[0m\u001b[0;34m[\u001b[0m\u001b[0;34m'loss'\u001b[0m\u001b[0;34m]\u001b[0m\u001b[0;34m\u001b[0m\u001b[0;34m\u001b[0m\u001b[0m\n",
      "\u001b[0;31mNameError\u001b[0m: name 'history' is not defined"
     ]
    }
   ],
   "source": [
    "# Plot the chart for accuracy and loss on both training and validation\n",
    "%matplotlib inline\n",
    "import matplotlib.pyplot as plt\n",
    "acc = history.history['accuracy']\n",
    "val_acc = history.history['val_accuracy']\n",
    "loss = history.history['loss']\n",
    "val_loss = history.history['val_loss']\n",
    "\n",
    "epochs = range(len(acc))\n",
    "\n",
    "plt.plot(epochs, acc, 'r', label='Training accuracy')\n",
    "plt.plot(epochs, val_acc, 'b', label='Validation accuracy')\n",
    "plt.title('Training and validation accuracy')\n",
    "plt.legend()\n",
    "plt.figure()\n",
    "\n",
    "plt.plot(epochs, loss, 'r', label='Training Loss')\n",
    "plt.plot(epochs, val_loss, 'b', label='Validation Loss')\n",
    "plt.title('Training and validation loss')\n",
    "plt.legend()\n",
    "\n",
    "plt.show()"
   ]
  },
  {
   "cell_type": "code",
   "execution_count": 47,
   "id": "f3806e26",
   "metadata": {},
   "outputs": [
    {
     "name": "stdout",
     "output_type": "stream",
     "text": [
      "Accuracy: 0.8950406312942505\n",
      "Validation Accuracy: 0.82833331823349\n"
     ]
    }
   ],
   "source": [
    "print(\"Accuracy:\", history.history['accuracy'][-1])\n",
    "print(\"Validation Accuracy:\", history.history['val_accuracy'][-1])"
   ]
  },
  {
   "cell_type": "code",
   "execution_count": null,
   "id": "1881d058",
   "metadata": {},
   "outputs": [],
   "source": []
  }
 ],
 "metadata": {
  "kernelspec": {
   "display_name": "Python 3",
   "language": "python",
   "name": "python3"
  },
  "language_info": {
   "codemirror_mode": {
    "name": "ipython",
    "version": 3
   },
   "file_extension": ".py",
   "mimetype": "text/x-python",
   "name": "python",
   "nbconvert_exporter": "python",
   "pygments_lexer": "ipython3",
   "version": "3.8.11"
  }
 },
 "nbformat": 4,
 "nbformat_minor": 5
}
