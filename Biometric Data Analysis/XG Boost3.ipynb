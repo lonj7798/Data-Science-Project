{
 "cells": [
  {
   "cell_type": "code",
   "execution_count": 1,
   "metadata": {},
   "outputs": [],
   "source": [
    "import numpy as np\n",
    "import pandas as pd\n",
    "\n",
    "import matplotlib.pyplot as plt\n",
    "import seaborn as sns\n",
    "%matplotlib inline"
   ]
  },
  {
   "cell_type": "code",
   "execution_count": 2,
   "metadata": {
    "scrolled": true
   },
   "outputs": [],
   "source": [
    "data = pd.read_csv(\"../Data/Biometric Data Analysis/train.csv\").fillna(0)"
   ]
  },
  {
   "cell_type": "code",
   "execution_count": 3,
   "metadata": {},
   "outputs": [],
   "source": [
    "data.rho.unique()\n",
    "data.drop(\"id\", axis=1, inplace=True)"
   ]
  },
  {
   "cell_type": "code",
   "execution_count": 4,
   "metadata": {},
   "outputs": [],
   "source": [
    "# group by rho\n",
    "\n",
    "data_rho_25 = data[data['rho'] == 25]\n",
    "data_rho_20 = data[data['rho'] == 20]\n",
    "data_rho_15 = data[data['rho'] == 15]\n",
    "data_rho_10 = data[data['rho'] == 10]"
   ]
  },
  {
   "cell_type": "code",
   "execution_count": 5,
   "metadata": {},
   "outputs": [],
   "source": [
    "data_rho_25.to_csv(\"data/data_rho_25.csv\")\n",
    "data_rho_20.to_csv(\"data/data_rho_20.csv\")\n",
    "data_rho_15.to_csv(\"data/data_rho_15.csv\")\n",
    "data_rho_10.to_csv(\"data/data_rho_10.csv\")"
   ]
  },
  {
   "cell_type": "code",
   "execution_count": 6,
   "metadata": {},
   "outputs": [
    {
     "data": {
      "text/html": [
       "<div>\n",
       "<style scoped>\n",
       "    .dataframe tbody tr th:only-of-type {\n",
       "        vertical-align: middle;\n",
       "    }\n",
       "\n",
       "    .dataframe tbody tr th {\n",
       "        vertical-align: top;\n",
       "    }\n",
       "\n",
       "    .dataframe thead th {\n",
       "        text-align: right;\n",
       "    }\n",
       "</style>\n",
       "<table border=\"1\" class=\"dataframe\">\n",
       "  <thead>\n",
       "    <tr style=\"text-align: right;\">\n",
       "      <th></th>\n",
       "      <th>650_src</th>\n",
       "      <th>660_src</th>\n",
       "      <th>670_src</th>\n",
       "      <th>680_src</th>\n",
       "      <th>690_src</th>\n",
       "      <th>700_src</th>\n",
       "      <th>710_src</th>\n",
       "      <th>720_src</th>\n",
       "      <th>730_src</th>\n",
       "      <th>740_src</th>\n",
       "      <th>...</th>\n",
       "      <th>900_dst</th>\n",
       "      <th>910_dst</th>\n",
       "      <th>920_dst</th>\n",
       "      <th>930_dst</th>\n",
       "      <th>940_dst</th>\n",
       "      <th>950_dst</th>\n",
       "      <th>960_dst</th>\n",
       "      <th>970_dst</th>\n",
       "      <th>980_dst</th>\n",
       "      <th>990_dst</th>\n",
       "    </tr>\n",
       "  </thead>\n",
       "  <tbody>\n",
       "    <tr>\n",
       "      <th>0</th>\n",
       "      <td>0.37950</td>\n",
       "      <td>0.42993</td>\n",
       "      <td>0.52076</td>\n",
       "      <td>0.57166</td>\n",
       "      <td>0.67818</td>\n",
       "      <td>0.75476</td>\n",
       "      <td>0.83580</td>\n",
       "      <td>0.93623</td>\n",
       "      <td>0.96333</td>\n",
       "      <td>1.01541</td>\n",
       "      <td>...</td>\n",
       "      <td>0.000000e+00</td>\n",
       "      <td>3.527371e-18</td>\n",
       "      <td>0.000000e+00</td>\n",
       "      <td>6.455564e-19</td>\n",
       "      <td>0.000000e+00</td>\n",
       "      <td>0.000000e+00</td>\n",
       "      <td>0.000000e+00</td>\n",
       "      <td>1.067504e-18</td>\n",
       "      <td>5.998949e-18</td>\n",
       "      <td>4.378513e-17</td>\n",
       "    </tr>\n",
       "    <tr>\n",
       "      <th>2</th>\n",
       "      <td>0.00000</td>\n",
       "      <td>0.03289</td>\n",
       "      <td>0.02416</td>\n",
       "      <td>0.03610</td>\n",
       "      <td>0.05843</td>\n",
       "      <td>0.09015</td>\n",
       "      <td>0.14944</td>\n",
       "      <td>0.18578</td>\n",
       "      <td>0.25584</td>\n",
       "      <td>0.30445</td>\n",
       "      <td>...</td>\n",
       "      <td>4.629125e-18</td>\n",
       "      <td>1.409413e-18</td>\n",
       "      <td>3.237480e-18</td>\n",
       "      <td>0.000000e+00</td>\n",
       "      <td>0.000000e+00</td>\n",
       "      <td>0.000000e+00</td>\n",
       "      <td>0.000000e+00</td>\n",
       "      <td>0.000000e+00</td>\n",
       "      <td>1.329725e-18</td>\n",
       "      <td>0.000000e+00</td>\n",
       "    </tr>\n",
       "    <tr>\n",
       "      <th>5</th>\n",
       "      <td>0.02976</td>\n",
       "      <td>0.03531</td>\n",
       "      <td>0.01180</td>\n",
       "      <td>0.03343</td>\n",
       "      <td>0.04524</td>\n",
       "      <td>0.03576</td>\n",
       "      <td>0.05347</td>\n",
       "      <td>0.02968</td>\n",
       "      <td>0.04358</td>\n",
       "      <td>0.05270</td>\n",
       "      <td>...</td>\n",
       "      <td>0.000000e+00</td>\n",
       "      <td>3.749523e-18</td>\n",
       "      <td>0.000000e+00</td>\n",
       "      <td>1.076966e-18</td>\n",
       "      <td>1.820508e-18</td>\n",
       "      <td>2.682566e-18</td>\n",
       "      <td>0.000000e+00</td>\n",
       "      <td>0.000000e+00</td>\n",
       "      <td>8.175377e-18</td>\n",
       "      <td>7.686989e-17</td>\n",
       "    </tr>\n",
       "    <tr>\n",
       "      <th>7</th>\n",
       "      <td>0.03749</td>\n",
       "      <td>0.03493</td>\n",
       "      <td>0.07953</td>\n",
       "      <td>0.09259</td>\n",
       "      <td>0.14327</td>\n",
       "      <td>0.21181</td>\n",
       "      <td>0.27927</td>\n",
       "      <td>0.35796</td>\n",
       "      <td>0.46093</td>\n",
       "      <td>0.53271</td>\n",
       "      <td>...</td>\n",
       "      <td>4.488662e-19</td>\n",
       "      <td>9.023918e-19</td>\n",
       "      <td>1.273972e-17</td>\n",
       "      <td>1.164347e-18</td>\n",
       "      <td>0.000000e+00</td>\n",
       "      <td>1.846159e-18</td>\n",
       "      <td>2.910492e-18</td>\n",
       "      <td>7.935297e-19</td>\n",
       "      <td>0.000000e+00</td>\n",
       "      <td>0.000000e+00</td>\n",
       "    </tr>\n",
       "    <tr>\n",
       "      <th>9</th>\n",
       "      <td>0.00000</td>\n",
       "      <td>0.00084</td>\n",
       "      <td>0.00326</td>\n",
       "      <td>0.00000</td>\n",
       "      <td>0.02250</td>\n",
       "      <td>0.01376</td>\n",
       "      <td>0.03809</td>\n",
       "      <td>0.06749</td>\n",
       "      <td>0.11427</td>\n",
       "      <td>0.17416</td>\n",
       "      <td>...</td>\n",
       "      <td>3.552491e-19</td>\n",
       "      <td>0.000000e+00</td>\n",
       "      <td>5.516710e-20</td>\n",
       "      <td>0.000000e+00</td>\n",
       "      <td>0.000000e+00</td>\n",
       "      <td>0.000000e+00</td>\n",
       "      <td>0.000000e+00</td>\n",
       "      <td>1.359810e-19</td>\n",
       "      <td>3.818551e-19</td>\n",
       "      <td>0.000000e+00</td>\n",
       "    </tr>\n",
       "  </tbody>\n",
       "</table>\n",
       "<p>5 rows × 70 columns</p>\n",
       "</div>"
      ],
      "text/plain": [
       "   650_src  660_src  670_src  680_src  690_src  700_src  710_src  720_src  \\\n",
       "0  0.37950  0.42993  0.52076  0.57166  0.67818  0.75476  0.83580  0.93623   \n",
       "2  0.00000  0.03289  0.02416  0.03610  0.05843  0.09015  0.14944  0.18578   \n",
       "5  0.02976  0.03531  0.01180  0.03343  0.04524  0.03576  0.05347  0.02968   \n",
       "7  0.03749  0.03493  0.07953  0.09259  0.14327  0.21181  0.27927  0.35796   \n",
       "9  0.00000  0.00084  0.00326  0.00000  0.02250  0.01376  0.03809  0.06749   \n",
       "\n",
       "   730_src  740_src  ...       900_dst       910_dst       920_dst  \\\n",
       "0  0.96333  1.01541  ...  0.000000e+00  3.527371e-18  0.000000e+00   \n",
       "2  0.25584  0.30445  ...  4.629125e-18  1.409413e-18  3.237480e-18   \n",
       "5  0.04358  0.05270  ...  0.000000e+00  3.749523e-18  0.000000e+00   \n",
       "7  0.46093  0.53271  ...  4.488662e-19  9.023918e-19  1.273972e-17   \n",
       "9  0.11427  0.17416  ...  3.552491e-19  0.000000e+00  5.516710e-20   \n",
       "\n",
       "        930_dst       940_dst       950_dst       960_dst       970_dst  \\\n",
       "0  6.455564e-19  0.000000e+00  0.000000e+00  0.000000e+00  1.067504e-18   \n",
       "2  0.000000e+00  0.000000e+00  0.000000e+00  0.000000e+00  0.000000e+00   \n",
       "5  1.076966e-18  1.820508e-18  2.682566e-18  0.000000e+00  0.000000e+00   \n",
       "7  1.164347e-18  0.000000e+00  1.846159e-18  2.910492e-18  7.935297e-19   \n",
       "9  0.000000e+00  0.000000e+00  0.000000e+00  0.000000e+00  1.359810e-19   \n",
       "\n",
       "        980_dst       990_dst  \n",
       "0  5.998949e-18  4.378513e-17  \n",
       "2  1.329725e-18  0.000000e+00  \n",
       "5  8.175377e-18  7.686989e-17  \n",
       "7  0.000000e+00  0.000000e+00  \n",
       "9  3.818551e-19  0.000000e+00  \n",
       "\n",
       "[5 rows x 70 columns]"
      ]
     },
     "execution_count": 6,
     "metadata": {},
     "output_type": "execute_result"
    }
   ],
   "source": [
    "data_rho_25.iloc[:,1:-4].head()"
   ]
  },
  {
   "cell_type": "code",
   "execution_count": 7,
   "metadata": {},
   "outputs": [
    {
     "name": "stderr",
     "output_type": "stream",
     "text": [
      "C:\\Users\\lonj7\\Anaconda3\\lib\\site-packages\\pandas\\core\\indexing.py:966: SettingWithCopyWarning: \n",
      "A value is trying to be set on a copy of a slice from a DataFrame.\n",
      "Try using .loc[row_indexer,col_indexer] = value instead\n",
      "\n",
      "See the caveats in the documentation: https://pandas.pydata.org/pandas-docs/stable/user_guide/indexing.html#returning-a-view-versus-a-copy\n",
      "  self.obj[item] = s\n"
     ]
    }
   ],
   "source": [
    "data_rho_25.iloc[:,1:-4] = data_rho_25.iloc[:,1:-4] * (25**4)\n",
    "data_rho_20.iloc[:,1:-4] = data_rho_25.iloc[:,1:-4] * (20**4)\n",
    "data_rho_15.iloc[:,1:-4] = data_rho_25.iloc[:,1:-4] * (15**4)\n",
    "data_rho_10.iloc[:,1:-4] = data_rho_25.iloc[:,1:-4] * (10**4)"
   ]
  },
  {
   "cell_type": "markdown",
   "metadata": {},
   "source": [
    "### XG Boost Classifier"
   ]
  },
  {
   "cell_type": "code",
   "execution_count": 8,
   "metadata": {},
   "outputs": [],
   "source": [
    "import xgboost as xgb\n",
    "from xgboost import XGBClassifier\n",
    "from sklearn.metrics import mean_squared_error\n",
    "from sklearn.model_selection import train_test_split"
   ]
  },
  {
   "cell_type": "code",
   "execution_count": 9,
   "metadata": {},
   "outputs": [],
   "source": [
    "def XY(df):\n",
    "    X = df.iloc[:,:-4]\n",
    "    y_hhb = df.iloc[:,-4]\n",
    "    y_hhbo2 = df.iloc[:,-3]\n",
    "    y_ca = df.iloc[:,-2]\n",
    "    y_na = df.iloc[:,-1]\n",
    "    \n",
    "    return X, y_hhb, y_hhbo2, y_ca, y_na"
   ]
  },
  {
   "cell_type": "code",
   "execution_count": 10,
   "metadata": {},
   "outputs": [],
   "source": [
    "def XG_Boost(df, num):\n",
    "    X, y_hhb, y_hhbo2, y_ca, y_na = XY(df)\n",
    "    \n",
    "    # Split data\n",
    "    X1_train, X1_test, y1_train, y1_test = train_test_split(X, y_hhb, test_size=0.2, shuffle=1234)\n",
    "    X2_train, X2_test, y2_train, y2_test = train_test_split(X, y_hhbo2, test_size=0.2, shuffle=1234)\n",
    "    X3_train, X3_test, y3_train, y3_test = train_test_split(X, y_ca, test_size=0.2, shuffle=1234)\n",
    "    X4_train, X4_test, y4_train, y4_test = train_test_split(X, y_na, test_size=0.2, shuffle=1234)\n",
    "    \n",
    "    \n",
    "    xg_reg_hbb = xgb.XGBRegressor(colsample_bytree=0.4603, gamma=0.0468, \n",
    "                             learning_rate=0.05, max_depth=3, \n",
    "                             min_child_weight=1.7817, n_estimators=2200,\n",
    "                             reg_alpha=0.4640, reg_lambda=0.8571,\n",
    "                             subsample=0.5213, silent=1,\n",
    "                             random_state =7, nthread = -1)\n",
    "    xg_reg_hbo2 = xgb.XGBRegressor(colsample_bytree=0.4603, gamma=0.0468, \n",
    "                             learning_rate=0.05, max_depth=3, \n",
    "                             min_child_weight=1.7817, n_estimators=2200,\n",
    "                             reg_alpha=0.4640, reg_lambda=0.8571,\n",
    "                             subsample=0.5213, silent=1,\n",
    "                             random_state =7, nthread = -1)\n",
    "    xg_reg_ca = xgb.XGBRegressor(colsample_bytree=0.4603, gamma=0.0468, \n",
    "                             learning_rate=0.05, max_depth=3, \n",
    "                             min_child_weight=1.7817, n_estimators=2200,\n",
    "                             reg_alpha=0.4640, reg_lambda=0.8571,\n",
    "                             subsample=0.5213, silent=1,\n",
    "                             random_state =7, nthread = -1)\n",
    "    xg_reg_na = xgb.XGBRegressor(colsample_bytree=0.4603, gamma=0.0468, \n",
    "                             learning_rate=0.05, max_depth=3, \n",
    "                             min_child_weight=1.7817, n_estimators=2200,\n",
    "                             reg_alpha=0.4640, reg_lambda=0.8571,\n",
    "                             subsample=0.5213, silent=1,\n",
    "                             random_state =7, nthread = -1)\n",
    "    \n",
    "    \n",
    "    xg_reg_hbb.fit(X1_train,y1_train)\n",
    "    preds_hbb = xg_reg_hbb.predict(X1_test)\n",
    "\n",
    "    xg_reg_hbo2.fit(X2_train,y2_train)\n",
    "    preds_hbo2 = xg_reg_hbo2.predict(X2_test)\n",
    "\n",
    "    xg_reg_ca.fit(X3_train,y3_train)\n",
    "    preds_ca = xg_reg_ca.predict(X3_test)\n",
    "\n",
    "    xg_reg_na.fit(X4_train,y4_train)\n",
    "    preds_na = xg_reg_na.predict(X4_test)\n",
    "    \n",
    "    \n",
    "    rmse_hbb = np.sqrt(mean_squared_error(y1_test, preds_hbb))\n",
    "    rmse_hbo2 = np.sqrt(mean_squared_error(y2_test, preds_hbo2))\n",
    "    rmse_ca = np.sqrt(mean_squared_error(y3_test, preds_ca))\n",
    "    rmse_na = np.sqrt(mean_squared_error(y4_test, preds_na))\n",
    "\n",
    "    print(num, \" mm\")\n",
    "    print(\"RMSE - hbb  : %f\" % (rmse_hbb))\n",
    "    print(\"RMSE - hbo2 : %f\" % (rmse_hbo2))\n",
    "    print(\"RMSE - ca   : %f\" % (rmse_ca))\n",
    "    print(\"RMSE - na   : %f\" % (rmse_na))\n",
    "    \n",
    "    \n",
    "    return xg_reg_hbb, xg_reg_hbo2, xg_reg_ca, xg_reg_na"
   ]
  },
  {
   "cell_type": "code",
   "execution_count": 11,
   "metadata": {},
   "outputs": [
    {
     "name": "stdout",
     "output_type": "stream",
     "text": [
      "25  mm\n",
      "RMSE - hbb  : 1.440496\n",
      "RMSE - hbo2 : 0.809499\n",
      "RMSE - ca   : 2.734549\n",
      "RMSE - na   : 1.960708\n",
      "20  mm\n",
      "RMSE - hbb  : 2.951132\n",
      "RMSE - hbo2 : 0.995797\n",
      "RMSE - ca   : 2.968019\n",
      "RMSE - na   : 1.910564\n",
      "15  mm\n",
      "RMSE - hbb  : 3.110037\n",
      "RMSE - hbo2 : 1.066527\n",
      "RMSE - ca   : 2.972334\n",
      "RMSE - na   : 1.889767\n",
      "10  mm\n",
      "RMSE - hbb  : 3.007669\n",
      "RMSE - hbo2 : 0.993488\n",
      "RMSE - ca   : 2.921155\n",
      "RMSE - na   : 1.814702\n"
     ]
    }
   ],
   "source": [
    "# data_rho_25, data_rho_20, data_rho_15, data_rho_10\n",
    "\n",
    "hbb_25, hbo2_25, ca_25, na_25 = XG_Boost(data_rho_25, 25)\n",
    "\n",
    "hbb_20, hbo2_20, ca_20, na_20 = XG_Boost(data_rho_20, 20)\n",
    "\n",
    "hbb_15, hbo2_15, ca_15, na_15 = XG_Boost(data_rho_15, 15)\n",
    "\n",
    "hbb_10, hbo2_10, ca_10, na_10 = XG_Boost(data_rho_10, 10)"
   ]
  },
  {
   "cell_type": "code",
   "execution_count": 23,
   "metadata": {},
   "outputs": [],
   "source": [
    "test = pd.read_csv(\"../Data/Biometric Data Analysis/test.csv\").fillna(0)"
   ]
  },
  {
   "cell_type": "code",
   "execution_count": 24,
   "metadata": {},
   "outputs": [],
   "source": [
    "test_rho_25 = test[test['rho'] == 25]\n",
    "test_rho_20 = test[test['rho'] == 20]\n",
    "test_rho_15 = test[test['rho'] == 15]\n",
    "test_rho_10 = test[test['rho'] == 10]"
   ]
  },
  {
   "cell_type": "code",
   "execution_count": 25,
   "metadata": {},
   "outputs": [],
   "source": [
    "test_rho_25.to_csv(\"data/test_rho_25.csv\")\n",
    "test_rho_20.to_csv(\"data/test_rho_20.csv\")\n",
    "test_rho_15.to_csv(\"data/test_rho_15.csv\")\n",
    "test_rho_10.to_csv(\"data/test_rho_10.csv\")"
   ]
  },
  {
   "cell_type": "code",
   "execution_count": 26,
   "metadata": {},
   "outputs": [],
   "source": [
    "def prediction(hbb, hbo2, ca, na, df):\n",
    "    \n",
    "    test = df.iloc[:, 1:]\n",
    "    \n",
    "    preds_hbb = hbb.predict(test)\n",
    "    preds_hbo2 = hbo2.predict(test)\n",
    "    preds_ca = ca.predict(test)\n",
    "    preds_na = na.predict(test)\n",
    "    \n",
    "    df_1 = df.copy()\n",
    "    \n",
    "    df_1['hbb'] = preds_hbb\n",
    "    df_1['hbo2'] = preds_hbo2\n",
    "    df_1['ca'] = preds_ca\n",
    "    df_1['na'] = preds_na\n",
    "    \n",
    "    return df_1"
   ]
  },
  {
   "cell_type": "code",
   "execution_count": 27,
   "metadata": {},
   "outputs": [],
   "source": [
    "# test_rho_25 - hbb_25, hbo2_25, ca_25, na_25\n",
    "# test_rho_20 - hbb_20, hbo2_20, ca_20, na_20\n",
    "# test_rho_15 - hbb_15, hbo2_15, ca_15, na_15\n",
    "# test_rho_10 - hbb_10, hbo2_10, ca_10, na_10\n",
    "\n",
    "rho_25 = prediction(hbb_25, hbo2_25, ca_25, na_25, test_rho_25)\n",
    "rho_20 = prediction(hbb_20, hbo2_20, ca_20, na_20, test_rho_20)\n",
    "rho_15 = prediction(hbb_15, hbo2_15, ca_15, na_15, test_rho_15)\n",
    "rho_10 = prediction(hbb_10, hbo2_10, ca_10, na_10, test_rho_10)"
   ]
  },
  {
   "cell_type": "code",
   "execution_count": 28,
   "metadata": {},
   "outputs": [],
   "source": [
    "temp = pd.concat([rho_25, rho_20, rho_15, rho_10]).sort_values('id')\n",
    "id = temp.id\n",
    "temp = temp.iloc[:, -4:]"
   ]
  },
  {
   "cell_type": "code",
   "execution_count": 29,
   "metadata": {},
   "outputs": [],
   "source": [
    "submission = pd.concat([id, temp], axis=1)\n",
    "submission.to_csv(\"submission/07.csv\")"
   ]
  },
  {
   "cell_type": "code",
   "execution_count": 72,
   "metadata": {
    "scrolled": true
   },
   "outputs": [
    {
     "data": {
      "text/plain": [
       "10000"
      ]
     },
     "execution_count": 72,
     "metadata": {},
     "output_type": "execute_result"
    }
   ],
   "source": []
  }
 ],
 "metadata": {
  "kernelspec": {
   "display_name": "Python 3",
   "language": "python",
   "name": "python3"
  },
  "language_info": {
   "codemirror_mode": {
    "name": "ipython",
    "version": 3
   },
   "file_extension": ".py",
   "mimetype": "text/x-python",
   "name": "python",
   "nbconvert_exporter": "python",
   "pygments_lexer": "ipython3",
   "version": "3.7.7"
  }
 },
 "nbformat": 4,
 "nbformat_minor": 4
}
