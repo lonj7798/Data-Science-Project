{
 "cells": [
  {
   "cell_type": "code",
   "execution_count": 1,
   "metadata": {},
   "outputs": [],
   "source": [
    "import numpy as np\n",
    "import pandas as pd\n",
    "\n",
    "import matplotlib.pyplot as plt\n",
    "import seaborn as sns\n",
    "%matplotlib inline"
   ]
  },
  {
   "cell_type": "code",
   "execution_count": 2,
   "metadata": {},
   "outputs": [],
   "source": [
    "data = pd.read_csv(\"../Data/Biometric Data Analysis/train.csv\").fillna(0)"
   ]
  },
  {
   "cell_type": "code",
   "execution_count": 3,
   "metadata": {},
   "outputs": [],
   "source": [
    "data.drop(\"id\", axis=1, inplace=True)"
   ]
  },
  {
   "cell_type": "code",
   "execution_count": 9,
   "metadata": {},
   "outputs": [],
   "source": [
    "import xgboost as xgb\n",
    "from sklearn.metrics import mean_squared_error\n",
    "from sklearn.model_selection import train_test_split\n",
    "import lightgbm as lgb"
   ]
  },
  {
   "cell_type": "code",
   "execution_count": 5,
   "metadata": {},
   "outputs": [],
   "source": [
    "def XY(df):\n",
    "    X = df.iloc[:,:-4]\n",
    "    y_hhb = df.iloc[:,-4]\n",
    "    y_hhbo2 = df.iloc[:,-3]\n",
    "    y_ca = df.iloc[:,-2]\n",
    "    y_na = df.iloc[:,-1]\n",
    "    \n",
    "    return X, y_hhb, y_hhbo2, y_ca, y_na"
   ]
  },
  {
   "cell_type": "code",
   "execution_count": 22,
   "metadata": {},
   "outputs": [],
   "source": [
    "def XG_Boost(df, num):\n",
    "    X, y_hhb, y_hhbo2, y_ca, y_na = XY(df)\n",
    "    \n",
    "    # Split data\n",
    "    X1_train, X1_test, y1_train, y1_test = train_test_split(X, y_hhb, test_size=0.2, shuffle=1234)\n",
    "    X2_train, X2_test, y2_train, y2_test = train_test_split(X, y_hhbo2, test_size=0.2, shuffle=1234)\n",
    "    X3_train, X3_test, y3_train, y3_test = train_test_split(X, y_ca, test_size=0.2, shuffle=1234)\n",
    "    X4_train, X4_test, y4_train, y4_test = train_test_split(X, y_na, test_size=0.2, shuffle=1234)\n",
    "    \n",
    "    \n",
    "    xg_reg_hbb = lgb.LGBMRegressor(objective='regression',num_leaves=5,\n",
    "                              learning_rate=0.25, n_estimators=720,\n",
    "                              max_bin = 55, bagging_fraction = 0.8,\n",
    "                              bagging_freq = 5, feature_fraction = 0.2319,\n",
    "                              feature_fraction_seed=9, bagging_seed=9,\n",
    "                              min_data_in_leaf =6, min_sum_hessian_in_leaf = 11)\n",
    "    xg_reg_hbo2 = lgb.LGBMRegressor(objective='regression',num_leaves=5,\n",
    "                              learning_rate=0.25, n_estimators=720,\n",
    "                              max_bin = 55, bagging_fraction = 0.8,\n",
    "                              bagging_freq = 5, feature_fraction = 0.2319,\n",
    "                              feature_fraction_seed=9, bagging_seed=9,\n",
    "                              min_data_in_leaf =6, min_sum_hessian_in_leaf = 11)\n",
    "    xg_reg_ca = lgb.LGBMRegressor(objective='regression',num_leaves=5,\n",
    "                              learning_rate=0.25, n_estimators=720,\n",
    "                              max_bin = 55, bagging_fraction = 0.8,\n",
    "                              bagging_freq = 5, feature_fraction = 0.2319,\n",
    "                              feature_fraction_seed=9, bagging_seed=9,\n",
    "                              min_data_in_leaf =6, min_sum_hessian_in_leaf = 11)\n",
    "    xg_reg_na = lgb.LGBMRegressor(objective='regression',num_leaves=5,\n",
    "                              learning_rate=0.25, n_estimators=720,\n",
    "                              max_bin = 55, bagging_fraction = 0.8,\n",
    "                              bagging_freq = 5, feature_fraction = 0.2319,\n",
    "                              feature_fraction_seed=9, bagging_seed=9,\n",
    "                              min_data_in_leaf =6, min_sum_hessian_in_leaf = 11)\n",
    "    \n",
    "    \n",
    "    xg_reg_hbb.fit(X1_train,y1_train)\n",
    "    preds_hbb = xg_reg_hbb.predict(X1_test)\n",
    "\n",
    "    xg_reg_hbo2.fit(X2_train,y2_train)\n",
    "    preds_hbo2 = xg_reg_hbo2.predict(X2_test)\n",
    "\n",
    "    xg_reg_ca.fit(X3_train,y3_train)\n",
    "    preds_ca = xg_reg_ca.predict(X3_test)\n",
    "\n",
    "    xg_reg_na.fit(X4_train,y4_train)\n",
    "    preds_na = xg_reg_na.predict(X4_test)\n",
    "    \n",
    "    \n",
    "    rmse_hbb = np.sqrt(mean_squared_error(y1_test, preds_hbb))\n",
    "    rmse_hbo2 = np.sqrt(mean_squared_error(y2_test, preds_hbo2))\n",
    "    rmse_ca = np.sqrt(mean_squared_error(y3_test, preds_ca))\n",
    "    rmse_na = np.sqrt(mean_squared_error(y4_test, preds_na))\n",
    "    \n",
    "    print(num, \" mm\")\n",
    "    print(\"RMSE - hbb  : %f\" % (rmse_hbb))\n",
    "    print(\"RMSE - hbo2 : %f\" % (rmse_hbo2))\n",
    "    print(\"RMSE - ca   : %f\" % (rmse_ca))\n",
    "    print(\"RMSE - na   : %f\" % (rmse_na))\n",
    "    \n",
    "    \n",
    "    return xg_reg_hbb, xg_reg_hbo2, xg_reg_ca, xg_reg_na"
   ]
  },
  {
   "cell_type": "code",
   "execution_count": 23,
   "metadata": {},
   "outputs": [],
   "source": [
    "data_rho_25 = data[data['rho'] == 25]\n",
    "data_rho_20 = data[data['rho'] == 20]\n",
    "data_rho_15 = data[data['rho'] == 15]\n",
    "data_rho_10 = data[data['rho'] == 10]"
   ]
  },
  {
   "cell_type": "code",
   "execution_count": 24,
   "metadata": {},
   "outputs": [
    {
     "name": "stdout",
     "output_type": "stream",
     "text": [
      "25  mm\n",
      "RMSE - hbb  : 1.522521\n",
      "RMSE - hbo2 : 0.827881\n",
      "RMSE - ca   : 2.659499\n",
      "RMSE - na   : 2.057376\n",
      "20  mm\n",
      "RMSE - hbb  : 1.451135\n",
      "RMSE - hbo2 : 0.868971\n",
      "RMSE - ca   : 2.757602\n",
      "RMSE - na   : 1.946766\n",
      "15  mm\n",
      "RMSE - hbb  : 1.373006\n",
      "RMSE - hbo2 : 0.905878\n",
      "RMSE - ca   : 2.686455\n",
      "RMSE - na   : 1.607305\n",
      "10  mm\n",
      "RMSE - hbb  : 1.447223\n",
      "RMSE - hbo2 : 0.870487\n",
      "RMSE - ca   : 2.401027\n",
      "RMSE - na   : 1.479584\n"
     ]
    }
   ],
   "source": [
    "hbb_25, hbo2_25, ca_25, na_25 = XG_Boost(data_rho_25, 25)\n",
    "\n",
    "hbb_20, hbo2_20, ca_20, na_20 = XG_Boost(data_rho_20, 20)\n",
    "\n",
    "hbb_15, hbo2_15, ca_15, na_15 = XG_Boost(data_rho_15, 15)\n",
    "\n",
    "hbb_10, hbo2_10, ca_10, na_10 = XG_Boost(data_rho_10, 10)"
   ]
  },
  {
   "cell_type": "code",
   "execution_count": 17,
   "metadata": {},
   "outputs": [],
   "source": [
    "test = pd.read_csv(\"../Data/Biometric Data Analysis/test.csv\").fillna(0)"
   ]
  },
  {
   "cell_type": "code",
   "execution_count": 26,
   "metadata": {},
   "outputs": [],
   "source": [
    "def prediction(hbb, hbo2, ca, na, df):\n",
    "    \n",
    "    test = df.iloc[:, 1:]\n",
    "    \n",
    "    preds_hbb = hbb.predict(test)\n",
    "    preds_hbo2 = hbo2.predict(test)\n",
    "    preds_ca = ca.predict(test)\n",
    "    preds_na = na.predict(test)\n",
    "    \n",
    "    df_1 = df.copy()\n",
    "    \n",
    "    df_1['hhb'] = preds_hbb\n",
    "    df_1['hbo2'] = preds_hbo2\n",
    "    df_1['ca'] = preds_ca\n",
    "    df_1['na'] = preds_na\n",
    "    \n",
    "    return df_1"
   ]
  },
  {
   "cell_type": "code",
   "execution_count": 27,
   "metadata": {},
   "outputs": [],
   "source": [
    "pred = prediction(hbb, hbo2, ca, na, test).sort_values('id')"
   ]
  },
  {
   "cell_type": "code",
   "execution_count": 31,
   "metadata": {},
   "outputs": [],
   "source": [
    "pred.iloc[:, -4:].to_csv(\"submission/02.csv\")"
   ]
  },
  {
   "cell_type": "code",
   "execution_count": null,
   "metadata": {},
   "outputs": [],
   "source": []
  }
 ],
 "metadata": {
  "kernelspec": {
   "display_name": "Python 3",
   "language": "python",
   "name": "python3"
  },
  "language_info": {
   "codemirror_mode": {
    "name": "ipython",
    "version": 3
   },
   "file_extension": ".py",
   "mimetype": "text/x-python",
   "name": "python",
   "nbconvert_exporter": "python",
   "pygments_lexer": "ipython3",
   "version": "3.7.7"
  }
 },
 "nbformat": 4,
 "nbformat_minor": 4
}
