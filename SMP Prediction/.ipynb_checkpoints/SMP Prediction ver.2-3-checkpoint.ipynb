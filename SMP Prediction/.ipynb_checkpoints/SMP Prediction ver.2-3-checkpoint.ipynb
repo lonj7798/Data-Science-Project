{
 "cells": [
  {
   "cell_type": "code",
   "execution_count": 127,
   "metadata": {},
   "outputs": [],
   "source": [
    "import numpy as np\n",
    "import pandas as pd\n",
    "\n",
    "import matplotlib as mlt\n",
    "import matplotlib.pyplot as plt\n",
    "import seaborn as sns\n",
    "%matplotlib inline\n",
    "\n",
    "import datetime"
   ]
  },
  {
   "cell_type": "code",
   "execution_count": 128,
   "metadata": {},
   "outputs": [],
   "source": [
    "data = pd.read_csv(\"smp_min.csv\")"
   ]
  },
  {
   "cell_type": "code",
   "execution_count": 129,
   "metadata": {},
   "outputs": [],
   "source": [
    "target = data.iloc[:, -1]\n",
    "data = data.iloc[:, :-1]"
   ]
  },
  {
   "cell_type": "code",
   "execution_count": 130,
   "metadata": {},
   "outputs": [
    {
     "data": {
      "text/html": [
       "<div>\n",
       "<style scoped>\n",
       "    .dataframe tbody tr th:only-of-type {\n",
       "        vertical-align: middle;\n",
       "    }\n",
       "\n",
       "    .dataframe tbody tr th {\n",
       "        vertical-align: top;\n",
       "    }\n",
       "\n",
       "    .dataframe thead th {\n",
       "        text-align: right;\n",
       "    }\n",
       "</style>\n",
       "<table border=\"1\" class=\"dataframe\">\n",
       "  <thead>\n",
       "    <tr style=\"text-align: right;\">\n",
       "      <th></th>\n",
       "      <th>Unnamed: 0</th>\n",
       "      <th>temp_max</th>\n",
       "      <th>temp_mean</th>\n",
       "      <th>temp_min</th>\n",
       "      <th>rain</th>\n",
       "      <th>is_rain</th>\n",
       "      <th>ws_max</th>\n",
       "      <th>ws_mean</th>\n",
       "      <th>ws_min</th>\n",
       "      <th>humid_max</th>\n",
       "      <th>...</th>\n",
       "      <th>vis_max</th>\n",
       "      <th>vis_mean</th>\n",
       "      <th>vis_min</th>\n",
       "      <th>month</th>\n",
       "      <th>weekday</th>\n",
       "      <th>LNG</th>\n",
       "      <th>Oil</th>\n",
       "      <th>Coal</th>\n",
       "      <th>KOSPI</th>\n",
       "      <th>KOSDAQ</th>\n",
       "    </tr>\n",
       "  </thead>\n",
       "  <tbody>\n",
       "    <tr>\n",
       "      <th>0</th>\n",
       "      <td>2018-02-01</td>\n",
       "      <td>8.7</td>\n",
       "      <td>1.27</td>\n",
       "      <td>-11.3</td>\n",
       "      <td>2.5</td>\n",
       "      <td>1</td>\n",
       "      <td>12.7</td>\n",
       "      <td>3.52</td>\n",
       "      <td>0.0</td>\n",
       "      <td>99.9</td>\n",
       "      <td>...</td>\n",
       "      <td>2000.0</td>\n",
       "      <td>1552.10</td>\n",
       "      <td>500.0</td>\n",
       "      <td>2.0</td>\n",
       "      <td>3.0</td>\n",
       "      <td>57.86</td>\n",
       "      <td>65.80</td>\n",
       "      <td>1.07</td>\n",
       "      <td>2568.54</td>\n",
       "      <td>908.20</td>\n",
       "    </tr>\n",
       "    <tr>\n",
       "      <th>1</th>\n",
       "      <td>2018-02-02</td>\n",
       "      <td>9.2</td>\n",
       "      <td>0.42</td>\n",
       "      <td>-12.3</td>\n",
       "      <td>0.0</td>\n",
       "      <td>0</td>\n",
       "      <td>13.6</td>\n",
       "      <td>3.85</td>\n",
       "      <td>0.0</td>\n",
       "      <td>99.8</td>\n",
       "      <td>...</td>\n",
       "      <td>2000.0</td>\n",
       "      <td>1988.76</td>\n",
       "      <td>1133.0</td>\n",
       "      <td>2.0</td>\n",
       "      <td>4.0</td>\n",
       "      <td>56.01</td>\n",
       "      <td>65.45</td>\n",
       "      <td>1.02</td>\n",
       "      <td>2525.39</td>\n",
       "      <td>899.47</td>\n",
       "    </tr>\n",
       "    <tr>\n",
       "      <th>2</th>\n",
       "      <td>2018-02-03</td>\n",
       "      <td>5.9</td>\n",
       "      <td>-1.79</td>\n",
       "      <td>-13.9</td>\n",
       "      <td>229.7</td>\n",
       "      <td>1</td>\n",
       "      <td>19.8</td>\n",
       "      <td>5.60</td>\n",
       "      <td>0.0</td>\n",
       "      <td>99.9</td>\n",
       "      <td>...</td>\n",
       "      <td>2000.0</td>\n",
       "      <td>1427.20</td>\n",
       "      <td>157.0</td>\n",
       "      <td>2.0</td>\n",
       "      <td>5.0</td>\n",
       "      <td>54.99</td>\n",
       "      <td>64.15</td>\n",
       "      <td>1.02</td>\n",
       "      <td>2491.75</td>\n",
       "      <td>858.22</td>\n",
       "    </tr>\n",
       "    <tr>\n",
       "      <th>3</th>\n",
       "      <td>2018-02-04</td>\n",
       "      <td>2.7</td>\n",
       "      <td>-3.87</td>\n",
       "      <td>-15.3</td>\n",
       "      <td>220.6</td>\n",
       "      <td>1</td>\n",
       "      <td>20.2</td>\n",
       "      <td>5.98</td>\n",
       "      <td>0.7</td>\n",
       "      <td>99.9</td>\n",
       "      <td>...</td>\n",
       "      <td>2000.0</td>\n",
       "      <td>1330.41</td>\n",
       "      <td>18.0</td>\n",
       "      <td>2.0</td>\n",
       "      <td>6.0</td>\n",
       "      <td>54.99</td>\n",
       "      <td>64.15</td>\n",
       "      <td>1.02</td>\n",
       "      <td>2491.75</td>\n",
       "      <td>858.22</td>\n",
       "    </tr>\n",
       "    <tr>\n",
       "      <th>4</th>\n",
       "      <td>2018-02-05</td>\n",
       "      <td>4.2</td>\n",
       "      <td>-2.73</td>\n",
       "      <td>-14.4</td>\n",
       "      <td>192.8</td>\n",
       "      <td>1</td>\n",
       "      <td>17.6</td>\n",
       "      <td>5.13</td>\n",
       "      <td>0.1</td>\n",
       "      <td>99.9</td>\n",
       "      <td>...</td>\n",
       "      <td>2000.0</td>\n",
       "      <td>1355.82</td>\n",
       "      <td>19.0</td>\n",
       "      <td>2.0</td>\n",
       "      <td>0.0</td>\n",
       "      <td>54.99</td>\n",
       "      <td>64.15</td>\n",
       "      <td>1.05</td>\n",
       "      <td>2491.75</td>\n",
       "      <td>858.22</td>\n",
       "    </tr>\n",
       "  </tbody>\n",
       "</table>\n",
       "<p>5 rows × 32 columns</p>\n",
       "</div>"
      ],
      "text/plain": [
       "   Unnamed: 0  temp_max  temp_mean  temp_min   rain  is_rain  ws_max  ws_mean  \\\n",
       "0  2018-02-01       8.7       1.27     -11.3    2.5        1    12.7     3.52   \n",
       "1  2018-02-02       9.2       0.42     -12.3    0.0        0    13.6     3.85   \n",
       "2  2018-02-03       5.9      -1.79     -13.9  229.7        1    19.8     5.60   \n",
       "3  2018-02-04       2.7      -3.87     -15.3  220.6        1    20.2     5.98   \n",
       "4  2018-02-05       4.2      -2.73     -14.4  192.8        1    17.6     5.13   \n",
       "\n",
       "   ws_min  humid_max  ...  vis_max  vis_mean  vis_min  month  weekday    LNG  \\\n",
       "0     0.0       99.9  ...   2000.0   1552.10    500.0    2.0      3.0  57.86   \n",
       "1     0.0       99.8  ...   2000.0   1988.76   1133.0    2.0      4.0  56.01   \n",
       "2     0.0       99.9  ...   2000.0   1427.20    157.0    2.0      5.0  54.99   \n",
       "3     0.7       99.9  ...   2000.0   1330.41     18.0    2.0      6.0  54.99   \n",
       "4     0.1       99.9  ...   2000.0   1355.82     19.0    2.0      0.0  54.99   \n",
       "\n",
       "     Oil  Coal    KOSPI  KOSDAQ  \n",
       "0  65.80  1.07  2568.54  908.20  \n",
       "1  65.45  1.02  2525.39  899.47  \n",
       "2  64.15  1.02  2491.75  858.22  \n",
       "3  64.15  1.02  2491.75  858.22  \n",
       "4  64.15  1.05  2491.75  858.22  \n",
       "\n",
       "[5 rows x 32 columns]"
      ]
     },
     "execution_count": 130,
     "metadata": {},
     "output_type": "execute_result"
    }
   ],
   "source": [
    "data.head()"
   ]
  },
  {
   "cell_type": "code",
   "execution_count": 131,
   "metadata": {},
   "outputs": [],
   "source": [
    "data['Unnamed: 0'] = pd.to_datetime(data['Unnamed: 0'])\n",
    "data = data.rename(columns={'Unnamed: 0': 'date'})"
   ]
  },
  {
   "cell_type": "code",
   "execution_count": 132,
   "metadata": {},
   "outputs": [],
   "source": [
    "data['week'] = data['date'].dt.dayofweek\n",
    "data['month'] = data['date'].dt.month\n",
    "data['day'] = data['date'].dt.day"
   ]
  },
  {
   "cell_type": "code",
   "execution_count": 133,
   "metadata": {},
   "outputs": [],
   "source": [
    "data = pd.concat([data, target], axis=1)"
   ]
  },
  {
   "cell_type": "code",
   "execution_count": 134,
   "metadata": {},
   "outputs": [],
   "source": [
    "data.index = data.date\n",
    "data = data.drop('date', axis = 1)"
   ]
  },
  {
   "cell_type": "code",
   "execution_count": 141,
   "metadata": {
    "scrolled": true
   },
   "outputs": [
    {
     "name": "stdout",
     "output_type": "stream",
     "text": [
      "<class 'pandas.core.frame.DataFrame'>\n",
      "DatetimeIndex: 730 entries, 2018-02-01 to 2020-01-31\n",
      "Data columns (total 34 columns):\n",
      " #   Column       Non-Null Count  Dtype  \n",
      "---  ------       --------------  -----  \n",
      " 0   temp_max     730 non-null    float64\n",
      " 1   temp_mean    730 non-null    float64\n",
      " 2   temp_min     730 non-null    float64\n",
      " 3   rain         730 non-null    float64\n",
      " 4   is_rain      730 non-null    int64  \n",
      " 5   ws_max       730 non-null    float64\n",
      " 6   ws_mean      730 non-null    float64\n",
      " 7   ws_min       730 non-null    float64\n",
      " 8   humid_max    730 non-null    float64\n",
      " 9   humid_mean   730 non-null    float64\n",
      " 10  humid_min    730 non-null    float64\n",
      " 11  vaporP_mean  730 non-null    float64\n",
      " 12  dew_min      730 non-null    float64\n",
      " 13  landP_max    730 non-null    float64\n",
      " 14  landP_mean   730 non-null    float64\n",
      " 15  landP_min    730 non-null    float64\n",
      " 16  suntime      730 non-null    float64\n",
      " 17  rad_mean     730 non-null    float64\n",
      " 18  snow         730 non-null    float64\n",
      " 19  is_snow      730 non-null    int64  \n",
      " 20  cloud        730 non-null    float64\n",
      " 21  vis_max      730 non-null    float64\n",
      " 22  vis_mean     730 non-null    float64\n",
      " 23  vis_min      730 non-null    float64\n",
      " 24  month        730 non-null    int64  \n",
      " 25  weekday      730 non-null    float64\n",
      " 26  LNG          730 non-null    float64\n",
      " 27  Oil          730 non-null    float64\n",
      " 28  Coal         729 non-null    float64\n",
      " 29  KOSPI        730 non-null    float64\n",
      " 30  KOSDAQ       730 non-null    float64\n",
      " 31  week         730 non-null    int64  \n",
      " 32  day          730 non-null    int64  \n",
      " 33  smp_min      730 non-null    float64\n",
      "dtypes: float64(29), int64(5)\n",
      "memory usage: 219.6 KB\n"
     ]
    }
   ],
   "source": [
    "data.info()"
   ]
  },
  {
   "cell_type": "code",
   "execution_count": 145,
   "metadata": {},
   "outputs": [],
   "source": [
    "data.iloc[-1, 28] = data.iloc[-2, 28]"
   ]
  },
  {
   "cell_type": "code",
   "execution_count": 171,
   "metadata": {},
   "outputs": [],
   "source": [
    "data = data * 1000"
   ]
  },
  {
   "cell_type": "code",
   "execution_count": 172,
   "metadata": {},
   "outputs": [],
   "source": [
    "data = data.astype(int)"
   ]
  },
  {
   "cell_type": "markdown",
   "metadata": {},
   "source": [
    "## XG-Boost: Feature Selection\n",
    "\n",
    "https://www.kaggle.com/ashishpatel26/predict-sales-price-using-xgboost?select=Submission_Predict+Sales.csv"
   ]
  },
  {
   "cell_type": "code",
   "execution_count": 174,
   "metadata": {},
   "outputs": [],
   "source": [
    "# supply\n",
    "X, y = data.iloc[:,:-1], data.iloc[:,-1]"
   ]
  },
  {
   "cell_type": "code",
   "execution_count": 175,
   "metadata": {},
   "outputs": [],
   "source": [
    "from sklearn.model_selection import train_test_split\n",
    "\n",
    "X_train, X_test, y_train, y_test = train_test_split(X, y, test_size=0.2, shuffle=False)"
   ]
  },
  {
   "cell_type": "code",
   "execution_count": 176,
   "metadata": {},
   "outputs": [
    {
     "data": {
      "text/plain": [
       "NearestCentroid(metric='euclidean', shrink_threshold=None)"
      ]
     },
     "execution_count": 176,
     "metadata": {},
     "output_type": "execute_result"
    }
   ],
   "source": [
    "from sklearn.neighbors import NearestCentroid\n",
    "clf = NearestCentroid()\n",
    "\n",
    "clf.fit(X_train, y_train)"
   ]
  },
  {
   "cell_type": "code",
   "execution_count": 178,
   "metadata": {},
   "outputs": [
    {
     "name": "stdout",
     "output_type": "stream",
     "text": [
      "RMSE supply: nan\n"
     ]
    },
    {
     "name": "stderr",
     "output_type": "stream",
     "text": [
      "C:\\Users\\lonj7\\Anaconda3\\lib\\site-packages\\ipykernel_launcher.py:5: RuntimeWarning: invalid value encountered in sqrt\n",
      "  \"\"\"\n"
     ]
    }
   ],
   "source": [
    "from sklearn.metrics import mean_squared_error\n",
    "\n",
    "preds = clf.predict(X_test)\n",
    "\n",
    "rmse = np.sqrt(mean_squared_error(y_test, preds))\n",
    "print(\"RMSE supply: %f\" % (rmse))"
   ]
  },
  {
   "cell_type": "code",
   "execution_count": 18,
   "metadata": {},
   "outputs": [],
   "source": [
    "index = pd.date_range(y_test.index[0], y_test.index[-1])\n",
    "columns = []\n",
    "\n",
    "smp_supply_pred = pd.DataFrame(index=index, columns=columns)\n",
    "smp_supply_pred['supply_pred'] = preds\n",
    "smp_supply_pred['supply_test'] = y_test"
   ]
  },
  {
   "cell_type": "code",
   "execution_count": 19,
   "metadata": {
    "scrolled": false
   },
   "outputs": [
    {
     "data": {
      "text/plain": [
       "<matplotlib.axes._subplots.AxesSubplot at 0x24e13022988>"
      ]
     },
     "execution_count": 19,
     "metadata": {},
     "output_type": "execute_result"
    },
    {
     "data": {
      "image/png": "[encoded data removed]",
      "text/plain": [
       "<Figure size 1440x720 with 1 Axes>"
      ]
     },
     "metadata": {
      "needs_background": "light"
     },
     "output_type": "display_data"
    }
   ],
   "source": [
    "smp_supply_pred.plot(figsize=(20,10))"
   ]
  },
  {
   "cell_type": "code",
   "execution_count": 20,
   "metadata": {
    "scrolled": false
   },
   "outputs": [
    {
     "data": {
      "image/png": "[encoded data removed]",
      "text/plain": [
       "<Figure size 432x288 with 1 Axes>"
      ]
     },
     "metadata": {
      "needs_background": "light"
     },
     "output_type": "display_data"
    }
   ],
   "source": [
    "xgb.plot_importance(xg_reg)\n",
    "plt.rcParams['figure.figsize'] = [50,10]\n",
    "plt.show()"
   ]
  },
  {
   "cell_type": "markdown",
   "metadata": {},
   "source": [
    "---------------------------"
   ]
  },
  {
   "cell_type": "code",
   "execution_count": 21,
   "metadata": {},
   "outputs": [],
   "source": [
    "# 과거의 feature 사용."
   ]
  },
  {
   "cell_type": "code",
   "execution_count": 22,
   "metadata": {},
   "outputs": [
    {
     "data": {
      "text/html": [
       "<div>\n",
       "<style scoped>\n",
       "    .dataframe tbody tr th:only-of-type {\n",
       "        vertical-align: middle;\n",
       "    }\n",
       "\n",
       "    .dataframe tbody tr th {\n",
       "        vertical-align: top;\n",
       "    }\n",
       "\n",
       "    .dataframe thead th {\n",
       "        text-align: right;\n",
       "    }\n",
       "</style>\n",
       "<table border=\"1\" class=\"dataframe\">\n",
       "  <thead>\n",
       "    <tr style=\"text-align: right;\">\n",
       "      <th></th>\n",
       "      <th>temp_max</th>\n",
       "      <th>temp_mean</th>\n",
       "      <th>temp_min</th>\n",
       "      <th>rain</th>\n",
       "      <th>is_rain</th>\n",
       "      <th>ws_max</th>\n",
       "      <th>ws_mean</th>\n",
       "      <th>ws_min</th>\n",
       "      <th>humid_max</th>\n",
       "      <th>humid_mean</th>\n",
       "      <th>...</th>\n",
       "      <th>vis_min</th>\n",
       "      <th>month</th>\n",
       "      <th>weekday</th>\n",
       "      <th>LNG</th>\n",
       "      <th>Oil</th>\n",
       "      <th>Coal</th>\n",
       "      <th>KOSPI</th>\n",
       "      <th>week</th>\n",
       "      <th>day</th>\n",
       "      <th>KOSDAQ</th>\n",
       "    </tr>\n",
       "    <tr>\n",
       "      <th>date</th>\n",
       "      <th></th>\n",
       "      <th></th>\n",
       "      <th></th>\n",
       "      <th></th>\n",
       "      <th></th>\n",
       "      <th></th>\n",
       "      <th></th>\n",
       "      <th></th>\n",
       "      <th></th>\n",
       "      <th></th>\n",
       "      <th></th>\n",
       "      <th></th>\n",
       "      <th></th>\n",
       "      <th></th>\n",
       "      <th></th>\n",
       "      <th></th>\n",
       "      <th></th>\n",
       "      <th></th>\n",
       "      <th></th>\n",
       "      <th></th>\n",
       "      <th></th>\n",
       "    </tr>\n",
       "  </thead>\n",
       "  <tbody>\n",
       "    <tr>\n",
       "      <th>2018-02-01</th>\n",
       "      <td>8.7</td>\n",
       "      <td>1.27</td>\n",
       "      <td>-11.3</td>\n",
       "      <td>2.5</td>\n",
       "      <td>1</td>\n",
       "      <td>12.7</td>\n",
       "      <td>3.52</td>\n",
       "      <td>0.0</td>\n",
       "      <td>99.9</td>\n",
       "      <td>67.42</td>\n",
       "      <td>...</td>\n",
       "      <td>500.0</td>\n",
       "      <td>2</td>\n",
       "      <td>3.0</td>\n",
       "      <td>57.86</td>\n",
       "      <td>65.80</td>\n",
       "      <td>1.07</td>\n",
       "      <td>2568.54</td>\n",
       "      <td>3</td>\n",
       "      <td>1</td>\n",
       "      <td>908.20</td>\n",
       "    </tr>\n",
       "    <tr>\n",
       "      <th>2018-02-02</th>\n",
       "      <td>9.2</td>\n",
       "      <td>0.42</td>\n",
       "      <td>-12.3</td>\n",
       "      <td>0.0</td>\n",
       "      <td>0</td>\n",
       "      <td>13.6</td>\n",
       "      <td>3.85</td>\n",
       "      <td>0.0</td>\n",
       "      <td>99.8</td>\n",
       "      <td>57.46</td>\n",
       "      <td>...</td>\n",
       "      <td>1133.0</td>\n",
       "      <td>2</td>\n",
       "      <td>4.0</td>\n",
       "      <td>56.01</td>\n",
       "      <td>65.45</td>\n",
       "      <td>1.02</td>\n",
       "      <td>2525.39</td>\n",
       "      <td>4</td>\n",
       "      <td>2</td>\n",
       "      <td>899.47</td>\n",
       "    </tr>\n",
       "    <tr>\n",
       "      <th>2018-02-03</th>\n",
       "      <td>5.9</td>\n",
       "      <td>-1.79</td>\n",
       "      <td>-13.9</td>\n",
       "      <td>229.7</td>\n",
       "      <td>1</td>\n",
       "      <td>19.8</td>\n",
       "      <td>5.60</td>\n",
       "      <td>0.0</td>\n",
       "      <td>99.9</td>\n",
       "      <td>76.50</td>\n",
       "      <td>...</td>\n",
       "      <td>157.0</td>\n",
       "      <td>2</td>\n",
       "      <td>5.0</td>\n",
       "      <td>54.99</td>\n",
       "      <td>64.15</td>\n",
       "      <td>1.02</td>\n",
       "      <td>2491.75</td>\n",
       "      <td>5</td>\n",
       "      <td>3</td>\n",
       "      <td>858.22</td>\n",
       "    </tr>\n",
       "    <tr>\n",
       "      <th>2018-02-04</th>\n",
       "      <td>2.7</td>\n",
       "      <td>-3.87</td>\n",
       "      <td>-15.3</td>\n",
       "      <td>220.6</td>\n",
       "      <td>1</td>\n",
       "      <td>20.2</td>\n",
       "      <td>5.98</td>\n",
       "      <td>0.7</td>\n",
       "      <td>99.9</td>\n",
       "      <td>79.00</td>\n",
       "      <td>...</td>\n",
       "      <td>18.0</td>\n",
       "      <td>2</td>\n",
       "      <td>6.0</td>\n",
       "      <td>54.99</td>\n",
       "      <td>64.15</td>\n",
       "      <td>1.02</td>\n",
       "      <td>2491.75</td>\n",
       "      <td>6</td>\n",
       "      <td>4</td>\n",
       "      <td>858.22</td>\n",
       "    </tr>\n",
       "    <tr>\n",
       "      <th>2018-02-05</th>\n",
       "      <td>4.2</td>\n",
       "      <td>-2.73</td>\n",
       "      <td>-14.4</td>\n",
       "      <td>192.8</td>\n",
       "      <td>1</td>\n",
       "      <td>17.6</td>\n",
       "      <td>5.13</td>\n",
       "      <td>0.1</td>\n",
       "      <td>99.9</td>\n",
       "      <td>77.28</td>\n",
       "      <td>...</td>\n",
       "      <td>19.0</td>\n",
       "      <td>2</td>\n",
       "      <td>0.0</td>\n",
       "      <td>54.99</td>\n",
       "      <td>64.15</td>\n",
       "      <td>1.05</td>\n",
       "      <td>2491.75</td>\n",
       "      <td>0</td>\n",
       "      <td>5</td>\n",
       "      <td>858.22</td>\n",
       "    </tr>\n",
       "  </tbody>\n",
       "</table>\n",
       "<p>5 rows × 33 columns</p>\n",
       "</div>"
      ],
      "text/plain": [
       "            temp_max  temp_mean  temp_min   rain  is_rain  ws_max  ws_mean  \\\n",
       "date                                                                         \n",
       "2018-02-01       8.7       1.27     -11.3    2.5        1    12.7     3.52   \n",
       "2018-02-02       9.2       0.42     -12.3    0.0        0    13.6     3.85   \n",
       "2018-02-03       5.9      -1.79     -13.9  229.7        1    19.8     5.60   \n",
       "2018-02-04       2.7      -3.87     -15.3  220.6        1    20.2     5.98   \n",
       "2018-02-05       4.2      -2.73     -14.4  192.8        1    17.6     5.13   \n",
       "\n",
       "            ws_min  humid_max  humid_mean  ...  vis_min  month  weekday  \\\n",
       "date                                       ...                            \n",
       "2018-02-01     0.0       99.9       67.42  ...    500.0      2      3.0   \n",
       "2018-02-02     0.0       99.8       57.46  ...   1133.0      2      4.0   \n",
       "2018-02-03     0.0       99.9       76.50  ...    157.0      2      5.0   \n",
       "2018-02-04     0.7       99.9       79.00  ...     18.0      2      6.0   \n",
       "2018-02-05     0.1       99.9       77.28  ...     19.0      2      0.0   \n",
       "\n",
       "              LNG    Oil  Coal    KOSPI  week  day  KOSDAQ  \n",
       "date                                                        \n",
       "2018-02-01  57.86  65.80  1.07  2568.54     3    1  908.20  \n",
       "2018-02-02  56.01  65.45  1.02  2525.39     4    2  899.47  \n",
       "2018-02-03  54.99  64.15  1.02  2491.75     5    3  858.22  \n",
       "2018-02-04  54.99  64.15  1.02  2491.75     6    4  858.22  \n",
       "2018-02-05  54.99  64.15  1.05  2491.75     0    5  858.22  \n",
       "\n",
       "[5 rows x 33 columns]"
      ]
     },
     "execution_count": 22,
     "metadata": {},
     "output_type": "execute_result"
    }
   ],
   "source": [
    "data.head()"
   ]
  },
  {
   "cell_type": "code",
   "execution_count": 23,
   "metadata": {},
   "outputs": [],
   "source": [
    "data_re = data.copy()\n",
    "data_re.index = pd.date_range('2018-03-07', '2020-03-05')"
   ]
  },
  {
   "cell_type": "code",
   "execution_count": 24,
   "metadata": {},
   "outputs": [
    {
     "data": {
      "text/html": [
       "<div>\n",
       "<style scoped>\n",
       "    .dataframe tbody tr th:only-of-type {\n",
       "        vertical-align: middle;\n",
       "    }\n",
       "\n",
       "    .dataframe tbody tr th {\n",
       "        vertical-align: top;\n",
       "    }\n",
       "\n",
       "    .dataframe thead th {\n",
       "        text-align: right;\n",
       "    }\n",
       "</style>\n",
       "<table border=\"1\" class=\"dataframe\">\n",
       "  <thead>\n",
       "    <tr style=\"text-align: right;\">\n",
       "      <th></th>\n",
       "      <th>temp_max</th>\n",
       "      <th>temp_mean</th>\n",
       "      <th>temp_min</th>\n",
       "      <th>rain</th>\n",
       "      <th>is_rain</th>\n",
       "      <th>ws_max</th>\n",
       "      <th>ws_mean</th>\n",
       "      <th>ws_min</th>\n",
       "      <th>humid_max</th>\n",
       "      <th>humid_mean</th>\n",
       "      <th>...</th>\n",
       "      <th>vis_min</th>\n",
       "      <th>month</th>\n",
       "      <th>weekday</th>\n",
       "      <th>LNG</th>\n",
       "      <th>Oil</th>\n",
       "      <th>Coal</th>\n",
       "      <th>KOSPI</th>\n",
       "      <th>week</th>\n",
       "      <th>day</th>\n",
       "      <th>KOSDAQ</th>\n",
       "    </tr>\n",
       "  </thead>\n",
       "  <tbody>\n",
       "    <tr>\n",
       "      <th>2020-03-01</th>\n",
       "      <td>12.8</td>\n",
       "      <td>7.31</td>\n",
       "      <td>-3.6</td>\n",
       "      <td>2153.8</td>\n",
       "      <td>1</td>\n",
       "      <td>20.1</td>\n",
       "      <td>6.30</td>\n",
       "      <td>0.0</td>\n",
       "      <td>99.9</td>\n",
       "      <td>90.08</td>\n",
       "      <td>...</td>\n",
       "      <td>379.0</td>\n",
       "      <td>1</td>\n",
       "      <td>0.0</td>\n",
       "      <td>59.55</td>\n",
       "      <td>53.14</td>\n",
       "      <td>0.23</td>\n",
       "      <td>2176.72</td>\n",
       "      <td>0</td>\n",
       "      <td>27</td>\n",
       "      <td>664.70</td>\n",
       "    </tr>\n",
       "    <tr>\n",
       "      <th>2020-03-02</th>\n",
       "      <td>12.7</td>\n",
       "      <td>6.61</td>\n",
       "      <td>-3.9</td>\n",
       "      <td>43.2</td>\n",
       "      <td>1</td>\n",
       "      <td>12.7</td>\n",
       "      <td>2.89</td>\n",
       "      <td>0.0</td>\n",
       "      <td>99.9</td>\n",
       "      <td>85.30</td>\n",
       "      <td>...</td>\n",
       "      <td>1418.0</td>\n",
       "      <td>1</td>\n",
       "      <td>1.0</td>\n",
       "      <td>59.75</td>\n",
       "      <td>53.48</td>\n",
       "      <td>0.16</td>\n",
       "      <td>2176.72</td>\n",
       "      <td>1</td>\n",
       "      <td>28</td>\n",
       "      <td>664.70</td>\n",
       "    </tr>\n",
       "    <tr>\n",
       "      <th>2020-03-03</th>\n",
       "      <td>13.2</td>\n",
       "      <td>5.99</td>\n",
       "      <td>-5.1</td>\n",
       "      <td>204.9</td>\n",
       "      <td>1</td>\n",
       "      <td>13.6</td>\n",
       "      <td>3.81</td>\n",
       "      <td>0.0</td>\n",
       "      <td>99.9</td>\n",
       "      <td>81.52</td>\n",
       "      <td>...</td>\n",
       "      <td>1676.0</td>\n",
       "      <td>1</td>\n",
       "      <td>2.0</td>\n",
       "      <td>58.88</td>\n",
       "      <td>53.33</td>\n",
       "      <td>0.16</td>\n",
       "      <td>2185.28</td>\n",
       "      <td>2</td>\n",
       "      <td>29</td>\n",
       "      <td>670.18</td>\n",
       "    </tr>\n",
       "    <tr>\n",
       "      <th>2020-03-04</th>\n",
       "      <td>11.5</td>\n",
       "      <td>4.75</td>\n",
       "      <td>-7.0</td>\n",
       "      <td>337.6</td>\n",
       "      <td>1</td>\n",
       "      <td>17.2</td>\n",
       "      <td>4.69</td>\n",
       "      <td>0.0</td>\n",
       "      <td>99.9</td>\n",
       "      <td>78.04</td>\n",
       "      <td>...</td>\n",
       "      <td>767.0</td>\n",
       "      <td>1</td>\n",
       "      <td>3.0</td>\n",
       "      <td>59.84</td>\n",
       "      <td>52.14</td>\n",
       "      <td>0.16</td>\n",
       "      <td>2148.00</td>\n",
       "      <td>3</td>\n",
       "      <td>30</td>\n",
       "      <td>656.39</td>\n",
       "    </tr>\n",
       "    <tr>\n",
       "      <th>2020-03-05</th>\n",
       "      <td>10.8</td>\n",
       "      <td>3.92</td>\n",
       "      <td>-10.5</td>\n",
       "      <td>2.5</td>\n",
       "      <td>1</td>\n",
       "      <td>13.0</td>\n",
       "      <td>3.87</td>\n",
       "      <td>0.0</td>\n",
       "      <td>99.9</td>\n",
       "      <td>69.11</td>\n",
       "      <td>...</td>\n",
       "      <td>1071.0</td>\n",
       "      <td>1</td>\n",
       "      <td>4.0</td>\n",
       "      <td>59.24</td>\n",
       "      <td>51.56</td>\n",
       "      <td>NaN</td>\n",
       "      <td>2119.01</td>\n",
       "      <td>4</td>\n",
       "      <td>31</td>\n",
       "      <td>642.48</td>\n",
       "    </tr>\n",
       "  </tbody>\n",
       "</table>\n",
       "<p>5 rows × 33 columns</p>\n",
       "</div>"
      ],
      "text/plain": [
       "            temp_max  temp_mean  temp_min    rain  is_rain  ws_max  ws_mean  \\\n",
       "2020-03-01      12.8       7.31      -3.6  2153.8        1    20.1     6.30   \n",
       "2020-03-02      12.7       6.61      -3.9    43.2        1    12.7     2.89   \n",
       "2020-03-03      13.2       5.99      -5.1   204.9        1    13.6     3.81   \n",
       "2020-03-04      11.5       4.75      -7.0   337.6        1    17.2     4.69   \n",
       "2020-03-05      10.8       3.92     -10.5     2.5        1    13.0     3.87   \n",
       "\n",
       "            ws_min  humid_max  humid_mean  ...  vis_min  month  weekday  \\\n",
       "2020-03-01     0.0       99.9       90.08  ...    379.0      1      0.0   \n",
       "2020-03-02     0.0       99.9       85.30  ...   1418.0      1      1.0   \n",
       "2020-03-03     0.0       99.9       81.52  ...   1676.0      1      2.0   \n",
       "2020-03-04     0.0       99.9       78.04  ...    767.0      1      3.0   \n",
       "2020-03-05     0.0       99.9       69.11  ...   1071.0      1      4.0   \n",
       "\n",
       "              LNG    Oil  Coal    KOSPI  week  day  KOSDAQ  \n",
       "2020-03-01  59.55  53.14  0.23  2176.72     0   27  664.70  \n",
       "2020-03-02  59.75  53.48  0.16  2176.72     1   28  664.70  \n",
       "2020-03-03  58.88  53.33  0.16  2185.28     2   29  670.18  \n",
       "2020-03-04  59.84  52.14  0.16  2148.00     3   30  656.39  \n",
       "2020-03-05  59.24  51.56   NaN  2119.01     4   31  642.48  \n",
       "\n",
       "[5 rows x 33 columns]"
      ]
     },
     "execution_count": 24,
     "metadata": {},
     "output_type": "execute_result"
    }
   ],
   "source": [
    "data_re.tail()"
   ]
  },
  {
   "cell_type": "code",
   "execution_count": 25,
   "metadata": {},
   "outputs": [
    {
     "data": {
      "text/html": [
       "<div>\n",
       "<style scoped>\n",
       "    .dataframe tbody tr th:only-of-type {\n",
       "        vertical-align: middle;\n",
       "    }\n",
       "\n",
       "    .dataframe tbody tr th {\n",
       "        vertical-align: top;\n",
       "    }\n",
       "\n",
       "    .dataframe thead th {\n",
       "        text-align: right;\n",
       "    }\n",
       "</style>\n",
       "<table border=\"1\" class=\"dataframe\">\n",
       "  <thead>\n",
       "    <tr style=\"text-align: right;\">\n",
       "      <th></th>\n",
       "      <th>temp_max</th>\n",
       "      <th>temp_mean</th>\n",
       "      <th>temp_min</th>\n",
       "      <th>rain</th>\n",
       "      <th>is_rain</th>\n",
       "      <th>ws_max</th>\n",
       "      <th>ws_mean</th>\n",
       "      <th>ws_min</th>\n",
       "      <th>humid_max</th>\n",
       "      <th>humid_mean</th>\n",
       "      <th>...</th>\n",
       "      <th>vis_min</th>\n",
       "      <th>month</th>\n",
       "      <th>weekday</th>\n",
       "      <th>LNG</th>\n",
       "      <th>Oil</th>\n",
       "      <th>Coal</th>\n",
       "      <th>KOSPI</th>\n",
       "      <th>week</th>\n",
       "      <th>day</th>\n",
       "      <th>KOSDAQ</th>\n",
       "    </tr>\n",
       "  </thead>\n",
       "  <tbody>\n",
       "    <tr>\n",
       "      <th>2020-02-01</th>\n",
       "      <td>17.8</td>\n",
       "      <td>9.46</td>\n",
       "      <td>-2.6</td>\n",
       "      <td>1258.2</td>\n",
       "      <td>1</td>\n",
       "      <td>15.1</td>\n",
       "      <td>3.68</td>\n",
       "      <td>0.0</td>\n",
       "      <td>100.0</td>\n",
       "      <td>85.00</td>\n",
       "      <td>...</td>\n",
       "      <td>239.0</td>\n",
       "      <td>12</td>\n",
       "      <td>6.0</td>\n",
       "      <td>61.00</td>\n",
       "      <td>61.68</td>\n",
       "      <td>0.16</td>\n",
       "      <td>2197.67</td>\n",
       "      <td>6</td>\n",
       "      <td>29</td>\n",
       "      <td>669.83</td>\n",
       "    </tr>\n",
       "    <tr>\n",
       "      <th>2020-02-02</th>\n",
       "      <td>16.1</td>\n",
       "      <td>9.79</td>\n",
       "      <td>-6.0</td>\n",
       "      <td>13.9</td>\n",
       "      <td>1</td>\n",
       "      <td>18.2</td>\n",
       "      <td>4.29</td>\n",
       "      <td>0.1</td>\n",
       "      <td>99.9</td>\n",
       "      <td>81.15</td>\n",
       "      <td>...</td>\n",
       "      <td>549.0</td>\n",
       "      <td>12</td>\n",
       "      <td>0.0</td>\n",
       "      <td>61.00</td>\n",
       "      <td>61.68</td>\n",
       "      <td>0.16</td>\n",
       "      <td>2197.67</td>\n",
       "      <td>0</td>\n",
       "      <td>30</td>\n",
       "      <td>669.83</td>\n",
       "    </tr>\n",
       "    <tr>\n",
       "      <th>2020-02-03</th>\n",
       "      <td>10.7</td>\n",
       "      <td>0.14</td>\n",
       "      <td>-12.3</td>\n",
       "      <td>2.9</td>\n",
       "      <td>1</td>\n",
       "      <td>20.5</td>\n",
       "      <td>6.50</td>\n",
       "      <td>0.0</td>\n",
       "      <td>99.9</td>\n",
       "      <td>72.28</td>\n",
       "      <td>...</td>\n",
       "      <td>1516.0</td>\n",
       "      <td>12</td>\n",
       "      <td>1.0</td>\n",
       "      <td>61.07</td>\n",
       "      <td>61.06</td>\n",
       "      <td>0.16</td>\n",
       "      <td>2175.17</td>\n",
       "      <td>1</td>\n",
       "      <td>31</td>\n",
       "      <td>674.02</td>\n",
       "    </tr>\n",
       "    <tr>\n",
       "      <th>2020-02-04</th>\n",
       "      <td>10.4</td>\n",
       "      <td>2.60</td>\n",
       "      <td>-6.9</td>\n",
       "      <td>0.0</td>\n",
       "      <td>0</td>\n",
       "      <td>13.0</td>\n",
       "      <td>3.54</td>\n",
       "      <td>0.1</td>\n",
       "      <td>99.9</td>\n",
       "      <td>66.06</td>\n",
       "      <td>...</td>\n",
       "      <td>2000.0</td>\n",
       "      <td>1</td>\n",
       "      <td>2.0</td>\n",
       "      <td>62.32</td>\n",
       "      <td>61.18</td>\n",
       "      <td>0.16</td>\n",
       "      <td>2175.17</td>\n",
       "      <td>2</td>\n",
       "      <td>1</td>\n",
       "      <td>674.02</td>\n",
       "    </tr>\n",
       "    <tr>\n",
       "      <th>2020-02-05</th>\n",
       "      <td>12.5</td>\n",
       "      <td>5.38</td>\n",
       "      <td>-4.2</td>\n",
       "      <td>0.0</td>\n",
       "      <td>0</td>\n",
       "      <td>8.7</td>\n",
       "      <td>2.67</td>\n",
       "      <td>0.0</td>\n",
       "      <td>99.9</td>\n",
       "      <td>69.99</td>\n",
       "      <td>...</td>\n",
       "      <td>699.0</td>\n",
       "      <td>1</td>\n",
       "      <td>3.0</td>\n",
       "      <td>62.32</td>\n",
       "      <td>61.18</td>\n",
       "      <td>0.16</td>\n",
       "      <td>2175.17</td>\n",
       "      <td>3</td>\n",
       "      <td>2</td>\n",
       "      <td>674.02</td>\n",
       "    </tr>\n",
       "  </tbody>\n",
       "</table>\n",
       "<p>5 rows × 33 columns</p>\n",
       "</div>"
      ],
      "text/plain": [
       "            temp_max  temp_mean  temp_min    rain  is_rain  ws_max  ws_mean  \\\n",
       "2020-02-01      17.8       9.46      -2.6  1258.2        1    15.1     3.68   \n",
       "2020-02-02      16.1       9.79      -6.0    13.9        1    18.2     4.29   \n",
       "2020-02-03      10.7       0.14     -12.3     2.9        1    20.5     6.50   \n",
       "2020-02-04      10.4       2.60      -6.9     0.0        0    13.0     3.54   \n",
       "2020-02-05      12.5       5.38      -4.2     0.0        0     8.7     2.67   \n",
       "\n",
       "            ws_min  humid_max  humid_mean  ...  vis_min  month  weekday  \\\n",
       "2020-02-01     0.0      100.0       85.00  ...    239.0     12      6.0   \n",
       "2020-02-02     0.1       99.9       81.15  ...    549.0     12      0.0   \n",
       "2020-02-03     0.0       99.9       72.28  ...   1516.0     12      1.0   \n",
       "2020-02-04     0.1       99.9       66.06  ...   2000.0      1      2.0   \n",
       "2020-02-05     0.0       99.9       69.99  ...    699.0      1      3.0   \n",
       "\n",
       "              LNG    Oil  Coal    KOSPI  week  day  KOSDAQ  \n",
       "2020-02-01  61.00  61.68  0.16  2197.67     6   29  669.83  \n",
       "2020-02-02  61.00  61.68  0.16  2197.67     0   30  669.83  \n",
       "2020-02-03  61.07  61.06  0.16  2175.17     1   31  674.02  \n",
       "2020-02-04  62.32  61.18  0.16  2175.17     2    1  674.02  \n",
       "2020-02-05  62.32  61.18  0.16  2175.17     3    2  674.02  \n",
       "\n",
       "[5 rows x 33 columns]"
      ]
     },
     "execution_count": 25,
     "metadata": {},
     "output_type": "execute_result"
    }
   ],
   "source": [
    "predic = data_re.iloc[-34:]\n",
    "predic.head()"
   ]
  },
  {
   "cell_type": "code",
   "execution_count": 26,
   "metadata": {},
   "outputs": [],
   "source": [
    "target = pd.read_csv(\"data/target_v1.csv\")\n",
    "target.index = pd.to_datetime(target['date'])"
   ]
  },
  {
   "cell_type": "code",
   "execution_count": 27,
   "metadata": {},
   "outputs": [],
   "source": [
    "y_df = target.supply[34:]"
   ]
  },
  {
   "cell_type": "code",
   "execution_count": 28,
   "metadata": {},
   "outputs": [],
   "source": [
    "data_re = data_re.iloc[:-34]"
   ]
  },
  {
   "cell_type": "code",
   "execution_count": 29,
   "metadata": {},
   "outputs": [],
   "source": [
    "X, y = data_re.iloc[:, :-1], data_re.iloc[:, -1]"
   ]
  },
  {
   "cell_type": "code",
   "execution_count": 30,
   "metadata": {},
   "outputs": [
    {
     "name": "stdout",
     "output_type": "stream",
     "text": [
      "RMSE supply: 88.693824\n"
     ]
    }
   ],
   "source": [
    "data_dmatrix = xgb.DMatrix(data=X, label=y)\n",
    "\n",
    "X_train, X_test, y_train, y_test = train_test_split(X, y, test_size=0.25, shuffle=False)\n",
    "\n",
    "xg_reg = xgb.XGBRegressor(objective ='reg:squarederror', colsample_bytree = 0.2, learning_rate = 0.3,\n",
    "                max_depth = 15, alpha = 10, n_estimators = 1000)\n",
    "\n",
    "xg_reg.fit(X_train,y_train)\n",
    "preds = xg_reg.predict(X_test)\n",
    "\n",
    "rmse = np.sqrt(mean_squared_error(y_test, preds))\n",
    "print(\"RMSE supply: %f\" % (rmse))"
   ]
  },
  {
   "cell_type": "code",
   "execution_count": 31,
   "metadata": {},
   "outputs": [],
   "source": [
    "X_pred = predic.iloc[:, :-1]\n",
    "preds = xg_reg.predict(X_pred)"
   ]
  },
  {
   "cell_type": "code",
   "execution_count": 32,
   "metadata": {},
   "outputs": [],
   "source": [
    "pr = pd.DataFrame(preds)"
   ]
  },
  {
   "cell_type": "code",
   "execution_count": 33,
   "metadata": {},
   "outputs": [],
   "source": [
    "pr = pr.rename(columns = {0: 'suuply'})"
   ]
  },
  {
   "cell_type": "code",
   "execution_count": 34,
   "metadata": {},
   "outputs": [
    {
     "data": {
      "text/plain": [
       "34"
      ]
     },
     "execution_count": 34,
     "metadata": {},
     "output_type": "execute_result"
    }
   ],
   "source": [
    "len(pr)"
   ]
  },
  {
   "cell_type": "code",
   "execution_count": 35,
   "metadata": {},
   "outputs": [
    {
     "data": {
      "text/plain": [
       "34"
      ]
     },
     "execution_count": 35,
     "metadata": {},
     "output_type": "execute_result"
    }
   ],
   "source": [
    "len(predic)"
   ]
  },
  {
   "cell_type": "code",
   "execution_count": 36,
   "metadata": {},
   "outputs": [],
   "source": [
    "pr.index = pd.date_range('2020-02-01', '2020-03-05')"
   ]
  },
  {
   "cell_type": "code",
   "execution_count": 37,
   "metadata": {},
   "outputs": [],
   "source": [
    "pr.to_csv('supply_prediction_1.csv')"
   ]
  },
  {
   "cell_type": "code",
   "execution_count": null,
   "metadata": {},
   "outputs": [],
   "source": []
  }
 ],
 "metadata": {
  "kernelspec": {
   "display_name": "Python 3",
   "language": "python",
   "name": "python3"
  },
  "language_info": {
   "codemirror_mode": {
    "name": "ipython",
    "version": 3
   },
   "file_extension": ".py",
   "mimetype": "text/x-python",
   "name": "python",
   "nbconvert_exporter": "python",
   "pygments_lexer": "ipython3",
   "version": "3.7.7"
  }
 },
 "nbformat": 4,
 "nbformat_minor": 4
}
