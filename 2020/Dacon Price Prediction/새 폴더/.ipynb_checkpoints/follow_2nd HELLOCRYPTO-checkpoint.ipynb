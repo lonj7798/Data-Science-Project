{
 "cells": [
  {
   "cell_type": "markdown",
   "metadata": {},
   "source": [
    "## import and load"
   ]
  },
  {
   "cell_type": "code",
   "execution_count": 1,
   "metadata": {
    "ExecuteTime": {
     "end_time": "2020-06-30T04:56:51.984276Z",
     "start_time": "2020-06-30T04:56:50.909540Z"
    }
   },
   "outputs": [
    {
     "name": "stderr",
     "output_type": "stream",
     "text": [
      "C:\\Users\\User\\Anaconda3\\lib\\site-packages\\distributed\\config.py:63: YAMLLoadWarning: calling yaml.load() without Loader=... is deprecated, as the default Loader is unsafe. Please read https://msg.pyyaml.org/load for full details.\n",
      "  config.update(yaml.load(text) or {})\n"
     ]
    }
   ],
   "source": [
    "import numpy as np\n",
    "import pandas as pd\n",
    "import matplotlib.pyplot as plt\n",
    "import seaborn as sns\n",
    "from tqdm import notebook\n",
    "import datetime\n",
    "\n",
    "import xgboost as xgb\n",
    "from sklearn.model_selection import train_test_split\n",
    "import lightgbm\n",
    "\n",
    "#한글 깨짐방지\n",
    "plt.rc('font',family = 'Malgun Gothic')\n",
    "plt.rcParams['axes.unicode_minus'] = False"
   ]
  },
  {
   "cell_type": "code",
   "execution_count": 2,
   "metadata": {
    "ExecuteTime": {
     "end_time": "2020-06-30T04:56:54.380812Z",
     "start_time": "2020-06-30T04:56:51.985276Z"
    }
   },
   "outputs": [],
   "source": [
    "path = './data/'\n",
    "train = pd.read_csv(path + 'train.csv')\n",
    "test = pd.read_csv(path + 'test.csv')\n",
    "submission  = pd.read_csv(path + 'submission.csv')"
   ]
  },
  {
   "cell_type": "markdown",
   "metadata": {},
   "source": [
    "## data setting\n",
    "* 일자별, 상정별로 매출액을 groupby 연산"
   ]
  },
  {
   "cell_type": "code",
   "execution_count": 3,
   "metadata": {
    "ExecuteTime": {
     "end_time": "2020-06-30T04:56:54.547848Z",
     "start_time": "2020-06-30T04:56:54.381811Z"
    }
   },
   "outputs": [],
   "source": [
    "#time, installment, days_of_week, card_id, holyday는 필요없다 생각하여 글쓴이는 제거\n",
    "train = train.drop(columns=['time', 'installments', 'days_of_week', 'card_id', 'holyday'])\n",
    "test = test.drop(columns=['time', 'installments', 'days_of_week', 'card_id', 'holyday'])"
   ]
  },
  {
   "cell_type": "code",
   "execution_count": 4,
   "metadata": {
    "ExecuteTime": {
     "end_time": "2020-06-30T04:56:55.068965Z",
     "start_time": "2020-06-30T04:56:54.548849Z"
    }
   },
   "outputs": [],
   "source": [
    "# 'date','store_id'로 결합\n",
    "train = train.groupby(['date','store_id']).agg({'amount':'sum'}).reset_index()\n",
    "test = test.groupby(['date','store_id']).agg({'amount':'sum'}).reset_index()"
   ]
  },
  {
   "cell_type": "code",
   "execution_count": 5,
   "metadata": {
    "ExecuteTime": {
     "end_time": "2020-06-30T04:56:55.079968Z",
     "start_time": "2020-06-30T04:56:55.069966Z"
    }
   },
   "outputs": [
    {
     "data": {
      "text/html": [
       "<div>\n",
       "<style scoped>\n",
       "    .dataframe tbody tr th:only-of-type {\n",
       "        vertical-align: middle;\n",
       "    }\n",
       "\n",
       "    .dataframe tbody tr th {\n",
       "        vertical-align: top;\n",
       "    }\n",
       "\n",
       "    .dataframe thead th {\n",
       "        text-align: right;\n",
       "    }\n",
       "</style>\n",
       "<table border=\"1\" class=\"dataframe\">\n",
       "  <thead>\n",
       "    <tr style=\"text-align: right;\">\n",
       "      <th></th>\n",
       "      <th>date</th>\n",
       "      <th>store_id</th>\n",
       "      <th>amount</th>\n",
       "    </tr>\n",
       "  </thead>\n",
       "  <tbody>\n",
       "    <tr>\n",
       "      <td>0</td>\n",
       "      <td>2016-08-01</td>\n",
       "      <td>2</td>\n",
       "      <td>2372</td>\n",
       "    </tr>\n",
       "  </tbody>\n",
       "</table>\n",
       "</div>"
      ],
      "text/plain": [
       "         date  store_id  amount\n",
       "0  2016-08-01         2    2372"
      ]
     },
     "execution_count": 5,
     "metadata": {},
     "output_type": "execute_result"
    }
   ],
   "source": [
    "#이러한 형태로 변환됨\n",
    "train.head(1)"
   ]
  },
  {
   "cell_type": "code",
   "execution_count": 6,
   "metadata": {
    "ExecuteTime": {
     "end_time": "2020-06-30T04:56:55.134981Z",
     "start_time": "2020-06-30T04:56:55.080968Z"
    }
   },
   "outputs": [],
   "source": [
    "#date전환\n",
    "train['date'] = pd.to_datetime(train['date'],infer_datetime_format= True)\n",
    "test['date'] = pd.to_datetime(test['date'],infer_datetime_format= True)"
   ]
  },
  {
   "cell_type": "code",
   "execution_count": 7,
   "metadata": {
    "ExecuteTime": {
     "end_time": "2020-06-30T04:56:55.139981Z",
     "start_time": "2020-06-30T04:56:55.135980Z"
    }
   },
   "outputs": [],
   "source": [
    "# 나중을 위한 복제\n",
    "train['temp_date'] = train['date']\n",
    "test['temp_date'] = test['date']"
   ]
  },
  {
   "cell_type": "code",
   "execution_count": 8,
   "metadata": {
    "ExecuteTime": {
     "end_time": "2020-06-30T04:56:55.144982Z",
     "start_time": "2020-06-30T04:56:55.140982Z"
    }
   },
   "outputs": [],
   "source": [
    "# 날짜를 인덱스로 설정\n",
    "train.set_index(\"date\",inplace=True)\n",
    "test.set_index(\"date\",inplace=True)"
   ]
  },
  {
   "cell_type": "code",
   "execution_count": 9,
   "metadata": {
    "ExecuteTime": {
     "end_time": "2020-06-30T04:56:55.153984Z",
     "start_time": "2020-06-30T04:56:55.145982Z"
    }
   },
   "outputs": [
    {
     "data": {
      "text/plain": [
       "1775"
      ]
     },
     "execution_count": 9,
     "metadata": {},
     "output_type": "execute_result"
    }
   ],
   "source": [
    "train.store_id.nunique()"
   ]
  },
  {
   "cell_type": "markdown",
   "metadata": {},
   "source": [
    "### 일부제거"
   ]
  },
  {
   "cell_type": "markdown",
   "metadata": {},
   "source": [
    "#### train\n",
    "1. 거래기록이 160일 이하인 경우 삭제 -> 대회 목적이 100일 이후를 예측하는 것이므로 60일은 train(X), 100일은 predict(y)에 사용\n",
    "    * 160일이 가장 이상적이라고 고려함\n",
    "    * 1775개 상점중 997개 남음\n",
    "2. 2018-07-31 주변 5일 내 거래가 없으면 폐업으로 추정, 2018-07-31은 꼭 있어야하는 데이터\n",
    "    * 997개 상점 중 906개 남음"
   ]
  },
  {
   "cell_type": "code",
   "execution_count": 10,
   "metadata": {
    "ExecuteTime": {
     "end_time": "2020-06-30T04:57:06.007409Z",
     "start_time": "2020-06-30T04:56:55.154985Z"
    }
   },
   "outputs": [
    {
     "name": "stdout",
     "output_type": "stream",
     "text": [
      "Before removing stores (due to limit):  (480160, 3)\n"
     ]
    },
    {
     "data": {
      "application/vnd.jupyter.widget-view+json": {
       "model_id": "2bdab01bc68f4ba485609dc600e51ebf",
       "version_major": 2,
       "version_minor": 0
      },
      "text/plain": [
       "HBox(children=(FloatProgress(value=0.0, max=1800.0), HTML(value='')))"
      ]
     },
     "metadata": {},
     "output_type": "display_data"
    },
    {
     "name": "stdout",
     "output_type": "stream",
     "text": [
      "\n",
      "Total # of stores that exceeds 160 is 997\n",
      "After removing stores (due to limit):  (432671, 3)\n"
     ]
    }
   ],
   "source": [
    "counter = 0\n",
    "limit = 160\n",
    "\n",
    "print(\"Before removing stores (due to limit): \", train.shape)\n",
    "\n",
    "#160 이하면 데이터에서 제거함 \n",
    "for store_id in notebook.tqdm(range(train['store_id'].max()+1)):\n",
    "    if train.loc[train['store_id'] == store_id, 'store_id' ].count() >= limit:\n",
    "        counter += 1\n",
    "    else :\n",
    "        train = train[train.store_id !=store_id]\n",
    "\n",
    "print(f\"Total # of stores that exceeds {limit} is {counter}\")\n",
    "print(\"After removing stores (due to limit): \", train.shape)"
   ]
  },
  {
   "cell_type": "code",
   "execution_count": 11,
   "metadata": {
    "ExecuteTime": {
     "end_time": "2020-06-30T04:57:06.012410Z",
     "start_time": "2020-06-30T04:57:06.008409Z"
    }
   },
   "outputs": [],
   "source": [
    "#  2018-07-31 주변 5일 내 거래가 없으면 폐업으로 추정, 2018-07-31은 꼭 있어야하는 데이터\n",
    "def keep_alive_store(df):\n",
    "    store_id_list = df.store_id.unique()\n",
    "    yes, no = 0, 0\n",
    "    \n",
    "    t2 = datetime.datetime.strptime('2018-07-31', '%Y-%m-%d')\n",
    "    \n",
    "    for store_id in store_id_list:\n",
    "        if df.loc[df.store_id == store_id,'temp_date'].iloc[-1] == t2:\n",
    "            yes += 1\n",
    "        else:\n",
    "            t1 = df.loc[df.store_id == store_id,'temp_date'].iloc[-1]\n",
    "            difference = t2 - t1\n",
    "            if difference.days <=5:\n",
    "                yes += 1\n",
    "            else :\n",
    "                no += 1\n",
    "                df = df[df.store_id != store_id]\n",
    "    print(f\"# of train store open/out of business: {yes}, {no}\")\n",
    "    return df"
   ]
  },
  {
   "cell_type": "code",
   "execution_count": 12,
   "metadata": {
    "ExecuteTime": {
     "end_time": "2020-06-30T04:57:07.728794Z",
     "start_time": "2020-06-30T04:57:06.013411Z"
    }
   },
   "outputs": [
    {
     "name": "stdout",
     "output_type": "stream",
     "text": [
      "# of train store open/out of business: 906, 91\n"
     ]
    }
   ],
   "source": [
    "#91개의 상점이 제외됨\n",
    "train = keep_alive_store(train)"
   ]
  },
  {
   "cell_type": "markdown",
   "metadata": {},
   "source": [
    "#### test\n",
    "1. 2018-03-31 주변 7일 거래기록이 없으면 폐업으로 가정 \n",
    "  - 197번 매장을 폐업으로 추정"
   ]
  },
  {
   "cell_type": "code",
   "execution_count": 13,
   "metadata": {
    "ExecuteTime": {
     "end_time": "2020-06-30T04:57:07.844821Z",
     "start_time": "2020-06-30T04:57:07.729794Z"
    }
   },
   "outputs": [
    {
     "name": "stdout",
     "output_type": "stream",
     "text": [
      "2018-01-17 00:00:00\n",
      "# of test store open/out of business: 199, 1\n"
     ]
    }
   ],
   "source": [
    "store_id_list = test.store_id.unique()\n",
    "yes, no = 0, 0\n",
    "closed_test_store = []\n",
    "t2 = datetime.datetime.strptime('2018-03-01',\"%Y-%m-%d\")\n",
    "\n",
    "for store_id in store_id_list:    \n",
    "    t1 = test[test.store_id == store_id]['temp_date'].iloc[-1]\n",
    "    differ = t2 - t1\n",
    "    \n",
    "    if differ.days <= 7 :\n",
    "        yes += 1 \n",
    "    else :\n",
    "        no += 1\n",
    "        print(test[test.store_id == store_id].iloc[-1]['temp_date'])\n",
    "        closed_test_store.append(store_id)\n",
    "print(f\"# of test store open/out of business: {yes}, {no}\")"
   ]
  },
  {
   "cell_type": "markdown",
   "metadata": {},
   "source": [
    "### reform"
   ]
  },
  {
   "cell_type": "code",
   "execution_count": 14,
   "metadata": {
    "ExecuteTime": {
     "end_time": "2020-06-30T04:57:07.853822Z",
     "start_time": "2020-06-30T04:57:07.845821Z"
    }
   },
   "outputs": [],
   "source": [
    "def reform_data(df, isTrain):\n",
    "    store_id_list = df.store_id.unique()\n",
    "    x_array = []\n",
    "    for store_id in store_id_list:\n",
    "        store = df[df.store_id == store_id]\n",
    "        store = store.asfreq('D',fill_value = 0) #일자별로 열추가 \n",
    "        store['temp_date'] = store.index\n",
    "        store['store_id'] = store_id\n",
    "        \n",
    "        # 7일, 15일, 30일간의 이동평균 계산 \n",
    "        store['MA7'] = store['amount'].rolling('7D').mean()\n",
    "        store['MA15'] = store['amount'].rolling('15D').mean()\n",
    "        store['MA30'] = store['amount'].rolling('30D').mean()\n",
    "        \n",
    "        # train set인 경우 마지막 100일은 y값으로 저장되어야함\n",
    "        # store_x는 100일전까지 기간 데이터 \n",
    "        if isTrain:\n",
    "            store_y = store.last(\"100D\")\n",
    "            y = store_y.amount.sum()\n",
    "            store_x = store[store.temp_date < store_y.iloc[0].temp_date]\n",
    "        #test는 전체\n",
    "        else : \n",
    "            y = 0\n",
    "            store_x = store[:]\n",
    "            \n",
    "        new_data = []\n",
    "        new_data.append(store_id)\n",
    "        new_data.append(y)\n",
    "        \n",
    "        new_data.append(store_x.amount.mean())\n",
    "        new_data.append(store_x.amount.median())\n",
    "        \n",
    "        new_data.append(store_x.last('7D').amount.mean())\n",
    "        new_data.append(store_x.last('15D').amount.mean())\n",
    "        new_data.append(store_x.last('30D').amount.mean())\n",
    "        \n",
    "        new_data.append(store_x.last('7D').amount.median())\n",
    "        new_data.append(store_x.last('15D').amount.median())\n",
    "        new_data.append(store_x.last('30D').amount.median())\n",
    "        \n",
    "        new_data.append(store_x.last('7D').amount.sum())\n",
    "        new_data.append(store_x.last('15D').amount.sum())\n",
    "        new_data.append(store_x.last('30D').amount.sum())\n",
    "        \n",
    "        new_data.append(store_x.last('7D').MA7.mean())\n",
    "        new_data.append(store_x.last('15D').MA7.mean())\n",
    "        new_data.append(store_x.last('30D').MA7.mean())\n",
    "        \n",
    "        new_data.append(store_x.last('7D').MA15.mean())\n",
    "        new_data.append(store_x.last('15D').MA15.mean())\n",
    "        new_data.append(store_x.last('30D').MA15.mean())\n",
    "        \n",
    "        new_data.append(store_x.last('7D').MA30.mean())\n",
    "        new_data.append(store_x.last('15D').MA30.mean())\n",
    "        new_data.append(store_x.last('30D').MA30.mean())\n",
    "        \n",
    "        x_array.append(new_data)\n",
    "    \n",
    "    return x_array"
   ]
  },
  {
   "cell_type": "code",
   "execution_count": 15,
   "metadata": {
    "ExecuteTime": {
     "end_time": "2020-06-30T04:57:20.239608Z",
     "start_time": "2020-06-30T04:57:07.854822Z"
    }
   },
   "outputs": [],
   "source": [
    "reformed_train = reform_data(train, True) # train data with new values\n",
    "reformed_test = reform_data(test, False) # test data with new values"
   ]
  },
  {
   "cell_type": "code",
   "execution_count": 16,
   "metadata": {
    "ExecuteTime": {
     "end_time": "2020-06-30T04:57:20.249610Z",
     "start_time": "2020-06-30T04:57:20.240608Z"
    }
   },
   "outputs": [],
   "source": [
    "#컬럼이름 부여\n",
    "train_fin = pd.DataFrame(reformed_train, columns=['store_id', 'y', 'mean', 'median', '7mean', '15mean', '30mean', \n",
    "                                         '7median', '15median', '30median',  '7sum', '15sum', '30sum', \n",
    "                                         '7ma7mean', '15ma7mean', '30ma7mean',  '7ma15mean', '15ma15mean',\n",
    "                                         '30ma15mean',  '7ma30mean', '15ma30mean', '30ma30mean'])\n",
    "test_fin = pd.DataFrame(reformed_test, columns=['store_id', 'y', 'mean', 'median', '7mean', '15mean', '30mean', \n",
    "                                         '7median', '15median', '30median',  '7sum', '15sum', '30sum', \n",
    "                                         '7ma7mean', '15ma7mean', '30ma7mean',  '7ma15mean', '15ma15mean',\n",
    "                                         '30ma15mean',  '7ma30mean', '15ma30mean', '30ma30mean'])"
   ]
  },
  {
   "cell_type": "code",
   "execution_count": 17,
   "metadata": {
    "ExecuteTime": {
     "end_time": "2020-06-30T04:57:20.253610Z",
     "start_time": "2020-06-30T04:57:20.250610Z"
    }
   },
   "outputs": [
    {
     "data": {
      "text/plain": [
       "((906, 22), (200, 22))"
      ]
     },
     "execution_count": 17,
     "metadata": {},
     "output_type": "execute_result"
    }
   ],
   "source": [
    "train_fin.shape, test_fin.shape"
   ]
  },
  {
   "cell_type": "code",
   "execution_count": 18,
   "metadata": {
    "ExecuteTime": {
     "end_time": "2020-06-30T04:57:20.262613Z",
     "start_time": "2020-06-30T04:57:20.255612Z"
    }
   },
   "outputs": [
    {
     "data": {
      "text/html": [
       "<div>\n",
       "<style scoped>\n",
       "    .dataframe tbody tr th:only-of-type {\n",
       "        vertical-align: middle;\n",
       "    }\n",
       "\n",
       "    .dataframe tbody tr th {\n",
       "        vertical-align: top;\n",
       "    }\n",
       "\n",
       "    .dataframe thead th {\n",
       "        text-align: right;\n",
       "    }\n",
       "</style>\n",
       "<table border=\"1\" class=\"dataframe\">\n",
       "  <thead>\n",
       "    <tr style=\"text-align: right;\">\n",
       "      <th></th>\n",
       "      <th>store_id</th>\n",
       "      <th>amount</th>\n",
       "      <th>temp_date</th>\n",
       "    </tr>\n",
       "    <tr>\n",
       "      <th>date</th>\n",
       "      <th></th>\n",
       "      <th></th>\n",
       "      <th></th>\n",
       "    </tr>\n",
       "  </thead>\n",
       "  <tbody>\n",
       "    <tr>\n",
       "      <td>2016-08-10</td>\n",
       "      <td>32</td>\n",
       "      <td>140</td>\n",
       "      <td>2016-08-10</td>\n",
       "    </tr>\n",
       "    <tr>\n",
       "      <td>2016-08-13</td>\n",
       "      <td>32</td>\n",
       "      <td>60</td>\n",
       "      <td>2016-08-13</td>\n",
       "    </tr>\n",
       "    <tr>\n",
       "      <td>2016-08-31</td>\n",
       "      <td>32</td>\n",
       "      <td>139</td>\n",
       "      <td>2016-08-31</td>\n",
       "    </tr>\n",
       "    <tr>\n",
       "      <td>2016-09-21</td>\n",
       "      <td>32</td>\n",
       "      <td>22</td>\n",
       "      <td>2016-09-21</td>\n",
       "    </tr>\n",
       "    <tr>\n",
       "      <td>2016-10-08</td>\n",
       "      <td>32</td>\n",
       "      <td>97</td>\n",
       "      <td>2016-10-08</td>\n",
       "    </tr>\n",
       "  </tbody>\n",
       "</table>\n",
       "</div>"
      ],
      "text/plain": [
       "            store_id  amount  temp_date\n",
       "date                                   \n",
       "2016-08-10        32     140 2016-08-10\n",
       "2016-08-13        32      60 2016-08-13\n",
       "2016-08-31        32     139 2016-08-31\n",
       "2016-09-21        32      22 2016-09-21\n",
       "2016-10-08        32      97 2016-10-08"
      ]
     },
     "execution_count": 18,
     "metadata": {},
     "output_type": "execute_result"
    }
   ],
   "source": [
    "#reform 전\n",
    "train[train.store_id == 32].head()"
   ]
  },
  {
   "cell_type": "code",
   "execution_count": 19,
   "metadata": {
    "ExecuteTime": {
     "end_time": "2020-06-30T04:57:20.283618Z",
     "start_time": "2020-06-30T04:57:20.263613Z"
    }
   },
   "outputs": [
    {
     "data": {
      "text/html": [
       "<div>\n",
       "<style scoped>\n",
       "    .dataframe tbody tr th:only-of-type {\n",
       "        vertical-align: middle;\n",
       "    }\n",
       "\n",
       "    .dataframe tbody tr th {\n",
       "        vertical-align: top;\n",
       "    }\n",
       "\n",
       "    .dataframe thead th {\n",
       "        text-align: right;\n",
       "    }\n",
       "</style>\n",
       "<table border=\"1\" class=\"dataframe\">\n",
       "  <thead>\n",
       "    <tr style=\"text-align: right;\">\n",
       "      <th></th>\n",
       "      <th>store_id</th>\n",
       "      <th>y</th>\n",
       "      <th>mean</th>\n",
       "      <th>median</th>\n",
       "      <th>7mean</th>\n",
       "      <th>15mean</th>\n",
       "      <th>30mean</th>\n",
       "      <th>7median</th>\n",
       "      <th>15median</th>\n",
       "      <th>30median</th>\n",
       "      <th>...</th>\n",
       "      <th>30sum</th>\n",
       "      <th>7ma7mean</th>\n",
       "      <th>15ma7mean</th>\n",
       "      <th>30ma7mean</th>\n",
       "      <th>7ma15mean</th>\n",
       "      <th>15ma15mean</th>\n",
       "      <th>30ma15mean</th>\n",
       "      <th>7ma30mean</th>\n",
       "      <th>15ma30mean</th>\n",
       "      <th>30ma30mean</th>\n",
       "    </tr>\n",
       "  </thead>\n",
       "  <tbody>\n",
       "    <tr>\n",
       "      <td>0</td>\n",
       "      <td>2</td>\n",
       "      <td>186853</td>\n",
       "      <td>2266.995238</td>\n",
       "      <td>2267.0</td>\n",
       "      <td>2207.714286</td>\n",
       "      <td>2209.466667</td>\n",
       "      <td>2272.233333</td>\n",
       "      <td>2174.0</td>\n",
       "      <td>2174.0</td>\n",
       "      <td>2293.0</td>\n",
       "      <td>...</td>\n",
       "      <td>68167</td>\n",
       "      <td>2201.020408</td>\n",
       "      <td>2203.819048</td>\n",
       "      <td>2297.928571</td>\n",
       "      <td>2203.819048</td>\n",
       "      <td>2233.044444</td>\n",
       "      <td>2319.146667</td>\n",
       "      <td>2297.928571</td>\n",
       "      <td>2319.146667</td>\n",
       "      <td>2344.041111</td>\n",
       "    </tr>\n",
       "    <tr>\n",
       "      <td>1</td>\n",
       "      <td>6</td>\n",
       "      <td>219761</td>\n",
       "      <td>1857.495238</td>\n",
       "      <td>1080.0</td>\n",
       "      <td>2076.428571</td>\n",
       "      <td>2359.133333</td>\n",
       "      <td>1970.233333</td>\n",
       "      <td>1670.0</td>\n",
       "      <td>1670.0</td>\n",
       "      <td>1622.5</td>\n",
       "      <td>...</td>\n",
       "      <td>59107</td>\n",
       "      <td>2703.020408</td>\n",
       "      <td>2448.704762</td>\n",
       "      <td>2690.871429</td>\n",
       "      <td>2448.704762</td>\n",
       "      <td>2061.066667</td>\n",
       "      <td>2833.988889</td>\n",
       "      <td>2690.871429</td>\n",
       "      <td>2833.988889</td>\n",
       "      <td>3410.305556</td>\n",
       "    </tr>\n",
       "    <tr>\n",
       "      <td>2</td>\n",
       "      <td>8</td>\n",
       "      <td>79695</td>\n",
       "      <td>691.809524</td>\n",
       "      <td>500.0</td>\n",
       "      <td>623.571429</td>\n",
       "      <td>704.333333</td>\n",
       "      <td>650.666667</td>\n",
       "      <td>260.0</td>\n",
       "      <td>450.0</td>\n",
       "      <td>475.0</td>\n",
       "      <td>...</td>\n",
       "      <td>19520</td>\n",
       "      <td>570.102041</td>\n",
       "      <td>659.047619</td>\n",
       "      <td>591.166667</td>\n",
       "      <td>659.047619</td>\n",
       "      <td>635.622222</td>\n",
       "      <td>629.444444</td>\n",
       "      <td>591.166667</td>\n",
       "      <td>629.444444</td>\n",
       "      <td>664.450000</td>\n",
       "    </tr>\n",
       "    <tr>\n",
       "      <td>3</td>\n",
       "      <td>12</td>\n",
       "      <td>147744</td>\n",
       "      <td>1224.731746</td>\n",
       "      <td>898.5</td>\n",
       "      <td>1995.000000</td>\n",
       "      <td>1524.333333</td>\n",
       "      <td>1118.200000</td>\n",
       "      <td>2145.0</td>\n",
       "      <td>1155.0</td>\n",
       "      <td>990.0</td>\n",
       "      <td>...</td>\n",
       "      <td>33546</td>\n",
       "      <td>1772.346939</td>\n",
       "      <td>1273.571429</td>\n",
       "      <td>971.723810</td>\n",
       "      <td>1273.571429</td>\n",
       "      <td>990.880000</td>\n",
       "      <td>860.555556</td>\n",
       "      <td>971.723810</td>\n",
       "      <td>860.555556</td>\n",
       "      <td>824.680000</td>\n",
       "    </tr>\n",
       "    <tr>\n",
       "      <td>4</td>\n",
       "      <td>14</td>\n",
       "      <td>17253</td>\n",
       "      <td>309.682035</td>\n",
       "      <td>150.0</td>\n",
       "      <td>267.142857</td>\n",
       "      <td>218.733333</td>\n",
       "      <td>340.766667</td>\n",
       "      <td>195.0</td>\n",
       "      <td>187.0</td>\n",
       "      <td>153.5</td>\n",
       "      <td>...</td>\n",
       "      <td>10223</td>\n",
       "      <td>252.836735</td>\n",
       "      <td>471.485714</td>\n",
       "      <td>341.904762</td>\n",
       "      <td>471.485714</td>\n",
       "      <td>465.400000</td>\n",
       "      <td>346.037778</td>\n",
       "      <td>341.904762</td>\n",
       "      <td>346.037778</td>\n",
       "      <td>305.583333</td>\n",
       "    </tr>\n",
       "    <tr>\n",
       "      <td>...</td>\n",
       "      <td>...</td>\n",
       "      <td>...</td>\n",
       "      <td>...</td>\n",
       "      <td>...</td>\n",
       "      <td>...</td>\n",
       "      <td>...</td>\n",
       "      <td>...</td>\n",
       "      <td>...</td>\n",
       "      <td>...</td>\n",
       "      <td>...</td>\n",
       "      <td>...</td>\n",
       "      <td>...</td>\n",
       "      <td>...</td>\n",
       "      <td>...</td>\n",
       "      <td>...</td>\n",
       "      <td>...</td>\n",
       "      <td>...</td>\n",
       "      <td>...</td>\n",
       "      <td>...</td>\n",
       "      <td>...</td>\n",
       "      <td>...</td>\n",
       "    </tr>\n",
       "    <tr>\n",
       "      <td>901</td>\n",
       "      <td>242</td>\n",
       "      <td>55006</td>\n",
       "      <td>512.181818</td>\n",
       "      <td>395.0</td>\n",
       "      <td>758.714286</td>\n",
       "      <td>580.733333</td>\n",
       "      <td>608.233333</td>\n",
       "      <td>530.0</td>\n",
       "      <td>505.0</td>\n",
       "      <td>454.5</td>\n",
       "      <td>...</td>\n",
       "      <td>18247</td>\n",
       "      <td>421.469388</td>\n",
       "      <td>537.009524</td>\n",
       "      <td>530.876190</td>\n",
       "      <td>537.009524</td>\n",
       "      <td>579.191111</td>\n",
       "      <td>554.102222</td>\n",
       "      <td>530.876190</td>\n",
       "      <td>554.102222</td>\n",
       "      <td>544.604444</td>\n",
       "    </tr>\n",
       "    <tr>\n",
       "      <td>902</td>\n",
       "      <td>120</td>\n",
       "      <td>176547</td>\n",
       "      <td>1418.546667</td>\n",
       "      <td>1238.0</td>\n",
       "      <td>1524.000000</td>\n",
       "      <td>1503.066667</td>\n",
       "      <td>1360.633333</td>\n",
       "      <td>1586.0</td>\n",
       "      <td>1311.0</td>\n",
       "      <td>1109.5</td>\n",
       "      <td>...</td>\n",
       "      <td>40819</td>\n",
       "      <td>1416.367347</td>\n",
       "      <td>1414.380952</td>\n",
       "      <td>1278.057143</td>\n",
       "      <td>1414.380952</td>\n",
       "      <td>1344.075556</td>\n",
       "      <td>1251.404444</td>\n",
       "      <td>1278.057143</td>\n",
       "      <td>1251.404444</td>\n",
       "      <td>1253.010000</td>\n",
       "    </tr>\n",
       "    <tr>\n",
       "      <td>903</td>\n",
       "      <td>1782</td>\n",
       "      <td>101682</td>\n",
       "      <td>1727.285714</td>\n",
       "      <td>1625.0</td>\n",
       "      <td>1644.285714</td>\n",
       "      <td>1474.000000</td>\n",
       "      <td>1714.333333</td>\n",
       "      <td>1680.0</td>\n",
       "      <td>1505.0</td>\n",
       "      <td>1595.0</td>\n",
       "      <td>...</td>\n",
       "      <td>51430</td>\n",
       "      <td>1531.428571</td>\n",
       "      <td>1402.190476</td>\n",
       "      <td>1753.809524</td>\n",
       "      <td>1402.190476</td>\n",
       "      <td>1482.822222</td>\n",
       "      <td>1837.511111</td>\n",
       "      <td>1753.809524</td>\n",
       "      <td>1837.511111</td>\n",
       "      <td>1986.222222</td>\n",
       "    </tr>\n",
       "    <tr>\n",
       "      <td>904</td>\n",
       "      <td>904</td>\n",
       "      <td>62155</td>\n",
       "      <td>332.205882</td>\n",
       "      <td>287.5</td>\n",
       "      <td>577.857143</td>\n",
       "      <td>506.000000</td>\n",
       "      <td>470.333333</td>\n",
       "      <td>560.0</td>\n",
       "      <td>510.0</td>\n",
       "      <td>425.0</td>\n",
       "      <td>...</td>\n",
       "      <td>14110</td>\n",
       "      <td>509.183673</td>\n",
       "      <td>477.523810</td>\n",
       "      <td>425.833333</td>\n",
       "      <td>477.523810</td>\n",
       "      <td>454.933333</td>\n",
       "      <td>407.855556</td>\n",
       "      <td>425.833333</td>\n",
       "      <td>407.855556</td>\n",
       "      <td>361.844444</td>\n",
       "    </tr>\n",
       "    <tr>\n",
       "      <td>905</td>\n",
       "      <td>550</td>\n",
       "      <td>30160</td>\n",
       "      <td>338.129032</td>\n",
       "      <td>326.0</td>\n",
       "      <td>309.000000</td>\n",
       "      <td>325.200000</td>\n",
       "      <td>321.533333</td>\n",
       "      <td>277.0</td>\n",
       "      <td>326.0</td>\n",
       "      <td>287.5</td>\n",
       "      <td>...</td>\n",
       "      <td>9646</td>\n",
       "      <td>321.428571</td>\n",
       "      <td>328.780952</td>\n",
       "      <td>316.009524</td>\n",
       "      <td>328.780952</td>\n",
       "      <td>334.644444</td>\n",
       "      <td>308.117778</td>\n",
       "      <td>316.009524</td>\n",
       "      <td>308.117778</td>\n",
       "      <td>325.125556</td>\n",
       "    </tr>\n",
       "  </tbody>\n",
       "</table>\n",
       "<p>906 rows × 22 columns</p>\n",
       "</div>"
      ],
      "text/plain": [
       "     store_id       y         mean  median        7mean       15mean  \\\n",
       "0           2  186853  2266.995238  2267.0  2207.714286  2209.466667   \n",
       "1           6  219761  1857.495238  1080.0  2076.428571  2359.133333   \n",
       "2           8   79695   691.809524   500.0   623.571429   704.333333   \n",
       "3          12  147744  1224.731746   898.5  1995.000000  1524.333333   \n",
       "4          14   17253   309.682035   150.0   267.142857   218.733333   \n",
       "..        ...     ...          ...     ...          ...          ...   \n",
       "901       242   55006   512.181818   395.0   758.714286   580.733333   \n",
       "902       120  176547  1418.546667  1238.0  1524.000000  1503.066667   \n",
       "903      1782  101682  1727.285714  1625.0  1644.285714  1474.000000   \n",
       "904       904   62155   332.205882   287.5   577.857143   506.000000   \n",
       "905       550   30160   338.129032   326.0   309.000000   325.200000   \n",
       "\n",
       "          30mean  7median  15median  30median  ...  30sum     7ma7mean  \\\n",
       "0    2272.233333   2174.0    2174.0    2293.0  ...  68167  2201.020408   \n",
       "1    1970.233333   1670.0    1670.0    1622.5  ...  59107  2703.020408   \n",
       "2     650.666667    260.0     450.0     475.0  ...  19520   570.102041   \n",
       "3    1118.200000   2145.0    1155.0     990.0  ...  33546  1772.346939   \n",
       "4     340.766667    195.0     187.0     153.5  ...  10223   252.836735   \n",
       "..           ...      ...       ...       ...  ...    ...          ...   \n",
       "901   608.233333    530.0     505.0     454.5  ...  18247   421.469388   \n",
       "902  1360.633333   1586.0    1311.0    1109.5  ...  40819  1416.367347   \n",
       "903  1714.333333   1680.0    1505.0    1595.0  ...  51430  1531.428571   \n",
       "904   470.333333    560.0     510.0     425.0  ...  14110   509.183673   \n",
       "905   321.533333    277.0     326.0     287.5  ...   9646   321.428571   \n",
       "\n",
       "       15ma7mean    30ma7mean    7ma15mean   15ma15mean   30ma15mean  \\\n",
       "0    2203.819048  2297.928571  2203.819048  2233.044444  2319.146667   \n",
       "1    2448.704762  2690.871429  2448.704762  2061.066667  2833.988889   \n",
       "2     659.047619   591.166667   659.047619   635.622222   629.444444   \n",
       "3    1273.571429   971.723810  1273.571429   990.880000   860.555556   \n",
       "4     471.485714   341.904762   471.485714   465.400000   346.037778   \n",
       "..           ...          ...          ...          ...          ...   \n",
       "901   537.009524   530.876190   537.009524   579.191111   554.102222   \n",
       "902  1414.380952  1278.057143  1414.380952  1344.075556  1251.404444   \n",
       "903  1402.190476  1753.809524  1402.190476  1482.822222  1837.511111   \n",
       "904   477.523810   425.833333   477.523810   454.933333   407.855556   \n",
       "905   328.780952   316.009524   328.780952   334.644444   308.117778   \n",
       "\n",
       "       7ma30mean   15ma30mean   30ma30mean  \n",
       "0    2297.928571  2319.146667  2344.041111  \n",
       "1    2690.871429  2833.988889  3410.305556  \n",
       "2     591.166667   629.444444   664.450000  \n",
       "3     971.723810   860.555556   824.680000  \n",
       "4     341.904762   346.037778   305.583333  \n",
       "..           ...          ...          ...  \n",
       "901   530.876190   554.102222   544.604444  \n",
       "902  1278.057143  1251.404444  1253.010000  \n",
       "903  1753.809524  1837.511111  1986.222222  \n",
       "904   425.833333   407.855556   361.844444  \n",
       "905   316.009524   308.117778   325.125556  \n",
       "\n",
       "[906 rows x 22 columns]"
      ]
     },
     "execution_count": 19,
     "metadata": {},
     "output_type": "execute_result"
    }
   ],
   "source": [
    "#reform 후\n",
    "train_fin"
   ]
  },
  {
   "cell_type": "markdown",
   "metadata": {},
   "source": [
    "### modeling\n",
    "* xgboost를 활용, test분할은 0.1만"
   ]
  },
  {
   "cell_type": "code",
   "execution_count": 20,
   "metadata": {
    "ExecuteTime": {
     "end_time": "2020-06-30T04:57:20.287621Z",
     "start_time": "2020-06-30T04:57:20.284618Z"
    }
   },
   "outputs": [],
   "source": [
    "col = [i for i in train_fin.columns if i not in ['store_id','y']]\n",
    "y = train_fin['y'].values"
   ]
  },
  {
   "cell_type": "code",
   "execution_count": 21,
   "metadata": {
    "ExecuteTime": {
     "end_time": "2020-06-30T04:57:20.292619Z",
     "start_time": "2020-06-30T04:57:20.288618Z"
    }
   },
   "outputs": [],
   "source": [
    "train_X, test_X, train_y, test_y = train_test_split(train_fin[col],y, test_size=0.1, random_state=2018)"
   ]
  },
  {
   "cell_type": "markdown",
   "metadata": {},
   "source": [
    "#### lgbm"
   ]
  },
  {
   "cell_type": "code",
   "execution_count": 22,
   "metadata": {
    "ExecuteTime": {
     "end_time": "2020-06-30T04:57:21.083796Z",
     "start_time": "2020-06-30T04:57:20.293619Z"
    }
   },
   "outputs": [
    {
     "name": "stdout",
     "output_type": "stream",
     "text": [
      "Training until validation scores don't improve for 500 rounds\n",
      "[100]\ttrain's rmse: 80257.4\ttrain's l2: 6.44125e+09\ttest's rmse: 30275.9\ttest's l2: 9.16629e+08\n",
      "[200]\ttrain's rmse: 79613.9\ttrain's l2: 6.33837e+09\ttest's rmse: 30499.7\ttest's l2: 9.3023e+08\n",
      "[300]\ttrain's rmse: 79334\ttrain's l2: 6.29389e+09\ttest's rmse: 30749.1\ttest's l2: 9.45509e+08\n",
      "[400]\ttrain's rmse: 79178.8\ttrain's l2: 6.26928e+09\ttest's rmse: 30896.9\ttest's l2: 9.5462e+08\n",
      "[500]\ttrain's rmse: 79082.2\ttrain's l2: 6.254e+09\ttest's rmse: 30993.2\ttest's l2: 9.60579e+08\n",
      "[600]\ttrain's rmse: 79015.4\ttrain's l2: 6.24343e+09\ttest's rmse: 30975.8\ttest's l2: 9.595e+08\n",
      "Early stopping, best iteration is:\n",
      "[118]\ttrain's rmse: 80100.1\ttrain's l2: 6.41603e+09\ttest's rmse: 30120.5\ttest's l2: 9.07244e+08\n"
     ]
    },
    {
     "data": {
      "text/plain": [
       "LGBMRegressor(n_estimators=30000)"
      ]
     },
     "execution_count": 22,
     "metadata": {},
     "output_type": "execute_result"
    }
   ],
   "source": [
    "lgbm = lightgbm.LGBMRegressor(learning_rate=0.1, n_estimators=30000)\n",
    "\n",
    "lgbm.fit(train_X,train_y,eval_set=[(train_X,train_y),(test_X,test_y)], eval_names=['train','test'],eval_metric='rmse',verbose=100, early_stopping_rounds= 500)"
   ]
  },
  {
   "cell_type": "code",
   "execution_count": 23,
   "metadata": {
    "ExecuteTime": {
     "end_time": "2020-06-30T04:57:21.091798Z",
     "start_time": "2020-06-30T04:57:21.084796Z"
    }
   },
   "outputs": [],
   "source": [
    "y_pred = lgbm.predict(test_X)"
   ]
  },
  {
   "cell_type": "code",
   "execution_count": 24,
   "metadata": {
    "ExecuteTime": {
     "end_time": "2020-06-30T04:57:21.094798Z",
     "start_time": "2020-06-30T04:57:21.092798Z"
    }
   },
   "outputs": [],
   "source": [
    "from sklearn.metrics import mean_squared_error"
   ]
  },
  {
   "cell_type": "code",
   "execution_count": 25,
   "metadata": {
    "ExecuteTime": {
     "end_time": "2020-06-30T04:57:21.099800Z",
     "start_time": "2020-06-30T04:57:21.095799Z"
    }
   },
   "outputs": [
    {
     "data": {
      "text/plain": [
       "30120.484413714657"
      ]
     },
     "execution_count": 25,
     "metadata": {},
     "output_type": "execute_result"
    }
   ],
   "source": [
    "np.sqrt(mean_squared_error(test_y, y_pred))"
   ]
  },
  {
   "cell_type": "code",
   "execution_count": 26,
   "metadata": {
    "ExecuteTime": {
     "end_time": "2020-06-30T04:57:21.102800Z",
     "start_time": "2020-06-30T04:57:21.100800Z"
    }
   },
   "outputs": [],
   "source": [
    "lgbm = lightgbm.LGBMRegressor(learning_rate=0.1, n_estimators=1000)"
   ]
  },
  {
   "cell_type": "code",
   "execution_count": 27,
   "metadata": {
    "ExecuteTime": {
     "end_time": "2020-06-30T04:57:22.457103Z",
     "start_time": "2020-06-30T04:57:21.103800Z"
    }
   },
   "outputs": [
    {
     "name": "stdout",
     "output_type": "stream",
     "text": [
      "Training until validation scores don't improve for 300 rounds\n",
      "[100]\ttraining's rmse: 63549.2\ttraining's l2: 4.0385e+09\n",
      "[200]\ttraining's rmse: 53519.5\ttraining's l2: 2.86433e+09\n",
      "[300]\ttraining's rmse: 45606.6\ttraining's l2: 2.07996e+09\n",
      "[400]\ttraining's rmse: 37710.8\ttraining's l2: 1.4221e+09\n",
      "[500]\ttraining's rmse: 31846.2\ttraining's l2: 1.01418e+09\n",
      "[600]\ttraining's rmse: 27384.1\ttraining's l2: 7.49888e+08\n",
      "[700]\ttraining's rmse: 23650.5\ttraining's l2: 5.59346e+08\n",
      "[800]\ttraining's rmse: 20674.1\ttraining's l2: 4.27418e+08\n",
      "[900]\ttraining's rmse: 18293.3\ttraining's l2: 3.34646e+08\n",
      "[1000]\ttraining's rmse: 16146\ttraining's l2: 2.60692e+08\n",
      "Did not meet early stopping. Best iteration is:\n",
      "[1000]\ttraining's rmse: 16146\ttraining's l2: 2.60692e+08\n"
     ]
    },
    {
     "data": {
      "text/plain": [
       "LGBMRegressor(n_estimators=1000)"
      ]
     },
     "execution_count": 27,
     "metadata": {},
     "output_type": "execute_result"
    }
   ],
   "source": [
    "lgbm.fit(train_fin,y,eval_metric='rmse',verbose=100, eval_set=[(train_fin,y)],early_stopping_rounds=300)"
   ]
  },
  {
   "cell_type": "code",
   "execution_count": 28,
   "metadata": {
    "ExecuteTime": {
     "end_time": "2020-06-30T04:57:22.468105Z",
     "start_time": "2020-06-30T04:57:22.458103Z"
    }
   },
   "outputs": [],
   "source": [
    "y_pred = lgbm.predict(test_fin)"
   ]
  },
  {
   "cell_type": "markdown",
   "metadata": {},
   "source": [
    "#### XGB"
   ]
  },
  {
   "cell_type": "code",
   "execution_count": 29,
   "metadata": {
    "ExecuteTime": {
     "end_time": "2020-06-30T04:57:22.474107Z",
     "start_time": "2020-06-30T04:57:22.469105Z"
    }
   },
   "outputs": [],
   "source": [
    "def XGB_regressor(train_X, train_y, test_X, test_y, metric, feature_name = None, seed_val = 2018, num_rounds = 3000):\n",
    "    params = {'objective' : 'reg:squarederror',\n",
    "              'learning_rate' : 0.05,\n",
    "              'max_depth' : 10,\n",
    "              'eval_metric': metric,#\n",
    "              'min_child_weight': 1,\n",
    "              'subsample': 0.7,\n",
    "              'colsample_bytree' : 0.7,\n",
    "              'seed': seed_val}\n",
    "    plst = list(params.items())\n",
    "    \n",
    "    xgtrain = xgb.DMatrix(train_X, label = train_y)\n",
    "    \n",
    "    if test_y is not None:\n",
    "        xgtest = xgb.DMatrix(test_X, label = test_y)\n",
    "        watchlist = [ (xgtrain, 'train'), (xgtest, 'test')]\n",
    "        model = xgb.train(plst, xgtrain, num_rounds, watchlist, early_stopping_rounds= 300,verbose_eval= 100)\n",
    "    else :\n",
    "        xgtest = xgb.DMatrix(test_X)\n",
    "        model = xgb.train(plst, xgtrain, num_rounds)\n",
    "        \n",
    "    return model"
   ]
  },
  {
   "cell_type": "code",
   "execution_count": 30,
   "metadata": {
    "ExecuteTime": {
     "end_time": "2020-06-30T04:57:22.947716Z",
     "start_time": "2020-06-30T04:57:22.475107Z"
    }
   },
   "outputs": [
    {
     "name": "stdout",
     "output_type": "stream",
     "text": [
      "[0]\ttrain-mae:70772.46875\ttest-mae:70710.32031\n",
      "Multiple eval metrics have been passed: 'test-mae' will be used for early stopping.\n",
      "\n",
      "Will train until test-mae hasn't improved in 300 rounds.\n",
      "[100]\ttrain-mae:3777.10156\ttest-mae:13821.57812\n",
      "[200]\ttrain-mae:1662.26575\ttest-mae:13788.00781\n",
      "[300]\ttrain-mae:732.37915\ttest-mae:13782.84082\n",
      "[400]\ttrain-mae:325.06516\ttest-mae:13810.90527\n",
      "Stopping. Best iteration:\n",
      "[155]\ttrain-mae:2382.86499\ttest-mae:13696.49609\n",
      "\n"
     ]
    }
   ],
   "source": [
    "model = XGB_regressor(train_X, train_y, test_X, test_y,'mae')"
   ]
  },
  {
   "cell_type": "code",
   "execution_count": 31,
   "metadata": {
    "ExecuteTime": {
     "end_time": "2020-06-30T04:57:23.438826Z",
     "start_time": "2020-06-30T04:57:22.948717Z"
    }
   },
   "outputs": [
    {
     "name": "stdout",
     "output_type": "stream",
     "text": [
      "[0]\ttrain-rmse:142892.68750\ttest-rmse:116447.28125\n",
      "Multiple eval metrics have been passed: 'test-rmse' will be used for early stopping.\n",
      "\n",
      "Will train until test-rmse hasn't improved in 300 rounds.\n",
      "[100]\ttrain-rmse:12702.62305\ttest-rmse:30103.52344\n",
      "[200]\ttrain-rmse:2737.90820\ttest-rmse:29411.41211\n",
      "[300]\ttrain-rmse:989.69238\ttest-rmse:29387.22852\n",
      "[400]\ttrain-rmse:435.31125\ttest-rmse:29396.12109\n",
      "[500]\ttrain-rmse:190.40916\ttest-rmse:29408.71875\n",
      "Stopping. Best iteration:\n",
      "[215]\ttrain-rmse:2302.21118\ttest-rmse:29350.26953\n",
      "\n"
     ]
    }
   ],
   "source": [
    "model = XGB_regressor(train_X, train_y, test_X, test_y, 'rmse')"
   ]
  },
  {
   "cell_type": "code",
   "execution_count": 54,
   "metadata": {
    "ExecuteTime": {
     "end_time": "2020-06-30T05:30:44.890695Z",
     "start_time": "2020-06-30T05:30:44.159541Z"
    }
   },
   "outputs": [
    {
     "data": {
      "image/png": "[encoded data removed]",
      "text/plain": [
       "<Figure size 864x1296 with 1 Axes>"
      ]
     },
     "metadata": {},
     "output_type": "display_data"
    }
   ],
   "source": [
    "fig, ax = plt.subplots(figsize=(12,18))\n",
    "xgb.plot_importance(model, max_num_features=50, height=0.8, ax=ax)\n",
    "plt.show()"
   ]
  },
  {
   "cell_type": "code",
   "execution_count": 32,
   "metadata": {
    "ExecuteTime": {
     "end_time": "2020-06-30T04:57:23.442827Z",
     "start_time": "2020-06-30T04:57:23.439826Z"
    }
   },
   "outputs": [],
   "source": [
    "## store_id 별로 정렬\n",
    "test_fin = test_fin.sort_values(by='store_id')"
   ]
  },
  {
   "cell_type": "code",
   "execution_count": 42,
   "metadata": {
    "ExecuteTime": {
     "end_time": "2020-06-30T04:59:13.056369Z",
     "start_time": "2020-06-30T04:59:13.050363Z"
    }
   },
   "outputs": [],
   "source": [
    "#몇가지 조정을 더 거친후 제출할 답변임\n",
    "y_pred = model.predict(xgb.DMatrix(test_fin[col]), ntree_limit = model.best_ntree_limit)"
   ]
  },
  {
   "cell_type": "code",
   "execution_count": 34,
   "metadata": {
    "ExecuteTime": {
     "end_time": "2020-06-30T04:57:23.459830Z",
     "start_time": "2020-06-30T04:57:23.451829Z"
    }
   },
   "outputs": [],
   "source": [
    "# 이상해서 한번 제출해봄 -> 오버피팅 과도하게되고 결과 안 좋음\n",
    "\n",
    "score = 29350.26953\n",
    "submission['total_sales'] = y_pred\n",
    "\n",
    "today = datetime.datetime.today().date()\n",
    "os.makedirs('./submission/',exist_ok=True)\n",
    "submission.to_csv(f'./submission/submission_{today}_xgb_{score}_rmse.csv',index=False)"
   ]
  },
  {
   "cell_type": "markdown",
   "metadata": {},
   "source": [
    "### 추가조정\n",
    "* 2~3월의 거래발생한 일자의 수를 세고 이를 일자별로 평균한 데이터 생성"
   ]
  },
  {
   "cell_type": "code",
   "execution_count": 35,
   "metadata": {
    "ExecuteTime": {
     "end_time": "2020-06-30T04:57:23.788904Z",
     "start_time": "2020-06-30T04:57:23.460830Z"
    }
   },
   "outputs": [],
   "source": [
    "store_id_list = test.store_id.unique()\n",
    "store_id_list.sort()\n",
    "\n",
    "feb_march = []\n",
    "for store_id in store_id_list:\n",
    "    mini = test[test.store_id == store_id]\n",
    "    march = mini[mini.temp_date >= datetime.datetime(2018,3,1)]['temp_date'].count()\n",
    "    feb = mini[mini.temp_date >= datetime.datetime(2018,2,1)]['temp_date'].count() - march \n",
    "    feb_march.append((march+feb)/2/31) "
   ]
  },
  {
   "cell_type": "code",
   "execution_count": 36,
   "metadata": {
    "ExecuteTime": {
     "end_time": "2020-06-30T04:57:23.792908Z",
     "start_time": "2020-06-30T04:57:23.789905Z"
    }
   },
   "outputs": [
    {
     "data": {
      "text/plain": [
       "0.6535483870967741"
      ]
     },
     "execution_count": 36,
     "metadata": {},
     "output_type": "execute_result"
    }
   ],
   "source": [
    "np.mean(feb_march)"
   ]
  },
  {
   "cell_type": "code",
   "execution_count": 37,
   "metadata": {
    "ExecuteTime": {
     "end_time": "2020-06-30T04:57:23.795906Z",
     "start_time": "2020-06-30T04:57:23.793905Z"
    }
   },
   "outputs": [],
   "source": [
    "#이전에 발견한 폐점한 곳 0으로 적용\n",
    "for c in closed_test_store:\n",
    "    y_pred[c] = 0"
   ]
  },
  {
   "cell_type": "code",
   "execution_count": 38,
   "metadata": {
    "ExecuteTime": {
     "end_time": "2020-06-30T04:57:23.799907Z",
     "start_time": "2020-06-30T04:57:23.796906Z"
    }
   },
   "outputs": [],
   "source": [
    "# At last the 'y_test' predicted from the trained model is adjusted with 'feb_march'.\n",
    "#\n",
    "# The last number 0.72 is an optimized number variable to make sure that no prediction exceeds the answer.\n",
    "# This is required as penalties are given."
   ]
  },
  {
   "cell_type": "code",
   "execution_count": null,
   "metadata": {},
   "outputs": [],
   "source": [
    "# 2~3별 일자 평균 수치로 값을 조정. \n",
    "# 0.72는 예측값이 초과(?)되지 않게 조정하는 값 (정환한 근거파악이 어렵)"
   ]
  },
  {
   "cell_type": "code",
   "execution_count": 39,
   "metadata": {
    "ExecuteTime": {
     "end_time": "2020-06-30T04:57:23.803907Z",
     "start_time": "2020-06-30T04:57:23.800907Z"
    }
   },
   "outputs": [],
   "source": [
    "for x in range(200):\n",
    "    y_pred[x] = y_pred[x] * feb_march[x] * 0.72"
   ]
  },
  {
   "cell_type": "code",
   "execution_count": 40,
   "metadata": {
    "ExecuteTime": {
     "end_time": "2020-06-30T04:57:23.810909Z",
     "start_time": "2020-06-30T04:57:23.804907Z"
    }
   },
   "outputs": [],
   "source": [
    "score = 13696.49609\n",
    "submission['total_sales'] = y_pred\n",
    "\n",
    "today = datetime.datetime.today().date()\n",
    "os.makedirs('./submission/',exist_ok=True)\n",
    "submission.to_csv(f'./submission/submission_{today}_xgb_{score}_adjust.csv',index=False)"
   ]
  }
 ],
 "metadata": {
  "kernelspec": {
   "display_name": "Python 3",
   "language": "python",
   "name": "python3"
  },
  "language_info": {
   "codemirror_mode": {
    "name": "ipython",
    "version": 3
   },
   "file_extension": ".py",
   "mimetype": "text/x-python",
   "name": "python",
   "nbconvert_exporter": "python",
   "pygments_lexer": "ipython3",
   "version": "3.7.7"
  },
  "toc": {
   "base_numbering": 1,
   "nav_menu": {},
   "number_sections": true,
   "sideBar": true,
   "skip_h1_title": false,
   "title_cell": "Table of Contents",
   "title_sidebar": "Contents",
   "toc_cell": false,
   "toc_position": {},
   "toc_section_display": true,
   "toc_window_display": false
  },
  "varInspector": {
   "cols": {
    "lenName": 16,
    "lenType": 16,
    "lenVar": 40
   },
   "kernels_config": {
    "python": {
     "delete_cmd_postfix": "",
     "delete_cmd_prefix": "del ",
     "library": "var_list.py",
     "varRefreshCmd": "print(var_dic_list())"
    },
    "r": {
     "delete_cmd_postfix": ") ",
     "delete_cmd_prefix": "rm(",
     "library": "var_list.r",
     "varRefreshCmd": "cat(var_dic_list()) "
    }
   },
   "types_to_exclude": [
    "module",
    "function",
    "builtin_function_or_method",
    "instance",
    "_Feature"
   ],
   "window_display": false
  }
 },
 "nbformat": 4,
 "nbformat_minor": 2
}
