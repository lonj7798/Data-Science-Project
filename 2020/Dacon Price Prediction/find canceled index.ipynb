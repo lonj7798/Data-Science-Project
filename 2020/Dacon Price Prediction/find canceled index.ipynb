{
 "cells": [
  {
   "cell_type": "code",
   "execution_count": 1,
   "metadata": {},
   "outputs": [],
   "source": [
    "# delete negative value:\n",
    "# 1. id와 amount의 절대값이 같은 값 찾기\n",
    "# 1-1. 취소된 거래 전날 거래들 중 가장 최근 값을 선택\n",
    "# 2. id와 amount의 절대 값이 없는 경우\n",
    "# 2-1. 대부분의 취소 내역들이 2016년 8월 전 거래내역들에 대한 취소로 예상"
   ]
  },
  {
   "cell_type": "code",
   "execution_count": 3,
   "metadata": {},
   "outputs": [],
   "source": [
    "import pandas as pd\n",
    "import numpy as np\n",
    "\n",
    "import matplotlib as mlp\n",
    "import matplotlib.pyplot as plt\n",
    "import seaborn as sns\n",
    "%matplotlib inline\n",
    "\n",
    "import datetime as dt"
   ]
  },
  {
   "cell_type": "code",
   "execution_count": 4,
   "metadata": {},
   "outputs": [],
   "source": [
    "train = pd.read_csv(\"../../Data/Price prediction/train.csv\")\n",
    "test = pd.read_csv(\"../../Data/Price prediction/test.csv\")"
   ]
  },
  {
   "cell_type": "code",
   "execution_count": 3,
   "metadata": {},
   "outputs": [
    {
     "name": "stdout",
     "output_type": "stream",
     "text": [
      "shape of the train: (3362796, 8)\n",
      "shape of the test: (473392, 8)\n"
     ]
    }
   ],
   "source": [
    "print(\"shape of the train:\", train.shape)\n",
    "print(\"shape of the test:\", test.shape)\n",
    "# 8개의 feature"
   ]
  },
  {
   "cell_type": "code",
   "execution_count": 356,
   "metadata": {},
   "outputs": [],
   "source": [
    "# datetime 타입으로 변경\n",
    "# is_calceled feature 추가\n",
    "\n",
    "combine = [train, test]\n",
    "\n",
    "for data in combine:\n",
    "    data['is_canceled'] = data['amount'].map(lambda x: 1 if x < 0 else 0)\n",
    "    data['date'] = pd.to_datetime(data['date'])"
   ]
  },
  {
   "cell_type": "code",
   "execution_count": 5,
   "metadata": {
    "scrolled": false
   },
   "outputs": [
    {
     "data": {
      "text/html": [
       "<div>\n",
       "<style scoped>\n",
       "    .dataframe tbody tr th:only-of-type {\n",
       "        vertical-align: middle;\n",
       "    }\n",
       "\n",
       "    .dataframe tbody tr th {\n",
       "        vertical-align: top;\n",
       "    }\n",
       "\n",
       "    .dataframe thead th {\n",
       "        text-align: right;\n",
       "    }\n",
       "</style>\n",
       "<table border=\"1\" class=\"dataframe\">\n",
       "  <thead>\n",
       "    <tr style=\"text-align: right;\">\n",
       "      <th></th>\n",
       "      <th></th>\n",
       "      <th>amount</th>\n",
       "      <th>installments</th>\n",
       "      <th>days_of_week</th>\n",
       "      <th>holyday</th>\n",
       "      <th>is_canceled</th>\n",
       "    </tr>\n",
       "    <tr>\n",
       "      <th>store_id</th>\n",
       "      <th>date</th>\n",
       "      <th></th>\n",
       "      <th></th>\n",
       "      <th></th>\n",
       "      <th></th>\n",
       "      <th></th>\n",
       "    </tr>\n",
       "  </thead>\n",
       "  <tbody>\n",
       "    <tr>\n",
       "      <th rowspan=\"5\" valign=\"top\">5</th>\n",
       "      <th>2016-08-31</th>\n",
       "      <td>-3900</td>\n",
       "      <td>0.0</td>\n",
       "      <td>2</td>\n",
       "      <td>0</td>\n",
       "      <td>1</td>\n",
       "    </tr>\n",
       "    <tr>\n",
       "      <th>2016-09-17</th>\n",
       "      <td>-750</td>\n",
       "      <td>0.0</td>\n",
       "      <td>5</td>\n",
       "      <td>0</td>\n",
       "      <td>1</td>\n",
       "    </tr>\n",
       "    <tr>\n",
       "      <th>2017-04-20</th>\n",
       "      <td>-1000</td>\n",
       "      <td>0.0</td>\n",
       "      <td>3</td>\n",
       "      <td>0</td>\n",
       "      <td>1</td>\n",
       "    </tr>\n",
       "    <tr>\n",
       "      <th>2017-09-09</th>\n",
       "      <td>-1000</td>\n",
       "      <td>0.0</td>\n",
       "      <td>5</td>\n",
       "      <td>0</td>\n",
       "      <td>1</td>\n",
       "    </tr>\n",
       "    <tr>\n",
       "      <th>2017-12-17</th>\n",
       "      <td>-500</td>\n",
       "      <td>0.0</td>\n",
       "      <td>6</td>\n",
       "      <td>0</td>\n",
       "      <td>1</td>\n",
       "    </tr>\n",
       "    <tr>\n",
       "      <th>...</th>\n",
       "      <th>...</th>\n",
       "      <td>...</td>\n",
       "      <td>...</td>\n",
       "      <td>...</td>\n",
       "      <td>...</td>\n",
       "      <td>...</td>\n",
       "    </tr>\n",
       "    <tr>\n",
       "      <th rowspan=\"3\" valign=\"top\">1769</th>\n",
       "      <th>2017-08-18</th>\n",
       "      <td>-75</td>\n",
       "      <td>0.0</td>\n",
       "      <td>8</td>\n",
       "      <td>0</td>\n",
       "      <td>1</td>\n",
       "    </tr>\n",
       "    <tr>\n",
       "      <th>2017-09-09</th>\n",
       "      <td>-850</td>\n",
       "      <td>0.0</td>\n",
       "      <td>10</td>\n",
       "      <td>0</td>\n",
       "      <td>1</td>\n",
       "    </tr>\n",
       "    <tr>\n",
       "      <th>2018-02-06</th>\n",
       "      <td>-1380</td>\n",
       "      <td>6.0</td>\n",
       "      <td>1</td>\n",
       "      <td>0</td>\n",
       "      <td>1</td>\n",
       "    </tr>\n",
       "    <tr>\n",
       "      <th>1770</th>\n",
       "      <th>2017-11-07</th>\n",
       "      <td>-220</td>\n",
       "      <td>0.0</td>\n",
       "      <td>2</td>\n",
       "      <td>0</td>\n",
       "      <td>1</td>\n",
       "    </tr>\n",
       "    <tr>\n",
       "      <th>1783</th>\n",
       "      <th>2017-07-18</th>\n",
       "      <td>-3000</td>\n",
       "      <td>3.0</td>\n",
       "      <td>1</td>\n",
       "      <td>0</td>\n",
       "      <td>1</td>\n",
       "    </tr>\n",
       "  </tbody>\n",
       "</table>\n",
       "<p>643 rows × 5 columns</p>\n",
       "</div>"
      ],
      "text/plain": [
       "                     amount  installments  days_of_week  holyday  is_canceled\n",
       "store_id date                                                                \n",
       "5        2016-08-31   -3900           0.0             2        0            1\n",
       "         2016-09-17    -750           0.0             5        0            1\n",
       "         2017-04-20   -1000           0.0             3        0            1\n",
       "         2017-09-09   -1000           0.0             5        0            1\n",
       "         2017-12-17    -500           0.0             6        0            1\n",
       "...                     ...           ...           ...      ...          ...\n",
       "1769     2017-08-18     -75           0.0             8        0            1\n",
       "         2017-09-09    -850           0.0            10        0            1\n",
       "         2018-02-06   -1380           6.0             1        0            1\n",
       "1770     2017-11-07    -220           0.0             2        0            1\n",
       "1783     2017-07-18   -3000           3.0             1        0            1\n",
       "\n",
       "[643 rows x 5 columns]"
      ]
     },
     "execution_count": 5,
     "metadata": {},
     "output_type": "execute_result"
    }
   ],
   "source": [
    "temp = train.groupby([\"store_id\", \"date\"]).sum()\n",
    "temp[temp['amount'] <0]\n",
    "\n",
    "# Pre-processing for data cleaning 어떤 스토어들은 return 때문에 하루 매출 자체가 음수가 되는 경우도 있음."
   ]
  },
  {
   "cell_type": "markdown",
   "metadata": {},
   "source": [
    "이 음수들을 제거하기 위해 카드 아이디를 이용하여 같은 카드의 negative transaction의 시간보다 작으면서 가장 최근 transaction 중\n",
    "\n",
    "1) 절대값이 같은 양수 가격의 transaction 을 제거 혹은\n",
    "\n",
    "2) 절대값이 더 큰 양수 가격의 transaction 에서 음수 transaction의 가격을 빼는 방법으로 음수들을 제거."
   ]
  },
  {
   "cell_type": "code",
   "execution_count": 7,
   "metadata": {},
   "outputs": [],
   "source": [
    "neg = train[train['amount'] < 0][['card_id', 'amount', 'date']]\n",
    "neg_index = neg.index"
   ]
  },
  {
   "cell_type": "code",
   "execution_count": 57,
   "metadata": {
    "scrolled": true
   },
   "outputs": [],
   "source": [
    "\"\"\"def index_of_return(data):\n",
    "    data = data.iloc[:, [3,4]]\n",
    "    neg = data[data['amount'] < 0][['card_id', 'amount']]\n",
    "    neg_index = neg.index\n",
    "\n",
    "    index_temp = []\n",
    "    \n",
    "    for i in neg_index:\n",
    "        neg_index_ = neg.index.get_loc(i)\n",
    "        neg_id, neg_amount = neg.iloc[neg_index_].card_id, neg.iloc[neg_index_].amount\n",
    "        \n",
    "        temp = abs(data[(data['card_id'] == neg_id) & ((data['amount'] == -neg_amount))].index - i).min()\n",
    "        index_temp.append(temp)\n",
    "        print(i, temp)\n",
    "        \n",
    "    return index_temp\"\"\""
   ]
  },
  {
   "cell_type": "code",
   "execution_count": 235,
   "metadata": {},
   "outputs": [],
   "source": [
    "def index_change(neg_index):\n",
    "    neg_index_ = []\n",
    "    \n",
    "    for i in neg_index:\n",
    "        neg_index_.append(neg.index.get_loc(i))\n",
    "        \n",
    "    return neg_index_\n",
    "\n",
    "def index_of_return(data):\n",
    "    data = data.iloc[:, [1, 3,4]]\n",
    "    neg = data[data['amount'] < 0][['card_id', 'amount', 'date']]\n",
    "    neg_index = neg.index\n",
    "    neg_index_ = index_change(neg_index)\n",
    "    \n",
    "    index_return = pd.DataFrame(index=neg_index, columns=[\"canceled_index\"])\n",
    "    \n",
    "    for i, j in zip(neg_index, neg_index_):\n",
    "        neg_index_ = neg.index.get_loc(i)\n",
    "        neg_id, neg_amount = neg.iloc[neg_index_].card_id, neg.iloc[j].amount\n",
    "        \n",
    "        temp = abs(data[(data['card_id'] == neg_id) & ((data['amount'] == -neg_amount))].date - neg.iloc[j].date)\n",
    "        \n",
    "        if not temp.empty:\n",
    "            index_return.iloc[j] = temp.idxmin()\n",
    "        else:\n",
    "            index_return.iloc[j] = np.NaN\n",
    "            print(\"no matching value:\", i)\n",
    "               \n",
    "    return index_return"
   ]
  },
  {
   "cell_type": "code",
   "execution_count": null,
   "metadata": {},
   "outputs": [],
   "source": [
    "index_train = index_of_return(train)\n",
    "# 전체 중 9건의 환불내역을 찾을 수 없음."
   ]
  },
  {
   "cell_type": "code",
   "execution_count": 233,
   "metadata": {},
   "outputs": [],
   "source": [
    "index_train.index.name = 'neg'\n",
    "index_train.columns = ['pos']\n",
    "index_train.to_csv(\"canceled_index_train.csv\")"
   ]
  },
  {
   "cell_type": "code",
   "execution_count": 229,
   "metadata": {},
   "outputs": [],
   "source": [
    "index_train.to_csv(\"canceled_index_train.csv\")"
   ]
  },
  {
   "cell_type": "code",
   "execution_count": null,
   "metadata": {},
   "outputs": [],
   "source": [
    "index_test = index_of_return(test)\n",
    "# 전체 중 3건의 환불내역을 찾을 수 없음."
   ]
  },
  {
   "cell_type": "code",
   "execution_count": 237,
   "metadata": {},
   "outputs": [],
   "source": [
    "index_test.index.name = 'neg'\n",
    "index_test.columns = ['pos']\n",
    "index_test.to_csv(\"canceled_index_train.csv\")"
   ]
  },
  {
   "cell_type": "code",
   "execution_count": 238,
   "metadata": {},
   "outputs": [],
   "source": [
    "index_test.to_csv(\"canceled_index_test.csv\")"
   ]
  },
  {
   "cell_type": "markdown",
   "metadata": {},
   "source": [
    "### train_pos"
   ]
  },
  {
   "cell_type": "code",
   "execution_count": 362,
   "metadata": {},
   "outputs": [
    {
     "data": {
      "text/plain": [
       "neg    0\n",
       "pos    9\n",
       "dtype: int64"
      ]
     },
     "execution_count": 362,
     "metadata": {},
     "output_type": "execute_result"
    }
   ],
   "source": [
    "train_index = pd.read_csv(\"canceled_index_train.csv\")\n",
    "train_index.isnull().sum()\n",
    "\n",
    "# 9개가 빔 "
   ]
  },
  {
   "cell_type": "code",
   "execution_count": 315,
   "metadata": {
    "scrolled": true
   },
   "outputs": [
    {
     "data": {
      "text/html": [
       "<div>\n",
       "<style scoped>\n",
       "    .dataframe tbody tr th:only-of-type {\n",
       "        vertical-align: middle;\n",
       "    }\n",
       "\n",
       "    .dataframe tbody tr th {\n",
       "        vertical-align: top;\n",
       "    }\n",
       "\n",
       "    .dataframe thead th {\n",
       "        text-align: right;\n",
       "    }\n",
       "</style>\n",
       "<table border=\"1\" class=\"dataframe\">\n",
       "  <thead>\n",
       "    <tr style=\"text-align: right;\">\n",
       "      <th></th>\n",
       "      <th>neg</th>\n",
       "      <th>pos</th>\n",
       "    </tr>\n",
       "  </thead>\n",
       "  <tbody>\n",
       "    <tr>\n",
       "      <th>2824</th>\n",
       "      <td>400700</td>\n",
       "      <td>NaN</td>\n",
       "    </tr>\n",
       "    <tr>\n",
       "      <th>10176</th>\n",
       "      <td>702984</td>\n",
       "      <td>NaN</td>\n",
       "    </tr>\n",
       "    <tr>\n",
       "      <th>14237</th>\n",
       "      <td>1200075</td>\n",
       "      <td>NaN</td>\n",
       "    </tr>\n",
       "    <tr>\n",
       "      <th>19364</th>\n",
       "      <td>1886600</td>\n",
       "      <td>NaN</td>\n",
       "    </tr>\n",
       "    <tr>\n",
       "      <th>19420</th>\n",
       "      <td>1887488</td>\n",
       "      <td>NaN</td>\n",
       "    </tr>\n",
       "    <tr>\n",
       "      <th>19423</th>\n",
       "      <td>1887491</td>\n",
       "      <td>NaN</td>\n",
       "    </tr>\n",
       "    <tr>\n",
       "      <th>29091</th>\n",
       "      <td>2785057</td>\n",
       "      <td>NaN</td>\n",
       "    </tr>\n",
       "    <tr>\n",
       "      <th>33134</th>\n",
       "      <td>3291183</td>\n",
       "      <td>NaN</td>\n",
       "    </tr>\n",
       "    <tr>\n",
       "      <th>33240</th>\n",
       "      <td>3300080</td>\n",
       "      <td>NaN</td>\n",
       "    </tr>\n",
       "  </tbody>\n",
       "</table>\n",
       "</div>"
      ],
      "text/plain": [
       "           neg  pos\n",
       "2824    400700  NaN\n",
       "10176   702984  NaN\n",
       "14237  1200075  NaN\n",
       "19364  1886600  NaN\n",
       "19420  1887488  NaN\n",
       "19423  1887491  NaN\n",
       "29091  2785057  NaN\n",
       "33134  3291183  NaN\n",
       "33240  3300080  NaN"
      ]
     },
     "execution_count": 315,
     "metadata": {},
     "output_type": "execute_result"
    }
   ],
   "source": [
    "temp = train_index['pos'].index[train_index['pos'].apply(np.isnan)]\n",
    "train_index.iloc[temp]"
   ]
  },
  {
   "cell_type": "code",
   "execution_count": 316,
   "metadata": {
    "scrolled": true
   },
   "outputs": [
    {
     "data": {
      "text/html": [
       "<div>\n",
       "<style scoped>\n",
       "    .dataframe tbody tr th:only-of-type {\n",
       "        vertical-align: middle;\n",
       "    }\n",
       "\n",
       "    .dataframe tbody tr th {\n",
       "        vertical-align: top;\n",
       "    }\n",
       "\n",
       "    .dataframe thead th {\n",
       "        text-align: right;\n",
       "    }\n",
       "</style>\n",
       "<table border=\"1\" class=\"dataframe\">\n",
       "  <thead>\n",
       "    <tr style=\"text-align: right;\">\n",
       "      <th></th>\n",
       "      <th>store_id</th>\n",
       "      <th>date</th>\n",
       "      <th>time</th>\n",
       "      <th>card_id</th>\n",
       "      <th>amount</th>\n",
       "      <th>installments</th>\n",
       "      <th>days_of_week</th>\n",
       "      <th>holyday</th>\n",
       "      <th>is_canceled</th>\n",
       "    </tr>\n",
       "  </thead>\n",
       "  <tbody>\n",
       "    <tr>\n",
       "      <th>400700</th>\n",
       "      <td>138</td>\n",
       "      <td>2016-08-01</td>\n",
       "      <td>17:56:07</td>\n",
       "      <td>65be030b0f</td>\n",
       "      <td>-180</td>\n",
       "      <td>NaN</td>\n",
       "      <td>0</td>\n",
       "      <td>0</td>\n",
       "      <td>1</td>\n",
       "    </tr>\n",
       "    <tr>\n",
       "      <th>702984</th>\n",
       "      <td>284</td>\n",
       "      <td>2016-08-02</td>\n",
       "      <td>12:08:26</td>\n",
       "      <td>3c71002f18</td>\n",
       "      <td>-197</td>\n",
       "      <td>NaN</td>\n",
       "      <td>1</td>\n",
       "      <td>0</td>\n",
       "      <td>1</td>\n",
       "    </tr>\n",
       "    <tr>\n",
       "      <th>1200075</th>\n",
       "      <td>508</td>\n",
       "      <td>2016-08-01</td>\n",
       "      <td>18:43:39</td>\n",
       "      <td>7e74575056</td>\n",
       "      <td>-330</td>\n",
       "      <td>NaN</td>\n",
       "      <td>0</td>\n",
       "      <td>0</td>\n",
       "      <td>1</td>\n",
       "    </tr>\n",
       "    <tr>\n",
       "      <th>1886600</th>\n",
       "      <td>958</td>\n",
       "      <td>2016-08-29</td>\n",
       "      <td>14:12:16</td>\n",
       "      <td>610fa6d878</td>\n",
       "      <td>-1590</td>\n",
       "      <td>NaN</td>\n",
       "      <td>0</td>\n",
       "      <td>0</td>\n",
       "      <td>1</td>\n",
       "    </tr>\n",
       "    <tr>\n",
       "      <th>1887488</th>\n",
       "      <td>958</td>\n",
       "      <td>2016-11-08</td>\n",
       "      <td>19:35:35</td>\n",
       "      <td>a7416614f6</td>\n",
       "      <td>-821</td>\n",
       "      <td>NaN</td>\n",
       "      <td>1</td>\n",
       "      <td>0</td>\n",
       "      <td>1</td>\n",
       "    </tr>\n",
       "    <tr>\n",
       "      <th>1887491</th>\n",
       "      <td>958</td>\n",
       "      <td>2016-11-08</td>\n",
       "      <td>19:35:35</td>\n",
       "      <td>a7416614f6</td>\n",
       "      <td>-191</td>\n",
       "      <td>NaN</td>\n",
       "      <td>1</td>\n",
       "      <td>0</td>\n",
       "      <td>1</td>\n",
       "    </tr>\n",
       "    <tr>\n",
       "      <th>2785057</th>\n",
       "      <td>1478</td>\n",
       "      <td>2016-08-04</td>\n",
       "      <td>19:37:01</td>\n",
       "      <td>8589f5980e</td>\n",
       "      <td>-11250</td>\n",
       "      <td>NaN</td>\n",
       "      <td>3</td>\n",
       "      <td>0</td>\n",
       "      <td>1</td>\n",
       "    </tr>\n",
       "    <tr>\n",
       "      <th>3291183</th>\n",
       "      <td>1760</td>\n",
       "      <td>2016-12-27</td>\n",
       "      <td>19:41:03</td>\n",
       "      <td>c43fee0edb</td>\n",
       "      <td>-4980</td>\n",
       "      <td>3.0</td>\n",
       "      <td>1</td>\n",
       "      <td>0</td>\n",
       "      <td>1</td>\n",
       "    </tr>\n",
       "    <tr>\n",
       "      <th>3300080</th>\n",
       "      <td>1769</td>\n",
       "      <td>2016-08-02</td>\n",
       "      <td>17:50:19</td>\n",
       "      <td>5c127f94cd</td>\n",
       "      <td>-190</td>\n",
       "      <td>NaN</td>\n",
       "      <td>1</td>\n",
       "      <td>0</td>\n",
       "      <td>1</td>\n",
       "    </tr>\n",
       "  </tbody>\n",
       "</table>\n",
       "</div>"
      ],
      "text/plain": [
       "         store_id       date      time     card_id  amount  installments  \\\n",
       "400700        138 2016-08-01  17:56:07  65be030b0f    -180           NaN   \n",
       "702984        284 2016-08-02  12:08:26  3c71002f18    -197           NaN   \n",
       "1200075       508 2016-08-01  18:43:39  7e74575056    -330           NaN   \n",
       "1886600       958 2016-08-29  14:12:16  610fa6d878   -1590           NaN   \n",
       "1887488       958 2016-11-08  19:35:35  a7416614f6    -821           NaN   \n",
       "1887491       958 2016-11-08  19:35:35  a7416614f6    -191           NaN   \n",
       "2785057      1478 2016-08-04  19:37:01  8589f5980e  -11250           NaN   \n",
       "3291183      1760 2016-12-27  19:41:03  c43fee0edb   -4980           3.0   \n",
       "3300080      1769 2016-08-02  17:50:19  5c127f94cd    -190           NaN   \n",
       "\n",
       "         days_of_week  holyday  is_canceled  \n",
       "400700              0        0            1  \n",
       "702984              1        0            1  \n",
       "1200075             0        0            1  \n",
       "1886600             0        0            1  \n",
       "1887488             1        0            1  \n",
       "1887491             1        0            1  \n",
       "2785057             3        0            1  \n",
       "3291183             1        0            1  \n",
       "3300080             1        0            1  "
      ]
     },
     "execution_count": 316,
     "metadata": {},
     "output_type": "execute_result"
    }
   ],
   "source": [
    "temp = train.iloc[train_index.iloc[temp, 0]]\n",
    "temp\n",
    "\n",
    "# 모든 데이터가 2016년의 것임\n",
    "# 아마도 데이터의 시작인 2016-08-01 이전의 거래내역에 대한 취소로 추정됨."
   ]
  },
  {
   "cell_type": "markdown",
   "metadata": {},
   "source": [
    "### test_pos"
   ]
  },
  {
   "cell_type": "code",
   "execution_count": 317,
   "metadata": {},
   "outputs": [
    {
     "data": {
      "text/plain": [
       "neg    0\n",
       "pos    3\n",
       "dtype: int64"
      ]
     },
     "execution_count": 317,
     "metadata": {},
     "output_type": "execute_result"
    }
   ],
   "source": [
    "test_index = pd.read_csv(\"canceled_index_test.csv\")\n",
    "test_index.isnull().sum()\n",
    "\n",
    "# 3개가 빔"
   ]
  },
  {
   "cell_type": "code",
   "execution_count": 318,
   "metadata": {},
   "outputs": [
    {
     "data": {
      "text/html": [
       "<div>\n",
       "<style scoped>\n",
       "    .dataframe tbody tr th:only-of-type {\n",
       "        vertical-align: middle;\n",
       "    }\n",
       "\n",
       "    .dataframe tbody tr th {\n",
       "        vertical-align: top;\n",
       "    }\n",
       "\n",
       "    .dataframe thead th {\n",
       "        text-align: right;\n",
       "    }\n",
       "</style>\n",
       "<table border=\"1\" class=\"dataframe\">\n",
       "  <thead>\n",
       "    <tr style=\"text-align: right;\">\n",
       "      <th></th>\n",
       "      <th>neg</th>\n",
       "      <th>pos</th>\n",
       "    </tr>\n",
       "  </thead>\n",
       "  <tbody>\n",
       "    <tr>\n",
       "      <th>6945</th>\n",
       "      <td>337285</td>\n",
       "      <td>NaN</td>\n",
       "    </tr>\n",
       "    <tr>\n",
       "      <th>7266</th>\n",
       "      <td>379999</td>\n",
       "      <td>NaN</td>\n",
       "    </tr>\n",
       "    <tr>\n",
       "      <th>7904</th>\n",
       "      <td>470609</td>\n",
       "      <td>NaN</td>\n",
       "    </tr>\n",
       "  </tbody>\n",
       "</table>\n",
       "</div>"
      ],
      "text/plain": [
       "         neg  pos\n",
       "6945  337285  NaN\n",
       "7266  379999  NaN\n",
       "7904  470609  NaN"
      ]
     },
     "execution_count": 318,
     "metadata": {},
     "output_type": "execute_result"
    }
   ],
   "source": [
    "temp = test_index['pos'].index[test_index['pos'].apply(np.isnan)]\n",
    "test_index.iloc[temp]"
   ]
  },
  {
   "cell_type": "code",
   "execution_count": 319,
   "metadata": {},
   "outputs": [
    {
     "data": {
      "text/html": [
       "<div>\n",
       "<style scoped>\n",
       "    .dataframe tbody tr th:only-of-type {\n",
       "        vertical-align: middle;\n",
       "    }\n",
       "\n",
       "    .dataframe tbody tr th {\n",
       "        vertical-align: top;\n",
       "    }\n",
       "\n",
       "    .dataframe thead th {\n",
       "        text-align: right;\n",
       "    }\n",
       "</style>\n",
       "<table border=\"1\" class=\"dataframe\">\n",
       "  <thead>\n",
       "    <tr style=\"text-align: right;\">\n",
       "      <th></th>\n",
       "      <th>store_id</th>\n",
       "      <th>date</th>\n",
       "      <th>time</th>\n",
       "      <th>card_id</th>\n",
       "      <th>amount</th>\n",
       "      <th>installments</th>\n",
       "      <th>days_of_week</th>\n",
       "      <th>holyday</th>\n",
       "      <th>is_canceled</th>\n",
       "    </tr>\n",
       "  </thead>\n",
       "  <tbody>\n",
       "    <tr>\n",
       "      <th>337285</th>\n",
       "      <td>129</td>\n",
       "      <td>2016-08-02</td>\n",
       "      <td>19:41:37</td>\n",
       "      <td>a5180934ff</td>\n",
       "      <td>-1400</td>\n",
       "      <td>NaN</td>\n",
       "      <td>1</td>\n",
       "      <td>0</td>\n",
       "      <td>1</td>\n",
       "    </tr>\n",
       "    <tr>\n",
       "      <th>379999</th>\n",
       "      <td>153</td>\n",
       "      <td>2016-08-08</td>\n",
       "      <td>09:22:43</td>\n",
       "      <td>6a86be3194</td>\n",
       "      <td>-215</td>\n",
       "      <td>NaN</td>\n",
       "      <td>0</td>\n",
       "      <td>0</td>\n",
       "      <td>1</td>\n",
       "    </tr>\n",
       "    <tr>\n",
       "      <th>470609</th>\n",
       "      <td>196</td>\n",
       "      <td>2016-08-19</td>\n",
       "      <td>19:38:04</td>\n",
       "      <td>4deead4fa6</td>\n",
       "      <td>-750</td>\n",
       "      <td>NaN</td>\n",
       "      <td>4</td>\n",
       "      <td>0</td>\n",
       "      <td>1</td>\n",
       "    </tr>\n",
       "  </tbody>\n",
       "</table>\n",
       "</div>"
      ],
      "text/plain": [
       "        store_id       date      time     card_id  amount  installments  \\\n",
       "337285       129 2016-08-02  19:41:37  a5180934ff   -1400           NaN   \n",
       "379999       153 2016-08-08  09:22:43  6a86be3194    -215           NaN   \n",
       "470609       196 2016-08-19  19:38:04  4deead4fa6    -750           NaN   \n",
       "\n",
       "        days_of_week  holyday  is_canceled  \n",
       "337285             1        0            1  \n",
       "379999             0        0            1  \n",
       "470609             4        0            1  "
      ]
     },
     "execution_count": 319,
     "metadata": {},
     "output_type": "execute_result"
    }
   ],
   "source": [
    "temp = test.iloc[test_index.iloc[temp, 0]]\n",
    "temp\n",
    "\n",
    "# 모든 데이터가 2016년의 것임\n",
    "# 아마도 데이터의 시작인 2016-08-01 이전의 거래내역에 대한 취소로 추정됨."
   ]
  },
  {
   "cell_type": "code",
   "execution_count": 322,
   "metadata": {},
   "outputs": [],
   "source": [
    "# 2016뇬 8월 31일 이전의 거래내역임.\n",
    "# 삭제하기"
   ]
  },
  {
   "cell_type": "code",
   "execution_count": 371,
   "metadata": {},
   "outputs": [],
   "source": [
    "neg = train_index.neg\n",
    "pos = train_index.pos.dropna().astype(int)\n",
    "temp = pd.concat([neg, pos])\n",
    "train_ = train.drop(train.index[temp])\n",
    "train_.to_csv(\"train_pos.csv\", index=False)"
   ]
  },
  {
   "cell_type": "code",
   "execution_count": 372,
   "metadata": {},
   "outputs": [],
   "source": [
    "neg = test_index.neg\n",
    "pos = test_index.pos.dropna().astype(int)\n",
    "temp = pd.concat([neg, pos])\n",
    "test_ = test.drop(test.index[temp])\n",
    "test_.to_csv(\"test_pos.csv\", index=False)"
   ]
  }
 ],
 "metadata": {
  "kernelspec": {
   "display_name": "Python 3",
   "language": "python",
   "name": "python3"
  },
  "language_info": {
   "codemirror_mode": {
    "name": "ipython",
    "version": 3
   },
   "file_extension": ".py",
   "mimetype": "text/x-python",
   "name": "python",
   "nbconvert_exporter": "python",
   "pygments_lexer": "ipython3",
   "version": "3.7.7"
  }
 },
 "nbformat": 4,
 "nbformat_minor": 4
}
