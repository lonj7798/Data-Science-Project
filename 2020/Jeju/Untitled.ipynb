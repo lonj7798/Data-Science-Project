{
 "cells": [
  {
   "cell_type": "code",
   "execution_count": 1,
   "metadata": {},
   "outputs": [],
   "source": [
    "import pandas as pd\n",
    "import numpy as np"
   ]
  },
  {
   "cell_type": "code",
   "execution_count": 4,
   "metadata": {},
   "outputs": [],
   "source": [
    "file = \"submission/\""
   ]
  },
  {
   "cell_type": "code",
   "execution_count": 12,
   "metadata": {},
   "outputs": [],
   "source": [
    "a = pd.read_csv(file + \"submission 0730 only 2019.csv\")\n",
    "b = pd.read_csv(file + \"submission_prophet_30.csv\")\n",
    "c = pd.read_csv(file + \"submission lgbm 0728 valid Jan trade.csv\")\n",
    "d = pd.read_csv(file + \"submission lgbm 0728 valid Jan.csv\")\n",
    "e = pd.read_csv(file + \"submission lgbm 0728 valid Jan_regression.csv\")\n",
    "f = pd.read_csv(file + \"submission lgbm 0728 valid Jan_regression_re.csv\")\n",
    "g = pd.read_csv(file + \"submission lgbm 0728 valid Jan_regression_re_re.csv\")\n",
    "h = pd.read_csv(file + \"submission lgbm 0728 valid March_re regression.csv\")\n",
    "i = pd.read_csv(file + \"submission lgbm 0728 valid March_re.csv\")"
   ]
  },
  {
   "cell_type": "code",
   "execution_count": 16,
   "metadata": {},
   "outputs": [
    {
     "data": {
      "text/plain": [
       "0       7.123788e+07\n",
       "1       4.066461e+09\n",
       "2       1.020203e+09\n",
       "3       1.339356e+07\n",
       "4       1.910585e+03\n",
       "            ...     \n",
       "1389    1.136743e+09\n",
       "1390    2.043224e+10\n",
       "1391    1.805540e+07\n",
       "1392    3.841353e+08\n",
       "1393    1.026654e+08\n",
       "Name: AMT, Length: 1394, dtype: float64"
      ]
     },
     "execution_count": 16,
     "metadata": {},
     "output_type": "execute_result"
    }
   ],
   "source": [
    "(a['AMT'] + b['AMT'] + c['AMT'] + d['AMT'] + e['AMT'] + f['AMT'] + g['AMT'] + h['AMT'] + i['AMT'])/9"
   ]
  },
  {
   "cell_type": "code",
   "execution_count": 10,
   "metadata": {},
   "outputs": [],
   "source": [
    "l = (a+c+d+e+f+g+h).mean()"
   ]
  },
  {
   "cell_type": "code",
   "execution_count": 11,
   "metadata": {},
   "outputs": [
    {
     "data": {
      "text/plain": [
       "id          4.875500e+03\n",
       "REG_YYMM    1.414038e+06\n",
       "AMT         4.655792e+10\n",
       "dtype: float64"
      ]
     },
     "execution_count": 11,
     "metadata": {},
     "output_type": "execute_result"
    }
   ],
   "source": [
    "l"
   ]
  }
 ],
 "metadata": {
  "kernelspec": {
   "display_name": "Python 3",
   "language": "python",
   "name": "python3"
  },
  "language_info": {
   "codemirror_mode": {
    "name": "ipython",
    "version": 3
   },
   "file_extension": ".py",
   "mimetype": "text/x-python",
   "name": "python",
   "nbconvert_exporter": "python",
   "pygments_lexer": "ipython3",
   "version": "3.7.7"
  }
 },
 "nbformat": 4,
 "nbformat_minor": 4
}
