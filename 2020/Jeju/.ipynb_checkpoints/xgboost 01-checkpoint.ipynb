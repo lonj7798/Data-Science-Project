{
 "cells": [
  {
   "cell_type": "code",
   "execution_count": 2,
   "metadata": {},
   "outputs": [],
   "source": [
    "import pandas as pd\n",
    "import numpy as np\n",
    "import sklearn\n",
    "from sklearn.preprocessing import LabelEncoder"
   ]
  },
  {
   "cell_type": "markdown",
   "metadata": {},
   "source": [
    "## Data Cleansing & Pre-Processing"
   ]
  },
  {
   "cell_type": "code",
   "execution_count": 3,
   "metadata": {},
   "outputs": [],
   "source": [
    "def grap_year(data):\n",
    "    data = str(data)\n",
    "    return int(data[:4])\n",
    "\n",
    "def grap_month(data):\n",
    "    data = str(data)\n",
    "    return int(data[4:])"
   ]
  },
  {
   "cell_type": "code",
   "execution_count": 4,
   "metadata": {},
   "outputs": [],
   "source": [
    "world_gdp = pd.read_csv(\"data/world_gdp.csv\")\n",
    "trade_amount = pd.read_csv(\"data/Trade in goods and services forecast.csv\")"
   ]
  },
  {
   "cell_type": "code",
   "execution_count": 5,
   "metadata": {},
   "outputs": [],
   "source": [
    "# date\n",
    "data = pd.read_csv('../../Data/Jeju/201901-202003.csv')\n",
    "data = data.fillna('')\n",
    "data['year'] = data['REG_YYMM'].apply(lambda x: grap_year(x))\n",
    "data['month'] = data['REG_YYMM'].apply(lambda x: grap_month(x))"
   ]
  },
  {
   "cell_type": "code",
   "execution_count": 6,
   "metadata": {},
   "outputs": [],
   "source": [
    "data.REG_YYMM = pd.to_datetime(data.REG_YYMM, format='%Y%m')"
   ]
  },
  {
   "cell_type": "code",
   "execution_count": 7,
   "metadata": {},
   "outputs": [],
   "source": [
    "world_gdp['Unnamed: 0'] = pd.to_datetime(world_gdp['Unnamed: 0'])\n",
    "trade_amount['Unnamed: 0'] = pd.to_datetime(trade_amount['Unnamed: 0'])"
   ]
  },
  {
   "cell_type": "code",
   "execution_count": 8,
   "metadata": {},
   "outputs": [],
   "source": [
    "data = data.drop(['REG_YYMM'], axis=1)"
   ]
  },
  {
   "cell_type": "code",
   "execution_count": null,
   "metadata": {},
   "outputs": [],
   "source": [
    "# 데이터 정제\n",
    "df = data.copy()\n",
    "df = df.drop(['CARD_CCG_NM', 'HOM_CCG_NM'], axis=1)\n",
    "\n",
    "# 카테고리 별로 묶어서 AMT를 각각 예측\n",
    "columns = ['CARD_SIDO_NM', 'STD_CLSS_NM', 'HOM_SIDO_NM', 'AGE', 'SEX_CTGO_CD', 'FLC', 'year', 'month']\n",
    "df = df.groupby(columns).sum().reset_index(drop=False)"
   ]
  },
  {
   "cell_type": "code",
   "execution_count": null,
   "metadata": {},
   "outputs": [],
   "source": [
    "# 인코딩\n",
    "dtypes = df.dtypes\n",
    "encoders = {}\n",
    "for column in df.columns:\n",
    "    if str(dtypes[column]) == 'object':\n",
    "        encoder = LabelEncoder()\n",
    "        encoder.fit(df[column])\n",
    "        encoders[column] = encoder\n",
    "        \n",
    "df_num = df.copy()        \n",
    "for column in encoders.keys():\n",
    "    encoder = encoders[column]\n",
    "    df_num[column] = encoder.transform(df[column])"
   ]
  },
  {
   "cell_type": "code",
   "execution_count": null,
   "metadata": {},
   "outputs": [],
   "source": [
    "# feature, target 설정\n",
    "train_num = df_num.sample(frac=1, random_state=0)\n",
    "train_features = train_num.drop(['CSTMR_CNT', 'AMT', 'CNT'], axis=1)\n",
    "train_target = np.log1p(train_num['AMT'])"
   ]
  },
  {
   "cell_type": "code",
   "execution_count": null,
   "metadata": {},
   "outputs": [],
   "source": [
    "train_features['kor_gdp'] = 0\n",
    "train_features['trade_amount'] = 0\n",
    "\n",
    "for date, i in zip(world_gdp['Unnamed: 0'], range(len(world_gdp))):\n",
    "    train_features.loc[(train_features['year'] == date.year) & (train_features['month'] == date.month), 'kor_gdp'] = world_gdp.iloc[i].KOR_gdp\n",
    "    \n",
    "for date, i in zip(trade_amount['Unnamed: 0'], range(len(trade_amount))):\n",
    "    train_features.loc[(train_features['year'] == date.year) & (train_features['month'] == date.month), 'trade_amount'] = trade_amount.iloc[i].Value\n",
    "    "
   ]
  },
  {
   "cell_type": "code",
   "execution_count": null,
   "metadata": {},
   "outputs": [],
   "source": [
    "train_features.trade_amount = np.log1p(train_features['trade_amount'])"
   ]
  },
  {
   "cell_type": "markdown",
   "metadata": {},
   "source": [
    "## Model Tuning & Evaluation"
   ]
  },
  {
   "cell_type": "code",
   "execution_count": null,
   "metadata": {},
   "outputs": [],
   "source": [
    "# 예측 템플릿 만들기\n",
    "CARD_SIDO_NMs = df_num['CARD_SIDO_NM'].unique()\n",
    "STD_CLSS_NMs  = df_num['STD_CLSS_NM'].unique()\n",
    "HOM_SIDO_NMs  = df_num['HOM_SIDO_NM'].unique()\n",
    "AGEs          = df_num['AGE'].unique()\n",
    "SEX_CTGO_CDs  = df_num['SEX_CTGO_CD'].unique()\n",
    "FLCs          = df_num['FLC'].unique()\n",
    "years         = [2020]\n",
    "months        = [4, 7]\n",
    "\n",
    "temp = []\n",
    "for CARD_SIDO_NM in CARD_SIDO_NMs:\n",
    "    for STD_CLSS_NM in STD_CLSS_NMs:\n",
    "        for HOM_SIDO_NM in HOM_SIDO_NMs:\n",
    "            for AGE in AGEs:\n",
    "                for SEX_CTGO_CD in SEX_CTGO_CDs:\n",
    "                    for FLC in FLCs:\n",
    "                        for year in years:\n",
    "                            for month in months:\n",
    "                                temp.append([CARD_SIDO_NM, STD_CLSS_NM, HOM_SIDO_NM, AGE, SEX_CTGO_CD, FLC, year, month])\n",
    "temp = np.array(temp)"
   ]
  },
  {
   "cell_type": "code",
   "execution_count": null,
   "metadata": {},
   "outputs": [],
   "source": [
    "temp = pd.DataFrame(data=temp, columns=['CARD_SIDO_NM', 'STD_CLSS_NM', 'HOM_SIDO_NM', \n",
    "                                        'AGE', 'SEX_CTGO_CD', 'FLC', 'year', 'month'])"
   ]
  },
  {
   "cell_type": "code",
   "execution_count": null,
   "metadata": {},
   "outputs": [],
   "source": [
    "temp['kor_gdp'] = 0\n",
    "temp['trade_amount'] = 0\n",
    "\n",
    "for date, i in zip(world_gdp['Unnamed: 0'], range(len(world_gdp))):\n",
    "    temp.loc[(temp['year'] == date.year) & (temp['month'] == date.month), 'kor_gdp'] = world_gdp.iloc[i].KOR_gdp\n",
    "    \n",
    "for date, i in zip(trade_amount['Unnamed: 0'], range(len(trade_amount))):\n",
    "    temp.loc[(temp['year'] == date.year) & (temp['month'] == date.month), 'trade_amount'] = np.log1p(trade_amount.iloc[i].Value)\n",
    "    "
   ]
  },
  {
   "cell_type": "code",
   "execution_count": null,
   "metadata": {},
   "outputs": [],
   "source": []
  },
  {
   "cell_type": "code",
   "execution_count": null,
   "metadata": {},
   "outputs": [],
   "source": [
    "import xgboost as xgb\n",
    "from sklearn.metrics import mean_squared_error\n",
    "from sklearn.model_selection import train_test_split"
   ]
  },
  {
   "cell_type": "code",
   "execution_count": null,
   "metadata": {},
   "outputs": [],
   "source": [
    "def XG_Boost(df, num):\n",
    "    X, y_hhb, y_hhbo2, y_ca, y_na = XY(df)\n",
    "    \n",
    "    # Split data\n",
    "    X1_train, X1_test, y1_train, y1_test = train_test_split(X, y_hhb, test_size=0.4, shuffle=101)\n",
    "    X2_train, X2_test, y2_train, y2_test = train_test_split(X, y_hhbo2, test_size=0.4, shuffle=122)\n",
    "    X3_train, X3_test, y3_train, y3_test = train_test_split(X, y_ca, test_size=0.4, shuffle=157)\n",
    "    X4_train, X4_test, y4_train, y4_test = train_test_split(X, y_na, test_size=0.4, shuffle=1932)\n",
    "    \n",
    "    d1_train = xgb.DMatrix(X1_train, label=y1_train)\n",
    "    d1_test = xgb.DMatrix(X1_test, label=y1_test)\n",
    "    \n",
    "    d2_train = xgb.DMatrix(X2_train, label=y2_train)\n",
    "    d2_test = xgb.DMatrix(X2_test, label=y2_test)\n",
    "    \n",
    "    d3_train = xgb.DMatrix(X3_train, label=y3_train)\n",
    "    d3_test = xgb.DMatrix(X3_test, label=y3_test)\n",
    "    \n",
    "    d4_train = xgb.DMatrix(X4_train, label=y4_train)\n",
    "    d4_test = xgb.DMatrix(X4_test, label=y4_test)\n",
    "    \n",
    "    params = {}\n",
    "    params['eta'] = 0.007\n",
    "    params['objective'] = 'reg:linear'\n",
    "    params['eval_metric'] = 'mae'\n",
    "    params['max_depth'] = 8\n",
    "    params['silent'] = 1\n",
    "    \n",
    "    watchlist1 = [(d1_train, 'train'), (d1_test, 'test')]\n",
    "    watchlist2 = [(d2_train, 'train'), (d2_test, 'test')]\n",
    "    watchlist3 = [(d3_train, 'train'), (d3_test, 'test')]\n",
    "    watchlist4 = [(d4_train, 'train'), (d4_test, 'test')]\n",
    "    \n",
    "    clf_hhb = xgb.train(params, d1_train, 10000, watchlist1, early_stopping_rounds=800, verbose_eval=10)\n",
    "    clf_hbo2 = xgb.train(params, d2_train, 10000, watchlist2, early_stopping_rounds=100, verbose_eval=10)\n",
    "    clf_ca = xgb.train(params, d3_train, 10000, watchlist3, early_stopping_rounds=1000, verbose_eval=10)\n",
    "    clf_na = xgb.train(params, d4_train, 10000, watchlist4, early_stopping_rounds=1000, verbose_eval=10)\n",
    "\n",
    "    preds_hhb = clf_hhb.predict(xgb.DMatrix(X1_test))\n",
    "    preds_hbo2 = clf_hbo2.predict(xgb.DMatrix(X2_test))\n",
    "    preds_ca = clf_ca.predict(xgb.DMatrix(X3_test))\n",
    "    preds_na = clf_na.predict(xgb.DMatrix(X4_test))\n",
    "    \n",
    "    rmse_hhb = np.sqrt(mean_squared_error(y1_test, preds_hhb))\n",
    "    rmse_hbo2 = np.sqrt(mean_squared_error(y2_test, preds_hbo2))\n",
    "    rmse_ca = np.sqrt(mean_squared_error(y3_test, preds_ca))\n",
    "    rmse_na = np.sqrt(mean_squared_error(y4_test, preds_na))\n",
    "\n",
    "    print(num, \" mm\")\n",
    "    print(\"RMSE - hbb  : %f\" % (rmse_hhb))\n",
    "    print(\"RMSE - hbo2 : %f\" % (rmse_hbo2))\n",
    "    print(\"RMSE - ca   : %f\" % (rmse_ca))\n",
    "    print(\"RMSE - na   : %f\" % (rmse_na))\n",
    "    \n",
    "    \n",
    "    return clf_hhb, clf_hbo2, clf_ca, clf_na"
   ]
  },
  {
   "cell_type": "code",
   "execution_count": null,
   "metadata": {},
   "outputs": [],
   "source": []
  },
  {
   "cell_type": "code",
   "execution_count": 98,
   "metadata": {},
   "outputs": [],
   "source": [
    " x_train, x_val, y_train, y_val = train_test_split(train_features, train_target, random_state=42)"
   ]
  },
  {
   "cell_type": "code",
   "execution_count": 99,
   "metadata": {},
   "outputs": [],
   "source": [
    "train_ds = lgb.Dataset(x_train, label=y_train)\n",
    "val_ds = lgb.Dataset(x_val, label=y_val)"
   ]
  },
  {
   "cell_type": "code",
   "execution_count": 100,
   "metadata": {},
   "outputs": [],
   "source": [
    "params = {\n",
    "            'learning_rate' : 0.05,\n",
    "            'boosting_type': 'gbdt',\n",
    "            'objective': 'tweedie',\n",
    "            'tweedie_variance_power': 1.1,\n",
    "            'metric': 'rmse',\n",
    "            'sub_row' : 0.75,\n",
    "            'lambda_l2' : 0.1\n",
    "        }"
   ]
  },
  {
   "cell_type": "code",
   "execution_count": 102,
   "metadata": {
    "scrolled": true
   },
   "outputs": [
    {
     "name": "stdout",
     "output_type": "stream",
     "text": [
      "Training until validation scores don't improve for 100 rounds\n",
      "[100]\tvalid_0's rmse: 1.97669\n",
      "[200]\tvalid_0's rmse: 1.80236\n",
      "[300]\tvalid_0's rmse: 1.67421\n",
      "[400]\tvalid_0's rmse: 1.59336\n",
      "[500]\tvalid_0's rmse: 1.50983\n",
      "[600]\tvalid_0's rmse: 1.45913\n",
      "[700]\tvalid_0's rmse: 1.41036\n",
      "[800]\tvalid_0's rmse: 1.35388\n",
      "[900]\tvalid_0's rmse: 1.31624\n",
      "[1000]\tvalid_0's rmse: 1.27966\n",
      "[1100]\tvalid_0's rmse: 1.25016\n",
      "[1200]\tvalid_0's rmse: 1.22295\n",
      "[1300]\tvalid_0's rmse: 1.20152\n",
      "[1400]\tvalid_0's rmse: 1.17102\n",
      "[1500]\tvalid_0's rmse: 1.14961\n",
      "[1600]\tvalid_0's rmse: 1.12764\n",
      "[1700]\tvalid_0's rmse: 1.11034\n",
      "[1800]\tvalid_0's rmse: 1.09335\n",
      "[1900]\tvalid_0's rmse: 1.07771\n",
      "[2000]\tvalid_0's rmse: 1.0628\n",
      "[2100]\tvalid_0's rmse: 1.04588\n",
      "[2200]\tvalid_0's rmse: 1.03221\n",
      "[2300]\tvalid_0's rmse: 1.01892\n",
      "[2400]\tvalid_0's rmse: 1.00703\n",
      "[2500]\tvalid_0's rmse: 0.996135\n",
      "[2600]\tvalid_0's rmse: 0.984182\n",
      "[2700]\tvalid_0's rmse: 0.975801\n",
      "[2800]\tvalid_0's rmse: 0.966017\n",
      "[2900]\tvalid_0's rmse: 0.957454\n",
      "[3000]\tvalid_0's rmse: 0.949711\n",
      "[3100]\tvalid_0's rmse: 0.941147\n",
      "[3200]\tvalid_0's rmse: 0.933708\n",
      "[3300]\tvalid_0's rmse: 0.925913\n",
      "[3400]\tvalid_0's rmse: 0.9213\n",
      "[3500]\tvalid_0's rmse: 0.916072\n",
      "[3600]\tvalid_0's rmse: 0.910726\n",
      "[3700]\tvalid_0's rmse: 0.904474\n",
      "[3800]\tvalid_0's rmse: 0.899725\n",
      "[3900]\tvalid_0's rmse: 0.89442\n",
      "[4000]\tvalid_0's rmse: 0.890643\n",
      "[4100]\tvalid_0's rmse: 0.883404\n",
      "[4200]\tvalid_0's rmse: 0.877922\n",
      "[4300]\tvalid_0's rmse: 0.872496\n",
      "[4400]\tvalid_0's rmse: 0.867852\n",
      "[4500]\tvalid_0's rmse: 0.863291\n",
      "[4600]\tvalid_0's rmse: 0.85876\n",
      "[4700]\tvalid_0's rmse: 0.85442\n",
      "[4800]\tvalid_0's rmse: 0.850086\n",
      "[4900]\tvalid_0's rmse: 0.846498\n",
      "[5000]\tvalid_0's rmse: 0.843887\n",
      "Did not meet early stopping. Best iteration is:\n",
      "[5000]\tvalid_0's rmse: 0.843887\n"
     ]
    }
   ],
   "source": [
    "model = lgb.train(params,\n",
    "                  train_ds,\n",
    "                  5000,\n",
    "                  val_ds,\n",
    "                  verbose_eval = 100,\n",
    "                  early_stopping_rounds = 100\n",
    "                 )"
   ]
  },
  {
   "cell_type": "code",
   "execution_count": 114,
   "metadata": {},
   "outputs": [
    {
     "ename": "TypeError",
     "evalue": "booster must be dict or LGBMModel.",
     "output_type": "error",
     "traceback": [
      "\u001b[1;31m---------------------------------------------------------------------------\u001b[0m",
      "\u001b[1;31mTypeError\u001b[0m                                 Traceback (most recent call last)",
      "\u001b[1;32m<ipython-input-114-bb781fcadf0a>\u001b[0m in \u001b[0;36m<module>\u001b[1;34m\u001b[0m\n\u001b[1;32m----> 1\u001b[1;33m \u001b[0max\u001b[0m \u001b[1;33m=\u001b[0m \u001b[0mlgb\u001b[0m\u001b[1;33m.\u001b[0m\u001b[0mplot_metric\u001b[0m\u001b[1;33m(\u001b[0m\u001b[0mtrain_ds\u001b[0m\u001b[1;33m,\u001b[0m \u001b[0mmetric\u001b[0m\u001b[1;33m=\u001b[0m\u001b[1;34m'l2'\u001b[0m\u001b[1;33m)\u001b[0m\u001b[1;33m\u001b[0m\u001b[1;33m\u001b[0m\u001b[0m\n\u001b[0m\u001b[0;32m      2\u001b[0m \u001b[0mplt\u001b[0m\u001b[1;33m.\u001b[0m\u001b[0mshow\u001b[0m\u001b[1;33m(\u001b[0m\u001b[1;33m)\u001b[0m\u001b[1;33m\u001b[0m\u001b[1;33m\u001b[0m\u001b[0m\n",
      "\u001b[1;32m~\\Anaconda3\\lib\\site-packages\\lightgbm\\plotting.py\u001b[0m in \u001b[0;36mplot_metric\u001b[1;34m(booster, metric, dataset_names, ax, xlim, ylim, title, xlabel, ylabel, figsize, dpi, grid)\u001b[0m\n\u001b[0;32m    306\u001b[0m         \u001b[0meval_results\u001b[0m \u001b[1;33m=\u001b[0m \u001b[0mdeepcopy\u001b[0m\u001b[1;33m(\u001b[0m\u001b[0mbooster\u001b[0m\u001b[1;33m)\u001b[0m\u001b[1;33m\u001b[0m\u001b[1;33m\u001b[0m\u001b[0m\n\u001b[0;32m    307\u001b[0m     \u001b[1;32melse\u001b[0m\u001b[1;33m:\u001b[0m\u001b[1;33m\u001b[0m\u001b[1;33m\u001b[0m\u001b[0m\n\u001b[1;32m--> 308\u001b[1;33m         \u001b[1;32mraise\u001b[0m \u001b[0mTypeError\u001b[0m\u001b[1;33m(\u001b[0m\u001b[1;34m'booster must be dict or LGBMModel.'\u001b[0m\u001b[1;33m)\u001b[0m\u001b[1;33m\u001b[0m\u001b[1;33m\u001b[0m\u001b[0m\n\u001b[0m\u001b[0;32m    309\u001b[0m \u001b[1;33m\u001b[0m\u001b[0m\n\u001b[0;32m    310\u001b[0m     \u001b[0mnum_data\u001b[0m \u001b[1;33m=\u001b[0m \u001b[0mlen\u001b[0m\u001b[1;33m(\u001b[0m\u001b[0meval_results\u001b[0m\u001b[1;33m)\u001b[0m\u001b[1;33m\u001b[0m\u001b[1;33m\u001b[0m\u001b[0m\n",
      "\u001b[1;31mTypeError\u001b[0m: booster must be dict or LGBMModel."
     ]
    }
   ],
   "source": [
    "ax = lgb.plot_metric(train_ds, metric='l2')\n",
    "plt.show()"
   ]
  },
  {
   "cell_type": "code",
   "execution_count": 106,
   "metadata": {},
   "outputs": [
    {
     "ename": "NameError",
     "evalue": "name 'temp_temp' is not defined",
     "output_type": "error",
     "traceback": [
      "\u001b[1;31m---------------------------------------------------------------------------\u001b[0m",
      "\u001b[1;31mNameError\u001b[0m                                 Traceback (most recent call last)",
      "\u001b[1;32m<ipython-input-106-28233aba6959>\u001b[0m in \u001b[0;36m<module>\u001b[1;34m\u001b[0m\n\u001b[1;32m----> 1\u001b[1;33m \u001b[0mtemp\u001b[0m \u001b[1;33m=\u001b[0m \u001b[0mtemp_temp\u001b[0m\u001b[1;33m\u001b[0m\u001b[1;33m\u001b[0m\u001b[0m\n\u001b[0m",
      "\u001b[1;31mNameError\u001b[0m: name 'temp_temp' is not defined"
     ]
    }
   ],
   "source": [
    "temp = temp_temp"
   ]
  },
  {
   "cell_type": "code",
   "execution_count": 108,
   "metadata": {},
   "outputs": [],
   "source": [
    "pred = model.predict(temp)\n",
    "pred = np.expm1(pred)\n",
    "temp['AMT'] = np.round(pred, 0)\n",
    "temp['REG_YYMM'] = temp['year']*100 + temp['month']\n",
    "temp = temp[['REG_YYMM', 'CARD_SIDO_NM', 'STD_CLSS_NM', 'AMT']]\n",
    "temp = temp.groupby(['REG_YYMM', 'CARD_SIDO_NM', 'STD_CLSS_NM']).sum().reset_index(drop=False)"
   ]
  },
  {
   "cell_type": "code",
   "execution_count": 109,
   "metadata": {},
   "outputs": [],
   "source": [
    "temp['CARD_SIDO_NM'] = encoders['CARD_SIDO_NM'].inverse_transform(temp['CARD_SIDO_NM'])\n",
    "temp['STD_CLSS_NM'] = encoders['STD_CLSS_NM'].inverse_transform(temp['STD_CLSS_NM'])"
   ]
  },
  {
   "cell_type": "code",
   "execution_count": null,
   "metadata": {},
   "outputs": [],
   "source": []
  },
  {
   "cell_type": "code",
   "execution_count": 111,
   "metadata": {},
   "outputs": [
    {
     "data": {
      "text/html": [
       "<div>\n",
       "<style scoped>\n",
       "    .dataframe tbody tr th:only-of-type {\n",
       "        vertical-align: middle;\n",
       "    }\n",
       "\n",
       "    .dataframe tbody tr th {\n",
       "        vertical-align: top;\n",
       "    }\n",
       "\n",
       "    .dataframe thead th {\n",
       "        text-align: right;\n",
       "    }\n",
       "</style>\n",
       "<table border=\"1\" class=\"dataframe\">\n",
       "  <thead>\n",
       "    <tr style=\"text-align: right;\">\n",
       "      <th></th>\n",
       "      <th>REG_YYMM</th>\n",
       "      <th>CARD_SIDO_NM</th>\n",
       "      <th>STD_CLSS_NM</th>\n",
       "      <th>AMT</th>\n",
       "    </tr>\n",
       "    <tr>\n",
       "      <th>id</th>\n",
       "      <th></th>\n",
       "      <th></th>\n",
       "      <th></th>\n",
       "      <th></th>\n",
       "    </tr>\n",
       "  </thead>\n",
       "  <tbody>\n",
       "    <tr>\n",
       "      <th>0</th>\n",
       "      <td>202004</td>\n",
       "      <td>강원</td>\n",
       "      <td>건강보조식품 소매업</td>\n",
       "      <td>1.789128e+08</td>\n",
       "    </tr>\n",
       "    <tr>\n",
       "      <th>1</th>\n",
       "      <td>202004</td>\n",
       "      <td>강원</td>\n",
       "      <td>골프장 운영업</td>\n",
       "      <td>3.430744e+09</td>\n",
       "    </tr>\n",
       "    <tr>\n",
       "      <th>2</th>\n",
       "      <td>202004</td>\n",
       "      <td>강원</td>\n",
       "      <td>과실 및 채소 소매업</td>\n",
       "      <td>1.350315e+09</td>\n",
       "    </tr>\n",
       "    <tr>\n",
       "      <th>3</th>\n",
       "      <td>202004</td>\n",
       "      <td>강원</td>\n",
       "      <td>관광 민예품 및 선물용품 소매업</td>\n",
       "      <td>3.222566e+07</td>\n",
       "    </tr>\n",
       "    <tr>\n",
       "      <th>4</th>\n",
       "      <td>202004</td>\n",
       "      <td>강원</td>\n",
       "      <td>그외 기타 분류안된 오락관련 서비스업</td>\n",
       "      <td>8.352531e+06</td>\n",
       "    </tr>\n",
       "  </tbody>\n",
       "</table>\n",
       "</div>"
      ],
      "text/plain": [
       "    REG_YYMM CARD_SIDO_NM           STD_CLSS_NM           AMT\n",
       "id                                                           \n",
       "0     202004           강원            건강보조식품 소매업  1.789128e+08\n",
       "1     202004           강원               골프장 운영업  3.430744e+09\n",
       "2     202004           강원           과실 및 채소 소매업  1.350315e+09\n",
       "3     202004           강원     관광 민예품 및 선물용품 소매업  3.222566e+07\n",
       "4     202004           강원  그외 기타 분류안된 오락관련 서비스업  8.352531e+06"
      ]
     },
     "execution_count": 111,
     "metadata": {},
     "output_type": "execute_result"
    }
   ],
   "source": [
    "\n",
    "submission = pd.read_csv('../../Data/Jeju/submission.csv', index_col=0)\n",
    "submission = submission.drop(['AMT'], axis=1)\n",
    "submission = submission.merge(temp, left_on=['REG_YYMM', 'CARD_SIDO_NM', 'STD_CLSS_NM'], right_on=['REG_YYMM', 'CARD_SIDO_NM', 'STD_CLSS_NM'], how='left')\n",
    "submission.index.name = 'id'\n",
    "submission.to_csv('submission/lightgbm_korea_gdp_trade_amount.csv', encoding='utf-8-sig')\n",
    "submission.head()"
   ]
  },
  {
   "cell_type": "code",
   "execution_count": null,
   "metadata": {},
   "outputs": [],
   "source": []
  }
 ],
 "metadata": {
  "kernelspec": {
   "display_name": "Python 3",
   "language": "python",
   "name": "python3"
  },
  "language_info": {
   "codemirror_mode": {
    "name": "ipython",
    "version": 3
   },
   "file_extension": ".py",
   "mimetype": "text/x-python",
   "name": "python",
   "nbconvert_exporter": "python",
   "pygments_lexer": "ipython3",
   "version": "3.7.7"
  }
 },
 "nbformat": 4,
 "nbformat_minor": 4
}
