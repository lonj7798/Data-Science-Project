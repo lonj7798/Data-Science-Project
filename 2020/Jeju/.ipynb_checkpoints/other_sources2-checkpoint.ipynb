{
 "cells": [
  {
   "cell_type": "code",
   "execution_count": 84,
   "metadata": {},
   "outputs": [],
   "source": [
    "import pandas as pd\n",
    "import numpy as np\n",
    "\n",
    "import matplotlib.pyplot as plt\n",
    "import seaborn as sns\n",
    "\n",
    "import datetime as dt\n",
    "%matplotlib inline"
   ]
  },
  {
   "cell_type": "code",
   "execution_count": 85,
   "metadata": {},
   "outputs": [],
   "source": [
    "data = pd.read_csv(\"data/DP_LIVE_14072020194431101.csv\")\n",
    "# https://data.oecd.org/gdp/real-gdp-forecast.htm#indicator-chart"
   ]
  },
  {
   "cell_type": "code",
   "execution_count": 86,
   "metadata": {},
   "outputs": [],
   "source": [
    "start = dt.datetime(2019,1,1)\n",
    "end = dt.datetime(2020,7,1)"
   ]
  },
  {
   "cell_type": "code",
   "execution_count": 87,
   "metadata": {},
   "outputs": [],
   "source": [
    "gdp_data = pd.DataFrame(index=pd.date_range(start, end, freq='MS'))"
   ]
  },
  {
   "cell_type": "code",
   "execution_count": 88,
   "metadata": {},
   "outputs": [],
   "source": [
    "def gdp(country):\n",
    "    temp1 = data1[data1['LOCATION']==country].Value\n",
    "    temp2 = [temp1.iloc[0]]*3 + [temp1.iloc[1]]*3 + [temp1.iloc[2]]*3 + [temp1.iloc[3]]*3 + \\\n",
    "            [temp1.iloc[4]]*3 + [temp1.iloc[5]]*3 + [temp1.iloc[6]]*1\n",
    "    return temp2"
   ]
  },
  {
   "cell_type": "code",
   "execution_count": 91,
   "metadata": {},
   "outputs": [],
   "source": [
    "for country in data.LOCATION.unique():\n",
    "    name = country + \"_gdp\"\n",
    "    gdp_data[name] = gdp(country)"
   ]
  },
  {
   "cell_type": "code",
   "execution_count": 94,
   "metadata": {},
   "outputs": [],
   "source": [
    "gdp_data.to_csv(\"data/world_gdp.csv\", index=False)"
   ]
  }
 ],
 "metadata": {
  "kernelspec": {
   "display_name": "Python 3",
   "language": "python",
   "name": "python3"
  },
  "language_info": {
   "codemirror_mode": {
    "name": "ipython",
    "version": 3
   },
   "file_extension": ".py",
   "mimetype": "text/x-python",
   "name": "python",
   "nbconvert_exporter": "python",
   "pygments_lexer": "ipython3",
   "version": "3.7.7"
  }
 },
 "nbformat": 4,
 "nbformat_minor": 4
}
