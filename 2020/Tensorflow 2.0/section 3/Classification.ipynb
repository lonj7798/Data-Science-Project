{
 "cells": [
  {
   "cell_type": "code",
   "execution_count": 3,
   "metadata": {},
   "outputs": [
    {
     "name": "stdout",
     "output_type": "stream",
     "text": [
      "2.3.0\n"
     ]
    }
   ],
   "source": [
    "import tensorflow as tf\n",
    "print(tf.__version__)"
   ]
  },
  {
   "cell_type": "code",
   "execution_count": 4,
   "metadata": {},
   "outputs": [],
   "source": [
    "# Load data\n",
    "from sklearn.datasets import load_breast_cancer"
   ]
  },
  {
   "cell_type": "code",
   "execution_count": 5,
   "metadata": {},
   "outputs": [],
   "source": [
    "data = load_breast_cancer()"
   ]
  },
  {
   "cell_type": "code",
   "execution_count": 6,
   "metadata": {},
   "outputs": [
    {
     "data": {
      "text/plain": [
       "sklearn.utils.Bunch"
      ]
     },
     "execution_count": 6,
     "metadata": {},
     "output_type": "execute_result"
    }
   ],
   "source": [
    "type(data)"
   ]
  },
  {
   "cell_type": "code",
   "execution_count": 7,
   "metadata": {},
   "outputs": [
    {
     "data": {
      "text/plain": [
       "dict_keys(['data', 'target', 'frame', 'target_names', 'DESCR', 'feature_names', 'filename'])"
      ]
     },
     "execution_count": 7,
     "metadata": {},
     "output_type": "execute_result"
    }
   ],
   "source": [
    "# note: it is a Bunch object\n",
    "# this basically acts like a ditionary where you can treat the keys like attributes\n",
    "data.keys()"
   ]
  },
  {
   "cell_type": "code",
   "execution_count": 8,
   "metadata": {},
   "outputs": [
    {
     "data": {
      "text/plain": [
       "(569, 30)"
      ]
     },
     "execution_count": 8,
     "metadata": {},
     "output_type": "execute_result"
    }
   ],
   "source": [
    "# 'data' means the input data of data\n",
    "data.data.shape\n",
    "\n",
    "# 569 samples with 30 features"
   ]
  },
  {
   "cell_type": "code",
   "execution_count": 9,
   "metadata": {
    "scrolled": true
   },
   "outputs": [
    {
     "data": {
      "text/plain": [
       "array([0, 0, 0, 0, 0, 0, 0, 0, 0, 0, 0, 0, 0, 0, 0, 0, 0, 0, 0, 1, 1, 1,\n",
       "       0, 0, 0, 0, 0, 0, 0, 0, 0, 0, 0, 0, 0, 0, 0, 1, 0, 0, 0, 0, 0, 0,\n",
       "       0, 0, 1, 0, 1, 1, 1, 1, 1, 0, 0, 1, 0, 0, 1, 1, 1, 1, 0, 1, 0, 0,\n",
       "       1, 1, 1, 1, 0, 1, 0, 0, 1, 0, 1, 0, 0, 1, 1, 1, 0, 0, 1, 0, 0, 0,\n",
       "       1, 1, 1, 0, 1, 1, 0, 0, 1, 1, 1, 0, 0, 1, 1, 1, 1, 0, 1, 1, 0, 1,\n",
       "       1, 1, 1, 1, 1, 1, 1, 0, 0, 0, 1, 0, 0, 1, 1, 1, 0, 0, 1, 0, 1, 0,\n",
       "       0, 1, 0, 0, 1, 1, 0, 1, 1, 0, 1, 1, 1, 1, 0, 1, 1, 1, 1, 1, 1, 1,\n",
       "       1, 1, 0, 1, 1, 1, 1, 0, 0, 1, 0, 1, 1, 0, 0, 1, 1, 0, 0, 1, 1, 1,\n",
       "       1, 0, 1, 1, 0, 0, 0, 1, 0, 1, 0, 1, 1, 1, 0, 1, 1, 0, 0, 1, 0, 0,\n",
       "       0, 0, 1, 0, 0, 0, 1, 0, 1, 0, 1, 1, 0, 1, 0, 0, 0, 0, 1, 1, 0, 0,\n",
       "       1, 1, 1, 0, 1, 1, 1, 1, 1, 0, 0, 1, 1, 0, 1, 1, 0, 0, 1, 0, 1, 1,\n",
       "       1, 1, 0, 1, 1, 1, 1, 1, 0, 1, 0, 0, 0, 0, 0, 0, 0, 0, 0, 0, 0, 0,\n",
       "       0, 0, 1, 1, 1, 1, 1, 1, 0, 1, 0, 1, 1, 0, 1, 1, 0, 1, 0, 0, 1, 1,\n",
       "       1, 1, 1, 1, 1, 1, 1, 1, 1, 1, 1, 0, 1, 1, 0, 1, 0, 1, 1, 1, 1, 1,\n",
       "       1, 1, 1, 1, 1, 1, 1, 1, 1, 0, 1, 1, 1, 0, 1, 0, 1, 1, 1, 1, 0, 0,\n",
       "       0, 1, 1, 1, 1, 0, 1, 0, 1, 0, 1, 1, 1, 0, 1, 1, 1, 1, 1, 1, 1, 0,\n",
       "       0, 0, 1, 1, 1, 1, 1, 1, 1, 1, 1, 1, 1, 0, 0, 1, 0, 0, 0, 1, 0, 0,\n",
       "       1, 1, 1, 1, 1, 0, 1, 1, 1, 1, 1, 0, 1, 1, 1, 0, 1, 1, 0, 0, 1, 1,\n",
       "       1, 1, 1, 1, 0, 1, 1, 1, 1, 1, 1, 1, 0, 1, 1, 1, 1, 1, 0, 1, 1, 0,\n",
       "       1, 1, 1, 1, 1, 1, 1, 1, 1, 1, 1, 1, 0, 1, 0, 0, 1, 0, 1, 1, 1, 1,\n",
       "       1, 0, 1, 1, 0, 1, 0, 1, 1, 0, 1, 0, 1, 1, 1, 1, 1, 1, 1, 1, 0, 0,\n",
       "       1, 1, 1, 1, 1, 1, 0, 1, 1, 1, 1, 1, 1, 1, 1, 1, 1, 0, 1, 1, 1, 1,\n",
       "       1, 1, 1, 0, 1, 0, 1, 1, 0, 1, 1, 1, 1, 1, 0, 0, 1, 0, 1, 0, 1, 1,\n",
       "       1, 1, 1, 0, 1, 1, 0, 1, 0, 1, 0, 0, 1, 1, 1, 0, 1, 1, 1, 1, 1, 1,\n",
       "       1, 1, 1, 1, 1, 0, 1, 0, 0, 1, 1, 1, 1, 1, 1, 1, 1, 1, 1, 1, 1, 1,\n",
       "       1, 1, 1, 1, 1, 1, 1, 1, 1, 1, 1, 1, 0, 0, 0, 0, 0, 0, 1])"
      ]
     },
     "execution_count": 9,
     "metadata": {},
     "output_type": "execute_result"
    }
   ],
   "source": [
    "# targets\n",
    "data.target"
   ]
  },
  {
   "cell_type": "code",
   "execution_count": 10,
   "metadata": {},
   "outputs": [
    {
     "data": {
      "text/plain": [
       "array(['malignant', 'benign'], dtype='<U9')"
      ]
     },
     "execution_count": 10,
     "metadata": {},
     "output_type": "execute_result"
    }
   ],
   "source": [
    "data.target_names"
   ]
  },
  {
   "cell_type": "code",
   "execution_count": 11,
   "metadata": {},
   "outputs": [
    {
     "data": {
      "text/plain": [
       "(569,)"
      ]
     },
     "execution_count": 11,
     "metadata": {},
     "output_type": "execute_result"
    }
   ],
   "source": [
    "data.target.shape\n",
    "# also have 569 targets"
   ]
  },
  {
   "cell_type": "code",
   "execution_count": 12,
   "metadata": {},
   "outputs": [
    {
     "data": {
      "text/plain": [
       "array(['mean radius', 'mean texture', 'mean perimeter', 'mean area',\n",
       "       'mean smoothness', 'mean compactness', 'mean concavity',\n",
       "       'mean concave points', 'mean symmetry', 'mean fractal dimension',\n",
       "       'radius error', 'texture error', 'perimeter error', 'area error',\n",
       "       'smoothness error', 'compactness error', 'concavity error',\n",
       "       'concave points error', 'symmetry error',\n",
       "       'fractal dimension error', 'worst radius', 'worst texture',\n",
       "       'worst perimeter', 'worst area', 'worst smoothness',\n",
       "       'worst compactness', 'worst concavity', 'worst concave points',\n",
       "       'worst symmetry', 'worst fractal dimension'], dtype='<U23')"
      ]
     },
     "execution_count": 12,
     "metadata": {},
     "output_type": "execute_result"
    }
   ],
   "source": [
    "# name of features\n",
    "data.feature_names"
   ]
  },
  {
   "cell_type": "code",
   "execution_count": null,
   "metadata": {},
   "outputs": [],
   "source": []
  },
  {
   "cell_type": "markdown",
   "metadata": {},
   "source": [
    "### train test split"
   ]
  },
  {
   "cell_type": "code",
   "execution_count": 13,
   "metadata": {},
   "outputs": [],
   "source": [
    "from sklearn.model_selection import train_test_split"
   ]
  },
  {
   "cell_type": "code",
   "execution_count": 14,
   "metadata": {},
   "outputs": [],
   "source": [
    "# split the data\n",
    "X_train, X_test, y_train, y_test = train_test_split(data.data, data.target,\n",
    "                                                   test_size=0.33)\n",
    "\n",
    "N, D = X_train.shape"
   ]
  },
  {
   "cell_type": "code",
   "execution_count": 15,
   "metadata": {},
   "outputs": [],
   "source": [
    "# tensorflow\n",
    "# using sigmoid for activation function (good performance with boolean type data)\n",
    "model = tf.keras.models.Sequential([\n",
    "    tf.keras.layers.Input(shape=(D,)),\n",
    "    tf.keras.layers.Dense(1, activation='sigmoid')\n",
    "])"
   ]
  },
  {
   "cell_type": "code",
   "execution_count": 16,
   "metadata": {},
   "outputs": [
    {
     "data": {
      "text/plain": [
       "\"\\nAlso can do like this\\n\\nmodel = tf.keras.models.Sequential()\\nmodel.add(tf.keras.layers.Dense(1, input_shape=(D,), activation='sigmoid'))\\n\""
      ]
     },
     "execution_count": 16,
     "metadata": {},
     "output_type": "execute_result"
    }
   ],
   "source": [
    "\"\"\"\n",
    "Also can do like this\n",
    "\n",
    "model = tf.keras.models.Sequential()\n",
    "model.add(tf.keras.layers.Dense(1, input_shape=(D,), activation='sigmoid'))\n",
    "\"\"\""
   ]
  },
  {
   "cell_type": "code",
   "execution_count": 17,
   "metadata": {},
   "outputs": [],
   "source": [
    "model.compile(optimizer='adam',\n",
    "             loss='binary_crossentropy',\n",
    "             metrics=['accuracy'])"
   ]
  },
  {
   "cell_type": "code",
   "execution_count": 18,
   "metadata": {},
   "outputs": [
    {
     "name": "stdout",
     "output_type": "stream",
     "text": [
      "Epoch 1/100\n",
      "12/12 [==============================] - 0s 9ms/step - loss: 245.5943 - accuracy: 0.3858 - val_loss: 262.5910 - val_accuracy: 0.3457\n",
      "Epoch 2/100\n",
      "12/12 [==============================] - 0s 3ms/step - loss: 236.2319 - accuracy: 0.3858 - val_loss: 252.5465 - val_accuracy: 0.3457\n",
      "Epoch 3/100\n",
      "12/12 [==============================] - 0s 3ms/step - loss: 227.0080 - accuracy: 0.3858 - val_loss: 242.3866 - val_accuracy: 0.3457\n",
      "Epoch 4/100\n",
      "12/12 [==============================] - 0s 3ms/step - loss: 217.6563 - accuracy: 0.3858 - val_loss: 232.2571 - val_accuracy: 0.3457\n",
      "Epoch 5/100\n",
      "12/12 [==============================] - 0s 3ms/step - loss: 208.4283 - accuracy: 0.3858 - val_loss: 222.0600 - val_accuracy: 0.3457\n",
      "Epoch 6/100\n",
      "12/12 [==============================] - 0s 3ms/step - loss: 199.1252 - accuracy: 0.3858 - val_loss: 211.8938 - val_accuracy: 0.3457\n",
      "Epoch 7/100\n",
      "12/12 [==============================] - 0s 3ms/step - loss: 189.8083 - accuracy: 0.3858 - val_loss: 201.7630 - val_accuracy: 0.3457\n",
      "Epoch 8/100\n",
      "12/12 [==============================] - 0s 3ms/step - loss: 180.3499 - accuracy: 0.3858 - val_loss: 191.8382 - val_accuracy: 0.3457\n",
      "Epoch 9/100\n",
      "12/12 [==============================] - 0s 3ms/step - loss: 171.2373 - accuracy: 0.3858 - val_loss: 181.6604 - val_accuracy: 0.3457\n",
      "Epoch 10/100\n",
      "12/12 [==============================] - 0s 3ms/step - loss: 161.8806 - accuracy: 0.3858 - val_loss: 171.5650 - val_accuracy: 0.3457\n",
      "Epoch 11/100\n",
      "12/12 [==============================] - 0s 3ms/step - loss: 152.7249 - accuracy: 0.3858 - val_loss: 161.3175 - val_accuracy: 0.3457\n",
      "Epoch 12/100\n",
      "12/12 [==============================] - 0s 3ms/step - loss: 143.3195 - accuracy: 0.3858 - val_loss: 151.2056 - val_accuracy: 0.3457\n",
      "Epoch 13/100\n",
      "12/12 [==============================] - 0s 3ms/step - loss: 134.0677 - accuracy: 0.3858 - val_loss: 141.0592 - val_accuracy: 0.3457\n",
      "Epoch 14/100\n",
      "12/12 [==============================] - 0s 3ms/step - loss: 124.7584 - accuracy: 0.3858 - val_loss: 130.9474 - val_accuracy: 0.3457\n",
      "Epoch 15/100\n",
      "12/12 [==============================] - 0s 3ms/step - loss: 115.3823 - accuracy: 0.3858 - val_loss: 120.9467 - val_accuracy: 0.3457\n",
      "Epoch 16/100\n",
      "12/12 [==============================] - 0s 3ms/step - loss: 106.2450 - accuracy: 0.3858 - val_loss: 110.7683 - val_accuracy: 0.3457\n",
      "Epoch 17/100\n",
      "12/12 [==============================] - 0s 3ms/step - loss: 96.8185 - accuracy: 0.3858 - val_loss: 100.7632 - val_accuracy: 0.3457\n",
      "Epoch 18/100\n",
      "12/12 [==============================] - 0s 3ms/step - loss: 87.6964 - accuracy: 0.3858 - val_loss: 90.5525 - val_accuracy: 0.3457\n",
      "Epoch 19/100\n",
      "12/12 [==============================] - 0s 3ms/step - loss: 78.3189 - accuracy: 0.3858 - val_loss: 80.4586 - val_accuracy: 0.3457\n",
      "Epoch 20/100\n",
      "12/12 [==============================] - 0s 3ms/step - loss: 69.1584 - accuracy: 0.3858 - val_loss: 70.2404 - val_accuracy: 0.3457\n",
      "Epoch 21/100\n",
      "12/12 [==============================] - 0s 3ms/step - loss: 59.7021 - accuracy: 0.3858 - val_loss: 60.2537 - val_accuracy: 0.3457\n",
      "Epoch 22/100\n",
      "12/12 [==============================] - 0s 3ms/step - loss: 50.4861 - accuracy: 0.3858 - val_loss: 50.1605 - val_accuracy: 0.3457\n",
      "Epoch 23/100\n",
      "12/12 [==============================] - 0s 3ms/step - loss: 41.3363 - accuracy: 0.3858 - val_loss: 39.9051 - val_accuracy: 0.3457\n",
      "Epoch 24/100\n",
      "12/12 [==============================] - 0s 3ms/step - loss: 31.8802 - accuracy: 0.3858 - val_loss: 29.8813 - val_accuracy: 0.3457\n",
      "Epoch 25/100\n",
      "12/12 [==============================] - 0s 3ms/step - loss: 22.6743 - accuracy: 0.3911 - val_loss: 19.8027 - val_accuracy: 0.3511\n",
      "Epoch 26/100\n",
      "12/12 [==============================] - 0s 3ms/step - loss: 13.4329 - accuracy: 0.4068 - val_loss: 10.0949 - val_accuracy: 0.4149\n",
      "Epoch 27/100\n",
      "12/12 [==============================] - 0s 3ms/step - loss: 5.3091 - accuracy: 0.5486 - val_loss: 2.4723 - val_accuracy: 0.6702\n",
      "Epoch 28/100\n",
      "12/12 [==============================] - 0s 3ms/step - loss: 1.3673 - accuracy: 0.7480 - val_loss: 0.7776 - val_accuracy: 0.8564\n",
      "Epoch 29/100\n",
      "12/12 [==============================] - 0s 4ms/step - loss: 1.3835 - accuracy: 0.8215 - val_loss: 0.7822 - val_accuracy: 0.8564\n",
      "Epoch 30/100\n",
      "12/12 [==============================] - 0s 3ms/step - loss: 1.2563 - accuracy: 0.8005 - val_loss: 0.8329 - val_accuracy: 0.8298\n",
      "Epoch 31/100\n",
      "12/12 [==============================] - 0s 3ms/step - loss: 1.1742 - accuracy: 0.7953 - val_loss: 0.9511 - val_accuracy: 0.7819\n",
      "Epoch 32/100\n",
      "12/12 [==============================] - 0s 3ms/step - loss: 1.1362 - accuracy: 0.7900 - val_loss: 0.8776 - val_accuracy: 0.8138\n",
      "Epoch 33/100\n",
      "12/12 [==============================] - 0s 3ms/step - loss: 1.1244 - accuracy: 0.7900 - val_loss: 0.8661 - val_accuracy: 0.8138\n",
      "Epoch 34/100\n",
      "12/12 [==============================] - 0s 3ms/step - loss: 1.1161 - accuracy: 0.7900 - val_loss: 0.8460 - val_accuracy: 0.8085\n",
      "Epoch 35/100\n",
      "12/12 [==============================] - 0s 3ms/step - loss: 1.1094 - accuracy: 0.7900 - val_loss: 0.8554 - val_accuracy: 0.8138\n",
      "Epoch 36/100\n",
      "12/12 [==============================] - 0s 3ms/step - loss: 1.1016 - accuracy: 0.7900 - val_loss: 0.8505 - val_accuracy: 0.8138\n",
      "Epoch 37/100\n",
      "12/12 [==============================] - 0s 3ms/step - loss: 1.0925 - accuracy: 0.7900 - val_loss: 0.8407 - val_accuracy: 0.8138\n",
      "Epoch 38/100\n",
      "12/12 [==============================] - 0s 3ms/step - loss: 1.0859 - accuracy: 0.7953 - val_loss: 0.8165 - val_accuracy: 0.8138\n",
      "Epoch 39/100\n",
      "12/12 [==============================] - 0s 3ms/step - loss: 1.0801 - accuracy: 0.7927 - val_loss: 0.8504 - val_accuracy: 0.8138\n",
      "Epoch 40/100\n",
      "12/12 [==============================] - 0s 3ms/step - loss: 1.0841 - accuracy: 0.7979 - val_loss: 0.7996 - val_accuracy: 0.8298\n",
      "Epoch 41/100\n",
      "12/12 [==============================] - 0s 3ms/step - loss: 1.0600 - accuracy: 0.7900 - val_loss: 0.8259 - val_accuracy: 0.8138\n",
      "Epoch 42/100\n",
      "12/12 [==============================] - 0s 3ms/step - loss: 1.0548 - accuracy: 0.7979 - val_loss: 0.8399 - val_accuracy: 0.8138\n",
      "Epoch 43/100\n",
      "12/12 [==============================] - 0s 3ms/step - loss: 1.0579 - accuracy: 0.8005 - val_loss: 0.8209 - val_accuracy: 0.8191\n",
      "Epoch 44/100\n",
      "12/12 [==============================] - 0s 3ms/step - loss: 1.0430 - accuracy: 0.7979 - val_loss: 0.7709 - val_accuracy: 0.8351\n",
      "Epoch 45/100\n",
      "12/12 [==============================] - 0s 3ms/step - loss: 1.0342 - accuracy: 0.7979 - val_loss: 0.7880 - val_accuracy: 0.8245\n",
      "Epoch 46/100\n",
      "12/12 [==============================] - 0s 3ms/step - loss: 1.0265 - accuracy: 0.8005 - val_loss: 0.7831 - val_accuracy: 0.8245\n",
      "Epoch 47/100\n",
      "12/12 [==============================] - 0s 3ms/step - loss: 1.0202 - accuracy: 0.8005 - val_loss: 0.7808 - val_accuracy: 0.8245\n",
      "Epoch 48/100\n",
      "12/12 [==============================] - 0s 3ms/step - loss: 1.0083 - accuracy: 0.7979 - val_loss: 0.7774 - val_accuracy: 0.8245\n",
      "Epoch 49/100\n",
      "12/12 [==============================] - 0s 3ms/step - loss: 1.0177 - accuracy: 0.8005 - val_loss: 0.7165 - val_accuracy: 0.8404\n",
      "Epoch 50/100\n",
      "12/12 [==============================] - 0s 3ms/step - loss: 1.0125 - accuracy: 0.8058 - val_loss: 0.8094 - val_accuracy: 0.8245\n",
      "Epoch 51/100\n",
      "12/12 [==============================] - 0s 3ms/step - loss: 0.9881 - accuracy: 0.8005 - val_loss: 0.7553 - val_accuracy: 0.8245\n",
      "Epoch 52/100\n",
      "12/12 [==============================] - 0s 3ms/step - loss: 0.9759 - accuracy: 0.8084 - val_loss: 0.7312 - val_accuracy: 0.8298\n",
      "Epoch 53/100\n",
      "12/12 [==============================] - 0s 3ms/step - loss: 0.9668 - accuracy: 0.8110 - val_loss: 0.7497 - val_accuracy: 0.8298\n",
      "Epoch 54/100\n",
      "12/12 [==============================] - 0s 3ms/step - loss: 0.9602 - accuracy: 0.8084 - val_loss: 0.7322 - val_accuracy: 0.8298\n",
      "Epoch 55/100\n",
      "12/12 [==============================] - 0s 3ms/step - loss: 0.9552 - accuracy: 0.8058 - val_loss: 0.7244 - val_accuracy: 0.8351\n",
      "Epoch 56/100\n",
      "12/12 [==============================] - 0s 3ms/step - loss: 0.9457 - accuracy: 0.8110 - val_loss: 0.7271 - val_accuracy: 0.8298\n",
      "Epoch 57/100\n",
      "12/12 [==============================] - 0s 3ms/step - loss: 0.9345 - accuracy: 0.8084 - val_loss: 0.7506 - val_accuracy: 0.8298\n",
      "Epoch 58/100\n"
     ]
    },
    {
     "name": "stdout",
     "output_type": "stream",
     "text": [
      "12/12 [==============================] - 0s 3ms/step - loss: 0.9300 - accuracy: 0.8084 - val_loss: 0.7135 - val_accuracy: 0.8298\n",
      "Epoch 59/100\n",
      "12/12 [==============================] - 0s 3ms/step - loss: 0.9191 - accuracy: 0.8110 - val_loss: 0.7044 - val_accuracy: 0.8351\n",
      "Epoch 60/100\n",
      "12/12 [==============================] - 0s 3ms/step - loss: 0.9092 - accuracy: 0.8110 - val_loss: 0.7048 - val_accuracy: 0.8298\n",
      "Epoch 61/100\n",
      "12/12 [==============================] - 0s 3ms/step - loss: 0.9042 - accuracy: 0.8110 - val_loss: 0.7063 - val_accuracy: 0.8298\n",
      "Epoch 62/100\n",
      "12/12 [==============================] - 0s 3ms/step - loss: 0.8974 - accuracy: 0.8110 - val_loss: 0.6771 - val_accuracy: 0.8457\n",
      "Epoch 63/100\n",
      "12/12 [==============================] - 0s 3ms/step - loss: 0.8861 - accuracy: 0.8163 - val_loss: 0.6799 - val_accuracy: 0.8457\n",
      "Epoch 64/100\n",
      "12/12 [==============================] - 0s 3ms/step - loss: 0.8782 - accuracy: 0.8163 - val_loss: 0.6746 - val_accuracy: 0.8457\n",
      "Epoch 65/100\n",
      "12/12 [==============================] - 0s 3ms/step - loss: 0.8765 - accuracy: 0.8110 - val_loss: 0.7112 - val_accuracy: 0.8298\n",
      "Epoch 66/100\n",
      "12/12 [==============================] - 0s 3ms/step - loss: 0.8643 - accuracy: 0.8084 - val_loss: 0.6601 - val_accuracy: 0.8511\n",
      "Epoch 67/100\n",
      "12/12 [==============================] - 0s 3ms/step - loss: 0.8536 - accuracy: 0.8163 - val_loss: 0.6611 - val_accuracy: 0.8511\n",
      "Epoch 68/100\n",
      "12/12 [==============================] - 0s 3ms/step - loss: 0.8653 - accuracy: 0.8189 - val_loss: 0.6360 - val_accuracy: 0.8617\n",
      "Epoch 69/100\n",
      "12/12 [==============================] - 0s 3ms/step - loss: 0.8565 - accuracy: 0.8136 - val_loss: 0.7249 - val_accuracy: 0.8351\n",
      "Epoch 70/100\n",
      "12/12 [==============================] - 0s 3ms/step - loss: 0.8237 - accuracy: 0.8189 - val_loss: 0.6397 - val_accuracy: 0.8564\n",
      "Epoch 71/100\n",
      "12/12 [==============================] - 0s 3ms/step - loss: 0.8233 - accuracy: 0.8241 - val_loss: 0.5857 - val_accuracy: 0.8617\n",
      "Epoch 72/100\n",
      "12/12 [==============================] - 0s 3ms/step - loss: 0.8270 - accuracy: 0.8215 - val_loss: 0.6529 - val_accuracy: 0.8457\n",
      "Epoch 73/100\n",
      "12/12 [==============================] - 0s 3ms/step - loss: 0.8031 - accuracy: 0.8268 - val_loss: 0.6262 - val_accuracy: 0.8564\n",
      "Epoch 74/100\n",
      "12/12 [==============================] - 0s 3ms/step - loss: 0.7957 - accuracy: 0.8189 - val_loss: 0.6092 - val_accuracy: 0.8617\n",
      "Epoch 75/100\n",
      "12/12 [==============================] - 0s 3ms/step - loss: 0.7900 - accuracy: 0.8215 - val_loss: 0.5983 - val_accuracy: 0.8617\n",
      "Epoch 76/100\n",
      "12/12 [==============================] - 0s 3ms/step - loss: 0.7834 - accuracy: 0.8215 - val_loss: 0.6369 - val_accuracy: 0.8457\n",
      "Epoch 77/100\n",
      "12/12 [==============================] - 0s 3ms/step - loss: 0.7756 - accuracy: 0.8241 - val_loss: 0.5796 - val_accuracy: 0.8617\n",
      "Epoch 78/100\n",
      "12/12 [==============================] - 0s 3ms/step - loss: 0.7631 - accuracy: 0.8268 - val_loss: 0.6101 - val_accuracy: 0.8564\n",
      "Epoch 79/100\n",
      "12/12 [==============================] - 0s 3ms/step - loss: 0.7561 - accuracy: 0.8268 - val_loss: 0.5971 - val_accuracy: 0.8564\n",
      "Epoch 80/100\n",
      "12/12 [==============================] - 0s 3ms/step - loss: 0.7481 - accuracy: 0.8268 - val_loss: 0.5976 - val_accuracy: 0.8564\n",
      "Epoch 81/100\n",
      "12/12 [==============================] - 0s 3ms/step - loss: 0.7430 - accuracy: 0.8268 - val_loss: 0.5829 - val_accuracy: 0.8564\n",
      "Epoch 82/100\n",
      "12/12 [==============================] - 0s 3ms/step - loss: 0.7302 - accuracy: 0.8294 - val_loss: 0.5569 - val_accuracy: 0.8617\n",
      "Epoch 83/100\n",
      "12/12 [==============================] - 0s 3ms/step - loss: 0.7257 - accuracy: 0.8320 - val_loss: 0.5694 - val_accuracy: 0.8564\n",
      "Epoch 84/100\n",
      "12/12 [==============================] - 0s 3ms/step - loss: 0.7165 - accuracy: 0.8399 - val_loss: 0.5539 - val_accuracy: 0.8617\n",
      "Epoch 85/100\n",
      "12/12 [==============================] - 0s 8ms/step - loss: 0.7113 - accuracy: 0.8294 - val_loss: 0.5812 - val_accuracy: 0.8564\n",
      "Epoch 86/100\n",
      "12/12 [==============================] - 0s 3ms/step - loss: 0.7017 - accuracy: 0.8294 - val_loss: 0.5321 - val_accuracy: 0.8617\n",
      "Epoch 87/100\n",
      "12/12 [==============================] - 0s 3ms/step - loss: 0.6956 - accuracy: 0.8320 - val_loss: 0.5576 - val_accuracy: 0.8564\n",
      "Epoch 88/100\n",
      "12/12 [==============================] - 0s 3ms/step - loss: 0.6858 - accuracy: 0.8294 - val_loss: 0.5492 - val_accuracy: 0.8564\n",
      "Epoch 89/100\n",
      "12/12 [==============================] - 0s 3ms/step - loss: 0.6787 - accuracy: 0.8373 - val_loss: 0.5358 - val_accuracy: 0.8564\n",
      "Epoch 90/100\n",
      "12/12 [==============================] - 0s 3ms/step - loss: 0.6773 - accuracy: 0.8268 - val_loss: 0.5564 - val_accuracy: 0.8617\n",
      "Epoch 91/100\n",
      "12/12 [==============================] - 0s 3ms/step - loss: 0.6766 - accuracy: 0.8373 - val_loss: 0.4938 - val_accuracy: 0.8617\n",
      "Epoch 92/100\n",
      "12/12 [==============================] - 0s 3ms/step - loss: 0.6703 - accuracy: 0.8399 - val_loss: 0.5561 - val_accuracy: 0.8617\n",
      "Epoch 93/100\n",
      "12/12 [==============================] - 0s 3ms/step - loss: 0.6460 - accuracy: 0.8425 - val_loss: 0.5037 - val_accuracy: 0.8670\n",
      "Epoch 94/100\n",
      "12/12 [==============================] - 0s 3ms/step - loss: 0.6501 - accuracy: 0.8451 - val_loss: 0.4932 - val_accuracy: 0.8670\n",
      "Epoch 95/100\n",
      "12/12 [==============================] - 0s 3ms/step - loss: 0.6318 - accuracy: 0.8478 - val_loss: 0.5099 - val_accuracy: 0.8617\n",
      "Epoch 96/100\n",
      "12/12 [==============================] - 0s 3ms/step - loss: 0.6288 - accuracy: 0.8346 - val_loss: 0.5166 - val_accuracy: 0.8617\n",
      "Epoch 97/100\n",
      "12/12 [==============================] - 0s 3ms/step - loss: 0.6166 - accuracy: 0.8451 - val_loss: 0.4881 - val_accuracy: 0.8670\n",
      "Epoch 98/100\n",
      "12/12 [==============================] - 0s 3ms/step - loss: 0.6119 - accuracy: 0.8504 - val_loss: 0.4867 - val_accuracy: 0.8670\n",
      "Epoch 99/100\n",
      "12/12 [==============================] - 0s 3ms/step - loss: 0.6182 - accuracy: 0.8504 - val_loss: 0.4625 - val_accuracy: 0.8670\n",
      "Epoch 100/100\n",
      "12/12 [==============================] - 0s 3ms/step - loss: 0.5992 - accuracy: 0.8425 - val_loss: 0.5140 - val_accuracy: 0.8670\n"
     ]
    }
   ],
   "source": [
    "r = model.fit(X_train, y_train, validation_data=(X_test, y_test), epochs=100)"
   ]
  },
  {
   "cell_type": "code",
   "execution_count": 19,
   "metadata": {},
   "outputs": [
    {
     "name": "stdout",
     "output_type": "stream",
     "text": [
      "12/12 [==============================] - 0s 738us/step - loss: 0.5949 - accuracy: 0.8399\n",
      "Train score: [0.5949105620384216, 0.8398950099945068]\n",
      "6/6 [==============================] - 0s 965us/step - loss: 0.5140 - accuracy: 0.8670\n",
      "Test score: [0.5139567852020264, 0.8670212626457214]\n"
     ]
    }
   ],
   "source": [
    "print(\"Train score:\", model.evaluate(X_train, y_train))\n",
    "print(\"Test score:\", model.evaluate(X_test, y_test))"
   ]
  },
  {
   "cell_type": "code",
   "execution_count": null,
   "metadata": {},
   "outputs": [],
   "source": []
  },
  {
   "cell_type": "markdown",
   "metadata": {},
   "source": [
    "### ploting"
   ]
  },
  {
   "cell_type": "code",
   "execution_count": 20,
   "metadata": {},
   "outputs": [
    {
     "data": {
      "text/plain": [
       "<matplotlib.legend.Legend at 0x7f51c0060d00>"
      ]
     },
     "execution_count": 20,
     "metadata": {},
     "output_type": "execute_result"
    },
    {
     "data": {
      "image/png": "[encoded data removed]",
      "text/plain": [
       "<Figure size 432x288 with 1 Axes>"
      ]
     },
     "metadata": {
      "needs_background": "light"
     },
     "output_type": "display_data"
    }
   ],
   "source": [
    "import matplotlib.pyplot as plt\n",
    "plt.plot(r.history['loss'], label='loss')\n",
    "plt.plot(r.history['val_loss'], label='val_loss')\n",
    "plt.legend()"
   ]
  },
  {
   "cell_type": "code",
   "execution_count": 21,
   "metadata": {},
   "outputs": [
    {
     "data": {
      "text/plain": [
       "<matplotlib.legend.Legend at 0x7f51a44dae20>"
      ]
     },
     "execution_count": 21,
     "metadata": {},
     "output_type": "execute_result"
    },
    {
     "data": {
      "image/png": "[encoded data removed]",
      "text/plain": [
       "<Figure size 432x288 with 1 Axes>"
      ]
     },
     "metadata": {
      "needs_background": "light"
     },
     "output_type": "display_data"
    }
   ],
   "source": [
    "plt.plot(r.history['accuracy'], label='loss')\n",
    "plt.plot(r.history['val_accuracy'], label='val_loss')\n",
    "plt.legend()"
   ]
  },
  {
   "cell_type": "markdown",
   "metadata": {},
   "source": [
    "### Makin gPredictions"
   ]
  },
  {
   "cell_type": "code",
   "execution_count": 26,
   "metadata": {},
   "outputs": [
    {
     "name": "stdout",
     "output_type": "stream",
     "text": [
      "[[9.3036324e-06]\n",
      " [9.2165238e-01]\n",
      " [9.6742815e-01]\n",
      " [9.6900183e-01]\n",
      " [6.5723723e-01]\n",
      " [4.4076252e-04]\n",
      " [9.9045122e-01]\n",
      " [3.6822208e-08]\n",
      " [9.0293944e-01]\n",
      " [2.1680541e-12]\n",
      " [2.6386617e-08]\n",
      " [9.9187273e-01]\n",
      " [9.8860300e-01]\n",
      " [9.3353921e-01]\n",
      " [7.1280390e-09]\n",
      " [3.2270086e-01]\n",
      " [9.5073247e-01]\n",
      " [9.9530560e-01]\n",
      " [5.6022790e-04]\n",
      " [6.8534881e-01]\n",
      " [9.8798126e-01]\n",
      " [8.2659638e-03]\n",
      " [9.9943930e-01]\n",
      " [4.0022692e-01]\n",
      " [9.6332842e-01]\n",
      " [1.6863136e-04]\n",
      " [9.6446711e-01]\n",
      " [9.8898065e-01]\n",
      " [1.9496119e-02]\n",
      " [9.8964804e-01]\n",
      " [9.6180409e-01]\n",
      " [9.9605823e-01]\n",
      " [9.8515701e-01]\n",
      " [9.1816046e-21]\n",
      " [9.8778534e-01]\n",
      " [3.2509509e-11]\n",
      " [3.7893739e-01]\n",
      " [9.9074793e-01]\n",
      " [4.2280767e-02]\n",
      " [9.9996734e-01]\n",
      " [9.4963795e-01]\n",
      " [3.7727619e-03]\n",
      " [9.1656608e-18]\n",
      " [7.7658516e-01]\n",
      " [9.2394853e-01]\n",
      " [2.8354338e-05]\n",
      " [7.5197679e-01]\n",
      " [9.7583276e-01]\n",
      " [9.9179560e-01]\n",
      " [9.9960202e-01]\n",
      " [7.9735568e-05]\n",
      " [4.6995467e-07]\n",
      " [9.9265689e-01]\n",
      " [8.4329349e-01]\n",
      " [8.8901466e-01]\n",
      " [1.6877034e-01]\n",
      " [9.4442058e-01]\n",
      " [7.5234964e-02]\n",
      " [9.7588028e-11]\n",
      " [2.6908893e-08]\n",
      " [9.9794179e-01]\n",
      " [9.7976345e-01]\n",
      " [9.9880564e-01]\n",
      " [9.1322458e-01]\n",
      " [3.3109648e-10]\n",
      " [9.1956180e-01]\n",
      " [9.0331978e-01]\n",
      " [8.8391387e-01]\n",
      " [9.9112540e-01]\n",
      " [9.7864246e-01]\n",
      " [1.2296915e-13]\n",
      " [1.5658370e-17]\n",
      " [0.0000000e+00]\n",
      " [9.8170769e-01]\n",
      " [1.6465759e-10]\n",
      " [3.6092579e-01]\n",
      " [8.3416373e-01]\n",
      " [7.1992315e-02]\n",
      " [7.9285830e-01]\n",
      " [1.3049408e-02]\n",
      " [9.7075319e-03]\n",
      " [4.9164604e-02]\n",
      " [9.7316247e-01]\n",
      " [9.7378820e-01]\n",
      " [2.1112543e-01]\n",
      " [3.8743799e-22]\n",
      " [9.9690717e-01]\n",
      " [2.9668938e-06]\n",
      " [1.1528617e-13]\n",
      " [2.0586400e-08]\n",
      " [1.4874652e-05]\n",
      " [9.9795413e-01]\n",
      " [9.9986315e-01]\n",
      " [9.9521291e-01]\n",
      " [9.9878961e-01]\n",
      " [1.6044632e-01]\n",
      " [2.6244825e-07]\n",
      " [8.6132920e-01]\n",
      " [9.8185712e-01]\n",
      " [3.2471414e-10]\n",
      " [9.4318872e-05]\n",
      " [1.0374723e-11]\n",
      " [4.8350647e-01]\n",
      " [9.2636693e-01]\n",
      " [9.9850178e-01]\n",
      " [9.7257859e-01]\n",
      " [6.7698361e-20]\n",
      " [5.5325545e-02]\n",
      " [9.7187668e-01]\n",
      " [2.6156058e-20]\n",
      " [9.3138069e-01]\n",
      " [4.7943231e-01]\n",
      " [9.4884139e-01]\n",
      " [9.4886127e-06]\n",
      " [9.8127580e-01]\n",
      " [1.4694197e-01]\n",
      " [2.4709887e-09]\n",
      " [5.8462429e-10]\n",
      " [8.5875989e-13]\n",
      " [9.8328280e-01]\n",
      " [9.8813349e-01]\n",
      " [9.9644738e-01]\n",
      " [4.9729401e-01]\n",
      " [1.0938550e-08]\n",
      " [7.9104584e-01]\n",
      " [1.5699398e-17]\n",
      " [2.3829927e-01]\n",
      " [4.7634381e-01]\n",
      " [9.9952161e-01]\n",
      " [9.9321777e-01]\n",
      " [3.9542910e-02]\n",
      " [1.1677724e-01]\n",
      " [2.4577524e-13]\n",
      " [8.5267437e-01]\n",
      " [9.9770206e-01]\n",
      " [9.8489654e-01]\n",
      " [7.0345908e-07]\n",
      " [4.7142255e-01]\n",
      " [3.8968250e-03]\n",
      " [8.9674350e-03]\n",
      " [9.9318343e-01]\n",
      " [9.9604768e-01]\n",
      " [4.5971959e-04]\n",
      " [9.6828443e-01]\n",
      " [9.9244225e-01]\n",
      " [9.8913306e-01]\n",
      " [9.9734432e-01]\n",
      " [8.1454146e-01]\n",
      " [6.7965657e-01]\n",
      " [4.4553623e-01]\n",
      " [9.7295231e-01]\n",
      " [7.7894014e-01]\n",
      " [7.9706550e-01]\n",
      " [1.1023380e-01]\n",
      " [6.8617249e-01]\n",
      " [9.3522507e-01]\n",
      " [1.5156665e-04]\n",
      " [2.3714292e-03]\n",
      " [2.4668574e-01]\n",
      " [9.0603614e-01]\n",
      " [9.9389327e-01]\n",
      " [2.4057512e-09]\n",
      " [8.0346864e-01]\n",
      " [9.9762779e-01]\n",
      " [9.8560506e-01]\n",
      " [9.4530839e-01]\n",
      " [5.9734899e-01]\n",
      " [9.9987328e-01]\n",
      " [3.2320345e-04]\n",
      " [1.7582089e-02]\n",
      " [9.6686625e-01]\n",
      " [9.9991751e-01]\n",
      " [9.0518534e-01]\n",
      " [6.9497907e-01]\n",
      " [1.6620037e-12]\n",
      " [1.6199360e-13]\n",
      " [9.8952615e-01]\n",
      " [9.9929905e-01]\n",
      " [9.7515070e-01]\n",
      " [9.9204445e-01]\n",
      " [4.8069954e-01]\n",
      " [9.8904246e-01]\n",
      " [2.5282842e-01]\n",
      " [7.8197098e-01]\n",
      " [5.4646557e-04]\n",
      " [9.9009436e-01]\n",
      " [9.8219740e-01]\n",
      " [9.8758233e-01]]\n"
     ]
    }
   ],
   "source": [
    "# Make predictions\n",
    "p = model.predict(X_test)\n",
    "print(p) \n",
    "# they are outputs of the sigmoid, interrpreted as probabilities p(y = 1 | x)"
   ]
  },
  {
   "cell_type": "code",
   "execution_count": 27,
   "metadata": {},
   "outputs": [
    {
     "name": "stdout",
     "output_type": "stream",
     "text": [
      "[0. 1. 1. 1. 1. 0. 1. 0. 1. 0. 0. 1. 1. 1. 0. 0. 1. 1. 0. 1. 1. 0. 1. 0.\n",
      " 1. 0. 1. 1. 0. 1. 1. 1. 1. 0. 1. 0. 0. 1. 0. 1. 1. 0. 0. 1. 1. 0. 1. 1.\n",
      " 1. 1. 0. 0. 1. 1. 1. 0. 1. 0. 0. 0. 1. 1. 1. 1. 0. 1. 1. 1. 1. 1. 0. 0.\n",
      " 0. 1. 0. 0. 1. 0. 1. 0. 0. 0. 1. 1. 0. 0. 1. 0. 0. 0. 0. 1. 1. 1. 1. 0.\n",
      " 0. 1. 1. 0. 0. 0. 0. 1. 1. 1. 0. 0. 1. 0. 1. 0. 1. 0. 1. 0. 0. 0. 0. 1.\n",
      " 1. 1. 0. 0. 1. 0. 0. 0. 1. 1. 0. 0. 0. 1. 1. 1. 0. 0. 0. 0. 1. 1. 0. 1.\n",
      " 1. 1. 1. 1. 1. 0. 1. 1. 1. 0. 1. 1. 0. 0. 0. 1. 1. 0. 1. 1. 1. 1. 1. 1.\n",
      " 0. 0. 1. 1. 1. 1. 0. 0. 1. 1. 1. 1. 0. 1. 0. 1. 0. 1. 1. 1.]\n"
     ]
    }
   ],
   "source": [
    "# Round to get the acutal predictions\n",
    "# Note: has to be flattened since the targets are size (N,) while the predictions are size(N,1)\n",
    "\n",
    "import numpy as np\n",
    "p = np.round(p).flatten()\n",
    "print(p)"
   ]
  },
  {
   "cell_type": "code",
   "execution_count": 31,
   "metadata": {},
   "outputs": [
    {
     "name": "stdout",
     "output_type": "stream",
     "text": [
      "Manually calculated accuracy: 0.824468085106383\n",
      "----------------------------------------\n",
      "6/6 [==============================] - 0s 702us/step - loss: 0.7236 - accuracy: 0.8245\n",
      "Evaluate output: [0.7236453890800476, 0.8244680762290955]\n"
     ]
    }
   ],
   "source": [
    "print(\"Manually calculated accuracy:\", np.mean(p == y_test))\n",
    "print(\"-\"*40)\n",
    "print(\"Evaluate output:\", model.evaluate(X_test, y_test))"
   ]
  },
  {
   "cell_type": "code",
   "execution_count": null,
   "metadata": {},
   "outputs": [],
   "source": []
  },
  {
   "cell_type": "markdown",
   "metadata": {},
   "source": [
    "### Saving and Loading a Model"
   ]
  },
  {
   "cell_type": "code",
   "execution_count": 22,
   "metadata": {},
   "outputs": [],
   "source": [
    "model.save('linearclassifier.h5')"
   ]
  },
  {
   "cell_type": "code",
   "execution_count": 23,
   "metadata": {},
   "outputs": [
    {
     "name": "stdout",
     "output_type": "stream",
     "text": [
      "Classification.ipynb\r\n",
      "linearclassifier.h5\r\n",
      "moore.csv\r\n",
      "regression.h5\r\n",
      "Regression.ipynb\r\n"
     ]
    }
   ],
   "source": [
    "# check that the model file exists\n",
    "!ls -1h"
   ]
  },
  {
   "cell_type": "code",
   "execution_count": 24,
   "metadata": {},
   "outputs": [
    {
     "name": "stdout",
     "output_type": "stream",
     "text": [
      "[<tensorflow.python.keras.layers.core.Dense object at 0x7f51a449a670>]\n",
      "6/6 [==============================] - 0s 1ms/step - loss: 0.5140 - accuracy: 0.8670\n"
     ]
    },
    {
     "data": {
      "text/plain": [
       "[0.5139567852020264, 0.8670212626457214]"
      ]
     },
     "execution_count": 24,
     "metadata": {},
     "output_type": "execute_result"
    }
   ],
   "source": [
    "model = tf.keras.models.load_model(\"linearclassifier.h5\")\n",
    "print(model.layers)\n",
    "model.evaluate(X_test, y_test)"
   ]
  },
  {
   "cell_type": "code",
   "execution_count": null,
   "metadata": {},
   "outputs": [],
   "source": []
  },
  {
   "cell_type": "code",
   "execution_count": null,
   "metadata": {},
   "outputs": [],
   "source": []
  }
 ],
 "metadata": {
  "kernelspec": {
   "display_name": "Python 3",
   "language": "python",
   "name": "python3"
  },
  "language_info": {
   "codemirror_mode": {
    "name": "ipython",
    "version": 3
   },
   "file_extension": ".py",
   "mimetype": "text/x-python",
   "name": "python",
   "nbconvert_exporter": "python",
   "pygments_lexer": "ipython3",
   "version": "3.8.3"
  }
 },
 "nbformat": 4,
 "nbformat_minor": 4
}
