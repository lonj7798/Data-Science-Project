{
 "cells": [
  {
   "cell_type": "code",
   "execution_count": 1,
   "metadata": {},
   "outputs": [],
   "source": [
    "import numpy as np\n",
    "import pandas as pd\n",
    "\n",
    "import matplotlib.pyplot as plt\n",
    "import seaborn as sns\n",
    "%matplotlib inline"
   ]
  },
  {
   "cell_type": "code",
   "execution_count": 2,
   "metadata": {
    "scrolled": true
   },
   "outputs": [],
   "source": [
    "data = pd.read_csv(\"../Data/Biometric Data Analysis/train.csv\")"
   ]
  },
  {
   "cell_type": "code",
   "execution_count": 3,
   "metadata": {},
   "outputs": [],
   "source": [
    "data_dst = data.filter(regex='_dst$', axis=1).replace(0, np.NaN)\n",
    "data_dst = data_dst.interpolate(methods='linear', axis=1)\n",
    "data_dst.fillna(-999, inplace=True) "
   ]
  },
  {
   "cell_type": "code",
   "execution_count": 4,
   "metadata": {},
   "outputs": [],
   "source": [
    "data.update(data_dst)"
   ]
  },
  {
   "cell_type": "code",
   "execution_count": 5,
   "metadata": {},
   "outputs": [],
   "source": [
    "data.rho.unique()\n",
    "data.drop(\"id\", axis=1, inplace=True)"
   ]
  },
  {
   "cell_type": "code",
   "execution_count": 6,
   "metadata": {},
   "outputs": [],
   "source": [
    "# group by rho\n",
    "\n",
    "data_rho_25 = data[data['rho'] == 25]\n",
    "data_rho_20 = data[data['rho'] == 20]\n",
    "data_rho_15 = data[data['rho'] == 15]\n",
    "data_rho_10 = data[data['rho'] == 10]"
   ]
  },
  {
   "cell_type": "markdown",
   "metadata": {},
   "source": [
    "### XG Boost"
   ]
  },
  {
   "cell_type": "code",
   "execution_count": 7,
   "metadata": {},
   "outputs": [],
   "source": [
    "import xgboost as xgb\n",
    "from sklearn.metrics import mean_squared_error\n",
    "from sklearn.model_selection import train_test_split\n",
    "from sklearn.model_selection import KFold"
   ]
  },
  {
   "cell_type": "code",
   "execution_count": 8,
   "metadata": {},
   "outputs": [],
   "source": [
    "def XY(df):\n",
    "    X = df.iloc[:,:-4]\n",
    "    y_hhb = df.iloc[:,-4]\n",
    "    y_hhbo2 = df.iloc[:,-3]\n",
    "    y_ca = df.iloc[:,-2]\n",
    "    y_na = df.iloc[:,-1]\n",
    "    \n",
    "    return X, y_hhb, y_hhbo2, y_ca, y_na"
   ]
  },
  {
   "cell_type": "code",
   "execution_count": 9,
   "metadata": {},
   "outputs": [],
   "source": [
    "X, y_hhb, y_hhbo2, y_ca, y_na = XY(data)\n",
    "    \n",
    "    # Split data\n",
    "X1_train, X1_test, y1_train, y1_test = train_test_split(X, y_hhb, test_size=0.3, shuffle=1234)\n",
    "X2_train, X2_test, y2_train, y2_test = train_test_split(X, y_hhbo2, test_size=0.3, shuffle=1234)\n",
    "X3_train, X3_test, y3_train, y3_test = train_test_split(X, y_ca, test_size=0.3, shuffle=1234)\n",
    "X4_train, X4_test, y4_train, y4_test = train_test_split(X, y_na, test_size=0.3, shuffle=1234)"
   ]
  },
  {
   "cell_type": "code",
   "execution_count": 13,
   "metadata": {},
   "outputs": [],
   "source": [
    "from sklearn.model_selection import KFold\n",
    "\n",
    "\n",
    "def KFold(X, y):\n",
    "    \n",
    "    X = X.values\n",
    "\n",
    "    kf = KFold(n_splits = 5, shuffle = True, random_state=1)\n",
    "    kf.get_n_splits(X)\n",
    "\n",
    "    KFold(n_splits=5, random_state=1232, shuffle=True)\n",
    "    for train_index, test_index in kf.split(X):\n",
    "        print(\"TRAIN:\", train_index, \"TEST:\", test_index)\n",
    "        X_train, X_test = X[train_index], X[test_index]\n",
    "        y_train, y_test = y[train_index], y[test_index]\n",
    "    \n",
    "    return X_train, X_test, y_train, y_test\n",
    "    "
   ]
  },
  {
   "cell_type": "code",
   "execution_count": 14,
   "metadata": {},
   "outputs": [],
   "source": [
    "def XG_Boost(df, num):\n",
    "    X, y_hhb, y_hhbo2, y_ca, y_na = XY(df)\n",
    "    \n",
    "    kf = KFold(n_splits = 5, shuffle = True, random_state=1)\n",
    "    \n",
    "    for i,(train_ind, test_ind) in enumerate(KF.split(train1)):\n",
    "        print('========Fold',i)\n",
    "        Xtrain, XCV, ytrain, yCV = train1.iloc[train_ind], train1.iloc[test_ind], y.values[train_ind], y.values[test_ind]\n",
    "    \n",
    "        model = xgb.train(params, xgb.DMatrix(Xtrain, ytrain), 200, maximize=False)\n",
    "\n",
    "        preds += np.exp(model.predict(xgb.DMatrix(test1)))/5\n",
    "\n",
    "        pred = model.predict(xgb.DMatrix(XCV))\n",
    "        print('logloss :', np.sqrt(metrics.mean_squared_error(pred, yCV)))\n",
    "    \n",
    "    \n",
    "    \n",
    "    \n",
    "    \n",
    "    \n",
    "    \n",
    "    \n",
    "    \n",
    "    \n",
    "    # Split data\n",
    "    X1_train, X1_test, y1_train, y1_test = KFold(X, y_hhb)\n",
    "    X2_train, X2_test, y2_train, y2_test = KFold(X, y_hhbo2)\n",
    "    X3_train, X3_test, y3_train, y3_test = KFold(X, y_ca)\n",
    "    X4_train, X4_test, y4_train, y4_test = KFold(X, y_na)\n",
    "    \n",
    "    \n",
    "    xg_reg_hbb = xgb.XGBRegressor(colsample_bytree=0.4603, gamma=0.0468, \n",
    "                             learning_rate=0.05, max_depth=5, \n",
    "                             min_child_weight=1.7817, n_estimators=2200,\n",
    "                             reg_alpha=0.4640, reg_lambda=0.8571,\n",
    "                             subsample=0.5213, silent=1,\n",
    "                             random_state =7, nthread = -1)\n",
    "    xg_reg_hbo2 = xgb.XGBRegressor(colsample_bytree=0.4603, gamma=0.0468, \n",
    "                             learning_rate=0.05, max_depth=5, \n",
    "                             min_child_weight=1.7817, n_estimators=2200,\n",
    "                             reg_alpha=0.4640, reg_lambda=0.8571,\n",
    "                             subsample=0.5213, silent=1,\n",
    "                             random_state =7, nthread = -1)\n",
    "    xg_reg_ca = xgb.XGBRegressor(colsample_bytree=0.4603, gamma=0.0468, \n",
    "                             learning_rate=0.05, max_depth=5, \n",
    "                             min_child_weight=1.7817, n_estimators=2200,\n",
    "                             reg_alpha=0.4640, reg_lambda=0.8571,\n",
    "                             subsample=0.5213, silent=1,\n",
    "                             random_state =7, nthread = -1)\n",
    "    xg_reg_na = xgb.XGBRegressor(colsample_bytree=0.4603, gamma=0.0468, \n",
    "                             learning_rate=0.05, max_depth=5, \n",
    "                             min_child_weight=1.7817, n_estimators=2200,\n",
    "                             reg_alpha=0.4640, reg_lambda=0.8571,\n",
    "                             subsample=0.5213, silent=1,\n",
    "                             random_state =7, nthread = -1)\n",
    "    \n",
    "    \n",
    "    xg_reg_hbb.fit(X1_train,y1_train)\n",
    "    preds_hbb = xg_reg_hbb.predict(X1_test)\n",
    "\n",
    "    xg_reg_hbo2.fit(X2_train,y2_train)\n",
    "    preds_hbo2 = xg_reg_hbo2.predict(X2_test)\n",
    "\n",
    "    xg_reg_ca.fit(X3_train,y3_train)\n",
    "    preds_ca = xg_reg_ca.predict(X3_test)\n",
    "\n",
    "    xg_reg_na.fit(X4_train,y4_train)\n",
    "    preds_na = xg_reg_na.predict(X4_test)\n",
    "    \n",
    "    \n",
    "    rmse_hbb = np.sqrt(mean_squared_error(y1_test, preds_hbb))\n",
    "    rmse_hbo2 = np.sqrt(mean_squared_error(y2_test, preds_hbo2))\n",
    "    rmse_ca = np.sqrt(mean_squared_error(y3_test, preds_ca))\n",
    "    rmse_na = np.sqrt(mean_squared_error(y4_test, preds_na))\n",
    "\n",
    "    print(num, \" mm\")\n",
    "    print(\"RMSE - hbb  : %f\" % (rmse_hbb))\n",
    "    print(\"RMSE - hbo2 : %f\" % (rmse_hbo2))\n",
    "    print(\"RMSE - ca   : %f\" % (rmse_ca))\n",
    "    print(\"RMSE - na   : %f\" % (rmse_na))\n",
    "    \n",
    "    \n",
    "    return xg_reg_hbb, xg_reg_hbo2, xg_reg_ca, xg_reg_na"
   ]
  },
  {
   "cell_type": "code",
   "execution_count": 15,
   "metadata": {},
   "outputs": [
    {
     "ename": "TypeError",
     "evalue": "KFold() got an unexpected keyword argument 'n_splits'",
     "output_type": "error",
     "traceback": [
      "\u001b[1;31m---------------------------------------------------------------------------\u001b[0m",
      "\u001b[1;31mTypeError\u001b[0m                                 Traceback (most recent call last)",
      "\u001b[1;32m<ipython-input-15-ef967751b63b>\u001b[0m in \u001b[0;36m<module>\u001b[1;34m\u001b[0m\n\u001b[0;32m      1\u001b[0m \u001b[1;31m# data_rho_25, data_rho_20, data_rho_15, data_rho_10\u001b[0m\u001b[1;33m\u001b[0m\u001b[1;33m\u001b[0m\u001b[1;33m\u001b[0m\u001b[0m\n\u001b[0;32m      2\u001b[0m \u001b[1;33m\u001b[0m\u001b[0m\n\u001b[1;32m----> 3\u001b[1;33m \u001b[0mhbb_25\u001b[0m\u001b[1;33m,\u001b[0m \u001b[0mhbo2_25\u001b[0m\u001b[1;33m,\u001b[0m \u001b[0mca_25\u001b[0m\u001b[1;33m,\u001b[0m \u001b[0mna_25\u001b[0m \u001b[1;33m=\u001b[0m \u001b[0mXG_Boost\u001b[0m\u001b[1;33m(\u001b[0m\u001b[0mdata_rho_25\u001b[0m\u001b[1;33m,\u001b[0m \u001b[1;36m25\u001b[0m\u001b[1;33m)\u001b[0m\u001b[1;33m\u001b[0m\u001b[1;33m\u001b[0m\u001b[0m\n\u001b[0m",
      "\u001b[1;32m<ipython-input-14-5d03ed9887fe>\u001b[0m in \u001b[0;36mXG_Boost\u001b[1;34m(df, num)\u001b[0m\n\u001b[0;32m      3\u001b[0m \u001b[1;33m\u001b[0m\u001b[0m\n\u001b[0;32m      4\u001b[0m     \u001b[1;31m# Split data\u001b[0m\u001b[1;33m\u001b[0m\u001b[1;33m\u001b[0m\u001b[1;33m\u001b[0m\u001b[0m\n\u001b[1;32m----> 5\u001b[1;33m     \u001b[0mX1_train\u001b[0m\u001b[1;33m,\u001b[0m \u001b[0mX1_test\u001b[0m\u001b[1;33m,\u001b[0m \u001b[0my1_train\u001b[0m\u001b[1;33m,\u001b[0m \u001b[0my1_test\u001b[0m \u001b[1;33m=\u001b[0m \u001b[0mKFold\u001b[0m\u001b[1;33m(\u001b[0m\u001b[0mX\u001b[0m\u001b[1;33m,\u001b[0m \u001b[0my_hhb\u001b[0m\u001b[1;33m)\u001b[0m\u001b[1;33m\u001b[0m\u001b[1;33m\u001b[0m\u001b[0m\n\u001b[0m\u001b[0;32m      6\u001b[0m     \u001b[0mX2_train\u001b[0m\u001b[1;33m,\u001b[0m \u001b[0mX2_test\u001b[0m\u001b[1;33m,\u001b[0m \u001b[0my2_train\u001b[0m\u001b[1;33m,\u001b[0m \u001b[0my2_test\u001b[0m \u001b[1;33m=\u001b[0m \u001b[0mKFold\u001b[0m\u001b[1;33m(\u001b[0m\u001b[0mX\u001b[0m\u001b[1;33m,\u001b[0m \u001b[0my_hhbo2\u001b[0m\u001b[1;33m)\u001b[0m\u001b[1;33m\u001b[0m\u001b[1;33m\u001b[0m\u001b[0m\n\u001b[0;32m      7\u001b[0m     \u001b[0mX3_train\u001b[0m\u001b[1;33m,\u001b[0m \u001b[0mX3_test\u001b[0m\u001b[1;33m,\u001b[0m \u001b[0my3_train\u001b[0m\u001b[1;33m,\u001b[0m \u001b[0my3_test\u001b[0m \u001b[1;33m=\u001b[0m \u001b[0mKFold\u001b[0m\u001b[1;33m(\u001b[0m\u001b[0mX\u001b[0m\u001b[1;33m,\u001b[0m \u001b[0my_ca\u001b[0m\u001b[1;33m)\u001b[0m\u001b[1;33m\u001b[0m\u001b[1;33m\u001b[0m\u001b[0m\n",
      "\u001b[1;32m<ipython-input-13-ebb1b437c471>\u001b[0m in \u001b[0;36mKFold\u001b[1;34m(X, y)\u001b[0m\n\u001b[0;32m      6\u001b[0m     \u001b[0mX\u001b[0m \u001b[1;33m=\u001b[0m \u001b[0mX\u001b[0m\u001b[1;33m.\u001b[0m\u001b[0mvalues\u001b[0m\u001b[1;33m\u001b[0m\u001b[1;33m\u001b[0m\u001b[0m\n\u001b[0;32m      7\u001b[0m \u001b[1;33m\u001b[0m\u001b[0m\n\u001b[1;32m----> 8\u001b[1;33m     \u001b[0mkf\u001b[0m \u001b[1;33m=\u001b[0m \u001b[0mKFold\u001b[0m\u001b[1;33m(\u001b[0m\u001b[0mn_splits\u001b[0m\u001b[1;33m=\u001b[0m\u001b[1;36m5\u001b[0m\u001b[1;33m)\u001b[0m\u001b[1;33m\u001b[0m\u001b[1;33m\u001b[0m\u001b[0m\n\u001b[0m\u001b[0;32m      9\u001b[0m     \u001b[0mkf\u001b[0m\u001b[1;33m.\u001b[0m\u001b[0mget_n_splits\u001b[0m\u001b[1;33m(\u001b[0m\u001b[0mX\u001b[0m\u001b[1;33m)\u001b[0m\u001b[1;33m\u001b[0m\u001b[1;33m\u001b[0m\u001b[0m\n\u001b[0;32m     10\u001b[0m \u001b[1;33m\u001b[0m\u001b[0m\n",
      "\u001b[1;31mTypeError\u001b[0m: KFold() got an unexpected keyword argument 'n_splits'"
     ]
    }
   ],
   "source": [
    "# data_rho_25, data_rho_20, data_rho_15, data_rho_10\n",
    "\n",
    "hbb_25, hbo2_25, ca_25, na_25 = XG_Boost(data_rho_25, 25)"
   ]
  },
  {
   "cell_type": "code",
   "execution_count": null,
   "metadata": {},
   "outputs": [],
   "source": [
    "hbb_20, hbo2_20, ca_20, na_20 = XG_Boost(data_rho_20, 20)"
   ]
  },
  {
   "cell_type": "code",
   "execution_count": null,
   "metadata": {},
   "outputs": [],
   "source": [
    "hbb_15, hbo2_15, ca_15, na_15 = XG_Boost(data_rho_15, 15)"
   ]
  },
  {
   "cell_type": "code",
   "execution_count": null,
   "metadata": {},
   "outputs": [],
   "source": [
    "hbb_10, hbo2_10, ca_10, na_10 = XG_Boost(data_rho_10, 10)"
   ]
  },
  {
   "cell_type": "code",
   "execution_count": 44,
   "metadata": {},
   "outputs": [],
   "source": [
    "test = pd.read_csv(\"../Data/Biometric Data Analysis/test.csv\")"
   ]
  },
  {
   "cell_type": "code",
   "execution_count": 45,
   "metadata": {},
   "outputs": [],
   "source": [
    "test_dst = test.filter(regex='_dst$', axis=1).replace(0, np.NaN)\n",
    "test_dst = test_dst.interpolate(methods='linear', axis=1)\n",
    "test_dst.fillna(-999, inplace=True) \n",
    "\n",
    "test.update(test_dst)"
   ]
  },
  {
   "cell_type": "code",
   "execution_count": 46,
   "metadata": {},
   "outputs": [],
   "source": [
    "test_rho_25 = test[test['rho'] == 25]\n",
    "test_rho_20 = test[test['rho'] == 20]\n",
    "test_rho_15 = test[test['rho'] == 15]\n",
    "test_rho_10 = test[test['rho'] == 10]"
   ]
  },
  {
   "cell_type": "code",
   "execution_count": 47,
   "metadata": {},
   "outputs": [],
   "source": [
    "def prediction(hbb, hbo2, ca, na, df):\n",
    "    \n",
    "    test = df.iloc[:, 1:]\n",
    "    \n",
    "    preds_hbb = hbb.predict(test)\n",
    "    preds_hbo2 = hbo2.predict(test)\n",
    "    preds_ca = ca.predict(test)\n",
    "    preds_na = na.predict(test)\n",
    "    \n",
    "    df_1 = df.copy()\n",
    "    \n",
    "    df_1['hhb'] = preds_hbb\n",
    "    df_1['hbo2'] = preds_hbo2\n",
    "    df_1['ca'] = preds_ca\n",
    "    df_1['na'] = preds_na\n",
    "    \n",
    "    return df_1"
   ]
  },
  {
   "cell_type": "code",
   "execution_count": 48,
   "metadata": {},
   "outputs": [],
   "source": [
    "# test_rho_25 - hbb_25, hbo2_25, ca_25, na_25\n",
    "# test_rho_20 - hbb_20, hbo2_20, ca_20, na_20\n",
    "# test_rho_15 - hbb_15, hbo2_15, ca_15, na_15\n",
    "# test_rho_10 - hbb_10, hbo2_10, ca_10, na_10\n",
    "\n",
    "rho_25 = prediction(hbb_25, hbo2_25, ca_25, na_25, test_rho_25)\n",
    "rho_20 = prediction(hbb_20, hbo2_20, ca_20, na_20, test_rho_20)\n",
    "rho_15 = prediction(hbb_15, hbo2_15, ca_15, na_15, test_rho_15)\n",
    "rho_10 = prediction(hbb_10, hbo2_10, ca_10, na_10, test_rho_10)"
   ]
  },
  {
   "cell_type": "code",
   "execution_count": 49,
   "metadata": {},
   "outputs": [],
   "source": [
    "temp = pd.concat([rho_25, rho_20, rho_15, rho_10]).sort_values('id')\n",
    "id = temp.id\n",
    "temp = temp.iloc[:, -4:]"
   ]
  },
  {
   "cell_type": "code",
   "execution_count": 50,
   "metadata": {},
   "outputs": [],
   "source": [
    "# 14(0.2), 15(0.3), 16(Kfold)\n",
    "submission = pd.concat([id, temp], axis=1)\n",
    "submission.to_csv(\"submission/16.csv\")"
   ]
  },
  {
   "cell_type": "code",
   "execution_count": 52,
   "metadata": {},
   "outputs": [
    {
     "data": {
      "text/html": [
       "<div>\n",
       "<style scoped>\n",
       "    .dataframe tbody tr th:only-of-type {\n",
       "        vertical-align: middle;\n",
       "    }\n",
       "\n",
       "    .dataframe tbody tr th {\n",
       "        vertical-align: top;\n",
       "    }\n",
       "\n",
       "    .dataframe thead th {\n",
       "        text-align: right;\n",
       "    }\n",
       "</style>\n",
       "<table border=\"1\" class=\"dataframe\">\n",
       "  <thead>\n",
       "    <tr style=\"text-align: right;\">\n",
       "      <th></th>\n",
       "      <th>id</th>\n",
       "      <th>hhb</th>\n",
       "      <th>hbo2</th>\n",
       "      <th>ca</th>\n",
       "      <th>na</th>\n",
       "    </tr>\n",
       "  </thead>\n",
       "  <tbody>\n",
       "    <tr>\n",
       "      <th>0</th>\n",
       "      <td>10000</td>\n",
       "      <td>8.202074</td>\n",
       "      <td>5.025829</td>\n",
       "      <td>10.310868</td>\n",
       "      <td>4.162852</td>\n",
       "    </tr>\n",
       "    <tr>\n",
       "      <th>1</th>\n",
       "      <td>10001</td>\n",
       "      <td>6.384770</td>\n",
       "      <td>4.184011</td>\n",
       "      <td>8.386250</td>\n",
       "      <td>2.911784</td>\n",
       "    </tr>\n",
       "    <tr>\n",
       "      <th>2</th>\n",
       "      <td>10002</td>\n",
       "      <td>10.268466</td>\n",
       "      <td>4.178093</td>\n",
       "      <td>10.943738</td>\n",
       "      <td>2.251129</td>\n",
       "    </tr>\n",
       "    <tr>\n",
       "      <th>3</th>\n",
       "      <td>10003</td>\n",
       "      <td>7.956439</td>\n",
       "      <td>4.358584</td>\n",
       "      <td>9.547226</td>\n",
       "      <td>3.150662</td>\n",
       "    </tr>\n",
       "    <tr>\n",
       "      <th>4</th>\n",
       "      <td>10004</td>\n",
       "      <td>4.031321</td>\n",
       "      <td>3.824872</td>\n",
       "      <td>8.401194</td>\n",
       "      <td>3.201443</td>\n",
       "    </tr>\n",
       "  </tbody>\n",
       "</table>\n",
       "</div>"
      ],
      "text/plain": [
       "      id        hhb      hbo2         ca        na\n",
       "0  10000   8.202074  5.025829  10.310868  4.162852\n",
       "1  10001   6.384770  4.184011   8.386250  2.911784\n",
       "2  10002  10.268466  4.178093  10.943738  2.251129\n",
       "3  10003   7.956439  4.358584   9.547226  3.150662\n",
       "4  10004   4.031321  3.824872   8.401194  3.201443"
      ]
     },
     "execution_count": 52,
     "metadata": {},
     "output_type": "execute_result"
    }
   ],
   "source": [
    "submission.head()"
   ]
  },
  {
   "cell_type": "code",
   "execution_count": 72,
   "metadata": {
    "scrolled": true
   },
   "outputs": [
    {
     "data": {
      "text/plain": [
       "10000"
      ]
     },
     "execution_count": 72,
     "metadata": {},
     "output_type": "execute_result"
    }
   ],
   "source": []
  }
 ],
 "metadata": {
  "kernelspec": {
   "display_name": "Python 3",
   "language": "python",
   "name": "python3"
  },
  "language_info": {
   "codemirror_mode": {
    "name": "ipython",
    "version": 3
   },
   "file_extension": ".py",
   "mimetype": "text/x-python",
   "name": "python",
   "nbconvert_exporter": "python",
   "pygments_lexer": "ipython3",
   "version": "3.7.7"
  }
 },
 "nbformat": 4,
 "nbformat_minor": 4
}
