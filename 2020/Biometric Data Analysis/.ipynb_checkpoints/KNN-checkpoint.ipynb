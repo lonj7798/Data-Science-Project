{
 "cells": [
  {
   "cell_type": "code",
   "execution_count": 1,
   "metadata": {},
   "outputs": [],
   "source": [
    "import numpy as np\n",
    "import pandas as pd\n",
    "\n",
    "import matplotlib.pyplot as plt\n",
    "import seaborn as sns\n",
    "%matplotlib inline"
   ]
  },
  {
   "cell_type": "code",
   "execution_count": 2,
   "metadata": {
    "scrolled": true
   },
   "outputs": [],
   "source": [
    "data = pd.read_csv(\"../Data/Biometric Data Analysis/train.csv\").fillna(0)"
   ]
  },
  {
   "cell_type": "code",
   "execution_count": 3,
   "metadata": {},
   "outputs": [],
   "source": [
    "data.rho.unique()\n",
    "data.drop(\"id\", axis=1, inplace=True)"
   ]
  },
  {
   "cell_type": "code",
   "execution_count": null,
   "metadata": {},
   "outputs": [],
   "source": []
  },
  {
   "cell_type": "code",
   "execution_count": 7,
   "metadata": {},
   "outputs": [
    {
     "data": {
      "text/plain": [
       "MinMaxScaler(copy=True, feature_range=(0, 1))"
      ]
     },
     "execution_count": 7,
     "metadata": {},
     "output_type": "execute_result"
    }
   ],
   "source": [
    "# MaxMin Scaler\n",
    "from sklearn.preprocessing import MinMaxScaler\n",
    "\n",
    "scaler = MinMaxScaler()\n",
    "scaler.fit(data.iloc[:,:-4])"
   ]
  },
  {
   "cell_type": "code",
   "execution_count": 9,
   "metadata": {},
   "outputs": [],
   "source": [
    "# group by rho\n",
    "\n",
    "data_rho_25 = data[data['rho'] == 25]\n",
    "data_rho_20 = data[data['rho'] == 20]\n",
    "data_rho_15 = data[data['rho'] == 15]\n",
    "data_rho_10 = data[data['rho'] == 10]"
   ]
  },
  {
   "cell_type": "code",
   "execution_count": null,
   "metadata": {},
   "outputs": [],
   "source": []
  },
  {
   "cell_type": "code",
   "execution_count": null,
   "metadata": {},
   "outputs": [],
   "source": []
  },
  {
   "cell_type": "markdown",
   "metadata": {},
   "source": [
    "### KNN"
   ]
  },
  {
   "cell_type": "code",
   "execution_count": 18,
   "metadata": {},
   "outputs": [],
   "source": [
    "from sklearn.neighbors import KNeighborsRegressor\n",
    "from sklearn.metrics import mean_squared_error\n",
    "from sklearn.model_selection import train_test_split"
   ]
  },
  {
   "cell_type": "code",
   "execution_count": 19,
   "metadata": {},
   "outputs": [],
   "source": [
    "def XY(df):\n",
    "    X = df.iloc[:,1:-4]\n",
    "    y_hhb = df.iloc[:,-4]\n",
    "    y_hhbo2 = df.iloc[:,-3]\n",
    "    y_ca = df.iloc[:,-2]\n",
    "    y_na = df.iloc[:,-1]\n",
    "    \n",
    "    return X, y_hhb, y_hhbo2, y_ca, y_na"
   ]
  },
  {
   "cell_type": "code",
   "execution_count": 31,
   "metadata": {},
   "outputs": [],
   "source": [
    "def XG_Boost(df, num):\n",
    "    X, y_hhb, y_hhbo2, y_ca, y_na = XY(df)\n",
    "    \n",
    "    # Split data\n",
    "    X1_train, X1_test, y1_train, y1_test = train_test_split(X, y_hhb, test_size=0.3, shuffle=101)\n",
    "    X2_train, X2_test, y2_train, y2_test = train_test_split(X, y_hhbo2, test_size=0.3, shuffle=122)\n",
    "    X3_train, X3_test, y3_train, y3_test = train_test_split(X, y_ca, test_size=0.3, shuffle=157)\n",
    "    X4_train, X4_test, y4_train, y4_test = train_test_split(X, y_na, test_size=0.3, shuffle=1932)\n",
    "    \n",
    "    model = KNeighborsRegressor(n_neighbors=37)\n",
    "    \n",
    "    neigh1 = model.fit(X1_train, y1_train)\n",
    "    neigh2 = model.fit(X2_train, y2_train)\n",
    "    neigh3 = model.fit(X3_train, y3_train)\n",
    "    neigh4 = model.fit(X4_train, y4_train)\n",
    "    \n",
    "    preds_hhb = neigh1.predict(X1_test)\n",
    "    preds_hbo2 = neigh2.predict(X2_test)\n",
    "    preds_ca = neigh3.predict(X3_test)\n",
    "    preds_na = neigh4.predict(X4_test)\n",
    "    \n",
    "    rmse_hhb = np.sqrt(mean_squared_error(y1_test, preds_hhb))\n",
    "    rmse_hbo2 = np.sqrt(mean_squared_error(y2_test, preds_hbo2))\n",
    "    rmse_ca = np.sqrt(mean_squared_error(y3_test, preds_ca))\n",
    "    rmse_na = np.sqrt(mean_squared_error(y4_test, preds_na))\n",
    "\n",
    "    print(num, \" mm\")\n",
    "    print(\"RMSE - hbb  : %f\" % (rmse_hhb))\n",
    "    print(\"RMSE - hbo2 : %f\" % (rmse_hbo2))\n",
    "    print(\"RMSE - ca   : %f\" % (rmse_ca))\n",
    "    print(\"RMSE - na   : %f\" % (rmse_na))\n",
    "    \n",
    "    \n",
    "    return neigh1, neigh2, neigh3, neigh4"
   ]
  },
  {
   "cell_type": "code",
   "execution_count": 32,
   "metadata": {
    "scrolled": true
   },
   "outputs": [
    {
     "name": "stdout",
     "output_type": "stream",
     "text": [
      "25  mm\n",
      "RMSE - hbb  : 5.552790\n",
      "RMSE - hbo2 : 1.369242\n",
      "RMSE - ca   : 6.494577\n",
      "RMSE - na   : 1.890832\n",
      "20  mm\n",
      "RMSE - hbb  : 5.774719\n",
      "RMSE - hbo2 : 1.472524\n",
      "RMSE - ca   : 6.734552\n",
      "RMSE - na   : 1.928604\n",
      "15  mm\n",
      "RMSE - hbb  : 5.849289\n",
      "RMSE - hbo2 : 1.397271\n",
      "RMSE - ca   : 6.597067\n",
      "RMSE - na   : 1.988861\n",
      "10  mm\n",
      "RMSE - hbb  : 5.860116\n",
      "RMSE - hbo2 : 1.452842\n",
      "RMSE - ca   : 6.874648\n",
      "RMSE - na   : 1.842478\n"
     ]
    }
   ],
   "source": [
    "# data_rho_25, data_rho_20, data_rho_15, data_rho_10\n",
    "\n",
    "hbb_25, hbo2_25, ca_25, na_25 = XG_Boost(data_rho_25, 25)\n",
    "hbb_20, hbo2_20, ca_20, na_20 = XG_Boost(data_rho_20, 20)\n",
    "hbb_15, hbo2_15, ca_15, na_15 = XG_Boost(data_rho_15, 15)\n",
    "hbb_10, hbo2_10, ca_10, na_10 = XG_Boost(data_rho_10, 10)"
   ]
  }
 ],
 "metadata": {
  "kernelspec": {
   "display_name": "Python 3",
   "language": "python",
   "name": "python3"
  },
  "language_info": {
   "codemirror_mode": {
    "name": "ipython",
    "version": 3
   },
   "file_extension": ".py",
   "mimetype": "text/x-python",
   "name": "python",
   "nbconvert_exporter": "python",
   "pygments_lexer": "ipython3",
   "version": "3.7.7"
  }
 },
 "nbformat": 4,
 "nbformat_minor": 4
}
