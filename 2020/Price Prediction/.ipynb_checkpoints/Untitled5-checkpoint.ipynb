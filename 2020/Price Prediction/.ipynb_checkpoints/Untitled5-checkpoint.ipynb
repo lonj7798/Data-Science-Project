{
 "cells": [
  {
   "cell_type": "code",
   "execution_count": 2,
   "metadata": {},
   "outputs": [],
   "source": [
    "import pandas as pd\n",
    "import numpy as np\n",
    "\n",
    "import matplotlib as mlt\n",
    "import matplotlib.pyplot as plt\n",
    "import seaborn as sns\n",
    "%matplotlib inline"
   ]
  },
  {
   "cell_type": "code",
   "execution_count": 48,
   "metadata": {},
   "outputs": [],
   "source": [
    "train = pd.read_csv(\"train_pos.csv\")\n",
    "test = pd.read_csv(\"test_pos.csv\")"
   ]
  },
  {
   "cell_type": "code",
   "execution_count": 49,
   "metadata": {},
   "outputs": [],
   "source": [
    "train = train.drop(columns=['time', 'installments', 'days_of_week', 'card_id', 'holyday'])\n",
    "test = test.drop(columns=['time', 'installments', 'days_of_week', 'card_id', 'holyday'])\n",
    "\n",
    "\n",
    "# Aggregated data into the sum of amount per each day, per store_id.\n",
    "train = train.groupby(['date', 'store_id']).agg({'amount':'sum'}).reset_index()\n",
    "test = test.groupby(['date', 'store_id']).agg({'amount':'sum'}).reset_index()\n",
    "\n",
    "\n",
    "# 'date' column was converted into datetime format for further uses\n",
    "train['date'] = pd.to_datetime(train['date'],infer_datetime_format=True)\n",
    "test['date'] = pd.to_datetime(test['date'],infer_datetime_format=True)\n",
    "\n",
    "\n",
    "# a duplicate column of 'date' was created for further uses\n",
    "train['temp_date'] = train['date']\n",
    "test['temp_date'] = test['date']\n",
    "\n",
    "\n",
    "# the 'date' column was set to index\n",
    "train.set_index(\"date\",inplace=True)\n",
    "test.set_index(\"date\",inplace=True)"
   ]
  },
  {
   "cell_type": "code",
   "execution_count": 50,
   "metadata": {},
   "outputs": [
    {
     "name": "stdout",
     "output_type": "stream",
     "text": [
      "Before removing stores (due to limit):  (449423, 3)\n",
      "Total # of stores that exceeds 160 is 929\n",
      "After removing stores (due to limit):  (404792, 3)\n"
     ]
    }
   ],
   "source": [
    "# Then, the number of data per each store_id in the train set was counted.\n",
    "# If the store_id had less than 160 rows (= 160 days of data), it was removed from the train set.\n",
    "#\n",
    "# Since the goal of the 1st Competition was to predict the future 100 days of sales,\n",
    "# 160 days was required to split into 60 days of training (X) & 100 days of prediction (y)\n",
    "# The 'limit' 160 days was the ideal number resulted from multiple trials of training.\n",
    "counter = 0\n",
    "limit = 160\n",
    "\n",
    "print(\"Before removing stores (due to limit): \", train.shape)\n",
    "\n",
    "for x in range(train['store_id'].max()+1): # iterating through each store_id\n",
    "    if train[train['store_id']==x]['store_id'].count() >= limit:\n",
    "        counter += 1\n",
    "    else:\n",
    "        # drop rows that has total 'store_id' less than limit\n",
    "        train = train[train.store_id != x]\n",
    "\n",
    "print(\"Total # of stores that exceeds {} is {}\".format(limit, counter))\n",
    "print(\"After removing stores (due to limit): \", train.shape)"
   ]
  },
  {
   "cell_type": "code",
   "execution_count": 51,
   "metadata": {},
   "outputs": [
    {
     "name": "stdout",
     "output_type": "stream",
     "text": [
      "# of train store open/out of business:  844 85\n"
     ]
    }
   ],
   "source": [
    "# Now, the train set was checked for any stores that was out of business and removed them from the train set.\n",
    "# If the store had no data within 5 days from 2018-07-31, it was 'assumed' to be closed.\n",
    "# (2018-07-31 was the last date stores in train data was supposed to have)\n",
    "from datetime import datetime\n",
    "\n",
    "def keep_alive_store(df):\n",
    "    \n",
    "    store_id_list = df.store_id.unique() # list of train store_id\n",
    "    yes, no = 0, 0 # yes: store has data within 5 days from 2018-07-31 / no: it doesn't\n",
    "\n",
    "    t2 = datetime.strptime('2018-07-31 00:00:00', \"%Y-%m-%d %H:%M:%S\")\n",
    "\n",
    "    for s in store_id_list:\n",
    "        if str(df[df.store_id == s].iloc[-1]['temp_date']) == '2018-07-31 00:00:00':\n",
    "            yes += 1\n",
    "        else:\n",
    "            # t1 is the last date of data the corresponding store_id has\n",
    "            t1 = datetime.strptime(str(df[df.store_id == s].iloc[-1]['temp_date']), \"%Y-%m-%d %H:%M:%S\")\n",
    "            difference = t2 - t1\n",
    "            if difference.days <= 5:            \n",
    "                yes +=1\n",
    "            else:\n",
    "                no +=1\n",
    "                df = df[df.store_id != s] # remove stores that are 'assumed' closed\n",
    "    print(\"# of train store open/out of business: \", yes, no)\n",
    "    return df\n",
    "    \n",
    "train = keep_alive_store(train)"
   ]
  },
  {
   "cell_type": "code",
   "execution_count": 52,
   "metadata": {},
   "outputs": [
    {
     "name": "stdout",
     "output_type": "stream",
     "text": [
      "2018-03-21 00:00:00\n",
      "2018-01-17 00:00:00\n",
      "2018-03-23 00:00:00\n",
      "2018-03-23 00:00:00\n",
      "# of test store open/out of business:  196 4\n"
     ]
    }
   ],
   "source": [
    "# The same goes for the test data, but in a slightly different way.\n",
    "# If the store had no data within 7 days from 2018-03-31, it was 'assumed' to be closed.\n",
    "# (2018-03-31 was the last date stores in test data was supposed to have)\n",
    "store_id_list = test.store_id.unique() # list of test store_id\n",
    "yes, no = 0, 0 # yes: store has data within 7 days from 2018-03-31 / no: it doesn't\n",
    "closed_test_store = []\n",
    "\n",
    "for s in store_id_list:\n",
    "    t2 = datetime.strptime('2018-03-31 00:00:00', \"%Y-%m-%d %H:%M:%S\")\n",
    "    t1 = datetime.strptime(str(test[test.store_id == s].iloc[-1]['temp_date']), \"%Y-%m-%d %H:%M:%S\")\n",
    "    difference = t2 - t1\n",
    "    \n",
    "    if difference.days <= 7:\n",
    "        yes+=1\n",
    "    else:\n",
    "        no+=1\n",
    "        print(test[test.store_id == s].iloc[-1]['temp_date'])\n",
    "        closed_test_store.append(s)\n",
    "print(\"# of test store open/out of business: \", yes, no)"
   ]
  },
  {
   "cell_type": "code",
   "execution_count": 56,
   "metadata": {},
   "outputs": [
    {
     "data": {
      "text/html": [
       "<div>\n",
       "<style scoped>\n",
       "    .dataframe tbody tr th:only-of-type {\n",
       "        vertical-align: middle;\n",
       "    }\n",
       "\n",
       "    .dataframe tbody tr th {\n",
       "        vertical-align: top;\n",
       "    }\n",
       "\n",
       "    .dataframe thead th {\n",
       "        text-align: right;\n",
       "    }\n",
       "</style>\n",
       "<table border=\"1\" class=\"dataframe\">\n",
       "  <thead>\n",
       "    <tr style=\"text-align: right;\">\n",
       "      <th></th>\n",
       "      <th></th>\n",
       "      <th>amount</th>\n",
       "    </tr>\n",
       "    <tr>\n",
       "      <th>store_id</th>\n",
       "      <th>temp_date</th>\n",
       "      <th></th>\n",
       "    </tr>\n",
       "  </thead>\n",
       "  <tbody>\n",
       "    <tr>\n",
       "      <th rowspan=\"5\" valign=\"top\">0</th>\n",
       "      <th>2016-12-19</th>\n",
       "      <td>3055</td>\n",
       "    </tr>\n",
       "    <tr>\n",
       "      <th>2016-12-20</th>\n",
       "      <td>5918</td>\n",
       "    </tr>\n",
       "    <tr>\n",
       "      <th>2016-12-21</th>\n",
       "      <td>16718</td>\n",
       "    </tr>\n",
       "    <tr>\n",
       "      <th>2016-12-22</th>\n",
       "      <td>12043</td>\n",
       "    </tr>\n",
       "    <tr>\n",
       "      <th>2016-12-23</th>\n",
       "      <td>12359</td>\n",
       "    </tr>\n",
       "    <tr>\n",
       "      <th>...</th>\n",
       "      <th>...</th>\n",
       "      <td>...</td>\n",
       "    </tr>\n",
       "    <tr>\n",
       "      <th rowspan=\"5\" valign=\"top\">1687</th>\n",
       "      <th>2018-07-25</th>\n",
       "      <td>244</td>\n",
       "    </tr>\n",
       "    <tr>\n",
       "      <th>2018-07-27</th>\n",
       "      <td>1095</td>\n",
       "    </tr>\n",
       "    <tr>\n",
       "      <th>2018-07-28</th>\n",
       "      <td>919</td>\n",
       "    </tr>\n",
       "    <tr>\n",
       "      <th>2018-07-29</th>\n",
       "      <td>757</td>\n",
       "    </tr>\n",
       "    <tr>\n",
       "      <th>2018-07-30</th>\n",
       "      <td>192</td>\n",
       "    </tr>\n",
       "  </tbody>\n",
       "</table>\n",
       "<p>374723 rows × 1 columns</p>\n",
       "</div>"
      ],
      "text/plain": [
       "                     amount\n",
       "store_id temp_date         \n",
       "0        2016-12-19    3055\n",
       "         2016-12-20    5918\n",
       "         2016-12-21   16718\n",
       "         2016-12-22   12043\n",
       "         2016-12-23   12359\n",
       "...                     ...\n",
       "1687     2018-07-25     244\n",
       "         2018-07-27    1095\n",
       "         2018-07-28     919\n",
       "         2018-07-29     757\n",
       "         2018-07-30     192\n",
       "\n",
       "[374723 rows x 1 columns]"
      ]
     },
     "execution_count": 56,
     "metadata": {},
     "output_type": "execute_result"
    }
   ],
   "source": [
    "data_train = train.groupby(['store_id', 'temp_date'])[['amount']].sum()\n",
    "data_train"
   ]
  },
  {
   "cell_type": "code",
   "execution_count": 57,
   "metadata": {},
   "outputs": [
    {
     "data": {
      "text/html": [
       "<div>\n",
       "<style scoped>\n",
       "    .dataframe tbody tr th:only-of-type {\n",
       "        vertical-align: middle;\n",
       "    }\n",
       "\n",
       "    .dataframe tbody tr th {\n",
       "        vertical-align: top;\n",
       "    }\n",
       "\n",
       "    .dataframe thead th {\n",
       "        text-align: right;\n",
       "    }\n",
       "</style>\n",
       "<table border=\"1\" class=\"dataframe\">\n",
       "  <thead>\n",
       "    <tr style=\"text-align: right;\">\n",
       "      <th></th>\n",
       "      <th></th>\n",
       "      <th>amount</th>\n",
       "    </tr>\n",
       "    <tr>\n",
       "      <th>store_id</th>\n",
       "      <th>temp_date</th>\n",
       "      <th></th>\n",
       "    </tr>\n",
       "  </thead>\n",
       "  <tbody>\n",
       "    <tr>\n",
       "      <th rowspan=\"5\" valign=\"top\">0</th>\n",
       "      <th>2016-08-01</th>\n",
       "      <td>2106</td>\n",
       "    </tr>\n",
       "    <tr>\n",
       "      <th>2016-08-02</th>\n",
       "      <td>1528</td>\n",
       "    </tr>\n",
       "    <tr>\n",
       "      <th>2016-08-03</th>\n",
       "      <td>560</td>\n",
       "    </tr>\n",
       "    <tr>\n",
       "      <th>2016-08-04</th>\n",
       "      <td>1683</td>\n",
       "    </tr>\n",
       "    <tr>\n",
       "      <th>2016-08-05</th>\n",
       "      <td>1686</td>\n",
       "    </tr>\n",
       "    <tr>\n",
       "      <th>...</th>\n",
       "      <th>...</th>\n",
       "      <td>...</td>\n",
       "    </tr>\n",
       "    <tr>\n",
       "      <th rowspan=\"5\" valign=\"top\">199</th>\n",
       "      <th>2018-03-27</th>\n",
       "      <td>265</td>\n",
       "    </tr>\n",
       "    <tr>\n",
       "      <th>2018-03-28</th>\n",
       "      <td>2065</td>\n",
       "    </tr>\n",
       "    <tr>\n",
       "      <th>2018-03-29</th>\n",
       "      <td>130</td>\n",
       "    </tr>\n",
       "    <tr>\n",
       "      <th>2018-03-30</th>\n",
       "      <td>395</td>\n",
       "    </tr>\n",
       "    <tr>\n",
       "      <th>2018-03-31</th>\n",
       "      <td>500</td>\n",
       "    </tr>\n",
       "  </tbody>\n",
       "</table>\n",
       "<p>68865 rows × 1 columns</p>\n",
       "</div>"
      ],
      "text/plain": [
       "                     amount\n",
       "store_id temp_date         \n",
       "0        2016-08-01    2106\n",
       "         2016-08-02    1528\n",
       "         2016-08-03     560\n",
       "         2016-08-04    1683\n",
       "         2016-08-05    1686\n",
       "...                     ...\n",
       "199      2018-03-27     265\n",
       "         2018-03-28    2065\n",
       "         2018-03-29     130\n",
       "         2018-03-30     395\n",
       "         2018-03-31     500\n",
       "\n",
       "[68865 rows x 1 columns]"
      ]
     },
     "execution_count": 57,
     "metadata": {},
     "output_type": "execute_result"
    }
   ],
   "source": [
    "data_test = test.groupby(['store_id', 'temp_date'])[['amount']].sum()\n",
    "data_test"
   ]
  },
  {
   "cell_type": "code",
   "execution_count": 60,
   "metadata": {
    "scrolled": true
   },
   "outputs": [
    {
     "name": "stdout",
     "output_type": "stream",
     "text": [
      "number of store_id in train: 844\n",
      "number of store_id in test: 200\n"
     ]
    }
   ],
   "source": [
    "print(\"number of store_id in train:\",len(data_train.index.get_level_values('store_id').unique()))\n",
    "print(\"number of store_id in test:\",len(data_test.index.get_level_values('store_id').unique()))"
   ]
  },
  {
   "cell_type": "code",
   "execution_count": 86,
   "metadata": {},
   "outputs": [
    {
     "data": {
      "text/plain": [
       "datetime.timedelta(days=730)"
      ]
     },
     "execution_count": 86,
     "metadata": {},
     "output_type": "execute_result"
    }
   ],
   "source": [
    "dt.datetime(2019,12,23) - dt.datetime(2017,12,23)"
   ]
  },
  {
   "cell_type": "code",
   "execution_count": 84,
   "metadata": {},
   "outputs": [],
   "source": [
    "a = data_train.loc[1674].index[-1] - dt.datetime(2019,12,23)\n",
    "interval = dt.timedelta(days=14)"
   ]
  },
  {
   "cell_type": "code",
   "execution_count": 85,
   "metadata": {},
   "outputs": [
    {
     "name": "stdout",
     "output_type": "stream",
     "text": [
      "y\n"
     ]
    }
   ],
   "source": [
    "if a < interval:\n",
    "    print(\"y\")"
   ]
  },
  {
   "cell_type": "code",
   "execution_count": 119,
   "metadata": {},
   "outputs": [
    {
     "data": {
      "text/plain": [
       "0 days    623\n",
       "1 days     94\n",
       "2 days     48\n",
       "3 days     45\n",
       "4 days     20\n",
       "5 days     14\n",
       "Name: 0, dtype: int64"
      ]
     },
     "execution_count": 119,
     "metadata": {},
     "output_type": "execute_result"
    }
   ],
   "source": [
    "# last day: 2018-07-31\n",
    "# 각 가게들의 마지막 open날짜와 마지막 날짜의 차이 계산\n",
    "\n",
    "last_day = dt.datetime(2018,7,31)\n",
    "interval = dt.timedelta(days=14)\n",
    "\n",
    "temp =[]\n",
    "\n",
    "for store_name in store_names:\n",
    "    temp.append(last_day - data_train.loc[store_name].index[-1])\n",
    "    \n",
    "temp = pd.DataFrame(temp)\n",
    "temp.iloc[:,0].value_counts()"
   ]
  },
  {
   "cell_type": "code",
   "execution_count": 125,
   "metadata": {},
   "outputs": [
    {
     "name": "stdout",
     "output_type": "stream",
     "text": [
      "<class 'pandas.core.frame.DataFrame'>\n",
      "DatetimeIndex: 374723 entries, 2016-08-01 to 2018-07-31\n",
      "Data columns (total 3 columns):\n",
      " #   Column     Non-Null Count   Dtype         \n",
      "---  ------     --------------   -----         \n",
      " 0   store_id   374723 non-null  int64         \n",
      " 1   amount     374723 non-null  int64         \n",
      " 2   temp_date  374723 non-null  datetime64[ns]\n",
      "dtypes: datetime64[ns](1), int64(2)\n",
      "memory usage: 11.4 MB\n"
     ]
    }
   ],
   "source": [
    "train.\n",
    "\n",
    "for store_name in store_names:\n",
    "    temp.append(last_day - data_train.loc[store_name].index[-1])"
   ]
  }
 ],
 "metadata": {
  "kernelspec": {
   "display_name": "Python 3",
   "language": "python",
   "name": "python3"
  },
  "language_info": {
   "codemirror_mode": {
    "name": "ipython",
    "version": 3
   },
   "file_extension": ".py",
   "mimetype": "text/x-python",
   "name": "python",
   "nbconvert_exporter": "python",
   "pygments_lexer": "ipython3",
   "version": "3.7.7"
  }
 },
 "nbformat": 4,
 "nbformat_minor": 4
}
