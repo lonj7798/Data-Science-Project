{
 "cells": [
  {
   "cell_type": "raw",
   "metadata": {},
   "source": [
    "#### Goal: Predict SMP (min, max, avg, supply)\n",
    "\n",
    "## 1. Feature Extraction\n",
    "    - Price of fuels: coal, oil, gas\n",
    "    - weather data\n",
    "    - SMP\n",
    "    - KOSPI\n",
    "    - Depend on the location\n",
    "        - 경기+서울, 울산+부산+경상도, 제주 등\n",
    "\n",
    "## 2. XG-Boost, DTC for feature selecttion\n",
    "    - how to use XG-Boost and DTC\n",
    "\n",
    "## 3. Load prediction using CNN(karas)\n",
    "## 4. Performance evaluation\n"
   ]
  },
  {
   "cell_type": "markdown",
   "metadata": {},
   "source": [
    "---------------------------------"
   ]
  },
  {
   "cell_type": "markdown",
   "metadata": {},
   "source": [
    "## 1. Feature Extraction\n",
    "\n",
    "### 1-1. Price of fuel\n",
    "#### What kinds of fuel does Korea use for generation?\n",
    "\n",
    "1. LNG (40.3 %)\n",
    "2. Oil (34.2%)\n",
    "3. Nuclear (20.7%)\n",
    "4. Coal (3.6%)\n",
    "5. Others (1.1%)\n",
    "\n",
    "![](img/1.png)\n",
    "\n",
    "- SMP might be affected by the price of fuel, so we need some data of fuel price."
   ]
  },
  {
   "cell_type": "code",
   "execution_count": 5,
   "metadata": {},
   "outputs": [],
   "source": [
    "import numpy as np\n",
    "import pandas as pd\n",
    "\n",
    "import matplotlib as mlt\n",
    "import matplotlib.pyplot as plt\n",
    "import seaborn as sns\n",
    "%matplotlib inline"
   ]
  },
  {
   "cell_type": "code",
   "execution_count": 6,
   "metadata": {
    "scrolled": false
   },
   "outputs": [
    {
     "data": {
      "text/html": [
       "<div>\n",
       "<style scoped>\n",
       "    .dataframe tbody tr th:only-of-type {\n",
       "        vertical-align: middle;\n",
       "    }\n",
       "\n",
       "    .dataframe tbody tr th {\n",
       "        vertical-align: top;\n",
       "    }\n",
       "\n",
       "    .dataframe thead th {\n",
       "        text-align: right;\n",
       "    }\n",
       "</style>\n",
       "<table border=\"1\" class=\"dataframe\">\n",
       "  <thead>\n",
       "    <tr style=\"text-align: right;\">\n",
       "      <th>Symbols</th>\n",
       "      <th>LNG</th>\n",
       "    </tr>\n",
       "    <tr>\n",
       "      <th>Date</th>\n",
       "      <th></th>\n",
       "    </tr>\n",
       "  </thead>\n",
       "  <tbody>\n",
       "    <tr>\n",
       "      <th>2018-02-01</th>\n",
       "      <td>57.860001</td>\n",
       "    </tr>\n",
       "    <tr>\n",
       "      <th>2018-02-02</th>\n",
       "      <td>56.009998</td>\n",
       "    </tr>\n",
       "    <tr>\n",
       "      <th>2018-02-05</th>\n",
       "      <td>54.990002</td>\n",
       "    </tr>\n",
       "    <tr>\n",
       "      <th>2018-02-06</th>\n",
       "      <td>55.500000</td>\n",
       "    </tr>\n",
       "    <tr>\n",
       "      <th>2018-02-07</th>\n",
       "      <td>55.389999</td>\n",
       "    </tr>\n",
       "  </tbody>\n",
       "</table>\n",
       "</div>"
      ],
      "text/plain": [
       "Symbols           LNG\n",
       "Date                 \n",
       "2018-02-01  57.860001\n",
       "2018-02-02  56.009998\n",
       "2018-02-05  54.990002\n",
       "2018-02-06  55.500000\n",
       "2018-02-07  55.389999"
      ]
     },
     "execution_count": 6,
     "metadata": {},
     "output_type": "execute_result"
    }
   ],
   "source": [
    "# Import the price of each fuel\n",
    "import pandas_datareader as pdr\n",
    "import datetime\n",
    "\n",
    "# LNG: LNG\n",
    "# Crude Oil: CL=F\n",
    "# Coal(Australia): AQC.AX\n",
    "\n",
    "fuel_price = pdr.get_data_yahoo(['LNG'],\n",
    "                            start=datetime.datetime(2018, 2, 2),\n",
    "                            end=datetime.datetime(2020, 1, 31)\n",
    "                            )['Close']\n",
    "\n",
    "fuel_price.head()"
   ]
  },
  {
   "cell_type": "code",
   "execution_count": 7,
   "metadata": {},
   "outputs": [],
   "source": [
    "# there is missing dates\n",
    "fuel_price = fuel_price.reindex(pd.date_range('2018-02-01', '2020-01-31'))"
   ]
  },
  {
   "cell_type": "code",
   "execution_count": 8,
   "metadata": {
    "scrolled": true
   },
   "outputs": [
    {
     "name": "stdout",
     "output_type": "stream",
     "text": [
      "<class 'pandas.core.frame.DataFrame'>\n",
      "DatetimeIndex: 730 entries, 2018-02-01 to 2020-01-31\n",
      "Freq: D\n",
      "Data columns (total 1 columns):\n",
      " #   Column  Non-Null Count  Dtype  \n",
      "---  ------  --------------  -----  \n",
      " 0   LNG     730 non-null    float64\n",
      "dtypes: float64(1)\n",
      "memory usage: 11.4 KB\n"
     ]
    }
   ],
   "source": [
    "# fill the blank data with value of front date.\n",
    "fuel_price = fuel_price.fillna(method='backfill')\n",
    "fuel_price.info()"
   ]
  },
  {
   "cell_type": "code",
   "execution_count": 9,
   "metadata": {},
   "outputs": [
    {
     "ename": "KeyError",
     "evalue": "\"['CL=F', 'AQC.AX'] not found in axis\"",
     "output_type": "error",
     "traceback": [
      "\u001b[1;31m---------------------------------------------------------------------------\u001b[0m",
      "\u001b[1;31mKeyError\u001b[0m                                  Traceback (most recent call last)",
      "\u001b[1;32m<ipython-input-9-2f44ab3bc390>\u001b[0m in \u001b[0;36m<module>\u001b[1;34m\u001b[0m\n\u001b[0;32m      1\u001b[0m \u001b[1;31m# change the features' name\u001b[0m\u001b[1;33m\u001b[0m\u001b[1;33m\u001b[0m\u001b[1;33m\u001b[0m\u001b[0m\n\u001b[1;32m----> 2\u001b[1;33m \u001b[0mfuel_price\u001b[0m \u001b[1;33m=\u001b[0m \u001b[0mfuel_price\u001b[0m\u001b[1;33m.\u001b[0m\u001b[0mrename\u001b[0m\u001b[1;33m(\u001b[0m\u001b[0mcolumns\u001b[0m\u001b[1;33m=\u001b[0m\u001b[1;33m{\u001b[0m\u001b[1;34m\"LNG\"\u001b[0m\u001b[1;33m:\u001b[0m \u001b[1;34m\"LNG\"\u001b[0m\u001b[1;33m,\u001b[0m \u001b[1;34m\"CL=F\"\u001b[0m\u001b[1;33m:\u001b[0m \u001b[1;34m\"Oil\"\u001b[0m\u001b[1;33m,\u001b[0m \u001b[1;34m\"AQC.AX\"\u001b[0m\u001b[1;33m:\u001b[0m \u001b[1;34m\"Coal\"\u001b[0m\u001b[1;33m}\u001b[0m\u001b[1;33m,\u001b[0m \u001b[0merrors\u001b[0m\u001b[1;33m=\u001b[0m\u001b[1;34m\"raise\"\u001b[0m\u001b[1;33m)\u001b[0m\u001b[1;33m\u001b[0m\u001b[1;33m\u001b[0m\u001b[0m\n\u001b[0m\u001b[0;32m      3\u001b[0m \u001b[0mfuel_price\u001b[0m\u001b[1;33m.\u001b[0m\u001b[0mhead\u001b[0m\u001b[1;33m(\u001b[0m\u001b[1;33m)\u001b[0m\u001b[1;33m\u001b[0m\u001b[1;33m\u001b[0m\u001b[0m\n",
      "\u001b[1;32m~\\Anaconda3\\lib\\site-packages\\pandas\\util\\_decorators.py\u001b[0m in \u001b[0;36mwrapper\u001b[1;34m(*args, **kwargs)\u001b[0m\n\u001b[0;32m    225\u001b[0m         \u001b[1;33m@\u001b[0m\u001b[0mwraps\u001b[0m\u001b[1;33m(\u001b[0m\u001b[0mfunc\u001b[0m\u001b[1;33m)\u001b[0m\u001b[1;33m\u001b[0m\u001b[1;33m\u001b[0m\u001b[0m\n\u001b[0;32m    226\u001b[0m         \u001b[1;32mdef\u001b[0m \u001b[0mwrapper\u001b[0m\u001b[1;33m(\u001b[0m\u001b[1;33m*\u001b[0m\u001b[0margs\u001b[0m\u001b[1;33m,\u001b[0m \u001b[1;33m**\u001b[0m\u001b[0mkwargs\u001b[0m\u001b[1;33m)\u001b[0m \u001b[1;33m->\u001b[0m \u001b[0mCallable\u001b[0m\u001b[1;33m[\u001b[0m\u001b[1;33m...\u001b[0m\u001b[1;33m,\u001b[0m \u001b[0mAny\u001b[0m\u001b[1;33m]\u001b[0m\u001b[1;33m:\u001b[0m\u001b[1;33m\u001b[0m\u001b[1;33m\u001b[0m\u001b[0m\n\u001b[1;32m--> 227\u001b[1;33m             \u001b[1;32mreturn\u001b[0m \u001b[0mfunc\u001b[0m\u001b[1;33m(\u001b[0m\u001b[1;33m*\u001b[0m\u001b[0margs\u001b[0m\u001b[1;33m,\u001b[0m \u001b[1;33m**\u001b[0m\u001b[0mkwargs\u001b[0m\u001b[1;33m)\u001b[0m\u001b[1;33m\u001b[0m\u001b[1;33m\u001b[0m\u001b[0m\n\u001b[0m\u001b[0;32m    228\u001b[0m \u001b[1;33m\u001b[0m\u001b[0m\n\u001b[0;32m    229\u001b[0m         \u001b[0mkind\u001b[0m \u001b[1;33m=\u001b[0m \u001b[0minspect\u001b[0m\u001b[1;33m.\u001b[0m\u001b[0mParameter\u001b[0m\u001b[1;33m.\u001b[0m\u001b[0mPOSITIONAL_OR_KEYWORD\u001b[0m\u001b[1;33m\u001b[0m\u001b[1;33m\u001b[0m\u001b[0m\n",
      "\u001b[1;32m~\\Anaconda3\\lib\\site-packages\\pandas\\core\\frame.py\u001b[0m in \u001b[0;36mrename\u001b[1;34m(self, mapper, index, columns, axis, copy, inplace, level, errors)\u001b[0m\n\u001b[0;32m   4131\u001b[0m             \u001b[0minplace\u001b[0m\u001b[1;33m=\u001b[0m\u001b[0minplace\u001b[0m\u001b[1;33m,\u001b[0m\u001b[1;33m\u001b[0m\u001b[1;33m\u001b[0m\u001b[0m\n\u001b[0;32m   4132\u001b[0m             \u001b[0mlevel\u001b[0m\u001b[1;33m=\u001b[0m\u001b[0mlevel\u001b[0m\u001b[1;33m,\u001b[0m\u001b[1;33m\u001b[0m\u001b[1;33m\u001b[0m\u001b[0m\n\u001b[1;32m-> 4133\u001b[1;33m             \u001b[0merrors\u001b[0m\u001b[1;33m=\u001b[0m\u001b[0merrors\u001b[0m\u001b[1;33m,\u001b[0m\u001b[1;33m\u001b[0m\u001b[1;33m\u001b[0m\u001b[0m\n\u001b[0m\u001b[0;32m   4134\u001b[0m         )\n\u001b[0;32m   4135\u001b[0m \u001b[1;33m\u001b[0m\u001b[0m\n",
      "\u001b[1;32m~\\Anaconda3\\lib\\site-packages\\pandas\\core\\generic.py\u001b[0m in \u001b[0;36mrename\u001b[1;34m(self, mapper, index, columns, axis, copy, inplace, level, errors)\u001b[0m\n\u001b[0;32m   1095\u001b[0m                         \u001b[1;32mif\u001b[0m \u001b[0mindexer\u001b[0m\u001b[1;33m[\u001b[0m\u001b[0mindex\u001b[0m\u001b[1;33m]\u001b[0m \u001b[1;33m==\u001b[0m \u001b[1;33m-\u001b[0m\u001b[1;36m1\u001b[0m\u001b[1;33m\u001b[0m\u001b[1;33m\u001b[0m\u001b[0m\n\u001b[0;32m   1096\u001b[0m                     ]\n\u001b[1;32m-> 1097\u001b[1;33m                     \u001b[1;32mraise\u001b[0m \u001b[0mKeyError\u001b[0m\u001b[1;33m(\u001b[0m\u001b[1;34mf\"{missing_labels} not found in axis\"\u001b[0m\u001b[1;33m)\u001b[0m\u001b[1;33m\u001b[0m\u001b[1;33m\u001b[0m\u001b[0m\n\u001b[0m\u001b[0;32m   1098\u001b[0m \u001b[1;33m\u001b[0m\u001b[0m\n\u001b[0;32m   1099\u001b[0m             result._data = result._data.rename_axis(\n",
      "\u001b[1;31mKeyError\u001b[0m: \"['CL=F', 'AQC.AX'] not found in axis\""
     ]
    }
   ],
   "source": [
    "# change the features' name\n",
    "fuel_price = fuel_price.rename(columns={\"LNG\": \"LNG\", \"CL=F\": \"Oil\", \"AQC.AX\": \"Coal\"}, errors=\"raise\")\n",
    "fuel_price.head()"
   ]
  },
  {
   "cell_type": "code",
   "execution_count": null,
   "metadata": {},
   "outputs": [],
   "source": [
    "fuel_price.plot()"
   ]
  },
  {
   "cell_type": "markdown",
   "metadata": {},
   "source": [
    "### 1-2 KOSPI (or KOSDAQ)\n",
    "\n",
    "- total usage of electricity might be affected by economic condition."
   ]
  },
  {
   "cell_type": "code",
   "execution_count": 27,
   "metadata": {},
   "outputs": [
    {
     "data": {
      "text/html": [
       "<div>\n",
       "<style scoped>\n",
       "    .dataframe tbody tr th:only-of-type {\n",
       "        vertical-align: middle;\n",
       "    }\n",
       "\n",
       "    .dataframe tbody tr th {\n",
       "        vertical-align: top;\n",
       "    }\n",
       "\n",
       "    .dataframe thead th {\n",
       "        text-align: right;\n",
       "    }\n",
       "</style>\n",
       "<table border=\"1\" class=\"dataframe\">\n",
       "  <thead>\n",
       "    <tr style=\"text-align: right;\">\n",
       "      <th>Symbols</th>\n",
       "      <th>^KS11</th>\n",
       "      <th>^KQ11</th>\n",
       "    </tr>\n",
       "    <tr>\n",
       "      <th>Date</th>\n",
       "      <th></th>\n",
       "      <th></th>\n",
       "    </tr>\n",
       "  </thead>\n",
       "  <tbody>\n",
       "    <tr>\n",
       "      <th>2018-02-01</th>\n",
       "      <td>2568.540039</td>\n",
       "      <td>908.200012</td>\n",
       "    </tr>\n",
       "    <tr>\n",
       "      <th>2018-02-02</th>\n",
       "      <td>2525.389893</td>\n",
       "      <td>899.469971</td>\n",
       "    </tr>\n",
       "    <tr>\n",
       "      <th>2018-02-05</th>\n",
       "      <td>2491.750000</td>\n",
       "      <td>858.219971</td>\n",
       "    </tr>\n",
       "    <tr>\n",
       "      <th>2018-02-06</th>\n",
       "      <td>2453.310059</td>\n",
       "      <td>858.169983</td>\n",
       "    </tr>\n",
       "    <tr>\n",
       "      <th>2018-02-07</th>\n",
       "      <td>2396.560059</td>\n",
       "      <td>829.960022</td>\n",
       "    </tr>\n",
       "  </tbody>\n",
       "</table>\n",
       "</div>"
      ],
      "text/plain": [
       "Symbols           ^KS11       ^KQ11\n",
       "Date                               \n",
       "2018-02-01  2568.540039  908.200012\n",
       "2018-02-02  2525.389893  899.469971\n",
       "2018-02-05  2491.750000  858.219971\n",
       "2018-02-06  2453.310059  858.169983\n",
       "2018-02-07  2396.560059  829.960022"
      ]
     },
     "execution_count": 27,
     "metadata": {},
     "output_type": "execute_result"
    }
   ],
   "source": [
    "# import KOSPI and KOSDAQ\n",
    "\n",
    "# KOSPI: ^KS11\n",
    "# KOSDAQ: ^KQ11\n",
    "\n",
    "stock = pdr.get_data_yahoo(['^KS11', '^KQ11'],\n",
    "                            start=datetime.datetime(2018, 2, 1),\n",
    "                            end=datetime.datetime(2020, 1, 31)\n",
    "                            )['Adj Close']\n",
    "stock.head()"
   ]
  },
  {
   "cell_type": "code",
   "execution_count": 28,
   "metadata": {},
   "outputs": [],
   "source": [
    "# change the features' name.\n",
    "stock = stock.rename(columns={\"^KS11\": \"KOSPI\", \"^KQ11\": \"KOSDAQ\"}, errors=\"raise\")"
   ]
  },
  {
   "cell_type": "code",
   "execution_count": 29,
   "metadata": {},
   "outputs": [
    {
     "name": "stdout",
     "output_type": "stream",
     "text": [
      "<class 'pandas.core.frame.DataFrame'>\n",
      "DatetimeIndex: 486 entries, 2018-02-01 to 2020-01-31\n",
      "Data columns (total 2 columns):\n",
      " #   Column  Non-Null Count  Dtype  \n",
      "---  ------  --------------  -----  \n",
      " 0   KOSPI   486 non-null    float64\n",
      " 1   KOSDAQ  486 non-null    float64\n",
      "dtypes: float64(2)\n",
      "memory usage: 11.4 KB\n"
     ]
    }
   ],
   "source": [
    "stock.info()"
   ]
  },
  {
   "cell_type": "code",
   "execution_count": 30,
   "metadata": {},
   "outputs": [
    {
     "name": "stdout",
     "output_type": "stream",
     "text": [
      "<class 'pandas.core.frame.DataFrame'>\n",
      "DatetimeIndex: 730 entries, 2018-02-01 to 2020-01-31\n",
      "Freq: D\n",
      "Data columns (total 2 columns):\n",
      " #   Column  Non-Null Count  Dtype  \n",
      "---  ------  --------------  -----  \n",
      " 0   KOSPI   730 non-null    float64\n",
      " 1   KOSDAQ  730 non-null    float64\n",
      "dtypes: float64(2)\n",
      "memory usage: 17.1 KB\n"
     ]
    }
   ],
   "source": [
    "stock = stock.reindex(pd.date_range('2018-02-01', '2020-01-31'))\n",
    "stock = stock.fillna(method='backfill')\n",
    "stock.info()"
   ]
  },
  {
   "cell_type": "code",
   "execution_count": 31,
   "metadata": {},
   "outputs": [
    {
     "data": {
      "text/plain": [
       "<matplotlib.axes._subplots.AxesSubplot at 0x16b0195d248>"
      ]
     },
     "execution_count": 31,
     "metadata": {},
     "output_type": "execute_result"
    },
    {
     "data": {
      "image/png": "[encoded data removed]",
      "text/plain": [
       "<Figure size 432x288 with 1 Axes>"
      ]
     },
     "metadata": {
      "needs_background": "light"
     },
     "output_type": "display_data"
    }
   ],
   "source": [
    "stock.plot()"
   ]
  },
  {
   "cell_type": "markdown",
   "metadata": {},
   "source": [
    "### 1-3 Weather\n",
    "\n",
    "- use the data from the competition\n",
    "#### how can we divide the area?\n",
    "1. in one time.\n",
    "2. 제주, 육지\n",
    "3. 제주, 경기+서울, 강원도, 경상도, 전라도, 충청도\n",
    "4. using original area number"
   ]
  },
  {
   "cell_type": "code",
   "execution_count": 32,
   "metadata": {},
   "outputs": [
    {
     "name": "stderr",
     "output_type": "stream",
     "text": [
      "C:\\Users\\lonj7\\Anaconda3\\lib\\site-packages\\IPython\\core\\interactiveshell.py:3063: DtypeWarning: Columns (25) have mixed types.Specify dtype option on import or set low_memory=False.\n",
      "  interactivity=interactivity, compiler=compiler, result=result)\n"
     ]
    }
   ],
   "source": [
    "weather = pd.read_csv(\"data/weather_v1.csv\")"
   ]
  },
  {
   "cell_type": "code",
   "execution_count": 33,
   "metadata": {},
   "outputs": [
    {
     "name": "stdout",
     "output_type": "stream",
     "text": [
      "<class 'pandas.core.frame.DataFrame'>\n",
      "RangeIndex: 648852 entries, 0 to 648851\n",
      "Data columns (total 37 columns):\n",
      " #   Column          Non-Null Count   Dtype  \n",
      "---  ------          --------------   -----  \n",
      " 0   area            648852 non-null  int64  \n",
      " 1   datetime        648852 non-null  object \n",
      " 2   temp            645507 non-null  float64\n",
      " 3   temp_QCFlag     27743 non-null   float64\n",
      " 4   prec            581414 non-null  float64\n",
      " 5   prec_QCFlag     17055 non-null   float64\n",
      " 6   ws              640517 non-null  float64\n",
      " 7   ws_QCFlag       26387 non-null   float64\n",
      " 8   wd              639565 non-null  float64\n",
      " 9   wd_QCFlag       26456 non-null   float64\n",
      " 10  humid           586245 non-null  float64\n",
      " 11  humid_QCFlag    27393 non-null   float64\n",
      " 12  vaporP          70026 non-null   float64\n",
      " 13  dew             70026 non-null   float64\n",
      " 14  landP           300870 non-null  float64\n",
      " 15  landP_QCFlag    27398 non-null   float64\n",
      " 16  seaP            300848 non-null  float64\n",
      " 17  seaP_QCFlag     27400 non-null   float64\n",
      " 18  suntime         38066 non-null   float64\n",
      " 19  suntime_QCFlag  45898 non-null   float64\n",
      " 20  rad             19135 non-null   float64\n",
      " 21  snow            377 non-null     float64\n",
      " 22  3hr_snow        29 non-null      float64\n",
      " 23  C               56362 non-null   float64\n",
      " 24  lowmiddleC      57399 non-null   float64\n",
      " 25  typeC           20977 non-null   object \n",
      " 26  ceiling         38635 non-null   float64\n",
      " 27  vis             67058 non-null   float64\n",
      " 28  sfctype         0 non-null       float64\n",
      " 29  weathernumber   8227 non-null    float64\n",
      " 30  sfctemp         70023 non-null   float64\n",
      " 31  sfctemp_QCFlag  27423 non-null   float64\n",
      " 32  landtemp_5cm    17518 non-null   float64\n",
      " 33  landtemp_10cm   17518 non-null   float64\n",
      " 34  landtemp_20cm   17507 non-null   float64\n",
      " 35  landtemp_30cm   17518 non-null   float64\n",
      " 36  station         648852 non-null  object \n",
      "dtypes: float64(33), int64(1), object(3)\n",
      "memory usage: 183.2+ MB\n"
     ]
    }
   ],
   "source": [
    "weather.info()"
   ]
  },
  {
   "cell_type": "markdown",
   "metadata": {},
   "source": [
    "area: 지점코드 (지점 코드별 지점명은 lookupTable_area.csv 참조) \\\n",
    "datetime: 일시 (YYYY-MM-DD hh:mm)\\\n",
    "temp: 기온 (°C)\\\n",
    "temp_QCFlag: 기온 QC플래그\\\n",
    "prec: 강수량 (mm)\\\n",
    "prec_QCFlag: 강수량 QC플래그\\\n",
    "ws: 풍속 (m/s)\\\n",
    "ws_QCFlag: 풍속 QC플래그\\\n",
    "wd: 풍향 (16방위)\\\n",
    "wd_QCFlag: 풍향 QC플래그\\\n",
    "humid: 습도 (%)\\\n",
    "humid_QCFlag: 습도 QC플래그\\\n",
    "vaprP: 증기압 (hPa)\\\n",
    "dew: 이슬점온도 (°C)\\\n",
    "landP: 현지기압 (hPa)\\\n",
    "landP_QCFlag: 현지기압 QC플래그\\\n",
    "seaP: 해면기압 (hPa)\\\n",
    "seP_QCFlag: 해면기압 QC플래그\\\n",
    "suntime: 일조 (hr)\\\n",
    "suntime_QCFlag: 일조 QC플래그\\\n",
    "rad: 일사 (MJ/m2)\\\n",
    "snow: 적설 (cm)\\\n",
    "3hr_snow: 3시간신적설 (cm)\\\n",
    "C: 전운량 (10분위)\\\n",
    "lowmiddleC: 중하층운량 (10분위)\\\n",
    "typeC: 운형 (운형약어)\\\n",
    "ceiling: 최저운고 (100m)\\\n",
    "vis: 시정 (10m)\\\n",
    "sfctype: 지면상태 (지면상태코드)\\\n",
    "weathernumber: 현상번호 (국내식)\\\n",
    "sfctemp: 지면온도 (°C)\\\n",
    "sfctemp_QCFlag: 지면온도 QC플래그\\\n",
    "landtemp_5 10 20 30cm: $x$cm 지중온도 (°C)\\\n",
    "station: 관측장비 (ASOS 또는 AWS)"
   ]
  },
  {
   "cell_type": "code",
   "execution_count": 34,
   "metadata": {
    "scrolled": false
   },
   "outputs": [
    {
     "data": {
      "text/html": [
       "<div>\n",
       "<style scoped>\n",
       "    .dataframe tbody tr th:only-of-type {\n",
       "        vertical-align: middle;\n",
       "    }\n",
       "\n",
       "    .dataframe tbody tr th {\n",
       "        vertical-align: top;\n",
       "    }\n",
       "\n",
       "    .dataframe thead th {\n",
       "        text-align: right;\n",
       "    }\n",
       "</style>\n",
       "<table border=\"1\" class=\"dataframe\">\n",
       "  <thead>\n",
       "    <tr style=\"text-align: right;\">\n",
       "      <th></th>\n",
       "      <th>area</th>\n",
       "      <th>datetime</th>\n",
       "      <th>temp</th>\n",
       "      <th>temp_QCFlag</th>\n",
       "      <th>prec</th>\n",
       "      <th>prec_QCFlag</th>\n",
       "      <th>ws</th>\n",
       "      <th>ws_QCFlag</th>\n",
       "      <th>wd</th>\n",
       "      <th>wd_QCFlag</th>\n",
       "      <th>...</th>\n",
       "      <th>vis</th>\n",
       "      <th>sfctype</th>\n",
       "      <th>weathernumber</th>\n",
       "      <th>sfctemp</th>\n",
       "      <th>sfctemp_QCFlag</th>\n",
       "      <th>landtemp_5cm</th>\n",
       "      <th>landtemp_10cm</th>\n",
       "      <th>landtemp_20cm</th>\n",
       "      <th>landtemp_30cm</th>\n",
       "      <th>station</th>\n",
       "    </tr>\n",
       "  </thead>\n",
       "  <tbody>\n",
       "    <tr>\n",
       "      <th>0</th>\n",
       "      <td>184</td>\n",
       "      <td>2018-02-01 01:00</td>\n",
       "      <td>4.7</td>\n",
       "      <td>0.0</td>\n",
       "      <td>NaN</td>\n",
       "      <td>NaN</td>\n",
       "      <td>3.6</td>\n",
       "      <td>0.0</td>\n",
       "      <td>20.0</td>\n",
       "      <td>0.0</td>\n",
       "      <td>...</td>\n",
       "      <td>1950.0</td>\n",
       "      <td>NaN</td>\n",
       "      <td>NaN</td>\n",
       "      <td>2.9</td>\n",
       "      <td>0.0</td>\n",
       "      <td>3.7</td>\n",
       "      <td>3.9</td>\n",
       "      <td>4.2</td>\n",
       "      <td>4.9</td>\n",
       "      <td>ASOS</td>\n",
       "    </tr>\n",
       "  </tbody>\n",
       "</table>\n",
       "<p>1 rows × 37 columns</p>\n",
       "</div>"
      ],
      "text/plain": [
       "   area          datetime  temp  temp_QCFlag  prec  prec_QCFlag   ws  \\\n",
       "0   184  2018-02-01 01:00   4.7          0.0   NaN          NaN  3.6   \n",
       "\n",
       "   ws_QCFlag    wd  wd_QCFlag  ...     vis  sfctype  weathernumber  sfctemp  \\\n",
       "0        0.0  20.0        0.0  ...  1950.0      NaN            NaN      2.9   \n",
       "\n",
       "   sfctemp_QCFlag  landtemp_5cm  landtemp_10cm  landtemp_20cm  landtemp_30cm  \\\n",
       "0             0.0           3.7            3.9            4.2            4.9   \n",
       "\n",
       "   station  \n",
       "0     ASOS  \n",
       "\n",
       "[1 rows x 37 columns]"
      ]
     },
     "execution_count": 34,
     "metadata": {},
     "output_type": "execute_result"
    }
   ],
   "source": [
    "weather.head(1)"
   ]
  },
  {
   "cell_type": "code",
   "execution_count": 35,
   "metadata": {
    "scrolled": true
   },
   "outputs": [
    {
     "data": {
      "text/html": [
       "<div>\n",
       "<style scoped>\n",
       "    .dataframe tbody tr th:only-of-type {\n",
       "        vertical-align: middle;\n",
       "    }\n",
       "\n",
       "    .dataframe tbody tr th {\n",
       "        vertical-align: top;\n",
       "    }\n",
       "\n",
       "    .dataframe thead th {\n",
       "        text-align: right;\n",
       "    }\n",
       "</style>\n",
       "<table border=\"1\" class=\"dataframe\">\n",
       "  <thead>\n",
       "    <tr style=\"text-align: right;\">\n",
       "      <th></th>\n",
       "      <th>area</th>\n",
       "      <th>datetime</th>\n",
       "      <th>temp</th>\n",
       "      <th>temp_QCFlag</th>\n",
       "      <th>prec</th>\n",
       "      <th>prec_QCFlag</th>\n",
       "      <th>ws</th>\n",
       "      <th>ws_QCFlag</th>\n",
       "      <th>wd</th>\n",
       "      <th>wd_QCFlag</th>\n",
       "      <th>...</th>\n",
       "      <th>vis</th>\n",
       "      <th>sfctype</th>\n",
       "      <th>weathernumber</th>\n",
       "      <th>sfctemp</th>\n",
       "      <th>sfctemp_QCFlag</th>\n",
       "      <th>landtemp_5cm</th>\n",
       "      <th>landtemp_10cm</th>\n",
       "      <th>landtemp_20cm</th>\n",
       "      <th>landtemp_30cm</th>\n",
       "      <th>station</th>\n",
       "    </tr>\n",
       "  </thead>\n",
       "  <tbody>\n",
       "    <tr>\n",
       "      <th>0</th>\n",
       "      <td>184</td>\n",
       "      <td>2018-02-01 01:00:00</td>\n",
       "      <td>4.7</td>\n",
       "      <td>0.0</td>\n",
       "      <td>NaN</td>\n",
       "      <td>NaN</td>\n",
       "      <td>3.6</td>\n",
       "      <td>0.0</td>\n",
       "      <td>20.0</td>\n",
       "      <td>0.0</td>\n",
       "      <td>...</td>\n",
       "      <td>1950.0</td>\n",
       "      <td>NaN</td>\n",
       "      <td>NaN</td>\n",
       "      <td>2.9</td>\n",
       "      <td>0.0</td>\n",
       "      <td>3.7</td>\n",
       "      <td>3.9</td>\n",
       "      <td>4.2</td>\n",
       "      <td>4.9</td>\n",
       "      <td>ASOS</td>\n",
       "    </tr>\n",
       "    <tr>\n",
       "      <th>1</th>\n",
       "      <td>184</td>\n",
       "      <td>2018-02-01 02:00:00</td>\n",
       "      <td>4.8</td>\n",
       "      <td>0.0</td>\n",
       "      <td>NaN</td>\n",
       "      <td>NaN</td>\n",
       "      <td>2.6</td>\n",
       "      <td>0.0</td>\n",
       "      <td>360.0</td>\n",
       "      <td>0.0</td>\n",
       "      <td>...</td>\n",
       "      <td>1865.0</td>\n",
       "      <td>NaN</td>\n",
       "      <td>NaN</td>\n",
       "      <td>2.9</td>\n",
       "      <td>0.0</td>\n",
       "      <td>3.6</td>\n",
       "      <td>3.8</td>\n",
       "      <td>4.2</td>\n",
       "      <td>4.9</td>\n",
       "      <td>ASOS</td>\n",
       "    </tr>\n",
       "    <tr>\n",
       "      <th>2</th>\n",
       "      <td>184</td>\n",
       "      <td>2018-02-01 03:00:00</td>\n",
       "      <td>4.8</td>\n",
       "      <td>0.0</td>\n",
       "      <td>NaN</td>\n",
       "      <td>NaN</td>\n",
       "      <td>4.6</td>\n",
       "      <td>0.0</td>\n",
       "      <td>20.0</td>\n",
       "      <td>0.0</td>\n",
       "      <td>...</td>\n",
       "      <td>1855.0</td>\n",
       "      <td>NaN</td>\n",
       "      <td>NaN</td>\n",
       "      <td>3.0</td>\n",
       "      <td>0.0</td>\n",
       "      <td>3.6</td>\n",
       "      <td>3.8</td>\n",
       "      <td>4.3</td>\n",
       "      <td>4.9</td>\n",
       "      <td>ASOS</td>\n",
       "    </tr>\n",
       "    <tr>\n",
       "      <th>3</th>\n",
       "      <td>184</td>\n",
       "      <td>2018-02-01 04:00:00</td>\n",
       "      <td>4.5</td>\n",
       "      <td>0.0</td>\n",
       "      <td>NaN</td>\n",
       "      <td>NaN</td>\n",
       "      <td>5.7</td>\n",
       "      <td>0.0</td>\n",
       "      <td>20.0</td>\n",
       "      <td>0.0</td>\n",
       "      <td>...</td>\n",
       "      <td>1425.0</td>\n",
       "      <td>NaN</td>\n",
       "      <td>NaN</td>\n",
       "      <td>3.0</td>\n",
       "      <td>0.0</td>\n",
       "      <td>3.6</td>\n",
       "      <td>3.8</td>\n",
       "      <td>4.2</td>\n",
       "      <td>5.0</td>\n",
       "      <td>ASOS</td>\n",
       "    </tr>\n",
       "    <tr>\n",
       "      <th>4</th>\n",
       "      <td>184</td>\n",
       "      <td>2018-02-01 05:00:00</td>\n",
       "      <td>4.5</td>\n",
       "      <td>0.0</td>\n",
       "      <td>NaN</td>\n",
       "      <td>9.0</td>\n",
       "      <td>4.4</td>\n",
       "      <td>0.0</td>\n",
       "      <td>20.0</td>\n",
       "      <td>0.0</td>\n",
       "      <td>...</td>\n",
       "      <td>1043.0</td>\n",
       "      <td>NaN</td>\n",
       "      <td>1.0</td>\n",
       "      <td>3.0</td>\n",
       "      <td>0.0</td>\n",
       "      <td>3.5</td>\n",
       "      <td>3.8</td>\n",
       "      <td>4.2</td>\n",
       "      <td>4.9</td>\n",
       "      <td>ASOS</td>\n",
       "    </tr>\n",
       "  </tbody>\n",
       "</table>\n",
       "<p>5 rows × 37 columns</p>\n",
       "</div>"
      ],
      "text/plain": [
       "   area            datetime  temp  temp_QCFlag  prec  prec_QCFlag   ws  \\\n",
       "0   184 2018-02-01 01:00:00   4.7          0.0   NaN          NaN  3.6   \n",
       "1   184 2018-02-01 02:00:00   4.8          0.0   NaN          NaN  2.6   \n",
       "2   184 2018-02-01 03:00:00   4.8          0.0   NaN          NaN  4.6   \n",
       "3   184 2018-02-01 04:00:00   4.5          0.0   NaN          NaN  5.7   \n",
       "4   184 2018-02-01 05:00:00   4.5          0.0   NaN          9.0  4.4   \n",
       "\n",
       "   ws_QCFlag     wd  wd_QCFlag  ...     vis  sfctype  weathernumber  sfctemp  \\\n",
       "0        0.0   20.0        0.0  ...  1950.0      NaN            NaN      2.9   \n",
       "1        0.0  360.0        0.0  ...  1865.0      NaN            NaN      2.9   \n",
       "2        0.0   20.0        0.0  ...  1855.0      NaN            NaN      3.0   \n",
       "3        0.0   20.0        0.0  ...  1425.0      NaN            NaN      3.0   \n",
       "4        0.0   20.0        0.0  ...  1043.0      NaN            1.0      3.0   \n",
       "\n",
       "   sfctemp_QCFlag  landtemp_5cm  landtemp_10cm  landtemp_20cm  landtemp_30cm  \\\n",
       "0             0.0           3.7            3.9            4.2            4.9   \n",
       "1             0.0           3.6            3.8            4.2            4.9   \n",
       "2             0.0           3.6            3.8            4.3            4.9   \n",
       "3             0.0           3.6            3.8            4.2            5.0   \n",
       "4             0.0           3.5            3.8            4.2            4.9   \n",
       "\n",
       "   station  \n",
       "0     ASOS  \n",
       "1     ASOS  \n",
       "2     ASOS  \n",
       "3     ASOS  \n",
       "4     ASOS  \n",
       "\n",
       "[5 rows x 37 columns]"
      ]
     },
     "execution_count": 35,
     "metadata": {},
     "output_type": "execute_result"
    }
   ],
   "source": [
    "weather['datetime'] = pd.to_datetime(weather['datetime'])\n",
    "weather.head()"
   ]
  },
  {
   "cell_type": "code",
   "execution_count": 36,
   "metadata": {},
   "outputs": [],
   "source": [
    "weather.drop(['temp_QCFlag', 'prec_QCFlag',\n",
    "              'ws_QCFlag', 'wd_QCFlag', 'humid_QCFlag', \n",
    "              'landP_QCFlag', 'seaP', 'seaP_QCFlag',\n",
    "              'suntime_QCFlag', '3hr_snow', 'lowmiddleC',\n",
    "              'typeC', 'ceiling', 'sfctype', 'weathernumber', \n",
    "              'sfctemp', 'sfctemp_QCFlag', 'landtemp_5cm', \n",
    "              'landtemp_10cm', 'landtemp_20cm', 'landtemp_30cm',\n",
    "              'station'], axis=1, inplace=True)"
   ]
  },
  {
   "cell_type": "code",
   "execution_count": 37,
   "metadata": {},
   "outputs": [
    {
     "data": {
      "text/plain": [
       "'\"\\nweather_land = weather[weather[\\'area\\'] != 184].copy()\\nweather_jeju = weather[weather[\\'area\\'] == 184].copy()\\n\\ncombine = [weather_land, weather_jeju]\\n'"
      ]
     },
     "execution_count": 37,
     "metadata": {},
     "output_type": "execute_result"
    }
   ],
   "source": [
    "# Land vs Jeju\n",
    "\"\"\"\"\n",
    "weather_land = weather[weather['area'] != 184].copy()\n",
    "weather_jeju = weather[weather['area'] == 184].copy()\n",
    "\n",
    "combine = [weather_land, weather_jeju]\n",
    "\"\"\""
   ]
  },
  {
   "cell_type": "code",
   "execution_count": 38,
   "metadata": {},
   "outputs": [],
   "source": [
    "index = pd.date_range('2018-02-01', '2020-01-31')\n",
    "columns = []\n",
    "\n",
    "# in one time\n",
    "weather_1 = pd.DataFrame(index=index, columns=columns)\n",
    "\n",
    "# Land vs Jeju\n",
    "# weather_Land = pd.DataFrame(index=index, columns=columns)\n",
    "# weather_Jeju = pd.DataFrame(index=index, columns=columns)"
   ]
  },
  {
   "cell_type": "code",
   "execution_count": 39,
   "metadata": {},
   "outputs": [],
   "source": [
    "# ASOS and AWS collet different data.\n",
    "\n",
    "# group by a day.\n",
    "# temp    -> temp_max, temp_min, temp_mean\n",
    "# prec    -> rain(sum of prec) is_rain(boolean)\n",
    "# ws      -> ws_max, ws_mean, ws_min\n",
    "# humid   -> humid_ax, humid_min, humid_mean\n",
    "# vaporP   -> vaprD_mean\n",
    "# dew     -> dew_min\n",
    "# landP   -> LandP_mean, LandP_max, LandP_min\n",
    "# suntime -> suntime_sum\n",
    "# rad     -> rad_mean\n",
    "# snow    -> snow(sum), is_snow(boolean)\n",
    "# C       -> cloud(mean -> 맑음(0~2): 0, 구름조금(3~5): 1, 구름많음(6~8): 2, 흐림(9~10이상): 3)\n",
    "# vis     -> vis_max, vis_mean, vis_mean\n",
    "# weathernumber -> hmmmmm.................\n",
    "\n",
    "weather_max = weather.resample('d', on='datetime').max()\n",
    "weather_mean = weather.resample('d', on='datetime').mean()\n",
    "weather_min = weather.resample('d', on='datetime').min()\n",
    "weather_sum = weather.resample('d', on='datetime').sum()\n",
    "\n",
    "# temp    -> temp_max, temp_min, temp_mean\n",
    "weather_1['temp_max'] = weather_max['temp']\n",
    "weather_1['temp_mean'] = weather_mean['temp']\n",
    "weather_1['temp_min'] = weather_min['temp']\n",
    "\n",
    "# prec    -> rain(sum of prec) is_rain(boolean)\n",
    "weather_1['rain'] = weather_sum['prec']\n",
    "\n",
    "weather_1['is_rain'] = 0\n",
    "weather_1.loc[weather_1['rain'] > 0, 'is_rain'] = 1\n",
    "weather_1.loc[weather_1['rain'] == 0, 'is_rain'] = 0\n",
    "\n",
    "# ws      -> ws_max, ws_mean\n",
    "weather_1['ws_max'] = weather_max['ws']\n",
    "weather_1['ws_mean'] = weather_mean['ws']\n",
    "weather_1['ws_min'] = weather_min['ws']\n",
    "\n",
    "\n",
    "# humid   -> humid_ax, humid_min, humid_mean\n",
    "weather_1['humid_max'] = weather_max['humid']\n",
    "weather_1['humid_mean'] = weather_mean['humid']\n",
    "weather_1['humid_min'] = weather_min['humid']\n",
    "\n",
    "# vaporP   -> vaprD_mean\n",
    "weather_1['vaporP_mean'] = weather_mean['vaporP']\n",
    "\n",
    "# dew     -> dew_min\n",
    "weather_1['dew_min'] = weather_min['dew']\n",
    "\n",
    "# landP   -> LandP_mean, LandP_max, LandP_min\n",
    "weather_1['landP_max'] = weather_max['landP']\n",
    "weather_1['landP_mean'] = weather_mean['landP']\n",
    "weather_1['landP_min'] = weather_min['landP']\n",
    "\n",
    "# suntime -> suntime(sum)\n",
    "weather_1['suntime'] = weather_sum['suntime']\n",
    "\n",
    "# rad     -> rad_mean\n",
    "weather_1['rad_mean'] = weather_mean['rad']\n",
    "\n",
    "# snow    -> snow(sum), is_snow(boolean)\n",
    "weather_1['snow'] = weather_sum['snow']\n",
    "\n",
    "weather_1['is_snow'] = 0\n",
    "weather_1.loc[weather_1['snow'] > 0, 'is_snow'] = 1\n",
    "weather_1.loc[weather_1['snow'] == 0, 'is_snow'] = 0\n",
    "\n",
    "# C       -> cloud(mean -> 맑음(0~2): 0, 구름조금(3~5): 1, 구름많음(6~8): 2, 흐림(9~10이상): 3)\n",
    "weather_1['cloud'] = weather_mean['C']\n",
    "\n",
    "weather_1.loc[weather_1['cloud'] <= 2, 'cloud'] = 0\n",
    "weather_1.loc[(weather_1['cloud'] > 2) & (weather_1['cloud'] <=5), 'cloud'] = 1\n",
    "weather_1.loc[(weather_1['cloud'] > 5) & (weather_1['cloud'] <=8), 'cloud'] = 2\n",
    "weather_1.loc[(weather_1['cloud'] > 9), 'cloud'] = 3\n",
    "\n",
    "# vis     -> vis_max, vis_mean, vis_mean\n",
    "weather_1['vis_max'] = weather_max['vis']\n",
    "weather_1['vis_mean'] = weather_mean['vis']\n",
    "weather_1['vis_min'] = weather_min['vis']"
   ]
  },
  {
   "cell_type": "code",
   "execution_count": 40,
   "metadata": {},
   "outputs": [],
   "source": [
    "weather_1['month'] = weather_1.index.month.astype(float)\n",
    "# The day of the week with Monday=0, Sunday=6\n",
    "weather_1['weekday'] = weather_1.index.dayofweek.astype(float)"
   ]
  },
  {
   "cell_type": "code",
   "execution_count": 41,
   "metadata": {},
   "outputs": [
    {
     "data": {
      "text/html": [
       "<div>\n",
       "<style scoped>\n",
       "    .dataframe tbody tr th:only-of-type {\n",
       "        vertical-align: middle;\n",
       "    }\n",
       "\n",
       "    .dataframe tbody tr th {\n",
       "        vertical-align: top;\n",
       "    }\n",
       "\n",
       "    .dataframe thead th {\n",
       "        text-align: right;\n",
       "    }\n",
       "</style>\n",
       "<table border=\"1\" class=\"dataframe\">\n",
       "  <thead>\n",
       "    <tr style=\"text-align: right;\">\n",
       "      <th></th>\n",
       "      <th>temp_max</th>\n",
       "      <th>temp_mean</th>\n",
       "      <th>temp_min</th>\n",
       "      <th>rain</th>\n",
       "      <th>is_rain</th>\n",
       "      <th>ws_max</th>\n",
       "      <th>ws_mean</th>\n",
       "      <th>ws_min</th>\n",
       "      <th>humid_max</th>\n",
       "      <th>humid_mean</th>\n",
       "      <th>...</th>\n",
       "      <th>suntime</th>\n",
       "      <th>rad_mean</th>\n",
       "      <th>snow</th>\n",
       "      <th>is_snow</th>\n",
       "      <th>cloud</th>\n",
       "      <th>vis_max</th>\n",
       "      <th>vis_mean</th>\n",
       "      <th>vis_min</th>\n",
       "      <th>month</th>\n",
       "      <th>weekday</th>\n",
       "    </tr>\n",
       "  </thead>\n",
       "  <tbody>\n",
       "    <tr>\n",
       "      <th>2018-02-01</th>\n",
       "      <td>8.7</td>\n",
       "      <td>1.271798</td>\n",
       "      <td>-11.3</td>\n",
       "      <td>2.5</td>\n",
       "      <td>1</td>\n",
       "      <td>12.7</td>\n",
       "      <td>3.523141</td>\n",
       "      <td>0.0</td>\n",
       "      <td>99.9</td>\n",
       "      <td>67.423452</td>\n",
       "      <td>...</td>\n",
       "      <td>26.6</td>\n",
       "      <td>0.684583</td>\n",
       "      <td>0.0</td>\n",
       "      <td>0</td>\n",
       "      <td>2.0</td>\n",
       "      <td>2000.0</td>\n",
       "      <td>1552.097826</td>\n",
       "      <td>500.0</td>\n",
       "      <td>2.0</td>\n",
       "      <td>3.0</td>\n",
       "    </tr>\n",
       "  </tbody>\n",
       "</table>\n",
       "<p>1 rows × 26 columns</p>\n",
       "</div>"
      ],
      "text/plain": [
       "            temp_max  temp_mean  temp_min  rain  is_rain  ws_max   ws_mean  \\\n",
       "2018-02-01       8.7   1.271798     -11.3   2.5        1    12.7  3.523141   \n",
       "\n",
       "            ws_min  humid_max  humid_mean  ...  suntime  rad_mean  snow  \\\n",
       "2018-02-01     0.0       99.9   67.423452  ...     26.6  0.684583   0.0   \n",
       "\n",
       "            is_snow  cloud  vis_max     vis_mean  vis_min  month  weekday  \n",
       "2018-02-01        0    2.0   2000.0  1552.097826    500.0    2.0      3.0  \n",
       "\n",
       "[1 rows x 26 columns]"
      ]
     },
     "execution_count": 41,
     "metadata": {},
     "output_type": "execute_result"
    }
   ],
   "source": [
    "weather_1.head(1)"
   ]
  },
  {
   "cell_type": "code",
   "execution_count": 42,
   "metadata": {
    "scrolled": true
   },
   "outputs": [
    {
     "name": "stdout",
     "output_type": "stream",
     "text": [
      "<class 'pandas.core.frame.DataFrame'>\n",
      "DatetimeIndex: 730 entries, 2018-02-01 to 2020-01-31\n",
      "Freq: D\n",
      "Data columns (total 26 columns):\n",
      " #   Column       Non-Null Count  Dtype  \n",
      "---  ------       --------------  -----  \n",
      " 0   temp_max     730 non-null    float64\n",
      " 1   temp_mean    730 non-null    float64\n",
      " 2   temp_min     730 non-null    float64\n",
      " 3   rain         730 non-null    float64\n",
      " 4   is_rain      730 non-null    int64  \n",
      " 5   ws_max       730 non-null    float64\n",
      " 6   ws_mean      730 non-null    float64\n",
      " 7   ws_min       730 non-null    float64\n",
      " 8   humid_max    730 non-null    float64\n",
      " 9   humid_mean   730 non-null    float64\n",
      " 10  humid_min    730 non-null    float64\n",
      " 11  vaporP_mean  730 non-null    float64\n",
      " 12  dew_min      730 non-null    float64\n",
      " 13  landP_max    730 non-null    float64\n",
      " 14  landP_mean   730 non-null    float64\n",
      " 15  landP_min    730 non-null    float64\n",
      " 16  suntime      730 non-null    float64\n",
      " 17  rad_mean     730 non-null    float64\n",
      " 18  snow         730 non-null    float64\n",
      " 19  is_snow      730 non-null    int64  \n",
      " 20  cloud        730 non-null    float64\n",
      " 21  vis_max      730 non-null    float64\n",
      " 22  vis_mean     730 non-null    float64\n",
      " 23  vis_min      730 non-null    float64\n",
      " 24  month        730 non-null    float64\n",
      " 25  weekday      730 non-null    float64\n",
      "dtypes: float64(24), int64(2)\n",
      "memory usage: 154.0 KB\n"
     ]
    }
   ],
   "source": [
    "weather_1.info()"
   ]
  },
  {
   "cell_type": "markdown",
   "metadata": {},
   "source": [
    "#### combine in one dataframe called 'features'"
   ]
  },
  {
   "cell_type": "code",
   "execution_count": 43,
   "metadata": {},
   "outputs": [
    {
     "name": "stdout",
     "output_type": "stream",
     "text": [
      "<class 'pandas.core.frame.DataFrame'>\n",
      "DatetimeIndex: 730 entries, 2018-02-01 to 2020-01-31\n",
      "Freq: D\n",
      "Data columns (total 29 columns):\n",
      " #   Column       Non-Null Count  Dtype  \n",
      "---  ------       --------------  -----  \n",
      " 0   temp_max     730 non-null    float64\n",
      " 1   temp_mean    730 non-null    float64\n",
      " 2   temp_min     730 non-null    float64\n",
      " 3   rain         730 non-null    float64\n",
      " 4   is_rain      730 non-null    int64  \n",
      " 5   ws_max       730 non-null    float64\n",
      " 6   ws_mean      730 non-null    float64\n",
      " 7   ws_min       730 non-null    float64\n",
      " 8   humid_max    730 non-null    float64\n",
      " 9   humid_mean   730 non-null    float64\n",
      " 10  humid_min    730 non-null    float64\n",
      " 11  vaporP_mean  730 non-null    float64\n",
      " 12  dew_min      730 non-null    float64\n",
      " 13  landP_max    730 non-null    float64\n",
      " 14  landP_mean   730 non-null    float64\n",
      " 15  landP_min    730 non-null    float64\n",
      " 16  suntime      730 non-null    float64\n",
      " 17  rad_mean     730 non-null    float64\n",
      " 18  snow         730 non-null    float64\n",
      " 19  is_snow      730 non-null    int64  \n",
      " 20  cloud        730 non-null    float64\n",
      " 21  vis_max      730 non-null    float64\n",
      " 22  vis_mean     730 non-null    float64\n",
      " 23  vis_min      730 non-null    float64\n",
      " 24  month        730 non-null    float64\n",
      " 25  weekday      730 non-null    float64\n",
      " 26  LNG          730 non-null    float64\n",
      " 27  KOSPI        730 non-null    float64\n",
      " 28  KOSDAQ       730 non-null    float64\n",
      "dtypes: float64(27), int64(2)\n",
      "memory usage: 191.1 KB\n"
     ]
    }
   ],
   "source": [
    "features = pd.concat([weather_1, fuel_price, stock], axis=1)\n",
    "features.info()"
   ]
  },
  {
   "cell_type": "code",
   "execution_count": 44,
   "metadata": {},
   "outputs": [],
   "source": [
    "# round 2\n",
    "features = features.round(2)"
   ]
  },
  {
   "cell_type": "markdown",
   "metadata": {},
   "source": [
    "### Label (target value)"
   ]
  },
  {
   "cell_type": "code",
   "execution_count": 45,
   "metadata": {},
   "outputs": [
    {
     "name": "stdout",
     "output_type": "stream",
     "text": [
      "<class 'pandas.core.frame.DataFrame'>\n",
      "RangeIndex: 730 entries, 0 to 729\n",
      "Data columns (total 5 columns):\n",
      " #   Column    Non-Null Count  Dtype  \n",
      "---  ------    --------------  -----  \n",
      " 0   date      730 non-null    object \n",
      " 1   smp_max   730 non-null    float64\n",
      " 2   smp_min   730 non-null    float64\n",
      " 3   smp_mean  730 non-null    float64\n",
      " 4   supply    730 non-null    float64\n",
      "dtypes: float64(4), object(1)\n",
      "memory usage: 28.6+ KB\n"
     ]
    }
   ],
   "source": [
    "target = pd.read_csv(\"data/target_v1.csv\")\n",
    "target.info()"
   ]
  },
  {
   "cell_type": "code",
   "execution_count": 46,
   "metadata": {},
   "outputs": [
    {
     "data": {
      "text/html": [
       "<div>\n",
       "<style scoped>\n",
       "    .dataframe tbody tr th:only-of-type {\n",
       "        vertical-align: middle;\n",
       "    }\n",
       "\n",
       "    .dataframe tbody tr th {\n",
       "        vertical-align: top;\n",
       "    }\n",
       "\n",
       "    .dataframe thead th {\n",
       "        text-align: right;\n",
       "    }\n",
       "</style>\n",
       "<table border=\"1\" class=\"dataframe\">\n",
       "  <thead>\n",
       "    <tr style=\"text-align: right;\">\n",
       "      <th></th>\n",
       "      <th>smp_max</th>\n",
       "      <th>smp_min</th>\n",
       "      <th>smp_mean</th>\n",
       "      <th>supply</th>\n",
       "    </tr>\n",
       "    <tr>\n",
       "      <th>datetime</th>\n",
       "      <th></th>\n",
       "      <th></th>\n",
       "      <th></th>\n",
       "      <th></th>\n",
       "    </tr>\n",
       "  </thead>\n",
       "  <tbody>\n",
       "    <tr>\n",
       "      <th>2018-02-01</th>\n",
       "      <td>150.65</td>\n",
       "      <td>116.84</td>\n",
       "      <td>132.71</td>\n",
       "      <td>87.47</td>\n",
       "    </tr>\n",
       "    <tr>\n",
       "      <th>2018-02-02</th>\n",
       "      <td>163.86</td>\n",
       "      <td>116.84</td>\n",
       "      <td>134.19</td>\n",
       "      <td>86.64</td>\n",
       "    </tr>\n",
       "    <tr>\n",
       "      <th>2018-02-03</th>\n",
       "      <td>164.07</td>\n",
       "      <td>116.85</td>\n",
       "      <td>131.39</td>\n",
       "      <td>88.28</td>\n",
       "    </tr>\n",
       "    <tr>\n",
       "      <th>2018-02-04</th>\n",
       "      <td>171.00</td>\n",
       "      <td>115.76</td>\n",
       "      <td>131.89</td>\n",
       "      <td>86.14</td>\n",
       "    </tr>\n",
       "    <tr>\n",
       "      <th>2018-02-05</th>\n",
       "      <td>170.34</td>\n",
       "      <td>123.89</td>\n",
       "      <td>137.96</td>\n",
       "      <td>90.63</td>\n",
       "    </tr>\n",
       "  </tbody>\n",
       "</table>\n",
       "</div>"
      ],
      "text/plain": [
       "            smp_max  smp_min  smp_mean  supply\n",
       "datetime                                      \n",
       "2018-02-01   150.65   116.84    132.71   87.47\n",
       "2018-02-02   163.86   116.84    134.19   86.64\n",
       "2018-02-03   164.07   116.85    131.39   88.28\n",
       "2018-02-04   171.00   115.76    131.89   86.14\n",
       "2018-02-05   170.34   123.89    137.96   90.63"
      ]
     },
     "execution_count": 46,
     "metadata": {},
     "output_type": "execute_result"
    }
   ],
   "source": [
    "# date(object) -> datetime(datetime)\n",
    "target = target.set_index(target.date)\n",
    "target.drop('date', axis=1, inplace=True)\n",
    "target.index = target.index.rename('datetime')\n",
    "\n",
    "target.head()"
   ]
  },
  {
   "cell_type": "code",
   "execution_count": 47,
   "metadata": {},
   "outputs": [
    {
     "data": {
      "text/html": [
       "<div>\n",
       "<style scoped>\n",
       "    .dataframe tbody tr th:only-of-type {\n",
       "        vertical-align: middle;\n",
       "    }\n",
       "\n",
       "    .dataframe tbody tr th {\n",
       "        vertical-align: top;\n",
       "    }\n",
       "\n",
       "    .dataframe thead th {\n",
       "        text-align: right;\n",
       "    }\n",
       "</style>\n",
       "<table border=\"1\" class=\"dataframe\">\n",
       "  <thead>\n",
       "    <tr style=\"text-align: right;\">\n",
       "      <th></th>\n",
       "      <th>temp_max</th>\n",
       "      <th>temp_mean</th>\n",
       "      <th>temp_min</th>\n",
       "      <th>rain</th>\n",
       "      <th>is_rain</th>\n",
       "      <th>ws_max</th>\n",
       "      <th>ws_mean</th>\n",
       "      <th>ws_min</th>\n",
       "      <th>humid_max</th>\n",
       "      <th>humid_mean</th>\n",
       "      <th>...</th>\n",
       "      <th>is_snow</th>\n",
       "      <th>cloud</th>\n",
       "      <th>vis_max</th>\n",
       "      <th>vis_mean</th>\n",
       "      <th>vis_min</th>\n",
       "      <th>month</th>\n",
       "      <th>weekday</th>\n",
       "      <th>LNG</th>\n",
       "      <th>KOSPI</th>\n",
       "      <th>KOSDAQ</th>\n",
       "    </tr>\n",
       "  </thead>\n",
       "  <tbody>\n",
       "    <tr>\n",
       "      <th>2018-02-01</th>\n",
       "      <td>8.7</td>\n",
       "      <td>1.27</td>\n",
       "      <td>-11.3</td>\n",
       "      <td>2.5</td>\n",
       "      <td>1</td>\n",
       "      <td>12.7</td>\n",
       "      <td>3.52</td>\n",
       "      <td>0.0</td>\n",
       "      <td>99.9</td>\n",
       "      <td>67.42</td>\n",
       "      <td>...</td>\n",
       "      <td>0</td>\n",
       "      <td>2.00</td>\n",
       "      <td>2000.0</td>\n",
       "      <td>1552.10</td>\n",
       "      <td>500.0</td>\n",
       "      <td>2.0</td>\n",
       "      <td>3.0</td>\n",
       "      <td>57.86</td>\n",
       "      <td>2568.54</td>\n",
       "      <td>908.20</td>\n",
       "    </tr>\n",
       "    <tr>\n",
       "      <th>2018-02-02</th>\n",
       "      <td>9.2</td>\n",
       "      <td>0.42</td>\n",
       "      <td>-12.3</td>\n",
       "      <td>0.0</td>\n",
       "      <td>0</td>\n",
       "      <td>13.6</td>\n",
       "      <td>3.85</td>\n",
       "      <td>0.0</td>\n",
       "      <td>99.8</td>\n",
       "      <td>57.46</td>\n",
       "      <td>...</td>\n",
       "      <td>0</td>\n",
       "      <td>2.00</td>\n",
       "      <td>2000.0</td>\n",
       "      <td>1988.76</td>\n",
       "      <td>1133.0</td>\n",
       "      <td>2.0</td>\n",
       "      <td>4.0</td>\n",
       "      <td>56.01</td>\n",
       "      <td>2525.39</td>\n",
       "      <td>899.47</td>\n",
       "    </tr>\n",
       "    <tr>\n",
       "      <th>2018-02-03</th>\n",
       "      <td>5.9</td>\n",
       "      <td>-1.79</td>\n",
       "      <td>-13.9</td>\n",
       "      <td>229.7</td>\n",
       "      <td>1</td>\n",
       "      <td>19.8</td>\n",
       "      <td>5.60</td>\n",
       "      <td>0.0</td>\n",
       "      <td>99.9</td>\n",
       "      <td>76.50</td>\n",
       "      <td>...</td>\n",
       "      <td>1</td>\n",
       "      <td>8.91</td>\n",
       "      <td>2000.0</td>\n",
       "      <td>1427.20</td>\n",
       "      <td>157.0</td>\n",
       "      <td>2.0</td>\n",
       "      <td>5.0</td>\n",
       "      <td>54.99</td>\n",
       "      <td>2491.75</td>\n",
       "      <td>858.22</td>\n",
       "    </tr>\n",
       "    <tr>\n",
       "      <th>2018-02-04</th>\n",
       "      <td>2.7</td>\n",
       "      <td>-3.87</td>\n",
       "      <td>-15.3</td>\n",
       "      <td>220.6</td>\n",
       "      <td>1</td>\n",
       "      <td>20.2</td>\n",
       "      <td>5.98</td>\n",
       "      <td>0.7</td>\n",
       "      <td>99.9</td>\n",
       "      <td>79.00</td>\n",
       "      <td>...</td>\n",
       "      <td>1</td>\n",
       "      <td>8.83</td>\n",
       "      <td>2000.0</td>\n",
       "      <td>1330.41</td>\n",
       "      <td>18.0</td>\n",
       "      <td>2.0</td>\n",
       "      <td>6.0</td>\n",
       "      <td>54.99</td>\n",
       "      <td>2491.75</td>\n",
       "      <td>858.22</td>\n",
       "    </tr>\n",
       "    <tr>\n",
       "      <th>2018-02-05</th>\n",
       "      <td>4.2</td>\n",
       "      <td>-2.73</td>\n",
       "      <td>-14.4</td>\n",
       "      <td>192.8</td>\n",
       "      <td>1</td>\n",
       "      <td>17.6</td>\n",
       "      <td>5.13</td>\n",
       "      <td>0.1</td>\n",
       "      <td>99.9</td>\n",
       "      <td>77.28</td>\n",
       "      <td>...</td>\n",
       "      <td>1</td>\n",
       "      <td>8.71</td>\n",
       "      <td>2000.0</td>\n",
       "      <td>1355.82</td>\n",
       "      <td>19.0</td>\n",
       "      <td>2.0</td>\n",
       "      <td>0.0</td>\n",
       "      <td>54.99</td>\n",
       "      <td>2491.75</td>\n",
       "      <td>858.22</td>\n",
       "    </tr>\n",
       "  </tbody>\n",
       "</table>\n",
       "<p>5 rows × 29 columns</p>\n",
       "</div>"
      ],
      "text/plain": [
       "            temp_max  temp_mean  temp_min   rain  is_rain  ws_max  ws_mean  \\\n",
       "2018-02-01       8.7       1.27     -11.3    2.5        1    12.7     3.52   \n",
       "2018-02-02       9.2       0.42     -12.3    0.0        0    13.6     3.85   \n",
       "2018-02-03       5.9      -1.79     -13.9  229.7        1    19.8     5.60   \n",
       "2018-02-04       2.7      -3.87     -15.3  220.6        1    20.2     5.98   \n",
       "2018-02-05       4.2      -2.73     -14.4  192.8        1    17.6     5.13   \n",
       "\n",
       "            ws_min  humid_max  humid_mean  ...  is_snow  cloud  vis_max  \\\n",
       "2018-02-01     0.0       99.9       67.42  ...        0   2.00   2000.0   \n",
       "2018-02-02     0.0       99.8       57.46  ...        0   2.00   2000.0   \n",
       "2018-02-03     0.0       99.9       76.50  ...        1   8.91   2000.0   \n",
       "2018-02-04     0.7       99.9       79.00  ...        1   8.83   2000.0   \n",
       "2018-02-05     0.1       99.9       77.28  ...        1   8.71   2000.0   \n",
       "\n",
       "            vis_mean  vis_min  month  weekday    LNG    KOSPI  KOSDAQ  \n",
       "2018-02-01   1552.10    500.0    2.0      3.0  57.86  2568.54  908.20  \n",
       "2018-02-02   1988.76   1133.0    2.0      4.0  56.01  2525.39  899.47  \n",
       "2018-02-03   1427.20    157.0    2.0      5.0  54.99  2491.75  858.22  \n",
       "2018-02-04   1330.41     18.0    2.0      6.0  54.99  2491.75  858.22  \n",
       "2018-02-05   1355.82     19.0    2.0      0.0  54.99  2491.75  858.22  \n",
       "\n",
       "[5 rows x 29 columns]"
      ]
     },
     "execution_count": 47,
     "metadata": {},
     "output_type": "execute_result"
    }
   ],
   "source": [
    "features.head()"
   ]
  },
  {
   "cell_type": "code",
   "execution_count": 48,
   "metadata": {
    "scrolled": false
   },
   "outputs": [],
   "source": [
    "data1 = pd.concat([features, target.smp_max], axis=1)\n",
    "data2 = pd.concat([features, target.smp_min], axis=1)\n",
    "data3 = pd.concat([features, target.smp_mean], axis=1)\n",
    "data4 = pd.concat([features, target.supply], axis=1)"
   ]
  },
  {
   "cell_type": "code",
   "execution_count": 49,
   "metadata": {},
   "outputs": [],
   "source": [
    "data1.to_csv(\"smp_max.csv\")\n",
    "data2.to_csv(\"smp_min.csv\")\n",
    "data3.to_csv(\"smp_mean.csv\")\n",
    "data4.to_csv(\"supply.csv\")"
   ]
  },
  {
   "cell_type": "markdown",
   "metadata": {},
   "source": [
    "-------------------------------------------"
   ]
  },
  {
   "cell_type": "markdown",
   "metadata": {},
   "source": [
    "## 2. XG-Boost, DTC for feature selecttion\n",
    "\n",
    "https://www.datacamp.com/community/tutorials/xgboost-in-python"
   ]
  },
  {
   "cell_type": "code",
   "execution_count": 50,
   "metadata": {},
   "outputs": [],
   "source": [
    "import xgboost as xgb\n",
    "from sklearn.metrics import mean_squared_error"
   ]
  },
  {
   "cell_type": "code",
   "execution_count": 69,
   "metadata": {},
   "outputs": [],
   "source": [
    "X1, y1 = data1.iloc[:,:-1],data1.iloc[:,-1]\n",
    "X2, y2 = data2.iloc[:,:-1],data2.iloc[:,-1]\n",
    "X3, y3 = data3.iloc[:,:-1],data3.iloc[:,-1]\n",
    "X4, y4 = data4.iloc[:,:-1],data4.iloc[:,-1]"
   ]
  },
  {
   "cell_type": "code",
   "execution_count": 70,
   "metadata": {},
   "outputs": [],
   "source": [
    "data_dmatrix1 = xgb.DMatrix(data=X1,label=y1)\n",
    "data_dmatrix2 = xgb.DMatrix(data=X2,label=y2)\n",
    "data_dmatrix3 = xgb.DMatrix(data=X3,label=y3)\n",
    "data_dmatrix4 = xgb.DMatrix(data=X4,label=y4)"
   ]
  },
  {
   "cell_type": "code",
   "execution_count": 71,
   "metadata": {},
   "outputs": [],
   "source": [
    "from sklearn.model_selection import train_test_split\n",
    "\n",
    "X1_train, X1_test, y1_train, y1_test = train_test_split(X1, y1, test_size=0.2, shuffle=False)\n",
    "X2_train, X2_test, y2_train, y2_test = train_test_split(X2, y2, test_size=0.2, shuffle=False)\n",
    "X3_train, X3_test, y3_train, y3_test = train_test_split(X3, y3, test_size=0.2, shuffle=False)\n",
    "X4_train, X4_test, y4_train, y4_test = train_test_split(X4, y2, test_size=0.1, shuffle=False)"
   ]
  },
  {
   "cell_type": "code",
   "execution_count": 75,
   "metadata": {},
   "outputs": [],
   "source": [
    "xg_reg1 = xgb.XGBRegressor(objective ='reg:squarederror', colsample_bytree = 0.5, learning_rate = 0.2,\n",
    "                max_depth = 10, alpha = 15, n_estimators = 15)\n",
    "xg_reg2 = xgb.XGBRegressor(objective ='reg:squarederror', colsample_bytree = 0.3, learning_rate = 0.5,\n",
    "                max_depth = 5, alpha = 15, n_estimators = 14)\n",
    "xg_reg3 = xgb.XGBRegressor(objective ='reg:squarederror', colsample_bytree = 0.3, learning_rate = 0.5,\n",
    "                max_depth = 5, alpha = 15, n_estimators = 10)\n",
    "xg_reg4 = xgb.XGBRegressor(objective ='reg:squarederror', colsample_bytree = 0.4, learning_rate = 0.5,\n",
    "                max_depth = 7, alpha = 15, n_estimators = 15)"
   ]
  },
  {
   "cell_type": "code",
   "execution_count": 76,
   "metadata": {},
   "outputs": [],
   "source": [
    "xg_reg1.fit(X1_train,y1_train)\n",
    "preds1 = xg_reg1.predict(X1_test)\n",
    "\n",
    "xg_reg2.fit(X2_train,y2_train)\n",
    "preds2 = xg_reg2.predict(X2_test)\n",
    "\n",
    "xg_reg3.fit(X3_train,y3_train)\n",
    "preds3 = xg_reg3.predict(X3_test)\n",
    "\n",
    "xg_reg4.fit(X4_train,y4_train)\n",
    "preds4 = xg_reg4.predict(X4_test)"
   ]
  },
  {
   "cell_type": "code",
   "execution_count": 77,
   "metadata": {
    "scrolled": true
   },
   "outputs": [
    {
     "name": "stdout",
     "output_type": "stream",
     "text": [
      "RMSE smp_max: 29.107115\n",
      "RMSE smp_min: 45.346568\n",
      "RMSE smp_mean: 33.350448\n",
      "RMSE supply: 36.359979\n"
     ]
    }
   ],
   "source": [
    "from sklearn.metrics import mean_squared_error\n",
    "\n",
    "rmse1 = np.sqrt(mean_squared_error(y1_test, preds1))\n",
    "rmse2 = np.sqrt(mean_squared_error(y2_test, preds2))\n",
    "rmse3 = np.sqrt(mean_squared_error(y3_test, preds3))\n",
    "rmse4 = np.sqrt(mean_squared_error(y4_test, preds4))\n",
    "\n",
    "print(\"RMSE smp_max: %f\" % (rmse1))\n",
    "print(\"RMSE smp_min: %f\" % (rmse2))\n",
    "print(\"RMSE smp_mean: %f\" % (rmse3))\n",
    "print(\"RMSE supply: %f\" % (rmse4))"
   ]
  },
  {
   "cell_type": "code",
   "execution_count": 78,
   "metadata": {},
   "outputs": [],
   "source": [
    "index = pd.date_range(y4_test.index[0], y4_test.index[-1])\n",
    "columns = []\n",
    "\n",
    "smp_supply_pred = pd.DataFrame(index=index, columns=columns)\n",
    "smp_supply_pred['supply_pred'] = preds4\n",
    "smp_supply_pred['supply_test'] = y4_test"
   ]
  },
  {
   "cell_type": "code",
   "execution_count": 79,
   "metadata": {},
   "outputs": [
    {
     "data": {
      "text/plain": [
       "<matplotlib.axes._subplots.AxesSubplot at 0x16b02856648>"
      ]
     },
     "execution_count": 79,
     "metadata": {},
     "output_type": "execute_result"
    },
    {
     "data": {
      "image/png": "[encoded data removed]",
      "text/plain": [
       "<Figure size 1440x720 with 1 Axes>"
      ]
     },
     "metadata": {
      "needs_background": "light"
     },
     "output_type": "display_data"
    }
   ],
   "source": [
    "smp_supply_pred.plot(figsize=(20,10))"
   ]
  },
  {
   "cell_type": "code",
   "execution_count": null,
   "metadata": {},
   "outputs": [],
   "source": []
  },
  {
   "cell_type": "code",
   "execution_count": null,
   "metadata": {},
   "outputs": [],
   "source": []
  },
  {
   "cell_type": "code",
   "execution_count": null,
   "metadata": {},
   "outputs": [],
   "source": []
  },
  {
   "cell_type": "markdown",
   "metadata": {},
   "source": [
    "### k-fold Cross Validation using XGBoost"
   ]
  },
  {
   "cell_type": "code",
   "execution_count": 73,
   "metadata": {},
   "outputs": [],
   "source": [
    "params = {\"objective\":\"reg:squarederror\",'colsample_bytree': 0.3,'learning_rate': 0.5,\n",
    "                'max_depth': 10, 'alpha': 10}\n",
    "\n",
    "cv_results = xgb.cv(dtrain=data_dmatrix4, params=params, nfold=5,\n",
    "                    num_boost_round=50,early_stopping_rounds=10,metrics=\"rmse\", as_pandas=True, seed=123)"
   ]
  },
  {
   "cell_type": "code",
   "execution_count": 74,
   "metadata": {},
   "outputs": [
    {
     "data": {
      "text/html": [
       "<div>\n",
       "<style scoped>\n",
       "    .dataframe tbody tr th:only-of-type {\n",
       "        vertical-align: middle;\n",
       "    }\n",
       "\n",
       "    .dataframe tbody tr th {\n",
       "        vertical-align: top;\n",
       "    }\n",
       "\n",
       "    .dataframe thead th {\n",
       "        text-align: right;\n",
       "    }\n",
       "</style>\n",
       "<table border=\"1\" class=\"dataframe\">\n",
       "  <thead>\n",
       "    <tr style=\"text-align: right;\">\n",
       "      <th></th>\n",
       "      <th>train-rmse-mean</th>\n",
       "      <th>train-rmse-std</th>\n",
       "      <th>test-rmse-mean</th>\n",
       "      <th>test-rmse-std</th>\n",
       "    </tr>\n",
       "  </thead>\n",
       "  <tbody>\n",
       "    <tr>\n",
       "      <th>0</th>\n",
       "      <td>38.003760</td>\n",
       "      <td>0.060920</td>\n",
       "      <td>38.001008</td>\n",
       "      <td>0.534076</td>\n",
       "    </tr>\n",
       "    <tr>\n",
       "      <th>1</th>\n",
       "      <td>19.631269</td>\n",
       "      <td>0.044797</td>\n",
       "      <td>19.635071</td>\n",
       "      <td>0.521436</td>\n",
       "    </tr>\n",
       "    <tr>\n",
       "      <th>2</th>\n",
       "      <td>10.722210</td>\n",
       "      <td>0.219691</td>\n",
       "      <td>10.859774</td>\n",
       "      <td>0.320199</td>\n",
       "    </tr>\n",
       "    <tr>\n",
       "      <th>3</th>\n",
       "      <td>6.225533</td>\n",
       "      <td>0.118442</td>\n",
       "      <td>6.492305</td>\n",
       "      <td>0.183256</td>\n",
       "    </tr>\n",
       "    <tr>\n",
       "      <th>4</th>\n",
       "      <td>4.034513</td>\n",
       "      <td>0.082518</td>\n",
       "      <td>4.575808</td>\n",
       "      <td>0.255761</td>\n",
       "    </tr>\n",
       "  </tbody>\n",
       "</table>\n",
       "</div>"
      ],
      "text/plain": [
       "   train-rmse-mean  train-rmse-std  test-rmse-mean  test-rmse-std\n",
       "0        38.003760        0.060920       38.001008       0.534076\n",
       "1        19.631269        0.044797       19.635071       0.521436\n",
       "2        10.722210        0.219691       10.859774       0.320199\n",
       "3         6.225533        0.118442        6.492305       0.183256\n",
       "4         4.034513        0.082518        4.575808       0.255761"
      ]
     },
     "execution_count": 74,
     "metadata": {},
     "output_type": "execute_result"
    }
   ],
   "source": [
    "cv_results.head()"
   ]
  },
  {
   "cell_type": "code",
   "execution_count": 75,
   "metadata": {},
   "outputs": [
    {
     "name": "stdout",
     "output_type": "stream",
     "text": [
      "49    2.862508\n",
      "Name: test-rmse-mean, dtype: float64\n"
     ]
    }
   ],
   "source": [
    "print((cv_results[\"test-rmse-mean\"]).tail(1))"
   ]
  },
  {
   "cell_type": "code",
   "execution_count": 76,
   "metadata": {},
   "outputs": [],
   "source": [
    "xg_reg = xgb.train(params=params, dtrain=data_dmatrix4, num_boost_round=10)"
   ]
  },
  {
   "cell_type": "code",
   "execution_count": 77,
   "metadata": {
    "scrolled": false
   },
   "outputs": [
    {
     "data": {
      "image/png": "[encoded data removed]",
      "text/plain": [
       "<Figure size 432x288 with 1 Axes>"
      ]
     },
     "metadata": {
      "needs_background": "light"
     },
     "output_type": "display_data"
    }
   ],
   "source": [
    "xgb.plot_importance(xg_reg)\n",
    "plt.rcParams['figure.figsize'] = [10,10]\n",
    "plt.show()"
   ]
  },
  {
   "cell_type": "code",
   "execution_count": 78,
   "metadata": {},
   "outputs": [],
   "source": [
    "# X5 is supply\n",
    "X5 = pd.DataFrame(X4[['ws_mean', 'LNG', 'rad_mean', 'humid_mean', 'temp_max', 'dew_min', 'Coal', 'landP_max',\n",
    "        'landP_mean', 'vis_mean', 'temp_min', 'Oil', 'rain', 'temp_mean', 'suntime', 'ws_max',\n",
    "                     'KOSPI', 'weekday']])"
   ]
  },
  {
   "cell_type": "code",
   "execution_count": 79,
   "metadata": {},
   "outputs": [
    {
     "ename": "KeyError",
     "evalue": "('temp_max', 'temp_mean', 'temp_min', 'rain')",
     "output_type": "error",
     "traceback": [
      "\u001b[1;31m---------------------------------------------------------------------------\u001b[0m",
      "\u001b[1;31mKeyError\u001b[0m                                  Traceback (most recent call last)",
      "\u001b[1;32m~\\Anaconda3\\lib\\site-packages\\pandas\\core\\indexes\\base.py\u001b[0m in \u001b[0;36mget_loc\u001b[1;34m(self, key, method, tolerance)\u001b[0m\n\u001b[0;32m   2645\u001b[0m             \u001b[1;32mtry\u001b[0m\u001b[1;33m:\u001b[0m\u001b[1;33m\u001b[0m\u001b[1;33m\u001b[0m\u001b[0m\n\u001b[1;32m-> 2646\u001b[1;33m                 \u001b[1;32mreturn\u001b[0m \u001b[0mself\u001b[0m\u001b[1;33m.\u001b[0m\u001b[0m_engine\u001b[0m\u001b[1;33m.\u001b[0m\u001b[0mget_loc\u001b[0m\u001b[1;33m(\u001b[0m\u001b[0mkey\u001b[0m\u001b[1;33m)\u001b[0m\u001b[1;33m\u001b[0m\u001b[1;33m\u001b[0m\u001b[0m\n\u001b[0m\u001b[0;32m   2647\u001b[0m             \u001b[1;32mexcept\u001b[0m \u001b[0mKeyError\u001b[0m\u001b[1;33m:\u001b[0m\u001b[1;33m\u001b[0m\u001b[1;33m\u001b[0m\u001b[0m\n",
      "\u001b[1;32mpandas\\_libs\\index.pyx\u001b[0m in \u001b[0;36mpandas._libs.index.IndexEngine.get_loc\u001b[1;34m()\u001b[0m\n",
      "\u001b[1;32mpandas\\_libs\\index.pyx\u001b[0m in \u001b[0;36mpandas._libs.index.IndexEngine.get_loc\u001b[1;34m()\u001b[0m\n",
      "\u001b[1;32mpandas\\_libs\\hashtable_class_helper.pxi\u001b[0m in \u001b[0;36mpandas._libs.hashtable.PyObjectHashTable.get_item\u001b[1;34m()\u001b[0m\n",
      "\u001b[1;32mpandas\\_libs\\hashtable_class_helper.pxi\u001b[0m in \u001b[0;36mpandas._libs.hashtable.PyObjectHashTable.get_item\u001b[1;34m()\u001b[0m\n",
      "\u001b[1;31mKeyError\u001b[0m: ('temp_max', 'temp_mean', 'temp_min', 'rain')",
      "\nDuring handling of the above exception, another exception occurred:\n",
      "\u001b[1;31mKeyError\u001b[0m                                  Traceback (most recent call last)",
      "\u001b[1;32m<ipython-input-79-cd0e519d47e9>\u001b[0m in \u001b[0;36m<module>\u001b[1;34m\u001b[0m\n\u001b[1;32m----> 1\u001b[1;33m \u001b[0mX5\u001b[0m \u001b[1;33m=\u001b[0m \u001b[0mX4\u001b[0m\u001b[1;33m[\u001b[0m\u001b[1;34m'temp_max'\u001b[0m\u001b[1;33m,\u001b[0m \u001b[1;34m'temp_mean'\u001b[0m\u001b[1;33m,\u001b[0m \u001b[1;34m'temp_min'\u001b[0m\u001b[1;33m,\u001b[0m \u001b[1;34m'rain'\u001b[0m\u001b[1;33m,\u001b[0m \u001b[1;33m]\u001b[0m\u001b[1;33m\u001b[0m\u001b[1;33m\u001b[0m\u001b[0m\n\u001b[0m\u001b[0;32m      2\u001b[0m \u001b[1;33m\u001b[0m\u001b[0m\n\u001b[0;32m      3\u001b[0m \u001b[0mX4\u001b[0m\u001b[1;33m.\u001b[0m\u001b[0mdrop\u001b[0m\u001b[1;33m(\u001b[0m\u001b[1;33m[\u001b[0m\u001b[1;34m'is_rain'\u001b[0m\u001b[1;33m,\u001b[0m \u001b[1;34m'ws_min'\u001b[0m\u001b[1;33m,\u001b[0m \u001b[1;34m'vaporP_mean'\u001b[0m\u001b[1;33m,\u001b[0m \u001b[1;34m'landP_max'\u001b[0m\u001b[1;33m,\u001b[0m \u001b[1;33m]\u001b[0m\u001b[1;33m)\u001b[0m\u001b[1;33m\u001b[0m\u001b[1;33m\u001b[0m\u001b[0m\n",
      "\u001b[1;32m~\\Anaconda3\\lib\\site-packages\\pandas\\core\\frame.py\u001b[0m in \u001b[0;36m__getitem__\u001b[1;34m(self, key)\u001b[0m\n\u001b[0;32m   2798\u001b[0m             \u001b[1;32mif\u001b[0m \u001b[0mself\u001b[0m\u001b[1;33m.\u001b[0m\u001b[0mcolumns\u001b[0m\u001b[1;33m.\u001b[0m\u001b[0mnlevels\u001b[0m \u001b[1;33m>\u001b[0m \u001b[1;36m1\u001b[0m\u001b[1;33m:\u001b[0m\u001b[1;33m\u001b[0m\u001b[1;33m\u001b[0m\u001b[0m\n\u001b[0;32m   2799\u001b[0m                 \u001b[1;32mreturn\u001b[0m \u001b[0mself\u001b[0m\u001b[1;33m.\u001b[0m\u001b[0m_getitem_multilevel\u001b[0m\u001b[1;33m(\u001b[0m\u001b[0mkey\u001b[0m\u001b[1;33m)\u001b[0m\u001b[1;33m\u001b[0m\u001b[1;33m\u001b[0m\u001b[0m\n\u001b[1;32m-> 2800\u001b[1;33m             \u001b[0mindexer\u001b[0m \u001b[1;33m=\u001b[0m \u001b[0mself\u001b[0m\u001b[1;33m.\u001b[0m\u001b[0mcolumns\u001b[0m\u001b[1;33m.\u001b[0m\u001b[0mget_loc\u001b[0m\u001b[1;33m(\u001b[0m\u001b[0mkey\u001b[0m\u001b[1;33m)\u001b[0m\u001b[1;33m\u001b[0m\u001b[1;33m\u001b[0m\u001b[0m\n\u001b[0m\u001b[0;32m   2801\u001b[0m             \u001b[1;32mif\u001b[0m \u001b[0mis_integer\u001b[0m\u001b[1;33m(\u001b[0m\u001b[0mindexer\u001b[0m\u001b[1;33m)\u001b[0m\u001b[1;33m:\u001b[0m\u001b[1;33m\u001b[0m\u001b[1;33m\u001b[0m\u001b[0m\n\u001b[0;32m   2802\u001b[0m                 \u001b[0mindexer\u001b[0m \u001b[1;33m=\u001b[0m \u001b[1;33m[\u001b[0m\u001b[0mindexer\u001b[0m\u001b[1;33m]\u001b[0m\u001b[1;33m\u001b[0m\u001b[1;33m\u001b[0m\u001b[0m\n",
      "\u001b[1;32m~\\Anaconda3\\lib\\site-packages\\pandas\\core\\indexes\\base.py\u001b[0m in \u001b[0;36mget_loc\u001b[1;34m(self, key, method, tolerance)\u001b[0m\n\u001b[0;32m   2646\u001b[0m                 \u001b[1;32mreturn\u001b[0m \u001b[0mself\u001b[0m\u001b[1;33m.\u001b[0m\u001b[0m_engine\u001b[0m\u001b[1;33m.\u001b[0m\u001b[0mget_loc\u001b[0m\u001b[1;33m(\u001b[0m\u001b[0mkey\u001b[0m\u001b[1;33m)\u001b[0m\u001b[1;33m\u001b[0m\u001b[1;33m\u001b[0m\u001b[0m\n\u001b[0;32m   2647\u001b[0m             \u001b[1;32mexcept\u001b[0m \u001b[0mKeyError\u001b[0m\u001b[1;33m:\u001b[0m\u001b[1;33m\u001b[0m\u001b[1;33m\u001b[0m\u001b[0m\n\u001b[1;32m-> 2648\u001b[1;33m                 \u001b[1;32mreturn\u001b[0m \u001b[0mself\u001b[0m\u001b[1;33m.\u001b[0m\u001b[0m_engine\u001b[0m\u001b[1;33m.\u001b[0m\u001b[0mget_loc\u001b[0m\u001b[1;33m(\u001b[0m\u001b[0mself\u001b[0m\u001b[1;33m.\u001b[0m\u001b[0m_maybe_cast_indexer\u001b[0m\u001b[1;33m(\u001b[0m\u001b[0mkey\u001b[0m\u001b[1;33m)\u001b[0m\u001b[1;33m)\u001b[0m\u001b[1;33m\u001b[0m\u001b[1;33m\u001b[0m\u001b[0m\n\u001b[0m\u001b[0;32m   2649\u001b[0m         \u001b[0mindexer\u001b[0m \u001b[1;33m=\u001b[0m \u001b[0mself\u001b[0m\u001b[1;33m.\u001b[0m\u001b[0mget_indexer\u001b[0m\u001b[1;33m(\u001b[0m\u001b[1;33m[\u001b[0m\u001b[0mkey\u001b[0m\u001b[1;33m]\u001b[0m\u001b[1;33m,\u001b[0m \u001b[0mmethod\u001b[0m\u001b[1;33m=\u001b[0m\u001b[0mmethod\u001b[0m\u001b[1;33m,\u001b[0m \u001b[0mtolerance\u001b[0m\u001b[1;33m=\u001b[0m\u001b[0mtolerance\u001b[0m\u001b[1;33m)\u001b[0m\u001b[1;33m\u001b[0m\u001b[1;33m\u001b[0m\u001b[0m\n\u001b[0;32m   2650\u001b[0m         \u001b[1;32mif\u001b[0m \u001b[0mindexer\u001b[0m\u001b[1;33m.\u001b[0m\u001b[0mndim\u001b[0m \u001b[1;33m>\u001b[0m \u001b[1;36m1\u001b[0m \u001b[1;32mor\u001b[0m \u001b[0mindexer\u001b[0m\u001b[1;33m.\u001b[0m\u001b[0msize\u001b[0m \u001b[1;33m>\u001b[0m \u001b[1;36m1\u001b[0m\u001b[1;33m:\u001b[0m\u001b[1;33m\u001b[0m\u001b[1;33m\u001b[0m\u001b[0m\n",
      "\u001b[1;32mpandas\\_libs\\index.pyx\u001b[0m in \u001b[0;36mpandas._libs.index.IndexEngine.get_loc\u001b[1;34m()\u001b[0m\n",
      "\u001b[1;32mpandas\\_libs\\index.pyx\u001b[0m in \u001b[0;36mpandas._libs.index.IndexEngine.get_loc\u001b[1;34m()\u001b[0m\n",
      "\u001b[1;32mpandas\\_libs\\hashtable_class_helper.pxi\u001b[0m in \u001b[0;36mpandas._libs.hashtable.PyObjectHashTable.get_item\u001b[1;34m()\u001b[0m\n",
      "\u001b[1;32mpandas\\_libs\\hashtable_class_helper.pxi\u001b[0m in \u001b[0;36mpandas._libs.hashtable.PyObjectHashTable.get_item\u001b[1;34m()\u001b[0m\n",
      "\u001b[1;31mKeyError\u001b[0m: ('temp_max', 'temp_mean', 'temp_min', 'rain')"
     ]
    }
   ],
   "source": [
    "X5 = X4['temp_max', 'temp_mean', 'temp_min', 'rain', ]\n",
    "\n",
    "X4.drop(['is_rain', 'ws_min', 'vaporP_mean', 'landP_max', ])"
   ]
  },
  {
   "cell_type": "code",
   "execution_count": 80,
   "metadata": {},
   "outputs": [
    {
     "ename": "NameError",
     "evalue": "name 'y4_train' is not defined",
     "output_type": "error",
     "traceback": [
      "\u001b[1;31m---------------------------------------------------------------------------\u001b[0m",
      "\u001b[1;31mNameError\u001b[0m                                 Traceback (most recent call last)",
      "\u001b[1;32m<ipython-input-80-785ca15cf564>\u001b[0m in \u001b[0;36m<module>\u001b[1;34m\u001b[0m\n\u001b[0;32m      4\u001b[0m                 max_depth = 6, alpha = 10, n_estimators = 300)\n\u001b[0;32m      5\u001b[0m \u001b[1;33m\u001b[0m\u001b[0m\n\u001b[1;32m----> 6\u001b[1;33m \u001b[0mxg_reg5\u001b[0m\u001b[1;33m.\u001b[0m\u001b[0mfit\u001b[0m\u001b[1;33m(\u001b[0m\u001b[0mX5_train\u001b[0m\u001b[1;33m,\u001b[0m\u001b[0my4_train\u001b[0m\u001b[1;33m)\u001b[0m\u001b[1;33m\u001b[0m\u001b[1;33m\u001b[0m\u001b[0m\n\u001b[0m\u001b[0;32m      7\u001b[0m \u001b[0mpreds5\u001b[0m \u001b[1;33m=\u001b[0m \u001b[0mxg_reg5\u001b[0m\u001b[1;33m.\u001b[0m\u001b[0mpredict\u001b[0m\u001b[1;33m(\u001b[0m\u001b[0mX5_test\u001b[0m\u001b[1;33m)\u001b[0m\u001b[1;33m\u001b[0m\u001b[1;33m\u001b[0m\u001b[0m\n\u001b[0;32m      8\u001b[0m \u001b[1;33m\u001b[0m\u001b[0m\n",
      "\u001b[1;31mNameError\u001b[0m: name 'y4_train' is not defined"
     ]
    }
   ],
   "source": [
    "X5_train, X5_test, y5_train, y5_test = train_test_split(X5, y4, test_size=0.1, shuffle=False)\n",
    "\n",
    "xg_reg5 = xgb.XGBRegressor(objective ='reg:squarederror', colsample_bytree = 0.3, learning_rate = 0.5,\n",
    "                max_depth = 6, alpha = 10, n_estimators = 300)\n",
    "\n",
    "xg_reg5.fit(X5_train,y4_train)\n",
    "preds5 = xg_reg5.predict(X5_test)\n",
    "\n",
    "rmse5 = np.sqrt(mean_squared_error(y4_test, preds5))\n",
    "print(\"RMSE 3: %f\" % (rmse5))\n"
   ]
  },
  {
   "cell_type": "code",
   "execution_count": 81,
   "metadata": {},
   "outputs": [
    {
     "ename": "NameError",
     "evalue": "name 'preds5' is not defined",
     "output_type": "error",
     "traceback": [
      "\u001b[1;31m---------------------------------------------------------------------------\u001b[0m",
      "\u001b[1;31mNameError\u001b[0m                                 Traceback (most recent call last)",
      "\u001b[1;32m<ipython-input-81-a9aed85ee98b>\u001b[0m in \u001b[0;36m<module>\u001b[1;34m\u001b[0m\n\u001b[0;32m      3\u001b[0m \u001b[1;33m\u001b[0m\u001b[0m\n\u001b[0;32m      4\u001b[0m \u001b[0msmp_supply_pred\u001b[0m \u001b[1;33m=\u001b[0m \u001b[0mpd\u001b[0m\u001b[1;33m.\u001b[0m\u001b[0mDataFrame\u001b[0m\u001b[1;33m(\u001b[0m\u001b[0mindex\u001b[0m\u001b[1;33m=\u001b[0m\u001b[0mindex\u001b[0m\u001b[1;33m,\u001b[0m \u001b[0mcolumns\u001b[0m\u001b[1;33m=\u001b[0m\u001b[0mcolumns\u001b[0m\u001b[1;33m)\u001b[0m\u001b[1;33m\u001b[0m\u001b[1;33m\u001b[0m\u001b[0m\n\u001b[1;32m----> 5\u001b[1;33m \u001b[0msmp_supply_pred\u001b[0m\u001b[1;33m[\u001b[0m\u001b[1;34m'supply_pred'\u001b[0m\u001b[1;33m]\u001b[0m \u001b[1;33m=\u001b[0m \u001b[0mpreds5\u001b[0m\u001b[1;33m\u001b[0m\u001b[1;33m\u001b[0m\u001b[0m\n\u001b[0m\u001b[0;32m      6\u001b[0m \u001b[0msmp_supply_pred\u001b[0m\u001b[1;33m[\u001b[0m\u001b[1;34m'supply_test'\u001b[0m\u001b[1;33m]\u001b[0m \u001b[1;33m=\u001b[0m \u001b[0my4_test\u001b[0m\u001b[1;33m\u001b[0m\u001b[1;33m\u001b[0m\u001b[0m\n\u001b[0;32m      7\u001b[0m \u001b[1;33m\u001b[0m\u001b[0m\n",
      "\u001b[1;31mNameError\u001b[0m: name 'preds5' is not defined"
     ]
    }
   ],
   "source": [
    "index = pd.date_range('2019-11-20', '2020-01-31')\n",
    "columns = []\n",
    "\n",
    "smp_supply_pred = pd.DataFrame(index=index, columns=columns)\n",
    "smp_supply_pred['supply_pred'] = preds5\n",
    "smp_supply_pred['supply_test'] = y4_test\n",
    "\n",
    "smp_supply_pred.plot()"
   ]
  },
  {
   "cell_type": "code",
   "execution_count": null,
   "metadata": {},
   "outputs": [],
   "source": []
  },
  {
   "cell_type": "code",
   "execution_count": null,
   "metadata": {},
   "outputs": [],
   "source": []
  }
 ],
 "metadata": {
  "kernelspec": {
   "display_name": "Python 3",
   "language": "python",
   "name": "python3"
  },
  "language_info": {
   "codemirror_mode": {
    "name": "ipython",
    "version": 3
   },
   "file_extension": ".py",
   "mimetype": "text/x-python",
   "name": "python",
   "nbconvert_exporter": "python",
   "pygments_lexer": "ipython3",
   "version": "3.7.7"
  }
 },
 "nbformat": 4,
 "nbformat_minor": 4
}
