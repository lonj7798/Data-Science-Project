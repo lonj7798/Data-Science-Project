{
 "cells": [
  {
   "cell_type": "code",
   "execution_count": 12,
   "metadata": {},
   "outputs": [],
   "source": [
    "import numpy as np\n",
    "import pandas as pd\n",
    "\n",
    "import matplotlib as mlt\n",
    "import matplotlib.pyplot as plt\n",
    "import seaborn as sns\n",
    "%matplotlib inline\n",
    "\n",
    "import datetime"
   ]
  },
  {
   "cell_type": "code",
   "execution_count": 14,
   "metadata": {},
   "outputs": [],
   "source": [
    "data = pd.read_csv(\"data_2/supply.csv\")"
   ]
  },
  {
   "cell_type": "code",
   "execution_count": 15,
   "metadata": {},
   "outputs": [],
   "source": [
    "target = data.iloc[:, -1]\n",
    "data = data.iloc[:, :-1]"
   ]
  },
  {
   "cell_type": "code",
   "execution_count": 16,
   "metadata": {},
   "outputs": [
    {
     "data": {
      "text/html": [
       "<div>\n",
       "<style scoped>\n",
       "    .dataframe tbody tr th:only-of-type {\n",
       "        vertical-align: middle;\n",
       "    }\n",
       "\n",
       "    .dataframe tbody tr th {\n",
       "        vertical-align: top;\n",
       "    }\n",
       "\n",
       "    .dataframe thead th {\n",
       "        text-align: right;\n",
       "    }\n",
       "</style>\n",
       "<table border=\"1\" class=\"dataframe\">\n",
       "  <thead>\n",
       "    <tr style=\"text-align: right;\">\n",
       "      <th></th>\n",
       "      <th>Unnamed: 0</th>\n",
       "      <th>temp_max</th>\n",
       "      <th>temp_mean</th>\n",
       "      <th>temp_min</th>\n",
       "      <th>rain</th>\n",
       "      <th>is_rain</th>\n",
       "      <th>ws_max</th>\n",
       "      <th>ws_mean</th>\n",
       "      <th>ws_min</th>\n",
       "      <th>humid_max</th>\n",
       "      <th>...</th>\n",
       "      <th>vis_max</th>\n",
       "      <th>vis_mean</th>\n",
       "      <th>vis_min</th>\n",
       "      <th>month</th>\n",
       "      <th>weekday</th>\n",
       "      <th>LNG</th>\n",
       "      <th>Oil</th>\n",
       "      <th>Coal</th>\n",
       "      <th>KOSPI</th>\n",
       "      <th>KOSDAQ</th>\n",
       "    </tr>\n",
       "  </thead>\n",
       "  <tbody>\n",
       "    <tr>\n",
       "      <th>0</th>\n",
       "      <td>2018-02-01</td>\n",
       "      <td>8.7</td>\n",
       "      <td>1.27</td>\n",
       "      <td>-11.3</td>\n",
       "      <td>2.5</td>\n",
       "      <td>1</td>\n",
       "      <td>12.7</td>\n",
       "      <td>3.52</td>\n",
       "      <td>0.0</td>\n",
       "      <td>99.9</td>\n",
       "      <td>...</td>\n",
       "      <td>2000.0</td>\n",
       "      <td>1552.10</td>\n",
       "      <td>500.0</td>\n",
       "      <td>2.0</td>\n",
       "      <td>3.0</td>\n",
       "      <td>57.86</td>\n",
       "      <td>65.80</td>\n",
       "      <td>1.07</td>\n",
       "      <td>2568.54</td>\n",
       "      <td>908.20</td>\n",
       "    </tr>\n",
       "    <tr>\n",
       "      <th>1</th>\n",
       "      <td>2018-02-02</td>\n",
       "      <td>9.2</td>\n",
       "      <td>0.42</td>\n",
       "      <td>-12.3</td>\n",
       "      <td>0.0</td>\n",
       "      <td>0</td>\n",
       "      <td>13.6</td>\n",
       "      <td>3.85</td>\n",
       "      <td>0.0</td>\n",
       "      <td>99.8</td>\n",
       "      <td>...</td>\n",
       "      <td>2000.0</td>\n",
       "      <td>1988.76</td>\n",
       "      <td>1133.0</td>\n",
       "      <td>2.0</td>\n",
       "      <td>4.0</td>\n",
       "      <td>56.01</td>\n",
       "      <td>65.45</td>\n",
       "      <td>1.02</td>\n",
       "      <td>2525.39</td>\n",
       "      <td>899.47</td>\n",
       "    </tr>\n",
       "    <tr>\n",
       "      <th>2</th>\n",
       "      <td>2018-02-03</td>\n",
       "      <td>5.9</td>\n",
       "      <td>-1.79</td>\n",
       "      <td>-13.9</td>\n",
       "      <td>229.7</td>\n",
       "      <td>1</td>\n",
       "      <td>19.8</td>\n",
       "      <td>5.60</td>\n",
       "      <td>0.0</td>\n",
       "      <td>99.9</td>\n",
       "      <td>...</td>\n",
       "      <td>2000.0</td>\n",
       "      <td>1427.20</td>\n",
       "      <td>157.0</td>\n",
       "      <td>2.0</td>\n",
       "      <td>5.0</td>\n",
       "      <td>54.99</td>\n",
       "      <td>64.15</td>\n",
       "      <td>1.02</td>\n",
       "      <td>2491.75</td>\n",
       "      <td>858.22</td>\n",
       "    </tr>\n",
       "    <tr>\n",
       "      <th>3</th>\n",
       "      <td>2018-02-04</td>\n",
       "      <td>2.7</td>\n",
       "      <td>-3.87</td>\n",
       "      <td>-15.3</td>\n",
       "      <td>220.6</td>\n",
       "      <td>1</td>\n",
       "      <td>20.2</td>\n",
       "      <td>5.98</td>\n",
       "      <td>0.7</td>\n",
       "      <td>99.9</td>\n",
       "      <td>...</td>\n",
       "      <td>2000.0</td>\n",
       "      <td>1330.41</td>\n",
       "      <td>18.0</td>\n",
       "      <td>2.0</td>\n",
       "      <td>6.0</td>\n",
       "      <td>54.99</td>\n",
       "      <td>64.15</td>\n",
       "      <td>1.02</td>\n",
       "      <td>2491.75</td>\n",
       "      <td>858.22</td>\n",
       "    </tr>\n",
       "    <tr>\n",
       "      <th>4</th>\n",
       "      <td>2018-02-05</td>\n",
       "      <td>4.2</td>\n",
       "      <td>-2.73</td>\n",
       "      <td>-14.4</td>\n",
       "      <td>192.8</td>\n",
       "      <td>1</td>\n",
       "      <td>17.6</td>\n",
       "      <td>5.13</td>\n",
       "      <td>0.1</td>\n",
       "      <td>99.9</td>\n",
       "      <td>...</td>\n",
       "      <td>2000.0</td>\n",
       "      <td>1355.82</td>\n",
       "      <td>19.0</td>\n",
       "      <td>2.0</td>\n",
       "      <td>0.0</td>\n",
       "      <td>54.99</td>\n",
       "      <td>64.15</td>\n",
       "      <td>1.05</td>\n",
       "      <td>2491.75</td>\n",
       "      <td>858.22</td>\n",
       "    </tr>\n",
       "  </tbody>\n",
       "</table>\n",
       "<p>5 rows × 32 columns</p>\n",
       "</div>"
      ],
      "text/plain": [
       "   Unnamed: 0  temp_max  temp_mean  temp_min   rain  is_rain  ws_max  ws_mean  \\\n",
       "0  2018-02-01       8.7       1.27     -11.3    2.5        1    12.7     3.52   \n",
       "1  2018-02-02       9.2       0.42     -12.3    0.0        0    13.6     3.85   \n",
       "2  2018-02-03       5.9      -1.79     -13.9  229.7        1    19.8     5.60   \n",
       "3  2018-02-04       2.7      -3.87     -15.3  220.6        1    20.2     5.98   \n",
       "4  2018-02-05       4.2      -2.73     -14.4  192.8        1    17.6     5.13   \n",
       "\n",
       "   ws_min  humid_max  ...  vis_max  vis_mean  vis_min  month  weekday    LNG  \\\n",
       "0     0.0       99.9  ...   2000.0   1552.10    500.0    2.0      3.0  57.86   \n",
       "1     0.0       99.8  ...   2000.0   1988.76   1133.0    2.0      4.0  56.01   \n",
       "2     0.0       99.9  ...   2000.0   1427.20    157.0    2.0      5.0  54.99   \n",
       "3     0.7       99.9  ...   2000.0   1330.41     18.0    2.0      6.0  54.99   \n",
       "4     0.1       99.9  ...   2000.0   1355.82     19.0    2.0      0.0  54.99   \n",
       "\n",
       "     Oil  Coal    KOSPI  KOSDAQ  \n",
       "0  65.80  1.07  2568.54  908.20  \n",
       "1  65.45  1.02  2525.39  899.47  \n",
       "2  64.15  1.02  2491.75  858.22  \n",
       "3  64.15  1.02  2491.75  858.22  \n",
       "4  64.15  1.05  2491.75  858.22  \n",
       "\n",
       "[5 rows x 32 columns]"
      ]
     },
     "execution_count": 16,
     "metadata": {},
     "output_type": "execute_result"
    }
   ],
   "source": [
    "data.head()"
   ]
  },
  {
   "cell_type": "code",
   "execution_count": 17,
   "metadata": {},
   "outputs": [
    {
     "name": "stdout",
     "output_type": "stream",
     "text": [
      "<class 'pandas.core.frame.DataFrame'>\n",
      "RangeIndex: 730 entries, 0 to 729\n",
      "Data columns (total 32 columns):\n",
      " #   Column       Non-Null Count  Dtype  \n",
      "---  ------       --------------  -----  \n",
      " 0   Unnamed: 0   730 non-null    object \n",
      " 1   temp_max     730 non-null    float64\n",
      " 2   temp_mean    730 non-null    float64\n",
      " 3   temp_min     730 non-null    float64\n",
      " 4   rain         730 non-null    float64\n",
      " 5   is_rain      730 non-null    int64  \n",
      " 6   ws_max       730 non-null    float64\n",
      " 7   ws_mean      730 non-null    float64\n",
      " 8   ws_min       730 non-null    float64\n",
      " 9   humid_max    730 non-null    float64\n",
      " 10  humid_mean   730 non-null    float64\n",
      " 11  humid_min    730 non-null    float64\n",
      " 12  vaporP_mean  730 non-null    float64\n",
      " 13  dew_min      730 non-null    float64\n",
      " 14  landP_max    730 non-null    float64\n",
      " 15  landP_mean   730 non-null    float64\n",
      " 16  landP_min    730 non-null    float64\n",
      " 17  suntime      730 non-null    float64\n",
      " 18  rad_mean     730 non-null    float64\n",
      " 19  snow         730 non-null    float64\n",
      " 20  is_snow      730 non-null    int64  \n",
      " 21  cloud        730 non-null    float64\n",
      " 22  vis_max      730 non-null    float64\n",
      " 23  vis_mean     730 non-null    float64\n",
      " 24  vis_min      730 non-null    float64\n",
      " 25  month        730 non-null    float64\n",
      " 26  weekday      730 non-null    float64\n",
      " 27  LNG          730 non-null    float64\n",
      " 28  Oil          730 non-null    float64\n",
      " 29  Coal         729 non-null    float64\n",
      " 30  KOSPI        730 non-null    float64\n",
      " 31  KOSDAQ       730 non-null    float64\n",
      "dtypes: float64(29), int64(2), object(1)\n",
      "memory usage: 182.6+ KB\n"
     ]
    }
   ],
   "source": [
    "data.info()"
   ]
  },
  {
   "cell_type": "code",
   "execution_count": 18,
   "metadata": {},
   "outputs": [],
   "source": [
    "data['Unnamed: 0'] = pd.to_datetime(data['Unnamed: 0'])\n",
    "data = data.rename(columns={'Unnamed: 0': 'date'})"
   ]
  },
  {
   "cell_type": "code",
   "execution_count": 19,
   "metadata": {},
   "outputs": [],
   "source": [
    "data['week'] = data['date'].dt.dayofweek\n",
    "data['month'] = data['date'].dt.month\n",
    "data['day'] = data['date'].dt.day"
   ]
  },
  {
   "cell_type": "code",
   "execution_count": 20,
   "metadata": {},
   "outputs": [],
   "source": [
    "data = pd.concat([data, target], axis=1)"
   ]
  },
  {
   "cell_type": "code",
   "execution_count": 21,
   "metadata": {},
   "outputs": [],
   "source": [
    "data.index = data.date\n",
    "data = data.drop('date', axis = 1)"
   ]
  },
  {
   "cell_type": "markdown",
   "metadata": {},
   "source": [
    "## XG-Boost: Feature Selection\n",
    "\n",
    "https://www.kaggle.com/ashishpatel26/predict-sales-price-using-xgboost?select=Submission_Predict+Sales.csv"
   ]
  },
  {
   "cell_type": "code",
   "execution_count": 22,
   "metadata": {},
   "outputs": [],
   "source": [
    "import xgboost as xgb\n",
    "from sklearn.metrics import mean_squared_error"
   ]
  },
  {
   "cell_type": "code",
   "execution_count": 23,
   "metadata": {},
   "outputs": [],
   "source": [
    "# supply\n",
    "X, y = data.iloc[:,:-1], data.iloc[:,-1]"
   ]
  },
  {
   "cell_type": "code",
   "execution_count": 24,
   "metadata": {},
   "outputs": [],
   "source": [
    "data_dmatrix = xgb.DMatrix(data=X,label=y)"
   ]
  },
  {
   "cell_type": "code",
   "execution_count": 25,
   "metadata": {},
   "outputs": [],
   "source": [
    "from sklearn.model_selection import train_test_split\n",
    "\n",
    "X_train, X_test, y_train, y_test = train_test_split(X, y, test_size=0.2, shuffle=False)"
   ]
  },
  {
   "cell_type": "code",
   "execution_count": 26,
   "metadata": {},
   "outputs": [],
   "source": [
    "xg_reg = xgb.XGBRegressor(objective ='reg:squarederror', colsample_bytree = 0.4, learning_rate = 0.02,\n",
    "                max_depth = 20, alpha = 15, n_estimators = 1000)\n",
    "xg_reg.fit(X_train,y_train)\n",
    "preds = xg_reg.predict(X_test)"
   ]
  },
  {
   "cell_type": "code",
   "execution_count": 27,
   "metadata": {},
   "outputs": [
    {
     "name": "stdout",
     "output_type": "stream",
     "text": [
      "RMSE supply: 2.724128\n"
     ]
    }
   ],
   "source": [
    "from sklearn.metrics import mean_squared_error\n",
    "\n",
    "rmse = np.sqrt(mean_squared_error(y_test, preds))\n",
    "print(\"RMSE supply: %f\" % (rmse))"
   ]
  },
  {
   "cell_type": "code",
   "execution_count": 28,
   "metadata": {},
   "outputs": [],
   "source": [
    "index = pd.date_range(y_test.index[0], y_test.index[-1])\n",
    "columns = []\n",
    "\n",
    "smp_supply_pred = pd.DataFrame(index=index, columns=columns)\n",
    "smp_supply_pred['supply_pred'] = preds\n",
    "smp_supply_pred['supply_test'] = y_test"
   ]
  },
  {
   "cell_type": "code",
   "execution_count": 29,
   "metadata": {
    "scrolled": false
   },
   "outputs": [
    {
     "data": {
      "text/plain": [
       "<matplotlib.axes._subplots.AxesSubplot at 0x2b3f6a769c8>"
      ]
     },
     "execution_count": 29,
     "metadata": {},
     "output_type": "execute_result"
    },
    {
     "data": {
      "image/png": "[encoded data removed]",
      "text/plain": [
       "<Figure size 1440x720 with 1 Axes>"
      ]
     },
     "metadata": {
      "needs_background": "light"
     },
     "output_type": "display_data"
    }
   ],
   "source": [
    "smp_supply_pred.plot(figsize=(20,10))"
   ]
  },
  {
   "cell_type": "code",
   "execution_count": 30,
   "metadata": {
    "scrolled": false
   },
   "outputs": [
    {
     "data": {
      "image/png": "[encoded data removed]",
      "text/plain": [
       "<Figure size 432x288 with 1 Axes>"
      ]
     },
     "metadata": {
      "needs_background": "light"
     },
     "output_type": "display_data"
    }
   ],
   "source": [
    "xgb.plot_importance(xg_reg)\n",
    "plt.rcParams['figure.figsize'] = [50,10]\n",
    "plt.show()"
   ]
  },
  {
   "cell_type": "code",
   "execution_count": 40,
   "metadata": {},
   "outputs": [],
   "source": [
    "combine = pd.concat([X, y], axis=1)"
   ]
  },
  {
   "cell_type": "code",
   "execution_count": 42,
   "metadata": {},
   "outputs": [],
   "source": [
    "train = combine.copy()\n",
    "test = combine.copy().drop('supply', axis=1)"
   ]
  },
  {
   "cell_type": "code",
   "execution_count": 49,
   "metadata": {},
   "outputs": [],
   "source": [
    "datetimecol = test.index"
   ]
  },
  {
   "cell_type": "code",
   "execution_count": 50,
   "metadata": {},
   "outputs": [],
   "source": [
    "yLabels = train['supply'] # target"
   ]
  },
  {
   "cell_type": "code",
   "execution_count": 51,
   "metadata": {},
   "outputs": [],
   "source": [
    "def rmsle(y, y_,convertExp=True):\n",
    "    if convertExp:\n",
    "        y = np.exp(y), \n",
    "        y_ = np.exp(y_)\n",
    "    log1 = np.nan_to_num(np.array([np.log(v + 1) for v in y]))\n",
    "    log2 = np.nan_to_num(np.array([np.log(v + 1) for v in y_]))\n",
    "    calc = (log1 - log2) ** 2\n",
    "    return np.sqrt(np.mean(calc))"
   ]
  },
  {
   "cell_type": "code",
   "execution_count": 60,
   "metadata": {},
   "outputs": [],
   "source": [
    "yLabelslog = np.log1p(yLabels)\n",
    "\n",
    "xg_reg = xgb.XGBRegressor(objective ='reg:squarederror', colsample_bytree = 0.4, learning_rate = 0.02,\n",
    "                max_depth = 20, alpha = 15, n_estimators = 1000)\n",
    "xg_reg.fit(train,yLabelslog)\n",
    "\n",
    "preds = xg_reg.predict(train)"
   ]
  },
  {
   "cell_type": "code",
   "execution_count": 61,
   "metadata": {},
   "outputs": [
    {
     "name": "stdout",
     "output_type": "stream",
     "text": [
      "RMSLE Value For Linear Regression: 0.00040161161802944854\n"
     ]
    }
   ],
   "source": [
    "print('RMSLE Value For Linear Regression: {}'.format(rmsle(np.exp(yLabelslog),np.exp(preds),False)))"
   ]
  },
  {
   "cell_type": "code",
   "execution_count": 63,
   "metadata": {},
   "outputs": [
    {
     "name": "stdout",
     "output_type": "stream",
     "text": [
      "730\n"
     ]
    },
    {
     "data": {
      "image/png": "[encoded data removed]",
      "text/plain": [
       "<Figure size 3600x720 with 1 Axes>"
      ]
     },
     "metadata": {
      "needs_background": "light"
     },
     "output_type": "display_data"
    }
   ],
   "source": [
    "sns.distplot(yLabels)\n",
    "print(yLabels.count()) #10886"
   ]
  },
  {
   "cell_type": "code",
   "execution_count": 66,
   "metadata": {},
   "outputs": [
    {
     "ename": "ValueError",
     "evalue": "Input contains NaN, infinity or a value too large for dtype('float64').",
     "output_type": "error",
     "traceback": [
      "\u001b[1;31m---------------------------------------------------------------------------\u001b[0m",
      "\u001b[1;31mValueError\u001b[0m                                Traceback (most recent call last)",
      "\u001b[1;32m<ipython-input-66-5469f52538f9>\u001b[0m in \u001b[0;36m<module>\u001b[1;34m\u001b[0m\n\u001b[0;32m     11\u001b[0m \u001b[0myLabelslog\u001b[0m \u001b[1;33m=\u001b[0m \u001b[0mnp\u001b[0m\u001b[1;33m.\u001b[0m\u001b[0mlog1p\u001b[0m\u001b[1;33m(\u001b[0m\u001b[0myLabels\u001b[0m\u001b[1;33m)\u001b[0m\u001b[1;33m\u001b[0m\u001b[1;33m\u001b[0m\u001b[0m\n\u001b[0;32m     12\u001b[0m \u001b[1;31m#선형 모델에 우리의 데이터를 학습\u001b[0m\u001b[1;33m\u001b[0m\u001b[1;33m\u001b[0m\u001b[1;33m\u001b[0m\u001b[0m\n\u001b[1;32m---> 13\u001b[1;33m \u001b[0mlr\u001b[0m\u001b[1;33m.\u001b[0m\u001b[0mfit\u001b[0m\u001b[1;33m(\u001b[0m\u001b[0mtrain\u001b[0m\u001b[1;33m,\u001b[0m\u001b[0myLabelslog\u001b[0m\u001b[1;33m)\u001b[0m\u001b[1;33m\u001b[0m\u001b[1;33m\u001b[0m\u001b[0m\n\u001b[0m\u001b[0;32m     14\u001b[0m \u001b[1;31m#결과 값 도출\u001b[0m\u001b[1;33m\u001b[0m\u001b[1;33m\u001b[0m\u001b[1;33m\u001b[0m\u001b[0m\n\u001b[0;32m     15\u001b[0m \u001b[0mpreds\u001b[0m \u001b[1;33m=\u001b[0m \u001b[0mlr\u001b[0m\u001b[1;33m.\u001b[0m\u001b[0mpredict\u001b[0m\u001b[1;33m(\u001b[0m\u001b[0mtrain\u001b[0m\u001b[1;33m)\u001b[0m\u001b[1;33m\u001b[0m\u001b[1;33m\u001b[0m\u001b[0m\n",
      "\u001b[1;32m~\\Anaconda3\\lib\\site-packages\\sklearn\\linear_model\\_base.py\u001b[0m in \u001b[0;36mfit\u001b[1;34m(self, X, y, sample_weight)\u001b[0m\n\u001b[0;32m    490\u001b[0m         \u001b[0mn_jobs_\u001b[0m \u001b[1;33m=\u001b[0m \u001b[0mself\u001b[0m\u001b[1;33m.\u001b[0m\u001b[0mn_jobs\u001b[0m\u001b[1;33m\u001b[0m\u001b[1;33m\u001b[0m\u001b[0m\n\u001b[0;32m    491\u001b[0m         X, y = check_X_y(X, y, accept_sparse=['csr', 'csc', 'coo'],\n\u001b[1;32m--> 492\u001b[1;33m                          y_numeric=True, multi_output=True)\n\u001b[0m\u001b[0;32m    493\u001b[0m \u001b[1;33m\u001b[0m\u001b[0m\n\u001b[0;32m    494\u001b[0m         \u001b[1;32mif\u001b[0m \u001b[0msample_weight\u001b[0m \u001b[1;32mis\u001b[0m \u001b[1;32mnot\u001b[0m \u001b[1;32mNone\u001b[0m\u001b[1;33m:\u001b[0m\u001b[1;33m\u001b[0m\u001b[1;33m\u001b[0m\u001b[0m\n",
      "\u001b[1;32m~\\Anaconda3\\lib\\site-packages\\sklearn\\utils\\validation.py\u001b[0m in \u001b[0;36mcheck_X_y\u001b[1;34m(X, y, accept_sparse, accept_large_sparse, dtype, order, copy, force_all_finite, ensure_2d, allow_nd, multi_output, ensure_min_samples, ensure_min_features, y_numeric, warn_on_dtype, estimator)\u001b[0m\n\u001b[0;32m    753\u001b[0m                     \u001b[0mensure_min_features\u001b[0m\u001b[1;33m=\u001b[0m\u001b[0mensure_min_features\u001b[0m\u001b[1;33m,\u001b[0m\u001b[1;33m\u001b[0m\u001b[1;33m\u001b[0m\u001b[0m\n\u001b[0;32m    754\u001b[0m                     \u001b[0mwarn_on_dtype\u001b[0m\u001b[1;33m=\u001b[0m\u001b[0mwarn_on_dtype\u001b[0m\u001b[1;33m,\u001b[0m\u001b[1;33m\u001b[0m\u001b[1;33m\u001b[0m\u001b[0m\n\u001b[1;32m--> 755\u001b[1;33m                     estimator=estimator)\n\u001b[0m\u001b[0;32m    756\u001b[0m     \u001b[1;32mif\u001b[0m \u001b[0mmulti_output\u001b[0m\u001b[1;33m:\u001b[0m\u001b[1;33m\u001b[0m\u001b[1;33m\u001b[0m\u001b[0m\n\u001b[0;32m    757\u001b[0m         y = check_array(y, 'csr', force_all_finite=True, ensure_2d=False,\n",
      "\u001b[1;32m~\\Anaconda3\\lib\\site-packages\\sklearn\\utils\\validation.py\u001b[0m in \u001b[0;36mcheck_array\u001b[1;34m(array, accept_sparse, accept_large_sparse, dtype, order, copy, force_all_finite, ensure_2d, allow_nd, ensure_min_samples, ensure_min_features, warn_on_dtype, estimator)\u001b[0m\n\u001b[0;32m    576\u001b[0m         \u001b[1;32mif\u001b[0m \u001b[0mforce_all_finite\u001b[0m\u001b[1;33m:\u001b[0m\u001b[1;33m\u001b[0m\u001b[1;33m\u001b[0m\u001b[0m\n\u001b[0;32m    577\u001b[0m             _assert_all_finite(array,\n\u001b[1;32m--> 578\u001b[1;33m                                allow_nan=force_all_finite == 'allow-nan')\n\u001b[0m\u001b[0;32m    579\u001b[0m \u001b[1;33m\u001b[0m\u001b[0m\n\u001b[0;32m    580\u001b[0m     \u001b[1;32mif\u001b[0m \u001b[0mensure_min_samples\u001b[0m \u001b[1;33m>\u001b[0m \u001b[1;36m0\u001b[0m\u001b[1;33m:\u001b[0m\u001b[1;33m\u001b[0m\u001b[1;33m\u001b[0m\u001b[0m\n",
      "\u001b[1;32m~\\Anaconda3\\lib\\site-packages\\sklearn\\utils\\validation.py\u001b[0m in \u001b[0;36m_assert_all_finite\u001b[1;34m(X, allow_nan, msg_dtype)\u001b[0m\n\u001b[0;32m     58\u001b[0m                     \u001b[0mmsg_err\u001b[0m\u001b[1;33m.\u001b[0m\u001b[0mformat\u001b[0m\u001b[1;33m\u001b[0m\u001b[1;33m\u001b[0m\u001b[0m\n\u001b[0;32m     59\u001b[0m                     (type_err,\n\u001b[1;32m---> 60\u001b[1;33m                      msg_dtype if msg_dtype is not None else X.dtype)\n\u001b[0m\u001b[0;32m     61\u001b[0m             )\n\u001b[0;32m     62\u001b[0m     \u001b[1;31m# for object dtype data, we only check for NaNs (GH-13254)\u001b[0m\u001b[1;33m\u001b[0m\u001b[1;33m\u001b[0m\u001b[1;33m\u001b[0m\u001b[0m\n",
      "\u001b[1;31mValueError\u001b[0m: Input contains NaN, infinity or a value too large for dtype('float64')."
     ]
    }
   ],
   "source": [
    "from sklearn.linear_model import LinearRegression,Ridge,Lasso\n",
    "\n",
    "\n",
    "lr = LinearRegression()\n",
    "yLabelslog = np.log1p(yLabels)\n",
    "#선형 모델에 우리의 데이터를 학습\n",
    "lr.fit(train,yLabelslog)\n",
    "#결과 값 도출\n",
    "preds = lr.predict(train)\n",
    "#rmsle함수의 element에 np.exp()지수 함수를 취하는 이유는 우리의 preds값에 얻어진 것은 한번 log를 한 값이기 때문에 원래 모델에는 log를 하지 않은 원래의 값을 넣기 위함임.\n",
    "print('RMSLE Value For Linear Regression: {}'.format(rmsle(np.exp(yLabelslog),np.exp(preds),False)))"
   ]
  },
  {
   "cell_type": "code",
   "execution_count": null,
   "metadata": {},
   "outputs": [],
   "source": []
  },
  {
   "cell_type": "code",
   "execution_count": null,
   "metadata": {},
   "outputs": [],
   "source": []
  },
  {
   "cell_type": "code",
   "execution_count": null,
   "metadata": {},
   "outputs": [],
   "source": []
  },
  {
   "cell_type": "code",
   "execution_count": null,
   "metadata": {},
   "outputs": [],
   "source": []
  },
  {
   "cell_type": "code",
   "execution_count": null,
   "metadata": {},
   "outputs": [],
   "source": []
  },
  {
   "cell_type": "code",
   "execution_count": null,
   "metadata": {},
   "outputs": [],
   "source": []
  },
  {
   "cell_type": "code",
   "execution_count": null,
   "metadata": {},
   "outputs": [],
   "source": []
  },
  {
   "cell_type": "markdown",
   "metadata": {},
   "source": [
    "---------------------------"
   ]
  },
  {
   "cell_type": "code",
   "execution_count": 36,
   "metadata": {},
   "outputs": [],
   "source": [
    "# 과거의 feature 사용."
   ]
  },
  {
   "cell_type": "code",
   "execution_count": 32,
   "metadata": {},
   "outputs": [
    {
     "data": {
      "text/html": [
       "<div>\n",
       "<style scoped>\n",
       "    .dataframe tbody tr th:only-of-type {\n",
       "        vertical-align: middle;\n",
       "    }\n",
       "\n",
       "    .dataframe tbody tr th {\n",
       "        vertical-align: top;\n",
       "    }\n",
       "\n",
       "    .dataframe thead th {\n",
       "        text-align: right;\n",
       "    }\n",
       "</style>\n",
       "<table border=\"1\" class=\"dataframe\">\n",
       "  <thead>\n",
       "    <tr style=\"text-align: right;\">\n",
       "      <th></th>\n",
       "      <th>temp_max</th>\n",
       "      <th>temp_mean</th>\n",
       "      <th>temp_min</th>\n",
       "      <th>rain</th>\n",
       "      <th>is_rain</th>\n",
       "      <th>ws_max</th>\n",
       "      <th>ws_mean</th>\n",
       "      <th>ws_min</th>\n",
       "      <th>humid_max</th>\n",
       "      <th>humid_mean</th>\n",
       "      <th>...</th>\n",
       "      <th>month</th>\n",
       "      <th>weekday</th>\n",
       "      <th>LNG</th>\n",
       "      <th>Oil</th>\n",
       "      <th>Coal</th>\n",
       "      <th>KOSPI</th>\n",
       "      <th>KOSDAQ</th>\n",
       "      <th>week</th>\n",
       "      <th>day</th>\n",
       "      <th>supply</th>\n",
       "    </tr>\n",
       "    <tr>\n",
       "      <th>date</th>\n",
       "      <th></th>\n",
       "      <th></th>\n",
       "      <th></th>\n",
       "      <th></th>\n",
       "      <th></th>\n",
       "      <th></th>\n",
       "      <th></th>\n",
       "      <th></th>\n",
       "      <th></th>\n",
       "      <th></th>\n",
       "      <th></th>\n",
       "      <th></th>\n",
       "      <th></th>\n",
       "      <th></th>\n",
       "      <th></th>\n",
       "      <th></th>\n",
       "      <th></th>\n",
       "      <th></th>\n",
       "      <th></th>\n",
       "      <th></th>\n",
       "      <th></th>\n",
       "    </tr>\n",
       "  </thead>\n",
       "  <tbody>\n",
       "    <tr>\n",
       "      <th>2018-02-01</th>\n",
       "      <td>8.7</td>\n",
       "      <td>1.27</td>\n",
       "      <td>-11.3</td>\n",
       "      <td>2.5</td>\n",
       "      <td>1</td>\n",
       "      <td>12.7</td>\n",
       "      <td>3.52</td>\n",
       "      <td>0.0</td>\n",
       "      <td>99.9</td>\n",
       "      <td>67.42</td>\n",
       "      <td>...</td>\n",
       "      <td>2</td>\n",
       "      <td>3.0</td>\n",
       "      <td>57.86</td>\n",
       "      <td>65.80</td>\n",
       "      <td>1.07</td>\n",
       "      <td>2568.54</td>\n",
       "      <td>908.20</td>\n",
       "      <td>3</td>\n",
       "      <td>1</td>\n",
       "      <td>87.47</td>\n",
       "    </tr>\n",
       "    <tr>\n",
       "      <th>2018-02-02</th>\n",
       "      <td>9.2</td>\n",
       "      <td>0.42</td>\n",
       "      <td>-12.3</td>\n",
       "      <td>0.0</td>\n",
       "      <td>0</td>\n",
       "      <td>13.6</td>\n",
       "      <td>3.85</td>\n",
       "      <td>0.0</td>\n",
       "      <td>99.8</td>\n",
       "      <td>57.46</td>\n",
       "      <td>...</td>\n",
       "      <td>2</td>\n",
       "      <td>4.0</td>\n",
       "      <td>56.01</td>\n",
       "      <td>65.45</td>\n",
       "      <td>1.02</td>\n",
       "      <td>2525.39</td>\n",
       "      <td>899.47</td>\n",
       "      <td>4</td>\n",
       "      <td>2</td>\n",
       "      <td>86.64</td>\n",
       "    </tr>\n",
       "    <tr>\n",
       "      <th>2018-02-03</th>\n",
       "      <td>5.9</td>\n",
       "      <td>-1.79</td>\n",
       "      <td>-13.9</td>\n",
       "      <td>229.7</td>\n",
       "      <td>1</td>\n",
       "      <td>19.8</td>\n",
       "      <td>5.60</td>\n",
       "      <td>0.0</td>\n",
       "      <td>99.9</td>\n",
       "      <td>76.50</td>\n",
       "      <td>...</td>\n",
       "      <td>2</td>\n",
       "      <td>5.0</td>\n",
       "      <td>54.99</td>\n",
       "      <td>64.15</td>\n",
       "      <td>1.02</td>\n",
       "      <td>2491.75</td>\n",
       "      <td>858.22</td>\n",
       "      <td>5</td>\n",
       "      <td>3</td>\n",
       "      <td>88.28</td>\n",
       "    </tr>\n",
       "    <tr>\n",
       "      <th>2018-02-04</th>\n",
       "      <td>2.7</td>\n",
       "      <td>-3.87</td>\n",
       "      <td>-15.3</td>\n",
       "      <td>220.6</td>\n",
       "      <td>1</td>\n",
       "      <td>20.2</td>\n",
       "      <td>5.98</td>\n",
       "      <td>0.7</td>\n",
       "      <td>99.9</td>\n",
       "      <td>79.00</td>\n",
       "      <td>...</td>\n",
       "      <td>2</td>\n",
       "      <td>6.0</td>\n",
       "      <td>54.99</td>\n",
       "      <td>64.15</td>\n",
       "      <td>1.02</td>\n",
       "      <td>2491.75</td>\n",
       "      <td>858.22</td>\n",
       "      <td>6</td>\n",
       "      <td>4</td>\n",
       "      <td>86.14</td>\n",
       "    </tr>\n",
       "    <tr>\n",
       "      <th>2018-02-05</th>\n",
       "      <td>4.2</td>\n",
       "      <td>-2.73</td>\n",
       "      <td>-14.4</td>\n",
       "      <td>192.8</td>\n",
       "      <td>1</td>\n",
       "      <td>17.6</td>\n",
       "      <td>5.13</td>\n",
       "      <td>0.1</td>\n",
       "      <td>99.9</td>\n",
       "      <td>77.28</td>\n",
       "      <td>...</td>\n",
       "      <td>2</td>\n",
       "      <td>0.0</td>\n",
       "      <td>54.99</td>\n",
       "      <td>64.15</td>\n",
       "      <td>1.05</td>\n",
       "      <td>2491.75</td>\n",
       "      <td>858.22</td>\n",
       "      <td>0</td>\n",
       "      <td>5</td>\n",
       "      <td>90.63</td>\n",
       "    </tr>\n",
       "  </tbody>\n",
       "</table>\n",
       "<p>5 rows × 34 columns</p>\n",
       "</div>"
      ],
      "text/plain": [
       "            temp_max  temp_mean  temp_min   rain  is_rain  ws_max  ws_mean  \\\n",
       "date                                                                         \n",
       "2018-02-01       8.7       1.27     -11.3    2.5        1    12.7     3.52   \n",
       "2018-02-02       9.2       0.42     -12.3    0.0        0    13.6     3.85   \n",
       "2018-02-03       5.9      -1.79     -13.9  229.7        1    19.8     5.60   \n",
       "2018-02-04       2.7      -3.87     -15.3  220.6        1    20.2     5.98   \n",
       "2018-02-05       4.2      -2.73     -14.4  192.8        1    17.6     5.13   \n",
       "\n",
       "            ws_min  humid_max  humid_mean  ...  month  weekday    LNG    Oil  \\\n",
       "date                                       ...                                 \n",
       "2018-02-01     0.0       99.9       67.42  ...      2      3.0  57.86  65.80   \n",
       "2018-02-02     0.0       99.8       57.46  ...      2      4.0  56.01  65.45   \n",
       "2018-02-03     0.0       99.9       76.50  ...      2      5.0  54.99  64.15   \n",
       "2018-02-04     0.7       99.9       79.00  ...      2      6.0  54.99  64.15   \n",
       "2018-02-05     0.1       99.9       77.28  ...      2      0.0  54.99  64.15   \n",
       "\n",
       "            Coal    KOSPI  KOSDAQ  week  day  supply  \n",
       "date                                                  \n",
       "2018-02-01  1.07  2568.54  908.20     3    1   87.47  \n",
       "2018-02-02  1.02  2525.39  899.47     4    2   86.64  \n",
       "2018-02-03  1.02  2491.75  858.22     5    3   88.28  \n",
       "2018-02-04  1.02  2491.75  858.22     6    4   86.14  \n",
       "2018-02-05  1.05  2491.75  858.22     0    5   90.63  \n",
       "\n",
       "[5 rows x 34 columns]"
      ]
     },
     "execution_count": 32,
     "metadata": {},
     "output_type": "execute_result"
    }
   ],
   "source": [
    "data.head()"
   ]
  },
  {
   "cell_type": "code",
   "execution_count": 33,
   "metadata": {},
   "outputs": [],
   "source": [
    "data_re = data.copy()\n",
    "data_re.index = pd.date_range('2018-03-07', '2020-03-05')"
   ]
  },
  {
   "cell_type": "code",
   "execution_count": 34,
   "metadata": {},
   "outputs": [
    {
     "data": {
      "text/html": [
       "<div>\n",
       "<style scoped>\n",
       "    .dataframe tbody tr th:only-of-type {\n",
       "        vertical-align: middle;\n",
       "    }\n",
       "\n",
       "    .dataframe tbody tr th {\n",
       "        vertical-align: top;\n",
       "    }\n",
       "\n",
       "    .dataframe thead th {\n",
       "        text-align: right;\n",
       "    }\n",
       "</style>\n",
       "<table border=\"1\" class=\"dataframe\">\n",
       "  <thead>\n",
       "    <tr style=\"text-align: right;\">\n",
       "      <th></th>\n",
       "      <th>temp_max</th>\n",
       "      <th>temp_mean</th>\n",
       "      <th>temp_min</th>\n",
       "      <th>rain</th>\n",
       "      <th>is_rain</th>\n",
       "      <th>ws_max</th>\n",
       "      <th>ws_mean</th>\n",
       "      <th>ws_min</th>\n",
       "      <th>humid_max</th>\n",
       "      <th>humid_mean</th>\n",
       "      <th>...</th>\n",
       "      <th>month</th>\n",
       "      <th>weekday</th>\n",
       "      <th>LNG</th>\n",
       "      <th>Oil</th>\n",
       "      <th>Coal</th>\n",
       "      <th>KOSPI</th>\n",
       "      <th>KOSDAQ</th>\n",
       "      <th>week</th>\n",
       "      <th>day</th>\n",
       "      <th>supply</th>\n",
       "    </tr>\n",
       "  </thead>\n",
       "  <tbody>\n",
       "    <tr>\n",
       "      <th>2020-03-01</th>\n",
       "      <td>12.8</td>\n",
       "      <td>7.31</td>\n",
       "      <td>-3.6</td>\n",
       "      <td>2153.8</td>\n",
       "      <td>1</td>\n",
       "      <td>20.1</td>\n",
       "      <td>6.30</td>\n",
       "      <td>0.0</td>\n",
       "      <td>99.9</td>\n",
       "      <td>90.08</td>\n",
       "      <td>...</td>\n",
       "      <td>1</td>\n",
       "      <td>0.0</td>\n",
       "      <td>59.55</td>\n",
       "      <td>53.14</td>\n",
       "      <td>0.23</td>\n",
       "      <td>2176.72</td>\n",
       "      <td>664.70</td>\n",
       "      <td>0</td>\n",
       "      <td>27</td>\n",
       "      <td>76.64</td>\n",
       "    </tr>\n",
       "    <tr>\n",
       "      <th>2020-03-02</th>\n",
       "      <td>12.7</td>\n",
       "      <td>6.61</td>\n",
       "      <td>-3.9</td>\n",
       "      <td>43.2</td>\n",
       "      <td>1</td>\n",
       "      <td>12.7</td>\n",
       "      <td>2.89</td>\n",
       "      <td>0.0</td>\n",
       "      <td>99.9</td>\n",
       "      <td>85.30</td>\n",
       "      <td>...</td>\n",
       "      <td>1</td>\n",
       "      <td>1.0</td>\n",
       "      <td>59.75</td>\n",
       "      <td>53.48</td>\n",
       "      <td>0.16</td>\n",
       "      <td>2176.72</td>\n",
       "      <td>664.70</td>\n",
       "      <td>1</td>\n",
       "      <td>28</td>\n",
       "      <td>80.25</td>\n",
       "    </tr>\n",
       "    <tr>\n",
       "      <th>2020-03-03</th>\n",
       "      <td>13.2</td>\n",
       "      <td>5.99</td>\n",
       "      <td>-5.1</td>\n",
       "      <td>204.9</td>\n",
       "      <td>1</td>\n",
       "      <td>13.6</td>\n",
       "      <td>3.81</td>\n",
       "      <td>0.0</td>\n",
       "      <td>99.9</td>\n",
       "      <td>81.52</td>\n",
       "      <td>...</td>\n",
       "      <td>1</td>\n",
       "      <td>2.0</td>\n",
       "      <td>58.88</td>\n",
       "      <td>53.33</td>\n",
       "      <td>0.16</td>\n",
       "      <td>2185.28</td>\n",
       "      <td>670.18</td>\n",
       "      <td>2</td>\n",
       "      <td>29</td>\n",
       "      <td>82.90</td>\n",
       "    </tr>\n",
       "    <tr>\n",
       "      <th>2020-03-04</th>\n",
       "      <td>11.5</td>\n",
       "      <td>4.75</td>\n",
       "      <td>-7.0</td>\n",
       "      <td>337.6</td>\n",
       "      <td>1</td>\n",
       "      <td>17.2</td>\n",
       "      <td>4.69</td>\n",
       "      <td>0.0</td>\n",
       "      <td>99.9</td>\n",
       "      <td>78.04</td>\n",
       "      <td>...</td>\n",
       "      <td>1</td>\n",
       "      <td>3.0</td>\n",
       "      <td>59.84</td>\n",
       "      <td>52.14</td>\n",
       "      <td>0.16</td>\n",
       "      <td>2148.00</td>\n",
       "      <td>656.39</td>\n",
       "      <td>3</td>\n",
       "      <td>30</td>\n",
       "      <td>84.85</td>\n",
       "    </tr>\n",
       "    <tr>\n",
       "      <th>2020-03-05</th>\n",
       "      <td>10.8</td>\n",
       "      <td>3.92</td>\n",
       "      <td>-10.5</td>\n",
       "      <td>2.5</td>\n",
       "      <td>1</td>\n",
       "      <td>13.0</td>\n",
       "      <td>3.87</td>\n",
       "      <td>0.0</td>\n",
       "      <td>99.9</td>\n",
       "      <td>69.11</td>\n",
       "      <td>...</td>\n",
       "      <td>1</td>\n",
       "      <td>4.0</td>\n",
       "      <td>59.24</td>\n",
       "      <td>51.56</td>\n",
       "      <td>NaN</td>\n",
       "      <td>2119.01</td>\n",
       "      <td>642.48</td>\n",
       "      <td>4</td>\n",
       "      <td>31</td>\n",
       "      <td>86.06</td>\n",
       "    </tr>\n",
       "  </tbody>\n",
       "</table>\n",
       "<p>5 rows × 34 columns</p>\n",
       "</div>"
      ],
      "text/plain": [
       "            temp_max  temp_mean  temp_min    rain  is_rain  ws_max  ws_mean  \\\n",
       "2020-03-01      12.8       7.31      -3.6  2153.8        1    20.1     6.30   \n",
       "2020-03-02      12.7       6.61      -3.9    43.2        1    12.7     2.89   \n",
       "2020-03-03      13.2       5.99      -5.1   204.9        1    13.6     3.81   \n",
       "2020-03-04      11.5       4.75      -7.0   337.6        1    17.2     4.69   \n",
       "2020-03-05      10.8       3.92     -10.5     2.5        1    13.0     3.87   \n",
       "\n",
       "            ws_min  humid_max  humid_mean  ...  month  weekday    LNG    Oil  \\\n",
       "2020-03-01     0.0       99.9       90.08  ...      1      0.0  59.55  53.14   \n",
       "2020-03-02     0.0       99.9       85.30  ...      1      1.0  59.75  53.48   \n",
       "2020-03-03     0.0       99.9       81.52  ...      1      2.0  58.88  53.33   \n",
       "2020-03-04     0.0       99.9       78.04  ...      1      3.0  59.84  52.14   \n",
       "2020-03-05     0.0       99.9       69.11  ...      1      4.0  59.24  51.56   \n",
       "\n",
       "            Coal    KOSPI  KOSDAQ  week  day  supply  \n",
       "2020-03-01  0.23  2176.72  664.70     0   27   76.64  \n",
       "2020-03-02  0.16  2176.72  664.70     1   28   80.25  \n",
       "2020-03-03  0.16  2185.28  670.18     2   29   82.90  \n",
       "2020-03-04  0.16  2148.00  656.39     3   30   84.85  \n",
       "2020-03-05   NaN  2119.01  642.48     4   31   86.06  \n",
       "\n",
       "[5 rows x 34 columns]"
      ]
     },
     "execution_count": 34,
     "metadata": {},
     "output_type": "execute_result"
    }
   ],
   "source": [
    "data_re.tail()"
   ]
  },
  {
   "cell_type": "code",
   "execution_count": 35,
   "metadata": {},
   "outputs": [
    {
     "data": {
      "text/html": [
       "<div>\n",
       "<style scoped>\n",
       "    .dataframe tbody tr th:only-of-type {\n",
       "        vertical-align: middle;\n",
       "    }\n",
       "\n",
       "    .dataframe tbody tr th {\n",
       "        vertical-align: top;\n",
       "    }\n",
       "\n",
       "    .dataframe thead th {\n",
       "        text-align: right;\n",
       "    }\n",
       "</style>\n",
       "<table border=\"1\" class=\"dataframe\">\n",
       "  <thead>\n",
       "    <tr style=\"text-align: right;\">\n",
       "      <th></th>\n",
       "      <th>temp_max</th>\n",
       "      <th>temp_mean</th>\n",
       "      <th>temp_min</th>\n",
       "      <th>rain</th>\n",
       "      <th>is_rain</th>\n",
       "      <th>ws_max</th>\n",
       "      <th>ws_mean</th>\n",
       "      <th>ws_min</th>\n",
       "      <th>humid_max</th>\n",
       "      <th>humid_mean</th>\n",
       "      <th>...</th>\n",
       "      <th>month</th>\n",
       "      <th>weekday</th>\n",
       "      <th>LNG</th>\n",
       "      <th>Oil</th>\n",
       "      <th>Coal</th>\n",
       "      <th>KOSPI</th>\n",
       "      <th>KOSDAQ</th>\n",
       "      <th>week</th>\n",
       "      <th>day</th>\n",
       "      <th>supply</th>\n",
       "    </tr>\n",
       "  </thead>\n",
       "  <tbody>\n",
       "    <tr>\n",
       "      <th>2020-02-01</th>\n",
       "      <td>17.8</td>\n",
       "      <td>9.46</td>\n",
       "      <td>-2.6</td>\n",
       "      <td>1258.2</td>\n",
       "      <td>1</td>\n",
       "      <td>15.1</td>\n",
       "      <td>3.68</td>\n",
       "      <td>0.0</td>\n",
       "      <td>100.0</td>\n",
       "      <td>85.00</td>\n",
       "      <td>...</td>\n",
       "      <td>12</td>\n",
       "      <td>6.0</td>\n",
       "      <td>61.00</td>\n",
       "      <td>61.68</td>\n",
       "      <td>0.16</td>\n",
       "      <td>2197.67</td>\n",
       "      <td>669.83</td>\n",
       "      <td>6</td>\n",
       "      <td>29</td>\n",
       "      <td>72.94</td>\n",
       "    </tr>\n",
       "    <tr>\n",
       "      <th>2020-02-02</th>\n",
       "      <td>16.1</td>\n",
       "      <td>9.79</td>\n",
       "      <td>-6.0</td>\n",
       "      <td>13.9</td>\n",
       "      <td>1</td>\n",
       "      <td>18.2</td>\n",
       "      <td>4.29</td>\n",
       "      <td>0.1</td>\n",
       "      <td>99.9</td>\n",
       "      <td>81.15</td>\n",
       "      <td>...</td>\n",
       "      <td>12</td>\n",
       "      <td>0.0</td>\n",
       "      <td>61.00</td>\n",
       "      <td>61.68</td>\n",
       "      <td>0.16</td>\n",
       "      <td>2197.67</td>\n",
       "      <td>669.83</td>\n",
       "      <td>0</td>\n",
       "      <td>30</td>\n",
       "      <td>77.65</td>\n",
       "    </tr>\n",
       "    <tr>\n",
       "      <th>2020-02-03</th>\n",
       "      <td>10.7</td>\n",
       "      <td>0.14</td>\n",
       "      <td>-12.3</td>\n",
       "      <td>2.9</td>\n",
       "      <td>1</td>\n",
       "      <td>20.5</td>\n",
       "      <td>6.50</td>\n",
       "      <td>0.0</td>\n",
       "      <td>99.9</td>\n",
       "      <td>72.28</td>\n",
       "      <td>...</td>\n",
       "      <td>12</td>\n",
       "      <td>1.0</td>\n",
       "      <td>61.07</td>\n",
       "      <td>61.06</td>\n",
       "      <td>0.16</td>\n",
       "      <td>2175.17</td>\n",
       "      <td>674.02</td>\n",
       "      <td>1</td>\n",
       "      <td>31</td>\n",
       "      <td>90.01</td>\n",
       "    </tr>\n",
       "    <tr>\n",
       "      <th>2020-02-04</th>\n",
       "      <td>10.4</td>\n",
       "      <td>2.60</td>\n",
       "      <td>-6.9</td>\n",
       "      <td>0.0</td>\n",
       "      <td>0</td>\n",
       "      <td>13.0</td>\n",
       "      <td>3.54</td>\n",
       "      <td>0.1</td>\n",
       "      <td>99.9</td>\n",
       "      <td>66.06</td>\n",
       "      <td>...</td>\n",
       "      <td>1</td>\n",
       "      <td>2.0</td>\n",
       "      <td>62.32</td>\n",
       "      <td>61.18</td>\n",
       "      <td>0.16</td>\n",
       "      <td>2175.17</td>\n",
       "      <td>674.02</td>\n",
       "      <td>2</td>\n",
       "      <td>1</td>\n",
       "      <td>81.30</td>\n",
       "    </tr>\n",
       "    <tr>\n",
       "      <th>2020-02-05</th>\n",
       "      <td>12.5</td>\n",
       "      <td>5.38</td>\n",
       "      <td>-4.2</td>\n",
       "      <td>0.0</td>\n",
       "      <td>0</td>\n",
       "      <td>8.7</td>\n",
       "      <td>2.67</td>\n",
       "      <td>0.0</td>\n",
       "      <td>99.9</td>\n",
       "      <td>69.99</td>\n",
       "      <td>...</td>\n",
       "      <td>1</td>\n",
       "      <td>3.0</td>\n",
       "      <td>62.32</td>\n",
       "      <td>61.18</td>\n",
       "      <td>0.16</td>\n",
       "      <td>2175.17</td>\n",
       "      <td>674.02</td>\n",
       "      <td>3</td>\n",
       "      <td>2</td>\n",
       "      <td>80.69</td>\n",
       "    </tr>\n",
       "  </tbody>\n",
       "</table>\n",
       "<p>5 rows × 34 columns</p>\n",
       "</div>"
      ],
      "text/plain": [
       "            temp_max  temp_mean  temp_min    rain  is_rain  ws_max  ws_mean  \\\n",
       "2020-02-01      17.8       9.46      -2.6  1258.2        1    15.1     3.68   \n",
       "2020-02-02      16.1       9.79      -6.0    13.9        1    18.2     4.29   \n",
       "2020-02-03      10.7       0.14     -12.3     2.9        1    20.5     6.50   \n",
       "2020-02-04      10.4       2.60      -6.9     0.0        0    13.0     3.54   \n",
       "2020-02-05      12.5       5.38      -4.2     0.0        0     8.7     2.67   \n",
       "\n",
       "            ws_min  humid_max  humid_mean  ...  month  weekday    LNG    Oil  \\\n",
       "2020-02-01     0.0      100.0       85.00  ...     12      6.0  61.00  61.68   \n",
       "2020-02-02     0.1       99.9       81.15  ...     12      0.0  61.00  61.68   \n",
       "2020-02-03     0.0       99.9       72.28  ...     12      1.0  61.07  61.06   \n",
       "2020-02-04     0.1       99.9       66.06  ...      1      2.0  62.32  61.18   \n",
       "2020-02-05     0.0       99.9       69.99  ...      1      3.0  62.32  61.18   \n",
       "\n",
       "            Coal    KOSPI  KOSDAQ  week  day  supply  \n",
       "2020-02-01  0.16  2197.67  669.83     6   29   72.94  \n",
       "2020-02-02  0.16  2197.67  669.83     0   30   77.65  \n",
       "2020-02-03  0.16  2175.17  674.02     1   31   90.01  \n",
       "2020-02-04  0.16  2175.17  674.02     2    1   81.30  \n",
       "2020-02-05  0.16  2175.17  674.02     3    2   80.69  \n",
       "\n",
       "[5 rows x 34 columns]"
      ]
     },
     "execution_count": 35,
     "metadata": {},
     "output_type": "execute_result"
    }
   ],
   "source": [
    "predic = data_re.iloc[-34:]\n",
    "predic.head()"
   ]
  },
  {
   "cell_type": "code",
   "execution_count": 24,
   "metadata": {},
   "outputs": [],
   "source": [
    "target = pd.read_csv(\"data/target_v1.csv\")\n",
    "target.index = pd.to_datetime(target['date'])"
   ]
  },
  {
   "cell_type": "code",
   "execution_count": 25,
   "metadata": {},
   "outputs": [],
   "source": [
    "y_df = target.supply[34:]"
   ]
  },
  {
   "cell_type": "code",
   "execution_count": 26,
   "metadata": {},
   "outputs": [],
   "source": [
    "data_re = data_re.iloc[:-34]"
   ]
  },
  {
   "cell_type": "code",
   "execution_count": 27,
   "metadata": {},
   "outputs": [],
   "source": [
    "X, y = data_re.iloc[:, :-1], data_re.iloc[:, -1]"
   ]
  },
  {
   "cell_type": "code",
   "execution_count": 29,
   "metadata": {},
   "outputs": [
    {
     "name": "stdout",
     "output_type": "stream",
     "text": [
      "RMSE supply: 1.905411\n"
     ]
    }
   ],
   "source": [
    "# using previous model\n",
    "data_dmatrix = xgb.DMatrix(data=X, label=y)\n",
    "\n",
    "X_train, X_test, y_train, y_test = train_test_split(X, y, test_size=0.25, shuffle=False)\n",
    "\n",
    "preds = xg_reg.predict(X_test)\n",
    "\n",
    "rmse = np.sqrt(mean_squared_error(y_test, preds))\n",
    "print(\"RMSE supply: %f\" % (rmse))"
   ]
  },
  {
   "cell_type": "code",
   "execution_count": 30,
   "metadata": {},
   "outputs": [],
   "source": [
    "X_pred = predic.iloc[:, :-1]\n",
    "preds = xg_reg.predict(X_pred)"
   ]
  },
  {
   "cell_type": "code",
   "execution_count": null,
   "metadata": {},
   "outputs": [],
   "source": []
  },
  {
   "cell_type": "code",
   "execution_count": 60,
   "metadata": {},
   "outputs": [
    {
     "name": "stdout",
     "output_type": "stream",
     "text": [
      "RMSE supply: 4.753709\n"
     ]
    }
   ],
   "source": [
    "data_dmatrix = xgb.DMatrix(data=X, label=y)\n",
    "\n",
    "X_train, X_test, y_train, y_test = train_test_split(X, y, test_size=0.25, shuffle=False)\n",
    "\n",
    "xg_reg = xgb.XGBRegressor(objective ='reg:squarederror', colsample_bytree = 0.2, learning_rate = 0.3,\n",
    "                max_depth = 15, alpha = 10, n_estimators = 1000)\n",
    "\n",
    "xg_reg.fit(X_train,y_train)\n",
    "preds = xg_reg.predict(X_test)\n",
    "\n",
    "rmse = np.sqrt(mean_squared_error(y_test, preds))\n",
    "print(\"RMSE supply: %f\" % (rmse))"
   ]
  },
  {
   "cell_type": "code",
   "execution_count": 62,
   "metadata": {},
   "outputs": [],
   "source": [
    "X_pred = predic.iloc[:, :-1]\n",
    "preds = xg_reg.predict(X_pred)"
   ]
  },
  {
   "cell_type": "code",
   "execution_count": 31,
   "metadata": {},
   "outputs": [],
   "source": [
    "pr = pd.DataFrame(preds)"
   ]
  },
  {
   "cell_type": "code",
   "execution_count": 32,
   "metadata": {},
   "outputs": [],
   "source": [
    "pr = pr.rename(columns = {0: 'suuply'})"
   ]
  },
  {
   "cell_type": "code",
   "execution_count": 33,
   "metadata": {},
   "outputs": [
    {
     "data": {
      "text/plain": [
       "34"
      ]
     },
     "execution_count": 33,
     "metadata": {},
     "output_type": "execute_result"
    }
   ],
   "source": [
    "len(pr)"
   ]
  },
  {
   "cell_type": "code",
   "execution_count": 34,
   "metadata": {},
   "outputs": [
    {
     "data": {
      "text/plain": [
       "34"
      ]
     },
     "execution_count": 34,
     "metadata": {},
     "output_type": "execute_result"
    }
   ],
   "source": [
    "len(predic)"
   ]
  },
  {
   "cell_type": "code",
   "execution_count": 35,
   "metadata": {},
   "outputs": [],
   "source": [
    "pr.index = pd.date_range('2020-02-01', '2020-03-05')"
   ]
  },
  {
   "cell_type": "code",
   "execution_count": 36,
   "metadata": {},
   "outputs": [],
   "source": [
    "pr.to_csv('supply_prediction_1.csv')"
   ]
  }
 ],
 "metadata": {
  "kernelspec": {
   "display_name": "Python 3",
   "language": "python",
   "name": "python3"
  },
  "language_info": {
   "codemirror_mode": {
    "name": "ipython",
    "version": 3
   },
   "file_extension": ".py",
   "mimetype": "text/x-python",
   "name": "python",
   "nbconvert_exporter": "python",
   "pygments_lexer": "ipython3",
   "version": "3.7.7"
  }
 },
 "nbformat": 4,
 "nbformat_minor": 4
}
