{
 "cells": [
  {
   "cell_type": "code",
   "execution_count": 35,
   "metadata": {},
   "outputs": [],
   "source": [
    "# 그래프를 노트북 안에 그리기 위해 설정\n",
    "%matplotlib inline\n",
    "\n",
    "# 필요한 패키지와 라이브러리를 가져옴\n",
    "import matplotlib as mpl\n",
    "import matplotlib.pyplot as plt\n",
    "import matplotlib.font_manager as fm\n",
    "\n",
    "# 그래프에서 마이너스 폰트 깨지는 문제에 대한 대처\n",
    "mpl.rcParams['axes.unicode_minus'] = False\n"
   ]
  },
  {
   "cell_type": "code",
   "execution_count": 36,
   "metadata": {},
   "outputs": [
    {
     "name": "stdout",
     "output_type": "stream",
     "text": [
      "버전:  3.2.2\n",
      "설치 위치:  /home/jaewon/anaconda3/lib/python3.8/site-packages/matplotlib/__init__.py\n",
      "설정 위치:  /home/jaewon/.config/matplotlib\n",
      "캐시 위치:  /home/jaewon/.cache/matplotlib\n"
     ]
    }
   ],
   "source": [
    "print ('버전: ', mpl.__version__)\n",
    "print ('설치 위치: ', mpl.__file__)\n",
    "print ('설정 위치: ', mpl.get_configdir())\n",
    "print ('캐시 위치: ', mpl.get_cachedir())\n"
   ]
  },
  {
   "cell_type": "code",
   "execution_count": 37,
   "metadata": {},
   "outputs": [
    {
     "name": "stdout",
     "output_type": "stream",
     "text": [
      "설정파일 위치:  /home/jaewon/anaconda3/lib/python3.8/site-packages/matplotlib/mpl-data/matplotlibrc\n"
     ]
    }
   ],
   "source": [
    "print ('설정파일 위치: ', mpl.matplotlib_fname())"
   ]
  },
  {
   "cell_type": "code",
   "execution_count": 38,
   "metadata": {},
   "outputs": [
    {
     "name": "stdout",
     "output_type": "stream",
     "text": [
      "295\n"
     ]
    }
   ],
   "source": [
    "font_list = fm.findSystemFonts(fontpaths=None, fontext='ttf')\n",
    "\n",
    "# ttf 폰트 전체갯수\n",
    "print(len(font_list))"
   ]
  },
  {
   "cell_type": "code",
   "execution_count": 39,
   "metadata": {},
   "outputs": [
    {
     "name": "stdout",
     "output_type": "stream",
     "text": [
      "0\n"
     ]
    },
    {
     "name": "stderr",
     "output_type": "stream",
     "text": [
      "<ipython-input-39-51a6c54cc9e0>:2: MatplotlibDeprecationWarning: \n",
      "The OSXInstalledFonts function was deprecated in Matplotlib 3.1 and will be removed in 3.3.\n",
      "  font_list_mac = fm.OSXInstalledFonts()\n"
     ]
    }
   ],
   "source": [
    "# OSX 의 설치 된 폰트를 가져오는 함수\n",
    "font_list_mac = fm.OSXInstalledFonts()\n",
    "print(len(font_list_mac))\n"
   ]
  },
  {
   "cell_type": "code",
   "execution_count": 40,
   "metadata": {},
   "outputs": [
    {
     "data": {
      "text/plain": [
       "['/usr/share/fonts/truetype/lohit-kannada/Lohit-Kannada.ttf',\n",
       " '/usr/share/fonts/truetype/tlwg/Umpush.ttf',\n",
       " '/usr/share/fonts/truetype/tlwg/TlwgTypo-BoldOblique.ttf',\n",
       " '/usr/share/fonts/truetype/kacst/KacstTitle.ttf',\n",
       " '/usr/share/fonts/truetype/fonts-deva-extra/samanata.ttf',\n",
       " '/usr/share/fonts/truetype/fonts-kalapi/Kalapi.ttf',\n",
       " '/usr/share/fonts/truetype/dejavu/DejaVuSans-ExtraLight.ttf',\n",
       " '/usr/share/fonts/truetype/ubuntu/UbuntuMono-B.ttf',\n",
       " '/usr/share/fonts/truetype/tlwg/Norasi-Bold.ttf',\n",
       " '/usr/share/fonts/truetype/tlwg/Sawasdee-BoldOblique.ttf']"
      ]
     },
     "execution_count": 40,
     "metadata": {},
     "output_type": "execute_result"
    }
   ],
   "source": [
    "font_list[:10] "
   ]
  },
  {
   "cell_type": "code",
   "execution_count": 41,
   "metadata": {},
   "outputs": [
    {
     "name": "stdout",
     "output_type": "stream",
     "text": [
      "295\n"
     ]
    },
    {
     "data": {
      "text/plain": [
       "['DejaVu Sans',\n",
       " 'DejaVu Sans Mono',\n",
       " 'STIXNonUnicode',\n",
       " 'DejaVu Sans Mono',\n",
       " 'DejaVu Sans Mono',\n",
       " 'STIXSizeFiveSym',\n",
       " 'STIXSizeThreeSym',\n",
       " 'DejaVu Sans Mono',\n",
       " 'cmss10',\n",
       " 'STIXGeneral',\n",
       " 'STIXGeneral',\n",
       " 'STIXSizeThreeSym',\n",
       " 'STIXSizeTwoSym',\n",
       " 'STIXSizeOneSym',\n",
       " 'DejaVu Sans',\n",
       " 'STIXSizeOneSym',\n",
       " 'cmsy10',\n",
       " 'cmr10',\n",
       " 'STIXNonUnicode',\n",
       " 'STIXGeneral',\n",
       " 'STIXSizeFourSym',\n",
       " 'DejaVu Serif',\n",
       " 'cmtt10',\n",
       " 'DejaVu Sans',\n",
       " 'STIXSizeTwoSym',\n",
       " 'DejaVu Serif Display',\n",
       " 'STIXNonUnicode',\n",
       " 'STIXSizeFourSym',\n",
       " 'DejaVu Sans Display',\n",
       " 'DejaVu Sans',\n",
       " 'cmex10',\n",
       " 'DejaVu Serif',\n",
       " 'DejaVu Serif',\n",
       " 'cmmi10',\n",
       " 'STIXGeneral',\n",
       " 'DejaVu Serif',\n",
       " 'cmb10',\n",
       " 'STIXNonUnicode',\n",
       " 'Chilanka',\n",
       " 'Rachana',\n",
       " 'Phetsarath OT',\n",
       " 'Ani',\n",
       " 'FreeSerif',\n",
       " 'Samanata',\n",
       " 'Umpush',\n",
       " 'Laksaman',\n",
       " 'Z003',\n",
       " 'Loma',\n",
       " 'Liberation Mono',\n",
       " 'KacstQurn',\n",
       " 'Uroob',\n",
       " 'FreeMono',\n",
       " 'Loma',\n",
       " 'Rasa',\n",
       " 'Umpush',\n",
       " 'Waree',\n",
       " 'Kinnari',\n",
       " 'Rasa',\n",
       " 'Likhan',\n",
       " 'Tlwg Typo',\n",
       " 'Yrsa',\n",
       " 'Norasi',\n",
       " 'padmaa',\n",
       " 'Ubuntu Condensed',\n",
       " 'Nimbus Mono PS',\n",
       " 'P052',\n",
       " 'DejaVu Sans Mono',\n",
       " 'Liberation Serif',\n",
       " 'Yrsa',\n",
       " 'Liberation Mono',\n",
       " 'Tlwg Typist',\n",
       " 'Liberation Sans Narrow',\n",
       " 'Liberation Serif',\n",
       " 'Samyak Gujarati',\n",
       " 'Liberation Sans',\n",
       " 'Sawasdee',\n",
       " 'DejaVu Serif',\n",
       " 'Norasi',\n",
       " 'Droid Sans Fallback',\n",
       " 'padmaa-Bold.1.1',\n",
       " 'Nimbus Mono PS',\n",
       " 'Liberation Serif',\n",
       " 'Nimbus Roman',\n",
       " 'Nimbus Mono PS',\n",
       " 'Rachana',\n",
       " 'URW Gothic',\n",
       " 'Tlwg Mono',\n",
       " 'Umpush',\n",
       " 'Lohit Assamese',\n",
       " 'URW Bookman',\n",
       " 'Sarai',\n",
       " 'Liberation Mono',\n",
       " 'Lohit Devanagari',\n",
       " 'FreeSerif',\n",
       " 'Tlwg Typo',\n",
       " 'Noto Mono',\n",
       " 'DejaVu Sans',\n",
       " 'Kinnari',\n",
       " 'Gayathri',\n",
       " 'Purisa',\n",
       " 'AnjaliOldLipi',\n",
       " 'KacstDecorative',\n",
       " 'OpenSymbol',\n",
       " 'Tlwg Typo',\n",
       " 'Laksaman',\n",
       " 'Rasa',\n",
       " 'Liberation Serif',\n",
       " 'Liberation Mono',\n",
       " 'Tlwg Typo',\n",
       " 'Kalimati',\n",
       " 'URW Bookman',\n",
       " 'Gubbi',\n",
       " 'Tlwg Typewriter',\n",
       " 'DejaVu Sans Mono',\n",
       " 'Nimbus Sans Narrow',\n",
       " 'Lohit Bengali',\n",
       " 'Loma',\n",
       " 'Mukti Narrow',\n",
       " 'Noto Serif CJK JP',\n",
       " 'Nimbus Roman',\n",
       " 'Lohit Malayalam',\n",
       " 'Yrsa',\n",
       " 'Liberation Sans Narrow',\n",
       " 'Nimbus Roman',\n",
       " 'Sawasdee',\n",
       " 'Ubuntu Mono',\n",
       " 'Noto Sans CJK JP',\n",
       " 'Padauk Book',\n",
       " 'Liberation Sans',\n",
       " 'Umpush',\n",
       " 'Ubuntu',\n",
       " 'Tlwg Mono',\n",
       " 'Kinnari',\n",
       " 'Manjari',\n",
       " 'Tlwg Typist',\n",
       " 'ori1Uni',\n",
       " 'Liberation Sans',\n",
       " 'Liberation Serif',\n",
       " 'C059',\n",
       " 'Gargi',\n",
       " 'RaghuMalayalamSans',\n",
       " 'Rekha',\n",
       " 'Pagul',\n",
       " 'C059',\n",
       " 'Ubuntu Mono',\n",
       " 'KacstScreen',\n",
       " 'Waree',\n",
       " 'Karumbi',\n",
       " 'KacstNaskh',\n",
       " 'mry_KacstQurn',\n",
       " 'DejaVu Sans',\n",
       " 'Ubuntu',\n",
       " 'FreeSerif',\n",
       " 'Nimbus Mono PS',\n",
       " 'KacstDigital',\n",
       " 'Ubuntu',\n",
       " 'Liberation Mono',\n",
       " 'Loma',\n",
       " 'Mitra Mono',\n",
       " 'Norasi',\n",
       " 'Gayathri',\n",
       " 'Liberation Sans',\n",
       " 'Liberation Sans',\n",
       " 'Garuda',\n",
       " 'Abyssinica SIL',\n",
       " 'Padauk',\n",
       " 'Khmer OS',\n",
       " 'Waree',\n",
       " 'Padauk',\n",
       " 'LKLUG',\n",
       " 'Tlwg Typewriter',\n",
       " 'FreeMono',\n",
       " 'KacstLetter',\n",
       " 'Tlwg Mono',\n",
       " 'KacstArt',\n",
       " 'Laksaman',\n",
       " 'Kalapi',\n",
       " 'Waree',\n",
       " 'Ubuntu',\n",
       " 'FreeSerif',\n",
       " 'Kinnari',\n",
       " 'Sawasdee',\n",
       " 'aakar',\n",
       " 'Ubuntu',\n",
       " 'Jamrul',\n",
       " 'Manjari',\n",
       " 'Lohit Tamil',\n",
       " 'URW Gothic',\n",
       " 'Tlwg Typist',\n",
       " 'Lohit Odia',\n",
       " 'FreeSans',\n",
       " 'Dyuthi',\n",
       " 'Tlwg Mono',\n",
       " 'Lohit Gurmukhi',\n",
       " 'Garuda',\n",
       " 'Laksaman',\n",
       " 'Ubuntu',\n",
       " 'Ubuntu',\n",
       " 'Liberation Sans',\n",
       " 'FreeSans',\n",
       " 'Manjari',\n",
       " 'Sahadeva',\n",
       " 'Mukti Narrow',\n",
       " 'Garuda',\n",
       " 'URW Gothic',\n",
       " 'Purisa',\n",
       " 'Lohit Gujarati',\n",
       " 'Nimbus Roman',\n",
       " 'Noto Serif CJK JP',\n",
       " 'Umpush',\n",
       " 'Norasi',\n",
       " 'KacstTitleL',\n",
       " 'Norasi',\n",
       " 'Umpush',\n",
       " 'Tlwg Typewriter',\n",
       " 'Kinnari',\n",
       " 'Purisa',\n",
       " 'FreeSans',\n",
       " 'Rasa',\n",
       " 'Samyak Devanagari',\n",
       " 'D050000L',\n",
       " 'Nakula',\n",
       " 'KacstBook',\n",
       " 'Standard Symbols PS',\n",
       " 'Liberation Serif',\n",
       " 'Meera',\n",
       " 'KacstPoster',\n",
       " 'Lohit Telugu',\n",
       " 'Garuda',\n",
       " 'Nimbus Sans',\n",
       " 'Liberation Sans',\n",
       " 'Ubuntu Mono',\n",
       " 'Liberation Mono',\n",
       " 'Liberation Serif',\n",
       " 'Chandas',\n",
       " 'KacstOffice',\n",
       " 'Ubuntu',\n",
       " 'Lohit Kannada',\n",
       " 'padmaa',\n",
       " 'Nimbus Sans Narrow',\n",
       " 'KacstOne',\n",
       " 'Nimbus Sans',\n",
       " 'DejaVu Serif',\n",
       " 'C059',\n",
       " 'P052',\n",
       " 'Pothana2000',\n",
       " 'Rasa',\n",
       " 'C059',\n",
       " 'Samyak Malayalam',\n",
       " 'Khmer OS System',\n",
       " 'Nimbus Sans',\n",
       " 'Norasi',\n",
       " 'Saab',\n",
       " 'Liberation Serif',\n",
       " 'FreeSans',\n",
       " 'Tibetan Machine Uni',\n",
       " 'Padauk Book',\n",
       " 'Lohit Tamil Classical',\n",
       " 'Vemana2000',\n",
       " 'URW Gothic',\n",
       " 'Ubuntu',\n",
       " 'Sawasdee',\n",
       " 'KacstFarsi',\n",
       " 'Kinnari',\n",
       " 'Liberation Mono',\n",
       " 'Keraleeyam',\n",
       " 'Liberation Sans Narrow',\n",
       " 'Liberation Mono',\n",
       " 'URW Bookman',\n",
       " 'Nimbus Sans Narrow',\n",
       " 'P052',\n",
       " 'Liberation Sans',\n",
       " 'Navilu',\n",
       " 'KacstPen',\n",
       " 'Ubuntu Mono',\n",
       " 'P052',\n",
       " 'Samyak Tamil',\n",
       " 'Nimbus Sans',\n",
       " 'KacstOne',\n",
       " 'Purisa',\n",
       " 'KacstTitle',\n",
       " 'Liberation Sans Narrow',\n",
       " 'Tlwg Typist',\n",
       " 'Tlwg Typewriter',\n",
       " 'Suruma',\n",
       " 'FreeMono',\n",
       " 'URW Bookman',\n",
       " 'FreeMono',\n",
       " 'Yrsa',\n",
       " 'Noto Sans CJK JP',\n",
       " 'Gayathri',\n",
       " 'Yrsa',\n",
       " 'Nimbus Sans Narrow']"
      ]
     },
     "execution_count": 41,
     "metadata": {},
     "output_type": "execute_result"
    }
   ],
   "source": [
    "f = [f.name for f in fm.fontManager.ttflist]\n",
    "print(len(font_list))\n",
    "# 10개의 폰트명 만 출력\n",
    "f\n"
   ]
  },
  {
   "cell_type": "code",
   "execution_count": 43,
   "metadata": {},
   "outputs": [
    {
     "data": {
      "text/plain": [
       "[]"
      ]
     },
     "execution_count": 43,
     "metadata": {},
     "output_type": "execute_result"
    }
   ],
   "source": [
    "[(f.name, f.fname) for f in fm.fontManager.ttflist if 'Nanum' in f.name]\n"
   ]
  },
  {
   "cell_type": "code",
   "execution_count": 44,
   "metadata": {},
   "outputs": [
    {
     "ename": "NameError",
     "evalue": "name 'NanumBarunGothic' is not defined",
     "output_type": "error",
     "traceback": [
      "\u001b[0;31m---------------------------------------------------------------------------\u001b[0m",
      "\u001b[0;31mNameError\u001b[0m                                 Traceback (most recent call last)",
      "\u001b[0;32m<ipython-input-44-a91c9bf55f5a>\u001b[0m in \u001b[0;36m<module>\u001b[0;34m\u001b[0m\n\u001b[0;32m----> 1\u001b[0;31m \u001b[0mNanumBarunGothic\u001b[0m\u001b[0;34m.\u001b[0m\u001b[0motf\u001b[0m\u001b[0;34m\u001b[0m\u001b[0;34m\u001b[0m\u001b[0m\n\u001b[0m",
      "\u001b[0;31mNameError\u001b[0m: name 'NanumBarunGothic' is not defined"
     ]
    }
   ],
   "source": [
    "NanumBarunGothic.otf"
   ]
  },
  {
   "cell_type": "code",
   "execution_count": null,
   "metadata": {},
   "outputs": [],
   "source": []
  },
  {
   "cell_type": "code",
   "execution_count": null,
   "metadata": {},
   "outputs": [],
   "source": []
  }
 ],
 "metadata": {
  "kernelspec": {
   "display_name": "Python 3",
   "language": "python",
   "name": "python3"
  },
  "language_info": {
   "codemirror_mode": {
    "name": "ipython",
    "version": 3
   },
   "file_extension": ".py",
   "mimetype": "text/x-python",
   "name": "python",
   "nbconvert_exporter": "python",
   "pygments_lexer": "ipython3",
   "version": "3.8.3"
  }
 },
 "nbformat": 4,
 "nbformat_minor": 4
}
