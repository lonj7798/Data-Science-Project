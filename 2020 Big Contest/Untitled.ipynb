{
 "cells": [
  {
   "cell_type": "code",
   "execution_count": 9,
   "metadata": {},
   "outputs": [],
   "source": [
    "import numpy as np\n",
    "import pandas as pd\n",
    "\n",
    "import matplotlib as mpl\n",
    "import matplotlib.pyplot as plt\n",
    "import seaborn as sns\n",
    "%matplotlib inline"
   ]
  },
  {
   "cell_type": "code",
   "execution_count": 15,
   "metadata": {},
   "outputs": [],
   "source": [
    "path = \"../../Data/BigContest/Baseball data/csv file/\"\n",
    "\n",
    "data1 = pd.read_csv(path+\"2020빅콘테스트_스포츠투아이_제공데이터_개인타자_2016.csv\")\n",
    "data2 = pd.read_csv(path+\"2020빅콘테스트_스포츠투아이_제공데이터_개인타자_2017.csv\")\n",
    "data3 = pd.read_csv(path+\"2020빅콘테스트_스포츠투아이_제공데이터_개인타자_2018.csv\")\n",
    "data4 = pd.read_csv(path+\"2020빅콘테스트_스포츠투아이_제공데이터_개인타자_2019.csv\")"
   ]
  }
 ],
 "metadata": {
  "kernelspec": {
   "display_name": "Python 3",
   "language": "python",
   "name": "python3"
  },
  "language_info": {
   "codemirror_mode": {
    "name": "ipython",
    "version": 3
   },
   "file_extension": ".py",
   "mimetype": "text/x-python",
   "name": "python",
   "nbconvert_exporter": "python",
   "pygments_lexer": "ipython3",
   "version": "3.7.7"
  }
 },
 "nbformat": 4,
 "nbformat_minor": 4
}
