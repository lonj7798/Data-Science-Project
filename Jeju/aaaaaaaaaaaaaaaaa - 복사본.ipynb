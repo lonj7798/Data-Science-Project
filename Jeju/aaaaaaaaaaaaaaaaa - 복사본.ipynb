{
 "cells": [
  {
   "cell_type": "code",
   "execution_count": 1,
   "metadata": {},
   "outputs": [],
   "source": [
    "import pandas as pd\n",
    "import numpy as np\n",
    "import sklearn\n",
    "from sklearn.ensemble import RandomForestRegressor\n",
    "from sklearn.preprocessing import LabelEncoder"
   ]
  },
  {
   "cell_type": "markdown",
   "metadata": {},
   "source": [
    "## Data Cleansing & Pre-Processing"
   ]
  },
  {
   "cell_type": "code",
   "execution_count": 2,
   "metadata": {},
   "outputs": [],
   "source": [
    "def grap_year(data):\n",
    "    data = str(data)\n",
    "    return int(data[:4])\n",
    "\n",
    "def grap_month(data):\n",
    "    data = str(data)\n",
    "    return int(data[4:])"
   ]
  },
  {
   "cell_type": "code",
   "execution_count": 3,
   "metadata": {},
   "outputs": [],
   "source": [
    "world_gdp = pd.read_csv(\"data/world_gdp.csv\")\n",
    "trade_amount = pd.read_csv(\"data/Trade in goods and services forecast.csv\")"
   ]
  },
  {
   "cell_type": "code",
   "execution_count": 4,
   "metadata": {},
   "outputs": [],
   "source": [
    "# date\n",
    "data = pd.read_csv('../../Data/Jeju/201901-202003.csv')\n",
    "data = data.fillna('')\n",
    "data['year'] = data['REG_YYMM'].apply(lambda x: grap_year(x))\n",
    "data['month'] = data['REG_YYMM'].apply(lambda x: grap_month(x))"
   ]
  },
  {
   "cell_type": "code",
   "execution_count": 5,
   "metadata": {},
   "outputs": [],
   "source": [
    "data.REG_YYMM = pd.to_datetime(data.REG_YYMM, format='%Y%m')"
   ]
  },
  {
   "cell_type": "code",
   "execution_count": 6,
   "metadata": {},
   "outputs": [],
   "source": [
    "world_gdp['Unnamed: 0'] = pd.to_datetime(world_gdp['Unnamed: 0'])\n",
    "trade_amount['Unnamed: 0'] = pd.to_datetime(trade_amount['Unnamed: 0'])"
   ]
  },
  {
   "cell_type": "code",
   "execution_count": 7,
   "metadata": {},
   "outputs": [],
   "source": [
    "data = data.drop(['REG_YYMM'], axis=1)"
   ]
  },
  {
   "cell_type": "code",
   "execution_count": 8,
   "metadata": {},
   "outputs": [],
   "source": [
    "# 데이터 정제\n",
    "df = data.copy()\n",
    "df = df.drop(['CARD_CCG_NM', 'HOM_CCG_NM'], axis=1)\n",
    "\n",
    "# 카테고리 별로 묶어서 AMT를 각각 예측\n",
    "columns = ['CARD_SIDO_NM', 'STD_CLSS_NM', 'HOM_SIDO_NM', 'AGE', 'SEX_CTGO_CD', 'FLC', 'year', 'month']\n",
    "df = df.groupby(columns).sum().reset_index(drop=False)"
   ]
  },
  {
   "cell_type": "code",
   "execution_count": 9,
   "metadata": {},
   "outputs": [],
   "source": [
    "# 인코딩\n",
    "dtypes = df.dtypes\n",
    "encoders = {}\n",
    "for column in df.columns:\n",
    "    if str(dtypes[column]) == 'object':\n",
    "        encoder = LabelEncoder()\n",
    "        encoder.fit(df[column])\n",
    "        encoders[column] = encoder\n",
    "        \n",
    "df_num = df.copy()        \n",
    "for column in encoders.keys():\n",
    "    encoder = encoders[column]\n",
    "    df_num[column] = encoder.transform(df[column])"
   ]
  },
  {
   "cell_type": "code",
   "execution_count": 10,
   "metadata": {},
   "outputs": [
    {
     "name": "stdout",
     "output_type": "stream",
     "text": [
      "<class 'pandas.core.frame.DataFrame'>\n",
      "RangeIndex: 1057394 entries, 0 to 1057393\n",
      "Data columns (total 11 columns):\n",
      " #   Column        Non-Null Count    Dtype \n",
      "---  ------        --------------    ----- \n",
      " 0   CARD_SIDO_NM  1057394 non-null  object\n",
      " 1   STD_CLSS_NM   1057394 non-null  object\n",
      " 2   HOM_SIDO_NM   1057394 non-null  object\n",
      " 3   AGE           1057394 non-null  object\n",
      " 4   SEX_CTGO_CD   1057394 non-null  int64 \n",
      " 5   FLC           1057394 non-null  int64 \n",
      " 6   year          1057394 non-null  int64 \n",
      " 7   month         1057394 non-null  int64 \n",
      " 8   CSTMR_CNT     1057394 non-null  int64 \n",
      " 9   AMT           1057394 non-null  int64 \n",
      " 10  CNT           1057394 non-null  int64 \n",
      "dtypes: int64(7), object(4)\n",
      "memory usage: 88.7+ MB\n"
     ]
    }
   ],
   "source": [
    "df.info()"
   ]
  },
  {
   "cell_type": "markdown",
   "metadata": {},
   "source": [
    "## Exploratory Data Analysis"
   ]
  },
  {
   "cell_type": "markdown",
   "metadata": {},
   "source": [
    "## Feature Engineering & Initial Modeling"
   ]
  },
  {
   "cell_type": "code",
   "execution_count": 11,
   "metadata": {},
   "outputs": [],
   "source": [
    "# feature, target 설정\n",
    "train_num = df_num.sample(frac=1, random_state=0)\n",
    "train_features = train_num.drop(['CSTMR_CNT', 'AMT', 'CNT'], axis=1)\n",
    "train_target = np.log1p(train_num['AMT'])"
   ]
  },
  {
   "cell_type": "code",
   "execution_count": 12,
   "metadata": {},
   "outputs": [],
   "source": [
    "train_features['kor_gdp'] = 0\n",
    "train_features['trade_amount'] = 0\n",
    "\n",
    "for date, i in zip(world_gdp['Unnamed: 0'], range(len(world_gdp))):\n",
    "    train_features.loc[(train_features['year'] == date.year) & (train_features['month'] == date.month), 'kor_gdp'] = world_gdp.iloc[i].KOR_gdp\n",
    "    \n",
    "for date, i in zip(trade_amount['Unnamed: 0'], range(len(trade_amount))):\n",
    "    train_features.loc[(train_features['year'] == date.year) & (train_features['month'] == date.month), 'trade_amount'] = trade_amount.iloc[i].Value\n",
    "    "
   ]
  },
  {
   "cell_type": "code",
   "execution_count": 13,
   "metadata": {},
   "outputs": [],
   "source": [
    "train_features.trade_amount = np.log1p(train_features['trade_amount'])"
   ]
  },
  {
   "cell_type": "markdown",
   "metadata": {},
   "source": [
    "## Model Tuning & Evaluation"
   ]
  },
  {
   "cell_type": "code",
   "execution_count": null,
   "metadata": {
    "scrolled": true
   },
   "outputs": [],
   "source": [
    "# Random Forest\n",
    "model = RandomForestRegressor(n_jobs=-1, random_state=0)\n",
    "model.fit(train_features, train_target)"
   ]
  },
  {
   "cell_type": "code",
   "execution_count": 24,
   "metadata": {},
   "outputs": [],
   "source": [
    "# 예측 템플릿 만들기\n",
    "CARD_SIDO_NMs = df_num['CARD_SIDO_NM'].unique()\n",
    "STD_CLSS_NMs  = df_num['STD_CLSS_NM'].unique()\n",
    "HOM_SIDO_NMs  = df_num['HOM_SIDO_NM'].unique()\n",
    "AGEs          = df_num['AGE'].unique()\n",
    "SEX_CTGO_CDs  = df_num['SEX_CTGO_CD'].unique()\n",
    "FLCs          = df_num['FLC'].unique()\n",
    "years         = [2020]\n",
    "months        = [4, 7]\n",
    "\n",
    "temp = []\n",
    "for CARD_SIDO_NM in CARD_SIDO_NMs:\n",
    "    for STD_CLSS_NM in STD_CLSS_NMs:\n",
    "        for HOM_SIDO_NM in HOM_SIDO_NMs:\n",
    "            for AGE in AGEs:\n",
    "                for SEX_CTGO_CD in SEX_CTGO_CDs:\n",
    "                    for FLC in FLCs:\n",
    "                        for year in years:\n",
    "                            for month in months:\n",
    "                                temp.append([CARD_SIDO_NM, STD_CLSS_NM, HOM_SIDO_NM, AGE, SEX_CTGO_CD, FLC, year, month])\n",
    "temp = np.array(temp)"
   ]
  },
  {
   "cell_type": "code",
   "execution_count": 25,
   "metadata": {},
   "outputs": [],
   "source": [
    "temp = pd.DataFrame(data=temp, columns=['CARD_SIDO_NM', 'STD_CLSS_NM', 'HOM_SIDO_NM', \n",
    "                                        'AGE', 'SEX_CTGO_CD', 'FLC', 'year', 'month'])"
   ]
  },
  {
   "cell_type": "code",
   "execution_count": 26,
   "metadata": {},
   "outputs": [],
   "source": [
    "temp['kor_gdp'] = 0\n",
    "temp['trade_amount'] = 0\n",
    "\n",
    "for date, i in zip(world_gdp['Unnamed: 0'], range(len(world_gdp))):\n",
    "    temp.loc[(temp['year'] == date.year) & (temp['month'] == date.month), 'kor_gdp'] = world_gdp.iloc[i].KOR_gdp\n",
    "    \n",
    "for date, i in zip(trade_amount['Unnamed: 0'], range(len(trade_amount))):\n",
    "    temp.loc[(temp['year'] == date.year) & (temp['month'] == date.month), 'trade_amount'] = np.log1p(trade_amount.iloc[i].Value)\n",
    "    "
   ]
  },
  {
   "cell_type": "code",
   "execution_count": 27,
   "metadata": {},
   "outputs": [],
   "source": [
    "temp_temp = temp.copy()"
   ]
  },
  {
   "cell_type": "code",
   "execution_count": 111,
   "metadata": {},
   "outputs": [],
   "source": [
    "# 예측(Random Forest)\n",
    "pred = model.predict(temp)\n",
    "pred = np.expm1(pred)\n",
    "temp['AMT'] = np.round(pred, 0)\n",
    "temp['REG_YYMM'] = temp['year']*100 + temp['month']\n",
    "temp = temp[['REG_YYMM', 'CARD_SIDO_NM', 'STD_CLSS_NM', 'AMT']]\n",
    "temp = temp.groupby(['REG_YYMM', 'CARD_SIDO_NM', 'STD_CLSS_NM']).sum().reset_index(drop=False)"
   ]
  },
  {
   "cell_type": "code",
   "execution_count": 112,
   "metadata": {},
   "outputs": [],
   "source": [
    "# 디코딩 (Random Forest)\n",
    "temp['CARD_SIDO_NM'] = encoders['CARD_SIDO_NM'].inverse_transform(temp['CARD_SIDO_NM'])\n",
    "temp['STD_CLSS_NM'] = encoders['STD_CLSS_NM'].inverse_transform(temp['STD_CLSS_NM'])"
   ]
  },
  {
   "cell_type": "code",
   "execution_count": 113,
   "metadata": {},
   "outputs": [
    {
     "data": {
      "text/html": [
       "<div>\n",
       "<style scoped>\n",
       "    .dataframe tbody tr th:only-of-type {\n",
       "        vertical-align: middle;\n",
       "    }\n",
       "\n",
       "    .dataframe tbody tr th {\n",
       "        vertical-align: top;\n",
       "    }\n",
       "\n",
       "    .dataframe thead th {\n",
       "        text-align: right;\n",
       "    }\n",
       "</style>\n",
       "<table border=\"1\" class=\"dataframe\">\n",
       "  <thead>\n",
       "    <tr style=\"text-align: right;\">\n",
       "      <th></th>\n",
       "      <th>REG_YYMM</th>\n",
       "      <th>CARD_SIDO_NM</th>\n",
       "      <th>STD_CLSS_NM</th>\n",
       "      <th>AMT</th>\n",
       "    </tr>\n",
       "    <tr>\n",
       "      <th>id</th>\n",
       "      <th></th>\n",
       "      <th></th>\n",
       "      <th></th>\n",
       "      <th></th>\n",
       "    </tr>\n",
       "  </thead>\n",
       "  <tbody>\n",
       "    <tr>\n",
       "      <th>0</th>\n",
       "      <td>202004</td>\n",
       "      <td>강원</td>\n",
       "      <td>건강보조식품 소매업</td>\n",
       "      <td>4.749459e+08</td>\n",
       "    </tr>\n",
       "    <tr>\n",
       "      <th>1</th>\n",
       "      <td>202004</td>\n",
       "      <td>강원</td>\n",
       "      <td>골프장 운영업</td>\n",
       "      <td>5.737034e+09</td>\n",
       "    </tr>\n",
       "    <tr>\n",
       "      <th>2</th>\n",
       "      <td>202004</td>\n",
       "      <td>강원</td>\n",
       "      <td>과실 및 채소 소매업</td>\n",
       "      <td>1.879838e+09</td>\n",
       "    </tr>\n",
       "    <tr>\n",
       "      <th>3</th>\n",
       "      <td>202004</td>\n",
       "      <td>강원</td>\n",
       "      <td>관광 민예품 및 선물용품 소매업</td>\n",
       "      <td>1.036658e+08</td>\n",
       "    </tr>\n",
       "    <tr>\n",
       "      <th>4</th>\n",
       "      <td>202004</td>\n",
       "      <td>강원</td>\n",
       "      <td>그외 기타 분류안된 오락관련 서비스업</td>\n",
       "      <td>1.000212e+08</td>\n",
       "    </tr>\n",
       "  </tbody>\n",
       "</table>\n",
       "</div>"
      ],
      "text/plain": [
       "    REG_YYMM CARD_SIDO_NM           STD_CLSS_NM           AMT\n",
       "id                                                           \n",
       "0     202004           강원            건강보조식품 소매업  4.749459e+08\n",
       "1     202004           강원               골프장 운영업  5.737034e+09\n",
       "2     202004           강원           과실 및 채소 소매업  1.879838e+09\n",
       "3     202004           강원     관광 민예품 및 선물용품 소매업  1.036658e+08\n",
       "4     202004           강원  그외 기타 분류안된 오락관련 서비스업  1.000212e+08"
      ]
     },
     "execution_count": 113,
     "metadata": {},
     "output_type": "execute_result"
    }
   ],
   "source": [
    "# 제출 파일 만들기(Random Forest)\n",
    "submission = pd.read_csv('../../Data/Jeju/submission.csv', index_col=0)\n",
    "submission = submission.drop(['AMT'], axis=1)\n",
    "submission = submission.merge(temp, left_on=['REG_YYMM', 'CARD_SIDO_NM', 'STD_CLSS_NM'], right_on=['REG_YYMM', 'CARD_SIDO_NM', 'STD_CLSS_NM'], how='left')\n",
    "submission.index.name = 'id'\n",
    "submission.to_csv('submission/kor_gdp_trade_amount_RF.csv', encoding='utf-8-sig')\n",
    "submission.head()"
   ]
  },
  {
   "cell_type": "code",
   "execution_count": null,
   "metadata": {},
   "outputs": [],
   "source": []
  },
  {
   "cell_type": "code",
   "execution_count": 35,
   "metadata": {},
   "outputs": [
    {
     "data": {
      "text/html": [
       "<div>\n",
       "<style scoped>\n",
       "    .dataframe tbody tr th:only-of-type {\n",
       "        vertical-align: middle;\n",
       "    }\n",
       "\n",
       "    .dataframe tbody tr th {\n",
       "        vertical-align: top;\n",
       "    }\n",
       "\n",
       "    .dataframe thead th {\n",
       "        text-align: right;\n",
       "    }\n",
       "</style>\n",
       "<table border=\"1\" class=\"dataframe\">\n",
       "  <thead>\n",
       "    <tr style=\"text-align: right;\">\n",
       "      <th></th>\n",
       "      <th>CARD_SIDO_NM</th>\n",
       "      <th>STD_CLSS_NM</th>\n",
       "      <th>HOM_SIDO_NM</th>\n",
       "      <th>AGE</th>\n",
       "      <th>SEX_CTGO_CD</th>\n",
       "      <th>FLC</th>\n",
       "      <th>year</th>\n",
       "      <th>month</th>\n",
       "      <th>kor_gdp</th>\n",
       "      <th>trade_amount</th>\n",
       "    </tr>\n",
       "  </thead>\n",
       "  <tbody>\n",
       "    <tr>\n",
       "      <th>149245</th>\n",
       "      <td>2</td>\n",
       "      <td>4</td>\n",
       "      <td>2</td>\n",
       "      <td>2</td>\n",
       "      <td>1</td>\n",
       "      <td>2</td>\n",
       "      <td>2019</td>\n",
       "      <td>4</td>\n",
       "      <td>4.118698</td>\n",
       "      <td>27.141631</td>\n",
       "    </tr>\n",
       "    <tr>\n",
       "      <th>554956</th>\n",
       "      <td>8</td>\n",
       "      <td>26</td>\n",
       "      <td>11</td>\n",
       "      <td>1</td>\n",
       "      <td>1</td>\n",
       "      <td>2</td>\n",
       "      <td>2020</td>\n",
       "      <td>2</td>\n",
       "      <td>-5.029080</td>\n",
       "      <td>27.121861</td>\n",
       "    </tr>\n",
       "    <tr>\n",
       "      <th>918516</th>\n",
       "      <td>14</td>\n",
       "      <td>33</td>\n",
       "      <td>14</td>\n",
       "      <td>4</td>\n",
       "      <td>2</td>\n",
       "      <td>4</td>\n",
       "      <td>2019</td>\n",
       "      <td>5</td>\n",
       "      <td>4.118698</td>\n",
       "      <td>27.141631</td>\n",
       "    </tr>\n",
       "    <tr>\n",
       "      <th>425414</th>\n",
       "      <td>7</td>\n",
       "      <td>18</td>\n",
       "      <td>8</td>\n",
       "      <td>2</td>\n",
       "      <td>2</td>\n",
       "      <td>1</td>\n",
       "      <td>2019</td>\n",
       "      <td>10</td>\n",
       "      <td>5.350648</td>\n",
       "      <td>27.157812</td>\n",
       "    </tr>\n",
       "    <tr>\n",
       "      <th>640949</th>\n",
       "      <td>9</td>\n",
       "      <td>39</td>\n",
       "      <td>16</td>\n",
       "      <td>5</td>\n",
       "      <td>2</td>\n",
       "      <td>5</td>\n",
       "      <td>2020</td>\n",
       "      <td>1</td>\n",
       "      <td>-5.029080</td>\n",
       "      <td>27.121861</td>\n",
       "    </tr>\n",
       "    <tr>\n",
       "      <th>...</th>\n",
       "      <td>...</td>\n",
       "      <td>...</td>\n",
       "      <td>...</td>\n",
       "      <td>...</td>\n",
       "      <td>...</td>\n",
       "      <td>...</td>\n",
       "      <td>...</td>\n",
       "      <td>...</td>\n",
       "      <td>...</td>\n",
       "      <td>...</td>\n",
       "    </tr>\n",
       "    <tr>\n",
       "      <th>359783</th>\n",
       "      <td>6</td>\n",
       "      <td>16</td>\n",
       "      <td>9</td>\n",
       "      <td>1</td>\n",
       "      <td>1</td>\n",
       "      <td>1</td>\n",
       "      <td>2019</td>\n",
       "      <td>12</td>\n",
       "      <td>5.350648</td>\n",
       "      <td>27.157812</td>\n",
       "    </tr>\n",
       "    <tr>\n",
       "      <th>152315</th>\n",
       "      <td>2</td>\n",
       "      <td>7</td>\n",
       "      <td>11</td>\n",
       "      <td>3</td>\n",
       "      <td>2</td>\n",
       "      <td>3</td>\n",
       "      <td>2020</td>\n",
       "      <td>3</td>\n",
       "      <td>-5.029080</td>\n",
       "      <td>27.121861</td>\n",
       "    </tr>\n",
       "    <tr>\n",
       "      <th>963395</th>\n",
       "      <td>15</td>\n",
       "      <td>19</td>\n",
       "      <td>9</td>\n",
       "      <td>5</td>\n",
       "      <td>1</td>\n",
       "      <td>5</td>\n",
       "      <td>2020</td>\n",
       "      <td>2</td>\n",
       "      <td>-5.029080</td>\n",
       "      <td>27.121861</td>\n",
       "    </tr>\n",
       "    <tr>\n",
       "      <th>117952</th>\n",
       "      <td>1</td>\n",
       "      <td>31</td>\n",
       "      <td>4</td>\n",
       "      <td>1</td>\n",
       "      <td>1</td>\n",
       "      <td>2</td>\n",
       "      <td>2019</td>\n",
       "      <td>7</td>\n",
       "      <td>1.510299</td>\n",
       "      <td>27.154597</td>\n",
       "    </tr>\n",
       "    <tr>\n",
       "      <th>305711</th>\n",
       "      <td>5</td>\n",
       "      <td>11</td>\n",
       "      <td>8</td>\n",
       "      <td>2</td>\n",
       "      <td>1</td>\n",
       "      <td>2</td>\n",
       "      <td>2019</td>\n",
       "      <td>3</td>\n",
       "      <td>-1.351869</td>\n",
       "      <td>27.113507</td>\n",
       "    </tr>\n",
       "  </tbody>\n",
       "</table>\n",
       "<p>1057394 rows × 10 columns</p>\n",
       "</div>"
      ],
      "text/plain": [
       "        CARD_SIDO_NM  STD_CLSS_NM  HOM_SIDO_NM  AGE  SEX_CTGO_CD  FLC  year  \\\n",
       "149245             2            4            2    2            1    2  2019   \n",
       "554956             8           26           11    1            1    2  2020   \n",
       "918516            14           33           14    4            2    4  2019   \n",
       "425414             7           18            8    2            2    1  2019   \n",
       "640949             9           39           16    5            2    5  2020   \n",
       "...              ...          ...          ...  ...          ...  ...   ...   \n",
       "359783             6           16            9    1            1    1  2019   \n",
       "152315             2            7           11    3            2    3  2020   \n",
       "963395            15           19            9    5            1    5  2020   \n",
       "117952             1           31            4    1            1    2  2019   \n",
       "305711             5           11            8    2            1    2  2019   \n",
       "\n",
       "        month   kor_gdp  trade_amount  \n",
       "149245      4  4.118698     27.141631  \n",
       "554956      2 -5.029080     27.121861  \n",
       "918516      5  4.118698     27.141631  \n",
       "425414     10  5.350648     27.157812  \n",
       "640949      1 -5.029080     27.121861  \n",
       "...       ...       ...           ...  \n",
       "359783     12  5.350648     27.157812  \n",
       "152315      3 -5.029080     27.121861  \n",
       "963395      2 -5.029080     27.121861  \n",
       "117952      7  1.510299     27.154597  \n",
       "305711      3 -1.351869     27.113507  \n",
       "\n",
       "[1057394 rows x 10 columns]"
      ]
     },
     "execution_count": 35,
     "metadata": {},
     "output_type": "execute_result"
    }
   ],
   "source": [
    "train_features"
   ]
  },
  {
   "cell_type": "code",
   "execution_count": 37,
   "metadata": {},
   "outputs": [
    {
     "data": {
      "text/plain": [
       "149245    12.524530\n",
       "554956    11.399768\n",
       "918516    20.495010\n",
       "425414    14.850157\n",
       "640949    12.762830\n",
       "            ...    \n",
       "359783    15.138871\n",
       "152315    12.345448\n",
       "963395    13.691082\n",
       "117952    11.584697\n",
       "305711    12.944458\n",
       "Name: AMT, Length: 1057394, dtype: float64"
      ]
     },
     "execution_count": 37,
     "metadata": {},
     "output_type": "execute_result"
    }
   ],
   "source": [
    "train_target"
   ]
  },
  {
   "cell_type": "code",
   "execution_count": 14,
   "metadata": {},
   "outputs": [],
   "source": [
    "import lightgbm as lgb\n",
    "from sklearn.model_selection import train_test_split"
   ]
  },
  {
   "cell_type": "code",
   "execution_count": 91,
   "metadata": {},
   "outputs": [],
   "source": [
    "k = int(len(train_features)*0.8)"
   ]
  },
  {
   "cell_type": "code",
   "execution_count": 92,
   "metadata": {},
   "outputs": [],
   "source": [
    "\"\"\"x_train = train_features[:k]\n",
    "y_train = train_target[:k]\n",
    "x_val = train_features[k:]\n",
    "y_val = train_target[k:]\"\"\""
   ]
  },
  {
   "cell_type": "code",
   "execution_count": null,
   "metadata": {},
   "outputs": [],
   "source": []
  },
  {
   "cell_type": "code",
   "execution_count": null,
   "metadata": {},
   "outputs": [],
   "source": []
  },
  {
   "cell_type": "code",
   "execution_count": 17,
   "metadata": {},
   "outputs": [],
   "source": [
    " x_train, x_val, y_train, y_val = train_test_split(train_features, train_target, random_state=42)"
   ]
  },
  {
   "cell_type": "code",
   "execution_count": 18,
   "metadata": {},
   "outputs": [],
   "source": [
    "train_ds = lgb.Dataset(x_train, label=y_train)\n",
    "val_ds = lgb.Dataset(x_val, label=y_val)"
   ]
  },
  {
   "cell_type": "code",
   "execution_count": 19,
   "metadata": {},
   "outputs": [],
   "source": [
    "params = {\n",
    "    'boosting_type': 'gbdt',\n",
    "    'objective': 'tweedie',\n",
    "    'metric': 'rmse',\n",
    "    'tweedie_variance_power':1.1,\n",
    "    'max_depth':11,\n",
    "    'num_leaves': 31,\n",
    "    'learning_rate': 0.05,\n",
    "    'feature_fraction': 0.9,\n",
    "    'bagging_fraction': 0.8,\n",
    "    'bagging_freq': 5,\n",
    "    'verbose': 0}"
   ]
  },
  {
   "cell_type": "code",
   "execution_count": 20,
   "metadata": {
    "scrolled": true
   },
   "outputs": [
    {
     "name": "stdout",
     "output_type": "stream",
     "text": [
      "Training until validation scores don't improve for 100 rounds\n",
      "[100]\tvalid_0's rmse: 1.98669\n",
      "[200]\tvalid_0's rmse: 1.80375\n",
      "[300]\tvalid_0's rmse: 1.69015\n",
      "[400]\tvalid_0's rmse: 1.61141\n",
      "[500]\tvalid_0's rmse: 1.53833\n",
      "[600]\tvalid_0's rmse: 1.47842\n",
      "[700]\tvalid_0's rmse: 1.42226\n",
      "[800]\tvalid_0's rmse: 1.37346\n",
      "[900]\tvalid_0's rmse: 1.33202\n",
      "[1000]\tvalid_0's rmse: 1.28655\n",
      "[1100]\tvalid_0's rmse: 1.25005\n",
      "[1200]\tvalid_0's rmse: 1.22082\n",
      "[1300]\tvalid_0's rmse: 1.19277\n",
      "[1400]\tvalid_0's rmse: 1.16522\n",
      "[1500]\tvalid_0's rmse: 1.14432\n",
      "[1600]\tvalid_0's rmse: 1.12369\n",
      "[1700]\tvalid_0's rmse: 1.10586\n",
      "[1800]\tvalid_0's rmse: 1.08761\n",
      "[1900]\tvalid_0's rmse: 1.07134\n",
      "[2000]\tvalid_0's rmse: 1.05942\n",
      "Did not meet early stopping. Best iteration is:\n",
      "[2000]\tvalid_0's rmse: 1.05942\n"
     ]
    }
   ],
   "source": [
    "model = lgb.train(params,\n",
    "                  train_ds,\n",
    "                  2000,\n",
    "                  val_ds,\n",
    "                  verbose_eval = 100,\n",
    "                  early_stopping_rounds = 100\n",
    "                 )"
   ]
  },
  {
   "cell_type": "code",
   "execution_count": 28,
   "metadata": {},
   "outputs": [],
   "source": [
    "temp = temp_temp"
   ]
  },
  {
   "cell_type": "code",
   "execution_count": 29,
   "metadata": {},
   "outputs": [],
   "source": [
    "pred = model.predict(temp)\n",
    "pred = np.expm1(pred)\n",
    "temp['AMT'] = np.round(pred, 0)\n",
    "temp['REG_YYMM'] = temp['year']*100 + temp['month']\n",
    "temp = temp[['REG_YYMM', 'CARD_SIDO_NM', 'STD_CLSS_NM', 'AMT']]\n",
    "temp = temp.groupby(['REG_YYMM', 'CARD_SIDO_NM', 'STD_CLSS_NM']).sum().reset_index(drop=False)"
   ]
  },
  {
   "cell_type": "code",
   "execution_count": 30,
   "metadata": {},
   "outputs": [],
   "source": [
    "temp['CARD_SIDO_NM'] = encoders['CARD_SIDO_NM'].inverse_transform(temp['CARD_SIDO_NM'])\n",
    "temp['STD_CLSS_NM'] = encoders['STD_CLSS_NM'].inverse_transform(temp['STD_CLSS_NM'])"
   ]
  },
  {
   "cell_type": "code",
   "execution_count": null,
   "metadata": {},
   "outputs": [],
   "source": []
  },
  {
   "cell_type": "code",
   "execution_count": 31,
   "metadata": {},
   "outputs": [
    {
     "data": {
      "text/html": [
       "<div>\n",
       "<style scoped>\n",
       "    .dataframe tbody tr th:only-of-type {\n",
       "        vertical-align: middle;\n",
       "    }\n",
       "\n",
       "    .dataframe tbody tr th {\n",
       "        vertical-align: top;\n",
       "    }\n",
       "\n",
       "    .dataframe thead th {\n",
       "        text-align: right;\n",
       "    }\n",
       "</style>\n",
       "<table border=\"1\" class=\"dataframe\">\n",
       "  <thead>\n",
       "    <tr style=\"text-align: right;\">\n",
       "      <th></th>\n",
       "      <th>REG_YYMM</th>\n",
       "      <th>CARD_SIDO_NM</th>\n",
       "      <th>STD_CLSS_NM</th>\n",
       "      <th>AMT</th>\n",
       "    </tr>\n",
       "    <tr>\n",
       "      <th>id</th>\n",
       "      <th></th>\n",
       "      <th></th>\n",
       "      <th></th>\n",
       "      <th></th>\n",
       "    </tr>\n",
       "  </thead>\n",
       "  <tbody>\n",
       "    <tr>\n",
       "      <th>0</th>\n",
       "      <td>202004</td>\n",
       "      <td>강원</td>\n",
       "      <td>건강보조식품 소매업</td>\n",
       "      <td>1.915810e+08</td>\n",
       "    </tr>\n",
       "    <tr>\n",
       "      <th>1</th>\n",
       "      <td>202004</td>\n",
       "      <td>강원</td>\n",
       "      <td>골프장 운영업</td>\n",
       "      <td>2.495096e+09</td>\n",
       "    </tr>\n",
       "    <tr>\n",
       "      <th>2</th>\n",
       "      <td>202004</td>\n",
       "      <td>강원</td>\n",
       "      <td>과실 및 채소 소매업</td>\n",
       "      <td>7.749600e+08</td>\n",
       "    </tr>\n",
       "    <tr>\n",
       "      <th>3</th>\n",
       "      <td>202004</td>\n",
       "      <td>강원</td>\n",
       "      <td>관광 민예품 및 선물용품 소매업</td>\n",
       "      <td>4.122657e+07</td>\n",
       "    </tr>\n",
       "    <tr>\n",
       "      <th>4</th>\n",
       "      <td>202004</td>\n",
       "      <td>강원</td>\n",
       "      <td>그외 기타 분류안된 오락관련 서비스업</td>\n",
       "      <td>1.402082e+07</td>\n",
       "    </tr>\n",
       "  </tbody>\n",
       "</table>\n",
       "</div>"
      ],
      "text/plain": [
       "    REG_YYMM CARD_SIDO_NM           STD_CLSS_NM           AMT\n",
       "id                                                           \n",
       "0     202004           강원            건강보조식품 소매업  1.915810e+08\n",
       "1     202004           강원               골프장 운영업  2.495096e+09\n",
       "2     202004           강원           과실 및 채소 소매업  7.749600e+08\n",
       "3     202004           강원     관광 민예품 및 선물용품 소매업  4.122657e+07\n",
       "4     202004           강원  그외 기타 분류안된 오락관련 서비스업  1.402082e+07"
      ]
     },
     "execution_count": 31,
     "metadata": {},
     "output_type": "execute_result"
    }
   ],
   "source": [
    "\n",
    "submission = pd.read_csv('../../Data/Jeju/submission.csv', index_col=0)\n",
    "submission = submission.drop(['AMT'], axis=1)\n",
    "submission = submission.merge(temp, left_on=['REG_YYMM', 'CARD_SIDO_NM', 'STD_CLSS_NM'], right_on=['REG_YYMM', 'CARD_SIDO_NM', 'STD_CLSS_NM'], how='left')\n",
    "submission.index.name = 'id'\n",
    "submission.to_csv('submission/lightgbm_korea_gdp_trade_amount_2.csv', encoding='utf-8-sig')\n",
    "submission.head()"
   ]
  },
  {
   "cell_type": "code",
   "execution_count": null,
   "metadata": {},
   "outputs": [],
   "source": []
  }
 ],
 "metadata": {
  "kernelspec": {
   "display_name": "Python 3",
   "language": "python",
   "name": "python3"
  },
  "language_info": {
   "codemirror_mode": {
    "name": "ipython",
    "version": 3
   },
   "file_extension": ".py",
   "mimetype": "text/x-python",
   "name": "python",
   "nbconvert_exporter": "python",
   "pygments_lexer": "ipython3",
   "version": "3.7.7"
  }
 },
 "nbformat": 4,
 "nbformat_minor": 4
}
