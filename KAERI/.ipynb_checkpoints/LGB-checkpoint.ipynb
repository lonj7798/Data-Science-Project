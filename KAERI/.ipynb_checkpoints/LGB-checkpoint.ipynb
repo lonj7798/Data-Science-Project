{
 "cells": [
  {
   "cell_type": "code",
   "execution_count": 27,
   "metadata": {},
   "outputs": [],
   "source": [
    "import pandas as pd\n",
    "import numpy as np \n",
    "\n",
    "import matplotlib.pyplot as plt\n",
    "import seaborn as sns\n",
    "%matplotlib inline"
   ]
  },
  {
   "cell_type": "code",
   "execution_count": 28,
   "metadata": {},
   "outputs": [],
   "source": [
    "train_features = pd.read_csv('../../Data/KAERI/train_features.csv')\n",
    "train_target = pd.read_csv('../../Data/KAERI/train_target.csv', index_col = 'id')\n",
    "test_features = pd.read_csv('../../Data/KAERI/test_features.csv')"
   ]
  },
  {
   "cell_type": "code",
   "execution_count": 29,
   "metadata": {},
   "outputs": [],
   "source": [
    "def preprocessing_KAERI(data) :\n",
    "    '''\n",
    "    data: train_features.csv or test_features.csv\n",
    "    \n",
    "    return: Random Forest 모델 입력용 데이터\n",
    "    '''\n",
    "    \n",
    "    # 충돌체 별로 0.000116 초 까지의 가속도 데이터만 활용해보기 \n",
    "    _data = data.groupby('id').head(20)\n",
    "    \n",
    "    # string 형태로 변환\n",
    "    _data['Time'] = _data['Time'].astype('str')\n",
    "    \n",
    "    # Random Forest 모델에 입력 할 수 있는 1차원 형태로 가속도 데이터 변환\n",
    "    _data = _data.pivot_table(index = 'id', columns = 'Time', values = ['S1', 'S2', 'S3', 'S4'])\n",
    "    \n",
    "    # column 명 변환\n",
    "    _data.columns = ['_'.join(col) for col in _data.columns.values]\n",
    "    \n",
    "    return _data"
   ]
  },
  {
   "cell_type": "code",
   "execution_count": 30,
   "metadata": {},
   "outputs": [
    {
     "name": "stderr",
     "output_type": "stream",
     "text": [
      "C:\\Users\\lonj7\\Anaconda3\\lib\\site-packages\\ipykernel_launcher.py:12: SettingWithCopyWarning: \n",
      "A value is trying to be set on a copy of a slice from a DataFrame.\n",
      "Try using .loc[row_indexer,col_indexer] = value instead\n",
      "\n",
      "See the caveats in the documentation: https://pandas.pydata.org/pandas-docs/stable/user_guide/indexing.html#returning-a-view-versus-a-copy\n",
      "  if sys.path[0] == '':\n"
     ]
    }
   ],
   "source": [
    "train_features = preprocessing_KAERI(train_features)\n",
    "test_features = preprocessing_KAERI(test_features)"
   ]
  },
  {
   "cell_type": "code",
   "execution_count": 55,
   "metadata": {},
   "outputs": [],
   "source": [
    "import sklearn\n",
    "from sklearn.metrics import mean_squared_error\n",
    "from sklearn.model_selection import train_test_split"
   ]
  },
  {
   "cell_type": "code",
   "execution_count": 56,
   "metadata": {},
   "outputs": [],
   "source": [
    "X_train, X_test, y_train, y_test = train_test_split(train_features, train_target, test_size=0.2, shuffle=123)"
   ]
  },
  {
   "cell_type": "code",
   "execution_count": 57,
   "metadata": {},
   "outputs": [],
   "source": [
    "import lightgbm as lgb"
   ]
  },
  {
   "cell_type": "code",
   "execution_count": 60,
   "metadata": {},
   "outputs": [],
   "source": [
    "train_data_X = lgb.Dataset(X_train, label=y_train.X)\n",
    "test_data_X = lgb.Dataset(X_test, label=y_test.X)\n",
    "\n",
    "train_data_Y = lgb.Dataset(X_train, label=y_train.Y)\n",
    "test_data_Y = lgb.Dataset(X_test, label=y_test.Y)\n",
    "\n",
    "train_data_M = lgb.Dataset(X_train, label=y_train.M)\n",
    "test_data_M = lgb.Dataset(X_test, label=y_test.M)\n",
    "\n",
    "train_data_V = lgb.Dataset(X_train, label=y_train.V)\n",
    "test_data_V = lgb.Dataset(X_test, label=y_test.V)"
   ]
  },
  {
   "cell_type": "code",
   "execution_count": 74,
   "metadata": {},
   "outputs": [],
   "source": [
    "params = {'learning_rate': 0.01, \n",
    "          'max_depth': 16, \n",
    "          'boosting': 'gbdt', \n",
    "          'objective': 'regression', \n",
    "          'metric': 'mse', \n",
    "          'is_training_metric': True, \n",
    "          'num_leaves': 144, \n",
    "          'feature_fraction': 0.9, \n",
    "          'bagging_fraction': 0.7, \n",
    "          'bagging_freq': 5, \n",
    "          'seed':2018}"
   ]
  },
  {
   "cell_type": "code",
   "execution_count": 89,
   "metadata": {},
   "outputs": [],
   "source": [
    "params1 = {    \n",
    "    'objective': 'binary',\n",
    "    'boosting': 'gbdt',\n",
    "    'metrics':'auc'\n",
    "} "
   ]
  },
  {
   "cell_type": "code",
   "execution_count": 90,
   "metadata": {},
   "outputs": [
    {
     "name": "stdout",
     "output_type": "stream",
     "text": [
      "Training until validation scores don't improve for 500 rounds\n",
      "[10]\tvalid_0's auc: 0.990869\n",
      "[20]\tvalid_0's auc: 0.992102\n",
      "[30]\tvalid_0's auc: 0.993489\n",
      "[40]\tvalid_0's auc: 0.993502\n",
      "[50]\tvalid_0's auc: 0.993502\n",
      "[60]\tvalid_0's auc: 0.99345\n",
      "[70]\tvalid_0's auc: 0.993334\n",
      "[80]\tvalid_0's auc: 0.993074\n",
      "[90]\tvalid_0's auc: 0.993113\n",
      "[100]\tvalid_0's auc: 0.993204\n",
      "[110]\tvalid_0's auc: 0.993113\n",
      "[120]\tvalid_0's auc: 0.993035\n",
      "[130]\tvalid_0's auc: 0.993009\n",
      "[140]\tvalid_0's auc: 0.992945\n",
      "[150]\tvalid_0's auc: 0.992893\n",
      "[160]\tvalid_0's auc: 0.992737\n",
      "[170]\tvalid_0's auc: 0.992335\n",
      "[180]\tvalid_0's auc: 0.992102\n",
      "[190]\tvalid_0's auc: 0.992011\n",
      "[200]\tvalid_0's auc: 0.991985\n",
      "[210]\tvalid_0's auc: 0.992037\n",
      "[220]\tvalid_0's auc: 0.992011\n",
      "[230]\tvalid_0's auc: 0.992063\n",
      "[240]\tvalid_0's auc: 0.992037\n",
      "[250]\tvalid_0's auc: 0.991972\n",
      "[260]\tvalid_0's auc: 0.991868\n",
      "[270]\tvalid_0's auc: 0.991894\n",
      "[280]\tvalid_0's auc: 0.991894\n",
      "[290]\tvalid_0's auc: 0.991855\n",
      "[300]\tvalid_0's auc: 0.991803\n",
      "[310]\tvalid_0's auc: 0.99179\n",
      "[320]\tvalid_0's auc: 0.99179\n",
      "[330]\tvalid_0's auc: 0.991829\n",
      "[340]\tvalid_0's auc: 0.991764\n",
      "[350]\tvalid_0's auc: 0.991725\n",
      "[360]\tvalid_0's auc: 0.991687\n",
      "[370]\tvalid_0's auc: 0.991635\n",
      "[380]\tvalid_0's auc: 0.991596\n",
      "[390]\tvalid_0's auc: 0.99157\n",
      "[400]\tvalid_0's auc: 0.991492\n",
      "[410]\tvalid_0's auc: 0.991531\n",
      "[420]\tvalid_0's auc: 0.991479\n",
      "[430]\tvalid_0's auc: 0.991466\n",
      "[440]\tvalid_0's auc: 0.99144\n",
      "[450]\tvalid_0's auc: 0.99131\n",
      "[460]\tvalid_0's auc: 0.991336\n",
      "[470]\tvalid_0's auc: 0.991375\n",
      "[480]\tvalid_0's auc: 0.991259\n",
      "[490]\tvalid_0's auc: 0.991284\n",
      "[500]\tvalid_0's auc: 0.991284\n",
      "[510]\tvalid_0's auc: 0.991103\n",
      "[520]\tvalid_0's auc: 0.990947\n",
      "[530]\tvalid_0's auc: 0.990934\n",
      "Early stopping, best iteration is:\n",
      "[31]\tvalid_0's auc: 0.993528\n"
     ]
    }
   ],
   "source": [
    "model_X = lgb.train(params1, train_data_X, 5000, test_data_X, verbose_eval=10, early_stopping_rounds=500)"
   ]
  },
  {
   "cell_type": "code",
   "execution_count": 76,
   "metadata": {},
   "outputs": [
    {
     "name": "stdout",
     "output_type": "stream",
     "text": [
      "Training until validation scores don't improve for 100 rounds\n",
      "[100]\tvalid_0's l2: 9631.1\n",
      "[200]\tvalid_0's l2: 1309.23\n",
      "[300]\tvalid_0's l2: 184.373\n",
      "[400]\tvalid_0's l2: 30.3582\n",
      "[500]\tvalid_0's l2: 8.52455\n",
      "[600]\tvalid_0's l2: 5.12762\n",
      "[700]\tvalid_0's l2: 4.29488\n",
      "[800]\tvalid_0's l2: 4.00324\n",
      "[900]\tvalid_0's l2: 3.78555\n",
      "[1000]\tvalid_0's l2: 3.6628\n",
      "[1100]\tvalid_0's l2: 3.57839\n",
      "[1200]\tvalid_0's l2: 3.52502\n",
      "[1300]\tvalid_0's l2: 3.4258\n",
      "[1400]\tvalid_0's l2: 3.35416\n",
      "[1500]\tvalid_0's l2: 3.2624\n",
      "[1600]\tvalid_0's l2: 3.18965\n",
      "[1700]\tvalid_0's l2: 3.1627\n",
      "[1800]\tvalid_0's l2: 3.15466\n",
      "[1900]\tvalid_0's l2: 3.13541\n",
      "[2000]\tvalid_0's l2: 3.10194\n",
      "Did not meet early stopping. Best iteration is:\n",
      "[1970]\tvalid_0's l2: 3.10133\n"
     ]
    }
   ],
   "source": [
    "model_Y = lgb.train(params, train_data_Y, 2000, test_data_Y, verbose_eval=100, early_stopping_rounds=100)"
   ]
  },
  {
   "cell_type": "code",
   "execution_count": 77,
   "metadata": {},
   "outputs": [
    {
     "name": "stdout",
     "output_type": "stream",
     "text": [
      "Training until validation scores don't improve for 100 rounds\n",
      "[100]\tvalid_0's l2: 1279.01\n",
      "[200]\tvalid_0's l2: 940.354\n",
      "[300]\tvalid_0's l2: 794.82\n",
      "[400]\tvalid_0's l2: 714.66\n",
      "[500]\tvalid_0's l2: 652.092\n",
      "[600]\tvalid_0's l2: 611.214\n",
      "[700]\tvalid_0's l2: 579.729\n",
      "[800]\tvalid_0's l2: 555.08\n",
      "[900]\tvalid_0's l2: 532.334\n",
      "[1000]\tvalid_0's l2: 513.306\n",
      "[1100]\tvalid_0's l2: 495.94\n",
      "[1200]\tvalid_0's l2: 480.888\n",
      "[1300]\tvalid_0's l2: 466.765\n",
      "[1400]\tvalid_0's l2: 453.782\n",
      "[1500]\tvalid_0's l2: 440.452\n",
      "[1600]\tvalid_0's l2: 430.042\n",
      "[1700]\tvalid_0's l2: 420.387\n",
      "[1800]\tvalid_0's l2: 412.806\n",
      "[1900]\tvalid_0's l2: 403.801\n",
      "[2000]\tvalid_0's l2: 396.395\n",
      "Did not meet early stopping. Best iteration is:\n",
      "[1998]\tvalid_0's l2: 396.366\n"
     ]
    }
   ],
   "source": [
    "model_M = lgb.train(params, train_data_M, 2000, test_data_M, verbose_eval=100, early_stopping_rounds=100)"
   ]
  },
  {
   "cell_type": "code",
   "execution_count": 78,
   "metadata": {
    "scrolled": true
   },
   "outputs": [
    {
     "name": "stdout",
     "output_type": "stream",
     "text": [
      "Training until validation scores don't improve for 100 rounds\n",
      "[100]\tvalid_0's l2: 0.0211927\n",
      "[200]\tvalid_0's l2: 0.00748897\n",
      "[300]\tvalid_0's l2: 0.00396722\n",
      "[400]\tvalid_0's l2: 0.00266541\n",
      "[500]\tvalid_0's l2: 0.00204731\n",
      "[600]\tvalid_0's l2: 0.00174317\n",
      "[700]\tvalid_0's l2: 0.00151635\n",
      "[800]\tvalid_0's l2: 0.00138147\n",
      "[900]\tvalid_0's l2: 0.00128213\n",
      "[1000]\tvalid_0's l2: 0.00121045\n",
      "[1100]\tvalid_0's l2: 0.00115406\n",
      "[1200]\tvalid_0's l2: 0.0011024\n",
      "[1300]\tvalid_0's l2: 0.00106721\n",
      "[1400]\tvalid_0's l2: 0.00102903\n",
      "[1500]\tvalid_0's l2: 0.00100398\n",
      "[1600]\tvalid_0's l2: 0.000981972\n",
      "[1700]\tvalid_0's l2: 0.000960625\n",
      "[1800]\tvalid_0's l2: 0.000940758\n",
      "[1900]\tvalid_0's l2: 0.000922538\n",
      "[2000]\tvalid_0's l2: 0.000907647\n",
      "Did not meet early stopping. Best iteration is:\n",
      "[2000]\tvalid_0's l2: 0.000907647\n"
     ]
    }
   ],
   "source": [
    "model_V = lgb.train(params, train_data_V, 2000, test_data_V, verbose_eval=100, early_stopping_rounds=100)"
   ]
  },
  {
   "cell_type": "code",
   "execution_count": 92,
   "metadata": {},
   "outputs": [
    {
     "data": {
      "text/plain": [
       "id\n",
       "1201    400.0\n",
       "333    -400.0\n",
       "349     200.0\n",
       "1051   -300.0\n",
       "674     200.0\n",
       "        ...  \n",
       "2407    300.0\n",
       "2007    200.0\n",
       "1037      0.0\n",
       "1137    400.0\n",
       "624     200.0\n",
       "Name: X, Length: 2240, dtype: float64"
      ]
     },
     "execution_count": 92,
     "metadata": {},
     "output_type": "execute_result"
    }
   ],
   "source": [
    "y_train.X"
   ]
  },
  {
   "cell_type": "code",
   "execution_count": 91,
   "metadata": {},
   "outputs": [
    {
     "data": {
      "text/plain": [
       "array([0.01982708, 0.9763434 , 0.01982708, 0.97427211, 0.01982708,\n",
       "       0.9763434 , 0.01982708, 0.01982708, 0.01982708, 0.77583036,\n",
       "       0.01979504, 0.01982708, 0.98048258, 0.01979504, 0.01979504,\n",
       "       0.0313124 , 0.34966356, 0.01982708, 0.49325084, 0.33885906,\n",
       "       0.9763434 , 0.01968832, 0.97634332, 0.9763434 , 0.9763434 ,\n",
       "       0.9763434 , 0.98048258, 0.97427211, 0.97634332, 0.76554986,\n",
       "       0.97634238, 0.01982708, 0.9763434 , 0.01982708, 0.97553457,\n",
       "       0.01982708, 0.01982708, 0.92692275, 0.01982708, 0.02204832,\n",
       "       0.97634332, 0.0135116 , 0.0198266 , 0.02384575, 0.01982708,\n",
       "       0.9763423 , 0.34966356, 0.97634238, 0.97632309, 0.97634238,\n",
       "       0.01968832, 0.9763434 , 0.01946328, 0.9763434 , 0.01982708,\n",
       "       0.01982708, 0.01955978, 0.97634238, 0.01982708, 0.01982708,\n",
       "       0.01982708, 0.97634238, 0.01979504, 0.01957673, 0.01968832,\n",
       "       0.97634238, 0.9763412 , 0.97634332, 0.34966356, 0.01979504,\n",
       "       0.01982708, 0.01982708, 0.01982708, 0.34966356, 0.97268293,\n",
       "       0.01979504, 0.34966356, 0.97427211, 0.01979504, 0.97638749,\n",
       "       0.9763434 , 0.01982708, 0.01982708, 0.01982708, 0.97634332,\n",
       "       0.34966356, 0.97553174, 0.01982708, 0.01982708, 0.97634238,\n",
       "       0.9763434 , 0.98048258, 0.01979504, 0.01946328, 0.51836832,\n",
       "       0.01982708, 0.01982708, 0.34966356, 0.97022691, 0.01982708,\n",
       "       0.9763434 , 0.97633976, 0.01982744, 0.01982708, 0.02822056,\n",
       "       0.9763434 , 0.01982708, 0.01982708, 0.93517165, 0.42148764,\n",
       "       0.01979504, 0.97022691, 0.02204832, 0.01979504, 0.01982708,\n",
       "       0.02426872, 0.01982708, 0.01982708, 0.97695537, 0.97427211,\n",
       "       0.9763423 , 0.97379216, 0.01982708, 0.51917231, 0.97634331,\n",
       "       0.01982708, 0.01982708, 0.01982708, 0.01982708, 0.91807307,\n",
       "       0.01982708, 0.0198266 , 0.97063428, 0.01979504, 0.97634238,\n",
       "       0.01982708, 0.01979504, 0.97634238, 0.33885906, 0.01894944,\n",
       "       0.01982708, 0.01982708, 0.0198428 , 0.01982708, 0.02800252,\n",
       "       0.02204832, 0.97634238, 0.25743959, 0.92586834, 0.68856046,\n",
       "       0.4539909 , 0.24355399, 0.34966356, 0.97733448, 0.97379216,\n",
       "       0.02851445, 0.01982708, 0.01982744, 0.01982708, 0.01982708,\n",
       "       0.01982708, 0.01982708, 0.01959982, 0.34966356, 0.01982708,\n",
       "       0.98048258, 0.01982708, 0.97634894, 0.7655572 , 0.97836474,\n",
       "       0.01894944, 0.9763423 , 0.97022691, 0.34966356, 0.01982708,\n",
       "       0.9763434 , 0.97634238, 0.01982744, 0.25743959, 0.02851445,\n",
       "       0.9763434 , 0.97427211, 0.02822056, 0.01979504, 0.98048258,\n",
       "       0.34966356, 0.01979504, 0.01982708, 0.97634238, 0.97022691,\n",
       "       0.95539475, 0.01979504, 0.01982708, 0.97634238, 0.01982708,\n",
       "       0.01979684, 0.01982708, 0.34966356, 0.01982708, 0.01982708,\n",
       "       0.01982708, 0.01982708, 0.9763434 , 0.01982708, 0.01982708,\n",
       "       0.96219407, 0.9763434 , 0.01982708, 0.01982708, 0.51911082,\n",
       "       0.02822056, 0.97379216, 0.01982708, 0.97634331, 0.01982744,\n",
       "       0.02204832, 0.01982708, 0.9763423 , 0.6335138 , 0.34966356,\n",
       "       0.01982708, 0.01982708, 0.01982708, 0.34966356, 0.34966356,\n",
       "       0.96923853, 0.72810719, 0.51917231, 0.01982708, 0.97634238,\n",
       "       0.01982708, 0.97634238, 0.01979504, 0.98048258, 0.01979504,\n",
       "       0.9763434 , 0.89251763, 0.97634111, 0.01982708, 0.0198266 ,\n",
       "       0.51836832, 0.01982708, 0.01982708, 0.01979504, 0.01982708,\n",
       "       0.01982708, 0.97067223, 0.9763434 , 0.81084111, 0.97022691,\n",
       "       0.01982708, 0.84963729, 0.03096005, 0.01979504, 0.01982708,\n",
       "       0.97634238, 0.02171633, 0.97634332, 0.34966356, 0.34966356,\n",
       "       0.97634214, 0.01979504, 0.01979504, 0.97427211, 0.97634238,\n",
       "       0.01982708, 0.01982708, 0.40142217, 0.61354132, 0.01982708,\n",
       "       0.01979504, 0.97634238, 0.9763434 , 0.97427211, 0.9763423 ,\n",
       "       0.97634238, 0.01982744, 0.02204832, 0.51934872, 0.97842494,\n",
       "       0.97427211, 0.01982708, 0.6214204 , 0.97634332, 0.01982708,\n",
       "       0.01979504, 0.01982708, 0.97379216, 0.97634332, 0.81084111,\n",
       "       0.34966356, 0.97634238, 0.01982708, 0.01982708, 0.01982708,\n",
       "       0.97685788, 0.9763423 , 0.01982708, 0.97733448, 0.01979626,\n",
       "       0.9147575 , 0.97965365, 0.01972849, 0.97634238, 0.97634238,\n",
       "       0.97494568, 0.0198266 , 0.97634238, 0.9763434 , 0.97634238,\n",
       "       0.97637204, 0.34966356, 0.01982708, 0.97634238, 0.01982708,\n",
       "       0.97634238, 0.02851445, 0.97866561, 0.01982708, 0.01981654,\n",
       "       0.01987432, 0.97634238, 0.01979504, 0.95640864, 0.01979504,\n",
       "       0.97634238, 0.9763434 , 0.01982708, 0.01979504, 0.9763434 ,\n",
       "       0.01982708, 0.97634332, 0.97620001, 0.01982708, 0.97427211,\n",
       "       0.01971867, 0.01982708, 0.97634238, 0.01982708, 0.01979504,\n",
       "       0.97634332, 0.4539909 , 0.34966356, 0.01979504, 0.01982708,\n",
       "       0.97427211, 0.01982708, 0.97427211, 0.01982708, 0.97634332,\n",
       "       0.01946328, 0.02171633, 0.75716818, 0.01982708, 0.93439478,\n",
       "       0.51836832, 0.97634894, 0.97634238, 0.01982708, 0.01979504,\n",
       "       0.01979504, 0.25743959, 0.97634238, 0.64448433, 0.97634238,\n",
       "       0.01982708, 0.01971867, 0.9763434 , 0.02204832, 0.97634238,\n",
       "       0.97634238, 0.01982708, 0.97634238, 0.51836832, 0.01982708,\n",
       "       0.97438599, 0.03096005, 0.97553174, 0.97379216, 0.97634238,\n",
       "       0.01982708, 0.01982708, 0.01979504, 0.01979504, 0.51836832,\n",
       "       0.01982708, 0.01982708, 0.01982708, 0.01979504, 0.91807307,\n",
       "       0.97634238, 0.01982708, 0.81311104, 0.01982708, 0.97634238,\n",
       "       0.97633858, 0.97643242, 0.01982708, 0.01982708, 0.97437225,\n",
       "       0.01982708, 0.97634238, 0.01982708, 0.01982708, 0.34966356,\n",
       "       0.34966356, 0.01982708, 0.02171633, 0.9763434 , 0.01982708,\n",
       "       0.97634055, 0.97634332, 0.01972849, 0.34966356, 0.01982708,\n",
       "       0.86742425, 0.34966356, 0.85775898, 0.9763434 , 0.97636035,\n",
       "       0.01982708, 0.01982708, 0.9736346 , 0.98206074, 0.97553174,\n",
       "       0.97553888, 0.8096222 , 0.34966356, 0.97427211, 0.97632309,\n",
       "       0.97634238, 0.97427211, 0.9763423 , 0.01982708, 0.01946272,\n",
       "       0.01982708, 0.97638952, 0.97634238, 0.25743959, 0.01982708,\n",
       "       0.0313124 , 0.97633976, 0.01946328, 0.05583214, 0.01979504,\n",
       "       0.97547913, 0.01982708, 0.02426872, 0.97634238, 0.01982708,\n",
       "       0.97634238, 0.94047875, 0.34966356, 0.01982708, 0.9763434 ,\n",
       "       0.51836832, 0.97553888, 0.97634238, 0.97634332, 0.9763434 ,\n",
       "       0.03096005, 0.01982708, 0.97634238, 0.34966356, 0.8096222 ,\n",
       "       0.01982708, 0.01982708, 0.01979504, 0.01982708, 0.01982708,\n",
       "       0.97634238, 0.34936731, 0.01979626, 0.01982708, 0.01982744,\n",
       "       0.6335138 , 0.97427211, 0.97836474, 0.34966356, 0.97427211,\n",
       "       0.9763434 , 0.9763434 , 0.9763434 , 0.01982708, 0.97634135,\n",
       "       0.01982708, 0.02411915, 0.97634238, 0.97427211, 0.9763434 ,\n",
       "       0.01979504, 0.80258333, 0.9763434 , 0.51917231, 0.93352513,\n",
       "       0.40834289, 0.01982708, 0.01982708, 0.97634238, 0.97634238,\n",
       "       0.98168219, 0.25743959, 0.91632347, 0.01982708, 0.01982708,\n",
       "       0.97634055, 0.01982708, 0.91807307, 0.01982708, 0.01981654,\n",
       "       0.01982708, 0.0313124 , 0.01982708, 0.01982708, 0.25743959,\n",
       "       0.97639041, 0.01979504, 0.01982744, 0.01968832, 0.01982708,\n",
       "       0.51836832, 0.25743959, 0.97634238, 0.97634238, 0.01982708,\n",
       "       0.97634238, 0.01979504, 0.97427211, 0.01982708, 0.9763434 ,\n",
       "       0.97634238, 0.97634238, 0.01982708, 0.01979504, 0.01982708,\n",
       "       0.01982708, 0.01982708, 0.97634332, 0.01982708, 0.9763423 ,\n",
       "       0.97634238, 0.01979504, 0.01982708, 0.01982708, 0.97427211,\n",
       "       0.97379216, 0.97643269, 0.01982708, 0.34966356, 0.01982708,\n",
       "       0.97633976, 0.02800252, 0.01982708, 0.01982708, 0.34966356,\n",
       "       0.34966356, 0.51911082, 0.97379216, 0.95912898, 0.97634238,\n",
       "       0.97684186, 0.97379216, 0.97633858, 0.01982708, 0.03096005,\n",
       "       0.97427211, 0.01982708, 0.01982708, 0.01982708, 0.01982708,\n",
       "       0.01982708, 0.01982708, 0.01972849, 0.01982708, 0.86440022,\n",
       "       0.97547198, 0.51911082, 0.01968832, 0.97634238, 0.01982708,\n",
       "       0.97634238, 0.01982708, 0.9763434 , 0.25743959, 0.01982708,\n",
       "       0.97634438, 0.9763434 , 0.01982708, 0.01982708, 0.01982708,\n",
       "       0.01979504, 0.01982708, 0.01982708, 0.01982708, 0.01957673,\n",
       "       0.01985115, 0.02414374, 0.96027475, 0.01982708, 0.9763434 ,\n",
       "       0.97635012, 0.01982708, 0.97634055, 0.01982708, 0.01982708,\n",
       "       0.9763434 , 0.01982708, 0.97634332, 0.98048258, 0.01982708,\n",
       "       0.98103281, 0.01981654, 0.02204832, 0.34966356, 0.95539475,\n",
       "       0.9763434 , 0.01968832, 0.01982708, 0.01982708, 0.97633976,\n",
       "       0.34966356, 0.51911082, 0.91807307, 0.97634238, 0.97634238,\n",
       "       0.01982708, 0.9763434 , 0.01982708, 0.01982708, 0.97634238,\n",
       "       0.97634238, 0.98048258, 0.01982708, 0.01982708, 0.76980561,\n",
       "       0.01982708, 0.97494568, 0.97634238, 0.97634238, 0.01982708,\n",
       "       0.02204832, 0.01982708, 0.0198266 , 0.97911947, 0.01982708,\n",
       "       0.02426872, 0.01982708, 0.92211427, 0.25743959, 0.01982708,\n",
       "       0.01982708, 0.97634438, 0.01968832, 0.01982708, 0.01982708,\n",
       "       0.97634214, 0.01979504, 0.01983967, 0.52405545, 0.97379216,\n",
       "       0.01982708, 0.97634238, 0.97632309, 0.97733448, 0.97634332,\n",
       "       0.01979504, 0.97634238, 0.97632309, 0.89729015, 0.01982744,\n",
       "       0.01982708, 0.01979504, 0.97634238, 0.01979504, 0.9763434 ,\n",
       "       0.51911082, 0.01982708, 0.02851445, 0.97630916, 0.02426872,\n",
       "       0.97634238, 0.01979504, 0.97639041, 0.97634238, 0.01979504,\n",
       "       0.9763434 , 0.97634023, 0.01982708, 0.01982708, 0.97634238,\n",
       "       0.9763423 , 0.01982708, 0.9763434 , 0.01982708, 0.01982708,\n",
       "       0.01990561, 0.97632309, 0.9763434 , 0.9763434 , 0.9727675 ])"
      ]
     },
     "execution_count": 91,
     "metadata": {},
     "output_type": "execute_result"
    }
   ],
   "source": [
    "model_X.predict(test_features)"
   ]
  },
  {
   "cell_type": "code",
   "execution_count": null,
   "metadata": {},
   "outputs": [],
   "source": []
  },
  {
   "cell_type": "code",
   "execution_count": 94,
   "metadata": {},
   "outputs": [],
   "source": [
    "train = pd.read_csv('../../Data/KAERI/train_features.csv')\n",
    "train_target = pd.read_csv('../../Data/KAERI/train_target.csv')\n",
    "test = pd.read_csv('../../Data/KAERI/test_features.csv')\n",
    "submit = pd.read_csv('../../Data/KAERI/sample_submission.csv')"
   ]
  },
  {
   "cell_type": "code",
   "execution_count": 95,
   "metadata": {},
   "outputs": [
    {
     "data": {
      "application/vnd.jupyter.widget-view+json": {
       "model_id": "16d16513eb0c4da8aec3e7a8febad634",
       "version_major": 2,
       "version_minor": 0
      },
      "text/plain": [
       "HBox(children=(FloatProgress(value=0.0, max=2800.0), HTML(value='')))"
      ]
     },
     "metadata": {},
     "output_type": "display_data"
    },
    {
     "name": "stdout",
     "output_type": "stream",
     "text": [
      "\n"
     ]
    }
   ],
   "source": [
    "from tqdm.notebook import tqdm\n",
    "train_ = []\n",
    "for ID in tqdm(train['id'].unique()):\n",
    "    tmp_df = train[train['id'] == ID]\n",
    "    tmp_X = []\n",
    "    tmp_X.append(tmp_df['S1'].values)\n",
    "    tmp_X.append(tmp_df['S2'].values)\n",
    "    tmp_X.append(tmp_df['S3'].values)\n",
    "    tmp_X.append(tmp_df['S4'].values)\n",
    "    train_.append(tmp_X)\n",
    "train_=np.array(train_).reshape(train['id'].nunique(), -1)"
   ]
  },
  {
   "cell_type": "code",
   "execution_count": 96,
   "metadata": {},
   "outputs": [
    {
     "data": {
      "application/vnd.jupyter.widget-view+json": {
       "model_id": "ce412df4532f46aab8a4b7fa8fa6e10c",
       "version_major": 2,
       "version_minor": 0
      },
      "text/plain": [
       "HBox(children=(FloatProgress(value=0.0, max=700.0), HTML(value='')))"
      ]
     },
     "metadata": {},
     "output_type": "display_data"
    },
    {
     "name": "stdout",
     "output_type": "stream",
     "text": [
      "\n"
     ]
    }
   ],
   "source": [
    "test_ = []\n",
    "for ID in tqdm(test['id'].unique()):\n",
    "    tmp_df = test[test['id'] == ID]\n",
    "    tmp_X = []\n",
    "    tmp_X.append(tmp_df['S1'].values)\n",
    "    tmp_X.append(tmp_df['S2'].values)\n",
    "    tmp_X.append(tmp_df['S3'].values)\n",
    "    tmp_X.append(tmp_df['S4'].values)\n",
    "    test_.append(tmp_X)\n",
    "test_=np.array(test_).reshape(test['id'].nunique(), -1)"
   ]
  },
  {
   "cell_type": "code",
   "execution_count": 97,
   "metadata": {},
   "outputs": [],
   "source": [
    "np.random.seed(42)\n",
    "choice_idxs = np.random.choice(range(len(train_)),len(test_), replace=False)\n",
    "X_train_test = np.concatenate([train_[choice_idxs], test_])\n",
    "y_train_test = np.array([0 for _ in range(len(choice_idxs))] + [1 for _ in range(test['id'].nunique())])"
   ]
  },
  {
   "cell_type": "code",
   "execution_count": 98,
   "metadata": {},
   "outputs": [],
   "source": [
    "X_train, X_test, y_train, y_test = train_test_split(X_train_test, y_train_test, test_size=0.2, random_state=42, stratify=y_train_test)"
   ]
  },
  {
   "cell_type": "code",
   "execution_count": 99,
   "metadata": {},
   "outputs": [
    {
     "name": "stdout",
     "output_type": "stream",
     "text": [
      "Training until validation scores don't improve for 200 rounds\n",
      "[50]\ttraining's auc: 1\tvalid_1's auc: 0.976735\n",
      "[100]\ttraining's auc: 1\tvalid_1's auc: 0.982347\n",
      "[150]\ttraining's auc: 1\tvalid_1's auc: 0.985714\n",
      "[200]\ttraining's auc: 1\tvalid_1's auc: 0.986531\n",
      "[250]\ttraining's auc: 1\tvalid_1's auc: 0.98648\n",
      "[300]\ttraining's auc: 1\tvalid_1's auc: 0.987092\n",
      "[350]\ttraining's auc: 1\tvalid_1's auc: 0.987755\n",
      "[400]\ttraining's auc: 1\tvalid_1's auc: 0.98801\n",
      "[450]\ttraining's auc: 1\tvalid_1's auc: 0.987653\n",
      "[500]\ttraining's auc: 1\tvalid_1's auc: 0.987296\n",
      "[550]\ttraining's auc: 1\tvalid_1's auc: 0.987398\n",
      "[600]\ttraining's auc: 1\tvalid_1's auc: 0.987398\n",
      "Early stopping, best iteration is:\n",
      "[402]\ttraining's auc: 1\tvalid_1's auc: 0.988061\n"
     ]
    }
   ],
   "source": [
    "params = {    \n",
    "    'objective': 'binary',\n",
    "    'metrics':'auc'\n",
    "} \n",
    "train_set = lgb.Dataset(X_train, y_train)\n",
    "test_set = lgb.Dataset(X_test, y_test)\n",
    "lgb_model = lgb.train(params, train_set, 1000, early_stopping_rounds=200, \n",
    "            valid_sets=[train_set, test_set],\n",
    "            verbose_eval=50,\n",
    "           )"
   ]
  },
  {
   "cell_type": "code",
   "execution_count": null,
   "metadata": {},
   "outputs": [],
   "source": []
  },
  {
   "cell_type": "code",
   "execution_count": 150,
   "metadata": {},
   "outputs": [],
   "source": [
    "y_pred = model.predict(x_test)"
   ]
  },
  {
   "cell_type": "code",
   "execution_count": null,
   "metadata": {},
   "outputs": [],
   "source": [
    "mse = mean_square_error(y_test, y_pred)"
   ]
  },
  {
   "cell_type": "code",
   "execution_count": 147,
   "metadata": {},
   "outputs": [],
   "source": [
    "num = np.arange(2800, 3500, 1)"
   ]
  },
  {
   "cell_type": "code",
   "execution_count": 148,
   "metadata": {},
   "outputs": [],
   "source": [
    "submit = pd.DataFrame({'id': num, 'X': y_pred[:, 0], 'Y': y_pred[:, 1], 'M': y_pred[:, 2], 'V': y_pred[:, 3]})"
   ]
  },
  {
   "cell_type": "code",
   "execution_count": 67,
   "metadata": {},
   "outputs": [],
   "source": [
    "submit.to_csv('submission/05.csv', index = False)"
   ]
  }
 ],
 "metadata": {
  "kernelspec": {
   "display_name": "Python 3",
   "language": "python",
   "name": "python3"
  },
  "language_info": {
   "codemirror_mode": {
    "name": "ipython",
    "version": 3
   },
   "file_extension": ".py",
   "mimetype": "text/x-python",
   "name": "python",
   "nbconvert_exporter": "python",
   "pygments_lexer": "ipython3",
   "version": "3.7.7"
  }
 },
 "nbformat": 4,
 "nbformat_minor": 4
}
