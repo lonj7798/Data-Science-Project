{
 "cells": [
  {
   "cell_type": "code",
   "execution_count": 27,
   "metadata": {},
   "outputs": [],
   "source": [
    "import pandas as pd\n",
    "import numpy as np \n",
    "\n",
    "import matplotlib.pyplot as plt\n",
    "import seaborn as sns\n",
    "%matplotlib inline"
   ]
  },
  {
   "cell_type": "code",
   "execution_count": 28,
   "metadata": {},
   "outputs": [],
   "source": [
    "train_features = pd.read_csv('../../Data/KAERI/train_features.csv')\n",
    "train_target = pd.read_csv('../../Data/KAERI/train_target.csv', index_col = 'id')\n",
    "test_features = pd.read_csv('../../Data/KAERI/test_features.csv')"
   ]
  },
  {
   "cell_type": "code",
   "execution_count": 29,
   "metadata": {},
   "outputs": [],
   "source": [
    "def preprocessing_KAERI(data) :\n",
    "    '''\n",
    "    data: train_features.csv or test_features.csv\n",
    "    \n",
    "    return: Random Forest 모델 입력용 데이터\n",
    "    '''\n",
    "    \n",
    "    # 충돌체 별로 0.000116 초 까지의 가속도 데이터만 활용해보기 \n",
    "    _data = data.groupby('id').head(20)\n",
    "    \n",
    "    # string 형태로 변환\n",
    "    _data['Time'] = _data['Time'].astype('str')\n",
    "    \n",
    "    # Random Forest 모델에 입력 할 수 있는 1차원 형태로 가속도 데이터 변환\n",
    "    _data = _data.pivot_table(index = 'id', columns = 'Time', values = ['S1', 'S2', 'S3', 'S4'])\n",
    "    \n",
    "    # column 명 변환\n",
    "    _data.columns = ['_'.join(col) for col in _data.columns.values]\n",
    "    \n",
    "    return _data"
   ]
  },
  {
   "cell_type": "code",
   "execution_count": 30,
   "metadata": {},
   "outputs": [
    {
     "name": "stderr",
     "output_type": "stream",
     "text": [
      "C:\\Users\\lonj7\\Anaconda3\\lib\\site-packages\\ipykernel_launcher.py:12: SettingWithCopyWarning: \n",
      "A value is trying to be set on a copy of a slice from a DataFrame.\n",
      "Try using .loc[row_indexer,col_indexer] = value instead\n",
      "\n",
      "See the caveats in the documentation: https://pandas.pydata.org/pandas-docs/stable/user_guide/indexing.html#returning-a-view-versus-a-copy\n",
      "  if sys.path[0] == '':\n"
     ]
    }
   ],
   "source": [
    "train_features = preprocessing_KAERI(train_features)\n",
    "test_features = preprocessing_KAERI(test_features)"
   ]
  },
  {
   "cell_type": "code",
   "execution_count": 55,
   "metadata": {},
   "outputs": [],
   "source": [
    "import sklearn\n",
    "from sklearn.metrics import mean_squared_error\n",
    "from sklearn.model_selection import train_test_split"
   ]
  },
  {
   "cell_type": "code",
   "execution_count": 110,
   "metadata": {},
   "outputs": [],
   "source": [
    "X_train, X_test, y_train, y_test = train_test_split(train_features, train_target, test_size=0.2, shuffle=123)"
   ]
  },
  {
   "cell_type": "code",
   "execution_count": 57,
   "metadata": {},
   "outputs": [],
   "source": [
    "import lightgbm as lgb"
   ]
  },
  {
   "cell_type": "code",
   "execution_count": 60,
   "metadata": {},
   "outputs": [],
   "source": [
    "train_data_X = lgb.Dataset(X_train, label=y_train.X)\n",
    "test_data_X = lgb.Dataset(X_test, label=y_test.X)\n",
    "\n",
    "train_data_Y = lgb.Dataset(X_train, label=y_train.Y)\n",
    "test_data_Y = lgb.Dataset(X_test, label=y_test.Y)\n",
    "\n",
    "train_data_M = lgb.Dataset(X_train, label=y_train.M)\n",
    "test_data_M = lgb.Dataset(X_test, label=y_test.M)\n",
    "\n",
    "train_data_V = lgb.Dataset(X_train, label=y_train.V)\n",
    "test_data_V = lgb.Dataset(X_test, label=y_test.V)"
   ]
  },
  {
   "cell_type": "code",
   "execution_count": 74,
   "metadata": {},
   "outputs": [],
   "source": [
    "params = {'learning_rate': 0.01, \n",
    "          'max_depth': 16, \n",
    "          'boosting': 'gbdt', \n",
    "          'objective': 'regression', \n",
    "          'metric': 'mse', \n",
    "          'is_training_metric': True, \n",
    "          'num_leaves': 144, \n",
    "          'feature_fraction': 0.9, \n",
    "          'bagging_fraction': 0.7, \n",
    "          'bagging_freq': 5, \n",
    "          'seed':2018}"
   ]
  },
  {
   "cell_type": "code",
   "execution_count": 89,
   "metadata": {},
   "outputs": [],
   "source": [
    "params1 = {    \n",
    "    'objective': 'binary',\n",
    "    'boosting': 'gbdt',\n",
    "    'metrics':'auc'\n",
    "} "
   ]
  },
  {
   "cell_type": "code",
   "execution_count": 90,
   "metadata": {},
   "outputs": [
    {
     "name": "stdout",
     "output_type": "stream",
     "text": [
      "Training until validation scores don't improve for 500 rounds\n",
      "[10]\tvalid_0's auc: 0.990869\n",
      "[20]\tvalid_0's auc: 0.992102\n",
      "[30]\tvalid_0's auc: 0.993489\n",
      "[40]\tvalid_0's auc: 0.993502\n",
      "[50]\tvalid_0's auc: 0.993502\n",
      "[60]\tvalid_0's auc: 0.99345\n",
      "[70]\tvalid_0's auc: 0.993334\n",
      "[80]\tvalid_0's auc: 0.993074\n",
      "[90]\tvalid_0's auc: 0.993113\n",
      "[100]\tvalid_0's auc: 0.993204\n",
      "[110]\tvalid_0's auc: 0.993113\n",
      "[120]\tvalid_0's auc: 0.993035\n",
      "[130]\tvalid_0's auc: 0.993009\n",
      "[140]\tvalid_0's auc: 0.992945\n",
      "[150]\tvalid_0's auc: 0.992893\n",
      "[160]\tvalid_0's auc: 0.992737\n",
      "[170]\tvalid_0's auc: 0.992335\n",
      "[180]\tvalid_0's auc: 0.992102\n",
      "[190]\tvalid_0's auc: 0.992011\n",
      "[200]\tvalid_0's auc: 0.991985\n",
      "[210]\tvalid_0's auc: 0.992037\n",
      "[220]\tvalid_0's auc: 0.992011\n",
      "[230]\tvalid_0's auc: 0.992063\n",
      "[240]\tvalid_0's auc: 0.992037\n",
      "[250]\tvalid_0's auc: 0.991972\n",
      "[260]\tvalid_0's auc: 0.991868\n",
      "[270]\tvalid_0's auc: 0.991894\n",
      "[280]\tvalid_0's auc: 0.991894\n",
      "[290]\tvalid_0's auc: 0.991855\n",
      "[300]\tvalid_0's auc: 0.991803\n",
      "[310]\tvalid_0's auc: 0.99179\n",
      "[320]\tvalid_0's auc: 0.99179\n",
      "[330]\tvalid_0's auc: 0.991829\n",
      "[340]\tvalid_0's auc: 0.991764\n",
      "[350]\tvalid_0's auc: 0.991725\n",
      "[360]\tvalid_0's auc: 0.991687\n",
      "[370]\tvalid_0's auc: 0.991635\n",
      "[380]\tvalid_0's auc: 0.991596\n",
      "[390]\tvalid_0's auc: 0.99157\n",
      "[400]\tvalid_0's auc: 0.991492\n",
      "[410]\tvalid_0's auc: 0.991531\n",
      "[420]\tvalid_0's auc: 0.991479\n",
      "[430]\tvalid_0's auc: 0.991466\n",
      "[440]\tvalid_0's auc: 0.99144\n",
      "[450]\tvalid_0's auc: 0.99131\n",
      "[460]\tvalid_0's auc: 0.991336\n",
      "[470]\tvalid_0's auc: 0.991375\n",
      "[480]\tvalid_0's auc: 0.991259\n",
      "[490]\tvalid_0's auc: 0.991284\n",
      "[500]\tvalid_0's auc: 0.991284\n",
      "[510]\tvalid_0's auc: 0.991103\n",
      "[520]\tvalid_0's auc: 0.990947\n",
      "[530]\tvalid_0's auc: 0.990934\n",
      "Early stopping, best iteration is:\n",
      "[31]\tvalid_0's auc: 0.993528\n"
     ]
    }
   ],
   "source": [
    "model_X = lgb.train(params1, train_data_X, 5000, test_data_X, verbose_eval=10, early_stopping_rounds=500)"
   ]
  },
  {
   "cell_type": "code",
   "execution_count": 76,
   "metadata": {},
   "outputs": [
    {
     "name": "stdout",
     "output_type": "stream",
     "text": [
      "Training until validation scores don't improve for 100 rounds\n",
      "[100]\tvalid_0's l2: 9631.1\n",
      "[200]\tvalid_0's l2: 1309.23\n",
      "[300]\tvalid_0's l2: 184.373\n",
      "[400]\tvalid_0's l2: 30.3582\n",
      "[500]\tvalid_0's l2: 8.52455\n",
      "[600]\tvalid_0's l2: 5.12762\n",
      "[700]\tvalid_0's l2: 4.29488\n",
      "[800]\tvalid_0's l2: 4.00324\n",
      "[900]\tvalid_0's l2: 3.78555\n",
      "[1000]\tvalid_0's l2: 3.6628\n",
      "[1100]\tvalid_0's l2: 3.57839\n",
      "[1200]\tvalid_0's l2: 3.52502\n",
      "[1300]\tvalid_0's l2: 3.4258\n",
      "[1400]\tvalid_0's l2: 3.35416\n",
      "[1500]\tvalid_0's l2: 3.2624\n",
      "[1600]\tvalid_0's l2: 3.18965\n",
      "[1700]\tvalid_0's l2: 3.1627\n",
      "[1800]\tvalid_0's l2: 3.15466\n",
      "[1900]\tvalid_0's l2: 3.13541\n",
      "[2000]\tvalid_0's l2: 3.10194\n",
      "Did not meet early stopping. Best iteration is:\n",
      "[1970]\tvalid_0's l2: 3.10133\n"
     ]
    }
   ],
   "source": [
    "model_Y = lgb.train(params, train_data_Y, 2000, test_data_Y, verbose_eval=100, early_stopping_rounds=100)"
   ]
  },
  {
   "cell_type": "code",
   "execution_count": 77,
   "metadata": {},
   "outputs": [
    {
     "name": "stdout",
     "output_type": "stream",
     "text": [
      "Training until validation scores don't improve for 100 rounds\n",
      "[100]\tvalid_0's l2: 1279.01\n",
      "[200]\tvalid_0's l2: 940.354\n",
      "[300]\tvalid_0's l2: 794.82\n",
      "[400]\tvalid_0's l2: 714.66\n",
      "[500]\tvalid_0's l2: 652.092\n",
      "[600]\tvalid_0's l2: 611.214\n",
      "[700]\tvalid_0's l2: 579.729\n",
      "[800]\tvalid_0's l2: 555.08\n",
      "[900]\tvalid_0's l2: 532.334\n",
      "[1000]\tvalid_0's l2: 513.306\n",
      "[1100]\tvalid_0's l2: 495.94\n",
      "[1200]\tvalid_0's l2: 480.888\n",
      "[1300]\tvalid_0's l2: 466.765\n",
      "[1400]\tvalid_0's l2: 453.782\n",
      "[1500]\tvalid_0's l2: 440.452\n",
      "[1600]\tvalid_0's l2: 430.042\n",
      "[1700]\tvalid_0's l2: 420.387\n",
      "[1800]\tvalid_0's l2: 412.806\n",
      "[1900]\tvalid_0's l2: 403.801\n",
      "[2000]\tvalid_0's l2: 396.395\n",
      "Did not meet early stopping. Best iteration is:\n",
      "[1998]\tvalid_0's l2: 396.366\n"
     ]
    }
   ],
   "source": [
    "model_M = lgb.train(params, train_data_M, 2000, test_data_M, verbose_eval=100, early_stopping_rounds=100)"
   ]
  },
  {
   "cell_type": "code",
   "execution_count": 78,
   "metadata": {
    "scrolled": true
   },
   "outputs": [
    {
     "name": "stdout",
     "output_type": "stream",
     "text": [
      "Training until validation scores don't improve for 100 rounds\n",
      "[100]\tvalid_0's l2: 0.0211927\n",
      "[200]\tvalid_0's l2: 0.00748897\n",
      "[300]\tvalid_0's l2: 0.00396722\n",
      "[400]\tvalid_0's l2: 0.00266541\n",
      "[500]\tvalid_0's l2: 0.00204731\n",
      "[600]\tvalid_0's l2: 0.00174317\n",
      "[700]\tvalid_0's l2: 0.00151635\n",
      "[800]\tvalid_0's l2: 0.00138147\n",
      "[900]\tvalid_0's l2: 0.00128213\n",
      "[1000]\tvalid_0's l2: 0.00121045\n",
      "[1100]\tvalid_0's l2: 0.00115406\n",
      "[1200]\tvalid_0's l2: 0.0011024\n",
      "[1300]\tvalid_0's l2: 0.00106721\n",
      "[1400]\tvalid_0's l2: 0.00102903\n",
      "[1500]\tvalid_0's l2: 0.00100398\n",
      "[1600]\tvalid_0's l2: 0.000981972\n",
      "[1700]\tvalid_0's l2: 0.000960625\n",
      "[1800]\tvalid_0's l2: 0.000940758\n",
      "[1900]\tvalid_0's l2: 0.000922538\n",
      "[2000]\tvalid_0's l2: 0.000907647\n",
      "Did not meet early stopping. Best iteration is:\n",
      "[2000]\tvalid_0's l2: 0.000907647\n"
     ]
    }
   ],
   "source": [
    "model_V = lgb.train(params, train_data_V, 2000, test_data_V, verbose_eval=100, early_stopping_rounds=100)"
   ]
  },
  {
   "cell_type": "code",
   "execution_count": null,
   "metadata": {},
   "outputs": [],
   "source": []
  },
  {
   "cell_type": "code",
   "execution_count": null,
   "metadata": {},
   "outputs": [],
   "source": []
  },
  {
   "cell_type": "code",
   "execution_count": 115,
   "metadata": {},
   "outputs": [
    {
     "data": {
      "text/plain": [
       "2143    0.4\n",
       "1630    0.6\n",
       "491     0.8\n",
       "2378    0.8\n",
       "471     1.0\n",
       "       ... \n",
       "2423    0.8\n",
       "1678    1.0\n",
       "2261    0.6\n",
       "883     0.8\n",
       "1901    0.8\n",
       "Name: V, Length: 2240, dtype: float64"
      ]
     },
     "execution_count": 115,
     "metadata": {},
     "output_type": "execute_result"
    }
   ],
   "source": [
    "y_train.V"
   ]
  },
  {
   "cell_type": "code",
   "execution_count": 117,
   "metadata": {},
   "outputs": [],
   "source": [
    "X = model_X.predict(test_features)\n",
    "Y = model_Y.predict(test_features)\n",
    "M = model_M.predict(test_features)\n",
    "V = model_V.predict(test_features)"
   ]
  },
  {
   "cell_type": "code",
   "execution_count": null,
   "metadata": {},
   "outputs": [],
   "source": []
  },
  {
   "cell_type": "code",
   "execution_count": null,
   "metadata": {},
   "outputs": [],
   "source": []
  },
  {
   "cell_type": "code",
   "execution_count": 118,
   "metadata": {},
   "outputs": [],
   "source": [
    "num = np.arange(2800, 3500, 1)"
   ]
  },
  {
   "cell_type": "code",
   "execution_count": 119,
   "metadata": {},
   "outputs": [],
   "source": [
    "submit = pd.DataFrame({'id': num, 'X': X, 'Y': Y, 'M': M, 'V': V})"
   ]
  },
  {
   "cell_type": "code",
   "execution_count": 120,
   "metadata": {},
   "outputs": [],
   "source": [
    "submit.to_csv('submission/07.csv', index = False)"
   ]
  }
 ],
 "metadata": {
  "kernelspec": {
   "display_name": "Python 3",
   "language": "python",
   "name": "python3"
  },
  "language_info": {
   "codemirror_mode": {
    "name": "ipython",
    "version": 3
   },
   "file_extension": ".py",
   "mimetype": "text/x-python",
   "name": "python",
   "nbconvert_exporter": "python",
   "pygments_lexer": "ipython3",
   "version": "3.7.7"
  }
 },
 "nbformat": 4,
 "nbformat_minor": 4
}
