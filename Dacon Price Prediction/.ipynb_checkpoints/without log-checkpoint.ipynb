{
 "cells": [
  {
   "cell_type": "code",
   "execution_count": 4,
   "metadata": {},
   "outputs": [],
   "source": [
    "# test.csv - train.csv랑 같은 형식. test.csv랑 train.csv의 store_id가 같아도 같은 상점인 것은 아님.\n",
    "# (월에 최소 5일 이상 데이터가 있는 상점만을 문제에 포함.)"
   ]
  },
  {
   "cell_type": "code",
   "execution_count": 1,
   "metadata": {},
   "outputs": [],
   "source": [
    "import pandas as pd\n",
    "import numpy as np\n",
    "\n",
    "import matplotlib as mlt\n",
    "import matplotlib.pyplot as plt\n",
    "import seaborn as sns\n",
    "%matplotlib inline\n",
    "\n",
    "import datetime as dt"
   ]
  },
  {
   "cell_type": "code",
   "execution_count": 2,
   "metadata": {},
   "outputs": [],
   "source": [
    "test = pd.read_csv(\"data/test_pos.csv\")\n",
    "test.date = pd.to_datetime(test['date'])"
   ]
  },
  {
   "cell_type": "code",
   "execution_count": null,
   "metadata": {},
   "outputs": [],
   "source": []
  },
  {
   "cell_type": "code",
   "execution_count": 3,
   "metadata": {},
   "outputs": [],
   "source": [
    "data = test.groupby(['store_id', 'date'])[['amount']].sum()\n",
    "store_names = data.index.get_level_values('store_id').unique()"
   ]
  },
  {
   "cell_type": "code",
   "execution_count": null,
   "metadata": {},
   "outputs": [],
   "source": []
  },
  {
   "cell_type": "code",
   "execution_count": 4,
   "metadata": {},
   "outputs": [
    {
     "data": {
      "text/plain": [
       "Timestamp('2018-03-31 00:00:00')"
      ]
     },
     "execution_count": 4,
     "metadata": {},
     "output_type": "execute_result"
    }
   ],
   "source": [
    "test.date.max()"
   ]
  },
  {
   "cell_type": "code",
   "execution_count": null,
   "metadata": {},
   "outputs": [],
   "source": []
  },
  {
   "cell_type": "code",
   "execution_count": 5,
   "metadata": {
    "scrolled": true
   },
   "outputs": [
    {
     "data": {
      "text/plain": [
       "0 days     148\n",
       "1 days      25\n",
       "2 days       8\n",
       "3 days       6\n",
       "5 days       4\n",
       "4 days       4\n",
       "8 days       2\n",
       "10 days      1\n",
       "73 days      1\n",
       "7 days       1\n",
       "Name: 0, dtype: int64"
      ]
     },
     "execution_count": 5,
     "metadata": {},
     "output_type": "execute_result"
    }
   ],
   "source": [
    "# last day: 2018-03-31\n",
    "# 각 가게들의 마지막 open날짜와 예측해야할 날짜로부터의 날짜 계산\n",
    "\n",
    "last_day = dt.datetime(2018,3,31)\n",
    "interval = dt.timedelta(days=14)\n",
    "\n",
    "temp =[]\n",
    "\n",
    "for store_name in store_names:\n",
    "    temp.append(last_day - data.loc[store_name].index[-1])\n",
    "    \n",
    "temp = pd.DataFrame(temp)\n",
    "temp.iloc[:,0].value_counts()\n",
    "\n",
    "# 73일은 폐업 또는 영업정지로 예상\n",
    "# store_id: 197"
   ]
  },
  {
   "cell_type": "markdown",
   "metadata": {},
   "source": [
    "### 마지막 날짜로 부터 73일 차이: store_id = 197"
   ]
  },
  {
   "cell_type": "code",
   "execution_count": 6,
   "metadata": {},
   "outputs": [
    {
     "name": "stderr",
     "output_type": "stream",
     "text": [
      "C:\\Users\\lonj7\\Anaconda3\\lib\\site-packages\\ipykernel_launcher.py:4: SettingWithCopyWarning: \n",
      "A value is trying to be set on a copy of a slice from a DataFrame.\n",
      "Try using .loc[row_indexer,col_indexer] = value instead\n",
      "\n",
      "See the caveats in the documentation: https://pandas.pydata.org/pandas-docs/stable/user_guide/indexing.html#returning-a-view-versus-a-copy\n",
      "  after removing the cwd from sys.path.\n"
     ]
    }
   ],
   "source": [
    "# store_id: 197\n",
    "\n",
    "temp = test[test['store_id']==197]\n",
    "temp['count'] = 1\n",
    "\n",
    "temp = temp.groupby('date')[['amount', 'count']].sum()"
   ]
  },
  {
   "cell_type": "code",
   "execution_count": 7,
   "metadata": {
    "scrolled": true
   },
   "outputs": [
    {
     "data": {
      "text/plain": [
       "<matplotlib.axes._subplots.AxesSubplot at 0x1e57fe199c8>"
      ]
     },
     "execution_count": 7,
     "metadata": {},
     "output_type": "execute_result"
    },
    {
     "data": {
      "image/png": "[encoded data removed]",
      "text/plain": [
       "<Figure size 432x288 with 1 Axes>"
      ]
     },
     "metadata": {
      "needs_background": "light"
     },
     "output_type": "display_data"
    }
   ],
   "source": [
    "# store_id: 197의 월별 매출 건 수\n",
    "\n",
    "all_times = pd.date_range(test.date.min(),\n",
    "                          test.date.max(), freq = \"D\")\n",
    "temp = temp.reindex(all_times, fill_value=0)\n",
    "temp.resample('M')[['count']].sum().plot()\n",
    "\n",
    "#  (월에 최소 5일 이상 데이터가 있는 상점만을 문제에 포함.) -> 월 매출 5회 이하가 다반수."
   ]
  },
  {
   "cell_type": "markdown",
   "metadata": {},
   "source": [
    "### rolling vs resample"
   ]
  },
  {
   "cell_type": "code",
   "execution_count": 8,
   "metadata": {},
   "outputs": [],
   "source": [
    "# rolling vs resample\n",
    "rolling = data.loc[0].rolling('7D').mean()\n",
    "resample = data.loc[0].resample('7D').mean()"
   ]
  },
  {
   "cell_type": "code",
   "execution_count": 9,
   "metadata": {},
   "outputs": [
    {
     "name": "stdout",
     "output_type": "stream",
     "text": [
      "Rolling----\n",
      "             amount\n",
      "date               \n",
      "2016-08-01  2106.00\n",
      "2016-08-02  1817.00\n",
      "2016-08-03  1398.00\n",
      "2016-08-04  1469.25\n",
      "2016-08-05  1512.60\n",
      "\n",
      "Resample---\n",
      "                 amount\n",
      "date                   \n",
      "2016-08-01  1550.571429\n",
      "2016-08-08  1208.142857\n",
      "2016-08-15  1089.285714\n",
      "2016-08-22  1254.285714\n",
      "2016-08-29   930.142857\n"
     ]
    }
   ],
   "source": [
    "print(\"Rolling----\")\n",
    "print(rolling.head())\n",
    "\n",
    "print(\"\\nResample---\")\n",
    "print(resample.head())"
   ]
  },
  {
   "cell_type": "code",
   "execution_count": 10,
   "metadata": {},
   "outputs": [],
   "source": [
    "# test.csv - train.csv랑 같은 형식. test.csv랑 train.csv의 store_id가 같아도 같은 상점인 것은 아님.\n",
    "# (월에 최소 5일 이상 데이터가 있는 상점만을 문제에 포함.)"
   ]
  },
  {
   "cell_type": "code",
   "execution_count": 11,
   "metadata": {},
   "outputs": [
    {
     "data": {
      "text/plain": [
       "\"\\ndef downsampling(data, store_names):\\n    \\n    stores_28 = pd.DataFrame(index=[['store_id'],['date']], columns=['amount', 'holyday'])\\n    stores_14 = pd.DataFrame(index=[['store_id'],['date']], columns=['amount', 'holyday'])\\n    stores_7 = pd.DataFrame(index=[['store_id'],['date']], columns=['amount', 'holyday'])\\n    stores_1 = pd.DataFrame(index=[['store_id'],['date']], columns=['amount', 'holyday'])\\n    \\n    for name in store_names:\\n        df = data.loc[name]\\n        length = len(df)\\n        \\n        # 만약 28일 단위 다운샘플링 이후 행의 개수가 10개를 넘어가면 다운샘플링\\n        if (length/28) > 10:\\n            df = df.resample('28D').mean()\\n            df['store_id'] = name\\n            df = df.groupby(['store_id', 'date']).sum()\\n        \\n            stores_28 = stores_28.append(df)\\n        \\n        # 만약 14일 단위 다운샘플링 이후 행의 개수가 10개를 넘어가면 다운샘플링\\n        elif (length/14) > 10:\\n            df = df.resample('14D').mean()\\n            df['store_id'] = name\\n            df = df.groupby(['store_id', 'date']).sum()\\n        \\n            stores_14 = stores_14.append(df)\\n        # 만약 7일 단위 다운샘플링 이후 행의 개수가 10개를 넘어가면 다운샘플링 \\n        elif (length/7) > 10:\\n            df = df.resample('7D').mean()\\n            df['store_id'] = name\\n            df = df.groupby(['store_id', 'date']).sum()\\n        \\n            stores_7 = stores_7.append(df)\\n        # 혹은 다운샘플링 진행 X\\n        \\n        else:\\n            df['store_id'] = name\\n            df = df.groupby(['store_id', 'date']).sum()\\n        \\n            stores_1 = stores_1.append(df)\\n        \\n    return stores_28, stores_14, stores_7, stores_1\\n\""
      ]
     },
     "execution_count": 11,
     "metadata": {},
     "output_type": "execute_result"
    }
   ],
   "source": [
    "\"\"\"\n",
    "def downsampling(data, store_names):\n",
    "    \n",
    "    stores_28 = pd.DataFrame(index=[['store_id'],['date']], columns=['amount', 'holyday'])\n",
    "    stores_14 = pd.DataFrame(index=[['store_id'],['date']], columns=['amount', 'holyday'])\n",
    "    stores_7 = pd.DataFrame(index=[['store_id'],['date']], columns=['amount', 'holyday'])\n",
    "    stores_1 = pd.DataFrame(index=[['store_id'],['date']], columns=['amount', 'holyday'])\n",
    "    \n",
    "    for name in store_names:\n",
    "        df = data.loc[name]\n",
    "        length = len(df)\n",
    "        \n",
    "        # 만약 28일 단위 다운샘플링 이후 행의 개수가 10개를 넘어가면 다운샘플링\n",
    "        if (length/28) > 10:\n",
    "            df = df.resample('28D').mean()\n",
    "            df['store_id'] = name\n",
    "            df = df.groupby(['store_id', 'date']).sum()\n",
    "        \n",
    "            stores_28 = stores_28.append(df)\n",
    "        \n",
    "        # 만약 14일 단위 다운샘플링 이후 행의 개수가 10개를 넘어가면 다운샘플링\n",
    "        elif (length/14) > 10:\n",
    "            df = df.resample('14D').mean()\n",
    "            df['store_id'] = name\n",
    "            df = df.groupby(['store_id', 'date']).sum()\n",
    "        \n",
    "            stores_14 = stores_14.append(df)\n",
    "        # 만약 7일 단위 다운샘플링 이후 행의 개수가 10개를 넘어가면 다운샘플링 \n",
    "        elif (length/7) > 10:\n",
    "            df = df.resample('7D').mean()\n",
    "            df['store_id'] = name\n",
    "            df = df.groupby(['store_id', 'date']).sum()\n",
    "        \n",
    "            stores_7 = stores_7.append(df)\n",
    "        # 혹은 다운샘플링 진행 X\n",
    "        \n",
    "        else:\n",
    "            df['store_id'] = name\n",
    "            df = df.groupby(['store_id', 'date']).sum()\n",
    "        \n",
    "            stores_1 = stores_1.append(df)\n",
    "        \n",
    "    return stores_28, stores_14, stores_7, stores_1\n",
    "\"\"\""
   ]
  },
  {
   "cell_type": "code",
   "execution_count": 12,
   "metadata": {},
   "outputs": [],
   "source": [
    "def downsampling(data, store_names):\n",
    "    \n",
    "    stores_28 = pd.DataFrame(columns=['store_id','date','amount','holyday'])\n",
    "    stores_14 = pd.DataFrame(columns=['store_id','date','amount','holyday'])\n",
    "    stores_7 = pd.DataFrame(columns=['store_id','date','amount','holyday'])\n",
    "    stores_1 = pd.DataFrame(columns=['store_id','date','amount','holyday'])\n",
    "    \n",
    "    for name in store_names:\n",
    "        # df = data.loc[name]\n",
    "        df = data[data['store_id'] == name].groupby('date')[['amount', 'holyday']].sum()\n",
    "        length = len(df)\n",
    "        \n",
    "        # 만약 28일 단위 다운샘플링 이후 행의 개수가 10개를 넘어가면 다운샘플링\n",
    "        if (length/28) > 10:\n",
    "            df = df.resample('28D').mean()\n",
    "            df['store_id'] = name\n",
    "        \n",
    "            stores_28 = stores_28.append(df)\n",
    "        \n",
    "        # 만약 14일 단위 다운샘플링 이후 행의 개수가 10개를 넘어가면 다운샘플링\n",
    "        elif (length/14) > 10:\n",
    "            df = df.resample('14D').mean()\n",
    "            df['store_id'] = name\n",
    "        \n",
    "            stores_14 = stores_14.append(df)\n",
    "            \n",
    "        # 만약 7일 단위 다운샘플링 이후 행의 개수가 10개를 넘어가면 다운샘플링 \n",
    "        elif (length/7) > 10:\n",
    "            df = df.resample('7D').mean()\n",
    "            df['store_id'] = name\n",
    "        \n",
    "            stores_7 = stores_7.append(df)\n",
    "            \n",
    "        # 혹은 다운샘플링 진행 X\n",
    "        else:\n",
    "            df['store_id'] = name\n",
    "        \n",
    "            stores_1 = stores_1.append(df)\n",
    "        \n",
    "    return stores_28, stores_14, stores_7, stores_1"
   ]
  },
  {
   "cell_type": "code",
   "execution_count": 13,
   "metadata": {},
   "outputs": [],
   "source": [
    "stores_28days, stores_14days, stores_7days, stores_1day = downsampling(test, store_names)"
   ]
  },
  {
   "cell_type": "code",
   "execution_count": 14,
   "metadata": {},
   "outputs": [],
   "source": [
    "stores_28days = stores_28days.groupby(['store_id', stores_28days.index]).sum()\n",
    "stores_14days = stores_14days.groupby(['store_id', stores_14days.index]).sum()\n",
    "stores_7days = stores_7days.groupby(['store_id', stores_7days.index]).sum()\n",
    "stores_1day = stores_1day.groupby(['store_id', stores_1day.index]).sum()"
   ]
  },
  {
   "cell_type": "code",
   "execution_count": 15,
   "metadata": {},
   "outputs": [
    {
     "name": "stdout",
     "output_type": "stream",
     "text": [
      "28일로 나뉜 가게 수: 120\n",
      "14일로 나뉜 가게 수: 38\n",
      " 7일로 나뉜 가게 수: 29\n",
      " 1일로 나뉜 가게 수: 13\n"
     ]
    }
   ],
   "source": [
    "print(\"28일로 나뉜 가게 수:\", len(stores_28days.index.get_level_values('store_id').unique()))\n",
    "print(\"14일로 나뉜 가게 수:\", len(stores_14days.index.get_level_values('store_id').unique()))\n",
    "print(\" 7일로 나뉜 가게 수:\", len(stores_7days.index.get_level_values('store_id').unique()))\n",
    "print(\" 1일로 나뉜 가게 수:\", len(stores_1day.index.get_level_values('store_id').unique()))"
   ]
  },
  {
   "cell_type": "code",
   "execution_count": null,
   "metadata": {},
   "outputs": [],
   "source": []
  },
  {
   "cell_type": "markdown",
   "metadata": {},
   "source": [
    "### log X,\n",
    "- p,d,q 0~1"
   ]
  },
  {
   "cell_type": "code",
   "execution_count": 16,
   "metadata": {},
   "outputs": [],
   "source": [
    "import warnings\n",
    "from pandas import read_csv\n",
    "from statsmodels.tsa.arima_model import ARIMA\n",
    "from sklearn.metrics import mean_squared_error\n",
    " \n",
    "# evaluate an ARIMA model for a given order (p,d,q)\n",
    "def evaluate_arima_model(X, arima_order):\n",
    "    # prepare training dataset\n",
    "    train_size = int(len(X) * 0.8)\n",
    "    train, test = X[0:train_size], X[train_size:]\n",
    "    history = [x for x in train]\n",
    "    # make predictions\n",
    "    predictions = list()\n",
    "    for t in range(len(test)):\n",
    "        model = ARIMA(history, order=arima_order)\n",
    "        model_fit = model.fit(disp=0)\n",
    "        yhat = model_fit.forecast()[0]\n",
    "        predictions.append(yhat)\n",
    "        history.append(test[t])\n",
    "     # calculate out of sample error\n",
    "    error = mean_squared_error(test, predictions)\n",
    "    return error\n",
    " \n",
    "# evaluate combinations of p, d and q values for an ARIMA model\n",
    "def evaluate_models(dataset, p_values, d_values, q_values):\n",
    "    dataset = dataset.astype('float32')\n",
    "    best_score, best_cfg = float(\"inf\"), None\n",
    "    for p in p_values:\n",
    "        for d in d_values:\n",
    "            for q in q_values:\n",
    "                order = (p,d,q)\n",
    "                try:\n",
    "                    mse = evaluate_arima_model(dataset, order)\n",
    "                    if mse < best_score:\n",
    "                        rmse = math.sqrt(mse)\n",
    "                        best_score, best_cfg = rmse, order\n",
    "                    # print('ARIMA%s RMSE=%.5f' % (order,rmse))\n",
    "                except:\n",
    "                    continue\n",
    "    print('Best ARIMA%s RMSE=%.5f' % (best_cfg, best_score))"
   ]
  },
  {
   "cell_type": "code",
   "execution_count": 17,
   "metadata": {},
   "outputs": [],
   "source": [
    "# evaluate parameters\n",
    "p_values = range(0,2)\n",
    "d_values = range(0,2)\n",
    "q_values = range(0,2)\n",
    "warnings.filterwarnings(\"ignore\")"
   ]
  },
  {
   "cell_type": "code",
   "execution_count": 34,
   "metadata": {
    "scrolled": true
   },
   "outputs": [
    {
     "name": "stdout",
     "output_type": "stream",
     "text": [
      "store_id: 0\n",
      "Best ARIMA(0, 0, 0) RMSE=77.50905\n",
      "store_id: 1\n",
      "Best ARIMA(0, 0, 0) RMSE=615.91046\n",
      "store_id: 2\n",
      "Best ARIMA(0, 0, 0) RMSE=278.26866\n",
      "store_id: 3\n",
      "Best ARIMA(0, 0, 0) RMSE=98.01003\n",
      "store_id: 4\n",
      "Best ARIMA(0, 0, 0) RMSE=55.50916\n",
      "store_id: 5\n",
      "Best ARIMA(0, 0, 0) RMSE=50.95566\n",
      "store_id: 6\n",
      "Best ARIMA(0, 0, 0) RMSE=256.08428\n",
      "store_id: 10\n",
      "Best ARIMA(0, 0, 0) RMSE=203.87905\n",
      "store_id: 12\n",
      "Best ARIMA(0, 0, 0) RMSE=13.89863\n",
      "store_id: 13\n",
      "Best ARIMA(0, 0, 0) RMSE=165.81270\n",
      "store_id: 14\n",
      "Best ARIMA(0, 0, 0) RMSE=232.25537\n",
      "store_id: 15\n",
      "Best ARIMA(0, 0, 0) RMSE=78.89835\n",
      "store_id: 17\n",
      "Best ARIMA(0, 0, 0) RMSE=15.76774\n",
      "store_id: 18\n",
      "Best ARIMA(0, 0, 0) RMSE=587.15833\n",
      "store_id: 19\n",
      "Best ARIMA(0, 0, 0) RMSE=43.08075\n",
      "store_id: 20\n",
      "Best ARIMA(0, 0, 0) RMSE=196.15278\n",
      "store_id: 22\n",
      "Best ARIMA(0, 0, 0) RMSE=199.09818\n",
      "store_id: 24\n",
      "Best ARIMA(0, 0, 0) RMSE=66.18959\n",
      "store_id: 30\n",
      "Best ARIMA(0, 0, 0) RMSE=171.80899\n",
      "store_id: 31\n",
      "Best ARIMA(0, 0, 0) RMSE=86.90128\n",
      "store_id: 33\n",
      "Best ARIMA(0, 0, 0) RMSE=247.75901\n",
      "store_id: 34\n",
      "Best ARIMA(0, 0, 0) RMSE=864.29905\n",
      "store_id: 35\n",
      "Best ARIMA(0, 0, 0) RMSE=310.55772\n",
      "store_id: 38\n",
      "Best ARIMA(0, 0, 0) RMSE=541.56698\n",
      "store_id: 39\n",
      "Best ARIMA(0, 0, 0) RMSE=100.46960\n",
      "store_id: 40\n",
      "Best ARIMA(0, 0, 0) RMSE=64.50395\n",
      "store_id: 42\n",
      "Best ARIMA(0, 0, 0) RMSE=305.13915\n",
      "store_id: 43\n",
      "Best ARIMA(0, 0, 0) RMSE=770.15721\n",
      "store_id: 48\n",
      "Best ARIMA(0, 0, 0) RMSE=175.60353\n",
      "store_id: 50\n",
      "Best ARIMA(0, 0, 0) RMSE=25.58302\n",
      "store_id: 53\n",
      "Best ARIMA(0, 0, 0) RMSE=69.53713\n",
      "store_id: 54\n",
      "Best ARIMA(0, 0, 0) RMSE=335.11972\n",
      "store_id: 55\n",
      "Best ARIMA(0, 0, 0) RMSE=519.88177\n",
      "store_id: 58\n",
      "Best ARIMA(0, 0, 0) RMSE=194.92701\n",
      "store_id: 59\n",
      "Best ARIMA(0, 0, 0) RMSE=62.72792\n",
      "store_id: 60\n",
      "Best ARIMA(0, 0, 0) RMSE=109.57604\n",
      "store_id: 62\n",
      "Best ARIMA(0, 0, 0) RMSE=201.14377\n",
      "store_id: 65\n",
      "Best ARIMA(0, 0, 0) RMSE=300.67923\n",
      "store_id: 66\n",
      "Best ARIMA(0, 0, 0) RMSE=37.90542\n",
      "store_id: 67\n",
      "Best ARIMA(0, 0, 0) RMSE=2006.35946\n",
      "store_id: 73\n",
      "Best ARIMA(0, 0, 0) RMSE=371.53559\n",
      "store_id: 74\n",
      "Best ARIMA(0, 0, 0) RMSE=248.27025\n",
      "store_id: 75\n",
      "Best ARIMA(0, 0, 0) RMSE=120.13998\n",
      "store_id: 77\n",
      "Best ARIMA(0, 0, 0) RMSE=471.52383\n",
      "store_id: 78\n",
      "Best ARIMA(0, 0, 0) RMSE=188.94037\n",
      "store_id: 79\n",
      "Best ARIMA(0, 0, 0) RMSE=95.54345\n",
      "store_id: 80\n",
      "Best ARIMA(0, 0, 0) RMSE=7238.71097\n",
      "store_id: 81\n",
      "Best ARIMA(0, 0, 0) RMSE=86.10420\n",
      "store_id: 85\n",
      "Best ARIMA(0, 0, 0) RMSE=691.07287\n",
      "store_id: 86\n",
      "Best ARIMA(0, 0, 0) RMSE=194.39279\n",
      "store_id: 88\n",
      "Best ARIMA(0, 0, 0) RMSE=143.09820\n",
      "store_id: 90\n",
      "Best ARIMA(0, 0, 0) RMSE=632.39324\n",
      "store_id: 96\n",
      "Best ARIMA(0, 0, 0) RMSE=30.21476\n",
      "store_id: 98\n",
      "Best ARIMA(0, 0, 0) RMSE=39.89569\n",
      "store_id: 100\n",
      "Best ARIMA(0, 0, 0) RMSE=140.04724\n",
      "store_id: 101\n",
      "Best ARIMA(0, 0, 0) RMSE=197.05937\n",
      "store_id: 102\n",
      "Best ARIMA(0, 0, 0) RMSE=54.68222\n",
      "store_id: 104\n",
      "Best ARIMA(0, 0, 0) RMSE=33.94133\n",
      "store_id: 105\n",
      "Best ARIMA(0, 0, 0) RMSE=215.32534\n",
      "store_id: 109\n",
      "Best ARIMA(0, 0, 0) RMSE=183.98653\n",
      "store_id: 111\n",
      "Best ARIMA(0, 0, 0) RMSE=158.92575\n",
      "store_id: 112\n",
      "Best ARIMA(0, 0, 0) RMSE=32.99071\n",
      "store_id: 113\n",
      "Best ARIMA(0, 0, 0) RMSE=501.77682\n",
      "store_id: 116\n",
      "Best ARIMA(0, 0, 0) RMSE=76.86856\n",
      "store_id: 119\n",
      "Best ARIMA(0, 0, 0) RMSE=237.34792\n",
      "store_id: 120\n",
      "Best ARIMA(0, 0, 0) RMSE=101.86003\n",
      "store_id: 121\n",
      "Best ARIMA(0, 0, 0) RMSE=150.12620\n",
      "store_id: 122\n",
      "Best ARIMA(0, 0, 0) RMSE=257.19211\n",
      "store_id: 123\n",
      "Best ARIMA(0, 0, 0) RMSE=44.79479\n",
      "store_id: 124\n",
      "Best ARIMA(0, 0, 0) RMSE=188.35588\n",
      "store_id: 125\n",
      "Best ARIMA(0, 0, 0) RMSE=121.11269\n",
      "store_id: 128\n",
      "Best ARIMA(0, 0, 0) RMSE=77.68274\n",
      "store_id: 129\n",
      "Best ARIMA(0, 0, 0) RMSE=686.64843\n",
      "store_id: 131\n",
      "Best ARIMA(0, 0, 0) RMSE=94.37216\n",
      "store_id: 132\n",
      "Best ARIMA(0, 0, 0) RMSE=44.62400\n",
      "store_id: 134\n",
      "Best ARIMA(0, 0, 0) RMSE=49.22261\n",
      "store_id: 135\n",
      "Best ARIMA(0, 0, 0) RMSE=981.60206\n",
      "store_id: 137\n",
      "Best ARIMA(0, 0, 0) RMSE=358.97669\n",
      "store_id: 140\n",
      "Best ARIMA(0, 0, 0) RMSE=62.85665\n",
      "store_id: 141\n",
      "Best ARIMA(0, 0, 0) RMSE=40.86393\n",
      "store_id: 142\n",
      "Best ARIMA(0, 0, 0) RMSE=176.69633\n",
      "store_id: 143\n",
      "Best ARIMA(0, 0, 0) RMSE=209.92391\n",
      "store_id: 144\n",
      "Best ARIMA(0, 0, 0) RMSE=71.67202\n",
      "store_id: 145\n",
      "Best ARIMA(0, 0, 0) RMSE=27.34478\n",
      "store_id: 148\n",
      "Best ARIMA(0, 0, 0) RMSE=1101.10190\n",
      "store_id: 149\n",
      "Best ARIMA(0, 0, 0) RMSE=236.67979\n",
      "store_id: 151\n",
      "Best ARIMA(0, 0, 0) RMSE=40.12739\n",
      "store_id: 152\n",
      "Best ARIMA(0, 0, 0) RMSE=863.35000\n",
      "store_id: 153\n",
      "Best ARIMA(0, 0, 0) RMSE=3271.59811\n",
      "store_id: 154\n",
      "Best ARIMA(0, 0, 0) RMSE=77.72659\n",
      "store_id: 155\n",
      "Best ARIMA(0, 0, 0) RMSE=310.06327\n",
      "store_id: 156\n",
      "Best ARIMA(0, 0, 0) RMSE=533.89766\n",
      "store_id: 158\n",
      "Best ARIMA(0, 0, 0) RMSE=28.70686\n",
      "store_id: 159\n",
      "Best ARIMA(0, 0, 0) RMSE=106.64449\n",
      "store_id: 160\n",
      "Best ARIMA(0, 0, 0) RMSE=70.36000\n",
      "store_id: 163\n",
      "Best ARIMA(0, 0, 0) RMSE=125.38155\n",
      "store_id: 165\n",
      "Best ARIMA(0, 0, 0) RMSE=70.28780\n",
      "store_id: 166\n",
      "Best ARIMA(0, 0, 0) RMSE=55.42331\n",
      "store_id: 167\n",
      "Best ARIMA(0, 0, 0) RMSE=69.47581\n",
      "store_id: 170\n",
      "Best ARIMA(0, 0, 0) RMSE=70.02083\n",
      "store_id: 171\n",
      "Best ARIMA(0, 0, 0) RMSE=40.37289\n",
      "store_id: 172\n",
      "Best ARIMA(0, 0, 0) RMSE=30.49003\n",
      "store_id: 174\n",
      "Best ARIMA(0, 0, 0) RMSE=141.13893\n",
      "store_id: 176\n",
      "Best ARIMA(0, 0, 0) RMSE=128.68209\n",
      "store_id: 177\n",
      "Best ARIMA(0, 0, 0) RMSE=235.53805\n",
      "store_id: 178\n",
      "Best ARIMA(0, 0, 0) RMSE=194.36708\n",
      "store_id: 179\n",
      "Best ARIMA(0, 0, 0) RMSE=149.34210\n",
      "store_id: 180\n",
      "Best ARIMA(0, 0, 0) RMSE=95.97583\n",
      "store_id: 182\n",
      "Best ARIMA(0, 0, 0) RMSE=240.17516\n",
      "store_id: 184\n",
      "Best ARIMA(0, 0, 0) RMSE=898.32634\n",
      "store_id: 185\n",
      "Best ARIMA(0, 0, 0) RMSE=77.77641\n",
      "store_id: 186\n",
      "Best ARIMA(0, 0, 0) RMSE=162.65855\n",
      "store_id: 189\n",
      "Best ARIMA(0, 0, 0) RMSE=50.35029\n",
      "store_id: 190\n",
      "Best ARIMA(0, 0, 0) RMSE=75.44489\n",
      "store_id: 191\n",
      "Best ARIMA(0, 0, 0) RMSE=197.35356\n",
      "store_id: 193\n",
      "Best ARIMA(0, 0, 0) RMSE=105.89903\n",
      "store_id: 194\n",
      "Best ARIMA(0, 0, 0) RMSE=135.94305\n",
      "store_id: 195\n",
      "Best ARIMA(0, 0, 0) RMSE=198.64177\n",
      "store_id: 196\n",
      "Best ARIMA(0, 0, 0) RMSE=264.13061\n",
      "store_id: 199\n",
      "Best ARIMA(0, 0, 0) RMSE=72.59438\n"
     ]
    }
   ],
   "source": [
    "for i in stores_28days.index.get_level_values('store_id').unique():\n",
    "    print(\"store_id:\",i)\n",
    "    evaluate_models(stores_28days.loc[i][['amount']].values, p_values, d_values, q_values)"
   ]
  },
  {
   "cell_type": "code",
   "execution_count": 153,
   "metadata": {},
   "outputs": [
    {
     "data": {
      "image/png": "[encoded data removed]",
      "text/plain": [
       "<Figure size 432x288 with 1 Axes>"
      ]
     },
     "execution_count": 153,
     "metadata": {},
     "output_type": "execute_result"
    },
    {
     "data": {
      "image/png": "[encoded data removed]",
      "text/plain": [
       "<Figure size 432x288 with 1 Axes>"
      ]
     },
     "metadata": {
      "needs_background": "light"
     },
     "output_type": "display_data"
    }
   ],
   "source": [
    "model = ARIMA(stores_28days.loc[0].amount, order=(0,1,0))\n",
    "results_ARIMA = model.fit(disp=-1)\n",
    "fcst = results_ARIMA.forecast(10)\n",
    "results_ARIMA.plot_predict(start=1, end=28)"
   ]
  },
  {
   "cell_type": "code",
   "execution_count": 150,
   "metadata": {},
   "outputs": [],
   "source": [
    "fcst_means = fcst[0]"
   ]
  },
  {
   "cell_type": "code",
   "execution_count": 155,
   "metadata": {},
   "outputs": [
    {
     "data": {
      "text/plain": [
       "(array([954.76802721, 940.18605442, 925.60408163, 911.02210884,\n",
       "        896.44013605, 881.85816327, 867.27619048, 852.69421769,\n",
       "        838.1122449 , 823.53027211]),\n",
       " array([175.63381919, 248.38372911, 304.20669837, 351.26763838,\n",
       "        392.72915886, 430.21323859, 464.68340739, 496.76745822,\n",
       "        526.90145757, 555.4029028 ]),\n",
       " array([[ 610.53206713, 1299.00398729],\n",
       "        [ 453.36289102, 1427.00921782],\n",
       "        [ 329.36990898, 1521.83825428],\n",
       "        [ 222.55018868, 1599.494029  ],\n",
       "        [ 126.70512901, 1666.17514309],\n",
       "        [  38.65570995, 1725.06061658],\n",
       "        [ -43.48655222, 1778.03893317],\n",
       "        [-120.95210912, 1826.34054449],\n",
       "        [-194.59563534, 1870.82012514],\n",
       "        [-265.03941428, 1912.0999585 ]]))"
      ]
     },
     "execution_count": 155,
     "metadata": {},
     "output_type": "execute_result"
    }
   ],
   "source": [
    "fcst\n",
    "# fcst[0]: mean\n",
    "# fcst[1]: std\n",
    "# fcst[2]: min max"
   ]
  },
  {
   "cell_type": "code",
   "execution_count": 260,
   "metadata": {},
   "outputs": [],
   "source": [
    "submission = pd.read_csv(\"../../Data/Price prediction/submission.csv\")\n",
    "submission_no_log = submission.copy()\n",
    "\n",
    "def forecast_arima(data, predict_days):\n",
    "    names = data.index.get_level_values(\"store_id\").unique()\n",
    "    \n",
    "    for store_i in names:\n",
    "        \n",
    "        model = ARIMA(data.loc[store_i].amount, order=(0,1,0))\n",
    "        results_ARIMA = model.fit(disp=-1)\n",
    "        \n",
    "        if predict_days == 28:\n",
    "            fcst = results_ARIMA.forecast(4)\n",
    "        elif predict_days == 14:\n",
    "            fcst = results_ARIMA.forecast(7)\n",
    "        elif predict_days == 7:\n",
    "            fcst = results_ARIMA.forecast(14)\n",
    "        elif predict_days == 1:\n",
    "            fcst = results_ARIMA.forecast(100)\n",
    "        \n",
    "        prediction = fcst[0].sum()\n",
    "        submission_no_log.loc[submission_no_log['store_id'] == store_i, 'total_sales'] = prediction"
   ]
  },
  {
   "cell_type": "code",
   "execution_count": 261,
   "metadata": {},
   "outputs": [],
   "source": [
    "forecast_arima(stores_28days, 28)\n",
    "forecast_arima(stores_14days, 14)\n",
    "forecast_arima(stores_7days, 7)\n",
    "\n",
    "stores_1day.amount = stores_1day.amount.astype(float)\n",
    "forecast_arima(stores_1day, 1)"
   ]
  },
  {
   "cell_type": "code",
   "execution_count": 239,
   "metadata": {
    "scrolled": true
   },
   "outputs": [],
   "source": []
  },
  {
   "cell_type": "code",
   "execution_count": 262,
   "metadata": {},
   "outputs": [],
   "source": [
    "submission_no_log[submission_no_log['total_sales'] < 0].total_sales = 0"
   ]
  },
  {
   "cell_type": "code",
   "execution_count": 263,
   "metadata": {},
   "outputs": [],
   "source": [
    "submission_no_log.to_csv(\"submission_no_log.csv\", index=False)\n",
    "# 최종 결과: 140000"
   ]
  },
  {
   "cell_type": "markdown",
   "metadata": {},
   "source": [
    "### log"
   ]
  },
  {
   "cell_type": "code",
   "execution_count": 25,
   "metadata": {
    "scrolled": false
   },
   "outputs": [
    {
     "name": "stdout",
     "output_type": "stream",
     "text": [
      "28days-------------------\n",
      "                     amount  holyday\n",
      "store_id                            \n",
      "18       2017-07-11     0.0      0.0\n",
      "14days-------------------\n",
      "                     amount  holyday\n",
      "store_id                            \n",
      "138      2017-06-22     0.0      0.0\n",
      "162      2016-12-21     0.0      0.0\n",
      "         2017-01-04     0.0      0.0\n",
      "         2017-11-08     0.0      0.0\n",
      "         2018-01-03     0.0      0.0\n",
      "175      2016-10-10     0.0      0.0\n",
      "         2017-01-02     0.0      0.0\n",
      "         2017-03-13     0.0      0.0\n",
      "         2018-01-15     0.0      0.0\n",
      "181      2016-10-14     0.0      0.0\n",
      "         2016-10-28     0.0      0.0\n",
      "198      2017-09-14     0.0      0.0\n",
      "7days-------------------\n",
      "                     amount  holyday\n",
      "store_id                            \n",
      "7        2017-11-25     0.0      0.0\n",
      "         2018-03-03     0.0      0.0\n",
      "25       2018-01-06     0.0      0.0\n",
      "         2018-01-13     0.0      0.0\n",
      "         2018-01-27     0.0      0.0\n",
      "...                     ...      ...\n",
      "157      2017-11-06     0.0      0.0\n",
      "         2017-11-27     0.0      0.0\n",
      "         2017-12-25     0.0      0.0\n",
      "         2018-02-05     0.0      0.0\n",
      "         2018-03-12     0.0      0.0\n",
      "\n",
      "[213 rows x 2 columns]\n",
      "1day-------------------\n",
      "                     date  amount  holyday\n",
      "store_id                                  \n",
      "93       2018-02-07     0       0        0\n"
     ]
    }
   ],
   "source": [
    "# log를 취했을때 inf가 되는 곳이 있는지 확인:\n",
    "print(\"28days-------------------\")\n",
    "print(stores_28days[stores_28days['amount']==0])\n",
    "print(\"14days-------------------\")\n",
    "print(stores_14days[stores_14days['amount']==0])\n",
    "print(\"7days-------------------\")\n",
    "print(stores_7days[stores_7days['amount']==0])\n",
    "print(\"1day-------------------\")\n",
    "print(stores_1day[stores_1day['amount']==0])"
   ]
  },
  {
   "cell_type": "code",
   "execution_count": null,
   "metadata": {},
   "outputs": [],
   "source": []
  },
  {
   "cell_type": "code",
   "execution_count": 49,
   "metadata": {},
   "outputs": [],
   "source": [
    "from statsmodels.tsa.arima_model import ARIMA\n",
    "from statsmodels.tsa.stattools import adfuller, kpss\n",
    "from statsmodels.graphics.tsaplots import plot_acf, plot_pacf\n",
    "import math\n",
    "import seaborn as sns\n",
    "import warnings\n",
    "import statsmodels.api as sm\n",
    "import matplotlib.pyplot as plt\n",
    "import itertools\n",
    "import scipy.stats as st\n",
    "from datetime import datetime, timedelta"
   ]
  },
  {
   "cell_type": "code",
   "execution_count": 51,
   "metadata": {},
   "outputs": [],
   "source": [
    "def get_optimal_params(y):\n",
    "    # Define the p, d and q parameters to take any value between 0 and 1\n",
    "\n",
    "    param_dict = {}\n",
    "    for param in pdq:\n",
    "        try:\n",
    "            mod = sm.tsa.statespace.SARIMAX(y,\n",
    "                                            order=param,\n",
    "                                            )\n",
    "            results = mod.fit()\n",
    "            model = ARIMA(y, order=param)\n",
    "            results_ARIMA = model.fit(disp=-1)\n",
    "            results_ARIMA.summary()\n",
    "            param_dict[results.aic] = param\n",
    "        except:\n",
    "            continue\n",
    "\n",
    "    min_aic = min(param_dict.keys())\n",
    "    optimal_params = param_dict[min_aic]\n",
    "    return optimal_params"
   ]
  },
  {
   "cell_type": "code",
   "execution_count": 52,
   "metadata": {},
   "outputs": [],
   "source": [
    "max_pdq = 2\n",
    "p = d = q = range(0, max_pdq)\n",
    "pdq = list(itertools.product(p, d, q))\n",
    "\n",
    "\n",
    "pdqs = dict()"
   ]
  },
  {
   "cell_type": "code",
   "execution_count": 53,
   "metadata": {},
   "outputs": [],
   "source": [
    "# 원본에서는 resample하기 전에 porb_of_no_sales를 만든다."
   ]
  },
  {
   "cell_type": "code",
   "execution_count": 57,
   "metadata": {},
   "outputs": [],
   "source": [
    "# fcst_period = forcast period\n",
    "\n",
    "def arima_main(input_df, sampling_period_days, fcst_period):\n",
    "    prob_of_no_sales = len(input_df[(input_df.amount == 0) | (input_df.amount.isna())]) / len(input_df)\n",
    "    ts_log = np.log(input_df.amount)\n",
    "    ts_log = ts_log[~ts_log.isin([np.nan, np.inf, -np.inf])]\n",
    "    \n",
    "    if sampling_period_days == 28:\n",
    "        expected_return_pct_lending = 0.13 * (100 + 16 + 6.8) / 365\n",
    "    elif sampling_period_days == 14:\n",
    "        expected_return_pct_lending = 0.13 * (100 + 16 + 14) / 365\n",
    "    else:\n",
    "        expected_return_pct_lending == 0.13 * (100 + 16 + 6.8) / 365\n",
    "    \n",
    "    \n",
    "    expected_loss_pct_lending = 1.00\n",
    "    optimal_prob = expected_loss_pct_lending / (expected_loss_pct_lending + expected_return_pct_lending)\n",
    "    optimal_z_score = st.norm.ppf(optimal_prob)\n",
    "\n",
    "    optimal_params = get_optimal_params(ts_log)\n",
    "    pdqs[store_i] = optimal_params    # store_i = store_id\n",
    "\n",
    "    model = ARIMA(ts_log, order=optimal_params)\n",
    "    results_ARIMA = model.fit(disp=-1)\n",
    "    fcst = results_ARIMA.forecast(fcst_period)\n",
    "\n",
    "    fcst_means = fcst[0]\n",
    "    fcst_stds = fcst[1]\n",
    "    fcst_i = fcst_means - (fcst_stds * optimal_z_score)\n",
    "    fcst_i = sum(map(lambda x: np.exp(x) if np.exp(x) > 0 else 0, fcst_i))\n",
    "    prediction_i = fcst_i * (1 - prob_of_no_sales)\n",
    "    return prediction_i"
   ]
  },
  {
   "cell_type": "code",
   "execution_count": 65,
   "metadata": {},
   "outputs": [],
   "source": [
    "submission = pd.read_csv(\"../../Data/Price prediction/submission.csv\")"
   ]
  },
  {
   "cell_type": "code",
   "execution_count": 66,
   "metadata": {},
   "outputs": [],
   "source": [
    "submission_copy = submission.copy()"
   ]
  },
  {
   "cell_type": "code",
   "execution_count": 67,
   "metadata": {},
   "outputs": [],
   "source": [
    "for store_i in stores_28days.index.get_level_values('store_id').unique():\n",
    "    prediction_i = arima_main(stores_28days, sampling_period_days=28, fcst_period=3)\n",
    "    submission_copy.loc[submission_copy['store_id'] == store_i, 'total_sales'] = prediction_i"
   ]
  },
  {
   "cell_type": "code",
   "execution_count": 69,
   "metadata": {},
   "outputs": [],
   "source": [
    "for store_i in stores_14days.index.get_level_values('store_id').unique():\n",
    "    prediction_i = arima_main(stores_14days, sampling_period_days=14, fcst_period=7)\n",
    "    submission_copy.loc[submission_copy['store_id'] == store_i, 'total_sales'] = prediction_i"
   ]
  },
  {
   "cell_type": "code",
   "execution_count": 70,
   "metadata": {},
   "outputs": [
    {
     "ename": "UnboundLocalError",
     "evalue": "local variable 'expected_return_pct_lending' referenced before assignment",
     "output_type": "error",
     "traceback": [
      "\u001b[1;31m---------------------------------------------------------------------------\u001b[0m",
      "\u001b[1;31mUnboundLocalError\u001b[0m                         Traceback (most recent call last)",
      "\u001b[1;32m<ipython-input-70-daa26819e587>\u001b[0m in \u001b[0;36m<module>\u001b[1;34m\u001b[0m\n\u001b[0;32m      1\u001b[0m \u001b[1;32mfor\u001b[0m \u001b[0mstore_i\u001b[0m \u001b[1;32min\u001b[0m \u001b[0mstores_7days\u001b[0m\u001b[1;33m.\u001b[0m\u001b[0mindex\u001b[0m\u001b[1;33m.\u001b[0m\u001b[0mget_level_values\u001b[0m\u001b[1;33m(\u001b[0m\u001b[1;34m'store_id'\u001b[0m\u001b[1;33m)\u001b[0m\u001b[1;33m.\u001b[0m\u001b[0munique\u001b[0m\u001b[1;33m(\u001b[0m\u001b[1;33m)\u001b[0m\u001b[1;33m:\u001b[0m\u001b[1;33m\u001b[0m\u001b[1;33m\u001b[0m\u001b[0m\n\u001b[1;32m----> 2\u001b[1;33m     \u001b[0mprediction_i\u001b[0m \u001b[1;33m=\u001b[0m \u001b[0marima_main\u001b[0m\u001b[1;33m(\u001b[0m\u001b[0mstores_7days\u001b[0m\u001b[1;33m,\u001b[0m \u001b[0msampling_period_days\u001b[0m\u001b[1;33m=\u001b[0m\u001b[1;36m7\u001b[0m\u001b[1;33m,\u001b[0m \u001b[0mfcst_period\u001b[0m\u001b[1;33m=\u001b[0m\u001b[1;36m12\u001b[0m\u001b[1;33m)\u001b[0m\u001b[1;33m\u001b[0m\u001b[1;33m\u001b[0m\u001b[0m\n\u001b[0m\u001b[0;32m      3\u001b[0m     \u001b[0msubmission_copy\u001b[0m\u001b[1;33m.\u001b[0m\u001b[0mloc\u001b[0m\u001b[1;33m[\u001b[0m\u001b[0msubmission_copy\u001b[0m\u001b[1;33m[\u001b[0m\u001b[1;34m'store_id'\u001b[0m\u001b[1;33m]\u001b[0m \u001b[1;33m==\u001b[0m \u001b[0mstore_i\u001b[0m\u001b[1;33m,\u001b[0m \u001b[1;34m'total_sales'\u001b[0m\u001b[1;33m]\u001b[0m \u001b[1;33m=\u001b[0m \u001b[0mprediction_i\u001b[0m\u001b[1;33m\u001b[0m\u001b[1;33m\u001b[0m\u001b[0m\n",
      "\u001b[1;32m<ipython-input-57-0455b4c14cd8>\u001b[0m in \u001b[0;36marima_main\u001b[1;34m(input_df, sampling_period_days, fcst_period)\u001b[0m\n\u001b[0;32m     11\u001b[0m         \u001b[0mexpected_return_pct_lending\u001b[0m \u001b[1;33m=\u001b[0m \u001b[1;36m0.13\u001b[0m \u001b[1;33m*\u001b[0m \u001b[1;33m(\u001b[0m\u001b[1;36m100\u001b[0m \u001b[1;33m+\u001b[0m \u001b[1;36m16\u001b[0m \u001b[1;33m+\u001b[0m \u001b[1;36m14\u001b[0m\u001b[1;33m)\u001b[0m \u001b[1;33m/\u001b[0m \u001b[1;36m365\u001b[0m\u001b[1;33m\u001b[0m\u001b[1;33m\u001b[0m\u001b[0m\n\u001b[0;32m     12\u001b[0m     \u001b[1;32melse\u001b[0m\u001b[1;33m:\u001b[0m\u001b[1;33m\u001b[0m\u001b[1;33m\u001b[0m\u001b[0m\n\u001b[1;32m---> 13\u001b[1;33m         \u001b[0mexpected_return_pct_lending\u001b[0m \u001b[1;33m==\u001b[0m \u001b[1;36m0.13\u001b[0m \u001b[1;33m*\u001b[0m \u001b[1;33m(\u001b[0m\u001b[1;36m100\u001b[0m \u001b[1;33m+\u001b[0m \u001b[1;36m16\u001b[0m \u001b[1;33m+\u001b[0m \u001b[1;36m6.8\u001b[0m\u001b[1;33m)\u001b[0m \u001b[1;33m/\u001b[0m \u001b[1;36m365\u001b[0m\u001b[1;33m\u001b[0m\u001b[1;33m\u001b[0m\u001b[0m\n\u001b[0m\u001b[0;32m     14\u001b[0m \u001b[1;33m\u001b[0m\u001b[0m\n\u001b[0;32m     15\u001b[0m \u001b[1;33m\u001b[0m\u001b[0m\n",
      "\u001b[1;31mUnboundLocalError\u001b[0m: local variable 'expected_return_pct_lending' referenced before assignment"
     ]
    }
   ],
   "source": [
    "for store_i in stores_7days.index.get_level_values('store_id').unique():\n",
    "    prediction_i = arima_main(stores_7days, sampling_period_days=7, fcst_period=12)\n",
    "    submission_copy.loc[submission_copy['store_id'] == store_i, 'total_sales'] = prediction_i"
   ]
  },
  {
   "cell_type": "code",
   "execution_count": null,
   "metadata": {},
   "outputs": [],
   "source": [
    "for store_i in stores_1day.index.get_level_values('store_id').unique():\n",
    "    test_df = test_df_daily[len(test_df_daily) % 14:].resample('14D').sum()\n",
    "\n",
    "    prob_of_no_sales = len(test_df[(test_df.amount == 0) | (test_df.amount.isna())]) / len(test_df)\n",
    "    ts_log = ts_log[~ts_log.isin([np.nan, np.inf, -np.inf])]\n",
    "    ts_log_wkly = np.log(test_df.amount)\n",
    "\n",
    "    estimated_amt = np.exp(ts_log_wkly.mean() - ts_log_wkly.std() * optimal_z_score) * (1 - prob_of_no_sales)\n",
    "    prediction_i = estimated_amt * mean_period"
   ]
  },
  {
   "cell_type": "code",
   "execution_count": null,
   "metadata": {},
   "outputs": [],
   "source": []
  }
 ],
 "metadata": {
  "kernelspec": {
   "display_name": "Python 3",
   "language": "python",
   "name": "python3"
  },
  "language_info": {
   "codemirror_mode": {
    "name": "ipython",
    "version": 3
   },
   "file_extension": ".py",
   "mimetype": "text/x-python",
   "name": "python",
   "nbconvert_exporter": "python",
   "pygments_lexer": "ipython3",
   "version": "3.7.7"
  }
 },
 "nbformat": 4,
 "nbformat_minor": 4
}
